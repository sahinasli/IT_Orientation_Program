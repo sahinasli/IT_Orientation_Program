{
  "nbformat": 4,
  "nbformat_minor": 0,
  "metadata": {
    "colab": {
      "provenance": []
    },
    "kernelspec": {
      "name": "python3",
      "display_name": "Python 3"
    },
    "language_info": {
      "name": "python"
    }
  },
  "cells": [
    {
      "cell_type": "markdown",
      "source": [
        "**Link : https://www.geeksforgeeks.org/python-arithmetic-operators/**\n",
        "\n",
        "**Link 2 - Python official documentation -Print function: https://docs.python.org/3/library/functions.html#print**\n",
        "\n",
        "**Link 3 - Print function: https://www.w3schools.com/python/ref_func_print.asp#:~:text=The%20print()%20function%20prints,before%20written%20to%20the%20screen.**\n",
        "\n",
        "**Link 4- Python official documentation : https://docs.python.org/3/reference/lexical_analysis.html**\n",
        "\n",
        "**Link 5 - Understanding Boolean Logic: https://www.geeksforgeeks.org/understanding-boolean-logic-in-python-3/**\n",
        "\n",
        "**Link 6 - Python Booleans: https://realpython.com/python-boolean/**\n",
        "\n",
        "**Link 7 - What are Boolean Operators in Python: https://www.tutorialspoint.com/What-are-boolean-operators-in-Python**\n",
        "\n",
        "\n",
        "\n"
      ],
      "metadata": {
        "id": "KmD-JjKdYlEE"
      }
    },
    {
      "cell_type": "code",
      "execution_count": null,
      "metadata": {
        "colab": {
          "base_uri": "https://localhost:8080/"
        },
        "id": "o7XqWLBeYhqH",
        "outputId": "e624d342-52bd-41ca-a214-679299025b45"
      },
      "outputs": [
        {
          "output_type": "execute_result",
          "data": {
            "text/plain": [
              "complex"
            ]
          },
          "metadata": {},
          "execution_count": 1
        }
      ],
      "source": [
        "complex_num = 4j + 5\n",
        "\n",
        "type(complex_num)"
      ]
    },
    {
      "cell_type": "code",
      "source": [
        "bool_var = True\n"
      ],
      "metadata": {
        "id": "JJVTn23S1toD"
      },
      "execution_count": null,
      "outputs": []
    },
    {
      "cell_type": "code",
      "source": [
        "num = 55\n",
        "\n",
        "type(num)"
      ],
      "metadata": {
        "colab": {
          "base_uri": "https://localhost:8080/"
        },
        "id": "eCH470iU2koL",
        "outputId": "13f3cd4d-ffb2-4818-9546-09b38330eb8c"
      },
      "execution_count": null,
      "outputs": [
        {
          "output_type": "execute_result",
          "data": {
            "text/plain": [
              "int"
            ]
          },
          "metadata": {},
          "execution_count": 5
        }
      ]
    },
    {
      "cell_type": "code",
      "source": [
        "type(str(num))"
      ],
      "metadata": {
        "colab": {
          "base_uri": "https://localhost:8080/"
        },
        "id": "eIVNCmRq2kqk",
        "outputId": "d3406f32-ddb0-4e38-b884-3a81691cb415"
      },
      "execution_count": null,
      "outputs": [
        {
          "output_type": "execute_result",
          "data": {
            "text/plain": [
              "str"
            ]
          },
          "metadata": {},
          "execution_count": 7
        }
      ]
    },
    {
      "cell_type": "code",
      "source": [
        "num = str(num)\n",
        "type(num)"
      ],
      "metadata": {
        "colab": {
          "base_uri": "https://localhost:8080/"
        },
        "id": "cTqxElwn2kso",
        "outputId": "e16cc7cd-9ef3-42b0-9333-ef6a1f055471"
      },
      "execution_count": null,
      "outputs": [
        {
          "output_type": "execute_result",
          "data": {
            "text/plain": [
              "str"
            ]
          },
          "metadata": {},
          "execution_count": 9
        }
      ]
    },
    {
      "cell_type": "code",
      "source": [
        "sayi = 54.0\n",
        "\n",
        "type(sayi)"
      ],
      "metadata": {
        "colab": {
          "base_uri": "https://localhost:8080/"
        },
        "id": "mn48RUf534FU",
        "outputId": "5b3b2e84-00e8-404c-b058-f22f6af78d83"
      },
      "execution_count": null,
      "outputs": [
        {
          "output_type": "execute_result",
          "data": {
            "text/plain": [
              "float"
            ]
          },
          "metadata": {},
          "execution_count": 10
        }
      ]
    },
    {
      "cell_type": "code",
      "source": [
        "sayi = int(sayi)"
      ],
      "metadata": {
        "id": "kCCkPBXX34H4"
      },
      "execution_count": null,
      "outputs": []
    },
    {
      "cell_type": "code",
      "source": [
        "type(sayi)"
      ],
      "metadata": {
        "colab": {
          "base_uri": "https://localhost:8080/"
        },
        "id": "rQpztIhd34KR",
        "outputId": "1f7567e2-90e9-48b8-a973-97291c113c89"
      },
      "execution_count": null,
      "outputs": [
        {
          "output_type": "execute_result",
          "data": {
            "text/plain": [
              "int"
            ]
          },
          "metadata": {},
          "execution_count": 12
        }
      ]
    },
    {
      "cell_type": "code",
      "source": [
        "sayi"
      ],
      "metadata": {
        "colab": {
          "base_uri": "https://localhost:8080/"
        },
        "id": "uLFDWpu434Mh",
        "outputId": "6c54a92c-385d-41ba-efae-af23d521ddd5"
      },
      "execution_count": null,
      "outputs": [
        {
          "output_type": "execute_result",
          "data": {
            "text/plain": [
              "54"
            ]
          },
          "metadata": {},
          "execution_count": 13
        }
      ]
    },
    {
      "cell_type": "code",
      "source": [
        "number = 65\n",
        "\n",
        "type(number)"
      ],
      "metadata": {
        "colab": {
          "base_uri": "https://localhost:8080/"
        },
        "id": "VICQ49Bj47jy",
        "outputId": "3b8507c0-a603-4c05-b9a0-478d35cff37b"
      },
      "execution_count": null,
      "outputs": [
        {
          "output_type": "execute_result",
          "data": {
            "text/plain": [
              "int"
            ]
          },
          "metadata": {},
          "execution_count": 14
        }
      ]
    },
    {
      "cell_type": "code",
      "source": [
        "float(number)"
      ],
      "metadata": {
        "colab": {
          "base_uri": "https://localhost:8080/"
        },
        "id": "LQCsJ3jw5Q7h",
        "outputId": "b52d646d-7fc4-4100-8169-01d4ec3f415b"
      },
      "execution_count": null,
      "outputs": [
        {
          "output_type": "execute_result",
          "data": {
            "text/plain": [
              "65.0"
            ]
          },
          "metadata": {},
          "execution_count": 16
        }
      ]
    },
    {
      "cell_type": "code",
      "source": [
        "print(float(number))"
      ],
      "metadata": {
        "colab": {
          "base_uri": "https://localhost:8080/"
        },
        "id": "srWFN1vp5GYv",
        "outputId": "34ffb47b-69b4-4f27-8151-f2f4d526afc1"
      },
      "execution_count": null,
      "outputs": [
        {
          "output_type": "stream",
          "name": "stdout",
          "text": [
            "65.0\n"
          ]
        }
      ]
    },
    {
      "cell_type": "code",
      "source": [
        "sayi1 = 72.0\n",
        "sayi2 = 72\n",
        "\n",
        "sayi1 == sayi2"
      ],
      "metadata": {
        "colab": {
          "base_uri": "https://localhost:8080/"
        },
        "id": "fsmfYEgU5N2b",
        "outputId": "c09c3f47-a16f-4beb-fcfd-956d9ca06e6d"
      },
      "execution_count": null,
      "outputs": [
        {
          "output_type": "execute_result",
          "data": {
            "text/plain": [
              "True"
            ]
          },
          "metadata": {},
          "execution_count": 19
        }
      ]
    },
    {
      "cell_type": "code",
      "source": [
        "print(id(sayi1))\n",
        "print(id(sayi2))"
      ],
      "metadata": {
        "colab": {
          "base_uri": "https://localhost:8080/"
        },
        "id": "pm3xHRrw5N5I",
        "outputId": "24d835e1-71c5-49a8-9e9f-232dfbd91165"
      },
      "execution_count": null,
      "outputs": [
        {
          "output_type": "stream",
          "name": "stdout",
          "text": [
            "138722788646928\n",
            "138724058581456\n"
          ]
        }
      ]
    },
    {
      "cell_type": "code",
      "source": [
        "num = \"55\"\n",
        "\n",
        "type(num)"
      ],
      "metadata": {
        "colab": {
          "base_uri": "https://localhost:8080/"
        },
        "id": "IqbsaS0K5N9E",
        "outputId": "57cd27ac-c201-42c5-afc1-969fac46d523"
      },
      "execution_count": null,
      "outputs": [
        {
          "output_type": "execute_result",
          "data": {
            "text/plain": [
              "str"
            ]
          },
          "metadata": {},
          "execution_count": 21
        }
      ]
    },
    {
      "cell_type": "code",
      "source": [
        "num = int(num)\n",
        "print(num)\n",
        "print(type(num))\n"
      ],
      "metadata": {
        "colab": {
          "base_uri": "https://localhost:8080/"
        },
        "id": "2nXpRe5W6BgI",
        "outputId": "b2b37769-66a6-4502-da24-28c1a783cb7c"
      },
      "execution_count": null,
      "outputs": [
        {
          "output_type": "stream",
          "name": "stdout",
          "text": [
            "55\n",
            "<class 'int'>\n"
          ]
        }
      ]
    },
    {
      "cell_type": "code",
      "source": [
        "metin = '556a3'\n",
        "\n",
        "type(metin)"
      ],
      "metadata": {
        "colab": {
          "base_uri": "https://localhost:8080/"
        },
        "id": "Q7OpYDTg6Big",
        "outputId": "4d58daea-25fa-48e3-c6e7-bacb21866425"
      },
      "execution_count": null,
      "outputs": [
        {
          "output_type": "execute_result",
          "data": {
            "text/plain": [
              "str"
            ]
          },
          "metadata": {},
          "execution_count": 25
        }
      ]
    },
    {
      "cell_type": "code",
      "source": [
        "int(metin)"
      ],
      "metadata": {
        "colab": {
          "base_uri": "https://localhost:8080/",
          "height": 176
        },
        "id": "GDwvOEl66BlJ",
        "outputId": "3ae09bc0-e8f5-4ca2-afa9-776bef9aa276"
      },
      "execution_count": null,
      "outputs": [
        {
          "output_type": "error",
          "ename": "ValueError",
          "evalue": "ignored",
          "traceback": [
            "\u001b[0;31m---------------------------------------------------------------------------\u001b[0m",
            "\u001b[0;31mValueError\u001b[0m                                Traceback (most recent call last)",
            "\u001b[0;32m<ipython-input-26-d580c4b3a49c>\u001b[0m in \u001b[0;36m<cell line: 1>\u001b[0;34m()\u001b[0m\n\u001b[0;32m----> 1\u001b[0;31m \u001b[0mint\u001b[0m\u001b[0;34m(\u001b[0m\u001b[0mmetin\u001b[0m\u001b[0;34m)\u001b[0m\u001b[0;34m\u001b[0m\u001b[0;34m\u001b[0m\u001b[0m\n\u001b[0m",
            "\u001b[0;31mValueError\u001b[0m: invalid literal for int() with base 10: '556a3'"
          ]
        }
      ]
    },
    {
      "cell_type": "code",
      "source": [
        "float(metin)"
      ],
      "metadata": {
        "colab": {
          "base_uri": "https://localhost:8080/",
          "height": 176
        },
        "id": "JH9sEELQ6Bnl",
        "outputId": "a3d2a840-548d-4895-99d6-a2ce28088692"
      },
      "execution_count": null,
      "outputs": [
        {
          "output_type": "error",
          "ename": "ValueError",
          "evalue": "ignored",
          "traceback": [
            "\u001b[0;31m---------------------------------------------------------------------------\u001b[0m",
            "\u001b[0;31mValueError\u001b[0m                                Traceback (most recent call last)",
            "\u001b[0;32m<ipython-input-27-d17960929634>\u001b[0m in \u001b[0;36m<cell line: 1>\u001b[0;34m()\u001b[0m\n\u001b[0;32m----> 1\u001b[0;31m \u001b[0mfloat\u001b[0m\u001b[0;34m(\u001b[0m\u001b[0mmetin\u001b[0m\u001b[0;34m)\u001b[0m\u001b[0;34m\u001b[0m\u001b[0;34m\u001b[0m\u001b[0m\n\u001b[0m",
            "\u001b[0;31mValueError\u001b[0m: could not convert string to float: '556a3'"
          ]
        }
      ]
    },
    {
      "cell_type": "code",
      "source": [
        "metin.isdigit()"
      ],
      "metadata": {
        "colab": {
          "base_uri": "https://localhost:8080/"
        },
        "id": "5bL9UXRr6BqA",
        "outputId": "61bb0dd2-bd01-4544-9ad5-1c8ed2c6e8e3"
      },
      "execution_count": null,
      "outputs": [
        {
          "output_type": "execute_result",
          "data": {
            "text/plain": [
              "False"
            ]
          },
          "metadata": {},
          "execution_count": 28
        }
      ]
    },
    {
      "cell_type": "code",
      "source": [
        "pi = 3.14\n",
        "type(pi)"
      ],
      "metadata": {
        "colab": {
          "base_uri": "https://localhost:8080/"
        },
        "id": "XQ-vzlZE6Bru",
        "outputId": "ae164b26-de2e-41ba-ac5a-4a1c54a3271c"
      },
      "execution_count": null,
      "outputs": [
        {
          "output_type": "execute_result",
          "data": {
            "text/plain": [
              "float"
            ]
          },
          "metadata": {},
          "execution_count": 29
        }
      ]
    },
    {
      "cell_type": "code",
      "source": [
        "converted_pi = str(pi)\n",
        "print(converted_pi)\n",
        "print(type(converted_pi))"
      ],
      "metadata": {
        "colab": {
          "base_uri": "https://localhost:8080/"
        },
        "id": "oRsxLFZ37RIo",
        "outputId": "b949d7e1-ce25-4979-e5b7-018898b7b12b"
      },
      "execution_count": null,
      "outputs": [
        {
          "output_type": "stream",
          "name": "stdout",
          "text": [
            "3.14\n",
            "<class 'str'>\n"
          ]
        }
      ]
    },
    {
      "cell_type": "code",
      "source": [
        "x = 39\n",
        "v = \"11\"\n",
        "y = \"2.5\"\n",
        "z = \"I am at_\"\n",
        "\n",
        "print(x - int(v))\n",
        "print(x - float(y))\n",
        "print(z + str(x))"
      ],
      "metadata": {
        "colab": {
          "base_uri": "https://localhost:8080/"
        },
        "id": "2pFeBh1x7RLG",
        "outputId": "ccfb9215-a947-429b-d2cd-503422e1fbbf"
      },
      "execution_count": null,
      "outputs": [
        {
          "output_type": "stream",
          "name": "stdout",
          "text": [
            "28\n",
            "36.5\n",
            "I am at_39\n"
          ]
        }
      ]
    },
    {
      "cell_type": "code",
      "source": [
        "\"clarus\" + \"way\""
      ],
      "metadata": {
        "colab": {
          "base_uri": "https://localhost:8080/",
          "height": 35
        },
        "id": "lGRjmEsp7RNa",
        "outputId": "b1f76286-9f01-4f66-a718-70c9fcc9fc97"
      },
      "execution_count": null,
      "outputs": [
        {
          "output_type": "execute_result",
          "data": {
            "text/plain": [
              "'clarusway'"
            ],
            "application/vnd.google.colaboratory.intrinsic+json": {
              "type": "string"
            }
          },
          "metadata": {},
          "execution_count": 33
        }
      ]
    },
    {
      "cell_type": "code",
      "source": [
        "number_int = 123  # integer\n",
        "number_flt = 1.23  # float\n",
        "\n",
        "number_new = number_int + number_flt\n",
        "print(number_new)\n",
        "print(\"datatype of number_int:\", type(number_int))\n",
        "print(\"datatype of number_flt:\", type(number_flt))\n",
        "\n",
        "print(\"Value of number_new:\", number_new)\n",
        "print(\"datatype of number_new:\", type(number_new))"
      ],
      "metadata": {
        "colab": {
          "base_uri": "https://localhost:8080/"
        },
        "id": "5U93i31Q81r0",
        "outputId": "ccca0770-c484-44ce-8ac6-f3598e8c9d7d"
      },
      "execution_count": null,
      "outputs": [
        {
          "output_type": "stream",
          "name": "stdout",
          "text": [
            "124.23\n",
            "datatype of number_int: <class 'int'>\n",
            "datatype of number_flt: <class 'float'>\n",
            "Value of number_new: 124.23\n",
            "datatype of number_new: <class 'float'>\n"
          ]
        }
      ]
    },
    {
      "cell_type": "code",
      "source": [
        "number_int = 123  # int\n",
        "number_str = \"456\"  # str\n",
        "\n",
        "print(\"Data type of number_int:\", type(number_int))\n",
        "print(\"Data type of number_str:\", type(number_str))\n",
        "\n",
        "print(number_int + number_str)"
      ],
      "metadata": {
        "colab": {
          "base_uri": "https://localhost:8080/",
          "height": 245
        },
        "id": "CgQpilvh81uS",
        "outputId": "6f41b6d8-2ef2-4f29-c154-7ae54ef2fb84"
      },
      "execution_count": null,
      "outputs": [
        {
          "output_type": "stream",
          "name": "stdout",
          "text": [
            "Data type of number_int: <class 'int'>\n",
            "Data type of number_str: <class 'str'>\n"
          ]
        },
        {
          "output_type": "error",
          "ename": "TypeError",
          "evalue": "ignored",
          "traceback": [
            "\u001b[0;31m---------------------------------------------------------------------------\u001b[0m",
            "\u001b[0;31mTypeError\u001b[0m                                 Traceback (most recent call last)",
            "\u001b[0;32m<ipython-input-39-9248659f0586>\u001b[0m in \u001b[0;36m<cell line: 7>\u001b[0;34m()\u001b[0m\n\u001b[1;32m      5\u001b[0m \u001b[0mprint\u001b[0m\u001b[0;34m(\u001b[0m\u001b[0;34m\"Data type of number_str:\"\u001b[0m\u001b[0;34m,\u001b[0m \u001b[0mtype\u001b[0m\u001b[0;34m(\u001b[0m\u001b[0mnumber_str\u001b[0m\u001b[0;34m)\u001b[0m\u001b[0;34m)\u001b[0m\u001b[0;34m\u001b[0m\u001b[0;34m\u001b[0m\u001b[0m\n\u001b[1;32m      6\u001b[0m \u001b[0;34m\u001b[0m\u001b[0m\n\u001b[0;32m----> 7\u001b[0;31m \u001b[0mprint\u001b[0m\u001b[0;34m(\u001b[0m\u001b[0mnumber_int\u001b[0m \u001b[0;34m+\u001b[0m \u001b[0mnumber_str\u001b[0m\u001b[0;34m)\u001b[0m\u001b[0;34m\u001b[0m\u001b[0;34m\u001b[0m\u001b[0m\n\u001b[0m",
            "\u001b[0;31mTypeError\u001b[0m: unsupported operand type(s) for +: 'int' and 'str'"
          ]
        }
      ]
    },
    {
      "cell_type": "code",
      "source": [
        "\"12\" + 8  # elma ile elma armut ile armut toplanabilir."
      ],
      "metadata": {
        "colab": {
          "base_uri": "https://localhost:8080/",
          "height": 176
        },
        "id": "1czGjzvU81wc",
        "outputId": "2f0b5312-e544-4568-8543-d8c160fe11b1"
      },
      "execution_count": null,
      "outputs": [
        {
          "output_type": "error",
          "ename": "TypeError",
          "evalue": "ignored",
          "traceback": [
            "\u001b[0;31m---------------------------------------------------------------------------\u001b[0m",
            "\u001b[0;31mTypeError\u001b[0m                                 Traceback (most recent call last)",
            "\u001b[0;32m<ipython-input-35-f048141764e0>\u001b[0m in \u001b[0;36m<cell line: 1>\u001b[0;34m()\u001b[0m\n\u001b[0;32m----> 1\u001b[0;31m \u001b[0;34m\"12\"\u001b[0m \u001b[0;34m+\u001b[0m \u001b[0;36m8\u001b[0m\u001b[0;34m\u001b[0m\u001b[0;34m\u001b[0m\u001b[0m\n\u001b[0m",
            "\u001b[0;31mTypeError\u001b[0m: can only concatenate str (not \"int\") to str"
          ]
        }
      ]
    },
    {
      "cell_type": "code",
      "source": [
        "\"12\" + \"12\""
      ],
      "metadata": {
        "colab": {
          "base_uri": "https://localhost:8080/",
          "height": 35
        },
        "id": "CJXDur9i-9UJ",
        "outputId": "7f768ef7-344a-42fd-87a6-00eb34465841"
      },
      "execution_count": null,
      "outputs": [
        {
          "output_type": "execute_result",
          "data": {
            "text/plain": [
              "'1212'"
            ],
            "application/vnd.google.colaboratory.intrinsic+json": {
              "type": "string"
            }
          },
          "metadata": {},
          "execution_count": 37
        }
      ]
    },
    {
      "cell_type": "code",
      "source": [
        "12 + 12"
      ],
      "metadata": {
        "colab": {
          "base_uri": "https://localhost:8080/"
        },
        "id": "fiBR4wjE-9Wg",
        "outputId": "ac8f5458-dff9-41aa-aac4-ce5e16bcb335"
      },
      "execution_count": null,
      "outputs": [
        {
          "output_type": "execute_result",
          "data": {
            "text/plain": [
              "24"
            ]
          },
          "metadata": {},
          "execution_count": 38
        }
      ]
    },
    {
      "cell_type": "markdown",
      "source": [
        "![image.png](data:image/png;base64,iVBORw0KGgoAAAANSUhEUgAABdUAAALUCAYAAADt1NtNAAAAAXNSR0IArs4c6QAAAARnQU1BAACxjwv8YQUAAAAJcEhZcwAADsMAAA7DAcdvqGQAAP+lSURBVHhe7J0HnB5F+cef65eekBBKCD0QILRQQ++9ilQLgoog+hcVOwqi2FHAAghIU5HeCSX03kISSmghkAak9+t3//3O7V7m5vZ9b6/lLuH3hf3k3n33nZ2dtjO/eeaZgvr6+gYTQgghhOgGnvvPWBv7xxts6dyF8Znm7HTCAXbKn78ffxJCCCGEEEIIIbofiepCCCGE6DYmPficE9aXL1oSn2nOVvvtZAef84X4kxBCCCGEEEII0f1IVBdCCCFEt7Hw47k258OZVlddG59pzoC1B9s6m28YfxJCCCGEEEIIIbofiepCCCGEEEIIIYQQQgghREYK43+FEEIIIYQQQgghhBBCCNEKEtWFEEIIIYQQQgghhBBCiIxIVBdCCCGEEEIIIYQQQgghMiJRXQghhBBCCCGEEEIIIYTIiER1IYQQQgghhBBCCCGEECIjEtWFEEIIIYQQQgghhBBCiIwU1NfXN8R/CyHEakdVVZXNmjXLlixZYhtttJH169cv/kYIIYQQQoiez8KFC23KlCm21lpr2dprr23FxcXxN0IIIYToLmSpLoRYrVm8eLE9/PDDdu2119r06dPjs0IIIYQQQqwaTJ061f72t7/ZM888Y8uXL4/PCiGEEKI7kaguhFitqaiosHfffddefPFFW7RoUXxWCCGEEEKIVYN58+Y5QR1xvaamJj4rhBBCiO5EoroQQgghhBBCCCGEEEIIkRGJ6kIIIYQQQgghhBBCCCFERiSqCyGEEEIIIYQQQgghhBAZkaguhBBCCCGEEEIIIYQQQmREoroQQgghhBBCCCGEEEIIkRGJ6kIIIYQQQgghhBBCCCFERiSqCyGEEEIIIYQQQgghhBAZkaguhBBCCCGEEEIIIYQQQmREoroQQgghhBBCCCGEEEIIkRGJ6kIIIYQQQgghhBBCCCFERiSqCyGEEEIIIYQQQgghhBAZkaguhBBCCCGEEEIIIYQQQmREoroQQgghhBBCCCGEEEIIkRGJ6kIIIYQQQgghhBBCCCFERiSqCyGEEEIIIYQQQgghhBAZkaguhBBCCCGEEEIIIYQQQmREoroQQgghhBBCCCGEEEIIkRGJ6kIIIYQQQgghhBBCCCFERiSqCyGEEEIIIYQQQgghhBAZkaguhBBCCCGEEEIIIYQQQmREoroQQgghhBBCCCGEEEIIkRGJ6kIIIYQQQgghhBBCCCFERiSqCyGEEEIIIYQQQgghhBAZkai+kqipqbGlS5fawoULbf78+TZv3jx38PfixYutoqLC6uvr46uFED2NhoYGq66utqqqqswH19fW1sYhiO6GvEjLp1Wp7c1VDnnHCCGEEELkgj4E/YWwD9HRQ32QVZu0PNX4RQghslFQX1/fEP8tOpm6ujpbvny5LVmyxD766CN799137dNPP3UiOi+rkpISKyoqsiFDhtgGG2xgW2yxhQ0ePNj69u1r5eXlcSiip4DwRgejuLjYCgs1H7WqMG3aNLv00kvt+eeft4svvtjGjBkTf9M2qLOvvfaaq89Z6d27t/Xp08fV67KyMistLXXnqPsFBQXxVWJlMXXqVJs+fbrLywTyZcstt3TtcE+A9wYHZSUN4j5hwgT3HkmgPSL+2267bXxGCCGEEKsT48aNs7POOstOP/10O+OMM1zfsq3Qh2A8+sknn8RnOoc111zTtt56azeuFasW9DmfeuqpFiL6xhtv7PQJxr1CCCFyI1G9C8AKADEdMe+hhx5yL6rZs2fH3+YGYWTUqFF2yCGH2G677WYDBw7Ui6yHUFlZ6SZEyEc6Ge3pyIruobNE9blz59r3vvc9++CDD+IzbWPYsGFOvN13333dv4MGDdLgYyVz44032u233+7yMoG6/OMf/7jd5aKzYFCzbNkymzVrli1atMh22WWX+JvmEHfi+/bbb8dnzL0ndt99d7voooviM0IIIYRYnegMUZ1V0n/9619dWJ3Jnnvuaeeff76MwlZBGOMeddRRTrvw+fKXv2ynnHKKM/YTQgiRG5nbdjJYM9Nhufvuu+3cc8+12267LZOgDvx20qRJ9oc//MF++tOf2uuvv+5edKL7YDkj+Tl27Fj7+c9/bvfcc48TvIRoKzNnzrRHHnnEfvazn9nvfvc7mzx5cjOLafHZhElY2nkma6699lr7xS9+Ya+++mr8rRBCCCGEEEIIIXoiEtU7EURxrJmvu+46u/zyyzskvr711lv2ox/9yB577LEWM8di5UC6v/zyy3bhhRfa3/72Nyd6YU0qREdARH3hhRfsvPPOc+VLE2efXWhPWILNJCzl4dZbb3V7bwghhBBCCCGEEKJnI1G9k0Aow6L5f//7n911113ucwjuXfDfi4/lfv36ueVU+FfGd26af2VEXazWcR8j4W3lc/XVV9uvfvUrZzUqi2KRD+pweOA3HbccuXyn48aD+s0EmjYDWjmQF7TD4dFdsNfGn//8Z7cUm5UMWeAZ0p4jVzkTQgghhMgHfQj6rGn92SyH3JUKIYT4rCJRvZPAFy7i95133hmfWQEdlV69ernNPo455hj7wQ9+YL///e+dC4jvfve7dthhh9naa6/tOiUhiG1/+ctf3KYyspJeuWCZTr4KkQ8myo444ogWx/7772877rijrbPOOm4iLc1/+vz58+2KK65wK1zSJuJE54If+w033NA23XTTpoPPTG52B2x6y+apbYFytN566zV7hk022cTWWmut+AohhBBCiOwMGDDAdt5559T+bJaD/q72CRJCCPFZRBuVdgK4fcE/Msv358yZE59tBEGdDUc///nP2/HHH59TvMFVzDXXXGMPPPBAqlX6tttu66ym11hjjfiM6GrOOeccGz9+vMvfhL322su+9rWvuc1KxapBV29UykDk/vvvjz+1hPLz2muvObdQb775plVXV8ffrODMM890E27aDOizxcSJE127jguYhP79+7sB6je/+c34jBBCCCE+63TlRqWbb765nXbaabbHHnvEZ8RnBXQHbVQqhBDtR5bqncCCBQtc5yRNUEcE/9a3vmWnnnpqXmtIhDkEu6985SupFuuIL6+88kqqGxIs2LFo9w9fCMYClnOIefyeg785117r2DBMXshJuMQna7jEM4lzcvgW+fydxJmDjUPzhU14XJNcT7z8uPGdnzYhhJ2kJ3+H9/K/58gXVkLymyReYZz4LrxPLsL7c/i/D58/CV90H7jm2GGHHexPf/qT7bbbbs4tTMh9993n2pEskNfke1rd43zWsuSTlKuwjHZG2Al+2Wxv2ITBtf7hl2/+TtKFI6zv/M014e/T7p3l2vCZ0u6ZBt+3du9c94QwXhyt3dOH8AjDL0N+/PkuK0lYflzCOPM35/378W9b4y2EEEKInk1avyA5WutftPd3Sb8p7Ne0tW+TpU/DvdrS90v6QP71Wfu+ueLj3ytX+FmetzNI7h/28ZI4tPaMQgixqiNL9U4A1yw//vGPbfbs2fGZRpjZxUIdy+a2cMEFF9jjjz/e4mW400472fnnn+8s332wwMXywH/Bjho1yoYPH+4EPb7jmgkTJri/AesGrN8JE7cBLNnL4pOXFyMdhxkzZrhNFrHQT+6NGwxcXRDudttt5+6Rz9cv4WBFjPVuAvEYOnSoW0bIhn1s6IhbHQRHJiW23HJLO+CAA5z7Ax/uzwv89ddfd1bBhIv1f/IiJx5Dhgxxrh4IG0vz8vLyFnHDxzH5WVFRYbfccov77HcGRowY4aw41lxzTfcZtwuEhXufEH5HHi5evNj5zWZihHglGxHyG55jm222sa233tq5pmgtH0iHSZMmNdsEF9ciW221lUvv6dOn28MPP2zvvPOOuzf5seuuuzoxl/z5LNLdluo+1BWsjD7++OMWncxf/OIXbiUE5TKNpDzhe5sJtjfeeMO5j6Ejy0Qc9ZhytP3227s6lKVOJ2ESDvWQ+kPd9t0eUU6HDRtmm222mavb3Cefr/gQ6ib16b333nNtBulHnYCkXhI25ZT6kC/sDz/8sIUPeuJDe8NvaC+efPJJN8HJ5AWWV/vuu6+r93wmDrhbocOfQL3g96H7FO71/vvvN7Pc4RrCxJqcZ3r77bftueeec9cSJnURdywsoea6tDaG302ZMsWlA2lN2fHrM78hnffee++mz7R7SZvHfV588cVmvyEdiRvteWuQdridIS/Ic+oHAx8g/uuvv75LD8oS77DWlnOTl5Sb5N0CpCm/X3fddV35whKfvSlom7mOc9SbkSNH2i677OLa0LaUKSGEEOKzxqpiqb5w4ULXLwiNRXjHM9ZhTEK/JYT+Df1b+qQ+/I7+BAYqIfRjGU/Sr6Kfwb/01/0xMQZu9KEYG3Pk69vQX2FsSz8pgXTeYostXNwZa/I9/U36cfQR6fPQzyTt6NfQb076M0kf6KWXXmoah/PsxInxH30gXMDmig/xoK/mawz0C+k341aWPh19XsbKjDPpkxEW4z/GA4x52MctLb0TSPf2WKr74xKej/550scjTeiXJuMS+vrq5wkhVlckqncQBJLHHnvMfvvb38ZnGuGlsdFGG9nf//539zJrCwgtdGwI24eXES4keIn6L6Xvf//7zk0JnYqE73znO058fuKJJ+zmm292L7xQxANe5Mcdd5wddNBB7gWf72VHBwWR+Y477rBHH320SRhLg3CPPPJId9AJSQuX3yMokUYJiIN0APA1j6/pBx98MP6mEcJBMPzvf//bJBLToXjmmWfs8ssvz7zZH6IRLjfoRPqWw/fee6/961//arHqIBcnnXSSnXjiiU0iewJpTacOgRsrZPI0Lf0TSC986x9++OHu+XLlAx0WNjZEzEtg8uTrX/+662Sx8SX39aEzRBwpU59FepKoDv/85z/t1ltvbVG/qStMwKUNkig7lEk2QqZMMWDJBb+nHOFChE51rrJEmAxcHnroIbe58qxZs+JvcsOzIlJTnhig5GsvgGdMXN9QdvPBIICBFgNGynRa2OxZ8Y9//KNZ2pGftIE33HCDGySGgwIGYhdeeKEb6Nx44412++23N6sjpBeTomG5IE1oZ/x02X333d0gg7S76aabXJlKBGkfBlRMEpx88sluIOY/C/7zaZNvueWW+Ex+GIjQVh1yyCHuM3Envn4bwLuBuF100UXxmZYQZ4R4nok2iYFavjaJiRRclvEeId9z5TX1gX0/yOcE3iW4z2ICk7pBvuUqX0xQ8P5hApp7tlamhBBCiM8iq4qoTl+Dd/+VV17pBFYfxjvf/va3mwwHEuhLMdn/05/+tMVvmPCn/44g7kMfBiMixpEYHIW/S4MxNM9Jn49wQxhP0k/3+/qIwoyzGHfSh8KYIuzDA+OwAw880PX96MfSz6LPTp8/1/iU6+hT029PW8mKIQj5hWidQL+Qle30xxm3/vvf/24y2PKhP0V6E3f2ecol3LdHVCftGZf85z//sUceeSSvJkB8CZ9xLkK7+nlCiNUNuX/pIFh0YtkcgqiC1WBbBXVIZtPDlx/iMdapzJK3Bp0TxKerrroqr6DL7DmdHl7Ivl/fEH6PBQAuLBBI8r08gbAQ0rge6+m2QNgIWqGgDohHzHr7gjrXYuWbVVAHrAV++MMfull9fzKiMyCt6Nwx0ULa8vy50j8hSa/f/OY3Lk6tXe/DZAeWGX/7299aCOpAJ2/06NHxJ9Hd0JFPc/GEFTUd2zT4DmGYCa18gjowYEI8ZiIBa5pc0Bm+/vrrXRuRRVAHBkr33HOPm7whTvngWgYSDJBaE9SBwdDTTz9tZ599tmvn2lIH6NSzuiccEACrOBBuOwPixGDqsssucxbxaYI6MNgiPojNWDO15Vm6Au5PmjIIZzKANra1ONGeXnLJJS6vs7RhIZRD2j8mKfOVL+JCub722mvdCg4hhBBCrLowEb/nnnvaPvvsE59ZQWIg4vdl6V9wHnE8FMbpLyNSh4I6MJbD2IVJ/SyCOmAc9utf/9rGjh3rRO8sED9EbYR9jMrSBHWgD4/Rwg033OAs9emLYyCWb3xK/4oxOGPrtpD0sQg/TVAH4k2/ivEocWprPy4fjAF+/vOfuzF4a5oAY1P6gvSdWxs7CCHEqohE9Q7CixVL2BBEdcTf9oIlddpSLWbOs4jACF9Yqbf2ogOEaUSNu+++u8WSuwQ6LHQOEHyzQjwRoHjp01nKAp0iZuURftJATE+sGxCTEesQk/1lflkhbRBy6Jh0JqwawMqBDlhb4sW1TFzQQWL5Y1ZIWyxC0sohEzNYvqd1RkX3gAuhNFGdjnWaSMukGAI5EzXU1SzQcX722WedRU3apB/3YdKKQUVbJ5UopwwW6CDnal8YqBD21VdfnTnOCSwXRogP3WnlggklLHVyDY6wlma1TGeARRRta5ZJAmBSg4EMA7/uhKXDTCIibrd1UMWSYgaSuLjJ+lvKF2041ku5Bp8+lCkmH5iI6MxBnxBCCCFWPhiIsRKaf30Y59GfQEhOoC9JfzUcxzCGYfzypS99KT6zAgw32Og9qzDuQ78UoxLul6XPwdibFYZZ+n6Eh4EIxl4IzrmMZXwwrMJQw1+BmA+emZUG9EezQD+fvigrNTsDxiV//OMfXR8362QG0J/ECIZ+uxBCrE5IVO8giAdp1sEs4WKJWXvBdUyaqI7rgCwvMGbFEzEDH+y4IsC9BO4VsCAIIUxEMJbehUIw4hbiSJowhGsFwv3GN75hRx99tFvG5kPHBUH+tttuy9RxIR5YL6RZ47NcDMt/ngVIe4S9NNEOn8a40jj33HPdEjl81qUtq0McZCKhLeJ3PuhoYG2AAJoGSzXxl8xSwlxL4BDA6LwxuZCFXGUQ8ENPeuVa8idWPqwcoE6G9ZtVLxx+WaRsU8YRc8MyymTJwQcf7OreCSec4Hxhh2GyjJWOeih+03GnPvuCJ0I//ip/9KMfuUkhBjhYDX31q19t0ZYRL/yNh8uHge+ILxNWYZyJH/HG3QfLSrFiStvAmTaAlTZZ2jrap7Q2AFj2io9zJjk7AybgEh+hpBc+LXHLwnJf2uy0esagA9E/ywRnV8B9f/nLX+a0ZKIdYuKBNgmL/rQ2ick+ykO+1Uw+3It8SXyNEjabddMm0x6lLSVmgEyZ4h0nhBBCiJUHBhgYNLC3T1sODJ3oY4TQl8CIhHd/aEiCKEzflL4F4z2MkbDw9uH3uJKjT5rWt2Linj5ZOLZkryss2zEkoM9B/yytb0NfDqvptBWOIfSjkv4y7j4Jk7CPOeYY57YuhL484zJ+Q7+X/iHu9HDbwzg8rU+K0QPpkAXSLFkFznNhOIJ7F1ys0J9LG+8irLMytS2rutOgX46xHBMNaeMSXLzgshCXfkyohOMSDP6YdOiuPrEQQnQFReeff/4F8d+iHWAljGASWuMhmuFvO3FT0lZ4IWNJGopFdAzwoeYLUfhrY3lXmjDMtXRIeLnhcxf/uLxwEUc4/M4Iz4B/OV7+vvCO9WC4TI4ODoIYojUvUDZbwa0FohwdFN8XHS9/7kNHx/c9znk6NAj5IXQSeDkj6OGyAPGQNEU45Dl4VjoU+FEPO1SIjPjzRcjBRyD/0gEiLxCsfctcfkuc6RThWoYOIB0fOoG4SwhFJHwNspEs4SdifSIQERaCOksDQ8sEhCtERNKLTtihhx7qDnxeI8QjKPkg9JMG5JXfIaG84cc5TURP/Dj/3//9n33hC19wPqTJJ/z0tcfv4uoCacvGjqQz5Sic+MkK5Rr/4+HGS4jkpHdbYB8GRMewzjJAoUwkAwhWejzwwAMtVpCQz5QlJrKSDYdZasuz8pxJu0H4lEWe2X9uOu5YjPh1mnqA30U6/NRT2gDKLXWbDZiY5ElWdVAmqU+I1pRRf7DCczHYCS1uKJ+URZbd0vnnfjwv7QgrYMJ0xYKI76j3SfiESXuRJqJz3Re/+EVX//EnzyAD0ZtVP4nfTCa7ELn9QRRtKfU6LBfci0m3NCso2iEGVN/61rdcHHkO2lrugwWOPylIHjAIoQ7SBnIN+UUbg1smJh1p7xNo44899ljnQ5M2Bl+bTAwkaUDcmczw2wDygziRriEMflj5EpY1fFz+4Ac/cPtv0IYzOcB9SQ+eIWzDsCyjfWSQRFuZQL5hZZ4muNOuMriiXDHRSVlNJlJ4R4SDWcocz0odEEIIIcQKeG+yMpVxDX2oNKOE1mCsx0paf5yWwDimPQebjfNuD0Hc5b3OuCu08qaPwdiVdz6uQsNxEM/GeIY+nN/HBPpUuDQJjQXoh+EqkXEi4z/6HPTPGA+FfS3AYITv/HSk74nYH/ZJgbDYw4e+EvGiL04/GaE6bdUz/V6EbvrrpA/5xm/oP9Mf9ftlPBPjXuLug5EJ+ZUmhhM+/T7SAmMV+u98pr+VbFrqwz3IC67zoU9Nv90fHwPpx6p7f1KEVbBMgIT5RZjoDfS/GTcQB9KLdCHu3BsoL5RBxhVpExJCCLEq0tIUWrQJXohYCofQAUBsay+84MNOBCQCdRYQuxBu6LDQsUGo46CjgVid5hIEwQl/cwm8zBGXQsEEP8W8OOlIESaiDv8iyHM+DJvfp4nnuUDwwU8eSwcRxnipI8wg0ABpQ0fm97//vX3zm990AjXPxYHVLh0A4pQcxA1hPS1PeMbkZc+1CEakF/cI88D/noPPCXRQEe3DTgydJJYuItYj9PF74kNHk7TCciEU9BCb6IAi6mWB5yW/WW5IR4Z8IU2wOkEIEz2LpHyF0Jb4nWysOcKOOqtDmLCjrFOWkvJNfaDs05n1QSDl8DvLlK9Q0GRwQtklvKTscxA2g47TTjvNtRt03lm+yWoK6qT/HLRNxJeJHx+elzrM5lSsNiFM7sN5yj4bE4fpQVhpK2fSICwGOgjQW265pWufEL2Jc7iJcEehbWKSkvpFO82zcFC3meRgsOWLzsDAkQEUz5SkKc/OdeFzQ5I2yTV8bg8MepgQTdq3BIR9lk0nAnfyDEwQMkGEmI+FmA+DLsT8NPE8DQaNn/vc52y//fZz9+AZODjPJEbaPg8MeGW9JIQQQqwe0AfDoCIcF9KnwHjpJz/5SYt9VxjTIJAzbkvrIwHW8fQdE4GbsRb9PgwT6M8kfQ7+ZgKCPjJ/+9DfCIXkXCDAM2aj752Ez7/cO9c4i3EZz04aJL8hfoTBeNmH/j/98KxjfNIIkZ6+L0YlhM9BH4sN8hkP+pMFQH8aQ7k03SIr/J5xsw/jEvqOGI6E4xI2OiU+PqyKwFCnI/EQQoiehET1DsLLLxQsEnipdDZZBCagE4L1IYJV2CHhMy84ZqB9i3TAypXl98l9mLFnhjl8yfPipIOUFjazz6Fgkiyzy5VWPghJhI/lOy9lwiQteVEnYhXn6CxgKY6QiMUl7iI46FCkgZiXlidMVGRN13wwIUH6+WlFPLEgRkSiAxSmF8/DMyA8hd/RyczlRiYEK1isExLxirBIO9IyDFd0P7naBr9+0GnFOjhcBcPggA5sGAb5zAQadcfvSDNwYaLMF0OpI2E9YfIMH4mIrXSafUtoxFbqI5NDWKNgrczvk/qYgFCPC4/QeojfUz7T6iblFNGeVQRMPGHpwr4CWMIwqcb3rcHAAjEdqx3SISn/SfvRmSQWYtQtH+5De8oAKxxA0MbQrmYVpDsLJmXCyRNIrN/DZwDSjMkBnoE2yweXQf77IR9MhjLQJE9CGGhxhHnD4DbrAFcIIYQQPRve8wjSGHkhKPvwvscQwx830bdlHHnWWWfl7CvTT2EMSl8Fa3b2fcFFXZobROAcxgThd6EhSz4wDEkbU/NMaeNL+k/0xznC33B9uIKYNKC/nrUPhOEDVvBJv9eHvjlpjvV6CP1zxqvtAUONtJWMGHOxcjVMA+KVNi5hrIOozspWIYRYHUh/W4nM8MJIEyZ4OYZiWFvgt6GQDWnCbBosqUqErzR48TFTHlpx8kKng5O4POCFF1rK8gKnMxDOgCfQwWD5vh9PXqCIhFn85RI+lqatiWmEz3PQeSBd0oRChGncsfz5z392FuFpy/myCP1ZQLgMN2QlnRCWws6TD4IjAlS4mQ/pxaRGlvjRQUtbeSB6JtSztPrtT4JQnrDcDa+jbifuTEKoD9S9cLKMeuyL5Imo6cPAgvJLfcFFC9bKuFJhI2DEWeoOdS2fUE275a90SaBeInrnghUkTIwxiMICnGtpR0LRPhdY5+dqjzoTnp3BXlhXE0gX8oeVIiG0qSvTXzjlBjc/4YCRMsIER76VVJRDliiHA2AGUkm5bA3KF9ZTaZCO5FcYB+LaWe2xEEIIIbLB2Iv+Df2pth7hatsQ+hT067BaDvuPYR+X/iuu9cJ+bEgy/iNs+pj0J/ywE9d07BFEX5b+UChY0+dI64unQZ8m7BMB92QMGvZX6f+wsjFtLEuc0/pgxCWryM/YESOOXBAnjLZCuAfGL1mf24f+X5qhBn3iNAMKIJ8wBGKc6oORSdqYXAghVkUkqncQXqJpAhfCQEdeFuHMfQIvdF5QrcGMca4XXAJL5XgphyD+JC9NlsaFPoXplLBx6Y9//GNnVRoeuBy544474qtXgOCWZVaajkB7fOoSL3zmsaP7eeed56wxcVfxu9/9zvm9xwd7mmCTJT1bA7GJ/A5n7+mEMXGRS4QEvsPigDzzIa6kfbjMLoTfk9ed7eZCdB25lniSj0l5RARPWxqJX3esydPqHgdlPSwzfPbrMRNqoZ9EIE4I/lhW8xusWajL+KjE1Qt1nj0cQkv0hMTqKIR2kvYmHwyKkoFJW+skHXYGKV0N7W+yzDYXDATT6iJtw8p2bcJKhxDSimfI1yYBlkVpgz4GQlkmjHm3tCbch4NQIYQQQqx8EEZPO+0059+8rQf72bQG/adkD5pcMNmO2zhWUrfWR/Gh74pLkdtvv90ZhWAVT5xwgfK///3P9WX9vW4SuEfW+yAKh4ZbCfQJw34rz5LLAIbr8/UjW4O+E+PGXOED1zBJkkZ7LcT5HWOEENwMMk5IG5Nw8H3og529onKNJYQQYlWj42riZxyEgdD3LCAuJTtztwfEkLTZ6sQvW2vwMm9NsOCaUFQDhLzkpUknJOyI8B3PxuaPuQ6Wh4WiIWmS5QXK87VmoZDAPRAfcfuCPzd88914441uIxWs1BESEYC4d5qICW3puOWCe6QJoHR4WpvcAMSntM4R8U6zCvAhvfhtRzpoYuXBZAmCdVi/k3Kf5CPWwGmTQFiKsPFkWr3jSFuaSVi+EMrggI0p8VmZr50gjpRrfks9w+qHVR9YlbPZaliniG+a4MpgI0s9aC9ZJxs7SiL854Pv0541maxYmSDih3nU2qRAAmUxrWzQHqUNqkKSCZJckF8rI8+EEEIIkR/ex/RxGBu29cglNvsw1sJgCpedaat3+Z4xLm4As45n6FPdcsstzoDqnHPOca4DWW2JaxFEXPor+Vy8tGX8l88QgHDCsLg+X3+xLfcOIX1I93xh8B3GDWn9rCyrDdNgDJ82LiG9841L2HMs7P+SNyu7TyyEEF2FRrQdBDE0bfdqRC02YGkv7Nqd1gnAR1oWi0xeerlE5LaQKwzihrCS60h76XIuFPvSoAOQRYAjDmwMyuaHWNOyGSAvfO4RiuhYyeK3PK3jl9YZaivEOS2MrGFzTXsFJjpX+SxCRc+CyR46kmHdYqUC+ZiUF75Pq3+t1T2+D39HfeC7BO6B70kGIrhFyuXOxIcwCYM6xia611xzjd19993xtytIi3Py266CSaX21p+2QBuW1i73VNLSJOtgNVe7lZa/aXCffHlC+LnuIYQQQojVCwRu+sBpK3DpW7DiF1E8Cxh6YOBBXxR3JhgRJEZUfj8NIxLc2bFyOOz/tKUPkmuclwuu76p+KWmVNs4O6ew+Vq7+X3vGJYyDyCshhFgd6HoVYjUHMSdt129e7C+//HKq1WZrsLwesTh8YfJyxCdda5aSgPDFiywfdG7SXsr+bHzazDzCH+4jEKnbcrCRSWsuIIDnbM3qgZczbiZw7cJGqgjp/gub++Cb+dxzz3X+9Di+973vpbq76YxOD/FNs2AgXllm4rkmrawQZmsTDKRXlokW0TN4/fXXU1c1sJmPPznC32kCKG0AS2jT6liug81FQ/dChM05rIJYvovLpAMOOMDVndY64rQbrFZh8OP7UKcupdVdOtStrbjoCLSJnT14SCNLfabdTctf6nKWtrszob0L04XVO7kGRj68Q9ImELCOSmvrQrjvysgTIYQQQvRs6E+wCvvf//53TkGY/gnuWrBszgd9GDbWpz+N1bXfV2HlIi5m2KPnL3/5i1133XXODQx73aT1qVfFfgrpRx8tH6QRfdZc/bj2wHg0bczMnl5tHZfsvvvuLfZ2EkKIVRWJ6h0EUX2LLbZo8YLihcds/AMPPBCfyc5NN92UKkDhG42lc2mdghCstlsT9PFnlrYEjFn9RMjluUJRF9Fszz33tO9///ttOrCIJa1agw5Oa0I3s9v4lmYjT7/DwG+xvr388sudBTsuLpgAYLOYXEvl2tKhyiVGkSakWyiaYUmRxbc+yxTDTU5JA8pXa65wiH+WMiF6Bk899VSqMMtmT347wsAgTbzEZQubOKXVsVwHgwt8qIdQxqjfrLYh3O9+97tuY9KLL77Yvva1r9kee+yRU2Sn3jEByKqaBCZ30janRGjm2lzQXk6YMMGeeeYZN+hqq/UK6dSWetxeaC+pz2mieQIDnTQrLNoI8nRlgv/0ECYheTe0JqwzacKALITl2VoZI4QQQoissFE7rlpmzJgRn2kJ/RL6irhxyWfA8Oqrr7oj7CuyCftf//pX++EPf2jHHnusbb/99k0bjNJHDPs9rY01eyr0mbHMzze+pI+OFpBGFgO3NHwXlT6ke3vGJVk0ASGEWBWQqN5BeCHzctppp53iMytgxp1NU9hxPCtsAsiRZmXOSwuRNQtYcWNBmk9YR7wKX8iIU/iIRyAGxOjQZzyiEeISAiAv2PDAOhIBCeHFP0+YWSyqs4jEpA9+2sIZeITJz3/+802dKN/alzinCUncL02QyyXS5QoDq1+e04dOJL7m8lkU0HEkr5gg8CH+uOVoLc2496raMfys8dxzz7lVKGH9ptywi78vquOeJU28pM5Spv265R98R/3zz1GWcllJUy8oo7QZXMvEHQMRLNjZYIgBCitCsEIJ6wSiq7/hEfFNcyXDdTx3LkiPm2++2X7/+987YZ/9EVhZ8q9//SunRZNPrrra2dDeIDYjTOeCybG0QSPtYtaBTGuCdxZIk80226xF2tDe4Bs/38QF93/ppZfcO8yHtohymfU9JIQQQojPNvQlMJp4+umnW+3T0TeZNGmS/fe//43PNIf+CX2Y0LiB/itGVRtttJEz7qA/7RumMB4Ox4wrq+/YFTCu9I1aQpJ0DOGZSaP2PDsuaBlfhGCkxxjDH3f4B2PUUBNgXKJV1kKI1QUpcZ0AG64cdNBBLUQrXt6ILyw/w01C+DL34eV36623OivRUMgAxBiWS7XmCiSBTssjjzyS0zoUIYxlc1hS+yAMc69EiMaCNXQbQdgszWOn9TQQhy+99FJn6cps9CWXXGK33Xabe/nnE3LaAp2qtBl44u4Lkz7EN+3+5EsuoTwE8S+X4LXJJpu0WMrG9c8//7y99tprOX9HPtDRDDuIpPtWW20VfxKrMtQZJsuo36xKCMsCdZuy60+OUJYoA2Gnk82AmKxJK08I41j4UPcQp7E4xzIIK/BkYod6c+edd9qvfvUrO/vss921+KWk/cHCmnLPPRFOBw0a5KydmTQ88MADW12qSd3DHVbYFiLcP/HEE6krcKh/iNA8FxMGiNKs8qHO8DlXvekuaMc40gaGtC+0M+EEAumBhXda+oUTYjxvOOnSXvAjmjbhxgQGZSjXO4nBL88QWqrjeogy2dqkpxBCCCEE/Zl33nnH9UX9PgV9TfpFp5xySotVmfQZ7733XtcPTIN+bNg3REjnSOvzMOZF+A37bT2tf9kW6B8/+OCDqcZzPBeW7OgAIfTTR44cGX9qG7nGJRi5hautE0h3jHMYa2As8+c//9mVBQR/8lkIIVYHJKp3AggmLGHCh3cIL3CskP/+97/bBRdc4IQ1BKNk2Rbf3XXXXc4iFL9vvHxC6CB8+ctfdi+ztswsJzP93MPvOHBfRBWEtrCDwYt2+PDh8adGYRexOLFcT2ATVp7Ft1IFRDMEJ1xcYAmPlT4ucIgHolpnijFpM9xsoJjWwUAsxE9fmqiXSygn/LBzhmiZhM9v+G0iTCE44bMvjBdWwLj04fn9DiUCHB0R0ubtt9+OzzbCjD5Wpljei54N+Uh5Dw8m0thAF5EbV0S0AYjHoZCJmE7bgdWGD4OM0aNHt3CnQnlisBFaQxMu92UvB+o8gxFcJF1//fXOqidZSkudp7w9+eSTrh5jeY3AimUyE0BhXaDNod7yu7ADTDllUJTAdTwPVvc+1BPEZiYVaH8SiDODI86H9ZZ0xedi2gCpO6ENIP0ff/zxZsuTiS8rEe677z7XvvuQJkyQhQNHni08x+Qa90jaZtIo3zLofGCNhNuf8L1B2WFVQLhqgns99thjboUAE7J+WSCuuAhqbWJFCCGEEKsWGF7QJwj7slkP+pCMb0PobyQT+T70eY888kg7+uij3X4+PvQ96AddeeWVzhAlJDTcAPos3D/sY9OnYgwWGpFBrvHfqgB9ToyyrrrqqmZ9Tp4HgRs3qPTvfejHYWyRy/isNejj77LLLi32J2Nccvfdd7cwdiMu9CkZj6AJ8C8TAYxLKC+h4YYQQqyqFJ1//vkXxH+LdoJggbiE2ICVdmgdzksFMZeXPYIzL5j777/fic0I07xY+F2a4At0OI455pjUTeeAMHiRhR0JRBnuibjOi5V7IK4xQ4yYGwo/LMc6/PDDbccdd2wSvxPRh3B8EY+OCGFisc5LkU4LL8yxY8c6UYnOC89NnHjxJ8IhIk8CQtF7773nREAfOlpY7oZuZ3x4NiYFQpcppCFpgQsKrGzpJCJ00bmgsxhagwNiOIIXeejD73jGRNwCVhEgWJKP99xzj+u4YMmLVW8iwvMbf8aeNGCyhM4PcUbQ5JkR5igHpKEfL/KY+Jx44onuOfw8J1yET79zyH1JV/xfi5bQIae8U34PPvjgZpNGbYGyhUjti8JAXaCOUbf8g3syqcRED/UHQTrsvDMwOPPMM514nrakkjaFsJm8Suo3/xIe5YY4UXZ4NsoSnVW+45qk7lGPqE+UKconq11ooyZPntyszSF+lF0moJK4UH8IjwkCJv9CoZV9HnC35Av//Jbnopz6dYd0Ip6kDfWe+oAw/Z///Mfef//9ZtcCGx8xmegPnpK64wvBQPvIc6a1jz6kZfjcDC6oO2G54F7EMVw5xPNTpgiHiQLSh8kJ2j3yIGwzaEuZZPjc5z7XYiBCu4CFvl+fyTfKGOWGMkSbShhM2AFxHzduXLPfkK+4ZcFFmA+/owwxoeenGc/AgJV3D+0iz8rfvBuwbOKZwjQmjY444ogWk7vElTwN33uI+eRhrsEbz0d76A+qKEfbbrut27RXCCGEECug30c/Axd9O+ywQ7vEUQwYeN8Tlg/nOUcfy+/LZj3oD/EOZ7ViAv0M+jCMU/0+BeMW+ghnnHGGczOKARd9Ib+/RT+FcSr9UIRgv9/BeJP+g98fpd9F/BlvYuzB/ejzXXPNNW41cLJa0wd3h6zEZPybwLgSf+1hX58+EM9GfyuEuNBf9J+R56Lvh8uUEMImbmEecC2uFn1jC/rk5Fea20H6/8QXsZo+GOGx0vDGG29041TGAD6Mc1lBThr5EG8mHsLr6Y+RT34/nD4gY5tknA/0W+nfT5kyxZUjxvfEl3Ey+U/cwnEJq18x5EtLTyGEWNVQS9ZJIF4gMLG8iZdQCC8eXjJ0MHjx8BLk4KXDyzV8kSUcdthhzr8wAnFrgpFPci0CDB0dBFxmhhM3LHRU/M4IL7W9997bCeqhBQACBxaj/qZ3/JbOD52gq6++2rmS+MMf/uDuEy7Lo7PCzPbOO+8cn+k4dMjoeITQqaJDcd5559lXvvIV++Y3v2mXXXaZ67zkmhGnYxAKSEAnL3S3QwcGMQgxkE4XHbtEoCPNEUexuKCj5kP+IozyGyZTEODohJJWodCPQH7UUUe51Q9tyXPRPVDWmewID8oVdZuOfCgYA/WMMsqmv7ncOtHxpCxQFn0QwOlEX3vttfbrX//a+TxH9A4FXQRu6jWDr2SijLqz22672ZgxY5p13KkDTBjRRrCq5pxzznEuZH7+85874ZvOMh3iBAYtxD30oc49aQOxQPIhnYg3gjoDLOKLOMw9wzrAQJHJhqzurlYW1EcO0opBAgM1VpqQPgjXiNFhW44YTpvgW/Qn8Jxh3pJOiPa0D7QziN75fLi3BgMiJidCi3jiyTMweUi7zcFAiXYqbA/Z7JnJEyYe1CYJIYQQqxe89xkbpvVnsxwYCfgrDhnzIjTTtwhX2yHMnnzyyW5sS98UMfmLX/xiC4GV39EPon+VQB+Efm1oCAUYCPzxj3+0r3/9606w/+1vf+v6aWluF4Exedj/XFUgHXgmxuIYdtB3Z8U7fWvG/eGYlz4gxh3+pEd7wOUt4YR9Wvr39CGZxGBcQtpjvU6/OByX0CdmnJCMS4QQYlVHonongliF1fP//d//OavsUMRoC1g+I9CffvrpLSwDs0A8sGTAMpKXGcIeAh8dplD04aWGJSsiWCjwAOIfAjbfh7PbyUQBL02W9vFy94U33MbstddeTpBpj0VFLogzQn2adTYdiWTGnCVpdPboLJKOiImJFW4CIl+a4I6VZeiSA0g/Oo78S3r6v6WThzU0VuahdQKdHzpv5AUHf/udPPIY8YpJFJ4rnNwQqw8I0QjWWP4y6ZSrfjPAwEKHTUPDiRrKD4MYJmYQRymLYccVSxAm5ugE+zBBduyxx7p67Zczfk841GfEbn/izxdasUaiU8zKlrCd41m4H+EfcsghLZ6N9oGJKNoK/g0HOrR9+F3Esr6t7V5XQ14xQcFEI/Gm7mNFxEGb4Ld9wEQr6UBblWaNQzqmTZ4lbUVi8ZPmFiwr5C+rnXifpG0wSvjkBW0SbVqYH7ig+sY3vuHaQ95xQgghhBC5oB+B0RF79TBG9KEfRf+RvkXS92HsRF8XF3M+hIMgjgEJfd0EJvjpF4eibGLwgMU2B7+hn8b4k7DDMR19XPq8Yd+tp0NfDAMsxu6QTIgk43x/LAD00+mPn3TSSR3ux9GXZSx9wgkntBDWw3EJfUs/LvRHiQfj5Hyr0YUQYlVDononw8sKwYUdyH/605866+y2iOtYZiKEMcuLGIMQnCbGtAYdhy996UtOzE6zkEygc4PrBDaKId654sp1iOrM/LOcrbWXMnHGHQEC8amnnuqeozOhI0aczjrrLOfyIJ/4RlywtP/Zz37mxO5Q3Ec8TLOW5TkRt33XFiF0GEILDOJFh+E73/mO+zff7xO4ho7Gt771LWf9myZ+iVUb6gzCJHXowgsvdOUWK53W6jfllY2QKRusJEmzzglBNMfqh3pNPQzvwUCE+k7dpJ3I6hKH9iH5HZ3zXGWb8AkTS3yeN0v9J45YVZ9//vnOCqmjHf+ugOdn4Hfaaae5VSnhgC6BuNN+MCnKQC7XhCKTjiw9ZoCSqw1jsMRAqSPwPmDFAysQ0iYW0yBvGTQxScyzZPmNEEIIIT7bYGSF2w/c5PkT9fSNMB5iot836KD/gzEGY7Swv4jgjfiNf/XEuIO+GONb+rit9YkxXMBQA8MCwvb7WhguYOXNWG5VAyM3+qJMLuRKA56VvhyrFdElGHN0BvRpMR6kf4gBX5b+4bBhw9yYgLEDhkWtjX2EEGJVoiB6WbVcDyU6DJ0IxFaspJmxZQkcVtP8zSxu0slAlMHvGiIYG1NincmLknNZxXj8o7HkyrdARzg5++yznZjCMjB85LH7Oh0dXrLMEHM/BB06OLxos9wPy1LCIExcqiBG84w8K79HUOZlyXNw8DdxSBOM+A3h4DfYh+uxYsgyi006MhuOiwTcGNDxwu0GceGZ2GQ1eUas8JkxZ2kcVpl+R49r8O0WdgwIC195xBHLdywmgE4KYiW/Q2RLiysiPWIYcSJ+PCtWv3TeuDfCeZLviK24iSDO+cREXDPwnMQrgev5LWK8aAnpf+mllzof3xdffLFze9IeKPsMEtoqcJLP5CuW5pQbjlx1Ih9Y21DXqMe0J1gBUfapR7QjhEmnlQEE5YmVEpzL13GlPlAesUwnXAZAtFFYFiVujeisMzFHXSZsDupSuHlxGgyGqGusHMHtFPWAv7Hs5vmZRKTuYNFNx5xlqYSda5UG8cO3ZLjahglIwmktTZM4JM8GDA6oO+HEAu0Erl1ImwTaZQZmTIhQl2kbcMNDGUusoWgXeBassMiP1lzY0E7gtoc2Gnda3I/4kQYMAJnEoMwm7rP4Dvc5fhtAHnNf2s18kG60IdyPMkSek9+ESZvklyHiT5pQXnNNHgD1gTaJcHz4PeUw14QC+UDa+St9uBdLgju6PFkIIYRY3cBlHsZETNhjsBCuQswC7/tkTNOZ0CfEMIKV0vRNccVJX8+H/hBjQ97zaf01+gO4vmOfHR+upS+BgYn/zPQ/GFtxL56H/g39WvoS9IG5D3GiX8P4jv2B6IP61tOME1mBSP8HGNfiqjNcIciqa/omafGmL8OY2O+b0l+kLxiuWgbiTf8xzAOuxRDDH4+jHfz1r391fd8Exn2sgLzoootcPHF7Q7rRpyPN+T3359npO2LVTprkgvTAjWFoXEb8CSNXnzwZl9A3T8Yl5AHjEvql3JO0p0zQH6SfSjmRoC6EWN2QqL4SYGYdYYmODC8a/6XFy5mXFS97XLUgwLX1ZZNPVOcFzXmWg+HvjPsDL2TuRyci18syF4gvvEgR45jl53kQz3gWwkWEy/IshMNvSRcfBBx+m0/ICSE+iQsGwkziQjgI/Txj0hFKlvr5ojpxJg/S4kuYSfolVhLJc9I5oKOX7zn5Db+lDJD+fObedHq4J3EkvQizNfgt8UniAUkZyiVefdbpLFE9EYj9zngWKMfkD0dndCQp6357ktQ9ypNf99pSfwiDckW4hE+bkTwncSbuDIYIl3KW1KWsED51gDYjCR+II+WeMGmLwkmtEJ6XePp1F/htlufl3kmaJfB83D+sf/lEddz2EAZ5wEQb4fKZsEgn4tNau+CTpE8SFmnPb0kPwqGdSdImuTZsA5L2Lgv8lrxI2qQkr/0yxJElTfkt6eDHB/K1qcB9k3RL4H78jvImhBBCiBV0hqjOOzcZK3UmvOuT9z59PPopYV8t6SPlesdzfdLPC6GfQx8n7KvR90CkTvrEhME1fl8s6bMSJ+Lmxyu5Nunv8D33D/v63DtXvOnLcPjhJv2pML5A2Fwf5kHSj/P72PlEdfZT4p7EmTFw8nz8nrjy/Fn7x/zejz8Qfw4/PmnwLPQpyQNfE+jIuEQIIVYlJKqvBrQmqgvxWaazRHXx2aI1UV0IIYQQYmXRGaK6WLVoTVQXQgjR/XTcbFIIIYQQQgghhBBCCCGE+IwgUV0IIYQQQgghhBBCCCGEyIhEdSGEEEIIIYQQQgghhBAiIxLVhRBCCCGEEEIIIYQQQoiMSFQXQgghhBBCCCGEEEIIITJSUF9f3xD/LVZRHnnkEfvkk08sysv4jNl6661nO+64ow0YMCA+I8Rnk2nTptmll15qzz//vF188cU2ZsyY+BshcvPOO+/YG2+8YUuXLo3PmPXq1cu23357GzFiRHxGCCGEEKLrGTdunJ111ll2+umn2xlnnGGDBw+OvxGrKwsXLrSXX37ZZs2aFZ8xKywstGHDhtl+++0XnxFCCNGdSFRfDVi2bJnV1NTEnxopKSlxAhAvXiE+y0hUF+2hurraKisrm01W0p6Wl5dbaWlpfEYIIYQQouuRqP7Zo66uzioqKqy2tjY+Y1ZQUGDFxcXWp0+f+IwQQojuRIrragAv1YEDBzY7OCdBXQgh2gfCef/+/Zu1q3yWoC6EEEIIIbqaoqIi69u3b7O+KKvQJagLIUTPQaqrEEIIIYQQQgghhBBCCJERiepCCCGEEEIIIYQQQgghREYkqgshhBBCCCGEEEIIIYQQGZGoLoQQQgghhBBCCCGEEEJkRKK6EEIIIYQQQgghhBBCCJERiepCCCGEEEIIIYQQQgghREYkqgshhBBCCCGEEEIIIYQQGZGoLoQQQgghhBBCCCGEEEJkRKK6EEIIIYQQQgghhBBCCJERiepCCCGEEEIIIYQQQgghREYkqgshhBBCCCGEEEIIIYQQGZGoLoQQQgghhBBCCCGEEEJkRKK6EEIIIYQQQgghhBBCCJERiepCCCGEEEIIIYQQQgghREYkqgshhBBCCCGEEEIIIYQQGZGoLoQQQgghhBBCCCGEEEJkRKK6EEIIIYQQQgghhBBCCJERiepCCCGEEEIIIYQQQgghREYkqgshhBBCCCGEEEIIIYQQGZGoLoQQQgghhBBCCCGEEEJkpKC+vr4h/jsTDQ0NNnfuXJs/f358Rgghei4ff/yx3XDDDTZhwgT74Q9/aNtvv338jRBCCCGEED2f5557zi644AI7/vjj3TFw4MD4GyGEEEJ0F20W1Wtqauzuu++2Bx54ID4jhBA9l2XLltlbb71ls2fPtp122smGDh0afyOEEEIIIUTPZ9asWfb888/bZptt5o6ysrL4GyGEEEJ0F20W1aurq+26665zlp9CCNHTqaqqcgORpUuX2iabbGL9+/ePvxFCCCGEEKLns2DBAnvvvfdsnXXWsbXXXttKSkrib4QQQgjRXbRZVI+ut2nTptnbb78dnxFCiJ7LnDlz7K677rJ3333Xzj77bNt6663jb4QQQgghhOj5vPzyy/anP/3JjjzySHcMGDAg/kYIIYQQ3UWbRXXAr/qiRYviT0II0XOZMWOGXXHFFTZ+/Hi7+OKLbcyYMfE3QgghhBBC9HzGjRtnZ511lp1++ul2xhln2ODBg+NvhBBCCNFdFMb/CiGEEEIIIYQQQgghhBCiFSSqCyGEEEIIIYQQQgghhBAZkaguhBBCCCGEEEIIIYQQQmREoroQQgghhBBCCCGEEEIIkRGJ6kIIIYQQQgghhBBCCCFERiSqCyGEEEIIIYQQQgghhBAZkaguhBBCCCGEEEIIIYQQQmREoroQQgghhBBCCCGEEEIIkRGJ6kIIIYQQQgghhBBCCCFERiSqCyGEEEIIIYQQqyENDQ06dOjQsVoeQnQ3BfX19W0uiRTeRYsWxZ+EEKLnMmPGDLviiits/PjxdvHFF9uYMWPib4QQQgghhOj5jBs3zs466yw7/fTT7YwzzrDBgwfH37RObW2tRWP++JMQQqweFBQUWHFxsftXiO5ClupCCCGEEEIIIcRqRmLNiaiuQ4cOHavTIUt10ROQqC6EEEIIIYQQQgghhBBCZESiuhBCCCGEEEIIIYQQQgiREYnqQgghhBBCCCGEEEIIIURGJKoLIYQQQgghhBBCCCGEEBmRqC6EEEIIIYQQQgghhBBCZESiuhBCCCGEEEIIIYQQQgiREYnqQgghhBBCCCGEEEIIIURGJKoLIUQnsWjRIpszZ06LY+HChdbQ0BBf1fXU1NS4e4bxWLZsWafFo7q62ubOndss/Hnz5lllZWV8xQqIj38dB79NuzYX9fX18V/p8GxhfObPn2+1tbXxFUKsHlCHV2Z7IoQQQgghhBCiJQX19fVtHpkxmEM8EkKIns6MGTPsiiuusPHjx9vFF19sY8aMib/pXBCZL7zwQnvrrbfiMysYMWKE/fznP7e+ffvGZ7oW4nDTTTfZm2++GZ9p5LjjjnNHeXl5fKb9vPbaa/bb3/62mWg9ePBgF/4hhxwSn2kUw99//3378Y9/HJ9ppHfv3nbaaafZ/vvvH59Jh/cNgjmC/fDhw62wMH0u+Prrr7dx48a5axOGDBni7rvxxhvHZ4RYtaG+LV682P3dr18/KykpcX8LIYRYvaGPc9ZZZ9npp59uZ5xxhutzZYF+FO+Ourq6+IwQQqweMC6kL1xQUBCfEWLlI0t1IYToIAxYZs6caU8//bTNnj27xfH888/bhx9+uNIGNImlehiPpUuXdpqFK5MIYfhYildUVMRXNML9iE94LZbkrVmqV1VV2axZs+yf//ynXXTRRXmv59kI078HQjz3FmJVh8mp5cuX24QJE9zk4O233+4+CyGEED2eqC/YUFfvDmu7PV9u6NN2RbhCCCFERiSqCyFEB0Esf+ihh3KK5ghiDz74oBOiRetgUcVqqHvuucdZZd15551OUO+sCQEhVhUo87QbU6dOdZNLrIZ58sknW0xeCSGEEO0m6l411NZZw/Iqq19aGR0V7mioiPqt7RGrXXj17vf1i5ZZ7Yz5Vv3OTKt+a7rVzJhn9UuisCurG8XwthLFh98Sz9pPFlr1+x9b9evTrPrD2dG9lrtn4FmIg+gcGqprrZ6ysSwqG8HRWlo31MTlKuW3rR0NVTVRAMrIdkEdjNLe5VtU35LD1enOSNMoDFcP0/Itumdr9yBv036b5WAiTYiehNy/CCFWa1aG+xespE899VT79NNP4zMtGThwoP3rX/+yNddcs8uXqE2cONGuvvpq56LF50tf+pJ9+ctftl69esVn2s+LL75oP/rRj5q5f+HZCP/YY4+NzzROOLz99tv2jW98Iz7TSJ8+fez//u//7PDDD4/PNML75dVXX7W//e1vNmXKFPcZcOFy+eWXu9+l8fe//93uvfdelxcJa621lv3mN7+xzTffPD4jxKoF7oyYsMMyfdq0aU314YQTTnBtzoABA9xnIYQQqzdd5f7FWZAvq7KqNz6yiidft7ppc6OTjd+Vbr+x9TlmFytea2DjiSzUNzjhq/q9WVF4b1jNm9OtfuEK13xWWGCFA3pb6TYbWa+9t7LSzYdZQWmJWYauMeJu7az5tnzcBKt+7QOrm72YB4y/jYLoVWolI4dZr71GWdm2G1ph36i/G91PdIAoP5c+ON6qx0d9ckTugD7HjbGyLdeP8rA4PtOcypffs4qn37L6BSv651kp33kz633Ati5fRXZcnV5aaVWTPmys0zPmx9+Yle24qcuzokEdcEkaVbm6uYtsyV0vRu3FnPjkCgr79bIBZx5qhf1zjDejMrXk1mes+o1p8Ym20f/0A61kgzUb2xK5fxE9AFmqCyFEB2CQgnidT1AH3LHgBuaz5o6ETg4dHnyo+wfCfnFxyw44Vv233HKL88OeCIhZKC0tdWGG98jlg12IVYGPPvrInnrqKfdvW+qDEEIIkZeov4UVa9VrH9jCv95ri/52v1W/+oHVzVlsdXMbj4YlFW2zCo3CrJkx1xZf+6gt+sMdVvXs280FdUB0X7DMKp98wxb+4U53bd3S1t2ZYWG75PbnbP5PbrCKB1+zuk8XNRPUgWuqX5tqiy691xZedp+LS7us4UUTNR/NtooHXrHqiVOtZvKMFkf9wijv8vRP6qL8r/3gk9TftnbUfbLQGqIyJTISlXVWcDCRseDSe2zRPx6w6gkfNtVnDqzVqYMdoaGCdmOqVT4yITXfat7/2OprVhhdtaTBrV5J/W2Gg/vnK3NCrGykNgghRAdAJMeSNAsPP/zwZ85tA6L2pptuajfccEOz48orr7S99torvqrjnHzyyS5M/x5/+ctfbMMNN4yvEEIIIYT4jFPf4CyOq16fZov+ep8tuuQeJ0RbdT4RLANRuDVTPrXF/xpnlU+96dy/NIEVKRbjgdU47iOwZl/0j7FWj1uKHDRU1tiCy8fa8tufdy4tmiC4JNzmQVv1hKm2MHq+2pnzOiwifmaJ8nDprc9Z/fyl6KCip0KdjupP1cSozF92ry1iQmnSR9EgNX11SoeI7lX78QJbdu9LqldCxEhUF0KIdoLl6Pz58+25556Lz6wAy+mQ119/3bmjybUENyvcF4tuwuHg786GeyThd/QeLMtbe+21mx24ZukMNzQJffv2taFDhza7B+5ouHdbCNM2efaushLuzHRuL7meuSsI79UZadsVYYYQXlvDD+PV1t93FWGcuio+/n2683mFEELE1NVb9bsznQXrwj/fZVUvv+8E684AtyxL73/ZanyXDmjdpcVWtM5AK91hEyvZcrgV9CtvLq7X1LnfLL39eV6c8ckVIKIvueM5q37u7fhMTFGhFa7R10pHbxIdG1sh7iyKm0sbdVNn29Lbnre6hW13PSLMlj/7ltW8PcO53elU/EmWfEf0v2iF2jqremuam0Ba+Oe7rXr8Bx2fIMsDdaniidet7uMF8ZlOJK0MpB1y9SJ6GEXnn3/+BfHfbaKqqir+Swghei6LFy+2V155xT7++GM7+OCDbfjw4fE3HQcr9fvuu8/5F/fB5Qk+LydNmuSEpQSEJcT27bbbLlV0bw1+zz1xBYHf8RdeeMG5ScHvMgJ1WVmZuw5XNPiQ/+STT9znhG233dYd+YRm4otfcsIlfMLhfrT5+G8uKipyzzdz5kzn39N/PvydE/4WW2wRn2mEeOPPk2uTIxHZEh94yTUIcI899pibfPDBJ/0hhxzi7p/c03ftwjlfJEzuQfjJPXLBdRxsCMl98UlPmcGtzwcffGBLlixxaZukb2vhAfcPnxmSOPOZfHvvvfdc+XnppZfcvVjJ0L9/f+caJ8t92gvPSxzIV+JAPhMHyuz06dPdefIziUeWNMyX/vxNepC+lF3Sl/suX768WdltyzNzDzawxdf4yy+/7OJP3lH+iT8TLaR3lviHcedIfsf5WbNm2dNPP+3iPWfOHFcXqMOhe6EkXclb6tCECRPcQfzeeecdV5coT9TBxAdkWtySuCR1mfbLhzq29dZbuzC4J+R7xiRe7IczefJkFybP8sYbb7jnIW9wmUT9gnxhQZKfSVolB7/nO9Kf/Hj22WddOnDtGmus0ZQfQggh2gZ9hPvvv9+2335722GHHVybnRXaZ9rm5U++YUtufMJq3pre3IqVdtkd8eeY4vWGWOnWGzgfyfnAyhyXE8uxXk108SisojUHWJ8T93T+lXvvtVV0jLKyXTe3+kUVVjdjbnxhRG30Dp690Eq328iKBnh752D9/tGntviKse7vJgoLrPdRO9vA7x5tvffd2nrtsaX1Omh7t2lm7UdzXHgJdTPnWelmw6xo6EArKOpme0Le1zxGckAPfSfWL66wxf98yLkMaYqrS7/kQyNlO29mJcOHWEFxY/8hpAbXL+/MdD6+oaC0yIqHD7ai9de0orUG5j1KRw6z0o3Xzhm2MFv+yERb+u+oTr87y60saCJXnY7SvWzbjaywd2O/uy0wwcVmw0tvfnrFvQifckHZjsEHfq8Dts19j+jayhfebdYGFPQps5LNo3q6dnpZ8I/yHUZY0cConYiejz5lMjYVorvQRqVCiNWartyoFOGMTaMY6PhssskmdtVVV9kXvvAFJ2zTZiYMGjTIbSKKpXZbQGR74okn7NZbb7V3333XCcA+CFaHHnqoHXXUUU4ku+aaa9q8Uem8efPs0UcftbvvvtuJfz6IYUxIHHPMMW5zUazuO2ujUq4hf7773e/G37bOEUccYWeffbb169fPfW7vRqXkDcIlrnk4EJSJTwhpNmrUKDv66KNtp512yrlhKiAU33bbbfbPf/4zPkO/r8AOOOAAO//8893qBiYk7rjjjhaTB1w3ZMgQ93zHH3+8E9g7G5556tSpbvNLyhQTT34ZTSBtd999dxcPNorNNxnDprKXXXaZE8wTKOvf/va33XNTFvGVz/cI4T6U3QMPPNCVrfXWWy9Tx5g9ChC577zzTifOh/EnDDZxI9zPfe5zbuVCrnDJr1/96lcuvATKO3GnLP/jH/9w9/H3QyAtvvjFL9opp5zSVJ+IA3G5+eab3f4JiOdp6QpMVlCePv/5z6eWp7/+9a92zz33ZHIXxf2pd9TvNEhv6iv1mvQnXiE8L/V3//33d23IsGHDcqYX9QNh/swzz4zPNEJ5QfBBRP/lL3/Zog2h/bjoooucS6ZwMkIIIUR+OmOj0qp3Z9nSm56ymte99rmo0IpHrONEZ3xf182YF39hVr7r5tb3lL2seN014jPpVL//sS258XG3KWlC0ZD+bpPT3oeMjs+sAKF20dUPW/UrU+Iz0Xu7rMTK99vGBnz1gPhMFPfqWlv4t/utKrBS7334jtb/y/vGIm9zFl39iFU+/nqzTTVLd9o0CvdAF6fuAlc3NdPmWg3uaGKYdCgbGb1ve5poHHVdFl//qFWMm+Ti7SgptLKdNrPqqOw4X/sx/b91uPUas7nLvzSWPTLBlt/9ovOPDqwu6P+V/a18t5Hus+gYbDC89JZnGyfKYgqKozodlavCNfpb7bszm9IeynffwvpFdadocOP4qS3Uzphri656eEU9LyywwkF9rGTEMKt64Z3GcxHk8Rq//bIV57pHfb0t+Mu9VvX8inpdvMnaNvjCU3KWo1zQn0yMVIToLjSqEUKIdsDgBMvTUFAHhDxEs/3226/J8jNhwYIFzjI5FBbzgVD85z//2f74xz86y9JQUAeE2v/85z9OtELAzCXm5QKhHh/kiHmhGAZYOXGeCQqEaoToVR2eaezYsXbuuee6SZAPP/wwVVAHxE2sjS+88EL705/+5ITD9oD4zOQOAnQoqAP5xqTIjTfeaD/96U9brDboKAysmdRBEEVkZYI8V1lBfH3wwQftW9/6lv373/92ZaytUFYRmSmXWC2nlXvCTa4JV32kQRqSB3/4wx9cuU2LP+fmzp1r//vf/+ycc85xm322B/z0M0ESbjDM57Bus2qFssQeC7kmKhLIByzYmWT517/+1WX1iTpLWfvxj3/sJlDSBHWgLhCH//73v/ad73zHTSJwri3wvJRXJtvS2hDKdWKtLoQQYuWD1W/J+mualTS+v4qHD7F+px9ga/zoOOs1ZmSbBS0HmyPOmm+178yMT0Qg6m001Mr32zo+0ZyiQX2t7zG7OqvlBAT06glTrD4Rw6NXKNbS1S+/1/g5BvcxfU/YI1VQh34n7G6Fa2DFGp+IqJkU9e8WLeNFFZ9Z+dRFz1LxxBu25O8PNB2VD47vUlcd7aX6vVlW+ezkFYJ6RPmeo5wlcUFZcXxG9ARKN123sU4XRQU++p961+8bh9igH3zOynfctKmud5T6pVH5ffWDZhNnhQP6WK+DRlvR0AHxGSE+m2hkI7odt1P7G9Os8pnJTUfVK1Gnall20VGIlQ1iYdoGpQhtWOYiHB100EEthDd45JFHMm9Yyn3+9re/OQsl3wo7F1ikIlBiHZ4VrGsRcZ988sm8QiDg1gEf8pdffnlOAXpVgLhfd911TjRFTG/tuRPID/KCPEEUbQsI8Yj3WQReRFcmbbg+a9xag7hfcMEFTjjFOjsrlFWEX1Y/tEXkJ96sHkCUnj17dnw2N0wYcZ+0PQoSSBMsx7OUVeAaXLdccsklLt+ywu9wj0JdShOXqd977LFHk9saJgxIn7ZOPFAOWTGAlTwrXzqTt956y5VT8oB6mxXEdZ6FCbS21HEmTEhnxPM0WPXQFncFQgghOhcsWJ1Lje02sj4n7mGDfna89Tlou1bdu+SjbsFSq57ySbONSQsH9bPS7Te2wtIcIn1BgRWUl1rhEE+Mi967DUurrBo3FnyM3j9VEz5osTFp+T5bW2GvPC4Uo3sWEa7X/26oqrWa9z+x+k7yH79aw+akNz3lJjQSCof0sz6H7dDcNY/oERSUl1jxputEdXpj6/uFfWzQT4633tSRPuXxFZ0Am5NOm2sVD7wSn4juW1pspSPWtd77jorPCPHZRaK66HbqFy23qgfGW+U/xzUdVf97pnGncSF6IAhuWHyG4ihLz/CXzoaZgMuMzTbbrIVlJn6r8UmeRbDCBQS+idMENwR73DSMHDnSLQPmM3FDfM9qCY9F7eOPP+5EvTSRsry83DbYYAP3HIkrEsTZfK4tVgWw0sYKG5c3bYXnxo0G7kywlM4Cv0G8R3zlb/IKdxtbbrmlrbPOOqnLFhGz33zzTTfp0RmwCgHBOrS6zgJxRpwl3bKmGS5aEHZ9QR1RlXKUy5UMk0EPPPCA85MegjiONTj1ISx7hLfuuuu69AyXxHMtVusI9mkrS9LgN6RVLmtt/JlTz6nb1LXrr7/erUIJwa87/s9pF4hf2nMzgcIqCJ6vs6Cs4V6IfRHCtMoCKxioH0zAZIXnwO1NLvbdd9/USUYhhBArj7LRm9igc462fsftZkWDo35dB90mMI7zXZpA0YDezo95GrhlqXjlfVv4pzut7uPmE9H4RK+ZGk/es6mqb/3uKGi0vs0R5ZqP5tiCX//PqifPiF5KzfvYNdPmNHMJI9JZ9ugE5wed9E/oE5WV4rUHmtskUvQ4cL8z6HtHW9+jdraiNfrmrB/tpXbOIlv+2CSrn7ditSPW6X0+v5v83QsRIVFddD8M+DkQL5oOzsXfC9HDQFRGHA1dKSCM4volEUj5Fx/FuILxQUzHarY1a2GsXhG8EQRDEOl+//vfO6EQy11cv+B6An/FbQHLdoQ3BDEfxHTc1xD2tdde66xWuddXv/rVJj/mnQXC5EYbbeTcRvzgBz9wPulDEKBx48E1HGxaShzbAxbjpH+4+SMwecB9brrpJici89z45E4Takk3/LDncqkRwm8oEyNGjHBuP8gzfMHjjuUnP/mJc40RwmQKm292FERbVlZQdkN22WUX53rlrrvucqI5rlV22223FumLwIxVNRb6aeGkwTNzIEJjJc9EBPehLB133HFuw08f7sHzhhNWlE8s2Vnl4YvEiLQI6biCwUUN6UnY+ENH0E7gN4j7XJOV5D6JKyd8lh922GFuUmDvvfduslJ/5plnnCDuT5JRpvG5fsMNN7g6hGsl7o3lOGkRisu4AvL3qkGAZo8B7smkVsiOO+7onpG6wHW77rpr/E2jxThlM82an7pLG3XppZe6CTtWEZx33nlu47sQJglwj9SWFRncjzKOb/wTTjjB7SvB85LPxFmiuhBCdC+4eHEuPBBIO0F8q19eZfVsZplAsP3KrXhYyz5N/cKltuSWZ2zRZfdY3acLo5dG/EUCrmQ+jieosY71NzOFkkIr3WQdOtjxiZjo3bPsofG24KKbrebdqG8XCOpQPzu6Xw90tdKTqJ231Jbf97I1LF/RxyvdYRMrH72JW1nQKUT9vLoly602KjP1FdlX0a0M3ITP02/Zoise6tBRPfVTa/AmJbqaxjpd0iWTHqQJk1u+//PC/r2tbI8trWSjRiOyTiHqQ1MmOKxOIpBYtZCoLoQQbQRXCmmuJNgwELEtEdUBMS5N/E38G4eilw9CKEJgaC27zTbbuE2qdt55Z7fBYWlpqRMQ2aiUjROzCusIowjMofUuIuKee+7pfGlvuummLnwONv5EYD7ttNM6VRwjvRCtiT9HYunvw/PhTie5hjTIZe3cGgiz+HwO036vvfZyExPJhpkDBw50gi0bon7ta1+z9ddfP76yEdKPDVY5soKgjj9zyglW2zwDgiOuMU4++eT4qhVgVZ4m/rcVBPw0FyAnnXSS/exnP3OuTMgDhH02zmSjSTZlDSdQmAii7LPSIiuI9mxUi1BMmlKWKKOkKZug+uI3YOGOmxffcps0YHVAuGKD8kk5HT16tAuX9Ew27eWe/ioRxGYmkdL8feeC8NjLAP/2bA5H+WCSiUkd7gfUe+oieZsI7UxKHHnkkW4yiDA4uB6rddIhnKThmf38odxR3gmHjWtDSD/cTPGcXOdPRLGyAWv+0MUUcaGMMXGFiM5GstRpwuEcmwb7UD9of5gEyddO+dAukN+4LWJDPfKYCQUmE/Jt7iuEEGLVpKGq2urxVx5TUFJsRf16u3+bwAL9nZm24C/32PL7X41eyLXRD+PvPBrqG6xuYWNYvHfq5qyYbIaiNfq18OnNvRf8+R5beuOTVr8g+i2GWSnUL16+UoXOVZFlNz9t9fOWkvjuc0GfMuv7ud2saGDnvb9Z2bD0usdt3jlX25yv/8M+/fIlNudbV9r8i26xxf972qrfnen863cHuBqqfmeGVTw+qUNHPeU2Rzlc1aidOd+Wjx0f1fM4T9x+CWtaHzYgDie3OgDuZeb/8HpXLj79yiX26amX2LwfXmsLozZj2cOvWR0eDFaTNBWrHxLVhRCiDWCNimsK3HL4IN4hgIUCIcIVFpqhtTouNPDZnM9NC/cIraARrRDrNt9882aCIXAPxNpRo0ZlEr3xnTx9+vQWVuq4rdlnn32cCOffA/EbK12s5HmmzoSwiT/x9iclEjjHd1zDET57VhAJJ0+e7Nze+CBSkq640iF87sfBfRBKER6ZIAmFwalTpzoXJ1lcqiCib7XVVqkWu6Qr34XhU96yWsLngkkTylLobmjbbbd11sSU0STdk3RGKP7KV77ixF0EYR/KLYJ3LtcoPgjciMihdTb3QbBn8gYR1oeBNCK6P9lDWSXffHGXukZZJ93SwkY4Jj99EOWZrMoKgjXlnYmxRBhn0ofwuQ8Q/x/+8IfOSh5L/n/+859uIobrkmsSKE8I2aSvD+2AXw+5Ll99SL4P6wPpk+S3D2UY4Z9JMcoh1xMuB78fPny4m0wiLX2IFy6OsrogIn2YNCJ9kskE0g5r+7TnEEIIsYpTU9fMstlwB9G7cYIZ6pdW2rJxE23Bn++ymskzV1iR8w4KrWt5xy+PJ5jr8bHuTQ5HlxUEvt8rJ0y1eeffZFUvv9e4qWbcRSgoj8Jl40YPF8cM/ZbPKpWTPmxMR0/Q7n3kzla83uAoLTtRMoryqKGmNsqvGpdnDVF+1326yKonfWQVd79oC397mxNSq96Y1j0iKvdk8qUDh9dVXaWpX7jMKl9812qnrDDuKVpzgPU+fOfO9dkO1PcqykR0VETlYlmV1Xw4xypfeMeWXveYzfvJ9bb45mfc5JgQPY1ObCGFEGL1B5HpscceayFEI1Lh6iUUjviMGBsKk4hfhJPLBQzf4xIitDZF8EYASyxiQxDMsN5Ns24NQdhPcy2Dn3bE1DQRjHOI7YiZqyL47Matji/OAoIjaZuIkyGIoIirWCP7JJbkWfxhY6WNmxtfAE4gXREfQxcwxDMsa20FETktjCOOOMJZyaflMyBaY72P6O5DmZwyZUqLiYk0mPzJ9cyA2JqshvDB9UiyKSppQFllAsiHiQjyLFd6IuyGojqrC7Ju4ksY1F1EZx/O+2nG9+QddY885p7UobDOU9dwyYLLoLDeMeGRZZKiNSjbWOKH7QrxYQVCLmtxnodrmEwLYSIC1zutQd0hr8mTkFz1SgghxCpM9H52G5QiJiYURu/I0ui9WR/1X2bOsyXXPWpLb3yica+s+D3nNjncfiMb8H9HWEFJ83d408ak/Fvr99ViET4CUXbJTU/ZokvusbqZ81cI9RFF6w+xgT841ol/vnsb/LUTX9GS+qraRiv1ZEIjonjE2tZ7r62ssHcnuX3JB/mCGB3lef2SSqsaP8WVm8rnov6a8qx7iPID3/rLH5vo6jIU9Cm3su03sbJtN2xWt7qMeIKDiR7aj4p7X7JFVz5kdb67KSF6ABrlCCFEG0BgwnWLD4IUYmgu620sWfneF+Ig2bA0TfBEFONeoXUxwldoDe/DPbCQRdxrDTY0TbOE57ehewofhDnisSrCREXoQgTBDyEw3zMDLmHWXnvt+NMKEDLnzJkTf8oNwnwoUPuQ9qEFM4QTAG0FS+NQsEUIxno8FLN9KEu4K0krb5TbMB3TwCo7nCjwIR5M0oRpT9jJxp+I+KRxuBoAgZyVAo8++mjqwUaj4eahhEEZyAqTKGG9bQ3KE3FjBUPiox5XNOxH8Jvf/MbFq7X9FNoLz4tgH5YZJtko4/mehXxOm+BgIjGLyxzKL6K6BHQhhPiMwKsmFtx8sDitZDPSS++1ymcnu8+JFXnhgF7W+5hdbOC3j2i0gg5fS3yOrm1oSJloLixwm6Iu+M1ttvz+V6xhaSUXNn1Xtu/WtsYPjrPSrdaPN1D0Anfvv9zvwM6g+u0ZtvBv99u8H13f4lj4u9ud1a1P9Rsf2fzz/5t+/Z/vdq5QVgbLx75itR9F/dh4cqSgtMj6nbCnFQ6K+n9t7AOFFA3oY8UbrW0lI4c1HcUj1rGidQdZISsPilP6DFE8aqfNseVPvO7SdGXBBALubtb4w6kdOspGUf5W7b5Q7ccLbPljb1jDwri/GtWv4vWHWO8jdrSCDq9ciMIatoaVbLFe83Kx0VArWrN/40qTsNjRJlTXWtWrU6zi0UlWv6S50ZkQ3YlGPkIIkRF8HuM/O826G0HpyiuvdBsAhgfuICAUtBDe2Ig0TZzkXJrYjjVsaDkbguid5sc9hOcJ3c8gqCXuIXLBNQhwbRUbewJsBkm6+/C8WDW3lq5YdXNdSDIB0hqEnyaaJ5CercWhPWDlHYqsTJwQl9byEME7TXhnMibNR3tIlrJI+ocW1ORRUja5T1r6IrTfd999zud52oEfbzYU9mGSCuE5nKxKA0vzcCPVfBBnJtx+9atfOdc5+Clnk1I2+8Q6nnzgORD2w/wgHzqjPjEBwWRZCGmcb0IHqPNcFz4z7RA+31uD+GdZISOEEGI1gXcX4qH3+sJ9Q9VL79jifz5otR/OWWF5XlRoxZusbf3PPtz6HrWLFfZt7A+F/rMLShsFtYKwPxS9N2s/mm0Lf32LVb813d0nAaG+/5mH2IAv7WNFaw+wguh91sIyHYv4Lu624rai7pMFVjP10xYHm642BEJg/bJKq/loTvr1M+dZve9Wp4uonTXflj/4auPER0z5fttayabrtFhF0B7KWJFw5sE26EfHNR1r/PR4G/zrL9qQS75qg3//Fet72v5R2VjLCbdN1Dc4P/xVkz5qzMuVQVRuigb3tdINh3boKMT9USf06boLVixUvTnNqse/31SHnNuX/be14iH93ecOEeVz32N2sUE//FzzcvGLk2zw7061Nf/2DVvjl6dY70NHW0G4UiIqC8sfnWh185Y0r99CdCMS1YUQIiOIfIjgodUvAhm+uu+9996cB64s0tw7PPXUU07oDUU2rg3PAcJXa+IbYmCaS4wQwk+LUxZxj/C7QgDuahBTw3RFNM6SXjxv2jMTZhaRlrzLl2ake1dY+aZNziB0Z8ln3AylxSlNGE6De7R2H9I+TH/KZZKm/J32DJynTiIipx0I2OEEChBu6FYpDSaOsuYHPsd/8pOf2MUXX+zaCCz5qdfEgUkBv3wgXIflIEteZIE0SavTpG/a5EgIzxteRz6HqwTS4BnyraIRQgixmsGri/c37l4SauusfmGF25AyeiG5UwW9y6zXXlvZwO8eZWXbbNhoiRq9WxChzX9lFUZ9hsRXc1H0d6/gfbS4slFMiy2qAav0QT85wXrtvoUV9uvNy8jqK6qaXQPOB3Rn+gZPg24Rlvu5jrDfxMe06zi4NkM/q0NEweNGpx5r5PhWRWsPtD6HjrbCvp3jM5sNa0l7rNKbHf17W+GAPlYyfIj1OWBb63fq/la63UbxrxrB5zqTC7Wzm29Y26XQH6Pv15Gjk/p03QWrFirGTWia8KIeYlVevuvm0fN1zrMVlJe2LBMcA6JyMTAqF5sPs34n72V9v7SvFQRlkQ2Ja6bObjYRJER3EtV6IbqW2vc/saW/v9MWn/Ov1GPZb263ureb+yOujzpMy/5wV+r17vjRjVbz1spbDiYEohjC+KuvvhqfaQ7fI/DlOnxRzQe3IRMmTGgh8iG6pQltCHRpopkPAliaCBmSJmYSz9YEtESMz/VMPRkEw1AoRXjN8iykaVrakFeh/+w0yM+uEM1bI81SnDKZhVzlLS0d0yBtWytPpH2Y/pTLRHjm7yzpmxXKb5b6kW9VgQ/uZHDxwioWrOB55mTCgTzHVRKbteIChpUrbGK6zjrruO8TuC6tvreVXGWR9E2bYAghr8MVCORzrj0cQrKskBFCCLH6gH/0FpsWOkE4+jd6ryHS9vvC3tbv1P2seK2BsVuW6Ova6N0/p7lvZCzMC2NLWNdnGhDsA5KEG4EVde/P7er8spdsNLTR33r8Gq2bvcgaQlF9UL+me4tGKrFGnvhh1MFdkVZMgCwb+5otvuEJW3z9482OiqfecBtI+uDeZ/F/nmq6pnb6vKY8ygQTKVHelW62rpVtvYETVZsgu5dUWMPC1leDis6hbsFSq5o41WqneauyozyqW7zcltz8TLPywMG56remxRc2wqbAy259bsU1tzZfNZoFXMxQFvHrX7LBms0nxOjHf7qgxSoXIboLieqi66mptfqoga6fuyT9WBC9KKNrmhF1hHiBpl4fHQ3zoiP8jRBdCCLkM888k1mMzAoiFi4jsKz1wc1ImjiG9WsoeoXgmiOLJS4CGFazPgigxCWfAMd3uINoTdzvieD2JLTExX0Lm262Jv4imKZtzonrkp5soYsLl1CwJf/I59aszZlISitvpGMWoZX7tOYah/QPyz9hJ2WTepAmcLPJKdbht9xyS5sOXLKwyWk+SK+sQv7//vc/++CDD5qVHyYCDjvsMPvLX/5il1xyiX3/+9+34447zrbddlvnYz6czOoMQR1Is7SySB7gLicf1GfyIXT1glCfzy9+QlvSTAghxOpBQa8SKxzUchNsxPay7TayAWcfbr32HtVo+ey96xDEamYE7hRxEbNe/L4pbBTk0yhaZ6AN+N7Rzo1M0Rr9mgtuEbXTo3ATtzMxxdFv3AaqXUjJZuta/zMOtkG/OqXFMeB7R1nZTs03uy8dtb4N/Nnxqdf3/9bhVjpi3fjKrqFhUcsxOGlX+cTrzlI5PGpwxeK53YGaN6ZZ5WOTmq6pm0Mfoi2qeiNMeDChgpWyD+Wkvjp//7yzqF9W5Sz355x9ZYeOyglTV57Lmk7GpffiaAzpTUohktdG+eyXheSofPIN5+bJx+2p8Mybza5pL0y4FA0b3NIVkVvl0vZyJkRXIFFdCCEygPAXblDaWaRtWIrwi5AVilTTp09vsbloyKxZs1oV0ADhPvSfjMiKqPbxxx/HZ1rC/bNsXNgTYaPRcCIBMRFRFJ/X+cAiGZE5hE022Ry2p5K2eSRljXLXmvUym22GgjewaWuWiQTSLN8mrlhQk+7hhqKEnQi5COr8HU6G8FuE3HXXXbdNB5unZrGyz3INk1yvvPJKi8m2gw46yL7whS84ER2rdCYhErcvpHlomc9ztEVYp56mTYgwWZAmgLMPxJQpU+JP6VCv2dQ2tOJn8o0ylIVwskAIIcTqDb7Ri9ZqvmcHFqZlu29h/b5+kJWMWLfR3UsArj2qJ0+PPzWCcFayaSwkR+/g4g1b9q2KN43eqT88zgn2jUJ9/IUH/qBDK9aSjdZutGbvQgr7lFnJ+kOsdLNhLQ7uHwrGhX16WWn0PKnXbzDUhdelpBlW1NS5vME1T4uDNA1+g5Fbs+uDFQJtpUWMsFheWX2L6NnYALPu04UdOvyNeVdJwnIRfSbvm5WF5GCSJZxA4ProfLNrOkAYHUewl4MQ3YlEdSGEaAVEMMRFBG0fBKTtttvOzjvvvMzHmDFjWgjliRW8L5YjsG244YYtNnDEdzubHqZZTMOnn37qhLHQ2jQNLJgRGEOmTZvmBNdccI+XX345/tT5pImLoQjZXkaMGJG6+eQLL7zgRMdc1vdY+r722msthEkEX9x7pKVjT2H77bdPFYjvueeeVH/+CQjdbPQZliXSD5E1i6jOZAXlkUmpNKhT77//fgtxH2EYARyIO5tsMiHiw8QR9TJX/Kkrl112mbNMZ18D8o+ym5UsIjeTBjxbGAfEdOpXmuU2kwxp1v+5niMtHlybdj3iPekWWvYz0Yb4n6tdICwm9vAHH0I+8zxZaMvEgBBCiFUf5xd7g0D8ZtK7rt6KB+NypWX/Ayte5yv7Xc/9Z1GhFQ0dYCXrDW76XDpqg8a/PRqWVVrx0IHOV3catZ8utBo2MvVE9aIoHoTb1Zbq0UuQTkuj64rgcNb04Tsy+ph2bXK0uH51pr7Bue3BBayP88feP5s7PrH6UV9T6zYobtrwOIaNUy1HGyDEyqblW06ITqYw6iCVHby9lR2/W+pRymYowfI+NqkpOWi71Os5So/dNeeSQCE6G0SzJ598soUFJ4LZIYccYvvss0/m46ijjkp1ZfH000+3EDgRskIBGHEZgTDNyhiXLw8++KDz0Z5FhMbCGhcaoXCPlTrP++abb8ZnVoA4xz0QS7uKNCEyi6uSLGBRjrAeCsI812233ebSNUy7JF0RHENxeJNNNrFRo0Y1+f/uiTA5s9lmm7UQ1tlc8+qrr3bidJi2lMVrrrnGJk+e3MItzs477+wmErJYcjNh9Mgjj9hLL73UIhwmkSj3iL3+/RFmse4mbRMQ1Lfccsv4UyPkyxtvvOGE/xC+w8f5/fff7yYPrrrqKvv1r39tP/7xj+2mm26Kr8pPFoGYNiGtXGJ9H7YXQFpTP0PLfMpcWjhM3KXFg7of1n/g+iS/fRDxyQPKeLjShftOnTq1yY2ND20D7VAywSGEEEL4YC2Oz+PCNVb0qxqq66zmw9lWOSG9r1g/f6ktuz9693sWrFiRl+2yeZPfc0Tl0k3WbjHeq5uzyPn2tjQjiOjcsrtfcuFHL7f4pFnZ6E0afXV/lkTqDBStPch6HbS99TpkdKajZNTwFtb+pVtvYL0O3K7pGvzmRwnd+GUbqHr9I6saP6W5z/aSIpf/RUNX0pg/Kh9oEJTljhxu8mYVLWqFvcvc5r9+vuc7yvfd2oqSibAYykj5PqOaXdMu6hts2b0vW92s+VHFX1HfC3qXWslGa1lhygoYIbqDovPPP/+C+O820ZpPXyESnC+sdQZZ8UZDrXjjtVochYP6Wu2UT6zB26yGjk/5MTtZ6XYbpv6G5YAF/XtbQSftQC1WX7DoRrRDKD744INt+PDh8TfZwHIZwRXx0W/3ELqwCv32t7/t3KggqmY5sF596qmnnKjmi2iItYiI66+/fpOojLXu66+/7uLuC70IzFj38i9hIq5hDXzzzTfbo48+6gS9NIEOcYwjCR9RlHCxUOUZE3hm3EV8+OGHTpzkeuKHdfqtt96a07d8IsBtscUW8ZlGwY6w7rvvvvhMI7jy2GWXXVqIf5BYjfvwjKQ5z8xmsYiApBXPD8SNNPCFRoTz/fff34YMGRKfaXxm3HBg7U+8Eogn6cZ5XLzwfHyeOHGiEyIRhrF89i3ZCf+AAw5w9/BdkyAeY0EdbmpL3u+0004tNqlMwIoYgZj7JPB8PCcTMu0FoZVnfu6555oJvTwLeY8wjdDKM1PWXnzxRbvhhhucCBu6fiEtTznlFBs5cmQzVx+UZ36X5jaIOohYy/NRlpLyevvtt7t0DV0VIaDvt99+Nnr0aJfnwEQUZZH88POYeGPtTlxIV3yxs6qAOvbvf//bWYVzPb/lPOl54oknNltZQH5xPSs0Ergv9e+YY45pikMa1J+xY8e2mGzhvptuuqmbxEnSiTJ97bXXurJKfHwof3vttZdbAeDfj+fDwj5cJUNeEW/SnfrCs+GSByiXTIpQBv12g9/gtilZOcBveGbaDNqOcKKOeNBefv3rX3dlNyFXnSZtd9ttN/fcQgghOhfeo0wUs/pshx12aOHKLh+872m7sfbE5UrVxA+t5oNPmh9vz7DaD2dbw3JvjF9abA219VY7a37Tde6amlorijcUjV4W7mD/LL5LqI/CwfKYcR6W5fhIRxjDQn3prc9Z9WsfrBDKYv/p/b+4jxP1migqdBbn1a97LgfrG6zmw0+tsG9vKxkW9e+w6Ob00kpbettzVvnMW84HdEJB33Lre9KeVrzu4G4dN+Kvu+btmW7Mm1C83hAr32lETqv7rgbXPaUjor7TlsMzHUyWuDE77k1ieh+xk/Xafxsr33oDd03hGv0arewjWJFQ88GnVsf+acWFzr2P38chb/HhXvHYJFv+0HirmxqVH088Zczfa69RjRtVer/rKpjQKV5/Teu120i3D0B7j5IojEZhvevjzMRU9eQZVjUpR52eNsdwwdJEWYlz0VM7Y27Tde6aKK9Y0UFZLBra38o2H9Yi/9OO4g2GWu0nC60uCiOhsF8v6/fVg6zXDpu4a0pHDms2GVMf1U9Xp6M2ifgk5SWBusIzLb39Oat6ZrLbrNan155bWvkum0VtRbkrT/Sz8/XVhehqJKqLrifqwLiXaPRySTt4GdREDWtD1PFKoANUGjWYRWv2T/2NOySoiwx0VFRHfHrssceckOyDOIiARJhteZHzO0RThC3fcpfBDoMeBkqJFTXXJgKw77aBaxOhEiGT+GHxi1Ux54kPB9f5hKI64IOZZyQ+iG4JiK+JyIzQyz0QZREGuR5xmk6MLzJ3hqjO9dwDa14fziPyI1QjMiL+8Xv8PUNWUR2YDOFZERQRFhMQIBEjSVesnHluhGUsujnvPysCIiLoscce6wRHvwz0NFEdEJERepmM8J+DuJI/pB1lifsTb8TXUPhFsMZP+B577NFURhPyierczy+vWPxTXkmjcHUGz7vrrrs6MdvfTJTz5DXXkx8JhE26ERarKxCIH3jgARc+cfHDpi4deOCBbnWJPyHQEVGdMJ9//nmXhn66Uq6YrCBeiNUI73fffbdb/REK8EA8KRuI6jxrAucp76SdD+En5ZSJBsr4Ntts4+oldYu6SLpQZxIIi3LPpBHxIN7UaX7PpJpfd4AyQ34TL39VAuFIVBdCiJULbX6HRfWqGqt48DWreOg1q3lzerPDieVLo/e+t/lfw9Iq53qhZvKMFde+O8sKy0rcJpsJBb1Ko5dAkdW8H713l8Z9ySgcNsKseWemVU2aatXRbyuenWwVD4+Pwoiu84RZRLi+x+9hZVus10yI5P1btNZAq3r9wyisFe9OfHjXTPnYKidMccJh5Yvv2fIHXrbqSR9a/ZLo/tGzOqKg+hy1sxOuC4ljN9ITRXXnZqa8NPNRM21Oo2udKP0TynffwvmFZ8WCu84XSKtqbdmdL9jye19ykx0Vj06yiidft8rn37aKx16PysIEq3j6Lat54yOrm724mW9uNr/ttc821mvMSDfuXylE5Y1yUti/d4cOt6lmnr5jZ4IP+OUPT3Rp6ddnDieWUx+T+hDB59qpn0b56NXpDz5xz126RTRGjuJNeQzzPtdB2NWI91GYCeyp0PvwHa0Iq32u8wR1fM3XLVhii/5yt1W98I5VPM6muFH8o3LgPj803pZHn6tefKdxAmcZ8Y9/G4GRZr+orSheZ41GjYk2QqK66GaaTwsJIYRoBuIVghuDER+E6X333bddL3GscNMGQ4hb4YalDJ6OPvroFj67EzERn84IoIhixJV47r777s2E7XxgAYw4zORA6AYGsRFhHbERcQ6xF1EOQXXrrbdu4Y6jMyA9EebTQFDFJzZxQjD1rXDbAuLwoYceakcccUQzC1wgTKyDER5JU4RoxGU//8l70uzzn/+8sw5eFTpylLfTTjvNifP+pApQ3rAW53k5SF9/wgcoJyeddJKzzE/zSZ8LJrFI42TCgvJKWfLLawLCLdbpuEhK2/iVyQjybccdd4zPNEL8EXkR26lDTC6FqwrIc37HM4QbnnYEhGQmVlit4sPz8qxMUiCoMymHIIKgjljP9b5QDaRJ6JqFtCYtQpdRPDP1n+dkQoO/E7Ge8ogLGOKFyB0K4hhFkF7cj3rEb/02B7jnySef7MqLL/ILIYRYhYneAViiY1UeHk58q13x3gQs0usXL29+7cJlzgrdBwvf0s2HWZ9DdmjcPDQGy/i6TxZY9aSPrPLZyVb9yvtWO21uM1G2oE+Z9T50tLM8jV5g8dmY6HPRoL7W/9T9nMjaRNR1wMVLzeSZUbhvW9Xz71jN+580F9Qjeu2zdXSMcn65RXfQYPWLllvdxwus9qM5jWLuux9b9RvTnCUyYi6uPeoXVzSzUGcVRG/c0uyzlSsfIg9MXi2rbF5H48PVaS9dgdUB5Emza6nTvjV7lxLVzyhOrGKpnTHPTeaxmoHJseqJH1r1u7PcubpPFznDy2aC+oh1rO8Xon4pGxgH1u1CdCcqjUIIkQOERYQwrHh9EKmwDEXwbg9YHm+++eYtxE1EMaxHsepNwDoXwftLX/qS838eCnE+hIdgj3sLrs0KAhoC3HHHHecEv3xg5U18ECdDIbEzQBBkQgABNJ9YjfDri6ZthefACvmMM85wPtHDvMgF+U46nXrqqc43+6okODIx841vfMNOP/10l+dZJwMoS2eddZab3OF3+cpgCBv5Uh6ZgMn3O0RvJoO++MUvuvz3LckTyCPCIe0p52GeIRgjZoflgkkgyuyZZ57p4t/ZYFmPAE2ZCmESChc6CNnEjzJDWhL/sP7g0gmx24d0wFKcFR358ou2g0mKBCYOSCsmUiiv7J+QBX5HffjWt75lBx10UIsVCUIIIUQaiOnlu4+0vifsYYVreZPviGI1dc4FhbNOT0Sy6J1WuGZ/d33vg0Y3d/viU1hgpSPXswHfPMyKcAPiU1ffGC4ivWdhb+Ul1vuona3PsbtaMRsa9oDVzVhb41qkdIdNmo7ijddmUBFf8RmBSQ8mbxB7vSyDgijfSkdvbH2/tK8T1ZlQEZ8RmBxgpYJfj2NwC4yboQFfO8jKthq+8lYuCJERuX8R3Q6zqDUTP2zu/oWNSnfdrHFTGSE6QEfcv2ChjCsMrJURpZIDcRJLZdyPtIdEMMQ6GBcXftiItIj1vuCG4MjGkAjx/M0zEbdEPMSKFctxLKcPP/xw50ICH8xYvfphI3ASRigEI9YhnvE7LFwRP7EqTtx/8P2gQYNszJgxdvzxxzuxjXhjVc/EQxI+mxnigoJwfBAVcYPhxwVxE+E8TfxHLMVnNySW4j7EhfvsueeeTe5fsH4mXbDs9eODUJsmdgLpxjVYxhMP7oswiRAaWqbzPSsTTjjhBGe9i9V0LkEdYZfyhhWx/8yEwb1CdzQJCKNM4pD+yW+w8sadRmid3V7IZ/KY8MgDnpNyEloqk67kAeWJZ+Z60jGXMJ7L/QtL1HG5QvnEWp488i3UyQPuw6QOkxw8K2U8F6Q56YLIzLXUJdItsdJO4DxpR/4jeBMH8jpNmCa/EndMSbpzJG53Wpt8oHxw7cYbb+zSkbTwXakQZ/ZLwAKftKQeJq5seNbkfoTDhAI+5f17Ut45R30nbL//RdiURYR3futbtPMdeUZabbXVVm7CjPhRH/38Jk+pz5RNJk6o4wjy+QT1tDpNerOJbVtdbAkhhGidznD/gpBZM32eE6Hxdd6uY3A/K9l0XecnuRnRewtRtGjdNaxkk+g9Fo3lnNiNBawnlOEao3j9IVa+Z/SeOXaMlW27kRX2b7mBvw8uRbBexj1F0Rr9rL6qptEtRGCFWzR0gJXtOML6fn43K9816u/i972HWLTiUoNNPNkEsmy7jd1RMmKdRiv6VvoZPQU2ia2ft9hZjyflgU1gea7QL7YjyvfqDz61hoVLzbl2CfLLue+IxvrFG61lZTuPsD6H7uBWF7BBrVvxsIqkS3fCahKs/ZmwalZP23AUrTnASkdEdToqj20mylf2XGioqFoR3tCBjW57UjcSLXBxxqWTm2Cpaj7+gILiqL6vNcBKRq7nNjzte9QuVr5jVM7WjspZvJFxAv1l+vyt9dWF6EoKopfsirdcRngpMxgUojNgSdjyG56wutdX+LMtjDpFvc85wnW6hOgIuGC44oornO/hiy++2AnDWUFswyLatxwHRKhEvG0vCJlYpXIPn0QkSxMWEcIQ4hHWEJuJF9chuiGYER9cuBA/vg/baa7jyCWMAoIyz8zBvfiMUEf4HPyegRyiIdf41rHEne9D9yCEQT74EAfEZd9vtg/vGZ6BeyBO46KC8AkboZB/EUmTCQqu43l9K+V8aenDvXgO7kG+kL6ExTPy7MkzcV+O1tyHEAd+T5x8EFLJI1/49OF+iYudBNKJPA3d/3SU5D3Os/Ls5HWSfkzokNfkDc/Ov0k65wI/+JdddlkLP/II2qxqIAzSlzLPvUhnno3wE1E2zSVKLog/ky1JvKkLiWCPGMxB2OQX/yaTL2nwzLgV8ssyUG7aIhAjdlNmSdMkXtw3iUdS3pOJANLCF98ZEDDRQdzDwQFhJ3WBsIkrInwSNunHv5T5NJgwID7+gTBOOhIGR5Lvaff34TfEJ61OI6yHFvhCCCE6zrhx49xKJ1abscqOdj8LtNn0H11/Mxr2181favXLmhsrtIno/cAGl/hLzgUWp85tzKLlTvyuwx86gmppsROR8aGO7+kijKfaKHoTbt3CZW4zUnwzs3mm27urV5kV9YvCxq/1oOg9hl9r0angv9vlqTd2YbLDrTJI6zdQ3uYudr9DSMWdB+IvG2WSP/jxxt+287uNUB+VjWb+t0WrsJFw/ULq9IqxQ1spiPpvBVGdLBrY3A1oFshL5z6G/RhiCqJ+bvE6g3LWbdoHXL9YdVQmor9ZbcJEGRSWR+UhKRf4t4/aGjfxlGO1CX1P+sMS1UV3IlFddDsS1UVX0hFRvSfDAAmhLOlMZBUjs+IPwhABEeu6q8PCc3Jwf541l3DYWSRpi9jKsyOid3b69jSSNAbSt60d1NZE9WTwT7miTJHGwH1aE+yzQJjEn3+Jf1Jmu4Ok7hAf4tGZ9ZMySdgcSd1va/oRP+Lm5wGHEEKInkuniOrdQXR/fKvzb/TiarRo7iR3LAi1zgqe8KJwEQdFDybKK0TYKOecCO/KgsTQzzyuTET9W0fSRmQk6QtLVBfdid48otuh4SzsU+aWfzUd/Xq1qUEV4rMGgiEWz1jTdoXgmwjYWNp2d2eF+2Mdz/OuDKE0SVssxHn+1V1QhySNOZhE6Kr8JlzSl3Tl6AxBHQiH8Mgz6kR3CeqQ1B3SsrPrJ2GRP4Td3vQjfkkYHMRVCCGE6BKidw4+kJ3lKdbjnejfHJcqjeFG/34G+mqrPLh7YVUB+YUbjy7qa4pVCzQfVyY4pP+IVRCVWtHtFAzsY+VH72x9vn1Y09H7y/tY4RAtIRdCCCGEEEIIIYQQQvQsJKqLbgfrhaLhQ6x45LCmo2iTteRTTQghhBBCCCGEEEII0eOQqC6EEEIIIYQQQgghhBBCZESiuhBCCCGEEEIIIYQQQgiREYnqQgghhOgQbOy66aab2ujRo5sdw4YN00aYQgghhBBCCCFWOySqCyGEEKJDDB482I466ig788wzmx1jxoyx3r17x1cJIYQQQgghhBCrBwX19fUN8d+ZaWhosEWLFsWfhBCi5zJjxgy74oorbPz48XbxxRc7kU8IIYQQQohVhXHjxtlZZ51lp59+up1xxhluMjsrdXV1Fo35409CCLF6UFBQYEVFRe5fIboLiepCiNUaiepCCCGEEGJVpiOiOmN3IYRYHZGgLrobuX8RQgghhBBCCCFWQxCddOjQoWN1PITobiSqCyGEEEIIIYQQQgghhBAZkaguhBBCCCGEEEIIIYQQQmREoroQQgghhBBCCCGEEEIIkRGJ6kIIIYQQQgghhBBCCCFERiSqCyGEEEIIIYQQQgghhBAZkaguhBBCCCGEEEIIIYQQQmREoroQQgghhBBCCCGEEEIIkRGJ6kIIIYQQQgghhBBCCCFERiSqCyGEEEIIIYQQQgghhBAZkaguhBBCCCGEEEIIIYQQQmREoroQQgghhBBCCCGEEEIIkRGJ6kIIIYQQQgghhBBCCCFERiSqCyGEEEIIIYQQQgghhBAZkaguhBBCCCGEEEIIIYQQQmREoroQQgghhBBCCCGEEEIIkRGJ6kIIIYQQQgghhBBCCCFERiSqCyGEEEIIIYQQQgghhBAZkaguhBBCCCGEEEIIIYQQQmREoroQQgghhBBCCCGEEEIIkRGJ6kIIIYQQQgghhBBCCCFERiSqCyGEEEIIIYQQQgghhBAZkaguhBBCCCGEEEIIIYQQQmREoroQQgghhBBCCCGEEEIIkRGJ6kIIIYQQQgghhBBCCCFERiSqCyGEEEIIIYQQQgghhBAZKaivr2+I/85EQ0ODLVy40GbOnBmfEUKInssnn3xiN954o7355pt23nnn2ejRo+NvhBBCCCGE6Pk888wz9rOf/cxOPPFEO/nkk23QoEHxN0IIIYToLtosqtfU1NhDDz1kY8eOjc8IIUTPZenSpTZx4kSbM2eO7bXXXrbOOuvE3wghhBBCCNHzmTZtmj366KM2atQo23rrra28vDz+RgghhBDdRZtF9aqqKrvyyivtqquuis8IIUTPhYnAefPmWUVFhRPU+/TpE38jhBBCCCFEz2fJkiVupfgaa6zhjuLi4vgbIYQQQnQXbRbVo+ttypQp9sYbb8RnhBCi5zJ37ly777777P3337czzjjDttxyy/gbIYQQQgghej7jx4+3yy67zA499FB39O/fP/5GCCGEEN1Fm0V1wK/6okWL4k9CCNFzmTFjhl1xxRVuMHLxxRfbmDFj4m+EEEIIIYTo+YwbN87OOussO/30052RyODBg+NvhBBCCNFdFMb/CiGEEEIIIYQQQgghhBCiFSSqCyGEEEIIIYQQQgghhBAZkaguhBBCCCGEEEIIIYQQQmREoroQQgghhBBCCCGEEEIIkRGJ6kIIIYQQQgghhBBCCCFERiSqCyGEEEIIIYQQQgghhBAZkaguhBBCCCGEEEIIIYQQQmREoroQQgghhBBCCCGEEEIIkRGJ6kIIIYQQQgghhBBCCCFERiSqCyGEEEIIIYQQqykNDQ06dOjQsdodQnQ3BfX19W0uiRTeRYsWxZ+EEKLnMmPGDLviiits/PjxdvHFF9uYMWPib4QQQgghhOj5jBs3zs466yw7/fTT7YwzzrDBgwfH37ROXV2dRWP++JMQQqw+FBcXW0FBQfxJiJWPRHUhxGqNRHUhhBBCCLEq015RnXF7bW2tE9aFEGJ1orCw0EpKSiSqi25F7l+EEEIIIYQQQgghhBBCiIxIVBdCCCGEEEIIIYQQQgghMiJRXQghhBBCCCGEEEIIIYTIiER1IYQQQgghhBBCCCGEECIjEtWFEEIIIYQQQgghhBBCiIxIVBdCCCGEEEIIIYQQQgghMiJRXQghOoGGhgarr69vcXBeCCGEEEIIIYQQQqw+SFQXQoh2gmBeV1dn1dXV9sEHH9irr75qY8eOdcejjz5qr732ms2ZM8dqa2t7nMCexD08NAmw6kCZSstDIYQQQgghhBBCdC0F0aC8zQoKosuiRYviT0II0XOZMWOGXXHFFTZ+/Hi7+OKLbcyYMfE3HQMh/amnnrKHH37YiecVFRXxNy0ZOnSo7bTTTnbkkUfayJEjrbi4OP6m+7jrrrvs5ptvdoJ/wkYbbWTHHXec7bLLLvGZzgfRd8mSJTZw4MD4jEiDfFm2bJkNGDAgPtMcvrvuuuvsiSeeiM80MmTIELv88svjT0Ks+tDnrKmpcXWirKzMioqK4m+EEOKzw7hx4+yss86y008/3c444wwbPHhw/E1+aENpPzXpLoRY3SgsLLSSkhIrKCiIzwix8pGluhBCtAEGJW+99ZadeeaZ9stf/tKee+65vII6zJ492+6//3775je/aRdddJHNnTu32y3Cly5dap988ol9/PHHTQfxqqysjK/oXBDFJkyYYD/60Y/cRIRIB+vz6dOn2yWXXGJ/+MMf4rMtofwsXLiwWf6Rn6yMEGJ1ggnR73//+24Ss6qqKj4rhBBCCCGEEN2LRHUhhMgIwjAuXs4991x777332iyMI5hiaYSwPHPmzG4X1lcGiUj8+9//3r773e/aG2+88Zl47vawYMEC+/e//21nn322PfDAA668CfFZhVVGv/71r+1nP/uZm5BjdZAQQohVi4a6eqtbtNxqps+16qmfWt2CZfE3Had+WaXVzJxv1e9/YrVzFkUn1L8UosuIxnT1Syus9pMFri7XfLygU+uzEKsqcv8ihFit6Sz3L7R7hIUwjEVwR2CJ2q677mo//elPbdCgQfHZlQvi7TXXXNNMuN1ss83s1FNPtb333js+0zF4T9xxxx12++232+LFi53A3rdvXzvttNPsxBNPjK8Sy5cvtxdeeMFuvPFG55uf1RAsZcRlUC5rdVYaXHrppc5/fwLlaq211rLbbrstPiPEqgf14ZZbbrG7777b5s2b59oN+OEPf2gHHHCA9e7d230WQojPEp3l/qVq8nSreHqy1c1e4D63hdKRw63PQdtZYf/87XBDda1Vf/CJVTw2yWre+Mjq5y+zRHAoKCywwkF9rHS7ja3XvqOsdNN142+yUTtnsS1/aLxVv/q+1X2yqJmhRkHvUivdYrj12m8bK9t6Ayso7X53i6s89Q1OQK2N8rNm5jxrmLfU6iurmqV7n4NGW9k2G1pBeUl8ZgWVr06xyufftrqFS+Mz2SnfYYT1jspIQXlpfEa0laq3Z1jFE29a3dyF8ZkVlG2xvvU5dHRUb8riM81pqKi26vc/tqrXPrDq92Za3Yx5ZhU1TXUZqM8FA3pbyYhhVr77yCjPNrGC4lbc9EVlasmdz1vN5BlRWG2WIq3/l/azkuFDzGhL5P5F9ABkqS6EEBnAh/U999xjn376aXxmBbzQN910U+ePnAEPwvsXvvAF23HHHVP9p9MRffHFF52Q2lXuVrobnpG0uv76652bkkQYEy0hnXAP9P770QBRPk/FZ5x3333XrdTAHZXaDSGE6FzqFy232vdnWc2kj9p81H00xxpq8vdTaj9daIuve9QWXnSrVSLmzVlsDbXRb+IDwb1u9iKrGDfRFv7mNndtfVWGlXl1Dbbkrhds/rn/suX3vmy1M+ZHcaltCteFvbjCql5+zxb96U5beMm9Vjt7IR3SOADRFurmL7ElNz9jc757tS34xX9t8TXjrGLseKt88R2rnvhhs3JRPy/K47r093V9FE7NOzObXZ/1qEPEzxGuaJ26BUut6tm3o3o4KTV9a6dF9bk2d/rWRum/5N+P2/L7X7Hat2dZw5LKZnXZ1bmoPtfPXWxVL7xji/96ny349S1W8+HsOIRcNFjtR3OtelLzcpT1aFhepXotehQS1YUQIgNYTz722GPNLDOYFcfS/MILL3TW8LjtwAL76KOPtq997WvO5clf//pXW3fddVvMoCMWPfLII06sX13hGf2NUEU6lCnEdL9stQbWut/4xjfshhtuaDqYwPjLX/4SXyHEqgntRlvrgxBCiDZA+8pi9bYerl3mSKfmwzm2+F/jrOLRSc7KNWrQ0y/nXF291S+ucNcuunxsXrEe4W/hlQ/aspufsfplVe63jXFJIYonYVW98r4tvOw+q/1EwnqbiNJv2UPjbd55/7Zld71gdbMWWAOTHoiopLtfHuIjX/K6r9pd3lwQoj1EaV41/gOrfPndKO/S8430jf7PSQPX8Nt89Q34KqrrDZU1Vj15hi267B6rmTa38btctLdMcOSLixDdgER1IYRoBQQerInZcNSH5WbHH3+87bnnnlZeXm6lpaXOMp2D78rKymyrrbayc845x3r16hX/agWvv/66E+uFaCusjmDp94YbbtjsWG+99eIrhBBCCCFWDvhZXjb2FaueMLVRhEsoKrTCIf2sZJsNrHjEOi1chDgXE9Fvlt71YnymOVgqL73nRat86k2zQHgv6FduJVtvYCWj1reCvuXRifgLwLDj3Vm29I4XnHW+yECU1ouufsSW/vdpq5+zpDG9JWCuktR88KmbWKqf13a3OzmJ6nLBwN5WtNZAKxo+2Ar6txzbUoZwy7T05qfjE0Ks/hSdf/75F8R/t4mqqqr4LyGE6Lngy/uVV16xjz/+2A4++GAbPnx4/E12ENWnTp3qLMt9EM4Jc8SIEfGZlmChvs4669gzzzxj8+fPj/qmKzqnWHHjv3zNNdd0IunKZNKkSfbaa685q9AERNrtttvOibOA4I9LkpdfftlNAJCGXN+vXz8rKmrFX14E/pBxmePDxMP2229vo0aNis+0DfKCTQtxn0OekJ79+/fPGx8mRN555x13sNEsz8LmqUySkAdMeKS56ckCPunZdHbixIkuPdmIFd/7bDpK+cCivDU/f1zL88yaNSs+E72co+cZNmyYHXjggfGZlhBu2tEWSM+PPvqoqTyQNsSfTSH79Onj0qWtYeZjyZIlbpNfyhT35F7kIb72s5SpjsK9cLlEuaYc8cxvvvmmKwtJWerMukiYlFPuxUFak+Y8b3vLHPEnTOJOecZdCnUNKG+dkY7UC/IGF1WUaVbUkDbU3zR4zoqKCpeu1AV+Q9w+/PBDV9foM9JuZHlm2pmnn366xSqe3Xff3TbeeGNXr9oC7e7bb7/dVMaJIy6pyGfqfmflN2Wb8Nm/g7Sj3gwcOLBT648Q4rMLe67gKo4+1A477NCm/SXou9FOQ+2MeVYzebrVL4zb2KICJ5IVDx9iRWtG/ak8R8mm61jJ5utZYSCM11dWW9WrU2zZPS82E74LB/ez3sfuagO/dpD13muU9dpzSyvbcVO3cWndrPnxVRE1tVY/Z7GVbbexFfpCXRTn2ulzbfEVY82qmq987HXI9jbw20da732icPfYwvlRx0K9Lrq+SdSPHrlu1rwozsNc/AuKZE+Yj8W3PGOVj02yBlYDeBSUFFnpqPWtfI8trdfeo6x8361dXpZH6c5RukVUJvpF/d3Clu+7GnyxvzPTGpY2urskrKJ1B1nxsMEtyld4lEb5VrrJOu43IjtMVFU8/rpVPuNNRJE1QfYUD1/TykZvYoVl6f0q3KywMWnpTiOsb1SP+520p/U5YmfrfdB21nu/ba3PgdtZyTYbWt28xa7+NhHVv4aKKivbeTMrZLIrJKrXlS+8a3UzVlizsx9C8cZrW9HQAallwT/Ko3CLBvaJftQ47qHfq76W6E60UakQYrUGcaOjG5UiMCE2fvvb347PNMJLnPB+/etftyoWPfroo05MRFBDvE6ux8o9FNURff785z87McqHzanYqA9xKo1//etf9uCDDzpxK2GLLbawU045xYnlPvk2Kt1mm23s8ccfd4M3hF7iTLtPHBHVNthgAzvyyCNtn332cdb4PnPmzHGuSJ544gmXbghNPnR6sOrnAEStCy64wLbcckt3DwTCc889132XgIudK6+80sUF9yYMLIl30pHaaKON7Hvf+577NxEUEfFw1/Pwww87ARIhkvCTSQR+m/x+yJAhtscee9hhhx3mhOwsHTNEWJ6Re5BPPKsfNmnFgJc0PeSQQ1w58dOKPCKNL7/8cpe+TGAQhg/iIeIrEBbhsMkrIDheddVVrlwlcF+ehXLQGgiX5C/iJb6rw/iTLpQz9gXAnVFrYibpS94899xz8ZlGcIN0xBFHuHLx0EMPufQi7ZIyxb0oU4R/+OGHu3xAzO9sKC/UKyZ5mGRjo9ckDkB+8cxrrLGGm+j63Oc+1+omcFOmTLHzzz+/WX+INPvjH//oXD6RFmzSy30pj6RvkrZ8f9RRR7l7IbxmgXwi/disjnaN+Cd5RvzJn/XXX98OOuggF26+TZCJE+6CEPoT1l57bTv55JPd6pr//ve/7l7EmzSivRo6dKh9/vOfd3U/gXJDnb311ludoJw8Z1LXiFdSHyj/iEG4yKJecM7nF7/4hWtnKUuU7+TZEqgDlBXC41m5PmzXEqhfTNxQ/ydPntwUXlLmkvRiApE2lXKXL79Ja8L6xz/+EZ9phPrBSiQmZq699lrXFnAf7kEbR/zOPPNMN7EqhBAdobM2Kq144R1bdvtzVju1cfUlYlbfz+1mvQ7c1n3OBxsQus0/ozbOB6vYxf990mqwUo8pXKOv9TlsB+t92I7NNwytj+Iza74tunac1Uz8MD4ZBVle6oTy/l/cJz4Txb261hZd9bBVPv56fKaRXvtva/2+vI8VssFiEpfoOXFTsuiacVb17GT324Sy3UZa/6/sZ0VrpPefhVn1u7Ns4Z/usPoFy6K0jE9Gr+nyMVtYnyN3sqK1BzWK2wjnQf4X8D5PEdRh2SMTbPndL1odbngi2KS23yl7W9nOuQ2SEnKVN5GfyhfftaXU8aheOooKrHi9IdHAoshq3/+k8VxE+W5bWL+vHWhFaRbnQL+JekTeRn1Xl89BVuCaCd/sC/94h9s/IaGwXy/r/39HWPn2G8dnPKJwF/zlXqt6/u34hFnxRkNt0E8+bwU5BH6fQjaujSfIkv4c/S4hugtZqgshVms6w1KdFzWiHJvn+cInAxWsoBGCENMQTkKhKAG3HIjViCwI3Ztvvrk7+F34G0RHrOI/+eQTJzAlx+jRo51VfChkJzz77LPOShQhO/kNgt22227rxGKfXJbqiLgItXfeead7Ntp6np3n5l/CRNzjmRG5R44c2cxaCrHy+eefdyIT1s5pEFYSPwZ5iFprrbWW+45nR6BLvucg/Zl8wHc9Ah6CWRIf7sHfCH2JVSiWqZdccondddddzjKYOHFd8hzJbzl4PkRRLFmxrmWCI18+kl5Y7zJRg0hMHhGfMGzuh1BOGpHOXMdmtolgzDVYzifCZSggAueSNODvTTbZxHbaaSf3HeEjiCciZHLQsTzhhBPcNWkQzh133OEmbRAdyUt+lxZ/0g1LY+5DHJlMSXNjBPyGZ0HA9OOD6Mi/TOBQprlfWplCdKdMck+esy0WeK1BeUBAZgKD+NEm+HFI4sE5vkvyhfKE2J+ro86z3H333c7qOXle2gRE7VtuucX+85//uAkgBF3/eUlbVicgaFMuSNfWhHUmBZlYGjt2rKuX3CuMP+eIE+nIRBIieFKvQqhniP7EL4k77QrCOhbm9957r8uL5B7EGWjDaL+A33Ddn/70JzdhSLvDdfwm+V3yN+epD0wGPPXUU66d8SfBgLAob9Qn0jGEcJK4Et7+++/fol0D8o+0uu2229zEhx8vPw8Ih3JH/eQ3AwYMSN3/AojPW2+95cpFEgcO2gsmL2gPSPOkXCVxpRwzWZSrzRZCiKx0laV6YWmxlW23kZVuub4TMPMexVGbHbaRdfVW8/YMq3hwfBR43JcpKrSSkcOs30l7NQrfPtHvC6JzRYP6NopqiX0fcVxaaeX7bhPdJ+qDRafrFy+3Jdc8HL0AVli/F/QtswHfPdqKBjRaqjZBuFH8SjZY0ypferdxM8OY+gVLrGyXzZusW0VLFt/weKMI69lb9jp4e+t3wh5WPGwNJ3Y6kRsXIFEf2T/ypWkLS/Uo78t33NRKNlk7vYz5R1p5E3lho+CKcZPcJqBRpXfnWGFStsOmZlU1zVaItGapntSpAieoR/mQkhWc5zQrSjiaiPKvNGpXSoYPiU94RPEKLdVZ1dInKm+FvcrSy4J3+BM49NnoS+bqqwuxMkhXDYQQQjTBixrxO80qEhEFweuiiy5yVsSIuVggI275whAWlgiSDIKwYERk4cgl3nYHuDFB2MICO81SNAFhCqGS50S8Cq3ROxvi8fe//90J5Nw7hAEmYjX5hFiGwIVgiNiZdn0I4SOAIbhiWYzAlgb5+eSTTzpLcCYvEAkTy680uD5JKyzMsGQlTt0Fz8nGucQDsR/xMlceA/GnfFOWb7rpJieMMznVFqgbN954oxPwSa98ZQqhGdGSSZ188coK8Se+TCAwwUL4lA+/XoZwX9IlWRWBxXZb48JKDcRvhOtc5Y8wqWPUNQR/BNlc4BqIa0hDfpOvzPEd9ZGJreuuu84Jxlkhf5iAvO+++1y+h1DHEHKA75nEu/rqq5vSNQtch6sa6igTb/mepT2QRrQVCPfUNcTtfPnN/UlTyuk///lPN/HTljgxCUCbMW3atBa/I72wyOfdIYQQqyt1i5Y54ZRNChOwRi7ddqN01w8RCLGFA/s4Ia2J+gbn+7z6g8Z+RkPUpla//lHjhqceZbttYUVR+GkCHxT0721Fg/tHkVjRv8adCZb5bsNN0QL84de88VH0x4r3WNHaA63PoTtY0ZAoj3rQWEXkhv0Hql5936omfuAmu4A6iHBetvUG0acuEp4RtJkA8WBMVtgnvf4LsbqhFlIIITKAZeWxxx6b6uYF4QxrZ0RfrIiw3GRpLu5isI596aWXnFDX00FUQ/BCMKMzhA9lrIaxBsUC2gehCktWRCys2rsSrIexnkUgSwNfy4kFOCIlQiJx88U0Ji+wQMeynmdC6AqtGhDFsB7GNUaaGIqQjuCIVW4YF8KnjGDtn7i2SSAeCHdYuPP7fCJfV4IwjnU9ZbUtQjHxpWzwW8RprHuzQvnAmp70ou6QB6R/sqrAh/skFutYNHcUJgNwc8QES1vrH3Gh3DEhgECeNb0od+H+CZQLDt8qO4G6hgDMZELiF90Hy0TKDGkSljkm5VgBg8U34fsgXlMPmCRjgiALlAtWa5DXIdyLfON+PBdCOpMH4YRa0m7gQgaXTrncE5C2lCcmszoLJsNYIUB5I12T9M8CaYtVO9bt5F9WKK+0C2nlA8t3VmqE5VwIIVYnEMJrZjR/fxX27+P8YUcNYHxmBbiTqJz4oS2+4sFm7iKgoaZ2hcsKBMK3o75A0JSX77RZo9VsCsRj0WX3Onc0TX7VIQqj5qPZVu8J/2IFVROnNpsUgbKdRriJj7Q8FD0TXPiwt0HTfglR1rGRb9mum2dyq9JeKDtN9TaG+5VsMDT+JMTqjdy/CCFWaxBvOur+BRBNExcNiDZpIOIgxtI+IqIi6iHAIuphqYy4hciE2JLPQp3fJZaWPjvvvLOzfMzlSgDxHmHJF99w/4Aldxb3Lwn85rjjjrNvfetbzq0K7iyw0kdAw5rdB1GM52Xj0UQoReDGTQ1uLXCZ4IPFPv7F8bONKxNEp6233rpJFOfZEQJ9SNcknjwHrmAQ7AABG5/x+MLmOqxNEcd8q1H8TPMs+IunDPA8HMQlsdhOIP8QKXHV4rs6QSxF3ES0961yyUcExK9+9avuOOaYY2y//fZzoj3CsC8a8jfPQdiUA+7P8yBWkteU1QQEWOL9hS98waUTB258Et/MxAELZiYAEkh7xNU09y+kyaWXXurE0FBsJC1JG1Za4Esca2TylLzwJxf4m4kj0od4+xNMfIebGCx3fcgH7keY3/jGN+xLX/qSHXrooc4fPxM1pJHfn+Ba0oWyk2yY2x5Ia+oDongo3CZlEH/vX/nKV1xZxBUTonYobJPOrGDA5zZisS+Qcm0oDBP/pOxRtr/5zW+6tCVd+UwdCtOV6znHhI/vfoTzuJdBcPeFbtKd+BM2ZZ8yvdtuu7nvSM8kbH5PmaJuUcd8uB/toi+4+3HnWXfddVfncgr3JrQp+PTH9Qv5RV7jDssvS6Qrz8r+BtQv3LPg+oR7Ywnu5zNwL+KeTELxe9IAFzS0M349A8oMrqKIV1IfkskE8oBVBbS1YX4Tfzb8pX5S/hJ3U9Q5v43lWfhMvCh/tCkJfIfrKcL34Tx1mrhTLygn/Ms52kPul6u9FkKIttBV7l/ws4wrDiyTEZ/b6nKjduZ8q3z2LWtYFL+nop8Wrz/E+hw6ujEsDwT4ZWNftWW3PmN1Hy+IXgTN+6CI5UVD+lv5Dps4ly/L7nvZ6ud6k7clhdb/tAMaXUD4RM+2/Mk3bcn1jzqf0WkW6YUDels51vOynm3B8iida6fPcasFEnoftYuVDB/s3L2QnvVLKtzmk7j4cb7VM5aRFu5fEFtHrGOFg6L3dxRGWEa6EyZ8sPRe/tjrVjXpw3YfrNQo6heNIdpQjzoKG4pWPjrJql5619UdKBo+xHrvv62VbrW+q+/Vb01vm/uXDNQvWmbLHnjVqsZPcfUQyGP2Mei16+bpaRBd18L9y4BeVrb9xm5irbCsNHPa0WeW+xfR3UhUF0Ks1nSWqM7LGuEEoQ8hFaEtEXpzwfeIUYi2iDUMiBCjEDYT3+hpnQAEr+4S1fHDjDB8/PHHu78RrRCIEboQ/LDA9a2IGaRxIEAhLiOUck+eD2EO4c0HAQ1RC6t/BLTQrzzPHorqCYhpP/7xj22vvfZyAiWbMfIvAhhCYyL6Ex8EOQ46Wl//+tfdbxCyERg5mNigLJCPoSUv4SEeEv8E0gvXEKEFNWmLcIbISRrwLIh4iS9uXFwkaUy8EOy4Dt/UxAGBneuJB/61E3ge0pBNyUgn8p08SKyd2yqq46YHK+QwvxE+mXBg0oR8I26UFURLxFncWvjve+7LZ+JEvBNyieqwyy67uMkB8orfkP78m5QnBH8fyhDpkvjubg+kJYJ6GB/uzYQRK0m4Bxu7Ui6o1zwzlsdMHPgg0vJ81D/f2jxNVE+gvFHumGziWZM6RL7TFhG/RMAGJuFIDwTZZDKHvGXjYdoNHwR0xHREZcooz8Rz8Ay0NUzkJeIJcSM80pI4JKSJ6gmUf4RxNqglz8g/xGLKICIO7Qv1gHtR5phwIl24hokT0pPrOCiPPBdtHm1TEi+gLJEXyfMyYZS0i4mrGx/aJcR60pR2w5+cpO0jrfA370NZRuinvaFOEjf8oFN+eU7Kn+/SiPqBxT6COJMBSftMvNNEdeAZ9913X/vud7/r2gHKERN/iF48UxKGEEJ0hC4T1dlo8MPZVvnMW1YxbqLzjV7x1JvOJ3MNAlzUhiEQ5hI/66bNsYqn3zKrapzQRfBGpO+1+5bRB3fKiec1Uz+1JTc8bpVsIrp4eRSpFe+DJqJ7IUj22n0LJ64tvf15M8/9C65I+h69i7suAb/ri69/3Coejvq0sxe550mjoE+Zs3JnA0XRnCW3PNM4KeJlCQJn1Wsf2PK7X7Jld73YWDYen+T8dbvyweRF9B++8QtKWq7iTQhFdYTrmvc+tsqn37SKR6IwH4rKW1T2ql+f5vyBU36Y+EDMX9k0VFZbxRNvWMWjk6w2ind7j9JRG1jRWgOdm6OVReWL79nyx1+3+vlLG0+UlVjvPbeyXvtu7Tb2rF+wtP2ielR/66Lf186cZ3Xzl1jd3MVW89Gc6J7v2LI7X2wU1JONgaN2omTkutbvS/vldP8UNUYtRHVcNFW99F5Uxl635Q+9FtXn8Vb1yvtW/fYsq19WYYUD+jTGM+hT0ceSqC66m5XfWgkhxCoKL2xEmZNPPtkuuOACN6jJ+hJnMINIhICDC40//vGPTsDzRabuhmdBsMKq0xe6gQkFhDkEcd+CGxChEI+BMBDFEPpCNyjA94TF9xwMCn2hMheIzIhjCIeIlAhqiMCIY4lrGsI76aST7Oc//7n94x//cL6Vf/WrXzmxD+HLzyv+RuREPAvvjxDpT0wAAmcotpJGlAGseXnWJHzCo5wgyiH+MTnBdYiUiKFcz7U8E3EmPdPSgHN+OpFu7QHhEDHQt44G0vLLX/6y+5c4kN8c5B8iLXHlGfz7Ul5xkYPYHqZRGsSbyRDC8SeDuA+uRBC2eT4fxNa2umvxIV7Tp093bjl8eA6EaJ6L/CE+5ANx4fmZZDnzzDNdufDhmdk/gHKepb5Spj7/+c87ETe5B1BOEZgReHl2HwR2RFvE7gQ2z0W89u9JuacssbogKfdAWUFARgRnhUMCQgrCOUJ7Fggf0Z4JBCZY+Ez55Vn4DJR16hQTXBdffLHztf/rX//aWf1Tz0JIA1ZjJOmQgPW9P7FAuJQFvy75kH+Up6RO+HUmmSDw04r7HnbYYc7CnbiTXkm9I56kIyK9n15APjMBEE6g5YJyQ90m/cl72qekbKc9hxBC9CiidhMr5LpPF1ndJwut9uMFTghF0Fp+78u2+G/32aK/329VE6Y6n80hDTV1zTYFteJCtxllIqjXR98tf+pNF0Y1bkaWVUY/ir6I2seCsmL3bxO04UlY9Q3WsMRzRxZdVtCvd1O4UPXmNFvwpzvdhACiYSLUu3CLmre/iHbRSzH+JBIaauubpV3C0v8+Zcvve8VNrjgx9dOFjWUk+pdJmKpn37IlVz1si694yGqmzs6ettF9WLHQWN4WuJUONe9H5e3ld514v/Av99iiKNzqt2e2iFOXE92OyRzKc4cO6slKjDoTZdRXXzAv3Wq4le08Irew3QbqozpLHVv057sbjyiPFl/5oC27+yWrZsIkembqJffqfeC2NuCMQ6wYX/xtgHakbjblKzqiNqh2xnyrfmO6m3xZesMTtuCiW2xpdD/aKiF6GhLVhRCiDSCSIJxgkYiohP/0xAoyq4CCZScbCd5www3NXH50N1i9YimLWJ0GIhUCEgKZDyImEwRd+SyI54i/ofiMQJakO98lYjuiFpMAWNmSX37eEF8svnCtwb+h9Taf/XOI7EyGILb5IJCS72liN/djguK8885zbld+8pOfOHcjuNAgjVcmrEgIrX4BQRFLWn/yxAdxkNUA/OuTWENnyW/CJ50oOyFJfvkW1ID4n0WwzwX1i0mecEUdQiqrVbhnGuQZ8eWaEFZBpFn6p4EVIeWPshnCPZhgQMj1RXFAxPXLGBMDoTuaZMVI+FsgPfkuXI1DGOGEUC7Ia4T5sEwnEy7AMyBqY/GNkIx4jAhP/QyhXcBlEhv8hmmHAI6onmWiIh9MRDDJE5ZxLOtJa3/FiQ/PSF4lrqQSiCcCfdqqixDCIC+5l9/G8HfYVgkhxCoDgnZ1rbMuRujCEnXJTU9ZxZNvNBfWo/a7gc0tfevw6F3h3LNE37EB5tL/PW1L//ukE/4IE3AfUjJquPX76oHRtc3bSkRNB+HW+O+NAisob3z3IcAtu/tFW3z5WKt5Z1bjZqbxq6Ro2BrW/5uHWdEaUd/C75bjEmMla7SrArgNSbPuR2gn/0nrFulG+aiscVbRuEtZcvNTTgRtN1GZaqiKyhuTO1GZqXr+bVdmEIqVZ/khfypfeteq2Gg2rptFQwdY+Y4jrGTjaDzn9U3aTV2D1S+rcnsguGPuYpf3bvVBsrkt/cQBvaPOdnljveuE+9K2ULdZVVP70RxbHtX5JTc84azlhehJSFQXQog2gmCCSIgAh9Uxvqgvuugiu+yyy5y7DnxqI375IksIgh/uRPA5jmVuTyARpHOJrIAAinDngyiG8IyLh64C8TpNSMwHohaiF6Ii7iRuvfVW+/3vf2/f+c537Gc/+5lde+21ToxrTdTDDQ8CcigKIkAm1rtpYFWL6IjISXngeoTdtj5HR8HiOU0Mpuymid0JlF8mBkLRG3Czg3jdGkxopFkvJ3D/tDh0RGhF9E8TkbFGx81NPigzTMSEEB8sybOI6ojM4WoOH56XckH58KGcJr7TeQbqU+hahskGVk2wmWbaQV6HG40yIZB1VQxxwi1KW6CcUKZpx9hvAvdNTCThQgaXKLSLufZv6AyY8KJ+hs+XTBDma4f5nvoZlkFWd4SuZNJgcoH3wMqu00II0V5wrVG03hAr3nTtFcdGa1nR2oMaXaPgL9snaloRPLFOrnjyTat63Xu/0uymWBM739QTp9rifz7khPj6BcuarivoX269Dh1tA884xEpHRP3JtCaae6ZZKRcWOKGezUiX3fOSs5pu8stO33zMSBv4rSOsfMdNG63VvcAb8rwLugIsarHknXvutZmOeT+4zrnHWdng8iSvcB2lG2Kpc2eCYBpsEou/9ZpJH1nF829bXeJSyKOofy8rXn/NoLwNXRFe6OaFvK+MwnxvlnNnUv1+ts3WO4OCXqXW+9AdbODPju/QwSa9BcUrR2arfmuaVU34wBoWxxbc0X1Lt9/YykZvnNctT6cT9fEQ3CsfmWgL/3K3LR/7qjuXToHbw6F403WalYui9YdY4eB+zid7i3Yhag+oU5UvvG2VT71l9bE7ISF6AhLVhRCiAyCmIKwizOAv+aijjrKzzz7buXdBwMXVBFaraUI1lpX4Tk+zIm4vHREjcbsQCn0hiNRplp9YnHbmc4RgFZtP7A9B9L399tudeP7DH/7Q5Qc+th999FFnxYwVMMJZmkV0KMIhUqbtI0J6ceQjn6C3ssCSNywX5CNp2po1LaJjmujNRENamoQgLnOvXHD/zrboJU/DCR7KDgJoaHUfQn6FrlkSEKazCMPco7Vn4powXSlnyQRbUubCfMOanXJ9ySWXpB7XX399i82BsfxnAiRLfpFXraWRD/FkE+bf/va3zjc/k4u4gxk7dqzbnBRr79mzZ7eYHEggvTtaR7DuT3s22mXyPB/kE5OJ4XVMajAZ0RrkYa6VD0II0RMpHbGO9T9lbxv4naNWHN89ygb9+Dhb44KTbY3zTrS+X9rHSjZft7ngWVdvtVM+turXPlixEWjUfDvf114zzndVr02xxdc+ajWTZzS6XYHouqIN1rR+XznA+UVHxEegdZbQHk4IJNxQlIzeh3Uz5znBDst5XIgkYnBBv3LrF8W53xf3dta5hNHogsN7hxLeyuyS1Ufxnb/ETUZkOWo+mu1EyZVN4+qBlmOH4k3Wsj4n7G6Dfn6CrfGLE23QT46zwb88xfqdeYgVb7hms7JBGJUvvGP1KfEv3XpD6/+V/YPydnRTeIN+dkJ0nz1c2fAFe8pF9dvTrfr1jxpXQ6wEKMslw9awsq036NBR1B83RV1f2JjEqHzpvaheftpU1ks3W9fKdxrRuFKjkyjoVRLl4wbW+8Q9Go8ov3ofs4uV7b6FFW041K08cZMhUTlwVuVTZ9uye1+2pfe/GocQEOVzn8N2iMrCkc3KxaDvHxO1P1F5u+iLNjD6G3/w3NsHy/Xlj05stFYP+shCdBfB20qIrocXIw1um46o45S2k7sQ3QVCVSjkINBg1YsQiZUkG9bhfx2hCT/laeIilp25BKeQ1gRzBL+OiOqIW60J1zxj2nNwX98/cmeDkJ9FfCNf7rzzTufj+YYbbnBudrDsxZ0DIjoiYBJPnoNJkTDcUOjj+rRny5JePYG0iQPEwDT3JCGkEXkephFhZhGYuUc+gbkr0pCyGPqP5z5MgLR2L65jIiB8Xsi6osR3SZQL0jWMC2UsqcOkb1qZIw6UYzY6TTsQ/kN/9El6tNbOEGfilVa/QwiPtusXv/iFXX755c7nPJb8iP5M4iDi+3mQa7VCa+mUBe6TVhZ5jixlnDYgfGbC9OOfC37b2kSkEEL0JArKo/f6mv2teJ1BK45117Di9QZb8QZrWunIYdZ7/22t78l7W9mOm0Y/iH8YwVgM/9r4XXfQhiNW+xaxjPPmLrG6WQuaBHMsgMt32cwGnnmo9cLP84A+vJycRTKuJZoojPpffWJjhaLCJncvCfULl1vt1DlRPFa0zyWbrWsD/+9I67XfNlY8dID7nbO+DlyaYKEfvXjjT2IFLd/DBf16OSG8z6E7WOlW60flYmhUPoa48tFrt5HW74v7OktzH+cHe/bCKM+bvzsLe5c5dyQty1tjePj+7nPoaOt38l5WumXzPU4allZZ7bS5VheVp5VGVEbYlLcjR2jN3yVE9cdt5DnpwyaNpLB/byvbYYSrw50ZByzHEev7HjK68Yjyq++RO1v/L+1jg6K6N+DbR1jJKC/vmFCau9gqxk2wWs/Puw8b3DYrExzDojZo+BAr2XCo20C170l7Wp/P776iTYhp9OsftQOxOykhuhu9WcRKpy5qBJf95R5b9qe7sx+X3W/VL78fhyDEygNhCxchWF9i7YyIdM4557jjoYceiq9KB8EFq098kJ9++unOMjgUkRB700TPNBDHOHKRS1zKCr9vTTjk/rkEZp63q2jNIjwBQf22225z1rq40+B5kjRDLGXj0EMPPdRZ1bKSgImPNKHVzye+T7uGdMgivHU3aSKpny75SMpUeC153ZpADaRjlus6E+4XlkXin1UUT7MQh6zlG/G6tXpInQ/vweQDcSfNEIM7M92IT1q99UkmzMI2KoRwpkyZ4izjX331VecmBSE/eR5+z8qdfffd17V7WLGzYidtcqW1e2UhV1nM2h5yXViPiWsWQZ77ZpmEEEKIVYaiqM/Tt9y5sCjbfmMrHOytToyaebep6dwVFsn4Ty/s46284lWA6xbeCVEbj4Df53NjrN8X92m0Ii9vbDMxsvLDgYKoTcX9g/s7+q3z0eyThBtRUFJovQ4ZbQO+cYiVjtqgcUPG+J1SG4UbbqpaOLBvo+ApmhG6yXE01FvR0IHOHZBbieBRGOVf6ZbDrXjDKC9x05EQ52dbjeAIn/tg4V26zQZW0N9znxfldf1iDOxadzf4WaN21gKrnvih2/OgiSgva6bNsaX3vmJLbnuu2bH80UlW+3Fzgbt2xlxbdu9LTdfgmz2VqF6R1+RT04FLoCH9nQjO5Fu/E/e0IlYwJOCuZd5Sqxw/JT7RNmhXiqK2oPf+20T3GOzapSaisGs/mS9RXfQYVu5IVwiorLa6j+Y4cT3rUT99bvRS1W7PonvAuvmuu+5ybg6effZZ5x+YTQv5Oyv4Icf3bigsIfQh6KSJeCH5ruN8ElZ7wX1La5tPco+0axCg8vnO7igIZ60JcGw6ykQH1rK+gIj/6lNPPdWJe7iD+epXv2qHH36426SQOIfh8tk/hxif5gKF9MrnVxxBj/TK4najKxkyZEiLZyReTDq0Jjpi+ZwWf1xepKVJSGt51hVQFkMXJjwn+RVuNhvCdUx0pZHVBRHuTlqrh9Qh8sAHi+dEoGUSKU3Ex8UU7oywDm/LccYZZ+TcsDOBvMoiJOMW5Y477nCb1foTgsT96KOPtt/97nd24YUXuv0lPve5z9muu+6auscEnzujfPBcaWURF0WtuaSi3SQvQlcv5EXaXgIhlIcsaSaEEKsauHQoWnOAE7aaURP1RatWvL8QyQsHtnS1hSiGFTKbkfY+YFtnrdzMZUgUTs3M5ptx8z0bjToKC5ywm0bR0P7W7+sHW99jd7Xi9aM+TuAHvjYaNzZtoBhTvPbAxg1UVxK4rSjbdfPo+Q/Idpx+gPXaf5v41yuPwr69WihCWPo7i/McQxPSMS09G5ZXNa1OaCuItli/h2XJuRRhRcNKANciS+9+0ead9+8OHVVvTe9ylzVMbtUvWW5NewpEsLqfjWMrHnzVKsY2Pyqfm9y4B4FH3cfzrfLRiY3XPDjeqiZMjb9pA1E3zpWHqB6W77BpfDImihuaT0egfBYPi+p4MCFGWfOfXYjuRKK6EELkAdEE4ZV/EWgQGBFsOdgUEIvNLHA9Ik8oYiJEIbT74lIuoSm5dxoI/1ksZPNB/Nj0L58giIjMNT7EF+F58ODB8ZnOJ83KNeSll15yLjD8NCLvvvjFLzpxDxGdDU8R+BDMCDPJS58w/ZPNNsPziNK4usgFbjqwmkcERWS8+uqr7b777nM+3bNMfmSZaMkCG0+GcSds3HeEwm7I5MmTUycOmKjoykmUjoAgTR6HYE0d+hsPof7gCzyNESNGZBLVEZtDFyw+iXBPnfWh/iSuRPiXiYs0K2gm57beeus2HZSB1iztKSOtPR/lhnaCTVH9toawDzroIPvyl7/sNnolrZhIpO7wXdrEDPcLy2V7GDp0aKoLFjarzVc/ge9pz8J6wKQM4bZGljQTQohVFlxIhG4kaLe9do/NJkPxG3cvpVivnrqflW2zobNsDXGbUb4zI/7UCMJZ6SbrNH6I7lG0Qct2uHjDodb/7MOt15iRjYJ/ynukGlEzsGJ1ltWBO5muBL/upZusbb32GpXt2HMrK90ifU+XroS8cvnjp2Nto5VxQ74xBeWiRdp38L1OuQp/H92noKgDYbYBVjcgPNe8PbNDB4J3rgmJzqKhIcXlZ02dNSyNxoKLlrc4OM/3PkyAYLTYdM3ybCs602DFAS5dfBqi/zplQoT8D4uAKyvx30J0MxoJCCFEHugcItiMGjUqPtMIHRmsXvHb3Zo1JGDljpuEUPRGeAqFs1xW2VhU5nIVw8ac4eaMbQXhi0kCRME0EJ64TziRgIiJ0Be6aEkTm0i3XBMD+cjSSSdeoXiH+Dty5Ei3aWEozJN/vtuKhPAzEwb4yQ8tV8lPrONDcTQB4RSf7qxsYENaVjuwWSplwYdnC5+POHRkgsQH6+Y0a1qs+hH+w+dNoFwjnoblinzedNNNW7V87i7YdHKzzTZrkaZYI/PMaQIvkA4Ixg8//HB8ZgVMINAGZBFQEe4RdHPVVcop9SgUcimrSZpyH+pUuAkmqzAoV7nKBhN9tEk33XSTPfnkk87POc+UK49DWqtnTAYxcRWuVqHNGjNmjKsnaWUN4bqjceCZ08JgMiJtQ12enUmhXO0zYbHiiEmuMFzSfsMNN4w/5ae1NBNCiFWSqFl0+1qFLlp6lTVuxBhTNKCPlazvuX2A+gYrLCm2kuFrplqHY8WLX/aad7yVYYUFVrhmv+g3Qxo/FxU6S/cQLKgR3hGD08AFSSiqFw4ijkNWqqV69HJw98M1TtajmTuVlURBlO5FUdqEkyfVTHjkcq8RlQ3cjjRUN+/nFOK6JVg1kBncheA+ZkHzd3Zh7/JGa3rRo0Ggr/mk+XiB/lHahFpbIFzc1IQrIIpwS+Xv5SBENyJRXax0sGgo3moDK946+1G05XDnt0uI7gBRfc8992whniAOv/jii863MGJWGgh5iKn//ve/U8UdrKcRbX0Q1tKEKe6BCBqCqPv000/bhx9+GJ9pHwhL3APhERcWPghaiXuV0HKZ+CI4+unjOlKFjf6hfbhHlkmI9oBIGYqN3It8CuMBr7zySqqrD+Loi2z8Fr/4663X3IKIlQFYx7/wwgstLM8RorF4RtgjTlyLuEleIdD6Aj/hh4J/8ptQ7GsPCIRbbrllC0EYcReRH2vd8D5MNtx6661uQiAUoRHp119/fSek9kSYpMIym82CfSgf5Mn//ve/FoI2z0+eXXnllW4PhZC99trLWV2nlaMQ6jxpN3369Bblke/uv/9+912Y5vj7x8VMAhMDTLr5MBH08ssvp058IXTTHuGa5ZZbbnHPwr4BF198sWsfOgPiTNqFcedzLldIlHtcZYVpwefwHFAX0tKZMpk2IUdbiTW+n3ZAfB588EE3sRWuHOC+EydOdN+TFz5YqZP21BshhPisUvPRbLcRYp0vciLADu7nNhRMwJc51uO+2w7n2mX6HKt6q+X7FBDrlz/8WqP1bAyCctnoTZuEZfyrl266jvPJ7lM/Z3Gj72f8q4dE55Y9OL5xIsD7vmybjayI+GV4h38WKY3G5aHv9Irn3ra6KJ+iF3x8ZgU1Uz622mnNN4y1XqXOJQw+19sDIn7VpKlW75UJNsHFbVAuN0CdTlQ8mDSiLHfkcO6IurioMZlVtu1GVr73qExH6fYbucklH9K2fLeR8TVbWUk7V0o4Qf3D2Vb9ctA3jcpU8Uatr/rLSVT2lo+baHUzo7Gv5+oF10rFG67ZLZNQQqRRdP75518Q/90mcll6CdEa+N4r3ngtK9l6g+zHqPWtaL011HiKNoPQhHiKpeTBBx/sNtBrK4g8COsIzqHYjMCE1SnWqQiQ77//vr3zzjtOsMEi+Z577nHWvmnWpYirbORHnHxRFVEQK1Pu5YtXCHK0vVhdY8HKdwjdiPaPPvqo838dil1YcCLcYwXrM2nSJBffME48DxbYHInYi9iIcMwmoBMmTGhmgYtQi9XyySef3MKSGwFw7NixzQRn7odYjECJ1S0iIL9LLHIReO+99173tw+bHiKU5rMU5nmmTp3aLH7ci0kLrE6xYE7OYTnO83B9KNQhGCMc++5s+G1ipe9fT54gyhFv7stn8v+BBx6wxx57rMUkCOI8rmjIlwTKKOmKdXMC+ciBcM33uGohT4gbkE+kHeUtgfyiTJ1wwgnxmUZIM8rvc8891ywveA7qBc/E5ANli+egbOC25oknnnAubvwyRfgnnniiSx9fVCfctIkdhO1tt93Wldk0eGae3U8nLI632morV27bA+mA0Ep+hK5ceEZEc+JJGiK2YnlNWmLdzSRJ2L8h7mxMHG40TNowyUR5CiEduQ/lnbhwH9oPxHbSibrhpysTNvj5p3wkZZx6QfpQRpN84zfclzpJmSRu5APp98gjj7hyl7iW4R5ci0jMpKDvzoT4hZNK1HXqGHUtH5RH6rUP8eJ+lIukLnOO8nnVVVe59jBsa+CYY45xz+mnK+FQd0KRnvykbaRdRKTnuRLLfu7Jvaij/n0Ii/Sj7pCvhEneEz7tDFbqfv6R9jvuuKMdeeSRzdKLZ2GCjDrkQxxGjx7t0k0IIboS+ntMyvJu3GGHHVLdXuWCdtG9c6IDP+b185Y0iqjFRc5SOcFtHjp7sVW+/J5VPPyaVb8xLeo0rehT4fO6fI8trGzLqC+StNvx77EQr50Wu9ziVsurrW7hUitco58VYxjF9fVsMLjQlt/zslUhjCfWp4j1Udj9vrD3CsvW6HLcwdQvq7SayZ6bmLp6q50514mKxWsPcsIdNCyrsuUPvGIVj0+yhiWeWN+nzPocv4fbUDEUjkUjhf16O5/b+FJPcG5EorQvWmeQsxSnnDTU1lv15Om27O4XrfaDT5r5rS/dbkPnkgdROYHrEd9xLVJQHJc3733P5At+vSuenWwVj0Tji3ejPgm+3GOK11/Tyvfc0ko3jvrM3u+6CufCJCqHbNBbHj1Le4+SDdeyQlwNdWGc0USK113DSkcOcys6WjsKo/pS9/ECq5+7Yg+Z0pHrGZsIl22/kdt8tnTDoSs2Eq6qsbqonahfXunSJW2TXyZVmDyrfOYtq4jqXi3id9K1jZ69cI2+bgPTwj7NVzLXV1Rb9Tszo7+ii0uLW9RLfNvXvD/Llj3wqlU+8brVL4j6gyu6zFa+6+bWa7eorPUtd+UplzGGECuLgugl6xXRbCSDJyGE6Okg3F5xxRVOXMNiExcF7QEBDovHP/zhDznbPwQfhC5ELgYwCGmIW24gE8DLH3ESf98IzCF///vf3eAJAcsHAQqBHBGJMPgeYZQ4IQhxX19UwoIT4X6nnXaKzzSC5fw111zTQiAnTMRWngNRifsRf0S8tE0ruQZBHaHYnxgAxOYf/OAHLg98SCcscLkf9//mN7/pRD/ug7sGNlUMwSc51sJpFvwJuO34xz/+4QRDH8RxLLXxp07aICQiJJNu4fMAacVmpr7LH36HCHn99dc7gdCH50bcQ+Dk2RDpEDMR2P28Jx6IdeS57yoHUZf8YHLEh2dlk1HygvszkP7e977nvkMcvPTSS5uJm+QdYj2CeAiiOWmD6OrnOVBeuQ95TZ5QZslrnsOPP/E59thjnWgfbjxJWf/Nb35jjz/+eHymkf3228/52WbiJQ0mj6699tpmkwOk5fHHH2+nnXZafKbtUIYRT6n71Fsf4k36I5IjSvCM5FXaBqPk57e//W074ogjmk0iACIr+YEldhpcT35Qvykj5AFlLmwTSNeTTjrJjjvuuGbW1lxDu/Wvf/3LTXT4v6FMYElN+DwL5QERn2fwJ30IL8kzv8wh8JM2lOkEnpV6+Mtf/jI+0xLiQP1hnwB/Egj4PZMhWNyThzwrIhB1LW3iAYjDFlts0aztoO6Q5uGKgSTPSC+e99xzz3X+2/lM/UBov+6661y++GlFfhMfBHDCII9pz2gzw/wm7qeccopLB54ngTRFhP/Tn/4Un2mENuVrX/uaa5uEEKIrwVCDDaDp09FP8if+80F7SFvn3g119bb0jhesavwU51/cCWUInQiAUbPZUFnlxOm6BUudkOVbIiNOl++xpdscNFw9jKsVrNoX3/i4syRPQPgrGj7YitcbYoWD+jqxrG7GXKv9aE6j3+mYgn7lTvjuc8j2zkK9CeL+yUJb8LvbGq1VE6LuR/G6UbgbrGmFbIBa32B1H8+zmimfOiv4Jiv16Lpeh+9ofY+J4uyJvaI5+BJfEuVdxcMTmrnNKehdFuXdYGfRjI948q929kKrmzXf+cRPwO1Lv9MOsPKdRjTzW49Iv+Smp63mvVnNyhvW7NyT77FMr5+/pNEq3nPxUTigt/U6cDvrc+gO7m/RMaonz7Cltz5j1ZNW9N3Kd9vC+n3tQCvCbU8AgnrF469H1091eW+lUf71Kl0hgEf5x0ap9Uuj9iLKv/r5CN9e3yu6FsG+z9E7B3XarHbOIlv4xzsbJx4oF4w/CT/62212G5Utwq7FxVDUHvnh0p4M+OqBVjJyPVeeGLfQ3/bHJEKsbJpPCwkhhEiFFzYWiaeeemqTdWQIwjtiDcIWwi4imi/uJPDiP+CAA5xQh5CZBtaiiGZ0FnwQ/xDEsKzFehwLee6JoIvlUkdcFmAlyzMmAiAWnoh5WEkjjIcCNMI+YhLCaSioAwIWGxaGkE4InghupBVHZ4CFKffzxTBApCOt7r77bieMYaWOIEg8GJSG7neITzhxQj4gGB522GEunXwYqJIHiIdMCpBuTHaEIujOO+9shxxySDNxE7D+xqI77BAyCEZwJ1zSH5GyvXB/xELKVSgOI7ITNmIkZQsxE5Hcjz+/OfTQQ12ZDS22eyKUR1aAMOFDvfDhuXg+npPnZWUBQnEosJJPCPv7779/izTLBxMI/JZ0Jd/w281EDBMHYZtAuaIOkS+hNT9pzGQQZSb07004hMeEARMTuIQhD31BnbZl9913d21NWObaC3FikgCr+rBtoj6x6oDJQFzQIAAlluAI2pTBEN8KP4F2hXYsTHPCYaKO3zDpQ71OJoiIC20Xk3u+tT+Q3tRn2hzym3Tjt/59eS7yDct56mnYhgghxOoArx/EMkTO6tc/sqrXPnBieNUL71jVi9Hx6gdOfKv7ZGFzQb1fL2eB2/ug7Rs3Bw3AdziWrr3339aJ7wlYu9ZO+dSqnn/bKsZNtMqn3rTqN6c3F9R7lVrvfbe23nts0Vx8g6htLl5rgPU9aa/mwmr0HLUz51nlS+9ZxaOTrOKxSVY1/oNGYc+zF8Sitfd+21hRB/06r+4glCJel2y2bpPlPyBwYj1e+eK7VvnsZLeCoXbqp80EdUTRXgePttKt1m8mqDuiAofvdcJAzCWPKG+VUXkgTCZ3at6ZaXVMxPiC+qC+1mufra3X3qOs0PPfL1YeuHSpm7PIqt+Kxn8TP1yRb8/Fx/NRe/HaVNeWsPLFNS4xBb1LrdcB20Z5OKplnXaVt86VI9qa6iiMqlenOJdOSRmrmhiF+0FUznAF5IVbtNFQ63v8Hlay6TqplvNCdBdhKRdCCJECogvi50EHHWT/z96bwMtRlXn/T3ffvnv2ELKTEJYQIJCwJeyL7JsgiCJuUfManRnHmXFG/Y+D48z7OovMqONoVBBRlF1Adgg7BMISAmQhCSRk3/fcvbvvv77nViV1K9331t1vwu/7SX1yu7r71KlznlNd9Xue85yvf/3rTmBtD4hLCH1EK0fTvoRB4CFylc9ExasopB4g6p3oSurYXkhBceWVVzqRvDURDjEagfmaa64pGC2FqHfWWWcVdBwAglc0sry9BG1L5Gs+4ZiIYjb+JsUIYiP9EE3dQKoIBMqoEwFR8PTTT3fi9PHHHx9baEUsJfUQfRTNkQ2I+iymylYIxNJ8+fTbAjMccApxzkQ4t2ZXAXyWdiXamfQzRAbvDwSR00T1MUOgJTsMw1hHxCZamu8VcqIVAhsJos4pqxCBDRKVz/HyXQuwDcY1keycS7TtidBGHOb/MByb8Uk9Ojs3OHU6++yznYMlWh/GM44/xjSOCyA/+Te/+U03ZqLnSCQ+YnwYyqRd8s3gCcNYDo9RxidthSOEGUn5RPx8cK1DSGdGBd+PaydCCHFA4F23EdDcQoAhAcuRTlnR4cOs4uopVnHFyZYe5d3vFfhdQ/wsO/Noq7jsZEsODl1HKb8uY427apxIu+cYXjmkh6i4/GQrJxq5kHjq3auUTjrU+n7+PEuNiKSSy3j1plzEt2yo7iVFTtSruGqKS5ERFopFfkh7UvnpM61k8rimnOBhsA8i2LPevUaomZMH9bWKj0+xsnOOjT8TINdkby51TMTcmNlQfMxoq7z2NCu/cJIVeXXq6tzkIiaMW+ygrqFpC6Xp2UNRytJHDrfK68+2iktOtNSANjyTMnMBG8uTRIOUUGXnTrS+nz3Hs89DLUhRI0RvQTnVhRAHNEQMdzSnegACGUIYZRANicCIcMf1kMjRQiB0I5ITkYoIzf8InIUEdeA9UmzwOcRPziOcjoP3eQ9xi/QOp556qnsvyJGMwMwW5AcP5wcGonRpE6JCg88SFUt5iGB8HqEOgSwQvagHn0OA4piI79ShENQRQZnvkK6BaO6w+Id4RltSXiAoczyieoM6BRtCZdAWhaB/SGPCOSOU0Sek2ggfk/MlxzcRqUQAkx4nSHUStAWiGm2P2B51UlAu75H2AeGSNuc4UWEQu0DMnDJlil1xxRUu2pl65as/+zgO4jWCP+0U/o3lfdqRfiTymPNESCXilvYKtxN147wKgVDJedHeOEMoi76JRgtTf4RenCJE//I/ZRcS1GljovRp73B9sCXEYNo2H4iv5MEObIuNdiX1Ds6RjkJ9sQn6i1kM1INzpc/CUd1AKhjaBccZQjd22ZLASrRzvpzq559/vmuvILoc8TdsH4i9jDVsEOGbunFdKQQ2hy3xOc4FaOcgSjsAJw+f41qAzQXjM5/NYTfM1qCMoN2xB65TnHdLYDO0FXZEfRDPuT6F25O60N5EtCPsM1uAetDX4WsOIIBTHuUGcP3BmcF5RtO00KecF2OLGR7htuNv7JRjUz/KZSzRR+HrQGBvXAuoIxt2Wqi/GefMGiHaPag7G9cvysjnLBNCiM6kM3KqJ7wt8+FGy27YZpbxromIpGG863CChUdHDLTiYw5xkabl50y0kmMPaUr5ErpO74P3XrKsxH0X8Rvhy4lvRDWHhbKilKWGD7TSkw6ziktPtJKTD7fUoJad10Slpob2t6JDhrhUIznENwT6SP2Tg/pY8cQxTtArO2OCpUd49zmKaI1Nivz3owdb6qCmezZyqocjyB0sEjn6ICs55UiruHCSlXr9V4R4GsrNvwev3+uXrnPpXZyIHhVMve8wC4J898UTx1r5uU3R6eQAd4JsS/Ym2oRLp7JumzV692rM+mBLHzrUSry2ZqZJFFLzZFZttszqzfvaQAD919crx7OZ4uPGWtl5E90MA3e9KOhkSVhjfYObJeNdlMxC6YYCyL+PYy49zqufZ2flF052s06Kxx68T125d+R5M3wPKUR3o5zqQogDms7KqR6F6yBiJEIL4hpCKMIS+wIQeBCQEDL5H6EIwbAlMT0KYhxCOQI4AiTHQVRC0EEEQ1yiTERQrst8DiEqAAEPwScqFhGNTbmcRwDCLdHqCE6IbrzP+XFMRCmEXz6DcEeZ0bQp+aB8BExSNlAWAiNl0x6IZpSHMBWI/nyWdBxREM9oxzg3TTw8BueHYE6/IMpRX9qMY9FunA/l4WCgD8NtQf04z0IPrRyDcwn6JTgvyqDN2Tg3jsUWp60Q/7BXNsqkHxEn6TvKQnQP0sQgYJIKIxq9jh2Ec8EXgvpzzrQT/Us52C7lcs7YV3BM7Ku1qHzKQ6SlrDCUg8hZ6PyDNgyimoHxQZvR/p0JAnKQboh6stHG9Flgi2wct9DsizCFcqqzjgDCeiAis9G+2Db9gxDN+WH39G3cBwHamDoH1xzGeyBm077BOQR91pLNcd7UC5sNoB6MMWwsDrRbIM4zzoJzZFxRF86R60nQlrQT14HwOAOcJ/nqStmMTcYx38VGuKZyjtgVTirKLnQ9pS7Ui412o63Yx/WT82SjnWgv6ttSP1BnxiRjLgz1xl4oSwghupJOyanuXX4z67ZadgPpXYg4zTT9n805IStRUmyJsrRbWJDI8eSACkuWl/AD4ZcWDyJOWbiULbez2tu833gkh3TKlYfglhzc14m3bgHLNpDdvMuyG7e7MlkI1Ql+1L3UKxexcFAfKxrq3S8We/ct0tnaBXnOsRFyZTd67ZzzbARcDuu+ZU22Qf8N9O6jW3JaeH3esGqzSw+CkIqDxf2fbXTR8MkSr4/Kipvszes7hHQXhax+63Ry1XUuFQ99G8B4KTSTw41hbGD9NufECq4XAaQMYqFQ8/owWVHSJNR7/Ue+/NagbBYqdQ43yia3PpHv3iWC2QpJ7xqUKPPK9MqnTCfQF5htwr02zyhx76WF6AokqgshDmi6SlSPwsMKwnM4IhXxhijT1gTJuFA2x+AGgnIpv6tByOO4PJAhCHbkxoU2QjimPMQxNs6lK6HeHI/zoL04h84+Jr+JCLacG39zDI7V3v6hDPqZMhEMg3bvSoJ+oZ04HvZ1IN+g0sbBOUNgj22hNVE9cMhwLI7Dhk10ht1TJrYdRGAHNtId14R8BDbLOVKXzhzbwXWD8cA5YpttLZsygj7gu8H1Uw9hQoj9hU4R1aPkGq3RpeFAzUo0CaT5Io47gneMXH2DdwzvEJSd9q69nXSMPQ4BfhPSqb2LKIpOw6VqCWzHa2eXGqa9v52k+GB2AfZGlDNO8c62N9H5eP3l+o0tgOtFngj39uCuQUHZ3hhuy+wS7uk68mwqRGegXx4hhOgEED+JTiaCMtiIQu1MMRSxiohKIkG7SzwLBCiOyfE7ctNCGyE0EtVJhGdniW4tQTtxTOrfHjEuDrQJbUN/0z+BYNdeKC+IPMamulpQB0RQ6k+EPsc+0G9OOT/6iTZma6ug3hY4VtC+nWX3lIldhPuspwR1CGw2qEtnjrPgukHZ/N+esikjqF9wXT7QbVwIIVoFYbO4yEWHOoGsKwROr0yiV5Nl3j0kx+nEY7io1vISt0CmBPWuARGd6HG3YSMd+e1EMA3sLd1F9iY6H6/PEbpdvwVbJwnq0KzsNgjqQvQW9OsjhBBCCCGEEEIIIYQQQsREoroQQgghhBBCCCGEEEIIEROJ6kIIIYQQQgghhBBCCCFETCSqCyGEEEIIIYQQQgghhBAxkaguhBBCCNFGWOj0yCOPtAkTJjTbWKS4OxbhFUIIIYQQQgjRc+ipTwghhBCijQwePNhuuOEG+/KXv9xsGz9+vKXTaf9TQgghhBBCCCEORBK5XK7R/zs2jY2NtmPHDv+VEEL0XlavXm0zZ860uXPn2k033WRTp0713xFCCCGEEKL3M2vWLJsxY4ZNmzbNpk+fboMGDfLfaZ1sNmveM7//SgghDgwSiYSlUin3vxA9hUR1IcQBjUR1IYQQQgixP9MRUZ1ndyGEOBCRoC56GqV/EUIIIYQQQgghDkAQnbRp06btQNyE6GkkqgshhBBCCCGEEEIIIYQQMZGoLoQQQgghhBBCCCGEEELERKK6EEIIIYQQQgghhBBCCBETiepCCCGEEEIIIYQQQgghREwkqgshhBBCCCGEEEIIIYQQMZGoLoQQQgghhBBCCCGEEELERKK6EEIIIYQQQgghhBBCCBETiepCCCGEEEIIIYQQQgghREwkqgshhBBCCCGEEEIIIYQQMZGoLoQQQgghhBBCCCGEEELERKK6EEIIIYQQQgghhBBCCBETiepCCCGEEEIIIYQQQgghREwkqgshhBBCCCGEEEIIIYQQMZGoLoQQQgghhBBCCCGEEELERKK6EEIIIYQQQgghhBBCCBETiepCCCGEEEIIIYQQQgghREwkqgshhBBCCCGEEEIIIYQQMZGoLoQQQgghhBBCCCGEEELERKK6EEIIIYQQQgghhBBCCBETiepCCCGEEEIIIYQQQgghREwkqgshhBBCCCGEEEIIIYQQMZGoLoQQQgghhBBCCCGEEELERKK6EEIIIYQQQgghhBBCCBETiepCCCGEEEIIIYQQQgghREwkqgshhBBCCCGEEEIIIYQQMUnkcrlG/+9YNDY2WlVVlW3YsMHfI4QQvZd169bZrbfeau+++6798z//s5100kn+O0IIIYQQQvR+nn/+efvWt75lN9xwg9sGDhzovyOEEEKInqLNonomk7HnnnvOnnnmGX+PEEL0Xnbu3Gmvv/66E9cvvPBCGzlypP+OEEIIIYQQvZ/ly5fbww8/bJMmTbITTjjBysrK/HeEEEII0VO0WVSvra21n/70p/azn/3M3yOEEL2XbDZru3btsoaGBuvfv7+VlJT47wghhBBCCNH74Rl869atVllZ6bZkUllchRBCiJ6mzaI6AtXixYvt7bff9vcIIUTvZfPmzfb444/bsmXL7Itf/KKNHz/ef0cIIYQQQojez7x582zmzJl2/vnnu61v377+O0IIIYToKdosqgN51Xfs2OG/EkKI3svq1avdQ8jcuXPtpptusqlTp/rvCCGEEEII0fuZNWuWzZgxw6ZNm2bTp0+3QYMG+e8IIYQQoqfQvDEhhBBCCCGEEEIIIYQQIiYS1YUQQgghhBBCCCGEEEKImEhUF0IIIYQQQgghhBBCCCFiIlFdCCGEEEIIIYQQQgghhIiJRHUhhBBCCCGEEEIIIYQQIiYS1YUQQgghhBBCCCGEEEKImEhUF0IIIYQQQgghhBBCCCFiIlFdCCGEEEIIIYQQQgghhIiJRHUhhBBCCCGEEEIIIYQQIiYS1YUQQgghhBBCCCGEEEKImCRyuVyj/3dsGhsbbceOHf4rIYTovaxevdpmzpxpc+fOtZtuusmmTp3qvyOEEEIIIUTvZ9asWTZjxgybNm2aTZ8+3QYNGuS/0zrZbNa8Z37/lRBC5CeZTFoqlfJfCSHiIFFdCHFAI1FdCCGEEELsz7RXVOe5PZPJOGFdCCFaAkE9nU77r4QQcVD6FyGEEEIIIYQQQgghhBAiJhLVhRBCCCGEEEIIIYQQQoiYSFQXQgghhBBCCCGEEEIIIWIiUV0IIYQQQgghhBBCCCGEiIlEdSGEEEIIIYQQQgghhBAiJhLVhRBCCCGEEEIIIYQQQoiYSFQXQgghhBBCCCGEEEIIIWIiUV0IIYQQQgghhBBCCCGEiEkil8s1+n/HprGx0Xbs2OG/EkKI3svq1att5syZNnfuXLvpppts6tSp/jttY9u2bfbv//7vtnnzZn9PcxKJhA0YMMD+4z/+w99TmGw2a9/73vds06ZN7nqaj2HDhtn06dNt1KhR/p7uoaGhwZ599lm7++67/T1NjB492q6++mo75phj/D2F4fyqq6utT58+/p7mVFVV2W233eb6JID2Gz58uP3zP/+zv6f7oK633nqrvfXWW/6eJk455RS75JJLbMSIEf6eJh588EF75JFHzPv99PeYHXrooXb55Zfbscce6+85sMBOa2pqrLi42IqKivy9e6mvr7dbbrnF3nzzTX9PEyeccIJddtll3W7HQnQlXCfZysvL/T1CCNG1zJo1y2bMmGHTpk1z94eDBg3y32kZfr8zmYy7NxNCiJZIpVKWTqf9V0KIOChSXQghYoCAsnz5clu6dGnebcmSJU5QRMRvjQ8++MAWLVrkvpOvLLYPP/zQ6urq/G90Hzx84UCI1mfVqlVOfG4JROaVK1faL37xC/vVr37l790XPrdu3bp9jrFixQr/E91LofqwD7E4ypYtW/bpO9oHZ8GBCH2KQ+qBBx4o6FCnDdevX9+sTdjY1xN2LERXwO/AO++8Yz/96U/tz3/+s79XCCHEgUJjTb3tuvVp2/Kd37tt6z/faXXv9sz9qRBCiN6PRHXR4zRW11v96x9Y9R9e3LPVPvKm94b/ASF6CQiHRPoU2hBciHYuFH0e8O6777qo33xlBBvH6imof776tHReW7dutbvuusu+/e1v22OPPWY7d+7038lPvrbsqXPmvPKdc6Hzbctn92fowz/84Q/2j//4j/b444+7Pm6pjwr16YHYNuKjBTaM049ZT8ymmT17dqtORiGE2G/INVquqtYya7ZYg7dld1ZbY8NHM7I9kS6y7Oad1rBsvTV8sN6yG7ab1Wf8d4XofHDkZDbusIaVmy27aWenjb1Gz26zW3dZw+otllm3zXLVCnIRoiuQqC56nEamJK7cZA3Pvtu0Pb/AMu+u9O5q/A8IsZ+A8BJNf5EPRPV8EdD7I0Rnky6GdDakdCFSv7a21n9X7I9gx08//bR95zvfcaI6syboU4nj4qMIzqT77rvPvv/977vo9I0bNx4w128hxEcXhLv691bbzt89a1u+d7tt+btbXVT2Nm/b+ve/tS3/3+9tx6+ftLq3l1tjbYP/rcIgRO9+cI5t++8/t3njONltu/2SupfGKu+eNRMSMYuSZsVFTc+hBBKUps3Sqab3wLsXQgRFsOxNUKeqR97I277b/+cRy27Z5X9StBnv9je3s8Z23Tvbtn7vD822hpWbnE20lczWXVb12Ju27f/dY5u98bb1H/9g2/7lLtvyj7fb5m/datt+8pDVvrbUclVtE8Jzu2ut9tXFtuOnD9mWb99mW7/ze9v2A29M3/hH2/L33usf3mNVT87z7KHl4CchRHwkqoseJ5FMWqIk7W7Y3Nbg3aQUh25ehNhPQHQkUp0I3UKQCmPx4sUuqv1AAIHp4YcftgULFtju3bt7LNpcdB6keLn33ntdnxKtrj4VH2VI9cQaCsuWLXMzjORcEkLs13jXsPola23HLx+37T992GqemmcN7693EbK5rd59nLdlN++yzIcbrfb5+bbjF4/bzt89Yw2r868pFICo27B0ndW/vrTtG8K99/3uprGuwXbe9qxtv/kpJ442+kvNJStKXcT6nr8R2T2I9K16fK5t//ljVjd/pdvXG2jMZK1+2Trb/adX8rZv3ZvvK0q5PSCm76613Q+/Zlu//0erfug1N3bCm7PbttwWeOOv+rl3bfuP7requ1+2+ndWWHb9Nm/c7bLcNm/8bdll2TVbrX7OEtv5yyds56+fdLMmmE3SIl652OSOmY/ZzluestpXl1hm1RbnTNkzrjdsc8eruuMF2/E/j1jNK+9ZY1b3+EJ0FInqolvhgl4/Z6n7sdgDEQGVpf4LD0T2ijL/hYf3G9K4q8Zqn5jnvMRC9GbIR/7+++8XFF4QaHbt2nXACDMsfkW0Ov/HhcX9vvSlL9lPfvKTZhupY/YHWLw0WvdvfvObNmHCBP8T+zc4hXCQtKVPWcD0i1/84j7twr6RI0f6nxJi/4OodFK9tOQsFUKI/QFE5Oqn5jnRre6VxZbbtKNJFMwnrOUaXbBTbstOq31xoVU9MMelhikI97XedZII7rZvXF+7/7645tXFVr9wldW9tNB2/OIxq52zxHJeeyTKSyzhR6cnKry/i4sss2qz7frds1aFcP3m+1Y/9wPLbsy/zkx3k/Oek3ffP8caSduTp31d+poD47Gj28AJUf3UW7b1X+60qvtesczqLdZI1DhjJbS1qVm9MbLbK6vqntmW+WCD6zccIvsU4n2OfsvtqLK615fazj887wR8N8by4e1HRN995wueXS6z3Laqpn6Pfp6XDVl33Pr31jhbrnlufuuCvRCiRSSqi26Di3tm6TqrvfNFq7n1Gav3Lv6W9S7iqZSlQqJ6IpW0RB//tfdjlflgnVX9/HGre+RNq3tiXtN+IXoBiUTCKisr/VdNENXbUl51FrmLpg6oqKiwZPKjczlmZflDDjnEjjvuuD3bxIkT7cgjj/Q/0bs5+OCDXX3D9T/ssMOsT58+/ic+emC/0T5lY19pachpKoQQQogeoWHVZqt9430XhY7AHksR9D6D8F439wOrfXlRkwh4AJDduttqX1pg2c07nPMgs2yD7brtaau6/5WmlBtFTdHpCe//WoRNon9fWmS57U2CZZ3XjgjyPR3pS9/gDMh4dWmbwivyQXu6SPIf3mu773rJMsu9sbK7tlOE5+pn3rEar+zsph1NorwPjpv0YUMtfcRwS/Yv926q9+bAZZw2eH1b/fTbllkbCkoMwUK6OACYceLE9ICSIkuNHGTp8SMsdXC/pkDGAG8cZ1Zutprn51vtux/6O4UQ7SF14403ft//u02QwkCItpDzfgjqHp1rWe/HiRuS7IebnAc2NWqQ85rWv7jQfS5RWmxFx4y2otGDre65BVZ7z8uWXbHZ+yWqt8Ztu6xowihL9vN+cISIAekr3njjDVu3bp1deOGFNmrUKP+dtkE09qOPPuoieAOKvBvtY445xtauXevvaYL9H/vYx/IK5eSoXrVqVbOUGkcffbRt3769WWRw//797ZxzzrGBAwf6e7oHojEXLVpkr732mr+nicGDB9sJJ5ywT9Qx+YZfeeUVlwYmgPMfPXq0q38haJt8W3sh+v+9995zTovly5e7ehERTwQ1zo+WwMnx0ksvuYUIw4wbN84JwwMGDPD3NEF5+ere2nECcLhQX2Y0kGJl/vz5tnLlStu8ebOzi7KyMud4aCukFKIc+m/p0qU2b948lw99/fr17niUG6c9SHHBwqTYZBhsnQ0nUD7ytQlb3HYB7i0YT6RIom3o0w0bNrj9iPPUvzMhVzyzR7Abtk2bNrn+Yfx1F1xbsFnOmfUWSDOCLVCP9tpCIbARroWc68KFC93f7MMh1N7jcN3Czqg7DsVg/NH3neVooi0oF5umfYgcx6GZTqf9T+wL137qFR5nXHtpW2y8pKQklj1xXXj99dfdGAqgX4466iibNGmSvycenAe/IdhccL2ifGY40V5RJ21HwK4457ffftuNIc6VMcRxhBD7H1z7SEXFdYf7Me5x4sK9BdcfUpkQpcqCpI2kA0kmLHXIQVZ23nFWcdlJVn7RZCs+4TBLFKfd7GInvAfUZy1RlLSikYMsNWjfa3tuR7XVz19h2UD488pO9vF+w0YdZMmBfVrcUkP7W8lJR3j1K2n6bneQyVl2d63lWBiStiDquKbeRaRn1xKV3CSk8qyK4J5Zv23PgqUEf6WPHmUlkw611OA+bbrP6VS8+mXWbbVdtz3j2n8PkfoQsFb2seMtpefnFmFs7PrtMy4lUmbttqZZHK1o6WXnTbQixkMrNoD97LrjhabZ+oFA732nZMqR1ueGs1z/lE0db2Xea2Ox3I3b944/7HDzTksNH2hFIwZ543Dv/RrOoeon57nZE+gpDq8qCPSV15xqlVee4sot9bbUsIFu7QNmNDi8a0LjzhqvGkkrPmqkm5HBPUJn3ncK8VEg4f3Ittntxo8yOVeFiAv5yOpfXGS19842q/OFQ+9mC89syrvop44cYfX3v+r9eDVYom+ZpU8f713kay3z7oqmC39gpemUFZ90uJXPuND9YAjRGiycOXPmTJs7d67ddNNNNnXqVP+dtoFo/PWvf92JUAGIFB//+MedAImAE4CQRE7qqPiImPKFL3zBCRxcRwGx+sQTT7TZs2c3K4MI33/+5392EdBhnnzySbdt2bJ3Ci7H+/znP+8esvKBUPinP/3JXn31VX9PE7TFVVddZQcddJC/p0lg5rM/+9nP/D1NEEU+ffp0O+WUU5xY88ILL9jdd9/txE7aJrw4KQ8XnPuwYcPca/6+4IIL7IorrnCv+f5vfvMb1ycBfGfEiBH2L//yL/6evfziF79wC8CG0y9ceeWVdtFFFzlx7KGHHnLthzBF/SmLG0LahYfPyy+/3DlTCt0kIpb927/9mz3//PP+nibOP/98+9znPmdjx4719zTxwAMPuAULgz6EQw891NWJCPZC0FaIaU899dSeHPQImpxXcBOL0Ed/TJkyxR1/0KBB/rfzQx1of9oA5xG/zZTJAzTlBm2Bo4OyDz/8cLv44ovt+OOPd/vC3HXXXa4NaI81a9bsM6MC5wJic/A92gYbQqjjs7/+9a9dHcJg27Q/TpZCcA6MUxwbgQOM8qg/71F/xFMcTNT7rLPOsiOOOMKdWyEYH9gxdhEQ2CH1YazhJMOOEYCDfgjaifpedtlldtppp7V4nPZC/yBq094In9gu4jRb0GdcX4YPH+7G3BlnnGFDhw71v50fxgi2SVsG4BjiGkW/cxwEGWyQcUMdsDvOF2cZTrCzzz7bCcZxYBxjy88995y7ptFnQf2DdqTcc889120tCeCMBRYCDV/X4J/+6Z+sb9++9sc//tHZRiBsUxbXl+uuu84mT57sjgX0Ief5zDPPOOcS/Uyd2B+cb2BP/fr1c04iHKDYU1hs5ppJW9E/nCevsZEAymAsBE5PZq8w/gv9vnB9REBnAWDaH6dA0N8cl/ZiHHGdwr7pi9YEf8Y861mExynH//SnP+2EdOyfccx1h/oiwJ188smuzYYMGeJ/QwixvzBr1iybMWOGTZs2zd2PtXZ/EMDvaHAdhOz23VZ1/xwXeV4yeZyVnjHBig7ub4nStFvnishrhOTqp9626sfnNgnOPqlhA6zi46dY+XnH+Xv2klm5yYmGda+/716TPqX4uDHW5wvnudctwXGTAyubiYVdDkJlVa1bILXu7Q+t9uWFll2xyS3g6p4xg1u80N/U0bXZKUdY0ajBluxbviffek+AkL7rrpesZtY8dz6QKCt2gn/9Gx+410AdB/7b5y09erC/R+QDeyA9S/WfmwcWsfYb+gM5yZl1H2bA/73BSg4f7nSNlmBsVD/xVlPUu0/xyUdY5dVTLH3IkD3phrwB6/p1959etdoXFzih3+EVXzrlSKv4xKmWHrP3N7yG1Ex/esU5gwLShw+z8stPttLJh7pgRQflVtdb7exFVvXgHMuu3xs4UzT2YKv85GlW6p1jcI8khIiPItVF94CAzo1SXYOLUnfCOr/99Rm3IEfuQ+8mhps29mW8mznvQp/lxyG84rV3s1c08RArPnOCi2gQIg6IKl0Vqc6NByIfIF4EIL6cdNJJTgQLC3KIKk888USz6yeCEOIMEUjh/YUi1RHOEB+JSEYMZEMg43hjxozxP9Uc2gBxiGjL4DtsCEGIzuFoUh66WotUDwQizgURl4e1KAg9wXFoO5wDQVtxnjgiENXD9aGtEPmjIG5x3kSYBp9F5Ed0+vnPf+6EUYREzhOxiuPRT3wuiKDl4RMhKSokA3VtS6T6yy+/7EQ7BMCgPgiRzDgolD8cUe7BBx+02267zbUd0ePUl7rSf9SbOtOeiOQIb/QD7R44J6LQ7ohn//mf/+n6Cxvk+5QTLpe/ESMRbokCJ5qY9xASwzfO2MicOXPc8YOH7zD0O9HrwTlju7QRZWDzjz32mOun4H02HAQIl4Ue/qkXQiPt8uKLL+6J2uUcqHtQf9qK/mecIJryPvYeiKlRKJfzoV2CulAODhLG1o9//GN79tlnXeRyuB/4nzakf+gnysEGwoJrR+E8EIlxSjEGwv0WnHNgC4jVRLAT1YzoyjUlnw0DEdmc0wcffLDnnPkONskY+O1vf+uEfI7PeQZtG5wvNod90KctRUxjG4wrcuYjqvM3dhG0Ybj+lIsDiXNgzQEcG/mcFHwPGwhf19gQ+e+77z53XpRFuRyHfuF9nB44ILkWY5/333+/a1tsnGt+uF3DdQvsibrTtnyf34agbfkeM3DYOBaCfBhEKsoL6slrzo+2C8P3sLFbbrnFOVo5FuMr39inDakzfUR/cV4tiWY4SXFoUF5QD67p2Ortt9/uyqHMoJ/5m+sJ4xZHhRBi/6IzItUhWZK21JB+VnLcWCcQFw0bYMnSYhfN7J7XvP+T5d5vq3etzq7b1pSqwof3EJOLJ+x7Lx2NVOe5r2j0ECs//3hLVpa1vLEYaCf+zsbCOz/E0lTfchd9X3LcoZboU+bExrAjwZFKOEGz8pOnW+lpRzUJ6t5nXZv1EKT5qF+w0gmqQcAa51Nyqle/kYOtwXsvQJHqMcH2vbFQ+9LCJieFZ8PFJ4yzPjecbWWnjrf691bvnYnhEydSHWG86u6X3GLAexw0fUqtz6fPtOIjRuwV1AG79OqQHNTXGpatcxHqAYj+xYcPc/bK58j7XvvcfKsnfUvIqVJ21rFWfubR3t+he2TKJRK9f4WrT8P7e2dZY0vYM9eEIPhACBGfnvslEB8puLFKjR5spddMtYqvX2zFF3k3WEP8hzrvQt6I0B5MmmD6HQuS1jZ4X/T+VZZa+izvYfwvL7Hyz5xpRUdp0TvRe+DmA9EtDA8uiItRIQYBNBztCKQQQPgSbQPx73//93+dKIkIG21roB8QqxCymK2AU6EnHMIIZQiD99xzjxONEbiCh9t8IJYjkHFuN998sxN3o3C+CII//elP3fkhAuZrgyiIeIi4CHyIzj3pIKffiKxGTEVE5HV0fIRBzEWMRPylPRGJaae40D4InAjqgYOpUJvhaKHfEGkRVuO0bRxo+1/+8pdupgPidz7BNgztgfMGkRhhFhEb+4kLn6Wf77jjDmd79H8+OA7ni7OIGQc4gfJBH5CG5b/+67+cAwZhOp9TLYByEX1xRP3whz90f7dk+1GIxKb9EYSj7YTojNMGIZwyceoQvY1zgXHfWp/xPu3P+MHhFXUkdhTaClvF3nAccc1C4G7p/LE7HCm0LbNn6Pe2gK0gqGNb+cYSvzedlZJHCLGfkkhYaugASx8+3FJEh+cThvnMgEojNUszyAPd0Dm/h70GxEnvuZMFIeu9rTGcRiXAe0ZtWLzGal5eZJlVm6yxhd+9bsH7GSE9T/Wjb+yNfE56fTZ8gFVcdmKPRs/vzzAWmI2RPma0pY8aaf2+drH1++J5VnLsGG+s9Gm346cOMX5bSOvwSB831onjzQT1EKQVcsdM7+1LHFekpXE5/z1I40T6Hze7wqfokCGWPnK4W2w3H4jnRUP7O/E9gDQ32fXbLLt1b5o7IUR8JKqLboMfjeSgPlY0foSVej/45V+90EquOMkSLMiRBzd97exjrPyvLrWyq6dY0dGjLHlQX90oiF4F3vx8KT8QQ6KiDuJoWOggYpPoRonqbYcoTQSrQBSmH4gozxfFi7iFoIiwiCDYFlGvoyACEwVPdBkibvTYRHlT73xCFwIbgh95+CknDOLcnXfe6SLXonZG9DbpaIhEj86WCECkRIQsJLJ2NRwXoRFxGbGxJWE2Cv2JOMtUeFLWxD0HPodYiYBP2+IQo32YRRFN1RRAO5FGozWBNg70IX2JwJxPJG4J6osNE92OPeUTTPNB2zJTJxCzsQVmVeSzN95HZKaNcLrQzlFwfJC6idkCUYcMY5C0OdheNHUJUeQ4FX/1q1+1yZFD+p584wa47iKqc05cC4IZK9F6M76oExt/RyOwsD3WIOD6jBjfGVBfHCi0FXng2+IIAfqbOjEbgDEeF2a3cI3LZx+ku+H3pjPztgsh9k8QD52Ynuf+IKDR+43aZxFOZh0XHyBRrN51umH5Btv1x+dtx88esaqHX7cGFnBtyHM/4v0EuTQxc5a4BUt3/vJJq31l8d7UHN0MEcs1r7xnDUv2RhsT7V9+2UmWOqifv0e0h2RlqfX5zNnW76sXWenJR1hqSP+Cwndc6CcWww1TcvQhbmZEPjIbtlvVvbOtYdGq5gsD5xqd+J3zc6KzcGl2S3MhnFkK5F3PB6J8zbPvukVPG4N0vOCNBSfYs26AEKLNSFQX3Q83cukiy3k3J271+XCKlxDc1GRXbLSc98PCdLZuzbMnREwQ5hBrotPpEUSIHg7EIIQhRLGwkIYgRGqPQukceiuItqT0IKc2eac5jzCcD2k2eJ/tU5/6lB177LH+u50DbYt4hjj4yU9+0kV1/vu//7tLhUJO4WjaHNodgTrIvd5dYAekyYkekxQkl1xyif3rv/6r/cd//Ier+9/+7d+6tDZhENcQyoggDuC8ibhGXA3bE7Z45pln2o9+9COXi/r/+//+P/u///f/2g9+8AMndkbFdcoNR80znZy+uuaaa1z9oiDI8V7Qr9S1vXkXETA5p/D6AoDtjB8/3r785S+7NmEdhL/6q79yecXDQi3foU1JGRNum5agrRC2+S4Oh29/+9uuff7xH//RRVFjy/kcENS1kLDbFrADoqERrsNlMZ5IY/LNb37TRYBjy1/84hed2B8WgOl30qNQDilV4oCATR/TroxBbIw2xea+853vuHbFbgKoF2OLekZnSODIweZ4L+wECcpmPQTWgcD2OAdsMQxCL/2FyJ9PsM8HdeezCMLkC2cdBcR0xPHgfyCaHfE5XC++Q/7woE5s9DNtG00DxjgjvUwQoc91heNh56ThijohcIQyQykYC+St53cgAKcJdslsE8oOg6jNeXzve99zM024BlDPaKoX7JVzYk2JaBmFoI+CtsXGWZeBfPakhSH9Fimwok4FIYTIB8JtbnfzqG0WEk0NyO+E3gfv94S0EtntVU3icyhKtzeQ2bjDdt8722pmvW0NS9c2pSfN5qzo0INdpDIRvVB05HA3SzpRUdoU0bt2m9W9sdR23f2i1c1dZo2Zjjvd2wKOjszqzVbz9DzXvpAoKXKRz+TETrSS27s7aVi12aqfmufylLd3q52zxK3N1l2gN5B73i0IWtq+e9wo2dVbvMbYe99Df7kUQiWR8r0xUjv3A9v126ed+J3dsnufcYNzJ2iPnPe+m90fkE5ZakhfSw6IOM+9sYjDaNc9L1vVA69aZpVXn4jDjOh3UvIKIdqORHXRfXgX9Ny2Kqt7dr5V//pJq737FcsuXtvsR6YZ5FZfucXq/vy6Vf3vY1b76Fy3QrsQvQ0iPxECwxAVS07bQDzjb/aFxTREybbkxOwtIG4i2CCw5ltME9GGPM68z8YCpaQd6GwQtv7P//k/TpAipzyiL8Iwrz/zmc/sI/YjTCG+IeR2B4iTRPRGI00RrFkckcXGWDiQtkGUDBZGjeZlRwgmd3IQfYrYRuRvkMOd/kAM5u+vfvWrTuxDkCW/MzaGYIvoFxXAscdwxDQiJYstspBnvpzLLHZ56aWX7ulXym+PQ4h2QVglujjsFOA8qCsLAlNfBF8WOmVh1a985StuX3hWB98lZQnpTYjEjgMCMg6Gv/7rv3ZiKe0T5PvHZqKpnIC2Juq4I6I6gi2CNOlSwuUw/q+99lrnRGDNB86X87766qvtL/7iL5x9hPsNwRSbov2isxcKQR+RRxvbwMawNZxiiK2BaByGdqW+RH6H4XgI+rRHAO1JbnscAiyui43QnoxDjkf9w44KRF/WpogrEgNpXr7xjW+49vjSl75kf/d3f2ff/e53nb3SNgjptCOOvPC6CSz4iS0H44GNMcM+2iMqLhOljm0CMxf4DHaOuB6dyYAdBk4mNkTyYDFe2o8ZAtG2Aq6V2DLnQf3IjXzqqac6Z9a3vvWtPWUEUBbCPLbTFvvDfugTjsU18sYbb3T23VKOdiGE2AMRsUTBIgaGYKHOVIEo2CiIzQ3vrbbt//4n2/bDe23r9++wrf9yl+34+WNNYunby62xOv5vQWeT6l/h0ts0IlqyFRdZ6VlHW5/PnmPpcUNdEBiwGGnlZSdZxVVTLDVyoIvuJ+o41a/CUoNIn9O9IjbiP4vIZjf69wBefZKD+1rlFSc35cLvRRBJXfPiAqt+7M12b3VvLXMOnm4lFGzQGeS27LTGUDABec1dX4UcIAjlu//8mu2+80Wrf/vDJkdUnt999gdR7407q5vl/2e2gls817dd4LM1c5bYrtufc7niXV736AwUqG/osZkXQuzvSFQX3QIX/PrX3rfqXz3pRPKGt1e4CHQWLsWrmhjcZ+90QtLEHNzPu5nxfmgyWSekZxautrrH5lr1TO8h9aE3vAKbPipEbwBhCYEnCmJIEDVICoBoigvE1EILLfZmEMkQlYgGR3zNJ6wikPI+G9GkOB46m/POO8+JsGEhjb5gMT5ELoTS6HERuBFi46bP6AgIk0THRwVEREKiokk9EgimtCkRrIh+iGzUG5GQ82PxVkT4AM4VgfAv//IvnVhGZDoi44wZM1wEbjjyGOgLRNTofgjnnkaYpK8Q/fNFs9LnvBf0K7abL7K7NegDFq6MCo6MBwRP6spxOE/qQZQwYi19evrpp/ufboJ+ZAYIaxjEAXGUtqSdw7ZB29Af0fIDiIrviKiOCI4wH70GsBDnBRdc4KKc6X/qgU3QD4jBtAd9HQZhGicdOfXjgE0gpnPOwUKhbJw/bc7xo44cIsTpI6LqgXqTWgVHSBjKoF/oH+wsgH7juNdff72/Zy/BOghx2xNHDo4Gxg0ze2grnA9BlDrHwkHAjAai5YlGZxYCThjOK2zLnDe2S19Hrw1E9QepaegH2orP0i/R8RC0XzAWiIoPzp8xRYohhPUwlEM9aW/Og/FEOXwPByCOQRxt0espdSJXfDBOWwMnB22G6D98+HAbMWKEG1M4QsNOKSGEKETDqk1W/673rLZjb+qqRGnaikYdZGlvi4V3jUekIwqc9Bf1C1dZ/TsrrHb2e04s3f3bZ2z7zx52ecqbpbjoJpgFXX7usVY0fIAlh/a3ymtPs8qrp1rxeO/30Pt5CurkFnEcWGnl5xxrfW44x0omj3ViOou8pg8dyg+C+1x30Fhbb3XzV1jdG+83OQI8WHus7LzjLH1IzH7pThoyLl89joD2bm5Ge8zfv95IY12D5XAehSLOE33KvZv5vffkLg3R7c9a9eNzLbNi054ZCDh6AudOADbAbH7yqOdqG5qJ9aTOZZwGZDfusKpHXneLpLJw7Z78+5QZSWlDeczEEEK0nX2fsIXoCkjd4v0gZpdtaIo296PTE33LrPjsY6zsypNZk7RpHzdt3o1KiXdjk+jvR4dlc9a4rcqyH/o/NN13/yJEqyDAIOBGCfKqIx6RSiEsqCGmIHrsj6J6b4D2QxxFWOPvKIhcCHH8HwaBCnGwrTmO2wOLBpKuIwyiFtGoCIT5oL5EmZL6JBDKSWdDVGsgtnG+CM2IZ4iiRLsSbYwoF20LzhM7JBVFvpQb3eFciELO52i7IFAi+gbRx1EQNTlf+hRxMgwCLdHbcaD9iaKOiqTAOMaRkY+oA6CtkE88iIIOwHGAAwXxOV99aAeipfM53/K1YSGwN845KtYCgi7tGo3Q57pFfRkrwPmTyigQnQP4fjQaPYB9iLnR6GhEZxYTzWePUfgudYumX6Ft6C/gODjSENuxIeqDw42+DJ8z58SMBlJAkfooavvUJ+r0aA9E9JOeJ3p+XKsQu6PnEkAf4yzI56DFvuM6IrgO4DQI2xRtRVvk6ychhAiDEI5oi6hu2b3XnKLRB1nJ5EObLXDYZrxrGKIgYmlm1Warf2uZVd0326oenLNv/vZugBQcFVdOsX5fudDKz5toRcMGuvzZTsgNhE33d9ZFAJdMHGOVnzrT+nzhY1ZywjivLbrxHt5ru8yGHVbz5Dyvfk33JNQ1ffgwKzvz6H3EV9E7cLpFxCng1ofzfo8RsmteWGC7fv+s1c5e7CLagyhy1pGruPIUS4892L0OcM4eyuN/tvBtAXqL99vPWKpbsNJ23fmiVT/+lmVWb3HHAtIalZ4+wcq8LQzfCS94KoSIj66+olvgRz/l3bikjvGnNns//MlDBlvpNVOt5OJJlhjSz7uQBz84CUtUlljJ2Udb2WfPttRRI5p2J5neVmklpzVPsyFET4NgkS+vOnmvSTVCZDRRi2GRhchEogjziWmidRAko1GoUYjMjKZtAPImx13csiMQ5RvkaA6gPuQ3ziccA/uJLA3EVARPIvER4goJYuxHLEY0I3qZtB0siIkwT151FjskFUVnCIYdBSETYZO0M2EQRTnXltIhIeDSNtF82Ai+jLE4wjdtRBn5oB3zpb2BuFHC+cDWGP/R+uFYCc9WyAcOBNoliMoOQGDFtlrrU+wC+yGauhCcM6l8ojDDgtkWwd9cz6JwTUPcJxI/34YzMd+MBpwCcUR1xjiOpkBAjwPXBJw0tDfR9ixoy4KhRLGzzZw50zma2pKCpi3gyOL8wmB3RKcXcqYFYP84yaJgQ4ztOKI6swbkrBVCtAcEQAT12hcX7lkMEYjUdpHZR+b//XSki7zntH5WNGbIni01+iBLDRtgyb5llsizwCkiHoJfzXPzrfbVxf7e7oP82SXHjbEScqj39e4/SMeB8F9dtydSPVdd67VLkxMWMTR9yBAnqKcO7s8ja7dBfxDln1nW9LvMsV0E/aUnuVQ2vZH0ESOsz/VnWd+/uLTdW/nFky3Zr3eeXyxCEep78OyMBUZ3k+P8/letfuHqpjQufNR7r3jiIW6x1PLzjts3P7oPCwljq83wbCK3u8blYyeNTN3rS90adq4O3n1YavRgK//4FKu8eopzkgkhOgeJ6qJ78C7kySH9rHjKEZYcOdDSkw+1suvPaHrt/Vg0/ZD4Pwx4SnfXeT+g5ZaeNMbKrjvNii84zhK8PuuYptQwQvQyEEOiedURbYhYRFiKRniSyxnhpzsiBzuStqK3gqiOyNpS+xHlymeiECnb1RHaiLAIYVHxHgE1GmkdpS02gahKaiFEQxY+REj/1a9+Zffee68TExE2iQruaPqSzoL2oP2jYjDCblQ4zgdOiWiu/KCt4+QYR3Btqf3z2UtHIeKb+kXbH7G7JSdCAHYcFftpP9oxal9REFdxyLTkfOIz+dqeYwRtyt9RRwiQigbb+9nPfpZ3+/nPf+5mbETPHWdjHEcF596S0yEKbf3yyy+7YyOgsygr9XvggQdc7n3GCoJ3dLFYYNx1xvWY6z4L24bhHLDb1s4F50E0r3pA4OBoDY4jZ60Qos1kslY39wO3sGRm3bYmgc+DyPSSSeOs9PSjLNlCZHZqYKVVXDTZ+k6/cM/W76sXWb+vXWL9v3ml9f+bj1ufz51jxcePaZbzGcEvu8n7nZw1b0+u6O4kUer97ofqQ7oOJ6L7YihR66Tb2EPS+60oLnKCfHeB84EUIbUvLtgTTczCqSWnjreS8S04OnqYosF9PdsZa2VePdu7pY8Y7tld59+bdRt5ZhBkN2633Xe+YDVPv22ZNVvc2AMWAi6/cJJVfvJ0Kz1xnCX77JuyLcHvu3evkCDYIHLPwgwQymTmB2mXgnQuLIxacsKh1udTZ1r5OcdYakh/9rr3Aljgttm4FELERiNHdBvcgBR5P4xl159ppZ+YYunxIy3BIh3Z7N4cX+BE9SahwH3n0KFWevFkK/vc2VZ86pHezo4/9ArR2SDG5FvkkPzB5HuOioidmfqlNbG0N4ipnQ3iVGsCGO2bL8KVCNmORB7HgfLp82jbU5/OELwoH5Htf//3f52AiGiImEguZyJao9H4iLf52qstEcCdAW2SL0IZMTvOeCDiN9/nKLO1yGPOn++z5YP3u6I9cODkG4M41QrVJQznm0+MpdzodSVKHHvj/XxtSp2D8rG3qGMQeJ8c+ThuCm35ZhAgascZgzhR4owX6sp1FhEfpxKLoc6ZM8flnieSHpEb++BzlEd75uvr1q4pceC8orbIMfPNmonC8Qs5fWjHfHYUhe/HaTMhhAgg9UPtvOVNOZ2Xb3DPYsBzWMnxY638guOtyAlxhSFHedGIgVbsPes1244aacXHHuIi3cvOnWiV155upedN9L7gfxEy3j3T6i3W8GH3LCTfEol0kVV+4lQb8A9Xu63f1y+19OHD/Xd7huyWnVb99DtNi0xCUdLSow9ykcy0e68FodZrT+eEaO+G86ITfpt7Ctc/EbE6t3W3W2cgt6Pae9H0u04qIsT0iktPsvRhw52zxzmZIvfMlEebkAUgQV72UNOgp2SWb7Ts+m1uTEFyUB8r+9gkN+6YlcGMDJeT3Z99sQfK3J+dF0L0IN37NC0+8jD9L330KEuNHLT3B8a76LvcdT5uOpMvqju8H2RWNU9PGutWyxaiN4JAk09UJ5cy0ZFhIRHhhNy/nRUVi4jTktjCsXG95uwAAP/0SURBVPMJmfszgUDWEpxzvs8gOHWGeNYSlJ9P2KKvOholzzkRNfzLX/7SHnvsMbcYKqJhWKQkwpc0EldccYVbwJHc7PnsravbIQptUqhd4tgonwufZwDjL45A3Zpo3hXtQb3ylYsgne9cotAu+T5XqC3D8N3WhHfsKV/5YRvm7zjtG5e4YwCxP06f4Ly8++677dlnn7UPPvjARdgH9oSATsqfqVOn2ic/+Un7m7/5G7dwa3SWAMeJc6zWoIyoE4Q2jnPOLX0ujiMRSPnTGechhPho4PIvz1tuVY++4YS+PZHQxSkrPm6slV96ohWxCKb3PNYheJ6rLLX0YcOs7KxjLDW0+QypxvqsNaxsnjKvR/CeT4mOLjnp8KZt8qGWKpCCozvI1dRb/XtrrP6dD/mRcPtcRHE6aXVzl1nVY3Obb0/Mc58Pw7N17UsLm30uEF1F14LwnSj37r/D44e2D9LCpFNWcsoRVknQ4VlHW+rgfk1iuUd2Z5Xl6prfE5ATPcFipNyfMcsiPGOCMnGIUTR2fORwq/jEqVZx2QkuN3vggCGCPbdrb3onoMyEV7YQou1IVBfdCw96EW+tWxgjEqmeC78G72vdOc1OiLaCiEFe4miaBvJHs4VFK6bnk1+3NUEsLoVEtwAE6I4Kub2NzZs3t3pOCGv5BEUihPNF/nYmiLcIglEhm2hfonRbgv5saSFVyiBv+ksvveRSgARwTBak/Ou//mv7zne+Y1/72tfsM5/5jFsckYV08wnKrYnMnQ1tny/tEefRWrsA0feksglDWbRzoXzoYXpCbKRe+eyN88gX/R2FlCZRe+A8iHxGQG0JopsZBy1dHxhH+VLncH0Koqv5O1+qGtIw/eAHP9iTrzzudv311+eNjo9Cv7Zmo7TPk08+6fKkk44mgHZnwdJvfvOb9nd/93f2la98xa677jq78MIL91nEFDrLNujr6ALJtDFpcFoDUZ31AfKBo6w1OIe44rsQQjQJ6sus6pE3LLN4rcupDi5dxKRxVnHFSZYeN6xTn8EQhFOD+7rI3GZ4v1MskioiNGRcepxmAWgNOReRXP3w61b90GvNt8fesIZFkTVQso1W89y7zT4X5IzvSurfW207b33atv/ogXZvVd45ZskLvr/i/R4nB/ZpStsSgRS45ZefZJVXT7WS48ZasrLMfT4gu7F5vwPfwTmFNkKwYr7UOAnv/dJTx7vI97LTxlvqIO+eJCTqk3ednO5hkuUl3rjMv5C6EKJlJKqLHgfPaPr4MS69i9s+e5aVXLjvQl1C9Hby5VVH1A0iJgPIp14oHUdr5PsOgk30GGEQ5FrLvby/gXhGWoeWhPXVq1fnTT2BONWaGNlR6CcESUTHMNSbtC2FoocRP8n5/G//9m8uPzr5oB9++GGX2iLIaU1fki893KcIj9jeV7/6VbvkkktsypQpbqFTInSpR6HIfuoZ1w7zfb+tIPjRJtFUGDhJWMyzJfGX94jIp9/DILyy0GlX92l7wYnAQqFRYZ00Pa3lusdOsONojm4E43xlRgnEXNq3EFwfaPsolB3kr+dvFtiNgjDNjIhzzjmnTdvEiRM7ZWYBLFmyxKWZCQvqOAEQ1HEqXXDBBXbSSSe5hYs5B+yE62W+MdiWa3KhfqP8aFvRD4jlLfUDUC/W4IjC+bAYdmv1o73acg5CiI8uTlB/C0H9TcssXuNyiQPPZSUnHmblV5zclIYi3QVBTVyniiO/X1y6dP3alyD6OAwOiJ01TnSNbrlNO5sHq4H3e0XKkfDn2NfVZDfvtLq3l7tFaNu7NeDsqe2ahcW7i6KRg11EehhSJVVee6pVXDjZ0mOHuFQ3UTIrNjWliAnwhkfR0P5u3TkgtUuCBXZDuMVrzzvOKq6aYsUTRluyYt974+zmXZZZ2/y+EoG+KDJ7RAgRD4nqosfhRyR12FArPmtC03bmBLeQqRD7G4gZRAS3Jmocc8wxeVNxxAFxKyo0IQ4hKBUSmImUjxMl2Zm0JI52BpT/3HPPFXQWIHgRuUoUaxjaLhCauxoWf+RYYRC3EdcQVPOBwImAzrk98cQTdv/999sf/vAHu/POO12edMBRgJAYBtFt8uTJTkjPF1GMDcQVxQvZL9+PW0YhKJtZGizSGYYoddLY4FAoBOdPKqVopDpRwTgU4giwPQH1YhZL1OY4H9JDRQXzMIjF9HVYMIZRo0Y522rtWkN/rVq1yuXaLwTHnz9/vv+qCcqlvsGimUSVI+pGIdKecygEto5j6JFHHnE5zulfbLwtttjaOTKWouMcmyAdF+0edbZwvaQOcWYJQL46tDQWyGnOccPwWQR10tMUAkGd1DXYeJTDDjvMOY5aa4vW3hdCCNgjqD8aEdTLiq305COs4jIi1Id2jaDu0VhXb9l1kftS77eSCHYhDjRYW2Cf3PdFKSs+cqSlBvZxth8lS97199c3m72BmJ4aNsBFlUPR8IGWGtQ8upyZIAj26VHePUOe8ZurqrXMio2WW7938XnGPemYejLNkRD7MxLVRc/DAyuLY7DwRrDl8dYK0dtB0EBUbwk+Qz711iJMC4HQFf0ugg2LBeaLgkTUQlwmOrorQDCMRpwieHdHZDwLc7766qt5o9ERpl5//fVm6VFg5MiRTtRtr1OjLQwdOtRFx4ahr1asWOHSVUSFQEQ1orAR3vgcAjwC8po1a5wAS4Q9+wu1b6Hod/Yj0uebzUBZlBkGgT6fOEc75yujrSA4kn4jDPUgQvfxxx/Pm/6CKP0XX3zRpb0J1wH7o52JRO7NkJYHJ0sY+uXpp5+22bNn502/QoQ6C27ibKB9AhhvOBHyidz5wH5oNwTbKDjbGEdLly719zSBEE0fBTMtGC+8jkZgYxPUMeroAOrMe4Fj6Oabb7b/+Z//cTMwEMLD51SIOCIxdYjaPq+x63zf51qJuB/9TjC2olBG1GGDDRYS5ZlFcOyxx7oZCmFwHOEoe+WVV/YZcxyXsf/73/9+n7bk+BdddFGsyH4hhGiNgoJ6RYmVTjnS5VBPHzq0y9JukuKzds4Sy64JOZS9SzVpLIoPG+bvEHtIp6xo5CCXdzvWdtJhlho+0P+yTzJhxRMPafa5aDrWLsGrO6lKXJqSdm5N+cj3b8mq+IgRlhpY6fohgNkC9YtXW64mz72EN0ZrX1tiGRbuDaXpKfLGR9Ewr2/99igaPsi9DusmRLbXf7DeMsGitmFyjdbgvcf4D8Y9JA/qa2mvjt1iE0IcgGjkCCFEJ4H4kS+vehgidDuST510DFGxBhBqnnnmGSdIIvgQ2YpISYQzwnNXidyITVGBGrEKIY8UJQj6CLr5oi87CoLgH//4R7vnnnts4cKF7jWCNULe7373OyecRUXgk08+2YmwccS6joKIOmHCBNffYRDT6SsieBGKiURGOEVwu/322/eJQqe/TzzxRFce9UZcIxo2DG3+2muvuXYIg6OFMokSzieII0hGBT6ikqMiIixatMjeeOMNF0lPXRFiEf7bCu2B6BiNVkdMRGS+9dZbXfmcC8d4/vnnXX8+8MAD+wjupEAh1Q3Okt4MzhVsITqLgChy7Jc+whY43wULFjgbxj4Qw4O0PwFcY5iVwLnHgT6mzxBssTvEemYuMDbvuusu58ggcjsMZZ9xxhl77ID/ufacfvrp7nUAs2OIVL/lllucfQRCNdcfHEcspEu/IhjzPjaKfcddgDQOjIWoo5Hz4brHNSAQyqkb4wyRnzaO2j3vB/UPw3iLls/1lPNgXQPGBDbKrALg3OgjHClhKBtB/7bbbnN9QZ/g6GAWwYMPPmi/+MUvXPuEoY2wnbPPPjvvmBRCiLZQSFAH8jkT2IToVv3cfKt++p28W82LC63hw43+t3y8y2luZ7XVL1tv2e1V++brzjW6iNv6+Stt9/2vWM2st62xdu+xEQWLjxltqSHN16MQXtuUFlvx0aOt8trTYm0VH59i6fHN74mIXi47f1Kzz3XHWmXF44ZZ5TWnWd+vXNjujVQmKT/dSZeDc31HtdW+vnTf7c33Lbd939zu9YtWW+0b7zf7bN27K/Ys+AvJvuVWPOlQS/gR5sBiodVPzbPa15Y2W0uOhWlrXl5ktc/Pd9HqAXy35NixLlI9IFlR4vX1CEsN3ZtqknUR6t76wGqefdcyG737R/9Wx+1fuMqqn5xnmWUbmnZ6MPbSYw624qNG+XuEEG0ldeONN37f/7tNxJ02K4QQPQkRoIgeiHEsUEfahPaASIPQFY58RhgnMj0cnY7AjFiSL0cxILSQUzickgBRivQL4esqEaJ8LiqcIdgE5YdFIerFOSL0EKGN2IMgh3BGeocg+jj8nUD46dNn79RBhNdA/ApD6gE+GxUvaRfET8SiMAh5CFqcV5AeIhCZEGKpHwJ4AHVDNL7qqqv8PXtBlCeyNSqCAeeGMMl5I9zjXAgib6OC75gxY+zqq6925x12auSrD/A5UkhEI4xp06iTAIEYOwi3D8dARCVCFcEtELU5D9oNoZF2Q1TDRhG+aftwGh/KICL5C1/4wp6FChHn+ByOizDYOvuwDcpGVEQwJfIdYTZf+9EnnGc4ChbxDvGV6PjwdzgPBFn6FBvDNg855BBnk9QJUTia1oboZtowvMgi54QQSt9Rz7CQSbtwDoiN2BXtwnlgQxs27H0IAGZtIKhfc801++Sup5xAtAxoycYCcHj86U9/8l/tBTH58MMPb7ewyXUBZxv9zXmHI6ID0RkbwRZoW2yB849GsCNskzOf+kQFeux37ty5eaPGGY9cHxiTCMocg3FCGyGwh6HcU045xa688krXtwHYCNcKnHXhetF/1J/jU3/ex6GG3WEvYej7z33uc87uwjbHtQ9hmX4Lg+0wsyeawiUM3+WY4Zk62C1ONs6Z8bB48WJnn0899ZQbv1FHBWCTHIvxEIZyaLPwbB/6jzagP7FNrjeknAlmptBuOMM4bngBXq4B1JPv0d9cR+hrrreM6bDjC3tljM2YMcOldeJ1GI7LeYfHD/b5iU98okXHrhBi/4TrBqm0WMeCa2i+VG+F4JrFdbHhww1W/dhca5i/spmg3kRT3u2Gpeus4b01hbdVmy3Zp9QJpnvwyq73vld198uu7Pp5y61+7gdW986HVv/uCqt7bYnVvuptry+xhndWuOPsgXQVhxxkfa47Xelf8pBIJlwUf6p/RayNHNoNyzd4fbX39xcBveLqqZb22jn4nPej4r/bdZCmhDzdLErb3o30Jt3hAIDGXKNlPPvedftzVr9wVbOtYeFqy67z7h0amjvfc5t3WsOSNc0+y+dKENGDCHKvqUnz0rB4jeW2e/c55Mn3wBGVXb/NMmu2WGblJqv3xlftK+9Z7cve/YBXjz1R6t73S0463MrOPsaKGCOhrmMmAHXIMPPD/3xjdV1T7nxvH+O14f11Vofw/9JCV4c9Oeq9corGDrHyCyZ543moswnuI8LPSEKI1lHYixBCdDIt5VXvSD51QDzkYQqROwwPSwhYCEeI/0SJItggHiESsThqvgj3joIQhVgdBaGaB0BEH4TNQk6G9oJohMDIjR+iIGIiIh6pNBD3ovnlaa/LL7/cpc1ob+qd9kAdP/axj9nUqVObiYj0F44QRDcETsRjBOlwvbmxJaoeETicLoUHadJBRPsTQQ6R9L777rM77rjD7r33XtcmiLjYXBDpHgaHRLStOC59GhUy+Rx9inBKXREZ2+tgJx844jDtEj0Popwpn3OhbRAso+IygjqzDnCSRGcC9FYQRnEAkB87bAuAmI8tIK5iy9gwQngYbBjHIM62qKOnEPQ7wixiONHVCLmI6URWMzajAjxiMMIygnpUmKXO1P3aa69tdnxsmT6jvxB8mFHA9SfqYMH2WDSUBUQ7cwxSJ2YBhJ2DwLWPc2UcEJGPaM84Yz+fjc72YD9jJQrnms/GcADQZziZcFYEax4AY4ffAdoq+l3ELY7DOEJQ5zqNI4l2DKCtcEThTMNxVOj3RAgh2kJ2E4tUbs8jqHvX8qo6y27Ybtl1W1vevM/kdjX/fWpEkCdS/Z0PnShY89y7Vv3021bz1DyrfvItF+FeO3uRE+XDOaLJK50+bKhVXjXV0mOH+juF6CG832EEaSK599mWb/DGyL7pJrNrt+7z2eyazd4bzdPJFQ0bYOUXn9A0GyNIA4OIv2KTi0qvfuQNtzF2ENj3RLp7H01PGGVl5xzryggL6kAe9NLTJnifGenGk8O7nWDBWlLIVD/2plfu6252SMOiVe78AlLDBlrZWd5z6YTRTlAXQrQPiepCCNHJFBLV2deRfOpAGWeddZadeeaZ+0TnRkFw5nhELhLZFBXyOoMgurOlGQCIvfnEqo7AuV9//fVOJG/tvBBwETPPPfdcF03andAHgRDJ8aPCXyGwESKjOUf6Ohw1wnukg0H4zBepFkSsIxIi1CHGfuYzn3HpPKJthbCaTxjns0TftxSZzXHaK6pzPvTddddd58R1hMc4wiGfoV44FT796U/njeDtrSBwn3rqqS5Sm0jzuLZAH2AL2PBll11mw4cP999pHURyUsVceuml+zjiogRphrA52jUffAY7xp7yOdMCgT0Kdoq9UjYif2f2GdcgbIi6R8cDUdxce5jlgAhOW3K9YjxOnDixWT2IKGfcRNc6wDGGMzQ82yIKTkTGWxicEjjUPv/5z7s+iHv9pY4c7ytf+YpzonTECSuEEM3AeRdy4HUpHKoh25TmJSIwIiomB1Za6dnHWOUnT7eSE8btFRqFOBDx7jdKPTuvuHKKFY0ZslcA92CckHbGRbHXZ93YcZAWabL3nctOsuIjR+Rfc84rl0WFKy4+sSk6vix0z5DJWePuWsttq3LpZvaUW5S0okMPtvJLTnDrKJBGRgjRfpT+RQhxQIPw1xnpX4gapRyEEcQSNoRdBPSoAIXIQwQiAlTwWTZSgxBZi/ATFnOIcqR+RDcGn0U4Q4DLJ5xTPgsGIsohGhHxHE4BgJBGWg7Ed0Q4InoRfIgWDx+D6HVyWxP1G4AATvQyUabB59ioO+dK5HQYBCC+z2eIhKW9o9HWRHoioCLUAu+T6gARKygfsZtzJpI1Sr70LwhciE4Ie4jM9A+iWZBWg/aljUhjQYQ6QmAhMY+2I70D7RjUh432IQI2KsQTeY/4Fv4sdkVb5otoxWY4NnVF2EQk4zeUOkejU+lbZhYgpNN32AD7wvC5oI+xAdqTtgy3O5+hPTn/j3/843b++ee7Y9Pu2F9Qb/oHhwv14+8A+gz7pU+jZfM5Po8oiUBJ/Wh3InbDfcqGGIxAmM+OEdbpR86DutLO1Jt2CR8POF9sEFtGQCXambQ44TqHoQyi6rH7oC6BjdEWhcCGSDcTPgc2IuqpZ6HjxQVbxcmDvWArjB3sj/qGU38A7wW2wDmfdtppzqbz2TDkS/9CHwZjgPOnnzjH8D0cnyFtCQIwNke/hp04YQLbw5apP/ZHmQjp4WsQ0FYI0gjKlIuwz3nna0P6m2tm+PrKRvoX6sYxWwJ7pG24vnFu0fqwnzoH10TakmOSiiUYD5wL5dDPYQcEfcZ7lEHbRa+3vM+xaTfqG0Bb8R3OmY1rJ+fBcRlX0bFPHfgtoR9oK+rI9wvB7wbX9OD6y8Y4u/jii/e5Zggh9n86I/1LljQR67zfCO/vZJ+ydm2pQZVWfMRwSzdL/+LdP27ZafWkHOE+LBMR0aG4yJKD+1jRWO9aPfkwJ6iXnTreig8fbokO/raKENmcZVZvduk/9vRbvworO2OC+1u0gGfHbqFPz473tF07ttTB/ZxYzRoFYUhjUzR8gKUO8u53ya/u9ZWbNRK5/2OBVhYlLTt9gpWfO9EtdEoKoEKQM5/0MuRbT/bxrgvcJ9bVN0W7773VcIJ70ejBVnLi4VZ+3kRvHI6zlGcbYbhHK3QPKITIT8L7kQ0NtXjwoxyN5BFCiN4IKVFmzpzpxKabbrrJiWPtAaGGMhC/ArjxQKhBhIlCGpKo85EHIAQmRJgwiGHR3NJ8NhAsC4FgiMDLd4nGREiibIQhBC8EOaJ6EaoQyqNpURCCECbDwg0PXgjGwaJ7AYHYS9n5QGwiTUeQBoF2CsQoBKrRo0c7gRo4TxYMDKdLAMQhRNMo3//+910ak7DoSL3/+7//29WHPg6EbkR9BCraDxGLz3HslqI9C9WH9qFvqVcYzjGa2gJBC1toKZoVaCf6gf4gV3MQ7U39EDcDcZCy6LtCAirwW0yfU3fKQyBErKMszh8BmbQxlIWt8h6OobCdAUJevqh0yiZXPeeLfSEmUjZ9ynkSgY9YiP1gNwj20fzciKocvzWRD7vku9gyUcXYNm1FXQPRkHahLxGlW+pPwP6odzgPNlCPk046yX+1Lxwzup4A4BTq7AVu6Q9sFvvF9nBI0Mb0A+eMQMo4pg9p79YinVlD4eabb3bCSwBCOjNVpk2b5srnPeyPtia6mnbkOLQrY6W1aPYw9Dl9RTsHfYbNUC7tzDnQ/9gI147odS8M/Y9thq+vwPjj+y19N4DxwHlxLaBNGVvUhXbDScR4oB7UiQdGPkNb8JkA6s0xGQ9hKBtnBeMhGLvUGdtnPPB52g9bzwffx7a4biCE8336g/aiDzguY586Uk4+J1QU6k559EMA9okThWuJEOLAgrUqWGOB6/n06dNbvd8I4PrDbyn3UNktu1z+ZlK9tJviVFOe7BGh4yOqb91l9S69RL3L2czCiG7BUu+6lCxOW6LM2xAcB1S6FBiIgIpO7wIQ1cnRTY7tAK+diyd694ItCLPCwxsr2R3V1rCo+XowbQXxuvjoUZZIF7hvY0xu2mGZVVsst2WnE/IZL/RToqTYkv3KvTHW3+WUR6RnDMWC+u+stsxqr9wNO7xyq9zCp0CUO4sRp4b0tdRIP1d9al9nFvdHce65hBB7kaguhDig6SxRvTeDqIJAhziLgISg2poA11VQl0BYow6ITq0JoK3RkqgefqjkmLQDwhLH5aawM0XQzoaH3KCtqCtRrGEHR1vgd5lzD5wZwfl3BvQp5QYCIIIdfdtVbcvxgmhe+pxzYTuQI2c45yDCGlGdNqato46OlmhNVA8I+pM2DsZoR9sW+6P+Qblcg3qyzxhb1Cd8jp11TQzGLf/TR+0pG7umjOCaTX+3Fo0vhPho0xmierfhHdOlfkFURygsSnXbYpNC7Fc0ev/qG5qiyhkrae/+usi79+uEe+zGhkyTWO/hxiAifyuOLInqQrQdzbUSQoj9nCCylUhHIno7SzxqD9QliLqkLh0V1NsCx0JEDI7bmwV1oJ+oK9HB1Btxrr1wrgiZtDuRs515Q0yfUjb1pL6U3ZVty/EQGInWRTTAtg9kQR04Z4RVzpeoamyBfV1B0J/YXGe1LfZAnekzIsF7us8YW9SB+nA96sxrYjBuGWvtLZu2CWbxUEcJ6kKIAwrvN8FFxpaXWLLUux+ToC5EfrzbadLEJCu9+z5vvCTS3ljppHtsRPRkhVeut7lUNK0I6kKI9iFRXQghhBBCCCGEEEIIIYSIiUR1IYQQQgghhBBCCCGEECImEtWFEEIIIYQQQgghhBBCiJhIVBdCCCGEEEIIIYQQQgghYiJRXQghRK9myJAhNm7cuGbbqFGjOnXxQSH2d1iYk3ERHidjx451C2oKIYQQQgghhOhcErlcrtH/OzaNjY22Y8cO/5UQQvReVq9ebTNnzrS5c+faTTfdZFOnTvXfEfsLCxYssI0bN7rfngAExEmTJllxcbG/R4iPNps2bbLly5fb7t27/T1m6XTaRo4c6cR1IYQQ+y+zZs2yGTNm2LRp02z69Ok2aNAg/52W4d4pk8lYNpv19wghRH5SqZS7dxRCxEeiuhDigEaiuhBCCCGE2J9pr6gOiOreM7//Sggh9iWRSFgymXTCuhAiPhLVhRAHNBLVhRBCCCHE/kxHRHWe3cOz/YQQIgqievh/IUQ8lFNdCCGEEEIIIYQ4AAkiULVp06at0MZ1QoK6EG1HoroQQgghhBBCCCGEEEIIEROJ6kIIIYQQQgghhBBCCCFETCSqCyGEEEIIIYQQQgghhBAxkaguhBBCCCGEEEIIIYQQQsREoroQQgghhBBCCCGEEEIIEROJ6kIIIYQQQgghhBBCCCFETCSqCyGEEEIIIYQQQgghhBAxkaguhBBCCCGEEEIIIYQQQsREoroQQgghhBBCCCGEEEIIEROJ6kIIIYQQQgghhBBCCCFETCSqCyGEEEIIIYQQQgghhBAxkaguhBBCCCGEEEIIIYQQQsREoroQQgghhBBCCCGEEEIIEROJ6kIIIYQQQgghhBBCCCFETCSqCyGEEEIIIYQQQgghhBAxkaguhBBCCCGEEEIIIYQQQsREoroQQgghhBBCCCGEEEIIEROJ6kIIIYQQQgghhBBCCCFETCSqCyGEEEIIIYQQQgghhBAxkaguhBBCCCGEEEIIIYQQQsREoroQQgghhBBCCCGEEEIIEROJ6kIIIYQQQgghhBBCCCFETCSqCyGEEEIIIYQQQgghhBAxkaguhBBCCCGEEEIIIYQQQsREoroQQgghhBBCCCGEEEIIEZNELpdr9P+OTV1dnW3ZssV/JYQQvZc1a9bYzTffbG+//bb9v//3/+yUU07x3xFCCCGEEKL38+yzz9o3vvEN+9znPmfTpk2zgQMH+u8IIYQQoqdos6ieyWRszpw59uKLL/p7hBCi97Jjxw576aWXbPXq1fbxj3/cxowZ478jhBBCCCFE72fJkiV2zz332JQpU9xWUVHhvyOEEEKInqLNonptba39+7//u/3Xf/2Xv0cIIXovjY2NVl9fb9ls1kpLSy2VSvnvCCGEEEII0fshsI3n8HQ6bcXFxZZIJPx3hBBCCNFTtFlUR5iaP3++vfnmm/4eIYTovWzdutWeeuop+/DDD+0zn/mMHXHEEf47QgghhBBC9H4WLFjg0hmec845du6551plZaX/jhBCCCF6inblVCfyk5QKQgjR2yHty8yZM23u3Ll200032dSpU/13hBBCCCGE6P3MmjXLZsyY4fKpT58+3QYNGuS/I4QQQoieIun/L4QQQgghhBBCCCGEEEKIVpCoLoQQQgghhBBCCCGEEELERKK6EEIIIYQQQgghhBBCCBETiepCCCGEEEIIIYQQQgghREwkqgshhBBCCCGEEEIIIYQQMZGoLoQQQgghhBBCCCGEEELERKK6EEIIIYQQQgghhBBCCBETiepCCCGEEEIIIYQQQgghREwkqgshhBBCCCGEEEIIIYQQMZGoLoQQQgghhBBCCCGEEELEJJHL5Rr9v2PT2NhoO3bs8F8JIUTvZfXq1TZz5kybO3eu3XTTTTZ16lT/HSGEEEIIIXo/s2bNshkzZti0adNs+vTpNmjQIP+d1slms+Y98/uvhBBiXxKJhNtSqZS/RwgRB4nqQogDGonqQgghhBBif6a9ojrP7ZlMxgnrQghRCAT1ZDJp6XTa3yOEiIPSvwghhBBCCCGEEEII8REEB5wQou1IVBdCCCGEEEIIIYQQQgghYiJRXQghhBBCCCGEEEIIIYSIiUR1IYQQQgghhBBCCCGEECImEtWFEEIIIYQQQgghhBBCiJhIVBdCCCGEEEIIIYQQQgghYiJRXQghhBBCCCGEEEIIIYSIiUR1IYQQ4iPEzp077f3337c333zTXn75ZZs9e7YtWLDANm7caNls1v+UEEIIIYQQQgghCpHI5XKN/t+xaWxstB07dvivhBCi97J69WqbOXOmzZ0712666SabOnWq/07b4Jp388032/r16/098ejfv7/16dPHRowYYUcddZQdccQRVlRU5L/bOr/+9a+dAOpdq/09ZkcffbRdeOGFNmzYMH9P17Jq1Sp7/PHHbcmSJf4ec+dAPW644QZ/T9ezcuVK1wc1NTX+niauu+46mzhxohUXF/t7RJTFixc78XzhwoVOPK+vr7dMJuPsKpFIWCqVsnQ6bX379rXx48fbySefbMcdd5yVlZX5JYjeAn3W0NBgyWTS9ZkQQogDn1mzZtmMGTNs2rRpNn36dBs0aJD/Tsvw3M7vvZzmQojWCJ4HhBDxkaguhDig6SxRffPmzfb3f//3tnz5cn9PPBCfuUEpKSmx8vJyGzNmjF122WV20kknxRKBv/3tb9sbb7zR7GHojDPOsC9+8Ys2duxYf0/XgiB7yy232Ouvv+7vMXfDdfrpp9s//dM/+Xu6nkWLFrk+2L17t7+nCdrorLPOstLSUn+PCFixYoX98Y9/tPnz57vf7aqqKifIFgKhFjvFETRu3Di78sorbdKkSWrbXsLatWvtqaeecv1x3nnn2eDBg/13hBBCHMhIVO9ZsturrGbW29bw/jp/j1nxkSOt9LTxlhrSz98jxP6NRHUh2o7Sv4heTWN1ndU+Ntdq7n9tz1b70JuW2ySnjuh+eChBkGzLRlQ1IvCWLVtcxPecOXPsJz/5if3mN79xaThaI98x2cdDUncRPJBF6xGOnu8OqEe0Dj1Rj/2FF1980X7wgx/Ys88+68T17du3u/ZqCdoSe123bp299tprzlYR5XEqiZ6Da8Wjjz5qP/rRj+zee+91szYYk0IIIUSvxruvyO2utcz67ZZZs8Wyu5rPNtxfqF+0ympfW2L1by9v2has9O5Lc5bo08NBB969cWN9xrJbd1nDqs1O/Oe1EI0Nnl149pBZt80yG3dYY229/44QojNJ3Xjjjd/3/24TdXV1/l9CdA2NDVnLvLfGau962bIfrLPssvWWXb7BGndUWck5x1oinfI/KURhEKOI9EYkJGXKqFGj/HfaRnV1tT3xxBO2bds2f0/7IFJo165dTuQkcpiUMC1FAT/55JMuOjUsoh9yyCE2efJkGzBggL+na0FQJf/2mjVr/D1NkQxE3Z999tn+nq5n06ZNrg9IXRLmzDPPdFH7bUmrcyCDrTz33HP2i1/8wtlZtL3igq0yfj788ENns7RxZWWl/67oDnCCMMvm9ttvdymYli1b5mYbHH744Xb88cerP4QQ4iMC1/9HHnnEzR474YQT3KyyuOAwbykYg2cuIrCrnnjLap6cZ7Uvv2e1s9+z7OadLgo7Wda29HruGW7VZque9bZVP/RaU5kvLbTaVxdb3exFVvfm+5bdtNMSlaWW6hf/PHqKxroGq3n6Hat/d0WTYJ1rtPQhg63stAmWHjXYLJHwP9lNeMfPbqvy+miRVT38hlU/8rrVvLDA6l55z2vf96zm5YVWv3iN5by6Fg3u6z0z6/44LvR19fMLrOaZd6xu7rI2b+kxB1uyNN39NuGTq6pzDp/qx9/07OINq336XWcnjGe2+oWrLFfbYMm+5XnHNTNWecYTQsRHkeqi91Lj/Si8usQa8bjvrGnaauotdfgwS5RpWpLYv0FQRzAn+jSazkSI9sJDM6lefvnLX7rUR4Wi+EkbwoM56ZDYEGlJUZQPHEmkHHnooYcUsd7N0N5M+WfWAes5tDbTQAghhIhNNmcNy9bbrjtesJ23PGW1s962ujc/sLq5TRvvNda1zTGf3bLbqh56zXb+4lGreexNq5v3oRPsMx9udFvD0nVW99ZyJ/jtnPm4VT38uouo7c3Uf7DOGry6I7g6EmbpI0da0Zgh3SueNprldlZb1RNzbftP/mxV9862uteWWMPitZZZtsEyKzZZwwfevcJ7a5y4XuX16/b/edjqlqz1CxCtgUMI4bn2hQXt2hp317p+6na8+//6JWts1++ftZ23PWO1zy2w+vmr3Bh2Y2/5Bs9OPLt4dbFV3fmiN95nWa03xhvbnglaCBFBOdVF7ySX834ANlnVjx50YnpAon+5Vf79VZYarTyyIh6dmVP9b/7mb1ykUBgiRX/4wx/6r5qzdetWFyH/9ttvu0jvfBHDQ4cOte9973tu0c98kdbz5s1zqWPCEUZDhgyxQw89tNuiVIlW/uCDD1w9AohkoB7HHHOMv6froR70YzTtBW1HXRRZ0dRG3/3ud53d5INFSC+55BInomM/9CNgm/Tvyy+/7NLF8BsfjWpDiP/a177mcvprAdPugZkGzDh46aWX/D1NsC7DF77wBXf9EEIIceDTqTnVvcd/UoW4yNV3P7Tsum2Wq6p1+8OUTjnSKq8/04qGD/T3tAxpJhDJEXpz26taFxeTCUsN7mslp0+wPp88zRJFvfA+zmuTXXe/ZDVPvmU5/5mU6P3KT59ppaeOt0Sqm2IUs96zsddnux+Y41LR5Lbt3qe/8pJOWdHYIdb3SxdY8TjdM7RGbleNbf/lE1b/6mJ/T9sY9KMvWnr0Qc62uw1vjBMlX/34XDdDgfS5rZEoSVvRoQdb+UWTrcyz48A5pJzqQrQdpX8RvZJGpi699J5l3vnQ3+PBTcExh1jpucd27w+V2K/p6vQviIt/+7d/a8OGDdtnGzlypBO/J06c6FK2sOBnba330BKCVA4J70YGcTqfUMlD0+jRo91GGWwHH3ywiyrme90BC6oiqIbrwHbQQQftEWW7A+oxYsSIferRt29fCeoePDQ/+OCD9thjj+WNUMf+v/SlL7lp47Qj6YP69+/vNuwMmz3ssMNc+yLmkvIlLKwzBrDXCRMm2MCB8R6wRcfAucH1ixzqYY444gilfxFCiI8QnZX+hbzmpGUhipzc4Nn125oisPPos0UjB1vxsYdYsk/rjvTsll1uIc+a595tFhDFM1uyX7mlRg6yREWpGXmds/49infMxup6l2YmUV5ixYf2PtE3s3qL1T4/3zIrN+9po+JJ46x06pGWGtB9v8G53TVW89Iiq3nmbWskL32e/spLrtFy26stt3WXc5IkuvG+fX+E9D61b35gWa/f20P5BZMs1a+iW2cwIKRXM55JT1QbmtFYXGSpg/pZ6uD+ZqnEntRFDm8MklKXdDFJ7zNF3gZK/yJE25GoLnof3GB5P/y1973i3ZTtFSC52Sq9+hRLjZCYI+LT1aI6+dA/85nP+K+aw00J7yNactyKigoXtR5N4UCucCLoESqjIjVlsBHFHmx8prsEdeBY0TrwOo6gzoNcEOnOtnDhQpejmyh+NqBd4pCvHmxtbQvqg2j8/vvvO0cHueIRLykbZ0VnOgo4fyLAOQ4b544t4SBoKZd+e+C8WMiSBUmjnHXWWfbFL37Rxo0bV9Ahw3kj0g4fPtzZ4nvvvbdPaiL6jDKw5/ZEsjB+sAPKZuFenEzUh/ZoD0TeUaclS5a4MulTXnOPgl3Rp50BDgbS6nAM2hcxoyXHFmN8w4YNe+yevud82YdjgrbjnFuz3c4W1WlvZu/QTrQZIg3ng0OGc+qs9kK84bwXLFjgzpv26NevX6eOLSGE+CjRGaJ63bzlVvXga1Y3Z4ll1m51aTVbEmfjiuqIdXXvrrCqP8+xxu3V/l7vvqJvuZWefaxVfuJUK5t6pJWccJiljxjhFi7Nbdq7WD+iPpHXJceNtWRF/lR0PUUN+ajfeL8prYdHwqtf+TnHWsmxY7ovSh249881ulQ6uR1eG3u3D8nKUis+8TAr/9jxTXWacqQTUHObdzb1bYDX97ltVVZ02DArGto96zHtr+QT1ROlaTcWkv0rWt3KTj/aGy/e/X0bn03aS9azhZqn5lnda0v3CureoYsOHWLll55oFRdPttJTjrDSyeMsNbifZbfu9mzZd3rhcNlZ49lxytLjR7jc+9yndda9oBAfFZT+RfQ6WJm6fvZiq7ntub2RDN5NS+qwoVb5d1daoo2L5YiPNl2d/gWhiIecOCB6/tM//ZNLzRFOYYKw9hd/8Rd26aWX7iOS/frXv7alS5c2izwmqh0HAZHFCMJEJ0frRTTx+eef36oTgXYhsjnsLEDspZ2oDyCK8RlEuADEbOpxww03+Huag3j3zjvvuLQVCMkIiQhrpBnhfBEkuWkjOp/Iex4QWfS0pYdEhEXao6YmFAHlcd1119lxxx3XojBLeyPwvfLKK07sQ0ikLtSJG0i+iwhLe51yyilOsKRvW4J+xNGCUyQAwfmiiy5ysxTok2eeecYJsfR9kP6HcyYynBkMiN18tqMgLr/wwgt24403NrMVwKmD2I4QG1fUpL8YN+RSjwrrH/vYx9z0cyLaA7Cf++67z51rADby8Y9/3KZMmeKcGNQPmwhEb+wAW2PGAwvvnn766bHTmWBfCNXPP/+8E4gRvWlf7k8ChwUpgehH0tVwjELwPcbQnDlz/D1NDgbskVQ5Tz/9tFsklH7ms9gubUq5vB92jnCdoE6cJ3/jQMH22CiTNglsjYV+KYPFiqN2T7uTiodjYvdRZx7nxmwD6gLnnnuuq0s+ODbXQWwfpxZl0n7YPu1FGdgkZTKOGPut9QPn9m//9m/+qyYo41vf+pYr9/e//707FudPP/Medv7Zz37WzS6Ja4dCCCGa6Iz0L7XvePdjd7/kcm7vgRQswwdackBlUxqYzXvF7rjpXxpWb7bd98x2i5AGIr0T1M882iouPcGleHEiI4FT9d69oHd88rhn3l/X9GEPxOqKq0+1yitP9vf0PCwGuuvWp632Ne/+N9OUPqf4uEOs8pNnWPGRI9zr7gShvPbVJbbrzhcsOaiPVVxygqUPHWrJfhWWKG5KIUnO9fpFq23nzU/ucQQ4vN/dsksmW78vnOfvEPnYJ/2LNz6KRh1k/b56UdPrVigafZAlSrpvYdjaVxbb7j+94nKmB5Dup/ziE6z0pMMtWVnmRHbnWEGAf3GhVT36xl6nlvde+rBhVvHJ06100qHu2UzpX4RoG4pUF70OFiatfegNa9yw13GDkF5y/nFWNL77b2DE/g1iZk9FqkdBvKIcxFiEpzCIagjL0ajtO+64w1577TUnbCOMsSG8I8iSvgNx6rnnnrPZs2c74TL4TBBRjIBVCMRp8mcjKCJ8B98FIqFIBQK0HeeO6Bh8hn2kXUF4jBIIrPfcc487V0RBorXZT3+wUT/2sfgi5SGMsnFMys0HDoRbb73VidVBPdhOPPFEJ1AiWOaD71EXzhNb4PsIi9QHBzECe1AX2jmIXkc4zTd7IIDIZcRWxPqgLgimtDkOiD/84Q+u72hbyudYbAiStN/y5ctt7dq1rh87mhubB+Z7773X1T0KzhUE10Ltkw/OA5tkLQD6Kww2fNJJJzWrM59hIdNXX311T1twjjheOOc777zT2SkODdqeNmejLWhr+oTP48jAydJSBDffZ4Hfu+66yzmFAvsK2hfb2rhxo6sD5XJMxgwidD4QyulHHCBB3akTTgPO9ZZbbnECcXAMyqeuOLVwBtBWgD385je/cWMK5wJ9y2c5T9qH72JznDPvUW8+R9/RlmFhHWEeMZ8xjQAeBadHMHbYsDmuH9F243icF+2PSI9d8j3qFW4vIugph7ZiHGLzXCsL2T7l/vjHP95zfDb6BVujvTgmbRj0M+/x+vLLL3f23lL/CiGE2Bd+zzoaqZ4sK7HM8o2WWbXJRakidpeefrSVX3KCpQb2sezqzU250H1iRap7ZWdIP/H4m3sjZVNJKxp3sPW57vSmyOjgmu/9R970VP9yS5YWW/3cD1w9HN7/iMZlZx7dvRHgLVD31jK3sKPLXw7plFe/Y6xk8rg9InZ34tpuYKVzgpROGW8lxxzitWWToE6bsSXLS1xaGvLbZ1fuDfqARLl3b+fVXxRmn0h1z3ZTQ/tb5bWnWWpQn1a3RFH32W7OGy81zy9waZyCQESi6svO8Mb0ORMt2dcX1N0bCe+9YmcvpAPKLF/vv9F0zqm+5W72Bfd9ilQXom0oVEj0Klhxm5x12ff3Xujdj8CAckufOM7fIcT+S1iEC8PDUj7xrDUCgR0hMgyiH2USwVsIhDAEtPBxEbsQqI899lh/T9tApEPwfOCBB1zZiH+tgZOWuiAk/vznP3dldBbUASEewXfRokWu7GgkdxhEVERwBE2+h6gcdYC0BOdLRDaCOtHKCIo8yEZBSEVoROikrfi7IxCBhqibDxwfbRHUA4488kgn9ka/iyhMfYPI+5Z46623nNiP2M73mi2U5kNbIPTSbnfffXfBRVYB8ffPf/6zKxNBOpr3PQz9xjigjX/3u9+5/+NCmXz3t7/9rRO2ozbD+yyQG0Tz8JnbbrvNHYNziWMzzABA5A7aJzojoKNQD2wLW8T5QJ+1VC/6k3OmLrfffrv7Ln0TF8pmnNGP+c6FtELMGJCgLoQQPQNpKdKHD3PRzaVnTLA+nz/HRYaXHHtIU37wAo7UliCyt+HDjZbbsXcWISJ88TGHFEw1kihOu4he0mXsIZuz7IbtbgHV3gApaRrmr7Dsxr33pEWjBlt63NCeS1Hj/XzStqUnHGbFRwwvKOyzP31o8+cCYDa4OHDIrNtqmbVbmtZE8Elho+NHFnSEMeaKWN+gdO+zKAubZtZsbeZQE0LER6K66FU0VtVa5s1lZqFFNphCVTRxjCUHakE2sf+DsER0UVRYQixE3C4kELYEUUtElYbLRCBDdCQ6tBBEpYbTdQBRpKQJIRVEW0GAI/qaiHAE1ACiHljolIjy8847z6WqIM1ENCqf80fQQzRtTztEoU2J0CUFDdG4LYnpURAFEYQReRGr49aHSHeEVdqB9qCviZDG6ZFvOiWzBYh0J6K9I+CYQBCNwkwKxPFCEcctQcoO7CpIMRLAedG20TQ8URDQX3/9dbeOQPDZIAI+n8iPQ4KZBMyKoB2jEO3NjAwi9Th+uE+IqmFmAdHl0bQ9jAXamL6kX+JA2fQ/Tpl8fY84TBQ+fYpdMTOD84zO4uN86f+xY8e6MZDvvBG/OS/+7yyCCPWHH37YOazyOTMKQXtx3oxD0j7FtX1E9SeffNI5pvJBeh9sSgghRA/h3SeSt7zPZ8+xymtOdTnOU0P6uQjo9kJO54YVm/jh9Pc0CXfFE0Z5f+zrRCWAqv79dVb14BzL7W7+m0nEbMOyfe9leoKGZevdeTXW+UK0dyrFR41ywjrt2GN4bcqzcSJP2zYjz293okQpVA8ksmu2ukV+w6RHHeTbqL8jBA4w0gcx+8IaQkET5FbfUWWZDc1nYwsh4iFRXfQecjkjv1fDOx/6O5pgpfiSU8f37A2MEJ0EIhvpTaIiJ2IcQm5bhN8AookRwqNiYrAwZr4yiaBGOItGSCNKEqXenshm6k+UcVjc5XzJa/0P//AP9tWvftW+8IUvuAUzv/a1r9k3vvENO/TQQ/1PNoGgR7RrSxH2ceCcEV8Rq6NRs4j55LImN+n3vvc9+9u//Vu77LLLXDuGHRP0CUIpeUzzibz5QBhG0OzTp49zIJCHnzzTbORBDVLqhEHwR8CNK15G4Vw5ZlTQBcTfqPOiLeAMiIrqQJ1bm1lBvRDCEVlxJn3iE5+wb3/7267NaZdzzjlnn1Q/gbBOqqGw3dI2zLxA5CW1SwD9Rb9df/319p3vfMf15d/93d/Z1Vdf3Wx9AgRfZioQfR23nQNHDMcg7zn1Pfnkk13fkv4GEZ/3qBfOg6iTgdz83/zmN119OF/q95d/+Zd2+OGH7zO1lrHI8QI4HmsakE6FNDNRmE1COivOkw2BP7BdBPR3333XOSdwPoShL1lvgXH43e9+1/UHbYfjJWz7lEF6GmadkPomDrQr50A5XItOO+0012bYPNcT1g9oj3NHCCFE50HKl+LxI6xoxKBOSWFC3u7sptAMQ++nhCjZ9Oh91zLJVdVazYsLbNftz1odi39GI6ezOcuEFojsMXIs6vqhyzEf5Ih37Xb4cJd7vtfj1T8bWgjW4fVL0cH9/RfdA5HUNS8ttKrH32r3xuK6uaoeTjucyVl2Z7Xb8jkreorsll3WSJ0CipLOSeZmnYTx6sy4qnr4dat64BVrWLrWGr1zCsPYjAr0Qoh46OlG9BoavR/MhndXNFs13rybvdRhwyw1Mt5iPELsDyByhgWsAMTHtkSUBiBYEa0eXfASgQuxDsE1CmI774XTOyC4IXIj+rUHREXSYIRFS0R1BEIWqxw/fryL2GUjdQYR6+SjR1jFKUAk6zXXXONEwo4ukkMUPlHv0VQyROJfe+21TlS84oor3KKbF198sVtw9XOf+5yrR7hvEI5Z4JFULnFSegCiK6I95XGOROgjsJJPGqE06vxADEcobk2kbolCTgjOtyPQN/kcLNhq3NQgOGoQ1D/1qU+59qBtEIRpHxwPtFcYHD3MDghHbtOPODiw2TCI/ldddZUr/9RTT3V5ZimfPmZ/WLzGPhHssf24YAuf/vSn7etf/7pzBrE4HMI9thM4G6gbEf04DrB3vkOOc2z5ggsucAI84xMbwNYQmsnVH4Z87eEIb0RyxgH2ki8XPOslXHnlla5ubMz8CKDdcCYxFsNw3WGM4dyibAR7+oG24tzOPPPMZrZP/wY5fONel/g+bUEbffnLX3bl4jz7q7/6K+cIkKguhBA9DBHOoWt9R0EY35Nz3IOod0T1ZMXeRbydWL5mi+2+d7ZVPTDHGhataZayIqAxl7Pclo4FVXQGiMENH6yz3O69zvL0kSMtdchBvSbfe0G8W/BcTZ3VL1zp7/Dx+rz46L0LzHcHCLk1z75r1X+e0+4N5wuCb4/hPdNk12+znT9/zG3b//sh2/7jh2zXbc/Y7odet7p3PnS5zXsCBHX0kwACEZP9yi2R3nvvyzjDMbHr7pes5pl3XJ9EBXWH97nGnS3PQBVC5EdPN6J3wA0A0wff+MD9eAWwQGnR1CPcwjBCHCggGIfFqwCitNsbrYwYjGgVjipGCCNanYjTMOxHnIwKlET8IoCHI3zbAnWPCs8Ixgik5EsPRxgDdUXkI4r9L/7iL1wk93XXXeeixklb0hFIwULEfFgMpM0DER3HAWIuoivHwiGB4Mv70chgUtlwDtGo30LQD4jFOCgQWYFjE9mMWBqNVqfdgpkK7YHvFxLkObd8thYXbDWfEEo/hyPJC8H5I3LTHrRrINDT97TDRRddtE/+fvqMmQE4RgJoeyKmGSMB1I0yEIZJrRKcJ8dAiCaXPOMigHbCwUSe/LgQwY1gj2hNf+IYolz2B4I9TiKcNESlE43OLAxec17h8QikvuG7UUcC54UNBG3K+zgMmGmQbyyQRoUUTbQpW7g8hHCcQGGnB31I3RH6mTmCqE/7sXEMhH+cPuH2AoR+bJ8y40B5ODOISmeM0WY4FBhz0bYQQgix/0PKlmaiZ1HKiXtB6hdE99q3l9uu25+3mufmW3btVn6Qncjrnu/CtygsVtqTAqoPQqmrp1cfSFSUuHQ2RUOaB0X0Rhq9+7Pa15d69Q8F1HhtnTqob7eL6gi6RFOTl769G/qAd2Pol9gDoFHsrnXiPlvt7EVW+/JCq376Hat+5A3bfccLtvNXT1rN7PfcWOguGjNZt7Av/wcky4qb5Uqn7aufecc5s1gUOLetyp0PCwkzTsOQlglnjBCi7UhUF70CbrgyS9dZLnwDUJS05PABlj6qefStEPs77RXOWwJRDcE2umApwmSQ3zsAcRtBndQcAQiSCGDtXaAUENQQjsMEaTdY8PHHP/6x/exnP3N5noNFPImeRYBjAVcEPYR9RP2OCMEIlJQfjd5GaCWamWPkE4o5LtG6CLXh4yN0IiqSm7o1+B7HiabTCKCf8qXz4BhhwbitFGovBOqO2Bv1yvf9uP2DswKbGjRo39lGlEHENXYbzbVN5Ha4vXkdFXaxHWwWQT0K/RvkPQ8TOHnigj1QTvh8Ee2x9WAfAjUpVZiNgVOGKHacRQjoYUhtg5Mrn23SxozROI6KlsC5ghMtupYCMxYYYwjr+WwfwZv3ON8w1ItxyiyB1qA9mNmAAyWa3ka51IUQ4gDE+41wUa8NIdEzlbRESdq950S9p+bZ7rtfsrq3llnjLj8StihlRWOHWMVlJ+8r7nWjMJmP7I4qq1+4yrKh6PuiccOsaMyQpvPqxTRmc27R2Oon3jILia30Sem5Ey0VXhhWtB/vtpjFPXObd1rD0nVOaN9932wnsuebgdEleGMOIdyJ5AE4qbzxhB3UL13rZoVQJ5fuxV+vLlFZaiUnHmalJ0UCfLjfD49jIURsJKqLXkFuZ43Vv/F+sxsAPK3pE8b13ArrQnQRCHv5hMqwUNceiKYl7US4DMS7pUuXNouyRmhnX1jAQwwnshTBub0gSpPWhfMIg1iMiP/iiy+6xQ//8Ic/2C9/+Uv77//+b/v5z39ujz/+uBMCOyL+hiGynC2angTRHqdDVPALw/mTviIqiJJSI7z4aiECx0I0EjmA9xGDo3Du7RVU6e9Ckf0dzU1fKCURImxL7RhAWxJRXciuqTdOhqgwTr0R0oF2wQEUbX/EYVK6kD883xa1ccDJQ1qUOG1NnSdOnNimMcln6V/6GZshKh4n0q9//Wv7r//6L2fvLOaJUB0FG+joGKCdGOtcY8LQBzh6omMzDDbLTJWofSLU05atQX/gRImmthFCCHGAwk8Wv6eRn65G776BxUh33/uyVT821zLvr9/zjJcoL7aSKUdYn+vPstJTj7REKvIb60eH9xT1C1c35XUPBMailJUcc4gVDetYOr0uhzzqG3fY7vtfteyqUF76ZMKKjxpp5Wc1DzLoDtJjDraKK062ys+e3e6t9MyjLdmn+T15l+Ldy6QG9bHUiIHNtuSQfi6tUTi1yh6yOcuu2GRVj8+1WtYK6AZxGhHcu2n0X/l496C56jqrfXWxi06veXGhZdd795uMKW+YpTwbLr9gklVePdXShw/3v+RDUT079ITYb5GoLnqcxoaMZb2bl9zSvflzuQFIDqy04hPG+TuEOHBAMMwn6iFqxREqC4E4iXAcjhZHpAsWLAUEMgTu6MKb5L1GEM+XPzsuCKREBpPuI58QSV0QaTk2ka/PPvusWzjy9ttvt//93/+1W2+9NZZ41xqIr/mivmmfqFgehfZH4I2mwEGsJD1La6In6U6Iyi0kxFJ+IWGzvYIqx4rOEAhAYG2vWA+0Zb5c8rRPSwJtADbdWpvzmeiCpfQftkLdOT5tH60H+8ib/6tf/Srvdtttt7nc4mEoj/FH1HgcyJMeV1TH+bBkyRK7//777ac//amblXHzzTc7J9Kf/vQne+qpp5zITlqifG3KceIeqxC0SXgGSgBtjLDeEtgm/RCdVUBd4ziUqHt0powQQogDGO8nK+FytPuvwXuua1i8xnbf9ZLVvrTICb0Onu0O7m/ll59slVdNsZLjxrjI733yO/dgys/GuozVv7PcRSAHFI0aZOlxQy1Z2bG0hF2Kd/9IZH3Vg3Os/u3l7rXD+11ODe1vFVdNdUJxd4OIW3baUVZ+4aR2b9hJdwbYJUqKrPyso63P585ttvX9wnnW90vnW9/pF1rFJ0+3tFcvl0YlBOsBVD36ZrfkgE8kvGNH7hmZCVL70gKreuBVa3jnQ2v01wRgQeLiY0ZbxdVTXZsWsYhwZNYi47jXrxcgRC9FI0f0OI27ai0zb7mbRhWQKE1b6uhRlhzc/TcAQnQliHn5RHWiQxEq86VmiAuCOJG1RAeHCfJTE9VLWgj+Di+KiBBMGo72LlAaEIhqLHxIGozWUj4EIjuCPznQ7733XhfB/txzz/mfaB+FZgIg7sZxGuAcCHKhBxD1jtDbmvAdpAYpBG3UkT7OB2Wy+GnUEQDY2tq1a1utdz74DilYsJsoOB7ipPSgLVpzFPGZaHtzbERqtqDto7AP237rrbfybqRZiTqPIBDW4xAV+wtBVP2dd97pItLvuOMOF53+wgsvuIh56hAe80T557OBjgrqQFvlE+xp4zj9RV9FnSDUO84iutQ/bnsJIYQ4AOB3i9/4UAqXxnrvd3vlJqtH1PMXcESoJJ93n0+dYeXnH2/pQ5qcvC5VRjZ0P+yVlyjvuRnKDcvXW+bDjS4tqcM7vWKi1EcMbDrX3oh3v5TbXmVVf37Name/590c+VHSXn0R0is/carX9s2fC7oLRFocJ8nS4nZvCMLd2fYstJs+dKiVnjCu+Xby4VZ6+lFWds6xVnHJCdbnk6db2XkTnbMoTOaD9dawarNLwdKlpFNeXZvfSzLzv2HR6iYb9qPlk/0rvHpPcHZQNuVIZxMuH3s0TY133ugvQoi2I1Fd9CzeD05u4w7LvLvC3+Hh/TYl+pZZ8ZQjuvVHVIjuAAE5mpoByMONmNtRYY1IdfJMhxcFRBQlrzrpKBDUo7mpgwVKO0MQQxwlN/NnP/tZ+/KXv+zypRMhHue8iLCdM2eO/e53v3P1bI8QDAjb+Y6HOBinTD4XCKABiKBsrZ0H73e2aB4H2p1+j8J5EK2dL4VLa+CAQZCPirTYKTYTR6RF5G3t2PRJtL0haMvOblOOl28MRskn9ueD6HAEdZxC2C9tFnYCMIuA8cVCuDfccINbyJM87VE4z9bsqzVop3xOjEJtHIXP5euv1hwjQN1bm5UghBDiwIJ0GMmykBDOfRbR537KCUS9srOPtcprT7NSRD0/rzcR6jnyloduy4iWTQ7ooYAqr751cz9oiqz365Qa1NeKjxjhzqFXwm/2tirb/dDrVvPC/L0Bat7vcWpgpVVcNcW1uSKQOxdmLRQfOcKltkke1M/Z+R4yWcuu3OT+70qcoI4IHhbWEfIZe9hvKuHWLSi/9ERXz+KjRlmirOmeFmdXzo9iD8D5keij9W+EaA+6wooeJVdV5zyquS17F4PBI50ae7ClRu+7+JwQ+zukf8gXdUu+Y8TKjkKaBxZNjKZhQEgnNQWiPuJ6AEIYUep8p7NAjETgvfLKK+3zn/+8ffWrX7UvfelLdv755ztxkajqQiDqkQKGPOv83R5wDuQTAbdt25a37aMg7kejs+mbltK6BMQRRlt7vz1wvscff7z/qjmkHSFSuq3t+dJLL7kI7Oj3SBVEipA4QivHzRfpHoYo6OhncIwEEd3YU76xweKbF154oX3jG99o04Ytxsn7zXHj9BVrBdDGpEgJhGu+Rzql66+/3mbMmOEcTJ/73OfsU5/6lJ122ml5HVidYReBnUahfXfs8KfgtwDjg3EShr4olF4oCm0mhBDiowNrYCX67etQdRG/Y4ZYxZWnWPllJ1nxhFHN8lGT/rNh7Vb/lU8qaUXD4v3edDaZ9dvcopO5YDFVj/T4kS79C+fS60BQ37rbqh5+3Wqee9fN/HZ49xKpg/pa+VVTXT7ynlxctWHZetv9p1ds5y2z2r3VPPuu5XbunV3bmygaOsCKmHURuX9jsdsuXxvAO2ay0nsuCTu0fJjtUTJ5nEv3UnbuRCsaOciNrQAEdWwnDGsd9ESKICEOBCSqi57D+61p9C7oDXOXuRuDPVSUWvrkw70br/bndhaiN4JYNXv27H2iZBEnJ0+enHcBy/Zw7LHH2tixY5uJdETPkn+afOrh4yNwk/aFaPLOBoGPyHkidK+77jonKiIuIjJOmzbNLrjgAjvssMP2ERMRcYmubq+oThRwPgGcaP3W0n6Qjoac10QfhyHdSVxhsSfAhhBr80VW0+ePPvpo3rQghcABg1icT4hlQdzowqKFwIGzdWvkoTkEfcy4iH6GiGdskz5E1CW1TTQKGvtCuCbdUFu2yy67rEXHTkAcpwFR3Sw8SjuF7RUnGTaPqH7xxRfbKaec4mwdG0J4LxSZH7XZlsg3PnCq4WyIQhvnS4UThusCth9dRBXnBjNpWoO6x2kzIYQQBw6JihJLDWn+m0q6l/RRI63imtObRL08i3ySfqJhyVr/VRNB6o2eoG7ecsuu37ZHDEWYJA91anDr9wvdjvf7n92y26oeebNJUN/pOwKS3u/wwf1chHrZWUdb0o9M7ikya7dazQsLrPqxN9u91c1d1i05ytuLy/ceuXeLfyfXRHZ7ldUvXWf1H6x3KVziCvLJQX0s2bd5IIVL93LaUS6PfukJh1kqj8Mrt3WXZdc1v+9OeeXgJBBCtB2J6qLHIF9dZtkGy7HCeoB3M5UcPsCKxo/0dwhxYIDoxmKFRIxH0ysQ1Y34HE7Z0hHyLVhKpCp5pt977z1/TxOHHHKIix6Pk+aiJRAJifBGwH3jjTds1qxZdtddd7m0GAiriNwI/YiLl156qX360592IjuR7IiNUYj6ba+ojgCLCBg9J1LKEAXfUuT0woULnfgejWgnT31XOB46CyK6ad9Jkyb5e/ZCChYWhH3sscdi5camjeg7+pLvhkFM5xhxHQykkKE9wzn8wzAuVq5cuY94T/mkmAHE2vDrABwkzLyI1jGA91kMF9Ebm6QeCMZx7SpOyhnKo/5Rh8UJJ5zgHGXUO1oO55rPwZFPUC8ksnMO+c4D22eWSjS//saNG11+92g7h2HM4XiLtifODBx1cYjTZkIIIQ4ckv3KLT0y4mj3fgtSB/WzkhMOzbvIJPmms5t2ugVN9+BSv1TsybfeneR2VFv9/JVO3AxIjzvYRdonelueaSeo77KqxxDU32kuqA8bYJVXTbWyM3teUP8ogB1nEKcj92PJgX1cf7SK9/26Nz+wqntm2+67X7Tdd71ou7yt7t0VlvPXI2gJnFUpjhXCLUp6xHArPnxYUz76CI01dZZZudmy6/bOSsTGU0P6W2rAvmszCSFaR08/osdgUZWGt5aZ+QtpANEOrKad7NOLV1gXIgTCFuJdvg3BbcWKFfb888/bb3/7W3vooYfyprkghQXpNNoSpdoSlIkIhmAeBtEsHBFMqobOWKAUEOIQrW+55Ra79dZbXV70P/zhD3b33Xe7BRvDcJ6I7GPGjLGpU6e6/6PESbVSCIQ9hN9oig1E/yeeeMKJi/lyauPw4H3E1zBERBN5PHJk73b2Uc9rrrkm74KlRCCzgObtt9/uHAf5zh/7ePrpp13fkfqFRXXD0K5Ew2MvcZ0wjANmZ8yfP38fIZnX8+bNc1v0PYRhnAQBzD6I2ilCPU4i+jMK9kh/ci5s2CS2yYbQ3llQh3yiPhHb+ewXp8aCBQv2iQYHHFNRoZwy8gnVtFeh4+IACrcdUE+capx7dBYGcF3gvddff93f0wTXCMrrzPRQQgghDhySfcqtCPG5cu+zW2N9xkXCIt7lo3FXjdW+vNBFzAYwQ5lFQclX3d3ULVplmTVeXYNn0qKUFU8ca6mDe9kMRQT1zQjqc11alD2COmlzRg52gnrpGRN6NOVLMwiWKy9xfdrezTk1Er1QsvL6onbOEsuu8uwmHFlenLKisQe7c2+N+qVrrerRN7y+fMfq31pu9XOXWc3Tb9vuB151i402W8Q3D0UjBrno8nBaJVLlNKzYtE96F4dX54blG63u7eV7FhGG5OC+VnT4cO+mT7MNhWgPEtVFj+ButlZvseySdf4eDyIUBvWx9OR9F9sToreCSParX/0q7/brX//aiXi33XabPfjgg3mjr4loPfXUUzt9gT8ESATzlqLfifxlUdE4qTBaA+EPUXDRokX29ttvO0EToY4NofaVV17ZJ0qaaHBEUaKNoyDidcTJcPLJJzunQjTHM3Ujeh4HxzvvvOOijEl1Qk5sBGcWmoyKjkTyk6+8MxZy7UroA+rJTIB8aThWr15t99xzj/3mN7+xm2++2f395z//2dkmwjP7sNV8gjqQauVjH/tY7NQvAYj49913n7MDnEzkaed/ZjNwfJwxYUiDhO2Suz0AUX3ixIkuvUkA9kY5LBBKuqCgztjV4sWLXdlE22Nf9Ptzzz3n6hDNGd4RqGu+tmbtBJwzYWcBYwGnTT4bAz4bncWC/eYrH7udO3euE+hxWnC+wbUFQR07wMkShlkD999/v3N0IZ5TP8Yp38fh8sgjjzRzugGpZEjfFHdmghBCiN6Li6xdvdlFwka3hpUbmwltkN1ZbfVL1jT7XP2ClZYJR7mmUy5nM9Gxe/CO07Bqs1U9/qY1IA4GoqP3P1HWNc/Nt9rZi70KNe32bvgsQdqKM7rfgcszaf1byywXEiGLRg609GHDnKjbawgE9ccDQX3vDEAWrUySusO7DyTyufaVxfm3Vxdb/Xur/W91Pcw6KL/kBKv81Bnt3khlEk1x0mV49pirrW8SpbdXucV0o7i0RSs2WvUTb1nVA69aY3XzMVN89GhLDxsYa3FY+qTh/fXOBvfgHbNh4Sqrn79in8VEo5BTPe2Nu3D6pcbaBrfgbs3LC91YC8ZYY0PW6r1jVXu2E067xPiln0omjPL3CCHaSurGG2/8vv93m8gX5SZEXBq37bb6FxdZNnxRLy+x9InjrHjKEe7mSojOgOhkUj8QqUtEOFGX7YFITwSxqCCHCIYwnG9D6EK4QkSMimWA8E0KFP4nujwfpK4gH3pYjEcsJrVEvtzJAYjppHpANCuU8gFBn7zmLZUDOAMQCRHlAhD6iDA/++yz3WsEXQRAjhUW+BA+icpF0CUNDHmdEVERWhHan3nmGRfFHD4/otTJvY6oGhbWN23a5PogmprlzDPPdEJiuA2J1qZMjkW0dAD1oT0RY+kb6oF9EE1PPaJiJ2lkyMF90kkn7eOgoG2J/g23L3U/5phjnACcD2YqBI6HMAjVZ511VocdHLQB7RYI1+F2BYRb+oI6YKOcM3VBZGUf9k0bRSFF0Sc/+Uk3AyAq1gKCNuIsZUchopq+RwimThyT49HmODTCwjP9jRODNg/PYMC2ODfSmFBGAN9lH3bFsSkPsRkBnVQm4bIpg74hz3k4mp/6IXTz3TCcJ59tyblDmZw3YyTcbrQjdoFIzbWHaHrqhP1if/muB7QtqZCiswAYe1HHA3ZKudSZujP+cJDRRtSb/2lztuhYxG5xNDBOsV/qj1OCcwhDG2GTH//4x51dh2FM4cwIwzE5h0K2L4QQov1w7cb5yXWW+7e2BGNw/ee3AEGw5vn5TpStR7gLbZn311kOES4T+n2qyzgBHREu+FzD0rWW4J7vsL0p8ZIlaWvMNlrD+979qncMBwFUm3c6IZhyM2u2WP3itVaHuEuUOsfyYZHEsrOPsTKirL2yu5OGD9Zb7TPvuLo6vJ/80jOOttITxlmyvPeI6rmqOq/dFlnNY282E9Qd3Kd4/Uvf1C/y+qngttrlJy8lgK0bnrWTfcosPfogZyvt3ZoisbtpnTWvDbGDqjte9Gx5nWvPhoWrnWMJ8bv+nQ9dRHnta0tdX2TXNn8mTB7U1yo/eUbT4rYx7Ljqz695ZZA+xt8R4NWD3Ojpw4dbsm8L49zrQtIrkUrJleNHtjeyEKl3Hoyx7MYd1rByk9W/u8JqX1po9W9/aI3Vvo7nfZ8ZDmXnHWfF40c4m+B+Ml8whxCiMIpUF92Pd2OX8y7wmfkr/R0e3kWdlePTJx3mLuhCHMhww0J6ls985jMuorSj+cwLQWQxEb8cLwpR14j5w4eHIos6COI8josTTzyx2TERNhFSiRAnDU6wkR4G4TMsRiJSUgYPjB2JVOe7Z5xxhl1yySUuIj9cHx4sESQREomWZkFORMaos5jvURdmEoQjpHsznDf1xlmDwyQqhgYg6iL8btiwwW2I/VEBHmg37AhBnVQ9bV1Md+DAga7tsAEEgSA6nf+jkdzUHacXkdH50o2QfodzIhVPGOrOrAMi7wO7Ito+nGqJBwScUVdffbVLLdNZICQTvR9NuYNQj11Rl8DemRGA+M93EEOiDy04jaIzBPgcDpeoeMKsD3Lf45jCMYQ9B9+lz2ijyy+/3DkooraP2I8jBYcWKV+Ido86k+hnUv1cddVVrTrdhBBC7Cd491vZNVutYcHKfTZStUQj1Uklgdje7LMLVzeLVAcCo0qOPcRKpxzZLAd5465aq3ttie2+b7btvne2Vf1ptlU//bYTAQNIVVIyeZyVf+w4t1Bpt5JrtLo3ljYJ6v4tUHJgpRWPH2nJfm273+lqGqtrrX7xGtcn+5DJuhngpAxpdduwb/o5EdDoBGfSutQ8Nc+q7n/Vs9uXbfc93sb/2PBDr1md9354ZgOkhg6wistPtpJjRse2Y5e2pVDu9SLv3i3GcxBrF5ROHW/pw4d5L/z7Pc+WGefVT7/j1/tlq3pgjmfrH1jj7r2zhpN897QJVnLcmFjHEkLkZ++TlhDdRM67mDcsXmu5ICIAitOWGjPEUocc5O8Q4sAjEPYQelmgkwjrfFG/nUW+BUsDiAImsrWzFkcFxEIibYnuRdDOJzQSQU30LFGxYUEVEPovvvhi9/3OaBfEXFKhkGcckTbuuXIeiJIIitQnukBmbwdxmsjyL3zhC25B2CCCua0g5p533nl2ww032DnnnNOu9De0I7MZsPuwuBuFscFsA4RgxkU+8R6bwAl17bXX2nHHHeccMGFwzuAYidoVTiv6P3AMdDbUl/bB3qKOIBwXRNZj79g/ayfgGGDmQ/Qcg1ktYWgzoutpv2jZYZhJExbGEeE5Bv2PUyhu39EP2Dt2T3vhlBNCCCFaI3VQXyv/2PFWeupRlgin68g1WmNVnQuoym2rcq8d3k9aok+Z9/nxTowkIrm7yWzc7hZL5dk0oPioUS6dTbcL/K1Bs4WCUEQ30pB1Npwvx3mirNiKTxhnlVdPtbJzj21TPvs0zpvKfYNfEmVpKzp0aMtR6gHevWHxUSOt7MJJVnz0qOYL62aybhHe3KadXv09Gw+CZ1JJS40a5BxZpWcc5WYUCCHaj9K/iO7Fu5bn1m61uifessaQh5eogJILjrciieqik+ms9C9EhpKygghfxOI4GyIbUbFEgxMxesoppziREsGqpZQvYYJc0YhkQbkIXYiKraUKQZBDaETQo/7B9xHYEBcRvgtFMochZQRRsYh24TIQbqMiJedE/mtEQD6HoEkdSNmSL+UFwigiHikjiPhFyMYZkA/qQSoMygzqwUZELf2arz1pN+pJP9BefBdxk/qEI+QRLOkvhN0pU6Y4xwdiKedSCNJ4IIRSTlAXRFNEUITsfPDbichKKpTwORCF3dkR8fQRdsc5UC/6mkhl6hA+9zB8h74jvRC2ilMCQbo1J0eh9C9MU7/oootc/3Bsosc5fhAVT58NGTLEzUzgWKQbaSlnO44R7IONOmHj9GU0JRD9SbsGNko6Gfozn41gl6S+IY1MuE+Isr/yyitbFLOBdg3sD9uiLfg/gDrS/sxOwcavuOIK9xrnUth2ELTpL64XYQcEdkvZgXAedhrwOWwGe8PuwteEoK3oT/ZTz3xjkfOjLTku/Y7ozzUq3wLCAdSFBZjD7YXt0N+FbF8IIUT76ZT0L5msS2uR3bbbEhUl7dpcSo9xw6zk6L3rnjhYG6tvmROkk2Ul7nVjfdYaG7zfw0DMg1TSkoMqLX3kCCs77Sgn7JHTuSeoeXFhU/Sunw4DgbT8wslW7NWtt4nqjeT6Xr7BRarn65d4W6lb3LLsFKVazYtnpojPta8vbbLZPDnVnf32K7fUsIFOFC+beqSVnTvRSicd2uY0NcyGyO2qcQv2NtY13TeS9qXk5MOt7MwJVjS4b6x+wlaLhvRzUetW3FQHl6c9WHjXB8E/NWyAlRw7xsrOPtZKvboXDWoedMF9ZXQmpRCiZRLej2zoVy4ewfRhIdoK0wrrX1lsNbe/4HLtOfghOHqklX/1QnlKRaeDyDdz5kyXZ/mmm25qd6QqojSiISJ9XAJhjwcfhE3ycyNetSbShSG9A2JfIEICQhniGyJWa5D7GMEQATiAGyYi2IkijlMXom0D0TGAMhDhSPVSCARUckHzIEiKEdoOsZG25Pu0C2IfojoR7jgaWrqRox70QTQSmYdL6tLaTSC/WyxciRDOuSB+UkcES+qC0IkASbsg7LZWHjnmyUseztmOkBmcSz44d45PPuswzCagLbGXrgARNFi0k3OnLTj/QFyn3kROc97YKY4b+iWfCJ0P+vdHP/qRs9cwRJ4T6U7bYgekKsEWOTbQ/xyPFDO0fTT6vBDUG3ug/YNIcM4RwZgyEJA5Jk4S+rMl5wg2SXqi6IK5tAkOgbjjFTsgdzrtTCoXbIu6YFvBmKVduQZQd1Kw4CgK4DgI77RD1PYom3Ol/ThXyubzCOr0GUI251koPQ9tgyOHuuFgpP9xbgROwqAfuC7kO34U+o/FfcPwHepRyPaFEEK0H9KmzZgxw6ZNm2bTp093v3Fx4P6R3zmu926xwsVrmvIvt5dUsmlh0iNH+Dv2hec9Fiht+HCDy+vsIsG5j/V+J5JlxW5hxaIxQyw99mBL+CJgd4OYuePnj1rdvOV7xMf0MaOt7+fOtfShnZcmrrNwz9BL1lq2I+lbvNuZ5KA+VjpZs9Dy4tkotlrz0kIXmc4ipDiFcEYBonmyNO1S1iYH9W1a0Hb4QB6K3PvtweU7f3u51687vON7Q2RofyueNNaKhg2wRCv3Yvvg1T+7dbc1LNtg2TWbLbutqmmNA69cUs2gs6S8+mLfpKvJt5gq93Jx78WFEE1IVBfdCvm9au5+2TJvLvP3eEaIR/bSE6z04kn+HiE6j84S1UXH4HcDYQ9BHEGOGzYEwEIiYFdDPRC4w3VBRG2Lw2N/hvMm6jmIqEaERqBt7410a6I6gi1gB4i52AJtTbt3dE0BygzsirLpR4RrzqmnoC5snBuiOu3aGbaFKIKgzoZjCkGc820LlIHt0wc4JyiDtqI8IYQQvZPOENV7gsZszhpr6txCpgh7iWLv95B80T0Mi03u+v2zlg3yw3t1qvz0mVZ+7kQFeYkmGr1/9Q3OGeXSFaWLusYJlGu0XG29u0906WMK5VlvC9S9IWO5QFQvTlnSG3utlS1RXYi2oyco0W3wg8QiKtkl6/w9HkwVPKivpY8vPM1cCLH/EwioRGQjsJLyo6cEdeCGERGZaGweTNs6g2B/h7YnJQ59wUaqk+64iaaNaWuOxwKYHRXUgTIph/LoT/7vSUEdaF9sHHunbp1lWzzsIIIHKX3aKqgDZVA/ysAG+FuCuhBCiK6AaFjyRqeI7i0v6RWCOqkx6t5433Lb9y4OTlqM9OHDvbp23VpHYj8DIb0k7WwiWeE9J3TVrAr0EMZGmXdP3BmCOlB3r74potP7llmytBPLFkI0Q09Rotto9G5cMotWW+OuGn+Pd7H3fkCKDh/mpjoJIYQQQgghhBBdBSk3Gpatc3nKHQmzkuMPtaKDvefRj1CAhRBCiI4jUV10D7mcZddvt8yClf4ODzyoAystfeI43cAIIYQQQgghhOhSyJFdcsJhVn7BJCu/0NsumGylU8e7BSiFEEKItiBRXXQLLPqR/WC95ViEI4AVqEcPttSYnlnxXQghhBBCCCHER4eS8SOtz6fPtL5fucDfzrfiI4ZboqiNC0MKIYT4yCNRXXQ9jWa5jTus4Z0P3UIcAcn+FZaefGjX5ScTQgghhBBCCCGEEEKITkaiuuhyyFeXXbHJsh9u8vd4FKUsyYIw40f6O4QQQuyvsPglC2eOHDmy2caioUVFcpwKIYQQQgghhDiwkKguupzcrhrLrt/hItOTQ/q5LTXmICs69hBL9C3zPyWEEGJ/paKiws4++2y7/vrrm22nnHKKVVZW+p8SQgghhBBCCCEODBK5XCgfR0waGxttx45QbmwhWiC3vcoyS9Za465af49neBUlVnTYUEsO7uvvEaJrWL16tc2cOdPmzp1rN910k02dOtV/RwghhBBCiN7PrFmzbMaMGTZt2jSbPn26mx0Wl0wmY94zv/9KCCHyk0wmNcNUiDYiUV0IcUAjUV0IIYQQQuzPdERU59mdTQghWiKRSLhNCBEfpX8RQgghhBBCCCEOQBDJiEDVpk2btpY2CepCtB2J6kIIIYQQQgghhBBCCCFETCSqCyGEEEIIIYQQQgghhBAxkaguhBBCCCGEEEIIIYQQQsREoroQQgghhBBCCCGEEEIIEROJ6kIIIYQQQgghhBBCCCFETCSqCyGEEEIIIYQQQgghhBAxkaguhBBCCCGEEEIIIYQQQsREoroQQgghhBBCCCGEEEIIEROJ6kIIIYQQQgghhBBCCCFETCSqCyGEEEIIIYQQQgghhBAxkaguhBBCCCGEEEIIIYQQQsREoroQQgghhBBCCCGEEEIIEROJ6kIIIYQQQgghhBBCCCFETCSqCyGEEEIIIYQQQgghhBAxkaguhBBCCCGEEEIIIYQQQsREoroQQgghhBBCCCGEEEIIEROJ6kIIIYQQQgghhBBCCCFETCSqCyGEEEIIIYQQQgghhBAxkaguhBBCCCGEEEIIIYQQQsREoroQQgghhBBCCCGEEEIIEROJ6kIIIYQQQgghhBBCCCFETCSqCyGEEEIIIYQQQgghhBAxkaguhBBCCCGEEEIIIYQQQsREoroQQgghhBBCCCGEEEIIEROJ6kIIIYQQQgghhBBCCCFETFI33njj9/2/Y9PY2Gi1tbX+KyGE6L3s3LnT3njjDVu/fr2df/75NmrUKP8dIYQQQgghej/Lli2zhx9+2CZNmmSTJ0+28vJy/x0hhBBC9BSJXC7X6P8di2w2a/PmzbM5c+b4e4QQoveybds2e/bZZ23FihX2qU99ysaNG+e/I4QQQgghRO9n0aJFdtttt9mZZ57ptsrKSv8dIYQQQvQUbRbViVD/13/9V/vhD3/o7xFCiN4Ns2sgkUi4/4UQQgghhNif4H5W97JCCCFE76Fdkepz585VpLoQYr+ASPXnnnvORapfd911ilQXQgghhBD7FUSq/+53v7MzzjhDkepCCCFEL6HNojogrG/fvt1/JYQQvZfVq1fbL3/5S3vrrbfsP//zP23q1Kn+O0IIIYQQQvR+nn76afva175mX/ziF+0rX/mKDRo0yH9HCCGEED1Fu0R1pp7t2LHDfyWEEL0XRPWZM2e6GTY33XSTRHUhhBBCCLFfMWvWLJsxY4ZNmzbNpk+fLlFdCCGE6AUk/f+FEEIIIYQQQgghhBBCCNEKEtWFEEIIIYQQQgghhBBCiJhIVBdCCCGEEEIIIYQQQgghYiJRXQghhBBCCCGEEEIIIYSIiUR1IYQQQgghhBBCCCGEECImEtWFEEIIIYQQQgghhBBCiJhIVBdCCCGEEEIIIYQQQgghYiJRXQghhBBCCCGEEEIIIYSIiUR1IYQQQgghhBBCCCGEECImiVwu1+j/HZvGxkbbsWOH/0oIIXovq1evtpkzZ9rcuXPtpptusqlTp/rvCCGEEEII0fuZNWuWzZgxw6ZNm2bTp0+3QYMG+e+0Tjabdc/vQogDg1QqZYlEwn8lhOhJFKkuhBBCCCGEEEIcYCCm53I5J6xr06btwNgY00KI3oFEdSGEEEIIIYQQ4gAFcV2bNm37/yaE6F1IVBdCCCGEEEIIIYQQQgghYiJRXQghhBBCCCGEEEIIIYSIiUR1IYQQQgghhBBCCCGEECImEtWFEEIIIYQQQgghhBBCiJhIVBdCCCGEEEIIIYQQQgghYiJRXQghhBBCCCGEEEIIIYSIiUR1IYQQQoj9hLq6OtuwYYMtXrzY3nrrLXv99dft3XfftdWrV1t1dbX/KSGEEEIIIYQQXUkil8s1+n/HprGx0Xbs2OG/EkKI3gtC08yZM23u3Ll200032dSpU/132sbu3bvt3nvvtbVr1/p7OkZlZaV94QtfsL59+/p7zN577z2bNWuW7dy509/TxNVXX22HH364pVIpf49oD88995wTIWtqavw9rVNaWur6asCAATZ69Gg77LDDbODAgZZIJPxPtAzC5+OPP25VVVX+HrM+ffrYySefbKeccoq/p+uZPXu2vfjii5bNZv09TXz961+3fv36+a+6Fto96IMwtOmZZ55pQ4cO9feIKNu2bbOFCxc68XzVqlXuHqy+vt4aGhrcPRnXhpKSEquoqHDtOGHCBJs4caINHz48tq2K7oNxSP+VlZX5e4QQomW4P5wxY4ZNmzbNpk+fboMGDfLfaRl+IzKZzD6//0KI/RPu64qKivRcKEQvQaK6EOKAprNE9a1bt9qNN97ohK3OYPDgwfY///M/NmTIEH+P2QsvvGC/+MUvbOPGjf6eJjgu9U6n0/4e0R5uueUWe/TRR2379u3+ntbhppV2R7BEDEewPOGEE+z000+3YcOG+Z8qDEL2T3/6U2c/AfQ5jpJrr73W39P13HHHHfa73/3OCXlh/vjHP9rBBx/sv+pacBbRBw8//LC/p4lTTz3VPve5zznHkWgOzrxXX33V2dHy5ctty5YtzkGDQJKPZDLphFocPyNGjLCTTjrJOSzi2Kroehh/OE9ffvlldw059thj/XeEEKJlJKr3LNmd1Vb78iLLLN97j54+bJiVnDDOUoP6+HvaTq6m3uoXrLS615b6e8yVVzL1SEuPPsjfI8ReJKoL0btQ+hfRfeQaLbt2m9U+8XazrX7OUmvMdN6NXsPbH1rtk82PkVmy1rsbyvmfEKLt8FCCIELqhc7aouRyubzHYL/oODxURtu2tQ0BExGedBvvv/++Ezjvuusu+/Wvf+0cNa09pNJ3+cotJIp2FRyvtrZ2n3pg190JkdXROgTR1qI5a9assTvvvNM5Q1566SVbtmyZC2hoyXawN2yWaPY33njD7r77brv55pudraqNew6uEytXrnR9iTP1+eef32dGkhBCiN5Lg/csWfvSQiesu23OYsvtrLZESccCXrKbdljNC6FyX3nPGj7cYMnKnp/J1JjJWW5XjWXWbbPstt2Wq23ggch/VwghBEhUF90GNx4Nry21+sfm7t2efdeyyzdYItk5pthY12C1D77W/BiPz+1U0V4I8dEFQXP9+vVO5CTKm3zWcnqIzgZRnHRTDz30kItQx/nQVrBVnEFEuWOrREdLWO9eaG+ccn/+85/txz/+sft/0aJFyn0vhOhV8JxUv2y97X7gVdv56ydt56+atuqn3rbs9r3p69oMAVWbd1nVU/Oalbv7zhctu3H/mfXeWJ+xhgUrLbNqi3vWZEsN7mtFow+yZHmJ/6m2Q7tnV222hoUr95SLSJ8+dKgl+1f4n+peqEPdvOW2y+ujHT/9s+34n4dt5y8ftx3/+6jt+In3+jezrOaFBZbdssv1r4hP3Tsf2u4/vWq77nqpzVvD++usUQGCQvRKJKqLbiO3eac1vPG++z/YzLtJSY052LPEzsn52vDOCssu32i5TaFjlKUtdXD/TjuGEEIgis2bN88eeeQRJ5IJ0VmQPx27euaZZ1y6l3xCOLn+yfF/3HHH2eTJk+2oo45yqQBI/xIlsNUHHnjARayL7gPHxtKlS92MA2YOhNNACSFEj5PLWcPKTVb14Gu2+/bnrPrRN63m+fl7tnrE3prmaeNi4f1uEdlc/cw7tvM3T1n1g3OalVs7Z4lLp7K/QOR4w/INXlv4Dm7vkTJ95AgrGjOkQ8+Xua27rH7Rasvt2NsWqSH9rGTyOEt093NrrtFq5y6znTc/ZbvueMFqnpxnta8usTpvX/38lVY/b7nVec/xtc/Nt933zfb6dZbVvvWBNda2wz4+otQvWWs1z77jte1bbd4yKzdr1r0QvRTlVBfdQmNVndW/vMhq7njJuzPxo8aLUlZ0zCgr/z8XWLJPJ0xx80x5948etMy7K93NXEDJJ0+10osmWaK4yN8jPkp0Vk51xK3vfve7tmDBAn9PE+Ta/ta3vtXmvHaIYuQ75v8AFnEkNQDRpWH+9V//1U477TTlVO8gv/zlL13kbzSn+hVXXOEWdYz2IelSEMFWrFhh8+fPdxHq0ah08qxffvnl9qlPfcrlsY5CCg9sj7ICysvLXf7wI444wt/T9ZDHmfUAoulqLr30Ulef7oDURiy0SRqTMCymefTRR1v//v39PR9dsC+imRFhsZ2ooM6CueT0R0gnTzr50xHSSaFDOhEE3FdeecX9H00TQz+fddZZ9sUvftG1ueh6mGHArBbWxQjDteIf/uEf3HVdCCHi0Kk51b1npsy6rVY39wOrf3eFNXy40XJEpEdkgdIpR1rl9Wda0fB972/y4n2dmcl1by+3ujfft4ZlG5oi0iNiIMFO/b5xuRUfsR/8FvF8ef8rVv34XMtta4raTw7uY5XXnWFlZ0ywhPc82y68fiEifOdtT1t2dZPDNVFR4pV5tPX53Dnd+tzKc3rVY29a7RvvW3blJheZ3ypFSedUqLz6VCuZOMYSpXpGaY2dtz9vNU/N89p77zNBXPp++XwrO3eiswvlVBeid5HybvS/7//dJtozFVl8dMmt22Z1z8633Npt/h7vxqF/hRWfOt7SR4/y93QA7yYu490Q1j3wuvfH3pvGRL9yK7vuNEt6/3u/QP5e8VECoYkIwXXr1tmFF15oo0a1z95qamrs6aeftk2bNvl7mkBU/8d//Ecnko4bNy72dsghh7gbojAffvihvfbaay4ncphzzz3XRaXq5qljvPnmm7ZkyZJmAjdcddVVdv755+/Th4ceeqgddthhduSRR9rYsWPd9+j/8INpkAMfgXPMmDH+3r1UVFS4/QjowUa5haKKuwoEa44brgcboiw3590B53vQQQe5Ng3XYeTIkd1aj94M9klEOf9HHThcM3AA4cSZNGmSuyaw6C1tygK6vMZOucbx3bVr1zYT1hHed+3a5RxBEyZMUHt3A0EudRymYbB3Fiqlz4QQIg44pJnFxPUf52pbHOL8JgRO2uyG7S53N6ldal9b6p6fGqu95/rmerqjaORgKz72kFjBT+TeJqoZ8ZnyicptJAI74hyGZGWpE+w7ssBnd5FZv91qnn3Xayfv/t8/l+KJY63stPGWGtiBBUp3eu3ltX/d6+874R5wXpR97HhLjx7sXncX9e8st933vWLZNVvjR0N7dc6RZ31XtaXHDbOUnrVbpe6dFZZZtt67IWv7ukrMXkiPPdgSqaS7f+OeujufI4QQhdFIFF0O3m5+pLPvr/P3ePBjMLiPpSeN9Xd0EO8mp/6FhdZY13wKWpFXPsdR6hfxUQJHAg9fb731ls2ePdvl/UakI61EVKhrDwhFlLV48WInVJOrmWNxzN27d/uf6hw4l3feecctEEqaFRwO+dJhdAXMDOjbt68TM8844wy79tpr7dhjj91HjEQ0o44IllFwhDAbAREt2Hgddah0NRwvXIdgiyOs4jggappZGkRBv/DCC67fiXxnJkjUSVEIjkWbRutQXFzcpgcDxGGcGxwf28b+3n77bdcPcevSFhCmcXhxzuQnJ5VKvlkLHYXyaF/GajTKnMjyyy67zM0swDmCMy8K7Usk+4knnmjXXHONi4KOOuI2b97szoN+aw/UC1sIri3M4Ni4caP/bvvAvmhfZnQQ1Y0TlGsL46mz2phjBIu3UnfOoaXgEI7L8clnj23NmTPH2Rnf5zrEbCLssCdgpg02Qnthj/zPzITOvjZyjWeMBefMDNXuuvYKIbqG+kWrnHha9dBrVvfWsqY0mZ2QUiKzYbtVPfy67b73ZbfQZmb1lr0zk/dz6smlzvn47ZQoL7bi8SOsaOgA97q9uJkC8z/0/mhqJyKQnRPDK7u7SQ0daKlBffc8LyPcpsePtIorTrY+XzjX+n7pfCu/8mSvfoO8D4fu17yfhIb31lj9wlWWwzEj2kZRylIH97OU166tbQkWro1xzy6E6H6U/kV0OS4i4qE3rOH5Be7HFxKVpVZ81tFW9slTm/84twevzNyWXbbrB3dZ49ZQhG9xyir/4SorOnwYIZL+TvFRo6vTvxApRORQZ6Rm6Uj6FwQihBUEIMRtBBEERsQkhDXqiUBMFOvxxx/vcjATRd0WEJkQWTgG7YrgzXE5BsIoxyAimihv0lMQhdySWMp3aTtSkwTw+XPOOcdOPvlk1x4IuAiofJbyBw8e7ATuU0891R2zLRRK//Ltb3/bzWJorQ9pzyA1R1RIpL5f+tKXXBqTMIiDTzzxRDNnA/1A6p9TTjnFnRc29fjjj/vvNkHfUGZr9krbUydEtgDEVYT7v/zLv9wj3iPWIsBFxdqvf/3r1q9fP/9Vc5jdgQCLoIb9k5ubGRs4VRB1aS+OQyoL+hwxF/sq5DDgu/QpomYYZgjQp0RbF4L7DuqA84L2om60Ke0X1CewD2YWEMmHM6Ql6E/6JjymGSuBfVE2QiptwJjkeLQ350ybUT79Q9R3Z4x/zuknP/mJE6vDYjLt+fGPf9ylGGqpjcIg+FLOb3/7W3ddCMPMgBtuuMGJ9AG0IZ/705/+5O9pguN99rOfdfWhnSgTcZprAW2BUwR7ZjYG1yjaIi6MQ+ySlECMJ0RhygzsKphdwTjg/5bGO9cQ7Ds8kwhbJN0N4+H55593DgCOyWv6D5s9++yznf0F0Ofvv/++E5JJ+8S9LnZCe9JG1C2wNWYIMN6xNWYMhKEejz32mHP0cG78/oShDFJOUQYw3r/85S8XvCZzfJw5jJ3wtZeNssLtxbWFc2vNJulr+pzzCmBWFOfENR4HB7Mdgus7dWVcUD59LoToXjoj/UvtW8ts9z0vW2bJWv9dD++aiLDH7N7cxp0u+jiAaPI46V8ya7bYrntnW92LC/09Homm5z2EYnKGZ9fuXVNif0n/Qiqbnb99xupeXbwnJUp6wijrc93pVnx0+2cakae++rl3bfcfX9iTsz41tL9VXHmKlZ9/vHvd3eBk2XnLU9aYyVn52ce4GQqpYQMsWVHqxPbcLu+3cOla232Xdy+JkyEkIZWcdpT1+dQZVuR9XhQmmv4lOajSKq6aakWs/dYKRaMGN82M8PqC+xjuDTWDWYjegdK/iK7F+8HNfrDe6ma9Y1a112ZSw/pbyUWTLXlQJzyYNea8m7hFlnntfX9HE6kJI63UuzFJFHdc7BD7L12d/gXh4jOf+Uyn3Ni0N/0LItejjz5qDz/8sBMBgwhihEAiU6kz4gjlE3mJ6I5AibBEZCs3Zy2BoIP4cv/99zvxlzoiFlMmghFl8T/Rn8Ex+J+2HzFihBN88sHvyD333GNPPfWUK58NQYv0IOQyv+2225ygSd9xHvxP2YiCxxxzTJuFTMpCfI5GM5OGgWO21ofcwNJWCGW0eRj2I7LiSAiDEPmHP/zBicHBOdJWRB4T9Q6Ud9dddzX7DOfJAzACb6H+4UEZ58mPfvSjPdGqbLQhffuxj31sj1MDMZu2pt+Cz7FdffXVVllZ6T4TBvHu7rvvdjbP3/Rn0A9Bf/OadsCe2BAhEfh40M8ngDKGAjsN14F+RIwtJBDwPUS+e++914kK9CPnyPGxbeqErWPzQV1oU8RA7K+QnVAuNo2wHtSF7zLW+N7vfvc7J4xy/QjEUc6dY/Gaz9JPtDHXlbbaYxREU4RMjhEGwZoIdRxhrY3VAGwZgZayuB6EoV2wjylTpuyxD0RzPofjKdw3XIsYH08++aQTYRHBOe/g2kLEPm3xwQcfOFugbMZSS840wFHzxz/+0Y197CvcvvzPtYW2ZeN4XIMQ+AtdSxDMH3zwQXdtCurOdxCaiTLHeYftUzYbx+M6gKAepGBhLD377LN233337XMdxc7Cdh/0f9AWtGdYWOdzd3vjh3L4fBTGNucY1JXPkNYHJ0UYxjjHuuOOO9y1l/bPd+0Ntxd9wbWXawzlFbIZ2p/FcMPXBER5+hRHHW1JnwbnzPimD7BDnApCiO6F601H078kStOWWb7RMqs3c4Gx5MBKKznpcCv/2PGWGtLfsuu2NeVW94md/qUo5YRC8rPz7JcoK3aic/kFk9z3s5t2WHb93oCG/SX9C+k6iLwneMvhnSd51EtO8H7nOpBDPLN2i9U8v8D1hSOZsPThw6384hNc2/QERd4zOf1WMvlQKzv1KCfiJstLXM54IteT3nsI/9lNO5tE9VDedeyq5Lixlhqw7/2k2Es0/UtiQIVVXn6yFR810jkkWtroC+8Hvel73v/cZ7V2ryWE6B40EkWXQmRCZsk6a9y8Ny0CP7yp0QdZ6pCmCK2OkqtpsHoiI8JzLrwfm5IzjrZEScdEDiF6OwgiCLIIXgiriCzhyMMwPFAReUlkKKIJQg1/h6NioyB8I/YhcPMwh9CEYENZ+eDYCFCk5UBUQrhBlGkLCDm///3vnXAarRvHRbjuqIDZXgLBNSpU4QRAjCrULoVAqMdJcNxxx/l7mkDwC4TKQhB5hpgYFe24yb744ovb7ehB8MSmEBg5PuJkS1APhEWimOlv7LCzHO9EhyNMEnGNoE6bEDFfCOqCwIg4jX0zLtqakghx9eabb3azGrDBQudPuYj9HIdx0Vo7tQaiJceOgvCLw6atD0/BDAIE3zD0Df2FzbYGEekI3zhkcPrka3tsns/hfGAWB9eWlsYB15zf/OY3TqjnnAu1G2VQR64l2CPOmHztU4hgZgTCMdekaJ2IvGZmA+A8wGY4T5w2HLel6yLQjjibsEucMwjwnQn1ZSzi6MBhwFhvyZb5PNd/+gEHFNfQtqYpwumIIwl7jjofcZjRZvmccEKI/YNU/wpLHzbUirxnsJKTDrPKa06zyqumWOkpR1jRkP7eB9onDSC4pscM8coeZukjhluFV2blJ0+3srOP8fYf7MTo/Q0i0+vnf+hmXAcUDR/gzjEVI8d8IRozWcus2GQNi9f4e7z261dhxUeMsNTgHpwF5PVR6alHOWdH0rMTnqWjILCnxw31nuWbB064aPtOSCMkhBD7IxLVRZeS27jdMvObohYC8MoWHddJq4R75WbeW205f9X0gOSIAVY0YSTqkr9HiK4BIQMxpS1bIdG7rVAWAhbiJ8J1W8QTRCNEJMQghPl8UE/eQxwnpznCWVz4LoIOkckIVXGFTc4BEY3jRkUwIPqS9B6FUox0NUT/ElEdjZhFgCK1RHvEZMojxUXYUcC500dEixaCYyEahvsdsZ82IhVL3KjmMEQaY1MI42FRjfMlYprUD6Q8IVLu4IMPbtYPCNqIgER+I5Z2FM6PKOZA0I2KfC2BUEvULmIkYmxcwRu7xf4QSoMZI4jTOFKiUcQBCKsIxNEZJm0FoTs6TuhDouAD8bct4FRBBI2mjMG2GMuMz9bABrEHHBVAfWiHfBHj2CFR1YEwnQ/OEbGXNo6OFWY3sOAvdY46hHDu0JdEncdtZ84PpweCehSOhcMBhxZwvaHP6cvweMKRQaoT+p92zJeehT7D8djSWG0rwe8Kzgeu0y05kvJBOzMO6Qv6MC6MNyLW813HcOxwDUBcF0Lsp3jX8JKJY6zy2tOcoF525gQXkUw+7w7hlVs0bKBVXD3VKj91hkthQmqXZER83Z9oWLHJMss3WGONfz30bqmKjxrVtIhoB9bqIuq9Yclay23b+1tGBHgxz8YdTYnaQXCOIJy3iPe7GL29TKS973SgTYQQYn9GiqPoMlhJPrt8Y3PB2/uhTg4faEVHNT3IdphM1urJ1R7xjhfjZSeKQL/v/z97/wFnR3nlacDn9r2dJSEhJCGEJCRAASVAEiByzjkajMEwNjYez9qzu9/MtzPetfcb73pn5sfM7HjGZhZjAzY2JpqcM5IIygEFJJCEIsqh8w1fPe+9JVVX1+2+3X271ZL+D9RP3bfrVr3hvG9V/c+p84ouBhHygQcecHnbC9nYt7PiGyB6EIFJdHB4jYvevXs78fO2225z+TfvvPNOO/vss1uk10AMQgiKSmsDCDP8DYE1KEoirHEs0tLcddddLi/3rbfe6s4ZFNsQhigbYhWiY6EQec13EbSISif3OOleEPMQnxG5OiIYFwPOi7AWFtcQ4hC+OtK31ItoZES+IPQPUadRAhfno8/C4iVtRsqYjuY8RlREiCTK14cUGjfccIPL4Up/f/Ob33T547/zne+41CDYmw+iNMJcVKRre6EspLwgX3ZQ6ERwxXFAND55qL/3ve+5NDbkgg6KsXwHG8axU6jgid3hEKDNEXhJ7cTxv/vd77p/ySkd5dBB7G3tDY62YHzxfeaTIIi/pGjqaLoN+iZKkKdvChFbaQfSOlEO2pe55Pvf/75rC2yCNgrii8FElkfZLcI4No0DxocxxdxBX9LOzFnkcUfEDfYn8wIOEgT+QtoZxwHjETtgviKHOc4mhHQcFSNGjHBR14wzbBaHUNDOEPexMcrjl+vb3/62XXDBBS36gwj6YG5+5gfORQomzhuG9sQxddFFF7mN3O9BsRp7QBDHboNlAsrMuhOMRdZNoK2YI8OODurPvIsoH3bW5IN6MPYpn5+fndRMzCdjxozpcPo0IUTPgTzZFZOPi4w47gwlfSqdYM/WZrqYnk46Y43zv7Dkhu3ehS37UUm/Xi4Kv6RfJ1LWeNeuprVbrPHTNe5niFWXW+mIQVY6rDhvcHc15Nwn2j4IaYS6M91qenedNSxeY3Xvf9rhrX7WCnec/UnMszMWeE3vqW/RpkKIAweJ6qLLYLGbpk+/3LuwC8QOq3SCeslhRcjHSZT6l1sstWTf63PATV3pqcd7P0hRF10PIiKLaRIxXMjGgnlh4awj8Jo+Qh6v+wdBQEMIQvhEVL/55pud4I0YxmKHCFVBEL0Rboi0DApViDqITKTeCIpjiLakQGHRxDvuuMP9yzk4F7+z+GFQcOaYiHekFGgtlUkYxLTrrrvOCW2IR4i4LM518cUXO8Fnf4L4FVUG2qwjQjKiIgIeOa6DYCcIvKQgCcPfECfDi64irCHSdRRytuIcCNoCwiniIGI9AiHiKovd8hn9j9jm51rGeYPoGJUipz34QicOHcaYD9H8nA9bC9ofC28iLuLoCUb8811EXsTY9rxpwTjC3hg7l156qRMxr7nmGjeOEGPDqVgYh62lXmoLxhh9GhZQ/ajwjrYltholyGOrhUY/cwz6m/agvWkH5hIcDrQ5Do4g1IH5hHQlQRDFSSXDuYOQG5hjIdJjO4zxW265xR0b2wu2Nc4ajtse5xV2yfEoP3MJcwrzFW+8gN8O5ETHCcH5aDMEZcrFnEb/UzbqzsYYCELfIUj7cyWOKOZh7IdxE4Z+5Zi+HWPDvihO++FIwhkZtgecA0Hbv+mmm9w5mO+ZL4MOLmB+II0RbR8+Vj6oO2M72F78S3nDjlkhxIFHjDm1K56RvOvU/o60Lhapr3a6RTnTu/aJrqXHD7HE8IHZqOwOwvGaPtuQFetzxAce5vLOHwgpSxF+m1Zs2Lu4qk9i6ADnHOguUtv2WP30JVbz9MwOb7WvzrVUYFHe/QH2UPvCLNv927dt98Nsb9meJ2dY7evzrGHBKq983r1OgdduIcT+Q6K66BIyTUlLrd1iqRWB18u9G7gS78ahdGJzUa+jZFJpa5yxrOWF/cQRFh9wmLu5E+JgBMETIZxUC0GhBKGXyGHEFcRPhB0ERiIbEZBYCO/cc8916SyCIDoSnRwUaBEIyX1MpG8QRBVEWxZOZEFCBHQEcKJpyQtOxDBRl0F8YZOIyUJBCEP4ItUIUeoIXIhuCKr7K/WLD/UNRtD6UM9gBG57IBKU9guLVkQv8zZCGMR7HDRBEANpK0TfjkKUalh8QyxEwEdwDztY6CfEPSJ4cXwgOiNwswhrZ5wfREeT8iUshCPgImoi+hE1ixCJPSCIEq2L/REBHATBk/QeHK8QqBcCInbOGPLhc8RUzhPO6c+YpJ06KqojNEd9l/N0xt6x06jvcy7apS18hw+iL2+J+Pm0aQvanH64+uqrW4j+HPv999/P/ZaFOYvFTYMOG2yEPmO+CkZqIw4zVzHuEaB9OC6OFtq6EBhX9CXCOJHjjDEcL3zmR9lTJ4RvP1Ledx7gTMGBGKwb/YHd8WZJEOpE2XyBnnpxfNKlBBcw9aFfSJ/EWGXjPP6cwhxChDljPwjlYA7EocH5mXvpB+rIeKOPmC/DEes45ZjLC3WiMIdwrfCdaPQ7fdyRxaGFEOJApGHRakuu2+pdLLP3Q9mFV4dafNC+e4KOwDEbl3zpXfSz1/tYacJKhw5w+dQPBBqXrLWmlRss07DvXpe3Eih/dy6wmmn07pm27HLBdR3dUhu3Nwv82x/wVn/Dx8ut7s0FVvvybKt54ROree4j2/PMh7bniem254/vW90HS9zbAc3WjhNC9CgkqosuIb1tjyWXrbdM4LWqWHWFJVjcpZM3JA7vATbjXWCaZq/MfZCjLG6l54zznlglqIuDF6LLEUrCogvCDOkp8kUJE33L3/0ITR/EIAR6Nh8iG4mWDApgCDgIQERsRqUX4e8ISYiRYeEesTYqlUEUlJ1zIOYF64FQ1ZNFnWBbtReET/qNiOAgCGFE/Qb7GtGNCHb6Jwii3CWXXNIpERYROewwIDc1aTsefPBBl+OZyFfSzpCGA3EWkZnzEmmPbSEWdia6GhDVw7n+EV0R8c8444wWwiFgG6TQQegNC/pEvvNmRyFQf+wvXzvi2Am3EeDo6KgN5Psen3fGrlr7fiH9Q5vTpyeffHLk/gjeiN9h4ZhxjqMuCI6Z8PhnviC9SJQDhj5GVA9HX2MX4bkvH6Qw8dOX+DBPcT6/f4nMJs0U9cBhQ+T3jTfe2CIanXGHU4C3hKLy0VO3cBR+R2CunDlzZu63ffCW0eWXX97MyRCE+RLBPbwwLWOUtz4KeVODtsH5gDMgaOPYgQR1IcShAClBGhetcc+yPokRA12KFnKOd5RMfaM1fb7Jkqv2Ld5f0r+XlRbrDe4uJrV1t4ugTm/xriWB+4qySSOsdLh3v17a8XtPkcNr1kxto6V5U2LJWqt7e6HVPPOh1b46z1JfNX8zVQjRc5CoLopPOmOpddssiSc+8CxfckRvt0BpR1eWbwZR6vNXWca7wAeJHz/Y3fh4T/+5T4ToWhAhiBpElClkY9/OiJ6A4EhKlXBkK8cnXzBlygdiSVgwASLT/cUIgeMTXR4E8QlhB/E3Hwgv/J2yBEGQotzh/O/5INq4M6JsV0Jd2MLQplFia6EQ7Y8wHRSvOA/9EkylQbQ40evBVDO0FSlYECE7A/1GOcI2hC2Q5ujxxx+3Rx55xH7zm9/Yr371K3vooYdcznLSciBcd0YA9sHJw8K7CJhBEPwpX1g0DILgyBsU4cU5aTMcUYWUjz5sLdqfckSNMcZjR+tPn0cdk3JH2VqhIPLSnmGoY5SQHYb2pM3z7Yvd0R5hRx3tgN0Gz037h0V1osRx5iFUR218PzwPsJYA80h4/ouiI4u8IiAj5NN2LHaLM/DFF190C6yyJsYf/vAHJ1JHUYjTsDX4Pm8HYf9hSJNDW7c2L+J0wlERvsbQ9oVEqhP9zjXEfyNBCCEONRqXr7fkl5v3RTEnSqxsvHfffFS/7O8dJLlxhzUuXWuZmtwbfyUxt0hs2fhh2d97MOm6BieoNy5abZmGfc7j+FGHW8VZY12++e4k7p2v4tTRVnX1KR3eKs+faPG+LRcf70pKeldYfGAfF2DobyVH9HHR/m6x4PD1PZV2UfW1b863+g+XW3pnYW+cCSG6lyKom0I0J72r1qV9SW/eF0kWqyi1+LABljimOIuwpGsbrfGDJc1Ee25Oys4d36lcd0K0F8QwUl6Qc7aQjX2jchy3BwTw4EKSPkQIR0WQB+HcpBgJR/oSxeinf0GsQiANR4MiuCBWtibaA8eOWtAOgSxqQdQwHB9hqKeK6gidwTQoPthCVAR1ofBdnC5E1wYhf7SfOgexkr4i130QRFJSPyCIdwbanYhdxLsoEBp5i4HoeVJUPPbYY/bwww87kf3RRx/du2BnZ0D8ixJNsW3K1xrYDDYedvxwLH8RxrZAVA2uCxCGvxfbNun7qONSXvq/EAE5Cr4f5chCJC9EOGU/5pXWwPbCedUBp4+/QCaOAeatsNOBiG9EauwnaiMXfrj82CBzVSFR4YyH1voyDMclvczTTz+9tww4jrDx3//+905cx/bzpZ/prF0gqjO+opwzOIvamnuZg+iLsKjOvBvlXAlDezF+eurcK4QQXQnpSxvnfe5Si/gkjuxnZbxp3bsT9+7JtItQJ0+7D9HppRx3YBHe4O5CcC7Uv7vY6t5dZJnd+4I5WMOs8oKJVnb8UVlBuBuJH97bKs8ca71uPL3DW9WlJ3vH6V5nQPmEY6z62tOs101n7NtuZjvTet1yplVdOdXKThphsd7es0TgMkz6l7rpn1rT6q94EMh9KoToKUhUF0UnvWG7JT/90iy1b9KP9e9tiQlDi7PKPF7bFRssvaq5OFdyZF8rHT+cp9rcJ0J0PQhKpKMg/2whGznPC4kQbQ3EqiiRjajSto6NWIKAFxZ/Eah8oZhjI8CEoy45diECFW0STtkAHK+QBQYRF/OlONjfIHYhFIajPhG7aJvORHjSN36KniD0N5HgCGP0E+kvwou+IoSxwGNnoR7kkiYHNeIcfdka2AlvIJCu4oknnnACJEIowmBHQYCNEgARDAtxSCEoRvUD9teWqE4ftGV7bbVJR6BuROCHxyVtQdRyRx0VCNLhdRGAOhay6CT2UMickm9e8N+moD+jIu4R2rEd8q9HbaSMiYqwxrFUiKhOPZlP2oK5j5z7OIkQ0hHRsee33nrLfU7UvW879D/9FUUxxOh8EeX5HF1hmHvDNko/0P5RYn0Qxle+ugkhxMFOcs0Wa/pik8t17fCm9DLv2TJxtHe97MTirsltu1wEfDClDFHeboHSHry4a6YpZXUffOryfad5Ozx3DYlVlVnF2eOt8vSxLsq62/H6goVdS6rKO76RyqcNR3WxKR05yCrPGGuV53ptl9uqzp9oVZedbNXXnJoT/M+wynPGt4j+T67Z7Bwz6dBackKI/Y9EdVFUuAlJMeF/uTX3iUci7m4cEqOPzn3QOfCYN73/qRPX9+JdXEunjenWRVKE2F8gmHRGvEFYCYsrHM+Pggz+HCTqe1GwT1iQh3zHDdOTIyUR8xACw5HqiHfkkS9EwGsNxGBS3wQFT9qSdDxEyCKOkfol6FTBHkjRQSRrMSA/NgsifuMb33D5yclTjtjbVp9QNtLUPPXUU04QDS582x5as5NC7S/ffoXYX1uieSHH6AhE4Uc5o1atWhWZw7st6A/E4PDbIbQvUf/hFDlRYHtRYniYttq72G2GoB41x4RhPLaVbouxhN0SMU+EOqldGG/+8f1ofRYDJdc+i3iGF8MF2rUY81Y++yukvhDVF7R/IWUrpL2EEOKgxJs7G+astNQm794lN42W9O1lpWOO7lx6E++4yVWbrXHZWvczxKrKrXTEkVY6rOVC1j2GZMrqZyyxmuc/calrSO8KscpSqzjzBKu65CSL9/fuWYpw3RNZSqrLrWz0EKu+fIqVHju4+dv3vO3g9QM5/4UQPYuueTIUhywpFtZYuq5ZvrWSvlUWH32Ud0NShLxl3kNlaj2R8M1zPcdYeXzaKO+H3AdCHMQQFRoVTYjg60eG5gNhhmjxcMQuoqkfoYuowu/hCFWE5EIiZhHhotIjIOy0lg/bp7PCdFdCbnGEyrBwRYQ5kd2dFdVoe44TtWCpn1qF9BRBsAUWhy2mGIaof8UVV9g3v/lNl7LotttucwL7xIkTncDYWjQrkdGkq2Ex1Y5A/0dFi2Pb2HhbILiGBX36BXsuJNK9GMJoRyCPe1T6HnKLkxO7kPQdQbBT3nAIzwm0AQJ+IWMx31gOwpwSlWKG8e6/MUDbR9kMqY5uvvlmu/3229u1sYhoIfMEY6ItJwnt9Prrr7vc6cEocSLDWePgpptusjvuuMONhbvvvtuNBQT2KDrrPMD28kWks8ZAPudFEBwCYUeIf81oy7bZp9gOECGEOBBIbd7lhO/0rn33x6Wjhri8551JLYoI2rRyg/f8ui33iVn8yL5WdgJvcPfQN4OSKaubsdRqnv0oW+5cIJuLUD9znFVfMcUSg7x7iE5E73eG1PY9Vk/5nv6ww1vta/PccXoi8YGHWWL4QOd8CZKpqW+msQghega6cxZFg1fE0mu2uHzqe/EutiWD+1nphOG5DzpHpjFljR8t37fIC3jnSEwc7hb7EOJQAAE3SnREHGpLAEOUJZ1EWGgjctVf0A/hBTEsLO6Q9oRUH22lXUCw//zzz3O/ZeGYCDsDBrS+rgL7tSWC7S+o99KlS93ihWFY3C+cC72jIHaSAibo1EBQXbx4sc2ePbtZ1DLtRZsi/hUbxDVy459//vlOVPzWt77lhEUi2BFCEfLHjx8fmWrls88+61B0NWDb2F7YqYPtkvamNWERgRfhPZweB3EVZ0BPdtjwpgG54MPOEcTUDz/80I2pQkRVoA1wvsyfPz/3yT6wlxNOOKEg8ZR5gkj51iDSO9zeQNS978TgXJw3LOriQMKmvvvd77ZrI1I8nConCs4bPmeYJUuWuHYKvn1C2RmDiOh33XWXXXPNNXbqqae6hZo5b1T6Lc7T1rmC5Iso5w2CqDmQ8d9W/zNH4/gLi+q0cyG2z/kLsQshhDjYaFiwylIbvHtoX0CuKLPyCcMsPqD1tYragoUmCTgz7zkZEOiJUC8d1XItkh6BL6g/86El1wUE9epyqzxrnFVfPdUS3rO9d7Fwn+8PyHlf+85C2/37dzu81Tz/saVIadNDcYJ6InQvUOA9oBCie9Gdsyga6W27LfnZBsvs2hfpFauusPiIQc4j32m8C0l6xx5rmr0y90GO8lIrP3e8d7Lc70Ic5CC6kGokLLyQaxvBN19EK4KMH/UaFmcQHIOLixIxixATBIGN4/P9fCBM8fewqI5AimiYL/dykJ4o6iCoI2ohbuKUCIKoTN0Q1osBoh3pXI455pjcJ1mxmAjw5557rlnfEVk6derUgvJjtwVCHHWj/0iB8e6779rzzz/v6s3fEHxPOeUUu/baa53Afs899zhBlAVSwwvk+nnnC01ZEQS7pj5hBwzR0NhvVI5wH867cOFCJ0QHQagnurknQ50pY7gv6W8EchbJZPy11aYI6tjpG2+80SL1C/aCXfHGQSEw5rGHsM37UBbSIYXnBMYwaYOCY5lFeMNjm/rQZ/nEYpwzpDui/swp9CvzW779w7QldCOO4ygMO4CY+1j/AudDWLzn/JQ5iqhz5Tt/VD+yL3N71IK8pH+irK3VnRz09FVY9B87dmxBc29rbSWEEAcr6T31TlRPb9+37k/imAGW8J5hyb/dUTL1Tda0cmN2gckcJUf0sdLRR1m8bxHe4C42COozl9mesKDeq8Ll+a6++hRLDNq/gvohQTqreYSj0tFVuntRWCFE22hGFMXBm/xTX26x5LJ13h1E7jOPkkGHWWLCMLMiLMJCJHxy0ZeW+SrwmnlJzOIjB1r82LZzwwpxsICIi2AVTt9ApPp7773nhMdwNDlCzJo1a+ydd96xlSubO6Y4HlHWiKY+iOwIu0GRxT/Gyy+/7M4VhnMi7PP38IKkCDos1NoTQSRDAKbM4Q3BkDohUP7xj390Ea1BMYz2QVAncjbq7YGO4AtriHpBKCd9G4RIYNKyFAMcIojojzzyiP3617+2//f//p/94he/sCeffLKFSI04i/BHhDxbOG0JwnhnnCOImoiwQfw3BUjVEfVGBm9I4Azg70FRkfb0U3n0ZCgn0dBjxoxpEaWPUP7222+7hTQRzLHLsHCKAM7YZvzRZ6R+CYNDjnMwvguBcxD5/Oqrr7ZYQJP5gHK99tprLuVIEOoyZcqU3G9ZcMiEbQIxm/qE35wBPsOJ9OCDDzp7xC5///vfO+dC+HwdBWcRdhOeL7HvqMhuxj6idXgOBdojLJTTDlHjgH3D6zL40PdRtsp5WTwVpxLfD8PcQHvRJ0GYI04++eTIfP1hKK8QQhxqNC5f555jWbfLkSixskkjOh0Ulty43S1QmtmTu8bxdvXQI6z0hH1BLD0GBPUPl9mep2dYat1WLnju41ifSqs8b4JVX3WKS0uyv1K+BIl519VYWanFKss6vlV43+8BdYmi6fONzhmTCS5K6tkkb+Xvl4VhhRCtIlFdFAXyz6VWbrI0i7vk4GIV924cEscUYREW7/mRlC+NM5a6n/fCTc/Z4yzm/SvEoQQC1bBhw5oJNgg6CFQIaojrRI9u2LDBpW+YOXOmPf744zZ9+nQnFvsgoiBeTp48uZkoTLQsqT3CixkSLcwilByLHN/kzUYYI6IUwR7Rh9zEQRCJiJQMi2w9BaI7KTeieXhj8cKHH37YiXpEzAbbDmgnXwgtJjghEMLCYnVQTCNNCM4V2rYYYEukwqB/EafpWwQ62occ6eEIWMqCuMt+4XYhyhwhu6PCOqI60dThCHjKgGj8pz/9yZWRtCPYHwIywi+LpEY5HrDvsEjfE2FMn3vuuS3GNpAnHufOb37zG2eXiMsI7bxRgCOBRTZ/+9vfur/xdkFY4KUtmTd4s6A94iljnnOxMadQDjbGvP95EI7tpzAKwhsVOGKC58aeKDd1IKreLzOpfpjDmGPoT6K0qTvzDrZYyNoOhYDzh/kp/NYPwjVjIZgrHqcWYjptjqMtDGUPi/PUNewgAQR1Fkcl+p52JK2T71hgXLMgalRu9VdeecU5Vvy5l3JyDOZe+h6nX7gM2D7zUyHpcoQQBzeZVNqS3rNa44oNLbbkhm0tImPTNfXWtHpzs/0Q/Ei/0Qwia3fVNtvP35Krv3K5oIO4QKm1W5rtR95xPutuMk1Ja5j9uaW27XNIIl6WjTrK4r3bXoclL7S1E0c35D7w7rP6VFniuMGWOLLl+in7FRYl/Wi57XkSQX2b60+f+OB+Lr93cv02a1i4xhoWrI7cmrw+bCYCdyElfaut4pTjrfrKqR3eKs+d4I7TXWS8NmYR3PTOGmdzzfQMD/d3b1w1zP08uzgsbzfk3hSAxFGHW+kxAzv15oQQomuI//jHP/5J7ud2kS/CRhyapFZutMb3PrXMln03JCUswnLWWPfqXGfJeA/eRME3vjJ334Xee1gtGdzXKm863WLlPXShF7HfQXxBFERcvuSSS5qlOGkPRDO++eabkekUvv71r7cQZToC4jeCdFigJKc1IlvwHAguCJ5hQRNBhc8QfxAcEaSoP2UnhUI4ihGR67LLLrMzzjjD1cUHQY9ITY5NioagUEPEKkIO5yBynehhRJ633nqrRSQ3ZSbdBIsLEtEdhGMikAVzNiNCUbfrr7++mfhWDBCuaI9wVCzthWiHSBveEL74e1SKCkTKs88+27XfwIHRzkO+i0MjuDAsgjlpPvItdgi0PxtRwrR/FIhk5DYvJK3JggULXH3CQivf93Oi0/+InPRn0KZoL8qBwEiEOGOJerEf/Yf4GYyepdwIt7RN0CnAfQO2GBYksW0i/YNpTxAiKQ+iPef2y805KAdCJGXAdhDUcRYhdobTkHAcnEPkgQ+nk0EkpW+CqYqwOfr1xhtvzH3SEqKkEfb5fhDeLOCNj+A4ai+cH1uiH0j1EU4zwue8NYBozlijXxnX1J+6UP9wRDlgczh/SN1DXvAwtC9jmTEchjZn3qC/cWqwH+en7xF5w4vCIgoz1zIugmMY5wbjgDEVzPnN97Fx/sVBwrzCPEjUNbYWtFnEevqGPg2K1dgB9h1+g4F5bfTo0XnnEmyV+mCTwXajnFw7sH3qTl8wR+C8wOkUlf7Fd7DxlokP56VeOHyC9aAfaUs2+o/64kTD9vgO44a6UK7g92g3xH7KjP0znzH30g/0SVhQp6+Ze3G+hXP1M144TvD4pLBChPfX1xBC9By4VuHE5HrJOPXXrCgExrm7Rjc2Wf37n1rduwut8dMvm21Nn3nz7ead3s1ZwHnelLTUVzutabn3DObvtyz7pmLpyH1BF5lk2ttnvdU891GzY7pt6ToX+UwqlL3whvOOGmtasX7vfk1L1nrn2mXlJ47I7dQ9JNdstrrX53nnzl3LvMtF5eljrWLKcVbSq+POSATSuulLrWnxGq+Bsp+VHjfYqs6bYAkivnsQjV7b7/rdO9lFSQOCOhDVnVy92auH10+L1uTdWOiVQLruiKRGWC4dPtDKxg/r+DbqKCup7D6BOlPbaLUvzfbGzzqXZz+56itr8jb3MzqKN04aZq+0uncWWtPStc0cFKTfqTpvopWfNNLVnfsE/zlBCLH/0UgUnYZJnwtD2rso7CURt/iQ/pYYvS+dRKeob7QmotS9m7a9xEus9JRReg1KHJIgKCG2E9WKmBMUjRBsEFwQyIjoJT0DImRYTEa8Y7FJxM+ohzOi1Pk7QlH47xwLwQcxh0hTX6AJgqCOE+Oqq65yEbIHEwhnpLO54oorIkXKYoDAhlAbJdJyI43wFY4G7iycj3r54p4P6X6I5v/3f/93t5EW5l//9V9d1GxQmOM7CMvYVDCdUEfAGYMwi/Mh3AaImoicCAzPPPOMe4sAgTIIYwRB9brrrjsgotR9SNNx8cUXu3FDG4TFUEAcoQ0QnXGe4XwIC6o+ftQ4gnp736ig3f35BXGYOYWIaDbGfNhJx5ifNGmS3XTTTc3sx4fxQmqTcH9SB6LQsal/+Zd/cW+HILQHxXecSOecc45746WQ/OCFQpor2iX4cEr74qB49NFHna3/8pe/dOmQiJanzjgcw+lhmBPDNsgx6c9wuh3GC84RRHqizDlX0GFL++DwYiwGnQdA2XBwINTzVhJlwvHEvB8EgRznJG98FLJIqRDi4MdFqnvPbI2zVrbYkkQa1zQPmiPHeBOiaXDfuZ87IbAZ3pyGiNxsv9zG99M7QunDGposuXRts/0QFJuWtlz0ukvx5tOGWSuykfc5LZlo8rIThlpJv5aLsBeMd9zGzze6tDK+SI04jSMCMbinUe+1fXrjzhaCOqTWbrXkZ+udY6XV7cvNlvGe10U0RKLXf7zcap79yHY/8rbt+tVrtuvB123Xb950/+5++C2rfXm2JT/ftC8NkQf2WHHqaKuYNtrinbFJIUSXIVFddJrUxh2WJF9cIAKhpG+VJfAAH16Eyd+7AUxt2unyqe/Fe1Ynx1vZtFG5D4Q49ED0vuaaa5xQhfgWFl/ygWAzYsQIJ9pdfvnlLVK8+CAIIUZ+7Wtfc+I9+0UJZVEg4hBNesMNN9iVV15ZlEj+/Q11R2ymXldffbXdcsstLvVKoW3SXmhDRGH6Kgx9SGRrvgj5joIASCQwzhT6O9xvRIkTtYuIRyRvMMoV8Rd7Qcg78cQTC7bHfPB9BNpbb73VRb6HU+Hkg/4g+h7xlT7qqbn8WwOHCeOT8lMP3t5or51hPzg4cEwwholubO8xEK8RwemHsBAehv7CJu+88868bwTRh/ydCHL6KFweov+JEg/aFVB/BHVss9g2TxtxbP4N2ztlQfBH4MfeqSNR3ziNeMMiCH/HeRmGOYM2bG0O9EV2H9oFIZ4FgVkzodAc+EA/MS/h2MA547+JIoQQojmprbutccmXlt69723C0jFHu7znsdKO37ey8ClOChf5ncOl7/COjbje08DZsterILqPppTLt+9E9EzoDYGyhCWGD7DK88lnP9USQ/p7H+b+KIToUSj9i+gcyZQ1LVyTjSL3RXUWDz3uSCs/b4KVHNaJXHQ58Ho3vLPYUosCUbCJEis9aYR3jvG5D4SIpljpX5jzPvnkE5cWg9zj/oZggnBcjFfwiAbm1X4iEYPnQPAh6jdKlCEKFTGIyGlETfYhYpEIT/eqbw5EGgQyohcRPBHiydvblljjR0STugVxhnNwLI4fjoxlX9oDEZjIdIRnounziXEcg9QHRNn6dSUinjIh9rdXAGwL2pY2ppzB9m1toz7Un/ZH4CZqn7Y777zzXDnbKiN2R1oG9vOPSV8hzLcVNcx32LA9RL1guSgTaYdI31MIiH2k1UBoDR4Hp0w46pc6I47TF77N0dfBqGEfyocQ79sVxyMqOryILiCY+n0QLAMOIUTbYNoMH2yHOmJT7OtHbUeVh7JyDGzVj8zGDvP1EccgfQrRxX5ZqDNpYnAE5QPHApHxnM//HhvnzBdZ3hGIzGZsI97SR/yO7UaNbx/aizagHAjcCOqXXnqp65/WQNTljYNw+hfEbOwdERk7ZCMi2xe9aVvKxbzK2EC8xw5ag8h3+ojv+vXBNsJCOu1IXbBFnHqIxJwnah7EprBxjhPuE0TwfDYAnAehHrunbn49g+3LuCHPP44JbIPykC4maMsI7owFnCBBG6BPaEfSBnH9CB+bfRnPpHOgv30oM9/jTQ2Oz3FoL+oYnnvZl/JjKxyHaxJ91lpEPylnSDETnBOwG/ovaiwKIfYvxUj/QrQs6SeIzI5VsFhjB7Ze5VZ67GArHx94S490Lht3uGNHfqeQrarcpUWpPLvtlHbFon7mUmv4ZMXehURJJ1p18clWOmaIxUo7fi1v+my91b+/xLUJINCz8GnlOeOspAeK6i4lyaYdTsiN7JsCNhZ1LZ800uLdmKf8gKIx5dnaZ9n1BVIt79+8C7kbA/HDezunTtm4YVZ5/kQ3HuID+ri/+/j3T2xCiP1PzLvIRozq1uGiHFy8SRy6sOBGw/OzrPHdxXsd3LHe3sPlBd5D4HWnuhQtncKztdSG7Vbzz89bekNgEVRyi/2nK6z0hNaFAiGIqL3//vudeHvfffe5iNeOQMQir+lH5VQnmrQYNzakbMEBEMxnDQg4iGJtnQNxkLQA5NlFzKXMCDCIUDx8IdwgUCHoEoXc3jIj5JHzGCGShzsiKxGhEHgQlDgHAihRkghBiDytwffIBR1OG4MgizhbbMi5TNsgahUKQhPOBIRABD3akD4vFOpGzmP6wgehizY64YQTcp/kB8GRyHBsLwhtjdOCdi+EhQsXtsh3D4hv+YQ3rvXYJDnL6W+cH9iTLwrSDpQDQRKRlD5HkM5nV3zP74MgviDflpDH92lPcnKTQxtBkM9oI4RB6kEfkWOetkXsbQ3qQt+Ec9YjjJIyJh+cl9QbfD8Icwvif7FE9SCci7mM8U3dGXuIuowh+oIxThsw5nAAMc7ZCo3uZ2yTI/1HP/pR7pMszBPf+9733BzEOcnbTtonUsHwHeyPMUF7E43d1pgPwvfpS5xORIOTzob5BPvBthh39CfpS0jR0lp/YqfYN+UKQploh9ZEdR9sCTtn7QXamHmY8UJZaEecajh/KBP9gR1zXQlCW5BCKdwO1JX+Ix879ub3nT+/IGYTvc+x88HcS8ojUsXQF5SXjX6nbZh7KSNjifO3VWcWh6Xdg3MCjgOcMRLVheh5kOrp3nvvtbvvvtvuueced19SCFwjmIO4VrJAaMP8L1we8Q5D+s1jBln5pGNyH3ik0tb0pTcvzVmZ+6ADIBQeVmVV50/MfdC1pGsbbOcvXrZGr8x+uo3S0UdZn29eaKXHFxawEAWpbWpenm01f/por1gfP7KfVV97qlVdOMn93tNoWLDKmj7fhPcl90n7IV0OOb8lqkeTaUha7dsLnKPFj05nzTj0k5g3pnBo8KZ/yYC+lhjmPWsM9+6nq7z7nohLOdd37jWjggyEEN2PRHXRcTzTaZy1wuqfmmnpdfsWB4uPGmwVN51upWM7L3hzY9I4fanV/eYtd9FxeBeexJijrPr/c53FEp0XMsXBTbFE9QMNRB9EKsRcbrwQqhFfChGXCoHrAOcgvzDnQNBk4xzi4MSP4qXPEeIQ1LGr9jgZigXnpzzYOHaIEI79dYWg3ROhzryFgzhLW/hR0rRBRxx8bYnqvHHigzDDuWl/3wY6C/MJdsVG+RGbqc/+emD025e6UkfKUwzb8udNv/0Qv6lne/uMcYjtsyHKcwzGYbHmdyFEz6MYorrYR/28L2z3b96w1Lpcihbv+bL6pjOs6qJJFj+s48Iwi0/ueWK6NXyUCyAoiVn51FHW69azrPTowvpMHPw4Ub2xyTLpjHsroqTcu5f2bKUQJKoL0bOQIik6THpPnaU+32Tp3KttjopSiw8bYIkRRch5mvH+311vjTOXuZ998OSWnnmCBHUhWgGRjWhDolZJU0IkYzEFF46FgE5kJtGVnEuC+sENNoSASmQ5aSbaG7VfTBAh/Sh5ykO5DhVBHfwIcfqBKGcijDsiznYEHuKI3CYyuhiCOjCf+FH2HJe0J/vzYdFvX+ZO2rVYtuXPm7zRwbxJ+3WkzzgGghqLJPMv5S3m/C6EEAczpMFp+PgztxCrT3xgHysbM8TivTuRupSIfRb1/Hxj7gNv3u9daaXHHWmJwYW9OSYODVxkeq9Ki/epyqYEKlBQF0L0PKRKig6T/nKrJZdv8G4g9ineJQP6WII8dBWdzxfHDQ+ry6dWeOfw8S44sQG9rfTEwCuHQgghhBBCCCFEGyTXb7PkivWWqduXDrBs0khLDOrbKXEztX2PNXnPremtu3OfmEvjUTb2aJfiQwghxMGHZnfRITL1TZb8YpOlgzn5EiUWP/oIS4w6KvdB58jUNljTh8vMmvbld+P1qNLJx1lJ78rcJ0IIIYQQQgghRNukdtRYYsSRVj7leCuf6m2njLKKU0dZSd9euT06RrqmwTtGtZV7z6rZ4x5vFd6xE8OL8Aa3EEKIHolEddEhWDw0uWKDE9d9Yv2qLX78kVZyeOduSByptKU377TkgtW5DzxiMYv1qbSyaaNyHwghhBBCCCGEEIVRMfEYO+zeS63fX1+f3f7qOiufMNxipZ1LO0ZUeu9bzw4c93qruvTkbHoPIYQQByUS1UX7SaYt9cUmS63clPvAoySWjVIvwuKkkKlrtKa5X7ic6ntJxC0+eojFjzo894EQQgghhBBCCCGEEEJ0LxLVRbtJbdvtFijN7Ni3uEusutwSIwZZYkgRVjXPZNzCMU2zVuY+yBKrKrOys8bkfhNCCCFEsfAX0AxuWoBYCCGEEEIIIaKRqC7aTXrjDktt2WWxw6ot1je7xY8bbImxQ1zEemfJNKUstXG7WzzGP36sf2+LHzvISscUJxJeCCGEEFlKSkrs6KOPtptuuqnZdvnll9vQoUNzewkhhBBCCCGE8Iml0+lM7ueCyWQytnPnztxv4lAjuXKTJZetM0vtM52So/pZ6bijLVbR+ZxxmYYm7/jrLbV6S+4TDxZBHX6ElZ6gh3vRPtauXWv333+/zZkzx+677z6bNm1a7i9CCCGEEEL0fN544w2799577e6777Z77rnH+vcv/O3gZDJpqVQq95sQ4kAmFotZIpFwARFCiP2PRHUhxEGNRHUhhBBCCHEg0xlRnWd3NiHEwQHCOpsQYv8j95YQQgghhBBCCHEQgvhGVKs2bdoOjk2CuhA9B4nqQgghhBBCCCGEEEIIIUSBSFQXQgghhBBCCCGEEEIIIQpEoroQQgghhBBCCCGEEEIIUSAS1YUQQgghhBBCCCGEEEKIApGoLoQQQgghhBBCCCGEEEIUiER1IYQQQgghhBBCCCGEEKJAJKoLIYQQQgghhBBCCCGEEAUiUV0IIYQQQgghhBBCCCGEKBCJ6kIIIYQQQgghhBBCCCFEgUhUF0IIIYQQQgghhBBCCCEKRKK6EEIIIYQQQgghhBBCCFEgEtWFEEIIIYQQQgghhBBCiAKRqC6EEEIIIYQQQgghhBBCFIhEdSGEEEIIIYQQQgghhBCiQCSqCyGEEEIIIYQQQgghhBAFIlFdCCGEEEIIIYQQQgghhCgQiepCCCGEEEIIIYQQQgghRIFIVBdCCCGEEEIIIYQQQgghCkSiuhBCCCGEEEIIIYQQQghRIBLVhRBCCCGEEEIIIYQQQogCkaguhBBCCCGEEEIIIYQQQhSIRHUhhBBCCCGEEEIIIYQQokAkqgshhBBCCCGEEEIIIYQQBSJRXQghhBBCCCGEEEIIIYQoEInqQgghhBBCCCGEEEIIIUSBSFQXQgghhBBCCCGEEEIIIQoklk6nM7mfCyKVStnixYttzpw5uU+EEKLnsnXrVnv99dftiy++sG984xs2atSo3F+EEEIIIYTo+SxatMgeeOABO//8893Wu3fv3F+EEEIIsb9ot6heX19v//iP/2j//M//nPtECCF6Lt4cZw0NDc4hWFVVZfF4PPcXIYQQQgghej7JZNJqamqsvLzcbbFYLPcXIYQQQuwv2i2qc0GfOXOmvffee7lPhBCi57Jz506bMWOGrVu3zq6++mobPnx47i9CCCGEEEL0fD777DN78skn7dRTT3VbdXV17i9CCCGE2F+0W1QHotW3bNmS+00IIXou69evt1/96lc2f/58+9//+3/bKaeckvuLEEIIIYQQPZ933nnHfvjDH9odd9xh3/zmN+3www/P/UUIIYQQ+4sOieqZTMZFfwohRE9n7dq1dv/997t1IO677z6bNm1a7i9CCCGEEEL0fN544w2799577e6777Z77rnH+vfvn/uLEEIIIfYXJbl/hRBCCCGEEEIIIYQQQgjRBhLVhRBCCCGEEEIIIYQQQogCkaguhBBCCCGEEEIIIYQQQhSIRHUhhBBCCCGEEEIIIYQQokAkqgshhBBCCCGEEEIIIYQQBSJRXQghhBBCCCGEEEIIIYQoEInqQgghhBBCCCGEEEIIIUSBSFQXQgghhBBCCCGEEEIIIQpEoroQQgghhBBCCCGEEEIIUSCxdDqdyf1cMJlMxnbu3Jn7TQghei5r1661+++/3+bMmWP33XefTZs2LfcXIYQQQgghej5vvPGG3XvvvXb33XfbPffcY/3798/9pW285323CSFEPmKxmNtKShR3K0R7kKguhDiokaguhBBCCCEOZDojqjc1NUlUF0K0STwet0QikftNCFEIckMJIYQQQgghhBAHGQTD+f9q06ZNW1ubEKJ9SFQXQgghhBBCCCGEEEIIIQpEoroQQgghhBBCCCGEEEIIUSAS1YUQQgghhBBCCCGEEEKIApGoLoQQQgghhBBCCCGEEEIUiER1IYQQQgghhBBCCCGEEKJAJKoLIYQQQgghhBBCCCGEEAUiUV0IIYQQ4hAnnU7bnj17bN26dbZ8+XJbsGCBLV682FavXm3bt293fxdCCCGEEEIIkSXmPSRlcj8XTCaTsZ07d+Z+E0KInsvatWvt/vvvtzlz5th9991n06ZNy/2lfdTU1NhLL71kmzdvzn1SHCZPnmwnnniilZeX5z4Romuora21yspKi8ViuU+a8/HHH9vChQutoaEh94lZVVWVXX755TZw4MDcJ/uHZDJpqVQq7zhZv369G5+NjY25T7JlnzRpkp100km5T0SYpqYm27Bhg3366af2+eefu/kNO6Ed+VtJSYlrc+ymX79+NmzYMBs7dqyNGjXKEolE7iiiJ1FXV+f6jL4TQhw8vPHGG3bvvffa3Xffbffcc4/1798/95fW4bndv4YKIURrxONxKy0tzf0mhCgEiepCiIOaYonqW7dutf/+3/+7rVixIvdJcbj11lvtxhtvtN69e+c+EaK4IJB+9NFHTjj95je/mVeYfvjhh+3ZZ5910co+ffv2tZ/+9KdORN0fIPB/9tlnbtwde+yxNmHChNxfmkNU9Y9//GPn/PKh7Iytm2++OfeJ8EFcwRHx/vvvu7ZjnkRQD7ZfmLKyMjv88MPt6KOPttGjR9tZZ51l48aNy+ukEd0L9+X0J2L6OeecY9XV1bm/CCEOBiSqNydT32Q1z35kmWS2XrHyUqu+cqrFKjonCGYak1Y/fYkl129zv8fKElZx6ihLDBvgfhfiYEaiuhDtR2Esouikd9RY07xV1vD+Erc1frjckqu+yv21CHg3h+lte/Ye353jg6WW3l2X20GI4sNDSX19vYviLOZGNCjHFqLYYFcI6Q888IATzN977z33YJ0PbJEo16B98vv+SPvBw/+aNWvs6aeftgcffNCJCZs2bcr9tSWUMVhuv+zUSTQHR8W8efPs17/+tT355JM2ffp0W7VqVauCOuCc2bhxo82ePds5X/j+888/7+ZFsf+gX2bOnGn/8R//Yb///e9t0aJFzd7YEEKIg5KYWe0b86z2lTluq5+51DJN+e9x2kPD3M/3HrfuvcWW2rIr95cehnefl2lostSuWkt6ZUx5z+DpGl2TDyhSaUvXNjgbS+30+s/rT/pVCHHgEP/xj3/8k9zP7SL4ergQQVIbdljj24us6ePPLLV8vaW+3GolVeWWOPbI3B6dxLvOpDZst/rff5A9vrclP9tgpVOOs5JeFbmdhMiya9cumzVrlktxcMkll9jQoUNzf2kfiHSvv/66i1gvJqSnGD9+vNK/iKKC+IngyYaYzu+9evWya665xkUcR8HbHEuWLGkmyJH24+KLL7Yjjjgi90nXwxj74IMP7LnnnrN33nnHRapTDtIkjRw5MrdXc6gfwntQROc7jK2JEyfmPhEI4Ajqf/jDH9zbC8yPHcEX2HF88DNvMiiyqftZunSp/elPf7KXX37ZpW/atm2bHXfccTZlyhRn/0KIgwdSdL344osupRmpA0lxVig4nv0AjuTG7dYw9wtrXLTGmrznp/Zs6T31Fu9XbbFE3B2rO8nUNlisdF/asVi8xGqe+9gyXpksmbKSgYdZ5dnjLFaWuxblBGf2s1beqHL78PeS7D4x79/6j5ZbcvVX3sXOO+5hVVZ+8rGWOLKf+zsQzc7xY92cZouo/NTmXda4dK01zFlp9TOXWcMnK9zPjXM/t8b5q6xx4WprWrbO6+dtXsdnXPm7u5wHI5m6RqufvdIapnv3yYu9e5/cFj+yr5VUevfV7XhrD/tpWrnB6j/+zOqnL/X68DNr8I7duCDbf8kvNrlgwVhluZXw5kUbx06u25od04u/jBy3rW2ZGm9MD+iz10Z4241odSFE4WiGFcXHu8nAS55evy27bd1lmabivnIYK43vOz7bhu3ehSdaKBJCiEMJHp4RmP/4xz/aJ5984iK2DySIrn/00Uft3XffddHpepOjOBD9v2zZMnviiSds7ty5kdHMPEz16dPHCbOkdhkzZoxL9xIlmHM80sY888wzzgGyP95oONR57LHHXPszZhSdLoQoBNKa1L27yGqe+6jdG+Jfuq775xrOufvx6Vb3waf7otFjMSvpU7VXcAz+TORv7TteHV+ebend+SO3eT6tfXOB21JbdrtnWI4Rqyq3WG7dEPdzWfZnBPiGeV94x51jydXFXWOpEBBa616fb3uenO71x8dW+8psq3tzvtW/t9jqZyy1eq996t5eaLUvzXKpcfY8/r7VPP2hc6SIjpGuz4rpu3//nteWM6zmhU+abant+1ImtkUmnXEOkT1PzbA9f/wg24evznF9xpsW9e97/ef1Z82Ls7x9Zrp96uevanPMNX25xWrfXtBsrBa64ZSxIus0QhxqKFJddIr0VzsttXGHd8NRtjdqIVPTYMmVGy29NhvRi4c8MW6YJY7JLXTnPXinvRuX5JebLX547703QJHgkV+/3TJb91hJPz8/qLe/d9PT8Oo879/cR+UJq7z+NO9k+45F9Do3PyXVFa2fQxzUdHWkOlG/5Lg85ZRTOrQRcXTkkUcqKkAUDcRN0qYgtAVBLG0tUp3vDRo0yEV38wYFG9HhRHp3Z35mxuurr77aLP8ri2S2FqmO8E7UXrjs5GBnfIns+hJENfMWQDgtDouOMjdecMEFbp4888wzXbQz8xP9j8hO+zL/Bb9Lu+O0IT/78OHDbciQIbm/iO7g5z//ue3YsaOZ44m3BhSpLsTBR7Ei1ZtWb3ZRze75qq6xXVti4GFWfuIx7g3kbsMre93Hy53AmFqzORstP7CvK0PdR8stvXmnex4sHXO0VZw80lLes2nta3Ot7o351rRkrSWGD7D4gMOyEeshGpd86cTnxkWrnTha0rvK2yqtafl6r52IVE9aYtgRVj5phDsHudZrX5tnjfM+d9HJiaFHuFzu3UXaK2PdK3Nd+egPItEj8T7neTy1aYeLuE/v2OO1w0C90d0OiCYnEh07wmnB2wDprbudNhHcKs6faIm29AyPdF2D1b+/2Gpfn2cNnt2m1m51fRTZh00pl043uXaLZ887LN63l8X79877hkjTyk1uTKe9/g6P2ba2+KC+VjHluL1vgShSXYj2I1FddJjM7jqXL72RqIG6Jov19W5EvBscJujUF94FPJdHPdav2konHWPxIYe7RWWSy9Zb4xsLLOX9Gx/cz0r65hdr0rvqrP5PH1ty0Rr3O6/2xRLeTZF3AWp4c0HWs+pdwzhHxWUnu30Q0ptmLLMG7xxp74YxMfZoF9kuDk26WlSvqKiwv//7v3diXkc2REzdvIhiwoMzUd5ffPFF7pMsbYnqpHghMhkR1d9OOOEE973uXIySFDSkJgkKhW2J6ogLLJ6JiB4suxxWWZi/yJ1ORHlwIVpgDsMJwYKuF110kRNshg0b5gRyotRHjBjh7ILPWFB53bp17ng+9BO/b9++3U4//fS89iWKz+OPP94iF75EdSEOToqW/mXtVmta8qUT7dpL4ugjrPykEd0nqntlTm3bY7sfecsFcqXJHb56sxOXiSBPrt5iqQ3b3H5lE4Z7z4BJF8mN+J3etjsrHHrPhaVjh2bLHLiXQZwnUrhp6VrveDWWWr/NUlt2ujQYnDO1bpv33NroxGjehm6YtcLq3lnozk8qmkyD97fBh1t8UL9uu0ciUp1y7M3x7p03VlFqJZXlFiOIDL9BKOoYcZi64RRwzoHuu507IHFi+rJ1Vv/2QvdGB5Hc6c1ee+dxYFReMNES/dsW1RuWrLWap2da0/IN3i8F5v73zomQz5sXpUMHWLwf58n9LQCOMhxIaDPtBceQRHUhOodEddExvJuX5NJ11sjrct6/pF/J7K7P5v6qLrf0l1st9Zl30fAoOaK3lXo3YAjbTR99Zg1vejck81dZxrshysRLLDH6qMjoASeOkxvupTnuxoY86lbfZCWH93ZRAY0zlprt8ezQu4jFB/e18nPHu6h5xPRG7xypz7/ybsB2WHzEIJcrLBjFLg4duiNS/Rvf+Ebut4MD8i6TdoN8yeRNpu7cYHU27zsRrlu2bHERs2z0ye7d3kOPN58g7BX7oQSxiXP49eBcpLFg68i5WOST/qfsX375pW3evHmvQIkdcCNaLGgr+oDzUH7smIdihLK2yt5RUZ0+5m/BrdC24py0xVdffbW33EQvk+OZzyk7xyrkRr0jojptz/HDZW/vgwH3NpQbe2HxTvobO/Lbppg2Sv127tzpRGr6mLZj7HEeIseLeS5s4YUXXnA5uINwLpx7t99+u02bNs2J5lHnpTw4XWh/fuY4wXQj9C+iOn9HhO8I2Alja/Xq1c5uaAvmBc7XESgT7Ut/+nMAv7fHFtuCPsQ+sBXOw1xJeVubK3kDA7tibqJM1Je+Z4z736dfCqGYojr9yZxGuRi/jGN/fi5WewFzG+eh3vxLf9DPxZw/hTgY6TJR3Xs+Ijq7pG8vF8nc2pbwnqnKxg+zkoruc54iJJNnOrXdK28q7aLHk2s2W2qzN59v223pnbXeZOztGI9Z46IvXXSxec+QgNBMzuvyice48nsXOPc5IFQS8U00N8+ciNH8nNq43aWCSe/0zodA7U1NvF1NDvr0Nu+ezztXDCF7wGFWOvpoS3jHJw97d4CY3/T5Rivp38vKJhxjFVOPd/neEcvLJx1jZWOGWmJIf0t7z8sZ2sUnnXHtVXHG2O59y+AAAycMjpO61+ZZ/YfLnK7gbK4VChXV6TtsM73VsyEEejSQ4QOyfXfSSCsfNywbgNiQdOXYK+J7/+BEig/sZ4mj++9NRRSkhajuHTs7pqtbjOHwVuqNacaHH4AoUV2I9hPzLrK5EVs4/oOgOHRJb9llDS/NtYZ3FrmbG4hVl1ti1FGWmDjc3ZQ0vjLPfR4fOdDKzh1v6Q07rIlXk7hAgXfxKRna3ypvO8tKvRu0Zng2xv41v37DUkvXZz/z9o8x+U8e6UT6uudnWXrFRvd5YsJQK7/4RGucscydw+r2vZ6emDTcqr59kZUcVu3tm/tQHDIg0tx///1uEcb77rvPCUcdATH4r/7qr2z58uW5T7KQFoNUFcUAAcMX7v2HH59jjz3WPUT17ds398k+KBOLD5IGIAhlmzp1qh1//PHeMIk5MQcHw/z583N7ZCF38qmnnuoEHcSyhQsXOqEPkYfvILQhqHEcIlqPOuqo3DfbxheQOCbCHkINx0W8pI48FFInIooRg4gwbivVCOIPYhLlDXL99ddb//79nSBHe5A/2j+ff66BAwe6VBY8lBYaxYxoxWKZixcvdmIT7UzKC248Kethhx3mnDVERvtpMvJBHy9YsMAdywdBiUhg0gFxLtK2BPsAcZFjIiwfc8wxro3YPyhCUT+EuWeffdb9/P777zuhLwj9eOWVVzqBDCjrGWecsVcAxDYoV9BpjjB36aWX2oABA3KfNAeBbOXKlc5uEC4RVmkbysxDPOIgx2CRVN7KoI8p++GHH547QhbERcYo45V+Y9HF4BjARrA9UowAx6Ls/gKqCIGMw6DQy3lpK77XGpSTtqLu1AGhj/Ij8lJ+v+3p47Fjx7ry+22YD8SPDz/8cK/TBSjzWWed5Y6FoIgd0HaMD+wCW6SPBg8e7M5B1D3t1FlxHWfQm2++af/2b//m+icI0ed33nmni1AvRNSkTyjvL3/5yxbzHuU/7bTT7P/8n//Toszk9/fHoQ8L4HJ+yoTt0e+0PfvR7tgMbcG4og/5vZC2oL60/6JFi1y/+o4dYKzhXGIOo415u4H+yAfjkX5iPPpQNr6Lkwe7nzFjhpsXGDfMB8wr2B3XGt8hQL2pl9/n2Ctlwl4ZL+yHvVI+39ZwdjBGw3Vmbps9e7abW5966qkWojrzNPMbxwLeHmDcRQn1lIuy0PaUi/mSclEmzkuZ/PbiGG21FzDP059BW6MfEfo5JuOCOY5+AY7HsZn//PEthGgJa6WQbvDuu++2e+65x93vFALjnHmROQPqPlxmNU/NsOQXuTeKyxNWcdoYK5t4jPu9NQhSKj32yG5NecJbzo2fb3SLb5KPOrl83b486YjZvpQR+BkxsdR7Ji0bc7T7t/SYgV6ZvTkwMJ2ST530GgjrjUvXef+uzeZVR0TlWFyvOFzgZ551ESER08tGe8+8I737yMP25XLvapwjYOVGJ6ySDiTO297BlCBeOYnAr5/zue353dsuAn8v3n59/+o6qzj52NwHIgwOnN2/fcfq3lqQ+yQLgnNi5CBL7ah1KVaC9Ptft1v58d5zEXbSBm7sPfa+60cnpJ84wqXHjaNRxEvcG/qkIiKnOo6jvbbtUX76GOt14+lWOqzl/Xjtu4tdFHxqXTbwC2dSxSnHW9n4tq+p8YHemPbK76eW4V6urXtcIURzJKqLDoG3u/GDpdb04XLv4uLZAnnFIFHiPPfkOE+vyi7g4tLCeDdh6bXbsp5X9yECebklxg61svPHR4vqX+2y2senW4q8cc1uCkpc9DkRFhlex/KuYSVECXgXkJR3o+FugHLEjujt0r9U3nqmy5MnUf3Q40AS1REzHnzwQXvllVecyBaE6M/vfe97TlgPiiMIF7/73e9cGYKiOgIZdSWKHtEcMQMB54EHHrA//OEPub2yXHfddU6QRuxAjEVARlQJguiDWIRIf/755zuRqy0RDtEb8QfRyRekg/mYgyAA4ThAqDrvvPOcaJUP2unrX/+6E/eC/OpXv3LXp7feestFOkedjzJTj5NPPtmuuOIKJxJFiU0+CNukzaAO9D3CWBjaFmGdY9HmiFj5HA8IWLQ/Oc99+O7ll19uN954oxM/OR8iF8JuEM6D6Erb0wdsvlMAYZg25oG7UBBS//Iv/9KJZkD7IdIFbQ/B6x//8R8j+4N+oKzvvffeXpHMf2iPAnEa0QwHDmXHpqkTIDb+5je/cQurFgKCI2WnzQGh8a//+q+bCYyU/Wtf+5qzlSj8exlsHhGfCHlERT6Pwu9jxEHKj4Mm3xjABhGxcXT4IJL/4Ac/cO309ttvuzmJeSXcZtgj7YQd+cKz304dgfOxOCnzRLBuOFPOPvts++EPf+jqViiIMzjm/uZv/qaFoEubM4fRNkHoB8ZS8Pw/+9nPnCiEUMTcw9+j2oJ5gbbgTSPGbmvzDv3pz2OI6tSdsRGGeRsHFfPZOeec4yLsoxxs9B/jlfbzQdynX/gef2PR16AjCjtnDuN6wTGpE3PRyy+/7MRmHCrhsR2EvsaZgo1zHLZg2X7729/ar3/967xzaRhs7rLLLnPlDkLfYYMzZ850cwfXymA9gvBd2ov5GccQwn2+efOdd95xc0nQqcf3rrrqKjf/vfTSS+5f3xaoL86Db3/7266fhRDRdJWozhvGvb52llVdNtn93lPJJNPWtGqTSyNa98lya1r8pXtebEZJzAmVZSeOtDLv+c/lPM+Th3ov3jWiaf12S3623onRiJot0mh4xy0deaQTQsty64QR5dtTSdc02I5/f9EaP/4s94lHvMR6f+siq77oxNwHIgypX0ivs+P/Pp9zrpR4fT3ARXKXevZErv7G2Z/n9s7SHlEdRw452jPef+UnHWsJ3qQPva3PQry7//iB1b210DK79gUPJY4fbH2+cZ6VndDyjeuwqF7Sr5f1uukMq7q4/X0tUV2I9tN2WJIQEbDAaNkZY6zimlNcFHrcRQAkvKfttEsF4wvqkNlRa6nPNmYFde+CEzu8l5VOGWnlV02x8stOct7RFngPWbzaVnH1VCu/+hQrPX2MlQzyHvq5XnnnILWME9TBu58iqj1F1Dr3Vt4+JUf1s9KzT3Dlq7hyinfjU5n9rhA9GIQL0nMggocFCwQKotiJ6PXFCB6QEEQQkcJR6giWiKZ+lHprIBwhyiOoIm6GBXXggQzRhf0ee+wxJ8YEBbIwiM/s+8gjj7jXlYkcbU0EQmRC2CEC/aGHHnLiamvHj4KoUcpG3uh850NgI03Da6+95oTtsNAXBCHs+eefd2XCORAlqAPfp/0RZjk/36GtCoXvE6HLIpKcC8EySnRjP8qAwP/73//e9dX+grYlxQz1RVin/GFBNAxOFoRroukR1uiH/QV2QJmJoMZGEbmDYysKBFv6+NFHH3XCJlHtUYJtPmgfv+8Q3RHwo9oM5xeOLdoJEQXhvTPgfMKWw3VDACcKvD2COuBgQ2BFCA3jv+1SCIjLtAXjlbbM1xbYDKI2YwObydfm9A9zJMdEVKfd8u2LoMx888wzzzgbwIlVaF/SjrQn5WaeCgvROCtwKvBgyr70M2VnvolyloXhO/QZzqqHH37YCfHFJjg/48QlSj2foA440HBSMEdh/8z/UdeJfPB9HJ3+uA/bIo4IotmFECIfrKlFVHjJYW0805H6oo+3n7eRH71NvH1cKozDql1Ect5D8wxbXW6xPpWRKTh6ErF4zC3mGkZrjLUO7VN63GC3OG38qH5WeeEk63XjGVZ93WlWPnGEZ4Od63eOX3HOOKu68ERLDPL6JySoA7nNceCUeHYWhPz+iPJCiJ6HRHXRMbyLQHzgYVY2bZRVXDPVKq49xcoumOhSvURdILhDIWK99FRv/6vY/1SruNi7oBzvPUQhxkeRiLtcYxUXjLeK60/Niutnj7MYXt08ILxTDiem3+BdAM8d5/KTFeI9FqIjIDYjTnRkQyjn+0EQq66++mq3SGAwIhMRAgEdYcKPJEagQXQLi5OIZUTSEo1dSB50RDBfsAfEIL4XFamAaIaggrgSztntg2CFqIXgiiDWHuERsfaDDz5wwjqiV1h8aQ1yRiNacn7qQLQnW1Q9EOtoz3xOBCJcaRP6KSy2IioiRBIlFmxf9mFfvsN3w46OfCBmUVfKjxBIvxORTsoV0i+EQXxEkKQP2hKyuwpsDzEOGwjasF92REXahzcQwk4d3q6gjxHp9gf0E2MIkRNHElGz7QHxFkcR4i2CaaH2jYhPH9PX9Dm2Q/oabCkYieyD/eC44A2J9oyDMAiolDMM540SxguBsuP8C0NbrFixIvdb6+BYwA58kdlPgRLlBKQO2Fu+ccW8wZzDmMChFhwXvk3S1uHj+28q0C+FOsKYO+gTnJlR4485h7cZwH+bg3k6PM8wL1Em0gLRF+EIfPqcawTR8MUc59geb8Q8+eSTbhxTn0KhPsybOAlIidOaozQI9odjMsqRRp/wZgaL4gohRAvSGZcHvvbNBbbniRneNt2aFq1hksztEMDbt2H2She1u+epGVb3/mJLbthmmai82N7XU5t3udzZNc9+ZHuenG4NHy93KUBa4B23acUGq31pttU8OcNq35jv0rAgdPZEMqmMpbc0zypA3vfEUYW93XDIQlDfYVVWdeUp1uuG063XTae7NColLAJbJMhp75wbrUkTOHdC2oVzEEnPEKJHooVKRefwLj4xFmvpVWGZZCobpc6K5OGsQt41gH0SY4ZY6ckjskJ3W6/j+XCB4wLEOWobLMXrinuiI71i/aqtdMqxVjpxuMX79XLfFYc2iDFE+iGcdcVCpYhIRJWSAqC9G6kMENHDoi8RewjDCJZBIQbxg/r4qQqIsiRyNrgPx+L1fF61D6cgQZhBEA+LmXyf85ESgcjVM88806VFIM8tYhQCZDC6EhEVMYpzkTs4KAjyNwQnUnkEX/8H9iOVBek/EJ3IT42gRNty/iCIMIivOAbCQhjtgCAaFqn8VBqk6CA1Azm3STuAWIMYxDmCAijHIVc30fzBaF3ELIQwIlGJZPehDIg/tC9pM8hbTH3YH6HPPzbn4Xx+/wbhc9ofZ4MPZeZzyoMYzfEpP23EGweIjbRHUFjlXPQL+9FHQHsg6lNf+ot2DYLATfog6sA4QBSlv337wzYoV1Bko+1JdeHnLgf6GEEubHuIieTUPvfcc11+ZGyD1B2IhdhLUICjbH7eaOrH79QHG6Q8YeGUSFbagr7le/QZx/dT11BvhMvgOSg7x2e/INSP/iUKmHYPQlloF8pP+yM6YxuUJ3hs2h/7pk1JjRN+s4SxS/sE7dq3c/YlhQ99R7ogykjbMbbDfUabUG/KkS/dRlsQhYw4H64rdkBaEN9+2gP1x0lAOwahr3EGMT6CYC/UJQhzKcehfZkTGK/YJ/ObbzNBMZl+460a5iXmjeC8gziM0Mvc449DYDxhk/54oh3pY9rat3P6lbnGdzLwdx/6i/FKeiMfjs89MN+jTygLbYktMkaxzWuvvdYdB6EeB2HQccPn9CnjinQnzCOMQxypOPOCNgO0E/M5YwDYh7KzP+0RFtypM8dj7mGsUG/29cc5qZJweGK/wbaiPSkXfeDPz4x76so49+cfv++pP/MfthuE4zKXBMcw5eUYzKG0E+1Fu9EWtPuFF164N5WTECIaHIZdslBpadzKRg+xBLmavV2cmNdTnp+8Mqe858o9j3/gFpBs+tQrd070jg/t78TOTE1WkyDntTeRuTejqVvy842WXL3Z0ttqXB70kirvGhqoV3pXrUvnUUdKj3lfOIGdt6FJWVriPU+6RUq9Z1sWOmXRR9YQ4zvkYU+u8uber3ZayeG9syk8ekp7eRDN3Oj1b92rc5ulXSUVTvU1p7pI6O4itW2PJb/YZE1rvDbbsL1DGzn1SyrL207jUyRing2x2KuLFq8M3HelM9nFS3MpVnwKXai0Pbgc/4vXWCagd8S98Vl+ovf8x7lChBcqjVWWurUEWNjU/R4V8JgH7r+C91dCiLaRqC46jneDxiroSW8Sb/xohTV98lk27Utu4dIwbjXrrbvdSu3uIuFdfNwK5K1N9Km0pbioLlhtTTOXW9PsFZbxfs8Hx017N0WUCwE+VlbqXtXrSTc7onvpalEdEIs6siH4IiT4YocPNzMI60T1IRYGxTwEFfZHtPPTbgRBoLvhhhuc0BeOfMwnqgOpZxCfbr75ZtdOviiKyMLDGGUJCutcA/gcATIoqiBOEfVJ9GcQX0gkbzi5zBGOeShEIOP7COJ8NwjnRJimjYJ1QaCJEtWB+lMHov158KR8bLQZD6RhYRHhlXoiRPlQFlJvID4FRSf/LQLal/ZBuGIjIpvvBKOBEcYQXCkP//pEieqA2ITIRG57jo/YiqjF9xEpiUznHEFoE/J0+zm3iR5GkMSuqGs4KpR2/ou/+AtXdtqGdkXQ8tu2UFGdOvDGhO/EYMNmeTuC/OX0rd82tC2OC38BUB/aFWGNvkFIp+wIf9QXew/bKP1DOVho1e9XPvMF0EJFdUQFhMj/+I//cCk8glAGxD36gHNRD75Lm1JG9g/e+1AHRFP2oX2CNholqgPthOCMjXIOvksZEWKZE8LjjHPQLvRVR8RvIHKcVCLh+zbsmbHeEbGecjEXEvEcBDukLahbkChRHRBYSXnFvOC/XUObMP8xH2AzQdGYY/iOMPoEcPLgYMQmw04eynHLLbc4wR6boa1pTwRfbMZ/y4L5nXagr4N5iqNEdR/mTMRnbJLj+0I2/zL/Um76k8hu7A7b5F/a55vf/KazM8Yv+/rzFH0UXkiatsYWsXdflGbeZBzgLAnaC/A5dWY+52fmcNqK71If0rdwjuA4ZxzhSGV+w9GCE4K+oJ1584n2YqMsQN3oH9qYNgvaUJSoDpyfuYqFjxlnHJ/vsnFu30EmhIimq0R1npD4W2rTDmtavsFFZCOEJjd6Y56czt7YZWHSglKpdAHp3bVW88In2TW8oDTucptXXXySpXbVWWqjd+/olb/8tNFWMflYKmvp7d69nvcMyXMhAmP5ycdmhXGvLj7p+kare3eRJVdsdLm0WbOL1B+V501wz6epr3Y4QZdc2hVTj3ffpz34DLE65jVH2fFDLD6kf4uo4i7Hq2+moSm7vpj3vMvmHAle3+IgIKo/tTp3z+UVjRzb1ddNs7JRESlXu5DGZWut9rX57g2AxsVrOrRZU9KlY3GaQXfgtVekCN1NojprB9S/v9iaPvPu4QOaCoJ6+aRjInP5h0V1ysJxUpu2e8dhTHv3O25Mb3dOKa7HsQrGdMsycy8rUV2I9rF/ro7igCfj3cQ0zf3C6l+YZXVPf2gNr861lHcj5jziZYmskO3D71wAvJsbBO+mGcus/invO89+bI3vLLaUdwPQAu9mgZuDhncWWf2zn1jdUzOt8a2FbrFTBzd3gXO445PfzrvgpddsscZX51n9kzOt/rlPrOG9T7NRDPuCPIXo8SCwInAQ6esLh8CDEYI1ebsRhYIgQCMiIeoEv9MW3Fwh2rFgKSKRL1YhMvI5ohdCLPv5+OIkwrMPZaNMCHj+wxtwc4aYcvvtt+9dbBARBrEZEYrz3nrrrS1EFYQbxO2wEJ4PjkdZibRHgPTLi/iFiIOIG75RJBo2LDYS9YowFBRoaQuEbo4TFJh9ZwSLCQadCxyTY/AQXAgIwDwo0+e0jw/nRWzj+GFo76BQzTEQ6PIJsDgWEOPYh403GTpy48x3LrjgAieg02+0OUIcG/0ZPCbnRDik7cMgBvoiKOIADi/Khe0HbQ2wF8rrl53jBZ0VhYKQiOMgLJIyXhApWACOqGn6kjLQv7Q/C/5Sv/C4wrFAPvYoB08UjAP6GAdTsPyIyIjtUQvcYv/hCPb2wDgK2rIP/YR9dQQeuqLan3EfFnlbgzrfdNNNTlj12xZbYEyxuCntEXRWAGlEgs5N5iHGLGM5CM4l5hva3LdJ7AjRnvUmgjZJuYno5ziFQJkoM/ZPFDnlxSmAmM38A9gPDjHGCRuOFAR4RGX2DbY9+zJmmV+iCDocEf0Z44wDxlcYP+LeHyuI4n4bUj/SfYXtCQee79jgTRfaifmE6w/1o9xh26RMiPM4zAoBZwjOAdqMfidKn2MT1a986kLsP1xk87xVVuM9zxERvvt377htzx/ec6lWav70odW//6mRRqXFm8hdjTc3Jgb2taqLT3aiN+Kwy3N985lWedYJlmn0rm25+03qUXXeBKu+4XSrOGe8izbnWbHqgkluLTCOFSTet9o7xjiLD+zj8qSXTz3eqq+fZlXe8V0EfDIXVOE9v5aPH27V155qlRed5CL6WdyVhSaJBm5PFHCxcH22cqPtecbrMzb6jpQ3T07PpsdZuDq7o9dmiRGDrOryKVZ5xtjsZ90ITo3kl5st6ZW1o1tq4w6vvtEBewcjyVWbrGnlBuco8cGOS0cOcjZbCOgxjXM/z47pPzKm37bdj/pj+gPb8+xHVj99iSU37dg7foQQHUeiuugQ6boGJ6o7oXv1luwrct7NiluE9OSRFh8zJLenZ2TeZ4kpx1n82EHu4s4NWWZnrTXNWmn1b8y3lB95EMSb3zO7663hjQXWNGOpZbbkItxKYlZyZF8rO3ecO5fDOy+flZ833mJH7BOSiGhofHexKyPefCEONBDeEMkRZoIiI2IGApIfZQkIUaTdQBBECGwP7I/QhBgfFjP5HZEFASQsehM1GsyfjLDI7+Ec1YgzCE0I9lEgplF2ohXDIEoT9etHSLYGog+RqJwvDIIOYm1YRET8DrYjcM5wDmqEdATpYBSrD+IiIhYRoUEQvAsV1Skf7RMlhnN8RLQwCIGdEVs7Ck4X3wFw11132b333mvf/va3XRmDAqgfzYroxhsjYWj3cNt3NdgokcOULQg2gyCaT9xjfCH+Rom85NYmAjjoSMoH44xI6SinFyIvAmgYHAGdaSfKVcj4aQ8cM199C2kHoE0RVRGBw/MOEMmMQyMs3vPGAKK634ek3+L34HkR0XHm0NZh6D9EZETxIIzX8NsI+WAMcAzKF4R+pV5AGbAnHFDY1ne/+103VhCvg5HdQB8T1c5cF4Z6tcdR0Rq8tRUU6IGyIKZTlygnC/Xx39oIlxtHRFSZo+A6gnM2OMfRXoy9oCNOCLH/4e1i0puQbqXOe1ZDiCOfeNPnG5mUcnt1E/ESqzxzrFWcMdaqr/bmkFvOtNJjj3TPfzxP+kFT/EzRyk8Yar1uPN2qrpjios7LJh7jonKjKJ843CpO94572WTrddMZVn7SCBcRnUbQzAm5BGYhYpcOG+Dtd7JLoVJ5wSQrn+w92/rPot0MKVebVn3lUry47bW5Vv/OImucv2rvGwguQr26Ihtp77VfLN8aZqLHkNpZ496ecNHwvgPL68dS0ueOHOTeGOkQ3qF4w8KN6cXemPbsBQda7StznB0JITqHRHXRIVjEo2TYERbrk3v1sDRu8WMGWPmFE6384kkWHzog+7kHUeSlU4+18qunWulJI7NR5ZCIW8mgvu6VrhYgnvetssSYo91NE7DSemLcUKu4copVXDWFJ2P3ucO7UWBh0oorJlt89FHuBszhHScxYXj2nC2f2YXoNIgCRB52ZEOEbU1MQPxBkCFCOkps9WE/RE6EkWCUc6GQVgBBLyyY+BANyXGJ+AyC0IMQ5UfBIvCS0zgMAhSiTJRw5uMLO2EQlFjYMSyCRtFW9DJOgXBkJ2JjUIzjPES+hlNVICxRX9KwRG3UPXxuHB84GAoRGTk+olMU2AjCYxSFtEtXQ9mJ7Eb4JR0K6TL8tylYZPG3v/1ti3Q3QLsUW+xtCwTTcJQ64wf7RjRsDZxbOLrCY5Y+JmK9kLrQx77oGgbnVtQY5LidaSfKGyXi018dFWvpuyiHDmO8tTEYBMGb9sg3B9IvCOP+mzM+CNDMO774zboH4fFKO1I/nGNR45X9OW9wTmIeQ5wPpy2JAidYW/N3GOrDHMRYJo0XDkhE7tdee82eeOIJ+93vfucWv42iGOMcG8LJF05JhLORNC+tXWNwJuI4DDt9aC/aOOpNiDCMn7DjUQjR/fA85Z7j+vfet/XrZbHelVnRLpwSIp2x1Fe7rO7dxVb7+nyX57q7IfVK71vOsuorplhJr32BEy49TU5VT/Fz7n6LvNPsiwAe959VI4hVlLnId8R6RHPyaTsBMiekQ6a2PpsexoNyOHH/utP2Cvs9F69sXnuk1mx2wnsDi7t285sG8YF9Xeoc3hzo6FbmPfvHKjv2Vt2BBKJ3/YxlbqHd9O5992bxI/pYxWljLDG4+folQXCYoJu0GNO9KrLOlKgxvXGH1b290C26m9ocEeAohCgYieqiQ3ATUnrCUEt4Wwzxe9IxVn7lFCu/aKKxaEumbl+kl39TUnbiCKu4/lQrO2eclQw53E34Zace7xaEiSJWVW7lZ53g9nULkJ4xxiquy36fG8KMu5GCbOS729+7MXLnOG2Ud3NYYfFhR1jZWWOzq2wL0QUg3pCnuiMbQng+IdsHEYZoTqLI8+2L2E2aA17Vb024zgdiSlSEbBCELUSRIIg0RP76Ig0iF4J0EF9kCwvyYdgvKhobEGoLEaYRq1oTuWi/tkQwvz7hyGDEI9J8IBBHbeQ5RawLgmCJQFeI4ITYn084p20oO6JcT4MIdERq8pk/9dRTLl/zr3/9a7v//vvt3//9351IOGPGDNd+UXTEXjsDfRF+CwGbIG1NVCqNMIiPYRtiHATzc7dGlGPHpxD77AgcN0rIZ7yGU6YUCiJvVJ/Sn/nsOAyielv15c2AqOhpyo24DkReh50DlA+7ixqrbDh7SIMShlQ7hbQJ0dVRb63kA9sgEp287zibWCj0kUcesQceeMB+8YtfuPHCWhRRZYJijBPmNtoqPB/RD60J6j6I7+HrBMeivdp6Y4a5i2tI+G0nIUT3gzhXefZ4q75q6t6tin+vmGJVl51sledPdM9sJbz9GxDjSEfRMP8Lq5+1wjKp7nWIe5OgxQd615ZgeRrJbe49b+ZuD9O7vHvRgAOaBTnj/Xp5F/nW753YJxgBnPHm60yDd33J1TGNwE6amRyke0Fcj+WJfu8OyG+P2Fo6Yfi+jefyYwZmF7KMe+1E4MKuOmtcuMZqnv3I9jz+vuu/7oToahwQfe46v8NbxbnjW3WMHAyglTTMXWl1b85zC/P6kPal/PSxVj5+mMWCi6aGKD36CKs8b2LEmPb+vXTy3jc2yB4QDDIkPQ85+Otnr/QMvXsdLkIcTEhUFx2mZHA/Kzt9jJVfNMkqrp5qZVOPc55k8p4F84Cxcrrxu3cTEh96hJVfOdkJ8IjdpSe1ErXETcvgvlZ+6UlWfvGJLhI94S+wklt8xkFEgS+wexeK0nHDrOKWM6zswklWdvnJ2ZuLbhZuxKGDLyJ1ZEMsKkQsQchDVM+X1gXBmnzUUeJTISDy5RPsfYh0jYpARbzyI0b5GeEmCPXje1EpWYKwH9GfUe2B0FWIqE79WxOeEfDaam/EuSgRnMhSFp585ZVXIrd33nmnxcKXlBnhL9wmUVDu1vqPvxdiK90FfY0A+Nxzz9lDDz1kP//5z+3BBx90giHthIPBrzftHiWeUp/urBP9Qd/69upDGdpyKvmwX1SZccQUEk3OWMgnJHdVHyOoR9WPMocXsy0UROKwEwkofzj3dj5oi7bqS9mjxjTjChsE7Czs0ODvc+fOjRyr/kakeHheYfwXklKJ+bKQNFscH8cTb27gYGKBXMYKP7/11lvuLRzecvDLkW8ebm1eKxTq5rdZEAT1QhxK9EXUHMV4Co+pMBxfaV6E6BkkvOe3yrPHWfWVU/duva4+xaVM6X37udbnrgus923nuNziiaObOw/T23Zbcvn67EKg+5t0xirPmeDKyVY59XgXdNVpvOOWTzhm73Erpo3xniV7lkMwVha3stFDrNfXzs5tZ7mt+oZpVuX1p8sVf1QgstmrU9OSdbb78emW2tZ9fRfjrfQq7968V2XHtwrvuhiOtD6IIJVP44JVVvP8J5Zk7bicuI2jhxRDjFUcKK3BOK06d3zLMX2TN6a/4Y/ps53DrJldeCDis8hpek9hawMJIVoiUV10GDz1iXFHW/nlJ1ti5KB9FzxekavPRpA5ENlZKDQH3v3yM0Zb+WUnWay69dfEiYgvI0LdO0eJvziH9/CZrvWOn4uAh0xd095X8wBPbMU1p1jZKcd7Vxo9xIkDG6ILEXWjxF7glX5y2xYiBkWB0BIlthQCopgvjAV/DtKWcOaDsNSZ70eluAhS6HGKCe3qR9S2BmVrS3DaH+WPgn5CDEQYJOrXj0T3bQgBzU8XQZ58FoWMSvtAfbq7TvvjnEHo47bOX+zyER1MiqcwzCukawoLy4WAkI0NhEH8pd8LoaNzDoT7sVhthjhfyBsHzDWFODFJM/Pmm2+6iPQ//elPrr19AZoyI1QTKc5aECzeyRoaURRDVC+2XfkUctxC20sIsf9BzCPCuOrik6z8tNHuTeC9pDOW2r5nv6SACcMzYp9vXWR9vnup23rfcb77rLNQ/6rLJ+89LoIk7dGj8K4JLFpZPvqo3DbE5ZKvnDbGCaq9v3mBi1Z2bxv4eNf65MoN1jBnpfdz7jOxX2Ex3MZFa2zPnz605BebsoGIHqRsKZ80wuX6L8Wx1cnrt8swcNxgq77kJKs4ZVSzNzMIVHRjmkVLhRAdQqK66BR4oHm9LgjidjBSnVeamkWug3czECsr4LU57xriUrcEX93zbgT2pX7J4d3kucVqAsQS3jkkqIsDHIT0d99916UNCOcN9iE9yuuvv+4W7OuIUFVIdCblCKdYAERCPwqdn8PRmwh2CHBtRWuzHyJfVLQvomAhwg37dFY4QviJitok9Q257aNy47e2nXjiiQWLSV0lehUbBHQEQhb8DOZnpp/IgY0weMMNN9gdd9xh3/ve91yqo6h85cXor/bAuejb8BsXvu0VAs6tKBGauhdD+OwKyHfPmyzhtiY1Eal7qFN7YC4gyjtqgUrmgnxpnMJw/rai+7GvqDktGPEfFQHNZ5MnT44ck61tLKRJe7UFfd2WEw9nGu1LqhkW6/WhrETzs84Ei/3eeuut9q1vfct+8IMf2He+853cXs0pxjihTbD/8LG4rhTi+KMvoq4B9EV4TIWhzm21lxCiZ1HSp8pKRx6ZTbsSIFPfqKjWnow3xZf0qnARzuUElwXxbl8a5q/K/tANINTWf/yZ1b2zqMNb46dfNksre7DgBPXFq23P0zMtuWLD3nS5LkJ90giruuYUS4wY2FwD6STkWS89drALPgxCuqP0bo1pITqKRHVRdMj5FR8xyEqnHOu2xLhhVtLGa0vthdf7/OO77eSRub8IcXCBKPPyyy+3yFUeZs6cOS6dALmd2wuCIgv/tQaie3gfhBIiLdmA1AXhvOsIkAgxq1ZxE58fxLV8+YRJb1OIYFkM4QlxKEqkowy33Xab/ehHP2rXdvPNNx90eYSxNRYeDTpKaLfTTz/d7rnnHvvhD3/oBHUWniV1EX+LEk/pr2L0WXtAVBw8eHDutyyItthnlGAYZtmyZS1EXo5JvumeKhqSVon1FsJ2iDiOI+6DDz4oSFQF+pGc9OT/Dn+HMYOgTlsUAkIzNhTlpPBhEdiospHOxk+V4qfSCsKcdN1110WOyda2O++800aObPt+ArsNzxFhyDU+ffr0Zil2mMd4a+CWW25x4+T73/++XXvttTZlyhT3eb4o+fY4bPK1J+MQWwjbqb/Qa2v9wN+4toSdT/QBx/SvAfmg/G21lxCi50GEa7NIdWCuyKWoED2YeImVjR2a+8Un+6ZBd9H02Xrb/ft3bee/vdjhrfblOZba0XyB7QOdrKC+xvY8NcO10V5B3Rtv5SeNtOrrp1nZcYO7JDgwVlHqcrU3g+GsMS1Eh5GoLopOfHA/K79qilX+2QXZ7fazrGxyEUXvEu9hdkj/fcdnu/t8i4W8rkIc6CBiExFMRGhQyEPAQPgNCi1+RDvRw/ki2vNBpCrnyPc9hB5EfcSXIIg0Rx555F6xhDKx4GNYKCXCEXGptbQKiGuUPwyC5bhx49olKnUGzoe4FV64j/oToZ1PeKINFy1a5JwgiIX83lae4a4m3A9tRQUXCs4PooyDIFSzWC6R+dhBEBwy7WmLfEJ7McqPCIjAHITjInwuXLgw90k0iMkLFixoYcek78CZ1FNFQ0RUxiVvEYTBrnHa4Shpq49oJ/Z/9dVX3TwThvkAGyjUUcL8RjqUfPMCcx7Om/BbNNjXEUccsVdIJ+o7/IYMecw5fj5HCXMd52bMMvexL3NQoTZGHduqJ+fg+EGwP+YzhPRwSh7mlqhFUgs5V5B8cxTHwDkYFsARy3GusHZFPpj72CcsqlMHrgFtOZTaU34hRM8hU9fYLIWnoyzR6qKJoofgXQrov+Z41xPeABf7DRb5dYL6k9Ot6bMN3gNcTlD3xlT55GNdXvzSEYOKGqG+F+/+IGpMk3WA3PdCiI4hUV0UH+8iUFJd4XKnu61XpVkwd1cxSGRXXg9u5HgXortBwEC46cwWJYLwOeIVYldQVEJcPvnkk+20005zEYJBWPDujTfecEIOInuhIKaRH5lzhaNCKRuC46xZs1qkiSBCdNSoUbnfsmI/+ZTD5aL8COYIklGpHKgrIl2UUMfxyMfdXaI6IECGI+4RVBHMaeMwtBmLc95///1uIULyjD/11FP29ttvN0v70F0gYEUJvNhEPsGtPSCshQVYRE1E1SjxjAVco960oCxR5eEY4f7GblpzyhQKZSQtSPj42OATTzzRYrFZH5wITz/9tBMgg2WmrGeccUYLR0JP4+ijj7ZTTz21xdikTYm+Z7HZ9957z4318ByA0IxAzBzxzDPP2B//+McW8wv2RpQ6bysUCscl4p1o9LCYTRvjvMHREU4dxXxAiha/D3GSkMM/aHuUj/mGxVSjjs1YfuSRR+yXv/ylPfzww67vX3rpJSccFyqstwVlCIvQtBPzZtT4pC/mzZuX+20flDdq3oSoeZH+y1eHSZMmufMHoZwstEx7MQ7C0PfYBm0W7HfamzdRotZLiCJqbhBC9FzSO2usaeUGS20OONG9YRw/rNoSA5tfS0QPw7tupHfVWsO8z3Mf7CMxpO0UZ0XDu0bxdjkpTTq84QQ4SK4fewX1Jz6wphUBQb2q3MqnHGdEqJcO954/ukjTSG3Pjemtu3KfeJR499x9qiw+oPm9gRCicLpmxAohxCECQgiRnh3dXnnllWZ5qQERZf78+fbaa6+1ELKJyrziiitcmgLyVIfTHiB8sDAeedaD4l9bkCMZgQtxGOGQqEWEREQmxP33338/t2cWRCEiFIO5shF4+AzBPyigIPBQngcffNAtaonQReQj0aGcl7Q1v/rVr1pEpFI3IjoLzUleLMaMGeOEdaLWfRCqPvzwQ+e0QAT0BV5EKKJpSaFBn82ePdv1K0IdC3kSDbs/8FNjBKFPEVApP9G59ENHhGr6IywK+scM2jLHxqmAc4GFdMMgFEaJhRw7HPnKcTkWdsS/pGsJj5tCoOwIi0TsBqEc2D4Okblz57q3MhBEcabQv88++6wTlMNiMqlOzj333B4vqldXV9tJJ53k1gUI2wZ1QjBHYH700Ufd/PHJJ584gRdHG2+ZPPfcc26MPvbYYy3GKeOediClSThivC1wpNG2zFvMdRybuQExnfFDPwQFYs6FUySY9xyHAc638LlxBFIX7NJ3AmGTOE4QielvxixjmnP95je/cfUulqhOWcNzF/MIC0sH3/phnqbelOXFF1/MfdqcsKPDh+OHxWrGInXEQcL8zTzrj3MWREUED5eL9uatKOZ52sufn/k+1yGuDWEHIX0QNZaEED0Y77aQ3MnpnbVuDSzE12akM5auabDkmi1W++5iq/9ouWVq980/seoKSwwbYPFBEtW7HfqmrsHrn3rL5Ba0bAH7eP3b9MUmq3t3kTXObn7vhUBdNmlEt4nUCc9OKqYeb5XnjO/wVjpuqJVUdtNzgDccMvVNlly7teW2bqtbTyBM6qud7m/N9t24w/tDyKGPoP7pl7b7cQT1jXsFdeAt/7ITR7gx2fTFV9a0cmPkxrFbvH2Q6/NWx/Seemta9ZXVvb3QjWlr3HduAhPJ3R7v3/wNXSFE4cR//OMf/yT3c7to6zVhIYToCZAGAHEFoYHUBCzY1xEQPVgMFLEhCGKcH2XdkQ2hlgXyghGkiCEIPAigQdET4Q6RmQXuEJIQUxAXEb99AZ1/iQomfcnw4cObiX2UFZEsnJIAEJJoI0RuxC1+RmijzoiitGMQBJULLrjAzj777GaiDkI0Ah7fDX6H4yPSINQhVCL6UA4i2IkADjsPEKSIeiU3d5QwxXfCEawIPIhGRCNHgWgVzgVOWYk0pj19+AwBmrYNpmPgZ0Rd2ht7oJ2pJyI6Al24r4gMvuyyy9zxfDgu9aYcQUijcOGFF+YVZ2lLRN2g4EdbU2e2INgAImU4nQnlw2GCoIfdUb+gYwbboFxBAY/ysPAo6TZ8EN2wk6C4ys9EtNJviLT0MZHGiIQImOF0MUDKGFKShN8KoFzYSbCfuOfARjguojdjAweO/13qhTgaFL0pO/YQdPxgq4jKlJO+C9aVtqVetB19i436ThIcS8F9gX696aabnJ2GbZQ2wibCwj955hEhoyKVgfGA6BqEOYu0OuF2ai/MCeRVZ2zzxkVYPKastCu2Qb3ZcBbRrgjrfC/sqKM9sQ0W3LzyyiubzQVBnnzySWcfYTgeNsecR/9im5wXWydyOnyvSVuwTgFzG30I/Euf0m7Uyy8j/eU78HB+8TdEYhyZOPeC8xP9gdOBawR25UObMF6xiSA4N3FQhKO+g2C/jAHmDB/anHZgHsBmGBe+nbGgaT4nHP1/wgkntGhfnAbMq8F+wRnEXIUjC5Gc9mF+43xsHAP7ZJ/g9ygn/c+/bMwfHJ9rQNAJAIwt5v6LLrqo2dwAjF/mkuCYZ3/KTz2EEB2DOY5rKnMVzsW21jIIwtzjxnsmbfWzVlrDvC+cGOi2jTu8f71t43ZLrt7sImnr3l1sDTOWWNr7+14QZE8YapXnT3Biqehe0vVN1rhsnTXSd5u8ftuc6z/6bhP9t8OSq76yhgWrnKBe//ZCywTEU2/yt9JRR1nvG0/vklzdUcQP72Vl44a5tCYd3VgsN1ZR5Dfe8+GNk+SG7Vbz1AwngDfblnxpqVWbmjmZIF3XmBW9A/sm12+1stFDXFoVn6T33d2PvmtJBPWgU8S7rLOwbHL9dmtctNr1X76NsjH24v32BRGkG5LWMHelNc737GLzrqxtYA9s3v7YROMixvRCq5+51NJb992L8RYB/VN14aS9ojr3DPnuUYUQ0UhUF0Ic1HS1qN5ZEDiuv/76vaI653n88cediBUU5Nhv6tSpdsMNN7gczoAoSXmIIAy+ts/8jGCCCMe+ftRvPlEdERpRCkESQQYBCUGQfTl2WEzkQY5o9BtvvLHF4ofciPEZgi/iSrAOPNBRPx4MEbgRbRC9wtG/HAMh9C/+4i9cHcJCEuXpSlGd8+E0oA0RvILXO8QwjoEohwBKPyFQBQV16k7e5KuuusqlxAjSHaI6IGhF5ahHfObclJl6IvL65yxUVKd/EAuDAiYgeCOE0q84jIhwxZawTcQ8btSD5UeQRGgLtj1wXMoRHGuchzZAFEUsxGbGjh3rxFUoVFQH2o1xgRiJmBu2P9oOcRHxnvJTr2A9Abs555xz7Otf/7oTq8M22hNFddofu6YvqTv1DNqtD31EuX1xNt/9HsdjDsIpyCK+tGs+okR1f90C5iX6AUcKdsM4xQb4PAiLkzL/nXLKKS3EJNqG4zNemWP8/qLstCfjFQcB7YvtBucA6kGf4BTAERbsm86I6tgEZaE+wXbG3nDeIKRzbIRrXxynLNQtbJPYK+cL2xmOIeoXbCv6j3mbetIelJVx4I9zjkW9uCYG2wp8ZyLjmLIhrodTwnAcRD0cvLzVEy6TRHUhuoZiiOqZlHcf9spcq33+Y2uYtcKJbPUfLsv+7P1b/4F3DzDXm1NcVO6+eQjxjTzPVRdMsooTR3oTZ/NxL7oeItTrpy+1mj9+YA0ff+b6rmH2Smv45DNr+Gi5ty2zuvcWW+OCVU5MJUJ5L15/JYYeYb1uPctKj27uCBX7yHjjJLlms+1B/P5yS7Mt5W1hQR3SiNehfTO1DVZ59vhmzoCaV+dm3xxoaH59B6LM05t3OidWaxuUjT26mVMr4x2v7rV5VvvCJ6ExvTI7pqd/mnXErN/mnXvfvQhjOnHcYKu8cJKVTzjG+yD7Ofch+e5RhRDRKP2LEEL0EHjo+eijj1xkOGJWEKInEX2CAiTiMZGCRPuGUzogPJJWhYewoJAZBcIYD2iILa3dSCGekGIB4QlHAPtHgViG0IboPnLkyBZlaw2+O2XKFPtP/+k/OcE0LNh0FwiPRJmT2oN8zdxkBkH0QpgLi1++eERf4QTZXyAkhxdCDINo3ZZtRIGYjSMCuwnbC6IcgiEbIid/RxRmHQD2D0I0OMJeuAyIgORqbm3xQ4T/8BhpD4ihf/Znf+YcGZSrUDtjP9oVcfzb3/62c4btLxvtCDg3GOvUnTdemFfaWmQyjD8P4DgiUp9UVPkcWa1BHyOQ44Rrqw0ZjzhF6a9wXnigDoxX9sF+wnXCxhCQgw4jwBGAoI4D7Mwzz2zVMdBeaCOEcOYz2j0IIjj2j3Dtp7hBIGMuj5o3EPXDcw0wF0c5dYIgbge/y3zM/E2dyUcfLls+OAeODc5Jqh/mmAPJ9oUQeUil3cKFbvHCUMoKl2/5sCornTDcqq6cahWnjbauyvcs2kk64/VZfVaQZdtV5z5rhjdFx3pXOiG2+uYzsg4RsX9wYyvUP11FkjFd78R9S4XOydp3/apdGqBqxvTU452dCCE6jiLVhRAHNcWKVCdaj6hkhBlEiGJupE5AWEJk+d3vfufKirjj/52oWPZBBPOjO30QORBoiNRlXg4eFzGF45IfHNGL/aIi1RG+OT6LjtJeHAcRxo9gRDhB8PGjJRHSEI5bg/MjmiFwIWRxDI4XPK4PAhhCGeIWdfzOd77jfs4n2HAMoqARooL1JWKbcvFzFEQ/E0XJ+f3vcF7qRDnDENXr51anDpyPiNNwBK0fXYpAiXiMYIVAF+WgwH6ItiZC3y8DG+cn8jmfOIlYTSR22C786PwgtBuCHuUl+hXbDUckI6xhS+Tn96PdsAvKxff9cyA+IyDjWPChvuRlph2JePWPH+xXjs93EOCvu+46lyqIyGfs1D82++MkItqV332oF21H2X3HRfDY2AvHpq/9NwHYlyhnyhYsOyJllK1SR85D5Cz/YvN81+/jMBwPYZexQpvdfvvtrQrqRPjSntiKXx42nDTUOeyk8SG6nfEf/A42iIAZfFugM9C2OAYQxWkj6uyXh/LyexjqiW36YwJhleh06hNl52GiItWx23vuuce1N/1MHwTbnjL58xeCOeOqtWh9HFrkVseesRnqwvHC49WvC+2JbVxzzTXOPjlXGMrFeGXeCPYJ1xHaIOo7Pr6NMZcxFzNOmEeC5WEfxipzKw6Gb33rW07oJrI+eD7KQboV+itoc8w5vElB23L8cN/RJpwfYZ/z+HBMxiZtwHcYX2zhcQzMOdg6/UB/M//z3Xw2jO0z1wavR7QTbc14FEJ0jGJEqse8rXHxl5b8crP3ofeH0Hh34lpp3KWjKDm8t1s0sfy0UVZ9+RQrHz/cYhLU9x8N5NveZMnPNtChuQ8j8Pov5vUf6TxKh3r9N/U463XD6VZ+Qseefw4p0hlLbdvtIr7dAqsd3OLe2Kk86wS30KoPqXtS67Zx4Y/8TiFbfEAfK58wvNmiouTXb1qy1pJrt2SdKqEh7RwrbkxXWgk2MWKgVUwbY1WXTbbysUdbLPTWCdf2Qu7rhBD7iHkX2fDQaxMuyp2JEBNCiO6CB/z777/ficn33XefE1A7AuLh888/78S7YoNAhzjOK/cslIfwGoQHJyK/EV6DgooPZSOtQdRikEThIv4gAiHoPPDAAy53bxCE4LvvvtuJbAhI5OH1I415EEOY4TiIPkRRhoX91uB6QX1IgUB6B9JiIBD74hniK0KRH7VKGdqCeuB8oN5BEI542MwnTNO2tHGwfRGaEI39NCJRINDRHjhnaB9yP1MG6saNJ/1D33BuRO7WxE+cFqQVoRxB/DcRaOsoEOVYRDIomiF2UWe2KCgf+czpT4Rayoz98D1EacRsBEWEPyCXNuVCDPOhbkS0RkW9czz2RwBEdKRd/TZB/EREY7z5b1ewHzbAPj4IdfQ7C10G4di09TvvvOPsmr6m7pQdgQ4xnWh5HEFAtC+LKfI9H9oS22ZrDcqD4M9bIqTTYM6gDTgWdcFG/frgLKGs+QRFH+yFdsfWg1x++eWuzvkeWMjdHs6rna+NioFfd/qRaGjShXB/h837toYTg7akDRin2DjtHjUX5eNrX/ua66Ng3/OWzX/9r//VtS+2gf2xD+Iw7YvtITAjJnM+xNlCwTnEnE9/+o4l6sNxmR+oC3MN8xmCdr660H8ch/krCPMpAnNU1HwY6sycwRyN/ZPahvmPslAn+pcxzFihrRHQWVMj7AzA6YYoHS4rYwOHG+lkePsE2/Xt1p//Sdflj/MwzPM4gCgb45g6Y/uch/LgSMFZgQ0WEtnOeKUvg+tkYD/Yzf58e0eIAx3G+b333uvu13BIBp3drcEctNfB6D32u9QQ876w9K4al+KFBRS9nbJiXyLuFi5kIVIWJC09/ihLDDzMRayL/Qu5uxsWrraG6UssXVPnFrp0fbeXnFiLoO71X+nwgVY2+qhmAqxoA+8+gUVGa1+fl/ugY5T0qbLqy062WMW+N3Xr56y0pmXefRCLiXYQRPGKycdZYnC/3Cfe0PXsoP7j5W5MZ3Z79+F13pjm/s0f0zlBPX5kP4sf49nEcYMtgU3kGdLcP3CvLYQoHInqQoiDmmKJ6gcDCCWtierBfLeIUMzzPIQhordHSG8NhC0EYl9sRFBnO1Cg/Ihe1IGHVIQ/2iafkN9TQMynzNwsI0rjTGiPKNoWtAniHPaCgMbxEeQ6C/cb2CJlx36xlWIdOx/0K7aP2Ez/cs58guTBBv3H2KT+iLMIv9Qdp197RO0wrYnqwbbFTtn86GaE4c7aKc4e/w0cjkt/Ml6Laf+FwvxBWRDCeWjFlrGxYsCxfbulTWm/9tYT26e9GG98j2NwrK4cb0KIwiiKqB4CQY6czES7IqjHKkq7bRFL0Qm8Pk03Ji1TF0hpVhKzeO9KJ6SKQ5dMk2cXOWdZR8a0RHUh2o/e4RJCCNECxBgiY4nALpagDoh0RD6SkoDtQBLUwRcZiW4lup2I154uqAPiGO1NuenPYguKCOlEsxMZS/RusUQ4ysmxOS7tXcxj54PjI1YQnYv9B0Xfgx0ephiT2ApR6UQm8xZFZwT19oCd8mYD44pzFsNOEa2pA/bDv9hTse2/UJg/sGHGIeOlWII6cGycH6QoYu7uSD2xfX+uIBofW5CgLsTBSzaKtcLifavdvxLUDxC8ub2kvNT1296tj3c92U/XNtFziJUmsm+baEwL0W1IVBdCCCGEEEIIIYQQQgghCkSiuhBCCCGEEEIIIYQQQghRIBLVhRBCCCGEEEIIIYQQQogCkaguhBBCCCGEEEIIIYQQQhSIRHUhhDiEYFFNFqoMbiyWxwKFQgjRFfTq1avFvHMgLPArhBBCCCGEEPmQqC6EEIcICOfjxo2z6667rtl25pln2hFHHJHbSwghistFF11k1157bbN5Z+rUqVZaWprbQwghhBBCCCEOLGLpdDqT+7lgMpmM7dy5M/ebEEL0XNauXWv333+/zZkzx+677z6bNm1a7i9CCCGEEEL0fN544w2799577e6777Z77rnH+vfvn/tL6/DcnkwmzXvmz30ihBDREICVSCRyvwkhCkGiuhDioEaiuhBCCCGEOJDpqKgOCOo8vwshRD5isdjeTQhROBLVhRAHNRLVhRBCCCHEgUxnRHUhhBBCdA3KqS6EEEIIIYQQQgghhBBCFIhEdSGEEEIIIYQQQgghhBCiQCSqCyGEEEIIIYQQQgghhBAFIlFdCCGEEEIIIYQQQgghhCgQiepCCCGEEEIIIYQQQgghRIFIVBdCCCGEEEIIIYQQQgghCkSiuhBCCCGEEEIIIYQQQghRIBLVhRBCCCGEEEIIIYQQQogCkaguhBBCCCGEEEIIIYQQQhSIRHUhhBBCCCGEEEIIIYQQokAkqgshhBBCCCGEEEIIIYQQBSJRXQghhBDuvSIPAABLEklEQVRCCCGEEEIIIYQoEInqQgghhBBCCCGEEEIIIUSBSFQXQgghhBBCCCGEEEIIIQpEoroQQgghhBBCCCGEEEIIUSAS1YUQQgghhBBCCCGEEEKIApGoLoQQQgghhBBCCCGEEEIUiER1IYQQQgghhBBCCCGEEKJAJKoLIYQQQgghhBBCCCGEEAUiUV0IIYQQQgghhBBCCCGEKBCJ6kIIIYQQQgghhBBCCCFEgUhUF0IIIYQQQgghhBBCCCEKRKK6EEIIIYQQQgghhBBCCFEgEtWFEEIIIYQQQgghhBBCiAKRqC6EEEIIIYQQQgghhBBCFIhEdSGEEEIIIYQQQgghhBCiQGLpdDqT+7kgUqmULV++3ObPn5/7RAghei5bt261l19+2VauXGl33323jR07NvcXIYQQQgghej7z5s2zX/ziF3bxxRe7rU+fPrm/CCGEEGJ/0W5RvaGhwf71X//VXdSFEKKnk0wmbffu3W7u6t+/v5WXl+f+IoQQQgghRM+nrq7OBYr07t3bbSUleuFcCCGE2N+0W1RHoHr77bftjTfeyH0ihBA9l127dtns2bNtw4YNdv7559uQIUNyfxFCCCGEEKLns2rVKnvllVds0qRJduKJJ1plZWXuL0IIIYTYX7RbVM9kMlZTU+MEKiGE6OkwVz300EMuZdXf/u3f2uTJk3N/EUIIIYQQoufzwQcfuPvYr33ta27r169f7i9CCCGE2F+0W1QHhPWdO3fmfhNCiJ7L2rVr7f7777dZs2bZz372Mzv11FNzfxFCCCGEEKLn89Zbb9kPfvADu/POO+2uu+5yKQ2FEEIIsX9RMjYhhBBCCCGEEEIIIYQQokAkqgshhBBCCCGEEEIIIYQQBSJRXQghhBBCCCGEEEIIIYQoEInqQgghhBBCCCGEEEIIIUSBSFQXQgghhBBCCCGEEEIIIQpEoroQQgghhBBCCCGEEEIIUSAS1YUQQgghhBBCCCGEEEKIApGoLoQQQgghhBBCCCGEEEIUiER1IYQQQgghhBBCCCGEEKJAYul0OpP7uWAymYzt3Lkz95sQQvRc1q5da/fff7/NmjXLfvazn9mpp56a+0thxONxi8Viud+EEEKI7L1wKpXK/SaEEF3LW2+9ZT/4wQ/szjvvtLvuusv69++f+0th6F5WiO6HewUhxMGNRHUhxEFNZ0R1HkBKS0utpEQv9QghhNiHd/9sTU1NemAWQnQLnRHVuZ+VqC5E98L9ge4RhDj4kVIkhBCtwEMIoro2bdq0adPmbxKohBBCCCGEOLSRqC6EEEIIIYQQQgghhBBCFIhEdSGEEEIIIYQQQgghhBCiQCSqCyGEEEIIIYQQQgghhBAFIlFdCCGEEEIIIYQQQgghhCgQiepCCCGEEEIIIYQQQgghRIFIVBdCCCGEEEIIIYQQQgghCkSiuhBCCCEOSNLptO3Zs8c2bNhgn3/+uS1btsxWrFhhGzdudJ8LIYQQQgghhBBdQcx7IM3kfi6YTCZjO3fuzP0mhBA9l7Vr19r9999vs2bNsp/97Gd26qmn5v7SNrFYzMrKyiwej1tdXZ29//77tnXr1txfC4fjVFdXW3l5ufXt29eOPPJIGzx4sJWWlub2EF3JBx98YOvXr7dUKpX7xFwfnHjiidavX7/cJz2bmpoae/fdd5tde7HLoUOH2rRp03KfHBo0Nja6/ly5cqX7d8uWLU5Ab2hosGQy6dqlqqrKjbkBAwbYkCFD7Nhjj7Wjjz7ajUXR86DvmGsPpP5hPsEWuScWQoiu5q233rIf/OAHduedd9pdd91l/fv3z/2lbZhbdf2LJpNKW6bOm8u9f2MVpVZSlqDBcn8VouNwf6B7BCEOfiSqCyEOaoolqm/bts3+7u/+zpYsWZL7a+FwHES+iooKO+yww2zQoEE2YsQImzp1qh133HES17uYn/70p/bxxx87Aczn5JNPtrvvvtu1/4HApk2b7Mc//rGtWrUq94k52zzjjDPsr//6r3OfHNwgmDOeP/nkE1u0aJF98cUXLiK9trY2t0dzGHeVlZV21FFHOVF9woQJNmXKFCeui54BDhHm5iOOOMImTpzobPpAQaK6EKI7kaheXDINTda4fL01rdxo6W27naheUund8w8+3MrHDbP4gD5m8eiX+tM1Dda0ZK0lN253v5ccVmWlo46yxKC+7nchQKK6EIcGce8h/Se5n9sFUUVCtIdMbYMlV2y05PxVllyw2pJL11lq9Wb3eayy3GLlbQiL3s1Oct1WS3nHSG/YbmnvRiazp95K+vfO7SBES3bt2uVEGyJaL7zwwnYJajyAIKiXlJQ44e6VV16xdevWOSGlvRuRxjgjEUdJU4E4z8+9evVyInsikcidVRSb1157zUU187aB3x+0+eTJk9v1ULo/IRL7pZdecjbj1wFRj0j1c845J7fXwQvjb/78+fb000/bq6++aosXL7bt27dbU1NTbo9o+DsOMQT45cuXu58RbnlTRALD/oOxyLyMTb/wwgtOVB89evQB5WDkQTn49osQQnQlXMe4D+Utu5NOOskFaxTKfhXVERYbkk6IztQ1eIXx/k/Ec3/cPyCo109fYrWvzrX6mUutacmX7hm1afl6S67+ytI7ay0+8DAr6eO1cbjd0hlrmP+F1T7/sdXP8L67fJ17hi077ihv/8rcTt0EbduUskx9o9e+9WZJ7+d02mKleqYQQojuQjnVRdfjXfDTm3dZw9uLrP5PH1n90x9a/VMzvc37l5+9zxremG+pjTtyX4iAY+yosfoXZlv9M94x2J6fZaktu3I7CHFggUg4ffp0e/TRR53Y15Y4KMShCg4pBFjGyptvvumim9sLudc3b97sBPnf/va39t5770kQ3Q8gROMQeeyxx+yhhx6yZ5991jkq1RdCCLH/IEqbqGsE5tpX5ljty9mtYe7nWbG2nXA8ntHqZ62wmhdn2Z6nZljNk2wzrcZ7Bqx5aZY1zFlpqW27c9/oXhoXrXH1a/z0S8vUNFisusJKelU4AT311U6re2+R1U1fYqntLddmSW7YlhXiV2zwvltvJYf3svIJx1h80GG5PboO165bd1vD4jVW9+4i2/Psx7bHa9M9Xtv6/7r2ff4TV/6m1V9ZJpnOfVt0BhwxDQtW7R0b/pbaXuP9MbeTEOKQRKK66HLw9jfOWGYNr8y11OK1ltlVl7344F33bmRSyzdY4+vzrfHtRe73KIhwaPhwuSU//sxSq76y1JrNnvXGLHH84NweQhyYLFiwwJ5//nkXUS+EaA4R+YiwTz75pM2ZM8elgAnD2ySkVRo+fLhL83LMMce4yGc+D4PzauHChU6gJ42M6F5wJtL2bPRrVH8KIYToJtIZS23e6UTimmc+st2PT7c9j71ve/6Y3RBm07u957Z2kN5T7wTzPc98aHse/8A7zgfesT+02pdnW+2rc6zmTx9lz+Gdq+bZj13Ud6YbHauZxqTVveddf9Zvc29Bx4cdYVUXn2TV155mpd5zZawsYZn6Jquf5T1zbsimd/Eh93r9x8uzYrx3HCLTK04ZZWUnHN0t0fcZry/q3llke57w+slrV/qo5ukZVouI7rVt7Yuzcu37XvbvT860ujfmKQitE7g0QV5/46jItvu+8cGWbVup6kIcyij9i+hakmlLLltvDS/Otsxm76LD64eHVVlizBArGdDbMrWNZt5NiTUlLcOrdkP6W3xwaOFAjrFyo4tsNwR5Xhs8rNoqbpzmbn6EaI1ipX8hXQFRskS7BiFty4033ujyNY8fPz5yO+GEE1y6CSJuOU44vx4pPUhFwqKKnEsUF2yANC/HH3+8SzHBRr+MGTPGpd85ECD9y+uvv+5SnvhgmwjIB2v6F8YJOeRJ+fLhhx+6aPMgpHEZNmyYW6j1rLPOcv+SK5+xOGrUKJfih/G0Y8eOZt/lZz5jLI8bN84J8qJ7IAXWv/3bv7l5MAjzH/Ok0r8IIUQ0RU3/wvy1bY81Llpt9e9/6oRafs7sqHFisb8ljuxnZeOHW0nvwtKaEEjlBPqXZ1vjrBWW9s5BSpIWNKXc35KrNlly006LVZVb6ZDD3XNiV5PauN2lfUlvzUbJV110olVdNtnKJx7jxPSmNdnUpGxl44ZZ4ugjLFbilctrs4aFq62Ot6vXbXX51stPGmmV50+yRPjZtYugz2pfmGVNuQh7nCKRpNJOgE+t2+JyxiMMJ4Z5zxiV5bkdRFtkmpKu7epnLrO6txdYnTdO0pt2NBsfbBXnT7DE4b27xXaFED0TqTeiS0nvqbPkig0u/znEepVbYvKxVnHDaVZ+7alW6v2MSI6Dlwj2pnn7FuFzeDcw6Z011vDGAst4N12O0riVnXK8lZ40Ivu7EPsRhL17773Xvv/97+fd/vzP/9y+/e1v26233uqE83BeS0TfTz/1HmpCQpMoDpdccondc889rp/87aqrrnLRzKLnwrj46KOPnKAeFi8RExDQv/GNb7ixddttt7l+Pv/88+3iiy92jq7vfOc7dscdd9h5553XQnwgQppIad4SkTAqhBDiUIF0mqR1IaqZSPJaROK1W50Q2xmIUM+me/nEkp9t2Cf4IuizAOiAPlbSr5dZYp/8QD7wpmXrXHR1w5J1uU+7liTCaMO+lIulIwZlU7/wBvQxA/c5EBD+d9c5cRX4Xv0HSy25erN7bk0cfbhVTBtjiaH78V6Sti1POKcE+d9jFSHHtFdOHB11r8+zujcX5D4UreFs8vONVvfaPKt5arrteXK6NS5YnQ0CFEKICCSqiy6FC3nqS+9Gzb+vOry3lZ16vCVGDnJR5qWnjfJuAMrc3/D2pjds27svkPaladZKS3o3f454icWHD7CySybt90VuhCgUIoqHDBli1157rZ1yyilOiA+zZs0al+qiEEihsGHDBvvss89s6dKlbuHTr776quhvEHG8jRs3uvMsW7bM5T4m2j4fiJNEABNdzEKs/Lt169YWEcaFUl9f786/evVqd34cD0RqrV271kVsF3rcyspK69OnT7MNkTUqPUghBOtJuVasWOGingvtvzDUg3bFBmhrFlWl3h09Xj6Idv/yyy9dmbEbys/CncUUlakH/UOb8C+/h9/MKBT6eubMmbZ7d/Ocq/QnkXpf//rX7aKLLop0juC46t27t4tev/POO52wHl4MGPt+55133Hk6CmWjTWlPjkO+9860p29b2AL9xHoLHJ8I72L1E/ZGuel/7A1ba2vuIG0OY5mxiH0yFvku5eyM7XcWys3cR13oA8qE3VG/js47UVA/3iii7pyLPuqoXQshxP4i+eUWJ6KTGoTc6U4gbur8tSWTTFnTF5u8Y8+z1Pp9b9QhppeOH2pVl09x6VWqrz7FKs8Z3/ytZPKEr/HK9eIsJ8x3NU5QD0R4s6hnLPeWaKw0vvdnB/t5cz0LgdZ/tNyalqxx34/1qrDyU0Zb6dij3Xe6i5j3HBzrW22lo4dY+WmjreriE63qiqlWfZW3Xe1tXjtXnjWuxVvfPGPXvTnfUjvy38OLrG00fLjMpc3Z7Y2Rhtmfew8jWvNKCNE6Me+ho91PBTxI8IAnRFskl6+3ukfft9TKje73+OijrOo7F7sV1SH1xVdW828vWToXhY5g3vt/3mKGYO7Svmyw2gfftDQ3aDHv/8OqrfK2s6zs9NFufyHaAoHl/vvvdylgfvazn9mpp56a+0vbIMwhgCO+Iij9zd/8jYtuDYI4++KLLxactoAUHv/0T//UQig8++yz7Yc//KENHDgw90lLEI8QKxHvENWZhxG7KioqrG/fvnbUUUftzSt9+OGH500lQ5QuAhSCnQ91Pe6441zqDMqGeOQLeghICHqkycA54KdQQZwGjkd5fNGbciL80zaUY8SIES7VysiRI915WoPrC+eknoj4/rGI4uc81dXVrk+oLyl1qC+pPjhXvmMT7Uz5giIb7UwKGI4TBGcAdQ+KhKRYob6clzIhdiKsUTbKhVhLepmhQ4e6/difcrYFbYoIyzn9PqWu2BttS93oE45JX//VX/2Vc6D4UJ5zzz3X/sf/+B+5T6JhDNCXlBlh0BccaTPKTZ8W0o7w8ccfu1RKwbYkhQppWBBc586d685DuyB+k25p4sSJLvUOxy4Uvk8U+QMPPNDsDQ7KxrHuvvtuO/PMM3Oftg7tTLvdd999tmjRotynWRg7N998s3uTIQi29txzz+V+2wciPimDEJKxd2yFNiWqnvr269fPtSV9ht2Xlxf2qjXiMAI1ds+/2AUOCcYw7YbjgLZkbGNnrbUltsL4xlZ9KBvtxphBeKafGGfMH4wB+o/xMHbs2Nw3suI7Y98Xz6knv/Md+gT7o/1wXpBqx58bouYw5l+Oge2xQCnHCEJf4ijhmIAzxE/fE4Zy4QhgzFAHfqb9/bHI2KO9KA9zTlvtBdgH/Rkc98ynpKShH2bPnu3GEG3L+DzyyCPdeGELzyFCCNEVvPXWW/aDH/zAOYrvuusud/0uFK6dbHUff2Y1T0635Oebcn/x8C75Jd7zFdHO6V21lgkI2xWnjbZet51tiaMOz30SDXmlWZAUYdwXrAmaKpswzKquOsXKRw9xgVEI1KlddVb/wadW88IsS2/epyeQn7z3ty62ytPH5D7pGurnfm67H3zdUht3uN8P+4srvXqOslh5qdXPWml7/vBu1tnglbfPPZdY5VknWOOSL10+7aZl6117lU85znrdcLqVHnukO0Z3gdOh8dM1XgFKLTGon8X7924u6nvt6yLTZy7zyvtBdh0zH+/Zuu//9warOFFveueDNxN2/eZNq3+v+bNeLFFi8aP7e3+v35s2yKff/7rdyo8/yr3pEIZnGjnghTj4kaguupTk0nVW97v33OKiQC71qnsvsRLvJgD4vObfX7F0biEYJ6r/BFG9xOXaq3tihjV9sNT9zcoSVnbWWKu8/ZxujQoQBzY9TVR/++237R/+4R9aiOoXXHCBSxVDepgwvgj+/vvvu1QYCElRkaEIeAi6RMOTYxoBLkrUQ3xC2GKxQB/qeMMNNziBcfr06S6CF7GXaPEgHI/jXnrppU7QRaxDjMJZgOCK0ByENkQgpt2vuOIKl7KDz6KgnvQTuetZlBIRrzUQ9BDxqCtlQcyLEuF+9KMf2YwZM5q1GW303e9+14liQX7961/bU0891ewaR6oY3jLABnioRWBD9AzfKCMuIjATFY0oiEMhH4ioCKjUlWhsBNCgUA20Lc4IbANB9O///u/bJarTnpQVm2NRTvom6uaeduQ8Z5xxhhM3EROxhyh+8pOf2HvvvdesLUmzgnj52muvOQcGEfE+lPH66693dtWawygMNv673/3Oja0gCNqkeSGFD+UuFJwV2CjCerCdsRds4Be/+MVeQRcYIwjoYRgziKzYAe2AoBvuN0Rd8t3SN6effrqzi3w2D7wtQD8xvufNm+fewojqJ+wJ4ZtjTp061bVn1HGxq4cfftj1uw8i8NVXX+2cNI8//rg7D/bhw7GxcZwVgOiNCE49mXMQsKPmHB/aEfGacU4KHsoZ5Kc//amzj3Bb5QNbp47BPgHmTRaapUw4Bhg3+cpFnRiPlIlj0Qb57Jq8/Q8++GCzcc9aBbQZbUUe4+B6Ghxn0qRJ9q1vfcu1qRBCdDXFENWTG7fb7kfftYaPljvxm7Qn7g3g8cPd7yzCmUJQzlGQqO5dr8g1vguhet227GfeuRIjBlrv2891ucrDIF4iqtc8M9Od10F6zxNHWr//eq2LyO4qmtZttZ3//JwlV3v3q96piZyvvPhEl/al9rV5Vv/+YidMlww8zA779sWWGNLfdj/+gTV8uNxFrCOu9rrxDKs49XgX5d4TQXzf8fPnrZFIax+vTXt/+yKrvvDE3AciDJHq5FDf+cuXzFKecZTEXNR/2eijrWzicLfAbeOcQJt6SFQXQnTdFUsIIOK8fN8NB3np9q4iz4WmIWmZmpxoxytt1eXupsotFDNvlUv94v8tPrS/lV9yogR1ccCCoESUc1DM8kFMjxLmibJFPHrkkUec8BOOog6CUMvxn3jiCfv973/vonLbSusQBBGb6GC+yznDgjpwPMT2P/7xj/byyy87Id0XP8OCOnAziVCFwPfb3/7WRTNHQdsgpP/Hf/yHO25bgjpQvvnz59tvfvMbF1VMtGpXgIiKiEf5EWYR16JukhH82O8Pf/iDE/Hztb3fhgi09CkCcpTYiLCLoIfQT/vye6FgN4i+tCffpT3z3djTjpyHdqRfEVP5fqEQuU774xwICuo+OFUKidwPQhvTLmEQkhEz2yOoAw4KvhcWIWh3yl+IvQHjj7GI4yUcse+DvXzwwQeuPbGX1uwSRw1iM04uHFkI7Pn6ib/Rp5yfPuXNhkLxo/WfffZZJ+CH5yCcZX7bsC/OyMcee8zZMnNKa4I60A6MbdqFumBDxYb601a8vYC9tSX0sz+OChwMTz75pKt/1NybD+Yt2pv5KCio+2CDvJkghBAHComBfa105JHujeHEsUda5XkTrffNZ1qvq6a6zzuSWjNT1+jSt6RyAVIQqyqz0lFHWdkJQ3OfNKfEe96rmHpcNpe5TzJlqS82WioUCVxsaIPEsCNcZDo0zF5hNS98Ynue+dAaPlpmaaK7S2LZBVr7VmfTvrAwaH2ji+avOHW0Vy/SvvRMQR1cZPXgCKdLROCJ2EesLOFS+iCklxzRx/U1aYt6f+Nc93NP7nMhxP5DM6voUsil5xalyYHnP+ndmHDDkt66x6WH8V8zZKGVkiHeDUAybakvt1gjC6qQxyzm/d+70srOn2jxNl4/FKKngthItHCU2ErKAiKuo4RCUg4gbBHBHRZVfVEHwTAYoY1Iiqj3zDPPOBEwSvgLg5C3YMGCvQIskZgIoQiiYbGffRH0EKoQ4KkXn1EP9o+KzCXylSh/xLCwaMjvRH4jxpFqIgxvAxB1Sl3DkauAiIlYSF3DaSWKAZG/tAtOCtqSdicVDuWKioxHUESMixKF+T6CJX1DH4VFPtot2K+0DeLgSy+95P4tBL6DSI6gjv2E25t+pT1py2A/Ec39wgsv2J/+9Ccn9oa/lw9sE9vh+2GIeicNSntFdQTNKKGbcnckMph6YpfhNxOAPqCPCwHRGOeBb2fYfLgdfYiiZuzieIpqG8YzkYc4VhCkg+MUuyIqHzsL2zxiPv3EWw5EtRcCYwQHlD9Wg1B2nHo4HQAnAE6wN954o4VozVyAbdIPUSlVEOSxB8pXTCg/Dgrak75qjziOIM74pZ0Zm4XaNWmM6GvmpjDYEm/stCdSVAgh9jtOLB5mVZdNtl43nWHVN0yzsnHD9q5v1RHI0924yrteB15+L+nby8omHBMt0qfSltyy2xqXrG0u8npfT9c1WeOK9bkPugaCs8g7nhgxyP1MVHfDzGVW//ZCS23e5dqo9LjBVjlttKtb/UfLXHob13YnHG0VU46z+OHZN657KhmvL9I7QkEOXvkTR8oR3Cre/VC8T5VVXTLZ5anvfcd5VnXehH2L1wohRATxH//4xz/J/dwu2hP9KA5hvHuljHdDkiQHHTdbDUm36nymtsFS3mdNH3+WzfcW83bt39vKLproVi5veGWeJVlpG/AaTznWKq6YrMVJRbtBIELkQYi68MILXV7iQkFsQlxG4EIAQ8QKRyzydwRxjo+IFtyIpGRDKCY6FEGO38MiN0IfqVcQqoLiHGUnChxRLhg1juhK7mPSGpBOBdESgQvh3p+bOQeiJMIcqTmCAhiCFKIraRR8EJo4BxvRwKSvIEUK6RMQjqh/MAqZ/REKaQ+ENj/1w5QpU1yqEiJfEWaDEc/8zDEuvvjiZmlp+BwBDzE3CGIiaRs4LuUhRQn9R5uHFyql3vzNP3cQhEsE7mBZyLdMWcOiGBH6RJEHr3EIvEShI6RRBr/dSbXDuahTUHykbTgX7RjMUQ0ch4hknABBBwD9jkOCvNK0O/UlzzXCOnZAeYLlB9qBMpCmIght88///M8tHBTYwOTJk/e2J+1F37G/f2zaFIGXvOD+34NQdv4eLItff8pDLmvSbCCiY2ecj/Q87c07jQMGx0RQPKWNGGuXXXaZE7PbC8dCKA3nVafcCKTkfvdhX95MCONH/CMsI0L7dkmd6U/GRFC0pW2wH3Jz853g+GYM8mYAZQpCLnHsCzsgjQrHpr0Rlv1252dsib9hJ8Hj4nxBQA8e1y8b32dcIaJzHuYS6k/daVfKjt0Q3U3+dB/sgHnETz1DfZh3sFnsJ2z/fPe6667b63Ri3uPctAHlC7YRUA9smX8pF2mIGD/+9xG3ceAxzwa/S7moP+WhH7Bb5jzmsWCZqD+OQMYr5wk7BBjzjP3guOcYtDNloJ44iHw7ppykwCJHvRBCdAfMo6Si4j6Ba0+UYzMfXCP86wTR16XHD7bSIf1dZK5Pcv02ayTwafu+e73E0UdY2YThrYqKfK9u+pJmuaYTR/e3qksnu4j0ICyY2bRyg9W9ucDqXp3rcrgHicW9++5Bfa2cdDRdCJH6JRVe2bicJEpcO5T0qvQ+72Nlo4d4ZT/ZEl45WNS1afEa7yKSsviR/ZwzwjkhujA9TWfJuDXJNlrtS7Pd87bD6/v4kX2t1/XTmvV5V0P/Jtdts9SmnZbasrtDG2+1xypKu63NifIvHT7QysYe3dx+SY/04TJLrdua+yBL5QUTLUFa28B9mBDi0EKiuuhS3GtSsRJLb9jmcqRzQcrs9B7sl66z1IoNltmdi1LvVWGlk0da2amjrGnBGmt4eY53l5b2LLTE4sP6W8VNp7vFWIRoL10tqiNCkh6BXNLhDVGQaGSiPvk9KvoXEfK2225z4nU4IhUxnXQsfM8HMRGx7Rvf+IbLUY7Axe8IXgh4pGDx52eEQX5GaEL09uHzsKjug1h0+eWXuzKRGxlRFMEKgYl6BsVUoH04/q233uryZpNLnIc9PiNyPJwShv0RdYO54xG8iGBHiKM9fSEV0Zv8ofSb/xB52mmnOSGL8iN4BeGYiJHhB83OiuqAUIeg+PWvf921O9+lbRD06B+cKEGRnzpxDvomCCkoiJglWj0IEcm09x133OHEOurKOYjKRgwNC9lAW4ZFdcqAveHACYLdkCP8z/7sz/a2J21JGekj7No/vi/Asg/lChIlqgO2izDLORBEETgRUH0Btj0iOMfGNsntHwQBleOSs74jYFdEKhOtHYTxjUAc7Kt8ojrg/CLP/u233+76Crugv3C6kGMdsTtoC7Qtoj224o9x5hOirrFj2tsHIZnxh51RT+yZjXMi6AcFacR6xF6cckGbjxLVfdgfu8WxRbkpF2Ix56ANsHvebmDuAdqBeZB586677rKvfe1rbl9sA/ukb7F9bCIIxyGXvu/govzMcZSVOTFsP9QVER6b5LjYNYI/50a0J5VOeP7h2NTlmmuucfng6Qt/LsTeaIfgHIHITpv5jghfsIcoUR38+Y2xSRmxcb5PW9F+YaeTEEJ0FcUS1WMl+34O0mFRfe1Wq5/+qWVqcvOn9+yGKFl1wUR3Lod33eIt5Ya5K6325dlWP2OJS/UZJuY9MxIFXuE9D3YllIsUMKXHDnI50xPDBljpmKOtYvKxVnneBCsdOsDqP1xuDTOWumAw3ryuPHeCVUwb0zOilr32zDSlLL2nzuUBpy158zv11U5rWrrWal6fZ8nPcinivC4o6VNl1VdMtfLxw7KfdRONy9Zl89R/tNwaF67u0EbaHZw0JVXNHTRdBmMlSsCXqC6EyEPPdbOKgwPvAkMu9LKLT7TE6KOceM7FfS+lcSsZ1NdKTzneys6fYOktu60hnPblnHGWGN5y8UYhegKIZwhKURtiGkJxMGLSB0EHoZuF8M4+++wWD0ccF1ERYSgIAhjiUzCvNA9HiFV8TiRvUCxCWCNdAqJ4WyD48aCGYMh5fBD6ENJwAIRBpENERdBCVAQELUQrFr4MgygWrhP7I8bfeOONLlqWBR4RYxGYaaPgwx9142+IWmGhFjEzLNYVC8RDxDva3RdGOT9CIfVENAyCOEd5fAcB8DPOHUTLIIiDEyZMcEIqIqdfX45P5D2f06+FwDlIFRN23iBSIooGxUTOQ39z/PBbEojaCP9Bwbc16A8cMYiuLKyKXbOYKLbh22mh0IfUI1wHBM6w46k9UL98ZSlkfADHYKFUBPVgW+JA8MVdxkQQ6oNjD3HYB3GEcYnzwodjI9QyBhh/fn8Q9Y/jBGE36ASijbClQlPX+PbKYqSMNURihG8W22RMAfXB0XLLLbe4eYC+pA/5l3EZHHPsy9xAucIwfwXrS1shSDOO6McwOMoYA4wvNtrQrz9v+UStJcHxmCNw5NBeCNx8D5vG6Ui5wm9IMC+Tqig8B+WDOY+5jTbDEUHff/Ob37Sbbrqp3W9fCCHEwUimscky/npZHqRUQXj2hclMMmVNa7e6qO89j71vjXO/8C6M3vWdKZ599t16uOt+enfLdGldRXxgX6s4ZZRVX3qyVV9ykvs5fkQfa1q1yeo/XGqpzTu5OFvpmCFW7j2r9pQAL9emq7+y2pfn5LbZtuf5T2zP4x/YroffssZPcvcFBKcddbhzFFRdmE3x1p0Qqd70+UaXk76jW8qzHWxMCCF6KvuUFyG6CLz7pSeOsIqbz7Cy88a7VC6JScdY4qQRVnbaaCu/YrKVX3uKlVRXWOP0pZb+IhvZyutpiXFDrez0Me53IQ4GEMgQmIjIRIREvAqLcEBEJcIbEa1BEJwQmsOCMiCsE9lMyhAfxF2EpKhFRMMgDHKMYBS5D+WOEtUR+Yg898VFH8TPoDDvwwNTuE6IbAh8iLv/5b/8F/vRj35kf/mXf+lSX/jCGvBdhGrqE/zcB2E0GCFcLCgfZUHgDkO9SVcRritlRZAOCoFEzRLVG46wp939CPwwHJ/+QMxrC86JkEnUbRhSsISFcx+i3ojGDdoU5V66dGkz0TcfHBOnCLYTPAaOIj9SuT24h+ou6MfWKPR8tCHOq+AY86EdEF5xYITHJ22J7frQR0HRGWgv+oJI6DCMJ0RnnBdBsCecH7RZWyACI0QH7Zgyc2zfqUd/4cBBdP/zP/9z+9u//Vv7z//5PzvxPTjGOR9zC/MKbwNFER7nHYHz8JYP82EQ3hzB+UBdouZC5iXEduoStHmOhyMiKoo/CpxcjM2gM4b2au8aAUIIcVDCpacp5VJ07CVe4p79+BvpRxoXr7GaP31ke56eaamNubRiJTErOby3i4J3wroP17L6loEo3Ulqe43Vvb3Ikqs2ezcHGYsP6ONysJcO6zkBXkSpNy5fbzVPzshuT820uhdnWcPHn+1Lw+Nd+lgwtmzSCKu6fIpLoSKEEKL4SFQX3YITyI8fbJU3n25V37nEqr59oVV960KrvPt8Kz9/vJV4F30WMG2asSz7Be8Gq2RwPyu/+MTsjZkQPRQEG1JkIIwjvITF5SCI0kRPEkWJeEwakXziDOlKEF/DYhliEp+TCiK8saAeYl846p2I+WAKmXxQjyhBHRCuogRSzoWTIAxCNGWNoq1octqRYxKJS51ImUJ0KWkjWACRfM+ffvqp+3uQrhJiqSN9F25XH9o8qh/pu2CZ/H4LQ7sTwZsP2oPc7G2lmuB8OGKi3oxADMYOwjbDRhsjQobFSZwXhQij2AUpN4oVuYvtRAml2E2hkfNR0D75ItILFf+J9MYJEhRqg2AH9FVYdKftg2lh/PEdBDugjvRHVD9BONIesZljR/V5GGw4yjHUGvQD32Ms89YN5WbsIXS/+uqrLic8qZuiaGucFwJOHQTwcL9hbzgYwu0RxN8n3Bc4Ivz2bA3qjoMjmDpLCCFEAO+6mkl51zXWzfLJXR9TW3dZ3YylLnq6/t1FZg3Z6zeR7IkRA63qkpPcYqnksA6SIYp9P0EEeP3Hy61x0WrnEIiVl1r5aaOtbOxQ9/OBBWlM4pbevNPqpy+xpi+aLybbHbgFa8ccbWUE0nVww1YOvLYXQhxKSFQX3Yt3o4WnnEVySg6rcjdWrAKfWrfNGt5amF1QBc967worPWOsJY4dlPuiED0ThJcrr7zSbURGksqFvM9RIh2pEkhNQIqH4CJ8UeQTyohwZUHPxx57LHJDfA4LUIhhwSjZfCA+5RPCKWs4bQPCIvX0076ECe/vE3YUBPEj60n5wOKlTz75pP361792C2/+z//5P+0Xv/iFvfbaay7Kt7XjFBOE0rAwFwQbyCd4B8tI3ch7HwZhEHvIB21PG7clWnMu0stEQY7sxx9/PNJm2BAuwyIowmMhYi3loo1as+f2gN1gV2FhHScKQjTt2BGoX5RzCTuOelskimDKl3yQfzycpoZzE9HtOwVIPxIepwjI77//fmT/sL344otO1A6CSM9xCxnf9FF4DYHWoL3JEU8qINaHYN556KGH7Oc//7n97Gc/s3/4h3+wZ555psWCuD75HA/tgXkQx054rPNmRb65ygc7QhQPrwtAe+GMaMsJx7jku+G+FEIIESQ013tza3LTdqt9ZY5L99K0LHdfwjNgrworO/EY63XD6dbr2tOy+cnDQm8wcr2bSa76yhqmL8mlffHu744f7PK7l3jPpckN2110OHnn+ZffyWe+PyAnfNx7jk6MHLRvO2agW4yU/Om8CeBdOF0++IZPVtju375tux991xpX5PKsdxMs+tr79nPtsO9f2eGNRWPjffV2mBCi5yJRXex30jtrrXHmMkv5C6qUJSxO7rqz80duCtFTQEwlJ/H3vvc9++u//msn/P7FX/xFZC5pIjz/7//9v/byyy87Ua01UQfxMCrSk4UNn332WXviiSciNxZhDAtsiHWFRBwjQrUWDR0WE/kdwSlKPEdQa4+ohmhGBCmLwSKi//SnP3XC3e9+9zu3OCbCHSIk+3HcqHMWS9QNQx3bapdCzo1IGSUI8922IqXZJyoaPghtk09cRazFQRFlM2zYZlhAR3gMvw0QBeJmMYVH+pe3AsLOGuqHUwKhtSNQP2wsDG1LCp9CoFxt2TXtEWUP2K8/5hmT4fGN8wtbj+ofNsY9b22E4biFpOmhj9oSooF2pu9xxCDm/9M//ZP93d/9nf3qV79y0emI7OHFk6Noz/jPB/0dNQ8idrf15gZQ3/A8zPEYh2299cD38r2dIoQQwqPEu9cj0jy+b75n0cymhaut5oVPnKjrILf3oMOs4pxx1uv281zucqfFJ1MulclevOtGrGL/ODJZSLXuzQUuVzlCf8nhvazq3AlW0qfS6mettD1PzbBdD75mO//jFe/f163m6ZnWMHvlvjp2I7HShIue7/WN8/ZtXz/Hqq+b5nKnl584wkqOCAQLePVpnL/KCevpQP77rsbl1+9V4RwAHd3cAqUF3GMLIcT+QjOU2K9w45Vcus6aPljq/eJ94F00XdqXi060WHVhr+ML0ZNA7CXv+Q9/+EOXazwsOCFWPfjgg/bKK684wQgBKwo+z/e39oKYWIg4ihAYJQZCPoEsStxuL9STCGsE9L//+793wnpQOKVMRBKTt5wcybQriymGz00ZiyHkheE8rR230PO2tk8hfZ2vb7oKxNooQTMM4mM+YbWjIJpGRe/jjGLRyvZC++JwiIqqpuykCimEtqKboS17KNa49kEcLmR8U8+2nDeUDXEf8RwxHUcMbeYL0NSLtzboG/KNkwOeLYpi2Gu+dmyrjX3y7VNIHxTSXkIIcchT6t0jBYXwtHf/So71ZPZ6GasotbJRR1n1VadYn1vPttIh2TemMt5+CNnu+S8HEdi8ydztpNJW/8lya1i4yjI1DS5tacW0MRYfPsDqP1xuex59x+rfWWTJlZvc29XJlRut7u2FTqSun7nM0jWFLXZeNHBS9O9tFROG79tOGmlVF0y0XreelY3wvmxy87b0rntNS9Za/dzPm7W5EEKIziFRXew/XNqXrdbg3ZRk9mRvRkj7UnbqKCs9frAT3FMbt1vy802W/GyDpVZ9ZemvdlqmsW3xQIj9DXmX77nnHrdoYVhcImocAZm8xPlSWSBcRQnW5AieMmWKnXLKKQVviF5Ri4xGUYhQ5VOosNUWiLekJnn++eebibhEoiLcIaJffvnldscdd7hFE4maZcHFsJDbVaJzsepJf0aJdAii4fzaYRBzC4lGzhdZS872qVOnRtpHvo02LiRSl34odttjr6RRCYOzJSrFUVuw/+LFi1ss2Eu5SV9DOpFCQHBuS1jP95YJzgfOhy1hB+E2I6qafOxRfdHaxhgJR2NHgf2Fx0wY2mnOnDn229/+1qV+8eF7pFIhfdWFF15oX/va19xCpiwq/M1vfjO3V3OKMWZ4OyNqHsQhWUh+fcZMeI7leIU4ggppLyGEONSJlZVaSe+IewUE8n7VVj75OOt169kuh3oz8b0paUnvOa8Z3nWxZGBx1mdpD01fbrG69xZbavMur0LeNe/YI52onlq/3erf/9R9TtR1/KjD3TMqUezUL7Vph9VN/9SaVuy7Xu53vGsv0fXVl5xoZVOOy32YI5OxhjkEJnSPqp7avscal66zhvlfdHhLrv5qv6XZEUKIQpCoLvYb6V211vTxCkstzeXaI+3LqKOs7KyxLpdd44fLre6JmVb7qzes9hevWM1v3rL6P31sTXO/cCljhOjpINR9/etfd1G3YYGJqFmEdRaWzJfeIErQue666+x//a//5aJIC91ISYMw3RNBoCQlB/miwyDgkUqH+n7/+993eetZKBKHQ5SwWQwRrytBSI3KP4+QGRZ7g1BXRESitFuD+ufLmf3d737X7rvvvkj7yLf95Cc/cW8EtAXiY7FFdSKhiR4Pp/ggHzaiOulq2hK3fRhfvAlB9HU4QpkxhtOptZz5QaJyz4chF31Y8OU8vG3hj2nsIJwyBycCQnVUX7S23XXXXe4tjrbAPqIE6iAsksqbIqxZ4MN3sIPbb7/d2QRprm6++WYn6OP8yNcexbAJ7BkBPDy2mTPackRRLvoinBKJtqcv2moLyt/WPkIIcagTqyqzkiNCqcVcupe+VnXhidb7zvOt7ISWCz4TJOUWzwySKLHSY6IXzO8qiDKvfX2ey6dOwBfR3ZXnT7TE4MOtcYF3j54T/uNDj7BeN55ufb53uVWSFiaX5zv5xVdZ4ZcFW3sSibiVTRqR+8UnY6mtba/BUiwaF6+xnfe/bNv/7vEOb3uenGmpbd1XZiGEaC8S1cV+AY9zatl6a/xgifOau2iGwX2t/PwJlqlttPrnZlndQ29Z8qPPLL1mi6U377L0yk3W+N6nVvvg69bw1gLL1LW9gJ4Q+xuiOs8666zI/L+ksWDxP/ITh8U+BLaoKOG1a9fmFZMQGTds2ODyLvMvwhhR8YWKj/sDhK+5c+e2iDxG0EJgnDx5cmS+boSycL16uqhOJDK5u8PlRChetmxZCxvwoW2icp6Hoc14kyFKCCSFRz474HOcOwjGRCcTjU10byEpMoDzFrvtET5HjRplQ4e2fBCnrCyQyYK2bQnc/J2xgKDOegRBKDPnueCCC3KftA39RLR8vrakj1asWNEiOhpxmHP5fcP4DufIR9Cm7fPVCZtnodI1a9Y4Jwx2w/kK7Sfq21Y/cX5ypgdhHjrjjDPs2muvtcMPPzz3aRbOHRatfdpjE/nqwJjBwRKeP7FnhPXWotXpd2wah1QQHBCtLQzsU0h7CSHEoQ4LYyYGN3fox8pLrWziMVZ9/TSLE9UdxpvzCa5qXLI294GHN92SP7ts5JG5D7qBVNrlRW+c/4VL+0Iqm/LTxlj5CUMtXdtgqS279r4hXTZ+uNtKhx5h5VOOs8TR2TdA3TPttj3e97s5BUwhBPPVO7zrWhEc3kIIIfahWVV0P2nSvmyzhncWWSYXcR7rXWml3g1KfPgR1vj+Emt6d3E2Fx8L4Hh/i3FDVpaL2q1tssaX5ljTgtXZ34XowSDK3HnnnS7qNipy84033nDpFsIiHOIrW1hQRvBCWI/KoYwo94c//MFFJJO3/amnnrK3337bifdh0bqngDgZTDPhQ0Tv4MGDI0UthD8EtbD4mE/o7CkgoiISh8VUnB+kAoqKVqeORFkTPdwWtBWCIe0W5oMPPnDniRIvaX8W0P2Xf/kXe/jhh92CmCxsShsXkqu7q/BT/4THALZMe7GgLc4G1ikI9z2/I/YuX77cCfAs9BmuOzY2YcKEvDnBo+CYLDSMoB0+HudctGiRE3zD4xkHAaK6z3HHHefeRgmCc436RL2RwLFZhPiXv/yl/fznP3dvubz00kt57aYjUB/alvEVBEGb1C9RIOovXbo091tzomwtag4ExPGo/bFp0hCFF1jFllnUFQdLlI3SP/4Cx8Hj4tSg7aOcNUIIIdoPi0mWHjPQpUfZS2PS0lu962QuvWeYdF2jNSxaY6kvt+Q+8eb7RNwSIwZZPLjAZheT3LDdat9ckE374kE9Ks88weIDD7P07tpsbvgc8cOqXVQ+kF4lVrkvnR/Ceo9KT+pd93ASNC5alftgH/EjuzG9jncNxy5YWLWjG28veAfKHk8IIXogEtVFt8OiNE2zV1ry01x0AmlfjjvSys8dZ+nNu63x/U+zn3Mh7ldtZeeNt/Krplhi4jAnskOmIeWi1VkMR4ieDuL4bbfd5qI8wyIx4hv5xIlADQqDCH6kVyA3exAiZd966629QjmCERsi0rvvvmsff/yxzZ8/3y2E+tBDD7mFP4mGbyt1yP4kKhIdkY3I4mAkKvWkHuReRwgOC6n5hLmeAoIegjf5zYMgTJLv+49//KOzA4Rb7II+Jer5hRdeaBFlnQ/s5qKLLmphZ3wfm6DdfBGStkKcRERfsmSJzZo1y7XtAw884PLWI6wXkse9qxgwYICdfvrpNmbMmBZiLOWifP/wD//gyk/9aCve0mBs4HxC/EaAZnyFI5o5HilNyA3up2QpFMYTYw1nB2+N0FcI+wj4jzzyiBPHg3D8k08+uZmIjg0QrR6MwKY/EIKnT5/ujuH3E2XHLnCMzJw5021PP/20/du//ZtzhCCsFwvaJdwezDPULRiRTlmpO3aLYzAK7DpMvoU/ceDwBgDj20/t4o9lHCuI+mEbwGH43HPPuTLwXcqHQ4C24s0E396DEKGOSB/leBJCiIMeb15N76l3KUDCmxORk82DFTJNSUvtqGm5byAqmzzpieEDXHoUH47T9MVXVvvOwuaLkXrnz9Q3WtOydVb7yhz3u0+susIqzmp+f9SVpOsarObVuS51i0v70qfSKi880UqHe/XgHsoVLXBP6ZU1trcebIG/cX0KXaOKDm2HeO+1H+WNxNsHh0Vy4w6r/2i5NcxclvtDjniJ8QZBd4nU8cN7W9nYYVZ+8rEd3kpHHukWu+0unM2H7D277XJ/C0NK2hb7emNGGoUQhw7xH//4xz/J/dwuwlFYQhQCXvzkoi+t4flZZqRvIe3LUYc70Zzce8mFa6zpw+VuXy6gpaccb1W3n22JkYMs7l1Umz5Zkf0eNzK1DVZ2/gS3QrsQ+UCYRCxEACMVS9Tih/lAmEQIRcwhjQrRwog3QRDFyJselXIjCAuWIhaRjiAcWYmARvQyEZTB3M6I8ESukhfYF5ARmhAP+Q7nZC6mTAhuCKIISkGIXGaRT4QkX2jl/IiQ4TQP7Eu6lajUCIhdRNQHj0+7DBs2LDJ9BuWk3AibQRDVEMmoqw/HRiANg0BKRCnlpR/pQwTmJ598MjIFDpHA5513nsuXHAQnBOUORrYjqLLgazgHOaloEJiD1zgcG4ii+RazRJjGkUHUbBAiradNm9ZMSORnjk3bB4VehEs/BQu2Rp9SFgRj7I72DAvl9D92dc455+Q+ydosThzaM5z2gjJybERTRGkEx9dee82JxOF9SSNz6623tnhbANE3nHbFb8tCF8MtFM5L2zMmEMopoy+0AmMCERW7pFw4lGbMmOH6mzoxJrDBMNgtNn7TTTfZueeem/u0Odgci3VGQb8xp2C3tCNpRogiR1DH6RUW8LF1zoUw7LcldsB36fOgWM3P2D39RDmpM3Un2h4xnc996MfTTjvNOVGCzjfKRV9jS0Ho0zPPPLNFKhUfyoZzYPbs2W68+VAf5htym5MKhjLRrrQ3bwswr4Wh7NhlOCc/n/PWAPYehOP54v3rr7/uHCps2Dh14/zYXbD+9D/tzcb3sWfy7TMPYtfhCH7KfvHFF9v555/fYo5gzDPeguMeJwjz5vHHH5/7pDnYYr5UPUIIUWy4XuAs5O0q1pwpZCFxH+Z3Np7D6j9c5hbfbPz0y2YbQnd6w7Zm0dnkCU9v3WNNn63ft+/y9RZLZywRENGJMs/UN7n9fMGXNJ1EgnuTpXumy5BOhYUrF62xPc/MtNTqwP10adxKxw2z3tdPs1i8G2L+vPLXz1phda/PtfQ27/4nUWIVZ46zqrPHWUnf7JtR6fpGa5y/ylJf7XS/J1ikdMQgl6KmadVX1jBvpUtPilBdfuIIK5swzLVDV4Gg3vj5Jmtaus4yu+osvbveCbpu21Fjaa9tUxt3WMPiNVb3xjyre3l2s770DMASw4+w3redY83eKuhC4gP6WPlJI63ijDEd3spGD7GSypbBN12Cd19BG9b86cNmYyO7rbXkyg3ZNEEBnLaxcmOzfZNrt1rZcYM9o+medhZC7F8kqovuw7uB4TW/+lfmWHpV9kaK1C5l00ZbxXnjXS71pjmfWyq3gjoRC2XnjrfEsGzEAFIEF630huyr6eSES0w51uL9mqdSECJITxHVORbiDAJgVBoOBCOiVxFE/WMhtPM9/kY9/O8gJpFXmWhZojURrhHcwmkb+P6ll17qhOZg+oSeJKpTP8RwRNGwUE47UUcEL6J3H3/8cSf4EQHLccKR6pSHPu7bt687rk9PE9URiUnVgxgZLBPiJal9iDymPRBqsVvqwncoR7CN8onq9DVtQQRvMFrYFyERLWlXonzp03BEMWLiHXfcYZMmTWrxFkF3iuqAcIw9YsvYPEJ0uN8Bm0YQRnxlHISFbR/aBUcBi97ecsstzewkSD5RHRGDuvN3xG9EfNrEH9fhstFntCVpZsJtyXjDBujzYB8gWjM2mW/oKzbE5uA+1AOR/KqrrnK2GaxHR0V1oPzMcZwvOEcx/zE2mEv5F+GaaHDaGjvkmEGboHzjx493bxkE4fP33nvP2X/w+PQXtkm96WcWJKa8fpsx9hgLCOfhvqW+jFlEfspGm4ZtmvGDA+Lqq692qbjCSFQXQvR0iiKqNzRZ3WvzrO7thZb8fFOzDTGxmQjrgYCYWrul+X7esxyLeSKW+hCtHqsscyI6eci9CdJ9jpBO3vT6Tz6zxoWrnJhf/+4iJ9TvJe49zw0f4MTexMDmadG6CoTyPX9835JrvHt6HATDBliv60+zUu9fr6HcPiVlpdb46RpLrtvq9kk3NFqJ99xK1epnLnXOAfPaC+G4wnuWLTu2a9+A4g2DuvcW255H3nb/1r29wCvHMqufsSTbrt5nta9693SfrPD6zCtzMJrdqxJpdXrddraVHTMo96EIgxOJBWt3s65bwObd9sWmFoI6pNZvc38L7pvZVWuVZ49zawsIIQ5+usEVLESW9O46a5r7haUWejchUBq3BGlfLpiYvYHxHuabLT7qfUY0wF5I/RL8HXpS/joh2oDISwT4qDQwiOZEoxL1GhTmiKq85JJLXMR2OC0DIMAheAUFKo5NJCZiOt+NEsl7CpQVMfbmm29ulnPah+hVhDYiUP3oWYRKxOrwAyWCKkI+gmdPBoGQyGUEO6J/WwMREnEPR0ShC2ryneuvv971fZStAQJ0WJxkP/a/5ppr7Oyzz26R+31/gV0Qjf2tb33Lxo4d636PqlNrsD/2gkDKGETopp3aC04nRNmolEVBOB92et1117kUNlFtST2wA/7OeA2XBzvGiRIWiBGwmQ/oJ77b3rZoDZxMOKaw0bCjEHvBoYIDwY9O99s0+OYJMIeFnXY+pLUKOpqiQCgPCta05d133+3skvmiLSemD21D2yKo40TBfoQQQhSfxNAB1uuqU6x0hHfPSS5sn5T3fLe9xpIrNzkBMsOaWT48Cw73vnfD6VY26qjch10LjoWal+e4aHPW74pVl1vVJSc5Yd1PMwqxilIrGzvU4gP7cjGx1JdbbddDb9r2/98frO7VuS5anLelSycMt8Sx3bi4qk86Yxnv2ZpIe7flSTmCsyMxtL9V33ymVZ46OvepEEKIYiFRXXQPTSlLLV9vjSxAmvIu+N7NScmRfa30nHFW4q8KjzAQfE0qk80dtxdEw+Dv3u5ERgjRHSDO+FHG4a09EFVMtChCafg4RJf6KTp8EI8QnL/xjW84ERbRi3JECWnsS5QyghsRmbfffntkVCYg0IfPn++4wOcIicH9EYRbi3pFJAzu738n7Bzgd0RgREIi9aOEZuqGCInYhyj63/7bf3OLPyJWBo/NQpHhiHfKyN+C5aAuUaIqZQnvS7u0JuJxnKj2DNfTh2MRifu9733PzjjjDCcShkVGjkndeLPi/9/e3cRGcd5xHP97vbteG2xCiKqgJNA2JG4KhDaicWj6olBaFUEqkFCrXmJMBRxAOPIBJA5IPflQRWovrW+cOKJIubRVJSpVPaQpURrUAyoKQhEoTdtUIeLNMbvufGd3q2W9aw8va8D+fqSVvOt9mXnmmZ3Z3zzzH842OHDgwIw+w3S2a38+49ChQ2kJF0az89p2z2U6+T8jg+lnvIbR/q20ap92bXkvEd5ykOjw4cPpKHP6NUEr09Lus+vrLPNCGxAWHz16NF032vXzuRAeHzlyJA3XOQDR3Kb15cY6yPq3a9eudDrbYbr27t2blmiib9PHW/Wb+vrHZzLqfWRkJLZu3Zq2fzOey3Q1LiNuPDbXfPPZjC7ft29fOq9MT3Pf5z1YHoz45/vs2LFjaR9t/CzandJVjd9lddu2bUvPyml1IIH35rWMGG8e9c/nHTx4ML0+BeE434Xtlj/zwfvTvjt27Ij9+/enI+fbzX+rfs392dZ7SXr4JN+BXDiylGwP7vTWk9xalLWgpEhh3arof21zFJ9fHbnlS5PnJtuz5u/d5D7vkVvRH8X1q2Ng9+Yovfhs7Z+dN3n2Unx+5kLEzXIyP8XoST6bOuO3DOSqKb00GD0b10Tusf5qyZTk9+z09eS3aPKblDOqmV8ubFp44tazHjuB7VdaGocLd862KU+eQ5Cee2RJ5JPp6vnmV2LZoR9F3yvra0/QrHJJO7fq97dx43pxsy4jSQtKV/KjZeYhzTkwIpJRblImSX8pf/ifuP7m23Hz9Pn0oa7+UhS/szZ6f/xysvGvbnUqV67H5B/OxOTJt9P7XcnOTfEHG6J351C6gaNu3ZU33orKpeoFF7uW9Ub/L4Zb7gRJdZRWmJiYSMsWjI+PpyN+s2IHliCLYIUR4dTy5v0aEQCNjY3dVvhC6YMTJ07cUku5jlIahMuEZ80oy0CZF+aFciYEVozmJFTi8wnvCKsIuhg92hzU1jHilJrblK5oRKhKjenmOsig7AIlQ86dO1d7pBrc1utFNyMQYxqbS2gQVjGCmoCrGa9h3igZQ914ppPHmD/ag3IkBHKUzeAxToNmBHvjSF7+R4jW2H4nT55Mp7txBDuhLGcBUOe6Ee1C2RXKjNRxhgHtMjjYeoQPtZup302I2Ih5JGwknGuH0fcsUz6XU7uZRvodwSzBO8uS8h6EjLQNpUbqCAIJF+kvs6FsBiVwKPnDcuQz6DcsP9qRMxk4lZz2oP1m68ucTUGZjsa2pN/w2vm6+CPTzhkdlPtg+dPPOJDC4+yf0H7MA+1OuM06wXrf7gBTK6xbjI5vRphNWE7frJdd4uwI7tOWHNRiuROS0y7tDmQ0Y9rrZY4o28NI7Xq/Zn6YFw6wUGaHszSa+20jpof3ae6PtAMHJPhOmwvTQ7uyjtFvKPNSXxdZh+l3jBqnXWlzlsfx48drr67iuQTgBNvNWGeoe0+f5nuQ/sQyY9o4uMB3BPPabt3hu5Dlz+sZPc/6yjTTVqwXHJzj4AMHMLMsB8pK8f3WuN4T2nPQi4OZrfB5LKPGs4QkqVPYjo+Ojsbw8HC6LWouXzcbvhu5peVfqKd+dua1MDLL56Jn7aroneWiopXPrsWN987H5Lvno/zRJ2m9dX4PJhORBuqMCu954ctR2rgm5nWAVDINV3/3XkxxcVJGqSfz0vfDF6JAqdFkm9UKF2W98c65mHznH1H++NPq6/gdu3Z1GqgzCpz56rTKtcm48e4HcePUmepFZafKyYO3bn8I/rsG+iK/8tEoPP14FNetivzj7Q/sq0m5ElOXPomrb/219sCdyS1fEv07X0p+9BTdR5AWAUN1dRx1xSb/+PeYfPMv1VP+8t2RX/dU9O5+Ja3vVseFPqb+diGu/fq36Q5L/SKmva99N3LJDgI14uqBO0fhC1//Yix5/dXqfamNexWqP2goi0IYxXcx4TkjjQliH8RpvRPMH/NGWMpoWUZzszwWKgJLAj1CdsJIDgpkCT9vV/0zCEnpM7Qt/eZhblsCWeaHGyEnoSrzRhtmDbWbzRWqNx6wIgCnTQmb7+Yz69jHYt2mRjvBLcEyB8x4//uB9mVaWBcZoU6fuVfTwsEI3ps25IwC5pN+fzv9kQNOtBfLn9fyHvRp1qNOMlSXNJ/uRah+P0zfLEf58tVkYzKdjlzP9ZWiq/hw7qtSpnQ62V9rN1p/3iTbncrkVFqz/v+SbV73sr55CfiVDfsH7iNIC5+hujor2ZGaev9CXD/xp6j867N0Q597YnmUdg5FcWjmqX6Vjz+Nq7/5fZQ/+GfS0WoPdic7gr09MX3lRvV+sq/AUfi+vVui8LUvVR+T2lioobqkzrmdUF2Lk6G6pPn0sIbq0mJlqC4tDp0dxqPFLdmIlC/9Nz7/89lqoJ7gYjBc0KWw8daLmtV1LV8apVc3RlpnnbpxKCcbpHqgTp2zgb4ofus5A3VJkiRJkiRJ885QXR1DOZebH/47ysmNi9FwkZf8c09G8fsbqhdaaYGrqOfXr47ePVui+9mV0fVIX3QtLVVvy/oi9+Sj0bNzKHp/8nLtFZIkSZIkSZI0fwzV1THUm+v59ldj4I3dMfCrPTHwyz2xZHRbdH9hWe0ZrRGsFzasjv4jO2NpcuvdszlKP/teLHl9e/T//KdR2vJ8OmJdkiRJkiRJkuaboboeXPnu6H7qsSi++Ez0fGNN5J9ZmV7VXJIkSZIkSZLuF0N1SZKkJlykuPnGRYu92JskSZIkyVBdkiSpQaFQiO3bt8+4DQ4ORi7nrpMkSZIkLXb+MpQkSWqQz+djbGxsxm3Tpk3p/yRJkiRJi1tXpVKZrv2d2fT0dFy+fLl2T5IeXBcvXoyJiYk4ffp0jI+Px9DQUO0/2VjuQZLUjH3hcrlcuydJnXXq1KkYHR2N4eHhGBkZiRUrVtT+Mzf3Y6X5x36CpIXPUF3Sgna3obokSZJ0P91NqC5JkjrD8i+SJEmSJEmSJGVkqC5JkiRJkiRJUkaG6pIkSZIkSZIkZWSoLkmSJEmSJElSRobqkiRJkiRJkiRlZKguSZIkSZIkSVJGhuqSJEmSJEmSJGVkqC5JkiRJkiRJUkaG6pIkSZIkSZIkZWSoLkmSJEmSJElSRobqkiRJkiRJkiRlZKguSZIkSZIkSVJGhuqSJEmSJEmSJGVkqC5JkiRJkiRJUkaG6pIkSZIkSZIkZRLxP2gwiOGMenseAAAAAElFTkSuQmCC)"
      ],
      "metadata": {
        "id": "zHPsE-w5Ay0K"
      }
    },
    {
      "cell_type": "code",
      "source": [
        "print(5 + 15)"
      ],
      "metadata": {
        "colab": {
          "base_uri": "https://localhost:8080/"
        },
        "id": "XwXbplgy-9Yk",
        "outputId": "3bc2b28f-1f96-454a-8906-dbc9f817f33f"
      },
      "execution_count": null,
      "outputs": [
        {
          "output_type": "stream",
          "name": "stdout",
          "text": [
            "20\n"
          ]
        }
      ]
    },
    {
      "cell_type": "code",
      "source": [
        "20 - 8"
      ],
      "metadata": {
        "colab": {
          "base_uri": "https://localhost:8080/"
        },
        "id": "dsb1W5ZIA0rc",
        "outputId": "7f68ff75-39c6-4e07-deee-580c0fec7dee"
      },
      "execution_count": null,
      "outputs": [
        {
          "output_type": "execute_result",
          "data": {
            "text/plain": [
              "12"
            ]
          },
          "metadata": {},
          "execution_count": 42
        }
      ]
    },
    {
      "cell_type": "code",
      "source": [
        "print(25 / 5)"
      ],
      "metadata": {
        "colab": {
          "base_uri": "https://localhost:8080/"
        },
        "id": "A-QyA1uRA0yK",
        "outputId": "999b0bbb-3888-4fd0-8084-2afd4dd2f658"
      },
      "execution_count": null,
      "outputs": [
        {
          "output_type": "stream",
          "name": "stdout",
          "text": [
            "5.0\n"
          ]
        }
      ]
    },
    {
      "cell_type": "code",
      "source": [
        "5 * 20"
      ],
      "metadata": {
        "colab": {
          "base_uri": "https://localhost:8080/"
        },
        "id": "teXzEPxJA006",
        "outputId": "18f54142-de2e-44e1-a755-cf0d169a959c"
      },
      "execution_count": null,
      "outputs": [
        {
          "output_type": "execute_result",
          "data": {
            "text/plain": [
              "100"
            ]
          },
          "metadata": {},
          "execution_count": 45
        }
      ]
    },
    {
      "cell_type": "code",
      "source": [
        "20 // 6  # tam boleni verir"
      ],
      "metadata": {
        "colab": {
          "base_uri": "https://localhost:8080/"
        },
        "id": "7CiBx56WA03k",
        "outputId": "9076716a-e3f2-4e0d-88e4-901be91e80c4"
      },
      "execution_count": null,
      "outputs": [
        {
          "output_type": "execute_result",
          "data": {
            "text/plain": [
              "3"
            ]
          },
          "metadata": {},
          "execution_count": 46
        }
      ]
    },
    {
      "cell_type": "code",
      "source": [
        "11 // 2"
      ],
      "metadata": {
        "colab": {
          "base_uri": "https://localhost:8080/"
        },
        "id": "mdbNWWExA06I",
        "outputId": "0784a347-7782-45cb-cf6c-0419c9b17a16"
      },
      "execution_count": null,
      "outputs": [
        {
          "output_type": "execute_result",
          "data": {
            "text/plain": [
              "5"
            ]
          },
          "metadata": {},
          "execution_count": 47
        }
      ]
    },
    {
      "cell_type": "code",
      "source": [
        "12 % 5  # kalani verir. modulus\n"
      ],
      "metadata": {
        "colab": {
          "base_uri": "https://localhost:8080/"
        },
        "id": "6FOEVGW_A08c",
        "outputId": "021ba7a3-cad7-46b1-ad54-b60ce1ecc0bb"
      },
      "execution_count": null,
      "outputs": [
        {
          "output_type": "execute_result",
          "data": {
            "text/plain": [
              "2"
            ]
          },
          "metadata": {},
          "execution_count": 49
        }
      ]
    },
    {
      "cell_type": "code",
      "source": [
        "25 % 8"
      ],
      "metadata": {
        "colab": {
          "base_uri": "https://localhost:8080/"
        },
        "id": "2VIHEPqUCPBH",
        "outputId": "56f37bb3-f2b2-406c-9084-015eff381f84"
      },
      "execution_count": null,
      "outputs": [
        {
          "output_type": "execute_result",
          "data": {
            "text/plain": [
              "1"
            ]
          },
          "metadata": {},
          "execution_count": 50
        }
      ]
    },
    {
      "cell_type": "code",
      "source": [
        "2 ** 3"
      ],
      "metadata": {
        "colab": {
          "base_uri": "https://localhost:8080/"
        },
        "id": "7xeJ4uKVCPDp",
        "outputId": "f9abe415-18ce-41d5-8de6-51ecfa389841"
      },
      "execution_count": null,
      "outputs": [
        {
          "output_type": "execute_result",
          "data": {
            "text/plain": [
              "8"
            ]
          },
          "metadata": {},
          "execution_count": 51
        }
      ]
    },
    {
      "cell_type": "code",
      "source": [
        "5 ** 3"
      ],
      "metadata": {
        "colab": {
          "base_uri": "https://localhost:8080/"
        },
        "id": "a2-ZzV4YCPGD",
        "outputId": "2810ce33-927e-469d-8a8b-6fce8dc3eeae"
      },
      "execution_count": null,
      "outputs": [
        {
          "output_type": "execute_result",
          "data": {
            "text/plain": [
              "125"
            ]
          },
          "metadata": {},
          "execution_count": 52
        }
      ]
    },
    {
      "cell_type": "code",
      "source": [
        "9 ** 0.5"
      ],
      "metadata": {
        "colab": {
          "base_uri": "https://localhost:8080/"
        },
        "id": "k7Ue-8i_CPIj",
        "outputId": "09cd84b4-a76b-42c7-ca6b-31fba4e53dbd"
      },
      "execution_count": null,
      "outputs": [
        {
          "output_type": "execute_result",
          "data": {
            "text/plain": [
              "3.0"
            ]
          },
          "metadata": {},
          "execution_count": 53
        }
      ]
    },
    {
      "cell_type": "code",
      "source": [
        "9 ** 1/2"
      ],
      "metadata": {
        "colab": {
          "base_uri": "https://localhost:8080/"
        },
        "id": "tKxwIukUCPK6",
        "outputId": "a317c33c-ce24-453c-9869-c99dd5d0d12e"
      },
      "execution_count": null,
      "outputs": [
        {
          "output_type": "execute_result",
          "data": {
            "text/plain": [
              "4.5"
            ]
          },
          "metadata": {},
          "execution_count": 54
        }
      ]
    },
    {
      "cell_type": "code",
      "source": [
        "9 ** (1/2)"
      ],
      "metadata": {
        "colab": {
          "base_uri": "https://localhost:8080/"
        },
        "id": "lgy9RkEUGYtn",
        "outputId": "bfa73b07-0a5d-4bb7-a74b-3021da5c4d85"
      },
      "execution_count": null,
      "outputs": [
        {
          "output_type": "execute_result",
          "data": {
            "text/plain": [
              "3.0"
            ]
          },
          "metadata": {},
          "execution_count": 55
        }
      ]
    },
    {
      "cell_type": "markdown",
      "source": [
        "![order of precedence in python.png](data:image/png;base64,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)"
      ],
      "metadata": {
        "id": "0pYrUxyIGERB"
      }
    },
    {
      "cell_type": "code",
      "source": [
        "print(11 - 7)  # 4\n",
        "print(4 + 11.0)  # 15.0\n",
        "print('11 -7')  # 11 - 7\n",
        "print('4' + 4)  # error"
      ],
      "metadata": {
        "colab": {
          "base_uri": "https://localhost:8080/",
          "height": 263
        },
        "id": "2fhU4IzUCPNU",
        "outputId": "2bd53e5e-58c8-465a-ae50-56c47d3d51d3"
      },
      "execution_count": null,
      "outputs": [
        {
          "output_type": "stream",
          "name": "stdout",
          "text": [
            "4\n",
            "15.0\n",
            "11 -7\n"
          ]
        },
        {
          "output_type": "error",
          "ename": "TypeError",
          "evalue": "ignored",
          "traceback": [
            "\u001b[0;31m---------------------------------------------------------------------------\u001b[0m",
            "\u001b[0;31mTypeError\u001b[0m                                 Traceback (most recent call last)",
            "\u001b[0;32m<ipython-input-56-01af1acd6b05>\u001b[0m in \u001b[0;36m<cell line: 4>\u001b[0;34m()\u001b[0m\n\u001b[1;32m      2\u001b[0m \u001b[0mprint\u001b[0m\u001b[0;34m(\u001b[0m\u001b[0;36m4\u001b[0m \u001b[0;34m+\u001b[0m \u001b[0;36m11.0\u001b[0m\u001b[0;34m)\u001b[0m  \u001b[0;31m# 15.0\u001b[0m\u001b[0;34m\u001b[0m\u001b[0;34m\u001b[0m\u001b[0m\n\u001b[1;32m      3\u001b[0m \u001b[0mprint\u001b[0m\u001b[0;34m(\u001b[0m\u001b[0;34m'11 -7'\u001b[0m\u001b[0;34m)\u001b[0m  \u001b[0;31m# 11 - 7\u001b[0m\u001b[0;34m\u001b[0m\u001b[0;34m\u001b[0m\u001b[0m\n\u001b[0;32m----> 4\u001b[0;31m \u001b[0mprint\u001b[0m\u001b[0;34m(\u001b[0m\u001b[0;34m'4'\u001b[0m \u001b[0;34m+\u001b[0m \u001b[0;36m4\u001b[0m\u001b[0;34m)\u001b[0m  \u001b[0;31m# error\u001b[0m\u001b[0;34m\u001b[0m\u001b[0;34m\u001b[0m\u001b[0m\n\u001b[0m",
            "\u001b[0;31mTypeError\u001b[0m: can only concatenate str (not \"int\") to str"
          ]
        }
      ]
    },
    {
      "cell_type": "code",
      "source": [
        "a, b = 8, 12\n",
        "\n",
        "print(a)\n",
        "print(b)"
      ],
      "metadata": {
        "colab": {
          "base_uri": "https://localhost:8080/"
        },
        "id": "U08jZ_VnGDPT",
        "outputId": "e3523772-2fee-4063-fe80-ac52bd78c557"
      },
      "execution_count": null,
      "outputs": [
        {
          "output_type": "stream",
          "name": "stdout",
          "text": [
            "8\n",
            "12\n"
          ]
        }
      ]
    },
    {
      "cell_type": "code",
      "source": [
        "a = 12\n",
        "b = 8\n"
      ],
      "metadata": {
        "id": "YRbp2ra2I5m6"
      },
      "execution_count": null,
      "outputs": []
    },
    {
      "cell_type": "code",
      "source": [
        "a = 5\n",
        "b = 10\n",
        "\n",
        "# a => 10 b=> 5\n",
        "\n",
        "print(a)  # 10\n",
        "print(b)  # 5"
      ],
      "metadata": {
        "colab": {
          "base_uri": "https://localhost:8080/"
        },
        "id": "m2kfy0ojI5pY",
        "outputId": "b7182fce-833a-45ce-ee7e-bf83f89245c3"
      },
      "execution_count": null,
      "outputs": [
        {
          "output_type": "stream",
          "name": "stdout",
          "text": [
            "5\n",
            "10\n"
          ]
        }
      ]
    },
    {
      "cell_type": "code",
      "source": [
        "a = 5  # 10\n",
        "b = 10  # 5\n",
        "\n",
        "temp = a  # 5 degeri elimde. temp te\n",
        "a = b  # 10\n",
        "b = temp  # 5\n",
        "\n",
        "print(a)\n",
        "print(b)\n",
        "\n",
        "\n",
        "\n"
      ],
      "metadata": {
        "colab": {
          "base_uri": "https://localhost:8080/"
        },
        "id": "tbyVYpeBI5uC",
        "outputId": "972a95a4-8cb9-4cda-de1e-9f4bae7e8f21"
      },
      "execution_count": null,
      "outputs": [
        {
          "output_type": "stream",
          "name": "stdout",
          "text": [
            "10\n",
            "5\n"
          ]
        }
      ]
    },
    {
      "cell_type": "code",
      "source": [
        "a = 5\n",
        "b = 10\n",
        "\n"
      ],
      "metadata": {
        "id": "9cUIJvx2KbuU"
      },
      "execution_count": null,
      "outputs": []
    },
    {
      "cell_type": "code",
      "source": [
        "a, b = b, a\n",
        "\n",
        "print(a)\n",
        "print(b)"
      ],
      "metadata": {
        "colab": {
          "base_uri": "https://localhost:8080/"
        },
        "id": "wYh46jo0Kb0W",
        "outputId": "c136cd24-7fc5-4bc8-f4fc-291d82cd16d6"
      },
      "execution_count": null,
      "outputs": [
        {
          "output_type": "stream",
          "name": "stdout",
          "text": [
            "10\n",
            "5\n"
          ]
        }
      ]
    },
    {
      "cell_type": "code",
      "source": [
        "# daire alani\n",
        "# pi.r2\n",
        "\n",
        "r = 5\n",
        "pi = 3.14\n",
        "\n",
        "alan = pi * (r ** 2)\n",
        "\n",
        "print(\"Dairenin alani: \", alan)"
      ],
      "metadata": {
        "colab": {
          "base_uri": "https://localhost:8080/"
        },
        "id": "HHs9jIAIKb2_",
        "outputId": "93674c61-2efd-43c1-f031-52293f6c1be8"
      },
      "execution_count": null,
      "outputs": [
        {
          "output_type": "stream",
          "name": "stdout",
          "text": [
            "Dairenin alani:  78.5\n"
          ]
        }
      ]
    },
    {
      "cell_type": "code",
      "source": [
        "11 % 2"
      ],
      "metadata": {
        "colab": {
          "base_uri": "https://localhost:8080/"
        },
        "id": "tXwsqtmhM-ck",
        "outputId": "3c25df83-b873-4c40-bb7f-eb0520658ff6"
      },
      "execution_count": null,
      "outputs": [
        {
          "output_type": "execute_result",
          "data": {
            "text/plain": [
              "1"
            ]
          },
          "metadata": {},
          "execution_count": 69
        }
      ]
    },
    {
      "cell_type": "code",
      "source": [
        "# 2 ye bolumunden kalan 1 ise sayi tek sayidir.\n",
        "# 2 ye bolumunden kalan 0 ise sayi cift sayidir."
      ],
      "metadata": {
        "id": "voYCIH8rM-fP"
      },
      "execution_count": null,
      "outputs": []
    },
    {
      "cell_type": "code",
      "source": [
        "11 % 2 == 0  # cift mi?\n"
      ],
      "metadata": {
        "colab": {
          "base_uri": "https://localhost:8080/"
        },
        "id": "No_0bSjlM-hm",
        "outputId": "428d2c34-99e1-42f3-c7bd-ccdb00c87a50"
      },
      "execution_count": null,
      "outputs": [
        {
          "output_type": "execute_result",
          "data": {
            "text/plain": [
              "False"
            ]
          },
          "metadata": {},
          "execution_count": 71
        }
      ]
    },
    {
      "cell_type": "code",
      "source": [
        "20 % 2 == 0  # cift mi?"
      ],
      "metadata": {
        "colab": {
          "base_uri": "https://localhost:8080/"
        },
        "id": "ae1nN4IHM-j_",
        "outputId": "35160883-bca1-4c6c-d951-13d50189e7e2"
      },
      "execution_count": null,
      "outputs": [
        {
          "output_type": "execute_result",
          "data": {
            "text/plain": [
              "True"
            ]
          },
          "metadata": {},
          "execution_count": 72
        }
      ]
    },
    {
      "cell_type": "code",
      "source": [
        "print(2 ** 3)\n",
        "print(3 ** 2)\n",
        "a = 2\n",
        "b = 8\n",
        "print((2 * 8) ** 0.5)  # karekok"
      ],
      "metadata": {
        "colab": {
          "base_uri": "https://localhost:8080/"
        },
        "id": "Tk44pE1KKb5M",
        "outputId": "7da359b9-1327-4ab6-9c1b-abda4c91cc4f"
      },
      "execution_count": null,
      "outputs": [
        {
          "output_type": "stream",
          "name": "stdout",
          "text": [
            "8\n",
            "9\n",
            "4.0\n"
          ]
        }
      ]
    },
    {
      "cell_type": "code",
      "source": [
        "num = 5\n",
        "\n",
        "num = num + 3\n",
        "num"
      ],
      "metadata": {
        "colab": {
          "base_uri": "https://localhost:8080/"
        },
        "id": "hkCQeqBnPLrH",
        "outputId": "5d634921-d439-4f1f-bf7e-7fb2a9836cb7"
      },
      "execution_count": null,
      "outputs": [
        {
          "output_type": "execute_result",
          "data": {
            "text/plain": [
              "8"
            ]
          },
          "metadata": {},
          "execution_count": 74
        }
      ]
    },
    {
      "cell_type": "code",
      "source": [
        "num = 5\n",
        "num += 3  # num = num + 3\n",
        "\n",
        "num"
      ],
      "metadata": {
        "colab": {
          "base_uri": "https://localhost:8080/"
        },
        "id": "9QlgqU_zPzqq",
        "outputId": "8e2f61e3-b293-4117-b86b-a58dc4bb44d3"
      },
      "execution_count": null,
      "outputs": [
        {
          "output_type": "execute_result",
          "data": {
            "text/plain": [
              "8"
            ]
          },
          "metadata": {},
          "execution_count": 75
        }
      ]
    },
    {
      "cell_type": "code",
      "source": [
        "a = 5\n",
        "\n",
        "# a nin degerini 3 arttir\n",
        "\n",
        "print(a + 3)\n",
        "\n",
        "print(a)\n",
        "\n",
        "print('-'*10)\n",
        "\n",
        "a = a + 3\n",
        "\n",
        "\n",
        "print(a)"
      ],
      "metadata": {
        "colab": {
          "base_uri": "https://localhost:8080/"
        },
        "id": "JDSVGdGhPztA",
        "outputId": "da1d89b3-0eaa-4a1b-e4c0-4245b7a7be82"
      },
      "execution_count": null,
      "outputs": [
        {
          "output_type": "stream",
          "name": "stdout",
          "text": [
            "8\n",
            "5\n",
            "----------\n",
            "8\n"
          ]
        }
      ]
    },
    {
      "cell_type": "code",
      "source": [
        "a = 5\n",
        "\n",
        "a += 3  # a = a + 3\n",
        "\n",
        "print(a)"
      ],
      "metadata": {
        "colab": {
          "base_uri": "https://localhost:8080/"
        },
        "id": "8XFAWLlLPzvC",
        "outputId": "8f32faeb-b6f9-4467-bf76-dab387e2c03a"
      },
      "execution_count": null,
      "outputs": [
        {
          "output_type": "stream",
          "name": "stdout",
          "text": [
            "8\n"
          ]
        }
      ]
    },
    {
      "cell_type": "code",
      "source": [
        "a = 10\n",
        "\n",
        "a -= 3  # a = a - 3\n",
        "a"
      ],
      "metadata": {
        "colab": {
          "base_uri": "https://localhost:8080/"
        },
        "id": "5p7zvG6KPLwK",
        "outputId": "06a7ef51-d93c-4dac-ea81-6e9e5ae46ec0"
      },
      "execution_count": null,
      "outputs": [
        {
          "output_type": "execute_result",
          "data": {
            "text/plain": [
              "7"
            ]
          },
          "metadata": {},
          "execution_count": 79
        }
      ]
    },
    {
      "cell_type": "code",
      "source": [
        "a = 5\n",
        "\n",
        "a **= 2  # a = a ** 2\n",
        "\n",
        "a"
      ],
      "metadata": {
        "colab": {
          "base_uri": "https://localhost:8080/"
        },
        "id": "u5uFUes-PLyw",
        "outputId": "4c04db44-7a90-41b5-c710-3de6e360d524"
      },
      "execution_count": null,
      "outputs": [
        {
          "output_type": "execute_result",
          "data": {
            "text/plain": [
              "25"
            ]
          },
          "metadata": {},
          "execution_count": 80
        }
      ]
    },
    {
      "cell_type": "code",
      "source": [
        "a = 11\n",
        "\n",
        "a // = 2  # a = a // 2\n",
        "\n",
        "a"
      ],
      "metadata": {
        "colab": {
          "base_uri": "https://localhost:8080/"
        },
        "id": "_dv1k_o0VLCv",
        "outputId": "6ba066ab-3fd9-48c8-92ab-f1a58d065fa6"
      },
      "execution_count": null,
      "outputs": [
        {
          "output_type": "execute_result",
          "data": {
            "text/plain": [
              "5"
            ]
          },
          "metadata": {},
          "execution_count": 81
        }
      ]
    },
    {
      "cell_type": "code",
      "source": [
        "a = 11\n",
        "\n",
        "a %= 2  # a = a % 2\n",
        "\n",
        "a"
      ],
      "metadata": {
        "colab": {
          "base_uri": "https://localhost:8080/"
        },
        "id": "-545e_4LVMB1",
        "outputId": "b51fe428-ce50-4df6-958f-7cf47e915ba6"
      },
      "execution_count": null,
      "outputs": [
        {
          "output_type": "execute_result",
          "data": {
            "text/plain": [
              "1"
            ]
          },
          "metadata": {},
          "execution_count": 82
        }
      ]
    },
    {
      "cell_type": "code",
      "source": [
        "x = -3\n",
        "\n",
        "x ** 2"
      ],
      "metadata": {
        "colab": {
          "base_uri": "https://localhost:8080/"
        },
        "id": "_WrbBT3DVMEc",
        "outputId": "aece8bf4-ed0a-4262-f396-83f69a3e8e23"
      },
      "execution_count": null,
      "outputs": [
        {
          "output_type": "execute_result",
          "data": {
            "text/plain": [
              "9"
            ]
          },
          "metadata": {},
          "execution_count": 83
        }
      ]
    },
    {
      "cell_type": "code",
      "source": [
        "-3 ** 2"
      ],
      "metadata": {
        "colab": {
          "base_uri": "https://localhost:8080/"
        },
        "id": "ZxvCBGvJVMG2",
        "outputId": "e8e3103a-928b-494e-dd3b-99b8e640b1b6"
      },
      "execution_count": null,
      "outputs": [
        {
          "output_type": "execute_result",
          "data": {
            "text/plain": [
              "-9"
            ]
          },
          "metadata": {},
          "execution_count": 84
        }
      ]
    },
    {
      "cell_type": "code",
      "source": [
        "(-3) ** 2"
      ],
      "metadata": {
        "colab": {
          "base_uri": "https://localhost:8080/"
        },
        "id": "5m11hspdVMJF",
        "outputId": "16876a55-5dcc-4630-df24-409ecc6be07a"
      },
      "execution_count": null,
      "outputs": [
        {
          "output_type": "execute_result",
          "data": {
            "text/plain": [
              "9"
            ]
          },
          "metadata": {},
          "execution_count": 85
        }
      ]
    },
    {
      "cell_type": "code",
      "source": [
        "help(print)"
      ],
      "metadata": {
        "colab": {
          "base_uri": "https://localhost:8080/"
        },
        "id": "ZsnkuKZOVMLm",
        "outputId": "395faa49-f1e2-49a3-b3b8-256768d2eff0"
      },
      "execution_count": null,
      "outputs": [
        {
          "output_type": "stream",
          "name": "stdout",
          "text": [
            "Help on built-in function print in module builtins:\n",
            "\n",
            "print(...)\n",
            "    print(value, ..., sep=' ', end='\\n', file=sys.stdout, flush=False)\n",
            "    \n",
            "    Prints the values to a stream, or to sys.stdout by default.\n",
            "    Optional keyword arguments:\n",
            "    file:  a file-like object (stream); defaults to the current sys.stdout.\n",
            "    sep:   string inserted between values, default a space.\n",
            "    end:   string appended after the last value, default a newline.\n",
            "    flush: whether to forcibly flush the stream.\n",
            "\n"
          ]
        }
      ]
    },
    {
      "cell_type": "code",
      "source": [
        "?print"
      ],
      "metadata": {
        "id": "xhb-tMMXYSIO"
      },
      "execution_count": 89,
      "outputs": []
    },
    {
      "cell_type": "code",
      "source": [
        "number = 2023\n",
        "text = \"We have reached\"\n",
        "\n",
        "print(text, number)"
      ],
      "metadata": {
        "id": "mFacTNLIVMQL",
        "colab": {
          "base_uri": "https://localhost:8080/"
        },
        "outputId": "65100a85-337a-4b99-a6e1-5e4c9dbde917"
      },
      "execution_count": 90,
      "outputs": [
        {
          "output_type": "stream",
          "name": "stdout",
          "text": [
            "We have reached 2023\n"
          ]
        }
      ]
    },
    {
      "cell_type": "code",
      "source": [
        "name1 = \"ali\"\n",
        "name2 = \"veli\"\n",
        "\n",
        "print(name1, name2)"
      ],
      "metadata": {
        "id": "eq1tdbLbVMSu",
        "colab": {
          "base_uri": "https://localhost:8080/"
        },
        "outputId": "17c3645a-884e-431c-d311-90c835d9bc25"
      },
      "execution_count": 91,
      "outputs": [
        {
          "output_type": "stream",
          "name": "stdout",
          "text": [
            "ali veli\n"
          ]
        }
      ]
    },
    {
      "cell_type": "code",
      "source": [
        "print(name1)\n",
        "print(name2)"
      ],
      "metadata": {
        "id": "V0l3R5dNVMU3",
        "colab": {
          "base_uri": "https://localhost:8080/"
        },
        "outputId": "d4d93035-c312-4632-cb94-4b027f17d6e6"
      },
      "execution_count": 92,
      "outputs": [
        {
          "output_type": "stream",
          "name": "stdout",
          "text": [
            "ali\n",
            "veli\n"
          ]
        }
      ]
    },
    {
      "cell_type": "code",
      "source": [
        "print(name1, name2, sep = '-')"
      ],
      "metadata": {
        "colab": {
          "base_uri": "https://localhost:8080/"
        },
        "id": "TvF5Wu-bY-rg",
        "outputId": "00dfd4da-6560-497d-ff36-5a179991c1a7"
      },
      "execution_count": 94,
      "outputs": [
        {
          "output_type": "stream",
          "name": "stdout",
          "text": [
            "ali-veli\n"
          ]
        }
      ]
    },
    {
      "cell_type": "code",
      "source": [
        "print(name1, name2, sep = '*')"
      ],
      "metadata": {
        "colab": {
          "base_uri": "https://localhost:8080/"
        },
        "id": "25f-4dGYZCi7",
        "outputId": "a930ef57-e473-43b9-842b-5283255d5205"
      },
      "execution_count": 95,
      "outputs": [
        {
          "output_type": "stream",
          "name": "stdout",
          "text": [
            "ali*veli\n"
          ]
        }
      ]
    },
    {
      "cell_type": "code",
      "source": [
        "print(sep = '-', name1, name2)"
      ],
      "metadata": {
        "colab": {
          "base_uri": "https://localhost:8080/",
          "height": 141
        },
        "id": "gGOtRat3ZCll",
        "outputId": "1178d611-b2c1-4e9b-bcc1-835071548f1e"
      },
      "execution_count": 96,
      "outputs": [
        {
          "output_type": "error",
          "ename": "SyntaxError",
          "evalue": "ignored",
          "traceback": [
            "\u001b[0;36m  File \u001b[0;32m\"<ipython-input-96-961b944d66aa>\"\u001b[0;36m, line \u001b[0;32m1\u001b[0m\n\u001b[0;31m    print(sep = '-', name1, name2)\u001b[0m\n\u001b[0m                                 ^\u001b[0m\n\u001b[0;31mSyntaxError\u001b[0m\u001b[0;31m:\u001b[0m positional argument follows keyword argument\n"
          ]
        }
      ]
    },
    {
      "cell_type": "code",
      "source": [
        "print(name1, name2, sep = '-')  # default sep = ' '"
      ],
      "metadata": {
        "colab": {
          "base_uri": "https://localhost:8080/"
        },
        "id": "E-awfjlgZCoY",
        "outputId": "14b49dd7-d8f6-46df-838d-e52b024f6818"
      },
      "execution_count": 97,
      "outputs": [
        {
          "output_type": "stream",
          "name": "stdout",
          "text": [
            "ali-veli\n"
          ]
        }
      ]
    },
    {
      "cell_type": "code",
      "source": [
        "name = \"Joseph\"\n",
        "age = 35\n",
        "\n",
        "print(name)\n",
        "print(age)\n",
        "\n"
      ],
      "metadata": {
        "colab": {
          "base_uri": "https://localhost:8080/"
        },
        "id": "2lJosS2lZCq3",
        "outputId": "1cdbdf11-9ed8-4254-80ed-e060c0489efc"
      },
      "execution_count": 98,
      "outputs": [
        {
          "output_type": "stream",
          "name": "stdout",
          "text": [
            "Joseph\n",
            "35\n"
          ]
        }
      ]
    },
    {
      "cell_type": "code",
      "source": [
        "print(\"Bir \\npython developer'im.\")"
      ],
      "metadata": {
        "colab": {
          "base_uri": "https://localhost:8080/"
        },
        "id": "6YNYYJNBZ74m",
        "outputId": "ca340f28-eb5f-478c-f654-3c7c7c687b19"
      },
      "execution_count": 101,
      "outputs": [
        {
          "output_type": "stream",
          "name": "stdout",
          "text": [
            "Bir \n",
            "python developer'im.\n"
          ]
        }
      ]
    },
    {
      "cell_type": "code",
      "source": [
        "name = \"Joseph\"\n",
        "age = 35\n",
        "\n",
        "print(name, age, end = ' ')\n",
        "print('Merhaba')\n",
        "print(\"Hello\")"
      ],
      "metadata": {
        "colab": {
          "base_uri": "https://localhost:8080/"
        },
        "id": "1tkd-YA2Z76-",
        "outputId": "9f1793db-bf82-404a-b467-f13af646135e"
      },
      "execution_count": 105,
      "outputs": [
        {
          "output_type": "stream",
          "name": "stdout",
          "text": [
            "Joseph 35 Merhaba\n",
            "Hello\n"
          ]
        }
      ]
    },
    {
      "cell_type": "code",
      "source": [
        "name = \"Joseph\"\n",
        "age = 35\n",
        "\n",
        "print(name, end = '-')\n",
        "print(age)"
      ],
      "metadata": {
        "colab": {
          "base_uri": "https://localhost:8080/"
        },
        "id": "K0Sm4ZC-Z79Z",
        "outputId": "0f92d42b-64e4-4faf-c336-d905a66aaf4a"
      },
      "execution_count": 103,
      "outputs": [
        {
          "output_type": "stream",
          "name": "stdout",
          "text": [
            "Joseph-35\n"
          ]
        }
      ]
    },
    {
      "cell_type": "code",
      "source": [
        "name = \"Jack\"\n",
        "year = 2023\n",
        "city = \"Istanbul\"\n",
        "\n",
        "\n",
        "print(name, year, sep = '-', end = ' ')\n",
        "print(city)"
      ],
      "metadata": {
        "colab": {
          "base_uri": "https://localhost:8080/"
        },
        "id": "weAHtV1uZ7_k",
        "outputId": "ef77c453-f212-4f3f-ecd2-8cdf9fdec5d6"
      },
      "execution_count": 106,
      "outputs": [
        {
          "output_type": "stream",
          "name": "stdout",
          "text": [
            "Jack-2023 Istanbul\n"
          ]
        }
      ]
    },
    {
      "cell_type": "code",
      "source": [
        "print(name, year, sep = '-', end = ' ', city)"
      ],
      "metadata": {
        "colab": {
          "base_uri": "https://localhost:8080/",
          "height": 141
        },
        "id": "DlxKiQBPbNuf",
        "outputId": "f9e29a2f-1b24-4101-8e84-2f71999cd494"
      },
      "execution_count": 107,
      "outputs": [
        {
          "output_type": "error",
          "ename": "SyntaxError",
          "evalue": "ignored",
          "traceback": [
            "\u001b[0;36m  File \u001b[0;32m\"<ipython-input-107-8b91a0968b36>\"\u001b[0;36m, line \u001b[0;32m1\u001b[0m\n\u001b[0;31m    print(name, year, sep = '-', end = ' ', city)\u001b[0m\n\u001b[0m                                                ^\u001b[0m\n\u001b[0;31mSyntaxError\u001b[0m\u001b[0;31m:\u001b[0m positional argument follows keyword argument\n"
          ]
        }
      ]
    },
    {
      "cell_type": "code",
      "source": [
        "print('clarus''\\nway')"
      ],
      "metadata": {
        "colab": {
          "base_uri": "https://localhost:8080/"
        },
        "id": "Z07kePxpbNxA",
        "outputId": "e345d085-b09c-414f-e7aa-94c171f00db1"
      },
      "execution_count": 110,
      "outputs": [
        {
          "output_type": "stream",
          "name": "stdout",
          "text": [
            "clarus\n",
            "way\n"
          ]
        }
      ]
    },
    {
      "cell_type": "code",
      "source": [
        "name = \"Joseph\"\n",
        "age = '35'\n",
        "print(name + '\\n' + age)"
      ],
      "metadata": {
        "colab": {
          "base_uri": "https://localhost:8080/"
        },
        "id": "DfcLF3NAbNzj",
        "outputId": "ca1ac699-bdde-42d6-a632-ce49ac242026"
      },
      "execution_count": 111,
      "outputs": [
        {
          "output_type": "stream",
          "name": "stdout",
          "text": [
            "Joseph\n",
            "35\n"
          ]
        }
      ]
    },
    {
      "cell_type": "code",
      "source": [
        "print(name+age)"
      ],
      "metadata": {
        "colab": {
          "base_uri": "https://localhost:8080/"
        },
        "id": "JfS1FeQAbN2B",
        "outputId": "612c3df8-e305-419b-f36f-f066744f9972"
      },
      "execution_count": 112,
      "outputs": [
        {
          "output_type": "stream",
          "name": "stdout",
          "text": [
            "Joseph35\n"
          ]
        }
      ]
    },
    {
      "cell_type": "code",
      "source": [
        "print(name, age)"
      ],
      "metadata": {
        "colab": {
          "base_uri": "https://localhost:8080/"
        },
        "id": "zjo-WV0mbN32",
        "outputId": "85e0dbe6-0954-49be-8d8b-b4a2a38ceba1"
      },
      "execution_count": 113,
      "outputs": [
        {
          "output_type": "stream",
          "name": "stdout",
          "text": [
            "Joseph 35\n"
          ]
        }
      ]
    },
    {
      "cell_type": "code",
      "source": [
        "text1 = \"I bought\"\n",
        "text2 = \"kg. of apple this morning\"\n",
        "amount = 6\n",
        "text3 = text1 + \" \" + str(amount) + \" \" + text2\n",
        "print(text1, amount, text2)  # sep =  ' '\n",
        "print(\"I bought\", 6, \"kg. of apple this morning\")\n",
        "print(\"I bought \" + \"6 \" + \"kg. of apple this morning\")\n",
        "print(text3)"
      ],
      "metadata": {
        "colab": {
          "base_uri": "https://localhost:8080/"
        },
        "id": "KeCI5x4ddm-8",
        "outputId": "901d35d3-c931-4263-afcf-8f945482a921"
      },
      "execution_count": 114,
      "outputs": [
        {
          "output_type": "stream",
          "name": "stdout",
          "text": [
            "I bought 6 kg. of apple this morning\n",
            "I bought 6 kg. of apple this morning\n",
            "I bought 6 kg. of apple this morning\n",
            "I bought 6 kg. of apple this morning\n"
          ]
        }
      ]
    },
    {
      "cell_type": "code",
      "source": [
        "name+age"
      ],
      "metadata": {
        "colab": {
          "base_uri": "https://localhost:8080/",
          "height": 35
        },
        "id": "le3Sk1SZdnBq",
        "outputId": "715ac5df-5225-4f00-a0c6-8e85b7a48f37"
      },
      "execution_count": 115,
      "outputs": [
        {
          "output_type": "execute_result",
          "data": {
            "text/plain": [
              "'Joseph35'"
            ],
            "application/vnd.google.colaboratory.intrinsic+json": {
              "type": "string"
            }
          },
          "metadata": {},
          "execution_count": 115
        }
      ]
    },
    {
      "cell_type": "code",
      "source": [
        "'clarus'+'way'"
      ],
      "metadata": {
        "colab": {
          "base_uri": "https://localhost:8080/",
          "height": 35
        },
        "id": "EFf9mf-BdnD-",
        "outputId": "631ec539-361e-4450-a830-a9d3cae2db05"
      },
      "execution_count": 116,
      "outputs": [
        {
          "output_type": "execute_result",
          "data": {
            "text/plain": [
              "'clarusway'"
            ],
            "application/vnd.google.colaboratory.intrinsic+json": {
              "type": "string"
            }
          },
          "metadata": {},
          "execution_count": 116
        }
      ]
    },
    {
      "cell_type": "code",
      "source": [
        "sayi1 = 72\n",
        "sayi2 = 72\n",
        "\n",
        "sayi1 is sayi2"
      ],
      "metadata": {
        "colab": {
          "base_uri": "https://localhost:8080/"
        },
        "id": "tWWgksqbdnGT",
        "outputId": "8d548569-b043-4d8d-d9c0-d7ff7a719cba"
      },
      "execution_count": 123,
      "outputs": [
        {
          "output_type": "stream",
          "name": "stdout",
          "text": [
            "138722786793424\n",
            "138722786796336\n"
          ]
        },
        {
          "output_type": "execute_result",
          "data": {
            "text/plain": [
              "False"
            ]
          },
          "metadata": {},
          "execution_count": 123
        }
      ]
    },
    {
      "cell_type": "code",
      "source": [
        "sayi1 = 72.0\n",
        "sayi2 = 72.0\n",
        "\n",
        "print(id(sayi1))\n",
        "print(id(sayi2))\n",
        "print(sayi1 is sayi2)"
      ],
      "metadata": {
        "colab": {
          "base_uri": "https://localhost:8080/"
        },
        "id": "vq2g5RzFiE2N",
        "outputId": "c368cd7e-8827-4862-bf02-744ec55fa3a5"
      },
      "execution_count": 122,
      "outputs": [
        {
          "output_type": "stream",
          "name": "stdout",
          "text": [
            "138722786792464\n",
            "138722786794416\n",
            "False\n"
          ]
        }
      ]
    },
    {
      "cell_type": "code",
      "source": [],
      "metadata": {
        "id": "mXZNh5JUiudU"
      },
      "execution_count": null,
      "outputs": []
    },
    {
      "cell_type": "code",
      "source": [],
      "metadata": {
        "id": "YE30-6JJiug5"
      },
      "execution_count": null,
      "outputs": []
    }
  ]
}