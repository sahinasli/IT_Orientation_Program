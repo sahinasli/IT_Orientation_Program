{
  "nbformat": 4,
  "nbformat_minor": 0,
  "metadata": {
    "colab": {
      "provenance": []
    },
    "kernelspec": {
      "name": "python3",
      "display_name": "Python 3"
    },
    "language_info": {
      "name": "python"
    }
  },
  "cells": [
    {
      "cell_type": "markdown",
      "source": [
        "**Python official documentation 1 - Defining Functions: https://docs.python.org/3/tutorial/controlflow.html#defining-functions**\n",
        "\n",
        "**Python official documentation 2 - Default Argument Values: https://docs.python.org/3/tutorial/controlflow.html#default-argument-values**\n",
        "\n",
        "**Python official documentation 3- Keyword Arguments: https://docs.python.org/3/tutorial/controlflow.html#keyword-arguments**\n",
        "\n",
        "**Python official documentation 4- Positional or Keyword Arguments:  https://docs.python.org/3/tutorial/controlflow.html#positional-or-keyword-arguments**\n",
        "\n",
        "**Python official documentation 5- Arbitrary Argument Lists: https://docs.python.org/3/tutorial/controlflow.html#arbitrary-argument-lists**"
      ],
      "metadata": {
        "id": "cxxQYzsnjP-U"
      }
    },
    {
      "cell_type": "code",
      "execution_count": null,
      "metadata": {
        "id": "Zvu34tHbMbOn"
      },
      "outputs": [],
      "source": [
        "def who(first_name, last_name):\n",
        "  print(f\"Your first name is {first_name}\")\n",
        "  print(f\"Your last name is {last_name}\")"
      ]
    },
    {
      "cell_type": "code",
      "source": [
        "who('Robert', 'De Niro')"
      ],
      "metadata": {
        "colab": {
          "base_uri": "https://localhost:8080/"
        },
        "id": "XnuCAOzaW0rF",
        "outputId": "4f9068a4-f082-4826-9ac2-22bd1d431d1c"
      },
      "execution_count": null,
      "outputs": [
        {
          "output_type": "stream",
          "name": "stdout",
          "text": [
            "Your first name is Robert\n",
            "Your last name is De Niro\n"
          ]
        }
      ]
    },
    {
      "cell_type": "code",
      "source": [
        "who('Robert')"
      ],
      "metadata": {
        "colab": {
          "base_uri": "https://localhost:8080/",
          "height": 175
        },
        "id": "mzou65IpW0tW",
        "outputId": "0f6a0d0c-fb1d-4ce6-d1b2-261ee4eb90e0"
      },
      "execution_count": null,
      "outputs": [
        {
          "output_type": "error",
          "ename": "TypeError",
          "evalue": "ignored",
          "traceback": [
            "\u001b[0;31m---------------------------------------------------------------------------\u001b[0m",
            "\u001b[0;31mTypeError\u001b[0m                                 Traceback (most recent call last)",
            "\u001b[0;32m<ipython-input-3-da396eccf267>\u001b[0m in \u001b[0;36m<cell line: 1>\u001b[0;34m()\u001b[0m\n\u001b[0;32m----> 1\u001b[0;31m \u001b[0mwho\u001b[0m\u001b[0;34m(\u001b[0m\u001b[0;34m'Robert'\u001b[0m\u001b[0;34m)\u001b[0m\u001b[0;34m\u001b[0m\u001b[0;34m\u001b[0m\u001b[0m\n\u001b[0m",
            "\u001b[0;31mTypeError\u001b[0m: who() missing 1 required positional argument: 'last_name'"
          ]
        }
      ]
    },
    {
      "cell_type": "code",
      "source": [
        "who('Guido', 'Van Rossum')"
      ],
      "metadata": {
        "colab": {
          "base_uri": "https://localhost:8080/"
        },
        "id": "VkQvOp-lW0vv",
        "outputId": "fdc6318c-09b6-4d81-9ced-68c748063d71"
      },
      "execution_count": null,
      "outputs": [
        {
          "output_type": "stream",
          "name": "stdout",
          "text": [
            "Your first name is Guido\n",
            "Your last name is Van Rossum\n"
          ]
        }
      ]
    },
    {
      "cell_type": "code",
      "source": [
        "a = 'i'\n",
        "b = 'love'\n",
        "c = 'you'\n",
        "\n",
        "print(a, b, c)"
      ],
      "metadata": {
        "colab": {
          "base_uri": "https://localhost:8080/"
        },
        "id": "lkS-KFGrXsd2",
        "outputId": "9828d3c4-1828-48d5-d3a3-dee969871a0d"
      },
      "execution_count": null,
      "outputs": [
        {
          "output_type": "stream",
          "name": "stdout",
          "text": [
            "i love you\n"
          ]
        }
      ]
    },
    {
      "cell_type": "code",
      "source": [
        "print(b,a,c)"
      ],
      "metadata": {
        "colab": {
          "base_uri": "https://localhost:8080/"
        },
        "id": "dxoCeaIxeGFR",
        "outputId": "7f0643c2-bb55-4108-a65e-57fa6dab9868"
      },
      "execution_count": null,
      "outputs": [
        {
          "output_type": "stream",
          "name": "stdout",
          "text": [
            "love i you\n"
          ]
        }
      ]
    },
    {
      "cell_type": "code",
      "source": [
        "a = 'i'\n",
        "b = 'love'\n",
        "c = 'you'\n",
        "\n",
        "def texter(c, a, b):\n",
        "  print(a, b, c)"
      ],
      "metadata": {
        "id": "V7g00r3ueGH8"
      },
      "execution_count": null,
      "outputs": []
    },
    {
      "cell_type": "code",
      "source": [
        "texter(c,a,b)"
      ],
      "metadata": {
        "colab": {
          "base_uri": "https://localhost:8080/"
        },
        "id": "h1iCmwd7eGKf",
        "outputId": "9f5c3b1d-6380-4a5a-8fe2-f91324e8c573"
      },
      "execution_count": null,
      "outputs": [
        {
          "output_type": "stream",
          "name": "stdout",
          "text": [
            "i love you\n"
          ]
        }
      ]
    },
    {
      "cell_type": "code",
      "source": [
        "texter(a,b,c)"
      ],
      "metadata": {
        "colab": {
          "base_uri": "https://localhost:8080/"
        },
        "id": "BqX1HbLeeGNF",
        "outputId": "176fad87-0389-49f5-91a4-eabefaa6c469"
      },
      "execution_count": null,
      "outputs": [
        {
          "output_type": "stream",
          "name": "stdout",
          "text": [
            "love you i\n"
          ]
        }
      ]
    },
    {
      "cell_type": "code",
      "source": [
        "def texter(text1, text2, text3):\n",
        "  print(f\"{text2} {text3} {text1}\")"
      ],
      "metadata": {
        "id": "vrVUnRpfeGPS"
      },
      "execution_count": null,
      "outputs": []
    },
    {
      "cell_type": "code",
      "source": [
        "texter('I', 'love', 'you')"
      ],
      "metadata": {
        "id": "MCJ9EBUuW0xs"
      },
      "execution_count": null,
      "outputs": []
    },
    {
      "cell_type": "code",
      "source": [
        "texter('you', 'I', 'love')"
      ],
      "metadata": {
        "colab": {
          "base_uri": "https://localhost:8080/"
        },
        "id": "yqFvjsngfxRh",
        "outputId": "76080f39-f816-420e-d937-efd6681676c6"
      },
      "execution_count": null,
      "outputs": [
        {
          "output_type": "stream",
          "name": "stdout",
          "text": [
            "I love you\n"
          ]
        }
      ]
    },
    {
      "cell_type": "code",
      "source": [
        "def who(first_name, last_name):\n",
        "  print(f\"Your first name is {first_name}\")\n",
        "  print(f\"Your last name is {last_name}\")"
      ],
      "metadata": {
        "id": "5MHSEzTQf2qI"
      },
      "execution_count": null,
      "outputs": []
    },
    {
      "cell_type": "code",
      "source": [
        "who(first_name = 'Robert', last_name = 'De Niro')"
      ],
      "metadata": {
        "colab": {
          "base_uri": "https://localhost:8080/"
        },
        "id": "HbfoUD-3f3PN",
        "outputId": "f57cad26-7100-4ea9-8611-af9eebfb8120"
      },
      "execution_count": null,
      "outputs": [
        {
          "output_type": "stream",
          "name": "stdout",
          "text": [
            "Your first name is Robert\n",
            "Your last name is De Niro\n"
          ]
        }
      ]
    },
    {
      "cell_type": "code",
      "source": [
        "def texter(text1, text2, text3):\n",
        "  print(f\"{text2} {text3} {text1}\")"
      ],
      "metadata": {
        "id": "K4wRHQGYf3RU"
      },
      "execution_count": null,
      "outputs": []
    },
    {
      "cell_type": "code",
      "source": [
        "texter(text1 = 'you', text2 = 'I', text3 = 'love')"
      ],
      "metadata": {
        "colab": {
          "base_uri": "https://localhost:8080/"
        },
        "id": "dr8as2DSf3TV",
        "outputId": "b4b25ac0-c91b-4904-e2e9-a2846c6e03d8"
      },
      "execution_count": null,
      "outputs": [
        {
          "output_type": "stream",
          "name": "stdout",
          "text": [
            "I love you\n"
          ]
        }
      ]
    },
    {
      "cell_type": "code",
      "source": [
        "texter(text2 = 'I', text3 = 'love', text1 = 'you')"
      ],
      "metadata": {
        "colab": {
          "base_uri": "https://localhost:8080/"
        },
        "id": "MQUkjCr1g61g",
        "outputId": "a0655b8f-a304-4484-acdb-c5b6f1e7f743"
      },
      "execution_count": null,
      "outputs": [
        {
          "output_type": "stream",
          "name": "stdout",
          "text": [
            "I love you\n"
          ]
        }
      ]
    },
    {
      "cell_type": "code",
      "source": [
        "def introduce(name = \"Ali\", age = 12):\n",
        "  print(f\"My name is {name}, I'm {age}\")"
      ],
      "metadata": {
        "id": "7pxQo_2Hg636"
      },
      "execution_count": null,
      "outputs": []
    },
    {
      "cell_type": "code",
      "source": [
        "introduce()"
      ],
      "metadata": {
        "colab": {
          "base_uri": "https://localhost:8080/"
        },
        "id": "QKvBY9yRg66J",
        "outputId": "a3610132-0b8b-4281-be38-0327d949e3ba"
      },
      "execution_count": null,
      "outputs": [
        {
          "output_type": "stream",
          "name": "stdout",
          "text": [
            "My name is Ali, I'm 12\n"
          ]
        }
      ]
    },
    {
      "cell_type": "code",
      "source": [
        "introduce(name = 'Mehmet')"
      ],
      "metadata": {
        "colab": {
          "base_uri": "https://localhost:8080/"
        },
        "id": "kfr_Ywfzg68d",
        "outputId": "ee13d7af-2df1-4c3c-904a-bf9b85caf004"
      },
      "execution_count": null,
      "outputs": [
        {
          "output_type": "stream",
          "name": "stdout",
          "text": [
            "My name is Mehmet, I'm 12\n"
          ]
        }
      ]
    },
    {
      "cell_type": "code",
      "source": [
        "introduce(age = 25)"
      ],
      "metadata": {
        "colab": {
          "base_uri": "https://localhost:8080/"
        },
        "id": "kTMDqRrpg7Ay",
        "outputId": "b4ca6d1c-8485-4273-dad2-872572cdad7e"
      },
      "execution_count": null,
      "outputs": [
        {
          "output_type": "stream",
          "name": "stdout",
          "text": [
            "My name is Ali, I'm 25\n"
          ]
        }
      ]
    },
    {
      "cell_type": "code",
      "source": [
        "introduce('Mehmet', 25)"
      ],
      "metadata": {
        "colab": {
          "base_uri": "https://localhost:8080/"
        },
        "id": "aj0_Os2DivUW",
        "outputId": "706a8630-52e1-4c41-d533-7fdbf90c164b"
      },
      "execution_count": null,
      "outputs": [
        {
          "output_type": "stream",
          "name": "stdout",
          "text": [
            "My name is Mehmet, I'm 25\n"
          ]
        }
      ]
    },
    {
      "cell_type": "code",
      "source": [
        "def parrot(voltage, state='a stiff', action='voom', type='Norwegian Blue'):\n",
        "    print(\"-- This parrot wouldn't\", action, end=' ')\n",
        "    print(\"if you put\", voltage, \"volts through it.\")\n",
        "    print(\"-- Lovely plumage, the\", type)\n",
        "    print(\"-- It's\", state, \"!\")"
      ],
      "metadata": {
        "id": "Ft1-gYUaivXI"
      },
      "execution_count": null,
      "outputs": []
    },
    {
      "cell_type": "code",
      "source": [
        "parrot(1000)"
      ],
      "metadata": {
        "colab": {
          "base_uri": "https://localhost:8080/"
        },
        "id": "4JMKeKPJqXWv",
        "outputId": "2c0bef25-288a-46d7-a4eb-fd978ebb1249"
      },
      "execution_count": null,
      "outputs": [
        {
          "output_type": "stream",
          "name": "stdout",
          "text": [
            "-- This parrot wouldn't voom if you put 1000 volts through it.\n",
            "-- Lovely plumage, the Norwegian Blue\n",
            "-- It's a stiff !\n"
          ]
        }
      ]
    },
    {
      "cell_type": "code",
      "source": [
        "parrot(voltage = 1_000_000)"
      ],
      "metadata": {
        "colab": {
          "base_uri": "https://localhost:8080/"
        },
        "id": "CqHKjXLMqXZ_",
        "outputId": "5bd97a35-fc65-4d03-ecfc-839df6f51f5d"
      },
      "execution_count": null,
      "outputs": [
        {
          "output_type": "stream",
          "name": "stdout",
          "text": [
            "-- This parrot wouldn't voom if you put 1000000 volts through it.\n",
            "-- Lovely plumage, the Norwegian Blue\n",
            "-- It's a stiff !\n"
          ]
        }
      ]
    },
    {
      "cell_type": "code",
      "source": [
        "parrot(action = \"VOOOOM\", voltage = 1000000)  # tum argumentler kwargs ise sira farketmeksizin yazilabilir"
      ],
      "metadata": {
        "colab": {
          "base_uri": "https://localhost:8080/"
        },
        "id": "x7tZFhLvqXfY",
        "outputId": "d50e15b4-951c-4529-b270-9c9d68614684"
      },
      "execution_count": null,
      "outputs": [
        {
          "output_type": "stream",
          "name": "stdout",
          "text": [
            "-- This parrot wouldn't VOOOOM if you put 1000000 volts through it.\n",
            "-- Lovely plumage, the Norwegian Blue\n",
            "-- It's a stiff !\n"
          ]
        }
      ]
    },
    {
      "cell_type": "code",
      "source": [
        "parrot(110, voltage = 10000)  # cift atama"
      ],
      "metadata": {
        "colab": {
          "base_uri": "https://localhost:8080/",
          "height": 175
        },
        "id": "Z2CeZS_WivZb",
        "outputId": "77736ab6-532a-4f8a-b412-9af97c306993"
      },
      "execution_count": null,
      "outputs": [
        {
          "output_type": "error",
          "ename": "TypeError",
          "evalue": "ignored",
          "traceback": [
            "\u001b[0;31m---------------------------------------------------------------------------\u001b[0m",
            "\u001b[0;31mTypeError\u001b[0m                                 Traceback (most recent call last)",
            "\u001b[0;32m<ipython-input-37-950a3460ba1d>\u001b[0m in \u001b[0;36m<cell line: 1>\u001b[0;34m()\u001b[0m\n\u001b[0;32m----> 1\u001b[0;31m \u001b[0mparrot\u001b[0m\u001b[0;34m(\u001b[0m\u001b[0;36m110\u001b[0m\u001b[0;34m,\u001b[0m \u001b[0mvoltage\u001b[0m \u001b[0;34m=\u001b[0m \u001b[0;36m10000\u001b[0m\u001b[0;34m)\u001b[0m\u001b[0;34m\u001b[0m\u001b[0;34m\u001b[0m\u001b[0m\n\u001b[0m",
            "\u001b[0;31mTypeError\u001b[0m: parrot() got multiple values for argument 'voltage'"
          ]
        }
      ]
    },
    {
      "cell_type": "code",
      "source": [
        "parrot(state = 'Ankara', 110)  # hicbir zaman positional argument ler keyword argumentlerden sonra gelmez!"
      ],
      "metadata": {
        "colab": {
          "base_uri": "https://localhost:8080/",
          "height": 140
        },
        "id": "YhuYxeHRivb8",
        "outputId": "adf7bc1b-b7ce-4e9a-ad6a-541830d14d6a"
      },
      "execution_count": null,
      "outputs": [
        {
          "output_type": "error",
          "ename": "SyntaxError",
          "evalue": "ignored",
          "traceback": [
            "\u001b[0;36m  File \u001b[0;32m\"<ipython-input-38-e491aae81b9b>\"\u001b[0;36m, line \u001b[0;32m1\u001b[0m\n\u001b[0;31m    parrot(state = 'Ankara', 110)\u001b[0m\n\u001b[0m                                ^\u001b[0m\n\u001b[0;31mSyntaxError\u001b[0m\u001b[0;31m:\u001b[0m positional argument follows keyword argument\n"
          ]
        }
      ]
    },
    {
      "cell_type": "code",
      "source": [
        "parrot(actor = \"Robert De Niro\")"
      ],
      "metadata": {
        "colab": {
          "base_uri": "https://localhost:8080/",
          "height": 175
        },
        "id": "XLCQ882eivgw",
        "outputId": "71711693-3d73-4022-d397-a38565f67f57"
      },
      "execution_count": null,
      "outputs": [
        {
          "output_type": "error",
          "ename": "TypeError",
          "evalue": "ignored",
          "traceback": [
            "\u001b[0;31m---------------------------------------------------------------------------\u001b[0m",
            "\u001b[0;31mTypeError\u001b[0m                                 Traceback (most recent call last)",
            "\u001b[0;32m<ipython-input-44-c20481dd0744>\u001b[0m in \u001b[0;36m<cell line: 1>\u001b[0;34m()\u001b[0m\n\u001b[0;32m----> 1\u001b[0;31m \u001b[0mparrot\u001b[0m\u001b[0;34m(\u001b[0m\u001b[0mactor\u001b[0m \u001b[0;34m=\u001b[0m \u001b[0;34m\"Robert De Niro\"\u001b[0m\u001b[0;34m)\u001b[0m\u001b[0;34m\u001b[0m\u001b[0;34m\u001b[0m\u001b[0m\n\u001b[0m",
            "\u001b[0;31mTypeError\u001b[0m: parrot() got an unexpected keyword argument 'actor'"
          ]
        }
      ]
    },
    {
      "cell_type": "code",
      "source": [
        "def record(a):\n",
        "  pass\n",
        "\n"
      ],
      "metadata": {
        "id": "H7MxIWU4nLkX"
      },
      "execution_count": null,
      "outputs": []
    },
    {
      "cell_type": "code",
      "source": [
        "def city(capital, continent = \"Europe\"):\n",
        "  print(capital, 'in', continent)"
      ],
      "metadata": {
        "id": "WQ5tVJ4rnLph"
      },
      "execution_count": null,
      "outputs": []
    },
    {
      "cell_type": "code",
      "source": [
        "help(city)"
      ],
      "metadata": {
        "colab": {
          "base_uri": "https://localhost:8080/"
        },
        "id": "mt_bcEbGtEKz",
        "outputId": "8372e22a-f60e-4c65-d618-3b9a5c41ac70"
      },
      "execution_count": null,
      "outputs": [
        {
          "output_type": "stream",
          "name": "stdout",
          "text": [
            "Help on function city in module __main__:\n",
            "\n",
            "city(capital, continent='Europe')\n",
            "\n"
          ]
        }
      ]
    },
    {
      "cell_type": "code",
      "source": [
        "city(\"Paris\")"
      ],
      "metadata": {
        "colab": {
          "base_uri": "https://localhost:8080/"
        },
        "id": "3H7cOozitENJ",
        "outputId": "03646cdf-62fe-4b6b-b9e0-3c7dec624ad7"
      },
      "execution_count": null,
      "outputs": [
        {
          "output_type": "stream",
          "name": "stdout",
          "text": [
            "Paris in Europe\n"
          ]
        }
      ]
    },
    {
      "cell_type": "code",
      "source": [
        "city(\"Bamako\", \"Africa\")"
      ],
      "metadata": {
        "colab": {
          "base_uri": "https://localhost:8080/"
        },
        "id": "0FvwWjQ8tEPo",
        "outputId": "bbbee2a7-4cba-489e-f2ac-995c4d132b0d"
      },
      "execution_count": null,
      "outputs": [
        {
          "output_type": "stream",
          "name": "stdout",
          "text": [
            "Bamako in Africa\n"
          ]
        }
      ]
    },
    {
      "cell_type": "code",
      "source": [
        "city(\"Bamako\", continent = \"Arfica\")"
      ],
      "metadata": {
        "colab": {
          "base_uri": "https://localhost:8080/"
        },
        "id": "GBEJ19bwtESH",
        "outputId": "f5a7e6ea-b2c9-443b-89b6-a70be2bac35a"
      },
      "execution_count": null,
      "outputs": [
        {
          "output_type": "stream",
          "name": "stdout",
          "text": [
            "Bamako in Arfica\n"
          ]
        }
      ]
    },
    {
      "cell_type": "code",
      "source": [
        "'''\n",
        "Web sitemdeki form.\n",
        "Isim :\n",
        "adres :\n",
        "email :\n",
        "tel :\n",
        "*** Fakat kullanicidan ulkeyi almama ragmen bunu database e gonderirken bos gonderemiyorum. !!!!\n",
        "'''"
      ],
      "metadata": {
        "colab": {
          "base_uri": "https://localhost:8080/",
          "height": 36
        },
        "id": "v1cusFzpnLsA",
        "outputId": "8efcd99d-743c-4fe3-9445-d291d457f704"
      },
      "execution_count": null,
      "outputs": [
        {
          "output_type": "execute_result",
          "data": {
            "text/plain": [
              "'\\nWeb sitemdeki form.\\nName :\\nadres :\\nemail :\\ntel :\\n*** Fakat kullanicidan ulkeyi almama ragmen bunu database e gonderirken bos gonderemiyorum. !!!!\\n'"
            ],
            "application/vnd.google.colaboratory.intrinsic+json": {
              "type": "string"
            }
          },
          "metadata": {},
          "execution_count": 54
        }
      ]
    },
    {
      "cell_type": "code",
      "source": [
        "def customer_record(isim, adres, email, tel, ulke = \"USA\"):\n",
        "  print(f\"Isim : {isim}\")\n",
        "  print(f'adres : {adres}')\n",
        "  print(f'email : {email}')\n",
        "  print(f'Tel : {tel}')\n",
        "  print(f'Ulke : {ulke}')\n",
        "  print('Kaydedildi')"
      ],
      "metadata": {
        "id": "Phi8aQr3t4xr"
      },
      "execution_count": null,
      "outputs": []
    },
    {
      "cell_type": "code",
      "source": [
        "customer_record(\"Robert\", \"California\", \"robert@test.com\", \"+12122211445\")"
      ],
      "metadata": {
        "colab": {
          "base_uri": "https://localhost:8080/"
        },
        "id": "keGu7C0Zt40W",
        "outputId": "5a0578a5-f655-429e-821e-4b117494eead"
      },
      "execution_count": null,
      "outputs": [
        {
          "output_type": "stream",
          "name": "stdout",
          "text": [
            "Isim : Robert\n",
            "adres : California\n",
            "email : robert@test.com\n",
            "Tel : +12122211445\n",
            "Ulke : USA\n",
            "Kaydedildi\n"
          ]
        }
      ]
    },
    {
      "cell_type": "code",
      "source": [
        "a, b = 1, 2\n",
        "\n",
        "print(a)\n",
        "print(b)"
      ],
      "metadata": {
        "colab": {
          "base_uri": "https://localhost:8080/"
        },
        "id": "vYEyBTapt42w",
        "outputId": "cb54f78e-a96f-4b5d-cd8e-b8686e9ed1e6"
      },
      "execution_count": null,
      "outputs": [
        {
          "output_type": "stream",
          "name": "stdout",
          "text": [
            "1\n",
            "2\n"
          ]
        }
      ]
    },
    {
      "cell_type": "code",
      "source": [
        "a, *b = 1, 2, 3\n",
        "print(a)\n",
        "print(b)"
      ],
      "metadata": {
        "colab": {
          "base_uri": "https://localhost:8080/"
        },
        "id": "axy65IKzvEJf",
        "outputId": "60483ce3-ea64-437e-d54f-71717751a718"
      },
      "execution_count": null,
      "outputs": [
        {
          "output_type": "stream",
          "name": "stdout",
          "text": [
            "1\n",
            "[2, 3]\n"
          ]
        }
      ]
    },
    {
      "cell_type": "code",
      "source": [
        "*a, b = 1, 2, 3\n",
        "print(a)\n",
        "print(b)"
      ],
      "metadata": {
        "colab": {
          "base_uri": "https://localhost:8080/"
        },
        "id": "PmeJMJjJvEMM",
        "outputId": "1a786685-b9c6-4d8c-b0a3-e70c18136dd2"
      },
      "execution_count": null,
      "outputs": [
        {
          "output_type": "stream",
          "name": "stdout",
          "text": [
            "[1, 2]\n",
            "3\n"
          ]
        }
      ]
    },
    {
      "cell_type": "code",
      "source": [
        "def topla(*num):  # args\n",
        "  toplam = 0\n",
        "  for i in num:\n",
        "    toplam += i\n",
        "  return toplam"
      ],
      "metadata": {
        "id": "AXuUCdTovEO1"
      },
      "execution_count": null,
      "outputs": []
    },
    {
      "cell_type": "code",
      "source": [
        "topla(2,3)"
      ],
      "metadata": {
        "colab": {
          "base_uri": "https://localhost:8080/"
        },
        "id": "PHaUdRbfvERX",
        "outputId": "61d27db2-50e6-4ae4-8682-b81b0015f180"
      },
      "execution_count": null,
      "outputs": [
        {
          "output_type": "execute_result",
          "data": {
            "text/plain": [
              "5"
            ]
          },
          "metadata": {},
          "execution_count": 65
        }
      ]
    },
    {
      "cell_type": "code",
      "source": [
        "topla(2,3,5)"
      ],
      "metadata": {
        "colab": {
          "base_uri": "https://localhost:8080/"
        },
        "id": "I5VetkGzvETV",
        "outputId": "80044a13-94d2-4071-920d-03efb54a26d4"
      },
      "execution_count": null,
      "outputs": [
        {
          "output_type": "execute_result",
          "data": {
            "text/plain": [
              "10"
            ]
          },
          "metadata": {},
          "execution_count": 66
        }
      ]
    },
    {
      "cell_type": "code",
      "source": [
        "topla(2,3,5, 6)"
      ],
      "metadata": {
        "colab": {
          "base_uri": "https://localhost:8080/"
        },
        "id": "zOoEiNkNt45O",
        "outputId": "98649df3-eb27-4d42-e620-1cddd8d22b28"
      },
      "execution_count": null,
      "outputs": [
        {
          "output_type": "execute_result",
          "data": {
            "text/plain": [
              "16"
            ]
          },
          "metadata": {},
          "execution_count": 67
        }
      ]
    },
    {
      "cell_type": "code",
      "source": [
        "topla(1)"
      ],
      "metadata": {
        "colab": {
          "base_uri": "https://localhost:8080/"
        },
        "id": "OObP8g_wnLuj",
        "outputId": "241dd91a-89ff-49bd-d5f8-8ee673977db6"
      },
      "execution_count": null,
      "outputs": [
        {
          "output_type": "execute_result",
          "data": {
            "text/plain": [
              "1"
            ]
          },
          "metadata": {},
          "execution_count": 68
        }
      ]
    },
    {
      "cell_type": "code",
      "source": [
        "def fruiterer(*args):\n",
        "  for i in args:\n",
        "    print(i, end = ' ')\n"
      ],
      "metadata": {
        "id": "4CLPvLSwwfzL"
      },
      "execution_count": null,
      "outputs": []
    },
    {
      "cell_type": "code",
      "source": [
        "fruiterer('elma', 'armut')"
      ],
      "metadata": {
        "colab": {
          "base_uri": "https://localhost:8080/"
        },
        "id": "diRZeExSwj84",
        "outputId": "6a8905fb-ef93-479e-9f48-8915486c7b6d"
      },
      "execution_count": null,
      "outputs": [
        {
          "output_type": "stream",
          "name": "stdout",
          "text": [
            "elma armut "
          ]
        }
      ]
    },
    {
      "cell_type": "code",
      "source": [
        "fruiterer('elma', 'armut', 'kiraz')"
      ],
      "metadata": {
        "colab": {
          "base_uri": "https://localhost:8080/"
        },
        "id": "vkmcT2_Swj_o",
        "outputId": "22524d3a-cccf-4962-8a9f-04b3e62ba566"
      },
      "execution_count": null,
      "outputs": [
        {
          "output_type": "stream",
          "name": "stdout",
          "text": [
            "elma armut kiraz "
          ]
        }
      ]
    },
    {
      "cell_type": "code",
      "source": [
        "def slicer(*args):\n",
        "  evens = []\n",
        "  odds = []\n",
        "  for i in args:\n",
        "    if i % 2 == 0:\n",
        "      evens.append(i)\n",
        "    else:\n",
        "      odds.append(i)\n",
        "  print(f\"Even list : {evens}\")\n",
        "  print(f\"Odd list : {odds}\")\n"
      ],
      "metadata": {
        "id": "6hGUyZPQwkCS"
      },
      "execution_count": null,
      "outputs": []
    },
    {
      "cell_type": "code",
      "source": [
        "slicer(1, 11, 22, 6, 7, 60, 55, 72, 99, 101,130,2002, 2024)"
      ],
      "metadata": {
        "colab": {
          "base_uri": "https://localhost:8080/"
        },
        "id": "q3TDXyjnwkE1",
        "outputId": "f8c6b444-96ad-4d93-8fd4-be502d79b8ef"
      },
      "execution_count": null,
      "outputs": [
        {
          "output_type": "stream",
          "name": "stdout",
          "text": [
            "Even list : [22, 6, 60, 72, 130, 2002, 2024]\n",
            "Odd list : [1, 11, 7, 55, 99, 101]\n"
          ]
        }
      ]
    },
    {
      "cell_type": "code",
      "source": [
        "slicer(1,2,4,5,15, 22, 11)"
      ],
      "metadata": {
        "colab": {
          "base_uri": "https://localhost:8080/"
        },
        "id": "Gcq9D94iwkHU",
        "outputId": "522fda29-7d96-4f36-f3b1-56e0e727d216"
      },
      "execution_count": null,
      "outputs": [
        {
          "output_type": "stream",
          "name": "stdout",
          "text": [
            "Even list : [2, 4, 22]\n",
            "Odd list : [1, 5, 15, 11]\n"
          ]
        }
      ]
    },
    {
      "cell_type": "code",
      "source": [
        "max(11,22)"
      ],
      "metadata": {
        "colab": {
          "base_uri": "https://localhost:8080/"
        },
        "id": "AxcKSkDnwkJv",
        "outputId": "6bc9622f-df22-40e4-ac26-3765e134c256"
      },
      "execution_count": null,
      "outputs": [
        {
          "output_type": "execute_result",
          "data": {
            "text/plain": [
              "22"
            ]
          },
          "metadata": {},
          "execution_count": 79
        }
      ]
    },
    {
      "cell_type": "code",
      "source": [
        "print(max.__doc__)"
      ],
      "metadata": {
        "colab": {
          "base_uri": "https://localhost:8080/"
        },
        "id": "xL5dGQebyQ_n",
        "outputId": "88d4b502-0ca2-4a15-9737-3ebaaf6fd464"
      },
      "execution_count": null,
      "outputs": [
        {
          "output_type": "stream",
          "name": "stdout",
          "text": [
            "max(iterable, *[, default=obj, key=func]) -> value\n",
            "max(arg1, arg2, *args, *[, key=func]) -> value\n",
            "\n",
            "With a single iterable argument, return its biggest item. The\n",
            "default keyword-only argument specifies an object to return if\n",
            "the provided iterable is empty.\n",
            "With two or more arguments, return the largest argument.\n"
          ]
        }
      ]
    },
    {
      "cell_type": "code",
      "source": [
        "def organizer(**kwargs):\n",
        "  names = []\n",
        "  ages = []\n",
        "  for key, value in kwargs.items():\n",
        "    names.append(key)\n",
        "    ages.append(value)\n",
        "  print(names, ages, sep = '\\n')\n",
        "\n"
      ],
      "metadata": {
        "id": "dpewfUOryRCO"
      },
      "execution_count": null,
      "outputs": []
    },
    {
      "cell_type": "code",
      "source": [
        "organizer(Ali = 23, Veli = '22', zeynep = 25, Robert = 40)\n"
      ],
      "metadata": {
        "colab": {
          "base_uri": "https://localhost:8080/"
        },
        "id": "APxGKrZ7yREv",
        "outputId": "c3f785d6-96fa-4169-963f-d2defb3a2931"
      },
      "execution_count": null,
      "outputs": [
        {
          "output_type": "stream",
          "name": "stdout",
          "text": [
            "['Ali', 'Veli', 'zeynep', 'Robert']\n",
            "[23, '22', 25, 40]\n"
          ]
        }
      ]
    },
    {
      "cell_type": "code",
      "source": [
        "organizer(josepsh = 22, marry = 23)"
      ],
      "metadata": {
        "colab": {
          "base_uri": "https://localhost:8080/"
        },
        "id": "VrmPzLmsyRHY",
        "outputId": "6c977acb-2da1-4b2b-d8cf-587a299b9c14"
      },
      "execution_count": null,
      "outputs": [
        {
          "output_type": "stream",
          "name": "stdout",
          "text": [
            "['josepsh', 'marry']\n",
            "[22, 23]\n"
          ]
        }
      ]
    },
    {
      "cell_type": "code",
      "source": [
        "my_dict = dict(Ali = 23, Veli = '22', zeynep = 25, Robert = 40)\n",
        "\n",
        "my_dict"
      ],
      "metadata": {
        "colab": {
          "base_uri": "https://localhost:8080/"
        },
        "id": "E6uk8nKkyRJ-",
        "outputId": "4566dd18-9354-4461-ad41-6915830e6a69"
      },
      "execution_count": null,
      "outputs": [
        {
          "output_type": "execute_result",
          "data": {
            "text/plain": [
              "{'Ali': 23, 'Veli': '22', 'zeynep': 25, 'Robert': 40}"
            ]
          },
          "metadata": {},
          "execution_count": 85
        }
      ]
    },
    {
      "cell_type": "code",
      "source": [
        "organizer(**my_dict)"
      ],
      "metadata": {
        "colab": {
          "base_uri": "https://localhost:8080/"
        },
        "id": "ubXdrttlyRMe",
        "outputId": "8dd55d0c-41ef-4b4a-b73c-6484561ae64a"
      },
      "execution_count": null,
      "outputs": [
        {
          "output_type": "stream",
          "name": "stdout",
          "text": [
            "['Ali', 'Veli', 'zeynep', 'Robert']\n",
            "[23, '22', 25, 40]\n"
          ]
        }
      ]
    },
    {
      "cell_type": "code",
      "source": [],
      "metadata": {
        "id": "UDNhMlpuyRO_"
      },
      "execution_count": null,
      "outputs": []
    },
    {
      "cell_type": "code",
      "source": [],
      "metadata": {
        "id": "zIrjkA1U1IjD"
      },
      "execution_count": null,
      "outputs": []
    },
    {
      "cell_type": "code",
      "source": [],
      "metadata": {
        "id": "GPlhMNBN1Ilb"
      },
      "execution_count": null,
      "outputs": []
    },
    {
      "cell_type": "code",
      "source": [],
      "metadata": {
        "id": "3rFJSzwq1In8"
      },
      "execution_count": null,
      "outputs": []
    },
    {
      "cell_type": "code",
      "source": [],
      "metadata": {
        "id": "BbXmV5tj1IqJ"
      },
      "execution_count": null,
      "outputs": []
    },
    {
      "cell_type": "code",
      "source": [],
      "metadata": {
        "id": "3UAe6HP51Ism"
      },
      "execution_count": null,
      "outputs": []
    },
    {
      "cell_type": "code",
      "source": [],
      "metadata": {
        "id": "BcYnvKSjyRRi"
      },
      "execution_count": null,
      "outputs": []
    }
  ]
}