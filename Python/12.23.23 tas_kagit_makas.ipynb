{
 "cells": [
  {
   "cell_type": "markdown",
   "metadata": {},
   "source": [
    "## Kullanacağımız modülleri ve fonksiyonları import edelim:\n"
   ]
  },
  {
   "cell_type": "code",
   "execution_count": 1,
   "metadata": {},
   "outputs": [
    {
     "name": "stdout",
     "output_type": "stream",
     "text": [
      "Requirement already satisfied: cprint in c:\\users\\90542\\appdata\\local\\programs\\python\\python311\\lib\\site-packages (1.2.2)Note: you may need to restart the kernel to use updated packages.\n"
     ]
    },
    {
     "name": "stderr",
     "output_type": "stream",
     "text": [
      "\n",
      "[notice] A new release of pip is available: 23.2.1 -> 23.3.2\n",
      "[notice] To update, run: python.exe -m pip install --upgrade pip\n"
     ]
    },
    {
     "name": "stdout",
     "output_type": "stream",
     "text": [
      "\n"
     ]
    }
   ],
   "source": [
    "pip install cprint"
   ]
  },
  {
   "cell_type": "code",
   "execution_count": 2,
   "metadata": {},
   "outputs": [
    {
     "name": "stdout",
     "output_type": "stream",
     "text": [
      "Requirement already satisfied: colorama in c:\\users\\90542\\appdata\\local\\programs\\python\\python311\\lib\\site-packages (0.4.6)\n",
      "Note: you may need to restart the kernel to use updated packages.\n"
     ]
    },
    {
     "name": "stderr",
     "output_type": "stream",
     "text": [
      "\n",
      "[notice] A new release of pip is available: 23.2.1 -> 23.3.2\n",
      "[notice] To update, run: python.exe -m pip install --upgrade pip\n"
     ]
    }
   ],
   "source": [
    "pip install colorama "
   ]
  },
  {
   "cell_type": "code",
   "execution_count": 3,
   "metadata": {},
   "outputs": [
    {
     "name": "stdout",
     "output_type": "stream",
     "text": [
      "Requirement already satisfied: termcolor in c:\\users\\90542\\appdata\\local\\programs\\python\\python311\\lib\\site-packages (2.3.0)\n",
      "Note: you may need to restart the kernel to use updated packages.\n"
     ]
    },
    {
     "name": "stderr",
     "output_type": "stream",
     "text": [
      "\n",
      "[notice] A new release of pip is available: 23.2.1 -> 23.3.2\n",
      "[notice] To update, run: python.exe -m pip install --upgrade pip\n"
     ]
    }
   ],
   "source": [
    "pip install termcolor"
   ]
  },
  {
   "cell_type": "code",
   "execution_count": 4,
   "metadata": {},
   "outputs": [],
   "source": [
    "import time\n",
    "import random\n",
    "from colorama import init, Fore, Style\n",
    "from IPython.display import HTML\n",
    "from termcolor import colored, cprint\n"
   ]
  },
  {
   "cell_type": "code",
   "execution_count": 5,
   "metadata": {},
   "outputs": [],
   "source": [
    "def blink_string(input_str, duration_seconds = 0.5, blink_count = 3):\n",
    "    init(autoreset= True)  # Colorama'nin renk ayarlarini otomatik sifirlamak icin\n",
    "    \n",
    "    for i in range(blink_count):\n",
    "        print(Fore.WHITE + input_str, end = \"\\r\", flush = True)  # \"\\r\" sizi ayni satirda satir basina getirir. \n",
    "        time.sleep(duration_seconds)  # duration_seconds kadar bekleyecek.\n",
    "        print(' ' * len(input_str), end='\\r', flush=True)\n",
    "        time.sleep(duration_seconds/3)\n",
    "    print(input_str)"
   ]
  },
  {
   "cell_type": "code",
   "execution_count": 9,
   "metadata": {},
   "outputs": [
    {
     "name": "stdout",
     "output_type": "stream",
     "text": [
      "Oyun Basliyor\n"
     ]
    }
   ],
   "source": [
    "blink_string('Oyun Basliyor:')"
   ]
  },
  {
   "cell_type": "code",
   "execution_count": 30,
   "metadata": {},
   "outputs": [],
   "source": [
    "def blink_sayac(input_str):\n",
    "    init(autoreset=True)  # Colorama'nin renk ayarlarini otomatik sifirlamak icin\n",
    "    \n",
    "    print(input_str, end='')\n",
    "    \n",
    "    for count in range(3,0,-1):\n",
    "        print(Fore.WHITE  + \" \" + str(count), end = '', flush = True)\n",
    "        time.sleep(0.8)  # 0.8 saniye bekleyecek\n",
    "        print(end='\\b')  # ekrana yazdigi count u silecek. \n",
    "        time.sleep(0.8)  # 0.8 saniye bekleyecek\n",
    "        \n",
    "    print(\"\\r\" + \" \"*len(input_str))  # '\\r' ile satir basina geliyoruz ve input_str uzunlugu kadar bos string ekliyoruz. \n",
    "    "
   ]
  },
  {
   "cell_type": "code",
   "execution_count": 54,
   "metadata": {},
   "outputs": [
    {
     "name": "stdout",
     "output_type": "stream",
     "text": [
      "Taş-Kağıt-Makas Oyunu: \n",
      "\n",
      "                                                 \n"
     ]
    },
    {
     "data": {
      "text/html": [
       "ALI : <font color = 'red'>TAŞ  <===>  VELI : <font color = 'blue'>KAĞIT Bu el kazanan : VELI 🎊🎉🎊👏👏"
      ],
      "text/plain": [
       "<IPython.core.display.HTML object>"
      ]
     },
     "metadata": {},
     "output_type": "display_data"
    },
    {
     "name": "stdout",
     "output_type": "stream",
     "text": [
      "\n",
      "Puan durumu: ALI : 0 - VELI : 1\n",
      "\n",
      "                                                 \n"
     ]
    },
    {
     "data": {
      "text/html": [
       "ALI : <font color = 'red'>TAŞ  <===>  VELI : <font color = 'blue'>MAKAS Bu el kazanan : ALI 🎊🎉🎊👏👏"
      ],
      "text/plain": [
       "<IPython.core.display.HTML object>"
      ]
     },
     "metadata": {},
     "output_type": "display_data"
    },
    {
     "name": "stdout",
     "output_type": "stream",
     "text": [
      "\n",
      "Puan durumu: ALI : 1 - VELI : 1\n",
      "\n",
      "                                                 \n"
     ]
    },
    {
     "data": {
      "text/html": [
       "ALI : <font color = 'red'>KAĞIT  <===>  VELI : <font color = 'blue'>MAKAS Bu el kazanan : VELI 🎊🎉🎊👏👏"
      ],
      "text/plain": [
       "<IPython.core.display.HTML object>"
      ]
     },
     "metadata": {},
     "output_type": "display_data"
    },
    {
     "name": "stdout",
     "output_type": "stream",
     "text": [
      "\n",
      "Puan durumu: ALI : 1 - VELI : 2\n",
      "\n",
      "                                                 \n"
     ]
    },
    {
     "data": {
      "text/html": [
       "ALI : <font color = 'red'>KAĞIT  <===>  VELI : <font color = 'blue'>TAŞ Bu el kazanan : ALI 🎊🎉🎊👏👏"
      ],
      "text/plain": [
       "<IPython.core.display.HTML object>"
      ]
     },
     "metadata": {},
     "output_type": "display_data"
    },
    {
     "name": "stdout",
     "output_type": "stream",
     "text": [
      "\n",
      "Puan durumu: ALI : 2 - VELI : 2\n",
      "\n",
      "                                                 \n"
     ]
    },
    {
     "data": {
      "text/html": [
       "ALI : <font color = 'red'>TAŞ  <===>  VELI : <font color = 'blue'>MAKAS Bu el kazanan : ALI 🎊🎉🎊👏👏"
      ],
      "text/plain": [
       "<IPython.core.display.HTML object>"
      ]
     },
     "metadata": {},
     "output_type": "display_data"
    },
    {
     "name": "stdout",
     "output_type": "stream",
     "text": [
      "\n",
      "Puan durumu: ALI : 3 - VELI : 2\n",
      "\n"
     ]
    },
    {
     "data": {
      "text/html": [
       "<font color='darkred'> <b> Oyun sona erdi.. <br>  Oyunu Kazanan : ALI</b></font>"
      ],
      "text/plain": [
       "<IPython.core.display.HTML object>"
      ]
     },
     "metadata": {},
     "output_type": "display_data"
    }
   ],
   "source": [
    "import time\n",
    "import random\n",
    "from colorama import init, Fore, Style\n",
    "from IPython.display import HTML\n",
    "from termcolor import colored, cprint\n",
    "\n",
    "\n",
    "def blink_string(input_str, duration_seconds = 0.5, blink_count = 3):\n",
    "    init(autoreset= True)  # Colorama'nin renk ayarlarini otomatik sifirlamak icin\n",
    "    \n",
    "    for i in range(blink_count):\n",
    "        print(Fore.WHITE + input_str, end = \"\\r\", flush = True)  # \"\\r\" sizi ayni satirda satir basina getirir. \n",
    "        time.sleep(duration_seconds)  # duration_seconds kadar bekleyecek.\n",
    "        print(' ' * len(input_str), end='\\r', flush=True)\n",
    "        time.sleep(duration_seconds/3)\n",
    "    print(input_str)\n",
    "    \n",
    "def blink_sayac(input_str):\n",
    "    init(autoreset=True)  # Colorama'nin renk ayarlarini otomatik sifirlamak icin\n",
    "    \n",
    "    print(input_str, end='')\n",
    "    \n",
    "    for count in range(3,0,-1):\n",
    "        print(Fore.WHITE  + \" \" + str(count), end = '', flush = True)\n",
    "        time.sleep(0.8)  # 0.8 saniye bekleyecek\n",
    "        print(end='\\b')  # ekrana yazdigi count u silecek. \n",
    "        time.sleep(0.8)  # 0.8 saniye bekleyecek\n",
    "        \n",
    "    print(\"\\r\" + \" \"*len(input_str))  # '\\r' ile satir basina geliyoruz ve input_str uzunlugu kadar bos string ekliyoruz. \n",
    "    \n",
    "    \n",
    "    \n",
    "    \n",
    "cprint(\"Taş-Kağıt-Makas Oyunu: \\n\", \"blue\", attrs=['bold'])\n",
    "\n",
    "liste = [\"TAŞ\", \"KAĞIT\", \"MAKAS\"]\n",
    "\n",
    "kazanan = [(\"TAŞ\", \"MAKAS\"), (\"KAĞIT\",\"TAŞ\"), (\"MAKAS\",\"KAĞIT\")]\n",
    "\n",
    "puan_dict = {\"rakip 1\" : 0, \"rakip 2\" : 0}\n",
    "\n",
    "tebrik_emoji = \"\\U0001F38A\\U0001F389\\U0001F38A\\U0001F44F\\U0001F44F\" \n",
    "berabere_emoji = \"\\U0001f640\\U0001f640\\U0001f640\\U0001f640\"\n",
    "\n",
    "isim1 = input(\"Birinci yarismacinin ismini giriniz: \").upper()\n",
    "isim2 = input(\"Ikinci yarismacinin ismini giriniz: \").upper()\n",
    "\n",
    "while True:\n",
    "    limit = input(\"Oyun kacta bitsin? \")\n",
    "    if limit.isnumeric():\n",
    "        limit = int(limit)\n",
    "        break\n",
    "        \n",
    "while ((puan_dict[\"rakip 1\"] < limit) and (puan_dict[\"rakip 2\"]< limit)):\n",
    "    \n",
    "    blink_sayac(\"3sn Sonra Tas kagit makas secimleri yapilacak:\")\n",
    "    \n",
    "    rakip1 = liste[random.randint(0,2)]\n",
    "    rakip2 = liste[random.randint(0,2)]\n",
    "    \n",
    "    if (rakip1, rakip2) in kazanan:\n",
    "        \n",
    "        puan_dict[\"rakip 1\"] += 1\n",
    "        \n",
    "        display(HTML(f\"{isim1} : <font color = 'red'>{rakip1}  <===>  {isim2} : <font color = 'blue'>{rakip2} </font> Bu el kazanan : {isim1} {tebrik_emoji}\"))\n",
    "        print()\n",
    "        blink_string(f'Puan durumu: {isim1} : {puan_dict[\"rakip 1\"]} - {isim2} : {puan_dict[\"rakip 2\"]}', 0.8, 2)\n",
    "        print()\n",
    "        time.sleep(1) \n",
    "    elif (rakip2, rakip1) in kazanan:\n",
    "        puan_dict[\"rakip 2\"] += 1\n",
    "        display(HTML(f\"{isim1} : <font color = 'red'>{rakip1}  <===>  {isim2} : <font color = 'blue'>{rakip2} </font> Bu el kazanan : {isim2} {tebrik_emoji}\"))\n",
    "        print()\n",
    "        blink_string(f'Puan durumu: {isim1} : {puan_dict[\"rakip 1\"]} - {isim2} : {puan_dict[\"rakip 2\"]}', 0.8, 2)\n",
    "        print()\n",
    "        time.sleep(1) \n",
    "    else:\n",
    "        display(HTML(f\"{isim1} : <font color='cyan'>{rakip1}</font> - {isim2} : <font color='cyan'>{rakip2} </font>  Aynı seçim!!{berabere_emoji}\\n\"))\n",
    "        \n",
    "\n",
    "if puan_dict[\"rakip 1\"] == limit:\n",
    "    kazanan = isim1\n",
    "else:\n",
    "    kazanan = isim2\n",
    "display(HTML(f\"<font color='darkred'> <b> Oyun sona erdi.. <br>  Oyunu Kazanan : {kazanan}</b></font>\"))\n",
    "\n",
    "\n"
   ]
  },
  {
   "cell_type": "code",
   "execution_count": null,
   "metadata": {},
   "outputs": [],
   "source": []
  }
 ],
 "metadata": {
  "kernelspec": {
   "display_name": "Python 3",
   "language": "python",
   "name": "python3"
  },
  "language_info": {
   "codemirror_mode": {
    "name": "ipython",
    "version": 3
   },
   "file_extension": ".py",
   "mimetype": "text/x-python",
   "name": "python",
   "nbconvert_exporter": "python",
   "pygments_lexer": "ipython3",
   "version": "3.11.5"
  }
 },
 "nbformat": 4,
 "nbformat_minor": 2
}
