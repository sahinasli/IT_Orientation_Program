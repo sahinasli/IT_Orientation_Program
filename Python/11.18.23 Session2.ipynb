{
  "nbformat": 4,
  "nbformat_minor": 0,
  "metadata": {
    "colab": {
      "provenance": []
    },
    "kernelspec": {
      "name": "python3",
      "display_name": "Python 3"
    },
    "language_info": {
      "name": "python"
    }
  },
  "cells": [
    {
      "cell_type": "markdown",
      "source": [
        "Faydali Linkler\n",
        "\n",
        "**Link 1 - Variables in Python: https://realpython.com/python-variables/**\n",
        "\n",
        "**Link 2 - Python Variables: https://www.w3schools.com/python/python_variables.asp**\n",
        "\n",
        "**Link 3 - Python Official Documentation - type() function:  https://docs.python.org/3/library/functions.html#type**\n",
        "\n",
        "**Link 4 - Python official documentation - Data Types: https://docs.python.org/3/library/datatypes.html**\n",
        "\n",
        "**Link 5- Python Data Types: https://www.w3schools.com/python/python_datatypes.asp**\n",
        "\n",
        "**link 6 -Python official documentation - Type Conversion in Python: https://discuss.python.org/t/what-is-type-conversion-in-python/6584**\n",
        "\n",
        "**Link 7 - Type Conversion in Python: https://www.geeksforgeeks.org/type-conversion-in-python/**"
      ],
      "metadata": {
        "id": "EfK9Q1f-USlO"
      }
    },
    {
      "cell_type": "code",
      "execution_count": null,
      "metadata": {
        "colab": {
          "base_uri": "https://localhost:8080/"
        },
        "id": "TW_jWNpVUKew",
        "outputId": "5f891e1f-554a-4e91-d051-19cb174eb1a9"
      },
      "outputs": [
        {
          "output_type": "stream",
          "name": "stdout",
          "text": [
            "3\n"
          ]
        }
      ],
      "source": [
        "x=3  # PEP8 e uygun bir yazim degildir.\n",
        "print(x)"
      ]
    },
    {
      "cell_type": "code",
      "source": [
        "x =               3  # PEP8 e uygun degildir.\n",
        "print(x)"
      ],
      "metadata": {
        "colab": {
          "base_uri": "https://localhost:8080/"
        },
        "id": "zbJTApE1VGOT",
        "outputId": "6ff0a534-6e82-40c4-d77c-f650d452602f"
      },
      "execution_count": null,
      "outputs": [
        {
          "output_type": "stream",
          "name": "stdout",
          "text": [
            "3\n"
          ]
        }
      ]
    },
    {
      "cell_type": "code",
      "source": [
        "x = 3  # PEP8 e uygun yazim."
      ],
      "metadata": {
        "id": "elprbHE7VGSr"
      },
      "execution_count": null,
      "outputs": []
    },
    {
      "cell_type": "code",
      "source": [
        "# bu bir yorum satiridir.\n",
        "'''\n",
        "Yorum satiri\n",
        "\n",
        "yorum satiri2\n",
        "\n",
        "\n",
        "'''"
      ],
      "metadata": {
        "colab": {
          "base_uri": "https://localhost:8080/",
          "height": 35
        },
        "id": "jjwH-8TtVGU9",
        "outputId": "ed191d88-62f1-4fde-f432-3624bc421229"
      },
      "execution_count": null,
      "outputs": [
        {
          "output_type": "execute_result",
          "data": {
            "text/plain": [
              "' \\nYorum satiri\\n\\nyorum satiri2\\n\\n\\n'"
            ],
            "application/vnd.google.colaboratory.intrinsic+json": {
              "type": "string"
            }
          },
          "metadata": {},
          "execution_count": 5
        }
      ]
    },
    {
      "cell_type": "code",
      "source": [
        "'''\n",
        "Yorum satiri\n",
        "\n",
        "yorum satiri2\n",
        "\n",
        "\n",
        "'''\n",
        "print(\"Hello\")  # Bu bir selamlama cumlesi\n"
      ],
      "metadata": {
        "colab": {
          "base_uri": "https://localhost:8080/"
        },
        "id": "qFXwWSHhVGXG",
        "outputId": "01945ddd-4223-425c-8b05-5673c174be2a"
      },
      "execution_count": null,
      "outputs": [
        {
          "output_type": "stream",
          "name": "stdout",
          "text": [
            "Hello\n"
          ]
        }
      ]
    },
    {
      "cell_type": "code",
      "source": [
        "x = 3\n",
        "y = 4\n",
        "x\n",
        "y"
      ],
      "metadata": {
        "colab": {
          "base_uri": "https://localhost:8080/"
        },
        "id": "mxf4UsT0i3eg",
        "outputId": "cd4429ee-6ca5-4d70-fa3f-53079c5fc1db"
      },
      "execution_count": null,
      "outputs": [
        {
          "output_type": "execute_result",
          "data": {
            "text/plain": [
              "4"
            ]
          },
          "metadata": {},
          "execution_count": 14
        }
      ]
    },
    {
      "cell_type": "code",
      "source": [
        "print('hello')  # selamlama yapildi"
      ],
      "metadata": {
        "id": "SdAmUUA8jVMD"
      },
      "execution_count": null,
      "outputs": []
    },
    {
      "cell_type": "code",
      "source": [
        "print(y)"
      ],
      "metadata": {
        "colab": {
          "base_uri": "https://localhost:8080/"
        },
        "id": "ymIwJEWnjVOm",
        "outputId": "2784dfdf-4d6c-4e79-b620-db1eb21aa34c"
      },
      "execution_count": null,
      "outputs": [
        {
          "output_type": "stream",
          "name": "stdout",
          "text": [
            "4\n"
          ]
        }
      ]
    },
    {
      "cell_type": "code",
      "source": [
        "y"
      ],
      "metadata": {
        "colab": {
          "base_uri": "https://localhost:8080/"
        },
        "id": "ECGrVrQ4jVRQ",
        "outputId": "bde6e1b5-ecc5-429c-a30e-45d9c6aeed50"
      },
      "execution_count": null,
      "outputs": [
        {
          "output_type": "execute_result",
          "data": {
            "text/plain": [
              "4"
            ]
          },
          "metadata": {},
          "execution_count": 17
        }
      ]
    },
    {
      "cell_type": "code",
      "source": [
        "name = 'Ali'\n",
        "print(name)"
      ],
      "metadata": {
        "colab": {
          "base_uri": "https://localhost:8080/"
        },
        "id": "t-qBre1ZjVTn",
        "outputId": "b13c4a5d-c3cc-4b05-dc3c-89680e1ab299"
      },
      "execution_count": null,
      "outputs": [
        {
          "output_type": "stream",
          "name": "stdout",
          "text": [
            "Ali\n"
          ]
        }
      ]
    },
    {
      "cell_type": "code",
      "source": [
        "name = 'Ali'\n",
        "age = 25\n",
        "city = 'Istanbul'"
      ],
      "metadata": {
        "id": "h3aNasqnjVWO"
      },
      "execution_count": null,
      "outputs": []
    },
    {
      "cell_type": "code",
      "source": [
        "age"
      ],
      "metadata": {
        "colab": {
          "base_uri": "https://localhost:8080/"
        },
        "id": "W_oWDGjBm24a",
        "outputId": "e639439f-1039-4e14-94cc-9cddf6874f87"
      },
      "execution_count": null,
      "outputs": [
        {
          "output_type": "execute_result",
          "data": {
            "text/plain": [
              "25"
            ]
          },
          "metadata": {},
          "execution_count": 20
        }
      ]
    },
    {
      "cell_type": "code",
      "source": [
        "city"
      ],
      "metadata": {
        "colab": {
          "base_uri": "https://localhost:8080/",
          "height": 35
        },
        "id": "6XJ1_BBDm27G",
        "outputId": "e7df0d7a-41e8-4ea9-f065-335b946cf4d1"
      },
      "execution_count": null,
      "outputs": [
        {
          "output_type": "execute_result",
          "data": {
            "text/plain": [
              "'Istanbul'"
            ],
            "application/vnd.google.colaboratory.intrinsic+json": {
              "type": "string"
            }
          },
          "metadata": {},
          "execution_count": 21
        }
      ]
    },
    {
      "cell_type": "code",
      "source": [
        "print(name)\n",
        "print(age)\n",
        "print(city)"
      ],
      "metadata": {
        "colab": {
          "base_uri": "https://localhost:8080/"
        },
        "id": "SVDmgiEPm29n",
        "outputId": "5a2b4990-14be-4331-ebf3-40ef2abba152"
      },
      "execution_count": null,
      "outputs": [
        {
          "output_type": "stream",
          "name": "stdout",
          "text": [
            "Ali\n",
            "25\n",
            "Istanbul\n"
          ]
        }
      ]
    },
    {
      "cell_type": "code",
      "source": [
        "planet = 'Jupyter'\n",
        "price = 140\n",
        "pi_number = 3.14\n",
        "\n",
        "print(planet)\n",
        "print(price)\n",
        "print(pi_number)"
      ],
      "metadata": {
        "colab": {
          "base_uri": "https://localhost:8080/"
        },
        "id": "pYCxuehlm3AL",
        "outputId": "afce0671-d9bc-4bfe-f5d4-af2a8f0279a8"
      },
      "execution_count": null,
      "outputs": [
        {
          "output_type": "stream",
          "name": "stdout",
          "text": [
            "Jupyter\n",
            "140\n",
            "3.14\n"
          ]
        }
      ]
    },
    {
      "cell_type": "code",
      "source": [
        "my_age = 33\n",
        "your_age = 30\n",
        "my_age = your_age\n",
        "print(my_age)"
      ],
      "metadata": {
        "colab": {
          "base_uri": "https://localhost:8080/"
        },
        "id": "VN6EMCudm3CN",
        "outputId": "bab034c5-df53-4d41-dd9c-ea0aae755951"
      },
      "execution_count": null,
      "outputs": [
        {
          "output_type": "stream",
          "name": "stdout",
          "text": [
            "30\n"
          ]
        }
      ]
    },
    {
      "cell_type": "code",
      "source": [
        "name = 'Jack'\n",
        "pi_number = 3.14"
      ],
      "metadata": {
        "id": "xh9efnOUpEEe"
      },
      "execution_count": null,
      "outputs": []
    },
    {
      "cell_type": "code",
      "source": [
        "student_number = 205"
      ],
      "metadata": {
        "id": "rGdohsSspEGy"
      },
      "execution_count": null,
      "outputs": []
    },
    {
      "cell_type": "markdown",
      "source": [
        "![image.png](data:image/png;base64,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)"
      ],
      "metadata": {
        "id": "l_isA6_30srs"
      }
    },
    {
      "cell_type": "code",
      "source": [
        "l = 25"
      ],
      "metadata": {
        "id": "snF-LfQ9pEJG"
      },
      "execution_count": null,
      "outputs": []
    },
    {
      "cell_type": "code",
      "source": [
        "print(l)"
      ],
      "metadata": {
        "colab": {
          "base_uri": "https://localhost:8080/"
        },
        "id": "7YMj3JsLjVYg",
        "outputId": "d4199e12-112b-41b0-cdd8-e70058263f7f"
      },
      "execution_count": null,
      "outputs": [
        {
          "output_type": "stream",
          "name": "stdout",
          "text": [
            "25\n"
          ]
        }
      ]
    },
    {
      "cell_type": "code",
      "source": [
        "I = 26\n",
        "print(I)"
      ],
      "metadata": {
        "colab": {
          "base_uri": "https://localhost:8080/"
        },
        "id": "Gv8XaU_W0k-V",
        "outputId": "339490b6-0f44-4240-9a16-96f537444742"
      },
      "execution_count": null,
      "outputs": [
        {
          "output_type": "stream",
          "name": "stdout",
          "text": [
            "26\n"
          ]
        }
      ]
    },
    {
      "cell_type": "code",
      "source": [
        "1 = 'something wrong'"
      ],
      "metadata": {
        "colab": {
          "base_uri": "https://localhost:8080/",
          "height": 141
        },
        "id": "PQZAq4lq0lBA",
        "outputId": "00c85b32-6d4c-4717-9839-7b2950640497"
      },
      "execution_count": null,
      "outputs": [
        {
          "output_type": "error",
          "ename": "SyntaxError",
          "evalue": "ignored",
          "traceback": [
            "\u001b[0;36m  File \u001b[0;32m\"<ipython-input-36-f376706b25a1>\"\u001b[0;36m, line \u001b[0;32m1\u001b[0m\n\u001b[0;31m    1 = 'something wrong'\u001b[0m\n\u001b[0m    ^\u001b[0m\n\u001b[0;31mSyntaxError\u001b[0m\u001b[0;31m:\u001b[0m cannot assign to literal here. Maybe you meant '==' instead of '='?\n"
          ]
        }
      ]
    },
    {
      "cell_type": "code",
      "source": [
        "1sayi = 5"
      ],
      "metadata": {
        "colab": {
          "base_uri": "https://localhost:8080/",
          "height": 141
        },
        "id": "0ZMEqXBW0lDc",
        "outputId": "506f7bd9-8571-4719-97ed-4a659facf41a"
      },
      "execution_count": null,
      "outputs": [
        {
          "output_type": "error",
          "ename": "SyntaxError",
          "evalue": "ignored",
          "traceback": [
            "\u001b[0;36m  File \u001b[0;32m\"<ipython-input-37-41f653774054>\"\u001b[0;36m, line \u001b[0;32m1\u001b[0m\n\u001b[0;31m    1sayi = 5\u001b[0m\n\u001b[0m    ^\u001b[0m\n\u001b[0;31mSyntaxError\u001b[0m\u001b[0;31m:\u001b[0m invalid decimal literal\n"
          ]
        }
      ]
    },
    {
      "cell_type": "code",
      "source": [
        "sayi1 = 5\n",
        "print(sayi1)"
      ],
      "metadata": {
        "colab": {
          "base_uri": "https://localhost:8080/"
        },
        "id": "_sqDkOi20lGB",
        "outputId": "826bbfe0-e772-4cf7-af17-9ea99b554cd8"
      },
      "execution_count": null,
      "outputs": [
        {
          "output_type": "stream",
          "name": "stdout",
          "text": [
            "5\n"
          ]
        }
      ]
    },
    {
      "cell_type": "code",
      "source": [
        "# operation_number\n",
        "number_o = 5\n",
        "# o ile 0 karisacagi icin o harfini bu sekilde kullanmiyoruz"
      ],
      "metadata": {
        "id": "Cd1i1aIi0lIO"
      },
      "execution_count": null,
      "outputs": []
    },
    {
      "cell_type": "code",
      "source": [
        "help(\"keywords\")"
      ],
      "metadata": {
        "colab": {
          "base_uri": "https://localhost:8080/"
        },
        "id": "R_DyGBFt1kQ5",
        "outputId": "f39b45bc-6552-46a1-e263-c6f57fe7e7f3"
      },
      "execution_count": null,
      "outputs": [
        {
          "output_type": "stream",
          "name": "stdout",
          "text": [
            "\n",
            "Here is a list of the Python keywords.  Enter any keyword to get more help.\n",
            "\n",
            "False               class               from                or\n",
            "None                continue            global              pass\n",
            "True                def                 if                  raise\n",
            "and                 del                 import              return\n",
            "as                  elif                in                  try\n",
            "assert              else                is                  while\n",
            "async               except              lambda              with\n",
            "await               finally             nonlocal            yield\n",
            "break               for                 not                 \n",
            "\n"
          ]
        }
      ]
    },
    {
      "cell_type": "code",
      "source": [
        "if = 2"
      ],
      "metadata": {
        "colab": {
          "base_uri": "https://localhost:8080/",
          "height": 141
        },
        "id": "lPCo6eeJ1kTc",
        "outputId": "cdf6cb42-d0ca-446b-9371-d95a988bfe36"
      },
      "execution_count": null,
      "outputs": [
        {
          "output_type": "error",
          "ename": "SyntaxError",
          "evalue": "ignored",
          "traceback": [
            "\u001b[0;36m  File \u001b[0;32m\"<ipython-input-42-24e9fac9684a>\"\u001b[0;36m, line \u001b[0;32m1\u001b[0m\n\u001b[0;31m    if = 2\u001b[0m\n\u001b[0m       ^\u001b[0m\n\u001b[0;31mSyntaxError\u001b[0m\u001b[0;31m:\u001b[0m invalid syntax\n"
          ]
        }
      ]
    },
    {
      "cell_type": "code",
      "source": [
        "a = b = c = 120\n",
        "\n",
        "print(a)\n",
        "print(b)\n",
        "print(c)"
      ],
      "metadata": {
        "colab": {
          "base_uri": "https://localhost:8080/"
        },
        "id": "Ce5W1OEL1kV4",
        "outputId": "f77797c8-5367-4a0a-fabc-f4adfcd314a8"
      },
      "execution_count": null,
      "outputs": [
        {
          "output_type": "stream",
          "name": "stdout",
          "text": [
            "120\n",
            "120\n",
            "120\n"
          ]
        }
      ]
    },
    {
      "cell_type": "code",
      "source": [
        "# multi assignments in a single line\n",
        "january = march = may = july = august = october = december = 31\n",
        "april = june = september = november = 30\n",
        "february = 28\n",
        "print(january, february, march, april, may, june, july, august, september, october, november, december)"
      ],
      "metadata": {
        "colab": {
          "base_uri": "https://localhost:8080/"
        },
        "id": "EeR7IVHB1kYG",
        "outputId": "b77129d4-4be8-4772-9c30-d58ab02939f7"
      },
      "execution_count": null,
      "outputs": [
        {
          "output_type": "stream",
          "name": "stdout",
          "text": [
            "31 28 31 30 31 30 31 31 30 31 30 31\n"
          ]
        }
      ]
    },
    {
      "cell_type": "code",
      "source": [
        "print(january, february)"
      ],
      "metadata": {
        "colab": {
          "base_uri": "https://localhost:8080/"
        },
        "id": "zZ9jBbTz0lKO",
        "outputId": "afe59fa0-0600-4d25-ee75-85ffa2b4ac38"
      },
      "execution_count": null,
      "outputs": [
        {
          "output_type": "stream",
          "name": "stdout",
          "text": [
            "31 28\n"
          ]
        }
      ]
    },
    {
      "cell_type": "code",
      "source": [
        "thomas = 33\n",
        "marry = 28\n",
        "walter = None\n",
        "isabella = 46"
      ],
      "metadata": {
        "id": "KoPWmuwm_DV6"
      },
      "execution_count": null,
      "outputs": []
    },
    {
      "cell_type": "code",
      "source": [
        "type(walter)"
      ],
      "metadata": {
        "colab": {
          "base_uri": "https://localhost:8080/"
        },
        "id": "q55r50Ld_DYM",
        "outputId": "f3bc4c58-b37b-4c2a-9ee2-27bc59656ed8"
      },
      "execution_count": null,
      "outputs": [
        {
          "output_type": "execute_result",
          "data": {
            "text/plain": [
              "NoneType"
            ]
          },
          "metadata": {},
          "execution_count": 49
        }
      ]
    },
    {
      "cell_type": "code",
      "source": [
        "type(thomas)"
      ],
      "metadata": {
        "colab": {
          "base_uri": "https://localhost:8080/"
        },
        "id": "9IcDY_cy_Dap",
        "outputId": "446d3dd4-587b-4f8b-e995-7f615889a404"
      },
      "execution_count": null,
      "outputs": [
        {
          "output_type": "execute_result",
          "data": {
            "text/plain": [
              "int"
            ]
          },
          "metadata": {},
          "execution_count": 50
        }
      ]
    },
    {
      "cell_type": "code",
      "source": [
        "website = 'apple.com'\n",
        "\n",
        "print(website)\n",
        "\n",
        "website = 'clarusway.com'\n",
        "\n",
        "print(website)"
      ],
      "metadata": {
        "colab": {
          "base_uri": "https://localhost:8080/"
        },
        "id": "1CY8RNup_Dc1",
        "outputId": "b8259842-c65e-4e80-9033-21375889799e"
      },
      "execution_count": null,
      "outputs": [
        {
          "output_type": "stream",
          "name": "stdout",
          "text": [
            "apple.com\n",
            "clarusway.com\n"
          ]
        }
      ]
    },
    {
      "cell_type": "code",
      "source": [
        "x = 15\n",
        "y = 33\n",
        "z = x\n",
        "x = y\n",
        "\n",
        "print(x)\n",
        "print(y)\n",
        "print(z)"
      ],
      "metadata": {
        "colab": {
          "base_uri": "https://localhost:8080/"
        },
        "id": "TPlbJctFAjev",
        "outputId": "11caca4c-d8f1-4767-cd98-680291fc0240"
      },
      "execution_count": null,
      "outputs": [
        {
          "output_type": "stream",
          "name": "stdout",
          "text": [
            "33\n",
            "33\n",
            "15\n"
          ]
        }
      ]
    },
    {
      "cell_type": "code",
      "source": [
        "a, b, c =  5, 3.2, \"Hello\"\n",
        "print(a)\n",
        "print(b)\n",
        "print(c)"
      ],
      "metadata": {
        "colab": {
          "base_uri": "https://localhost:8080/"
        },
        "id": "gu4Vc8EpApvR",
        "outputId": "24dd4752-94cc-43a7-8399-fd0d25be7e86"
      },
      "execution_count": null,
      "outputs": [
        {
          "output_type": "stream",
          "name": "stdout",
          "text": [
            "5\n",
            "3.2\n",
            "Hello\n"
          ]
        }
      ]
    },
    {
      "cell_type": "code",
      "source": [
        "number = 120\n",
        "pi_number = 3.14\n",
        "name = 'Joseph'\n",
        "bool_var = True\n"
      ],
      "metadata": {
        "id": "GRtmZB_rApxl"
      },
      "execution_count": null,
      "outputs": []
    },
    {
      "cell_type": "code",
      "source": [
        "print(type(number))\n",
        "print(type(pi_number))\n",
        "print(type(name))\n",
        "print(type(bool_var))"
      ],
      "metadata": {
        "colab": {
          "base_uri": "https://localhost:8080/"
        },
        "id": "ap6oivjnAp0E",
        "outputId": "e33597f6-a96d-4aac-af6a-26728298c820"
      },
      "execution_count": null,
      "outputs": [
        {
          "output_type": "stream",
          "name": "stdout",
          "text": [
            "<class 'int'>\n",
            "<class 'float'>\n",
            "<class 'str'>\n",
            "<class 'bool'>\n"
          ]
        }
      ]
    },
    {
      "cell_type": "code",
      "source": [
        "#Python Case Sensitive (kucuk-buyuk harf duyarliligi var demektir.)\n",
        "name = 'Joseph'\n",
        "Name = 'Martin'\n",
        "print(Name)\n",
        "print(name)"
      ],
      "metadata": {
        "colab": {
          "base_uri": "https://localhost:8080/"
        },
        "id": "tbXn9jMPAp1-",
        "outputId": "c15dce9b-be3c-419c-e77f-c1ac1cd7d11e"
      },
      "execution_count": null,
      "outputs": [
        {
          "output_type": "stream",
          "name": "stdout",
          "text": [
            "Martin\n",
            "Joseph\n"
          ]
        }
      ]
    },
    {
      "cell_type": "code",
      "source": [
        "name = 'Joseph'\n",
        "type(name)"
      ],
      "metadata": {
        "colab": {
          "base_uri": "https://localhost:8080/"
        },
        "id": "UsvCPhJ3ESRn",
        "outputId": "499015e5-7d7b-451f-ca66-f231dc23407a"
      },
      "execution_count": null,
      "outputs": [
        {
          "output_type": "execute_result",
          "data": {
            "text/plain": [
              "str"
            ]
          },
          "metadata": {},
          "execution_count": 63
        }
      ]
    },
    {
      "cell_type": "code",
      "source": [
        "sayi = 12\n",
        "type(sayi)"
      ],
      "metadata": {
        "colab": {
          "base_uri": "https://localhost:8080/"
        },
        "id": "XF-DFUBvEST-",
        "outputId": "79a20cb7-3c05-4192-c15a-55cf3b81f354"
      },
      "execution_count": null,
      "outputs": [
        {
          "output_type": "execute_result",
          "data": {
            "text/plain": [
              "int"
            ]
          },
          "metadata": {},
          "execution_count": 64
        }
      ]
    },
    {
      "cell_type": "code",
      "source": [
        "sayi2 = 543.323\n",
        "\n",
        "type(sayi2)"
      ],
      "metadata": {
        "colab": {
          "base_uri": "https://localhost:8080/"
        },
        "id": "OhxC3QimESWf",
        "outputId": "564d6a2e-ad96-46d3-dfcd-3dfb47de5eee"
      },
      "execution_count": null,
      "outputs": [
        {
          "output_type": "execute_result",
          "data": {
            "text/plain": [
              "float"
            ]
          },
          "metadata": {},
          "execution_count": 65
        }
      ]
    },
    {
      "cell_type": "code",
      "source": [
        "number = '1923'\n",
        "\n",
        "type(number)"
      ],
      "metadata": {
        "colab": {
          "base_uri": "https://localhost:8080/"
        },
        "id": "PWMvX6vSESYw",
        "outputId": "09b8e8ce-143d-42b9-d84b-79310c4b3d48"
      },
      "execution_count": null,
      "outputs": [
        {
          "output_type": "execute_result",
          "data": {
            "text/plain": [
              "str"
            ]
          },
          "metadata": {},
          "execution_count": 66
        }
      ]
    },
    {
      "cell_type": "code",
      "source": [
        "number = -27\n",
        "\n",
        "print(number)"
      ],
      "metadata": {
        "colab": {
          "base_uri": "https://localhost:8080/"
        },
        "id": "KmfSQFHyE0-2",
        "outputId": "8516be8e-de73-42fa-c145-8d80c18ed7dd"
      },
      "execution_count": null,
      "outputs": [
        {
          "output_type": "stream",
          "name": "stdout",
          "text": [
            "-27\n"
          ]
        }
      ]
    },
    {
      "cell_type": "code",
      "source": [
        "type(number)"
      ],
      "metadata": {
        "colab": {
          "base_uri": "https://localhost:8080/"
        },
        "id": "WMJZkrVCE1BX",
        "outputId": "ead26fb8-99fc-40d7-b71f-aef0ff699d09"
      },
      "execution_count": null,
      "outputs": [
        {
          "output_type": "execute_result",
          "data": {
            "text/plain": [
              "int"
            ]
          },
          "metadata": {},
          "execution_count": 68
        }
      ]
    },
    {
      "cell_type": "code",
      "source": [
        "print(type(number))"
      ],
      "metadata": {
        "colab": {
          "base_uri": "https://localhost:8080/"
        },
        "id": "3EYugJhTE1EL",
        "outputId": "69794f4b-9b95-4172-d17c-7fdcd382c51a"
      },
      "execution_count": null,
      "outputs": [
        {
          "output_type": "stream",
          "name": "stdout",
          "text": [
            "<class 'int'>\n"
          ]
        }
      ]
    },
    {
      "cell_type": "code",
      "source": [
        "number_float = 213.54\n",
        "\n",
        "print(number_float)"
      ],
      "metadata": {
        "colab": {
          "base_uri": "https://localhost:8080/"
        },
        "id": "MiSM8rxOE1Gn",
        "outputId": "e97ecae4-edb4-46a2-bed2-8aa0fe0d4845"
      },
      "execution_count": null,
      "outputs": [
        {
          "output_type": "stream",
          "name": "stdout",
          "text": [
            "213.54\n"
          ]
        }
      ]
    },
    {
      "cell_type": "code",
      "source": [
        "type(number_float)"
      ],
      "metadata": {
        "colab": {
          "base_uri": "https://localhost:8080/"
        },
        "id": "J_Zbk9yzF0ap",
        "outputId": "c53aa3f7-ab23-481a-b555-4aa35d2a898a"
      },
      "execution_count": null,
      "outputs": [
        {
          "output_type": "execute_result",
          "data": {
            "text/plain": [
              "float"
            ]
          },
          "metadata": {},
          "execution_count": 71
        }
      ]
    },
    {
      "cell_type": "code",
      "source": [],
      "metadata": {
        "id": "AD9BW_dhF0dQ"
      },
      "execution_count": null,
      "outputs": []
    },
    {
      "cell_type": "code",
      "source": [],
      "metadata": {
        "id": "v7Bvz4swF0fw"
      },
      "execution_count": null,
      "outputs": []
    },
    {
      "cell_type": "code",
      "source": [],
      "metadata": {
        "id": "PomuklYjF0iO"
      },
      "execution_count": null,
      "outputs": []
    }
  ]
}