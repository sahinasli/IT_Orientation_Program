{
  "nbformat": 4,
  "nbformat_minor": 0,
  "metadata": {
    "colab": {
      "provenance": []
    },
    "kernelspec": {
      "name": "python3",
      "display_name": "Python 3"
    },
    "language_info": {
      "name": "python"
    }
  },
  "cells": [
    {
      "cell_type": "code",
      "execution_count": 4,
      "metadata": {
        "colab": {
          "base_uri": "https://localhost:8080/"
        },
        "id": "1tiFRRKbP7-R",
        "outputId": "8d932c50-893a-4e18-a757-4a16a0bc7a29"
      },
      "outputs": [
        {
          "output_type": "execute_result",
          "data": {
            "text/plain": [
              "True"
            ]
          },
          "metadata": {},
          "execution_count": 4
        }
      ],
      "source": [
        "\"1200\".isdigit() # isdigit() => (0 1 2 3 4 5 6 7 8 9)"
      ]
    },
    {
      "cell_type": "code",
      "source": [
        "\"14*5\".isdigit()"
      ],
      "metadata": {
        "colab": {
          "base_uri": "https://localhost:8080/"
        },
        "id": "Im7YYaZRSaP0",
        "outputId": "a9f8896b-9bd4-4eb3-828e-51f3a3b604fd"
      },
      "execution_count": 3,
      "outputs": [
        {
          "output_type": "execute_result",
          "data": {
            "text/plain": [
              "False"
            ]
          },
          "metadata": {},
          "execution_count": 3
        }
      ]
    },
    {
      "cell_type": "code",
      "source": [
        "not \"25+\".isdigit()"
      ],
      "metadata": {
        "colab": {
          "base_uri": "https://localhost:8080/"
        },
        "id": "hq-rL1ECTLy3",
        "outputId": "2d4ac9f4-8a8f-4004-cc30-24a573b15962"
      },
      "execution_count": 6,
      "outputs": [
        {
          "output_type": "execute_result",
          "data": {
            "text/plain": [
              "True"
            ]
          },
          "metadata": {},
          "execution_count": 6
        }
      ]
    },
    {
      "cell_type": "code",
      "source": [
        "age = input(\"Please enter your age: \")\n",
        "\n",
        "while not age.isdigit():\n",
        "  print(\"You entered invalid value!!!\")\n",
        "  age = input(\"Please enter your age again: \")\n",
        "\n",
        "print(\"Your age is\", age)\n"
      ],
      "metadata": {
        "colab": {
          "base_uri": "https://localhost:8080/"
        },
        "id": "kiWgKHSRR1W0",
        "outputId": "2e9669ce-8eb7-47a7-a891-a8880f3583bb"
      },
      "execution_count": 7,
      "outputs": [
        {
          "output_type": "stream",
          "name": "stdout",
          "text": [
            "Please enter your age: 25+\n",
            "You entered invalid value!!!\n",
            "Please enter your age again: 25;\n",
            "You entered invalid value!!!\n",
            "Please enter your age again: 25-\n",
            "You entered invalid value!!!\n",
            "Please enter your age again: 25\n",
            "Your age is 25\n"
          ]
        }
      ]
    },
    {
      "cell_type": "code",
      "source": [
        "# Arkadaslarimizdan bir oyun ornegi.\n",
        "import random\n",
        "x = random.randint(0,100)\n",
        "can = int(input(\"Kaç Can Kullanmak istersiniz   :\"))\n",
        "hak = can\n",
        "sayac = 0\n",
        "print(x)\n",
        "while 100 > hak > 0:\n",
        "    hak -= 1\n",
        "    sayac += 1\n",
        "    tahmin = int(input(\"Tahmininizi Giriniz   :\"))\n",
        "    if x == tahmin:\n",
        "      print(\"Tebrikler Kazandınız!!!\\n\", sayac,\".\",\"seferde bildiniz.\", \"Puanınız  :\", (100)-(100/can)*(sayac-1))\n",
        "      break\n",
        "    elif x < tahmin:\n",
        "      print(\"Daha küçük sayı giriniz!\", sayac,\"Hak kullandınız\")\n",
        "    else:\n",
        "      print(\"Daha Büyük Sayı Girin!\", sayac,\"Hak kullandınız\")\n",
        "    if hak == 0:\n",
        "      print(\"Kaybettiniz. \\nHakkınız bitti\")\n",
        "else:\n",
        "  print(\"Lüten 1-100 arasında hak giriniz.\")"
      ],
      "metadata": {
        "colab": {
          "base_uri": "https://localhost:8080/"
        },
        "id": "9byKdG2YR1Zf",
        "outputId": "54f846ca-48cb-42ff-9eef-6e4abf205c7c"
      },
      "execution_count": 14,
      "outputs": [
        {
          "output_type": "stream",
          "name": "stdout",
          "text": [
            "Kaç Can Kullanmak istersiniz   :3\n",
            "66\n",
            "Tahmininizi Giriniz   :25\n",
            "Daha Büyük Sayı Girin! 1 Hak kullandınız\n",
            "Tahmininizi Giriniz   :30\n",
            "Daha Büyük Sayı Girin! 2 Hak kullandınız\n",
            "Tahmininizi Giriniz   :66\n",
            "Tebrikler Kazandınız!!!\n",
            " 3 . seferde bildiniz. Puanınız  : 33.33333333333333\n"
          ]
        }
      ]
    },
    {
      "cell_type": "code",
      "source": [
        "import random\n",
        "\n",
        "num = random.randint(1,50)\n",
        "print(num)\n",
        "rights = 5\n",
        "\n",
        "while rights > 0:\n",
        "  guess = int(input(\"Please enter your guess: \"))\n",
        "  rights -= 1\n",
        "\n",
        "  if guess == num:\n",
        "    print(\"<<<=== Congrats! You Won! ===>>>\")\n",
        "    break\n",
        "  elif guess > num:\n",
        "    print(f\"Please enter lower! ------- remain rights : {rights}\")\n",
        "  elif guess < num:\n",
        "    print(f\"Please enter higher! ------- remain rights : {rights}\")\n",
        "\n",
        "else:\n",
        "  print(f\"<<<=== Your rights are over. Game Over! Number {num} ===>>>\")\n",
        "\n"
      ],
      "metadata": {
        "colab": {
          "base_uri": "https://localhost:8080/"
        },
        "id": "6vV4O9LeR1cI",
        "outputId": "1852b1a7-4700-43a0-91ee-3d65ea7e8224"
      },
      "execution_count": 19,
      "outputs": [
        {
          "output_type": "stream",
          "name": "stdout",
          "text": [
            "17\n",
            "Please enter your guess: 20\n",
            "Please enter lower! ------- remain rights : 4\n",
            "Please enter your guess: 25\n",
            "Please enter lower! ------- remain rights : 3\n",
            "Please enter your guess: 14\n",
            "Please enter higher! ------- remain rights : 2\n",
            "Please enter your guess: 15\n",
            "Please enter higher! ------- remain rights : 1\n",
            "Please enter your guess: 35\n",
            "Please enter lower! ------- remain rights : 0\n",
            "<<<=== Your rights are over. Game Over! Number 17 ===>>>\n"
          ]
        }
      ]
    },
    {
      "cell_type": "code",
      "source": [
        "sentence = input(\"Bir cumle giriniz: \")\n",
        "\n",
        "words = sentence.split()\n",
        "\n",
        "counter = 0\n",
        "longest = \"\"\n",
        "\n",
        "while counter < len(words):\n",
        "  if len(words[counter]) > len(longest):\n",
        "    longest = words[counter]\n",
        "    longest_len = len(words[counter])\n",
        "  counter +=1\n",
        "\n",
        "print(f\"Longest word is : {longest}. length of longest word: {longest_len}\")"
      ],
      "metadata": {
        "colab": {
          "base_uri": "https://localhost:8080/"
        },
        "id": "RUk2iqe8R1ej",
        "outputId": "4fc9710b-e816-42e7-86c8-ea31adace50f"
      },
      "execution_count": 30,
      "outputs": [
        {
          "output_type": "stream",
          "name": "stdout",
          "text": [
            "Bir cumle giriniz: Istanbul'da kar yagiyor\n",
            "Longest word is : Istanbul'da. length of longest word: 11\n"
          ]
        }
      ]
    },
    {
      "cell_type": "code",
      "source": [
        "numbers = [1, 2, 3, 4, 5]\n",
        "\n",
        "for i in numbers:\n",
        "  print(i)\n"
      ],
      "metadata": {
        "colab": {
          "base_uri": "https://localhost:8080/"
        },
        "id": "H1_yzdwEbb1g",
        "outputId": "23b97e4a-7d08-4595-a673-d2eb89d8834b"
      },
      "execution_count": 31,
      "outputs": [
        {
          "output_type": "stream",
          "name": "stdout",
          "text": [
            "1\n",
            "2\n",
            "3\n",
            "4\n",
            "5\n"
          ]
        }
      ]
    },
    {
      "cell_type": "code",
      "source": [
        "seasons = [\"spring\", \"summer\", \"autumn\", \"winter\"]\n",
        "\n",
        "for season in seasons:\n",
        "  print(i)"
      ],
      "metadata": {
        "colab": {
          "base_uri": "https://localhost:8080/"
        },
        "id": "5x0NMW7hbb6r",
        "outputId": "f407e3dd-dcb1-4712-aabb-dfb0c997299c"
      },
      "execution_count": 34,
      "outputs": [
        {
          "output_type": "stream",
          "name": "stdout",
          "text": [
            "winter\n",
            "winter\n",
            "winter\n",
            "winter\n"
          ]
        }
      ]
    },
    {
      "cell_type": "markdown",
      "source": [
        "![image.png](data:image/png;base64,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)"
      ],
      "metadata": {
        "id": "cbx4xxHFjd16"
      }
    },
    {
      "cell_type": "code",
      "source": [
        "names = [\"Jack\", \"Ali\", \"Veli\", \"Ayse\", \"Zeynep\", \"Bahar\"]\n",
        "\n",
        "for i in names:\n",
        "  print(f\"Hello {i}\")"
      ],
      "metadata": {
        "colab": {
          "base_uri": "https://localhost:8080/"
        },
        "id": "ynW-5TVTbb88",
        "outputId": "de905c19-5ab0-4d13-8051-693eca08bed0"
      },
      "execution_count": 37,
      "outputs": [
        {
          "output_type": "stream",
          "name": "stdout",
          "text": [
            "Hello Jack\n",
            "Hello Ali\n",
            "Hello Veli\n",
            "Hello Ayse\n",
            "Hello Zeynep\n",
            "Hello Bahar\n"
          ]
        }
      ]
    },
    {
      "cell_type": "code",
      "source": [
        "range(1,20)"
      ],
      "metadata": {
        "colab": {
          "base_uri": "https://localhost:8080/"
        },
        "id": "BareKR4pR1hH",
        "outputId": "42d1cc33-374e-48bd-b7b7-cfd739512926"
      },
      "execution_count": 38,
      "outputs": [
        {
          "output_type": "execute_result",
          "data": {
            "text/plain": [
              "range(1, 20)"
            ]
          },
          "metadata": {},
          "execution_count": 38
        }
      ]
    },
    {
      "cell_type": "code",
      "source": [
        "list(range(1,20))"
      ],
      "metadata": {
        "colab": {
          "base_uri": "https://localhost:8080/"
        },
        "id": "AoDNCb_6R1jp",
        "outputId": "704a30a7-7f32-4703-9399-b8dcaf222b51"
      },
      "execution_count": 39,
      "outputs": [
        {
          "output_type": "execute_result",
          "data": {
            "text/plain": [
              "[1, 2, 3, 4, 5, 6, 7, 8, 9, 10, 11, 12, 13, 14, 15, 16, 17, 18, 19]"
            ]
          },
          "metadata": {},
          "execution_count": 39
        }
      ]
    },
    {
      "cell_type": "code",
      "source": [
        "list(range(1,21,2))"
      ],
      "metadata": {
        "colab": {
          "base_uri": "https://localhost:8080/"
        },
        "id": "rXHFr6zDR1mH",
        "outputId": "3fb18db8-d682-4f5e-8011-addcf94d67ed"
      },
      "execution_count": 40,
      "outputs": [
        {
          "output_type": "execute_result",
          "data": {
            "text/plain": [
              "[1, 3, 5, 7, 9, 11, 13, 15, 17, 19]"
            ]
          },
          "metadata": {},
          "execution_count": 40
        }
      ]
    },
    {
      "cell_type": "code",
      "source": [
        "list(range(10))"
      ],
      "metadata": {
        "colab": {
          "base_uri": "https://localhost:8080/"
        },
        "id": "-1mMMqYnR1oT",
        "outputId": "4010b14b-3e07-4f10-8074-a4dc76373c77"
      },
      "execution_count": 41,
      "outputs": [
        {
          "output_type": "execute_result",
          "data": {
            "text/plain": [
              "[0, 1, 2, 3, 4, 5, 6, 7, 8, 9]"
            ]
          },
          "metadata": {},
          "execution_count": 41
        }
      ]
    },
    {
      "cell_type": "code",
      "source": [
        "list(range(1,6))"
      ],
      "metadata": {
        "colab": {
          "base_uri": "https://localhost:8080/"
        },
        "id": "9a5Dic9OkgU5",
        "outputId": "82faa442-2cef-401c-a4bf-687055a90612"
      },
      "execution_count": 42,
      "outputs": [
        {
          "output_type": "execute_result",
          "data": {
            "text/plain": [
              "[1, 2, 3, 4, 5]"
            ]
          },
          "metadata": {},
          "execution_count": 42
        }
      ]
    },
    {
      "cell_type": "code",
      "source": [
        "for i in range(1,6):\n",
        "  print(i)"
      ],
      "metadata": {
        "colab": {
          "base_uri": "https://localhost:8080/"
        },
        "id": "PXnug5HQkgXm",
        "outputId": "e394d54a-e1f0-4176-9e24-91e51ba4ebb1"
      },
      "execution_count": 43,
      "outputs": [
        {
          "output_type": "stream",
          "name": "stdout",
          "text": [
            "1\n",
            "2\n",
            "3\n",
            "4\n",
            "5\n"
          ]
        }
      ]
    },
    {
      "cell_type": "code",
      "source": [
        "text = \"Clarusway\"\n",
        "\n",
        "for i in text:\n",
        "  print(i)"
      ],
      "metadata": {
        "colab": {
          "base_uri": "https://localhost:8080/"
        },
        "id": "9Ed2AiZrkgab",
        "outputId": "9e987a4d-3561-4184-a072-3c784533df1d"
      },
      "execution_count": 48,
      "outputs": [
        {
          "output_type": "stream",
          "name": "stdout",
          "text": [
            "C\n",
            "l\n",
            "a\n",
            "r\n",
            "u\n",
            "s\n",
            "w\n",
            "a\n",
            "y\n"
          ]
        }
      ]
    },
    {
      "cell_type": "code",
      "source": [
        "text = \"Clarusway\"\n",
        "\n",
        "for i in text:\n",
        "  print(i, end=\" \")"
      ],
      "metadata": {
        "colab": {
          "base_uri": "https://localhost:8080/"
        },
        "id": "3psl6tOYkgfm",
        "outputId": "cbf50b87-b041-4dbe-d116-fbf88e29f502"
      },
      "execution_count": 47,
      "outputs": [
        {
          "output_type": "stream",
          "name": "stdout",
          "text": [
            "C l a r u s w a y "
          ]
        }
      ]
    },
    {
      "cell_type": "code",
      "source": [
        "counter = 0\n",
        "\n",
        "for i in text:\n",
        "  counter += 1\n",
        "  if counter < len(text):\n",
        "    i += '-'\n",
        "  print(i, end='')"
      ],
      "metadata": {
        "colab": {
          "base_uri": "https://localhost:8080/"
        },
        "id": "BmCIZG9gkgiO",
        "outputId": "78bb2217-e0ee-4aa8-c39f-eefd8e48c3fa"
      },
      "execution_count": 57,
      "outputs": [
        {
          "output_type": "stream",
          "name": "stdout",
          "text": [
            "C-l-a-r-u-s-w-a-y"
          ]
        }
      ]
    },
    {
      "cell_type": "code",
      "source": [
        "# join method ile cozumu\n",
        "\n",
        "ayrac = '-'\n",
        "ayrac.join(text)"
      ],
      "metadata": {
        "colab": {
          "base_uri": "https://localhost:8080/",
          "height": 36
        },
        "id": "tf4kJDWNlpkV",
        "outputId": "e574277d-a2a1-48fa-c0e9-6e4e12bc3e78"
      },
      "execution_count": 60,
      "outputs": [
        {
          "output_type": "execute_result",
          "data": {
            "text/plain": [
              "'C-l-a-r-u-s-w-a-y'"
            ],
            "application/vnd.google.colaboratory.intrinsic+json": {
              "type": "string"
            }
          },
          "metadata": {},
          "execution_count": 60
        }
      ]
    },
    {
      "cell_type": "code",
      "source": [
        "user = {\n",
        "    'name' :'Daniel',\n",
        "    'surname' :'Smith',\n",
        "    'age' : 35\n",
        "}\n"
      ],
      "metadata": {
        "id": "0UfJtt-vlpml"
      },
      "execution_count": 62,
      "outputs": []
    },
    {
      "cell_type": "code",
      "source": [
        "user.values()"
      ],
      "metadata": {
        "colab": {
          "base_uri": "https://localhost:8080/"
        },
        "id": "e9P8yzMmq3cf",
        "outputId": "acc48149-ecbd-4532-b44e-bb46df4f7137"
      },
      "execution_count": 69,
      "outputs": [
        {
          "output_type": "execute_result",
          "data": {
            "text/plain": [
              "dict_values(['Daniel', 'Smith', 35])"
            ]
          },
          "metadata": {},
          "execution_count": 69
        }
      ]
    },
    {
      "cell_type": "code",
      "source": [
        "user.keys()"
      ],
      "metadata": {
        "colab": {
          "base_uri": "https://localhost:8080/"
        },
        "id": "dtQ2Cb8oq62r",
        "outputId": "8076d201-f366-47ab-e187-8be73f5ce15b"
      },
      "execution_count": 70,
      "outputs": [
        {
          "output_type": "execute_result",
          "data": {
            "text/plain": [
              "dict_keys(['name', 'surname', 'age'])"
            ]
          },
          "metadata": {},
          "execution_count": 70
        }
      ]
    },
    {
      "cell_type": "code",
      "source": [
        "'name' in user"
      ],
      "metadata": {
        "colab": {
          "base_uri": "https://localhost:8080/"
        },
        "id": "ELqT93TClprU",
        "outputId": "67edf687-8f02-40d6-9db5-ae60fc8d4f85"
      },
      "execution_count": 63,
      "outputs": [
        {
          "output_type": "execute_result",
          "data": {
            "text/plain": [
              "True"
            ]
          },
          "metadata": {},
          "execution_count": 63
        }
      ]
    },
    {
      "cell_type": "code",
      "source": [
        "'Daniel' in user  # key degerlerine bakar."
      ],
      "metadata": {
        "colab": {
          "base_uri": "https://localhost:8080/"
        },
        "id": "HlDHQG95lpts",
        "outputId": "d712e507-5ff8-421f-8c86-2e74716c9e76"
      },
      "execution_count": 64,
      "outputs": [
        {
          "output_type": "execute_result",
          "data": {
            "text/plain": [
              "False"
            ]
          },
          "metadata": {},
          "execution_count": 64
        }
      ]
    },
    {
      "cell_type": "code",
      "source": [
        "for i in user:\n",
        "  print(i)"
      ],
      "metadata": {
        "colab": {
          "base_uri": "https://localhost:8080/"
        },
        "id": "-Mr2tWtrkgkd",
        "outputId": "e4189f7a-c4d4-4bbb-fec6-0a8b6d27b25f"
      },
      "execution_count": 65,
      "outputs": [
        {
          "output_type": "stream",
          "name": "stdout",
          "text": [
            "name\n",
            "surname\n",
            "age\n"
          ]
        }
      ]
    },
    {
      "cell_type": "code",
      "source": [
        "for i in user.values():\n",
        "  print(i)"
      ],
      "metadata": {
        "colab": {
          "base_uri": "https://localhost:8080/"
        },
        "id": "_BUvo4uyqhDc",
        "outputId": "7ac9578e-ef7a-407b-94c3-d6ba1267c668"
      },
      "execution_count": 66,
      "outputs": [
        {
          "output_type": "stream",
          "name": "stdout",
          "text": [
            "Daniel\n",
            "Smith\n",
            "35\n"
          ]
        }
      ]
    },
    {
      "cell_type": "code",
      "source": [
        "for i in user.keys():\n",
        "  print(i)"
      ],
      "metadata": {
        "colab": {
          "base_uri": "https://localhost:8080/"
        },
        "id": "sNIHIpKZqjvd",
        "outputId": "c0dd706c-571c-46f1-aaa9-306daf5e1a31"
      },
      "execution_count": 67,
      "outputs": [
        {
          "output_type": "stream",
          "name": "stdout",
          "text": [
            "name\n",
            "surname\n",
            "age\n"
          ]
        }
      ]
    },
    {
      "cell_type": "code",
      "source": [
        "user.items()"
      ],
      "metadata": {
        "colab": {
          "base_uri": "https://localhost:8080/"
        },
        "id": "cJpR99XwqzUJ",
        "outputId": "a4364cea-e16b-4f01-b631-f43dee6a016f"
      },
      "execution_count": 68,
      "outputs": [
        {
          "output_type": "execute_result",
          "data": {
            "text/plain": [
              "dict_items([('name', 'Daniel'), ('surname', 'Smith'), ('age', 35)])"
            ]
          },
          "metadata": {},
          "execution_count": 68
        }
      ]
    },
    {
      "cell_type": "code",
      "source": [
        "for i in user.items():\n",
        "  print(i)"
      ],
      "metadata": {
        "colab": {
          "base_uri": "https://localhost:8080/"
        },
        "id": "K9B4TECXqjyW",
        "outputId": "0caf5886-4621-4803-88f6-49965c93eaf9"
      },
      "execution_count": 71,
      "outputs": [
        {
          "output_type": "stream",
          "name": "stdout",
          "text": [
            "('name', 'Daniel')\n",
            "('surname', 'Smith')\n",
            "('age', 35)\n"
          ]
        }
      ]
    },
    {
      "cell_type": "code",
      "source": [
        "for key, value in user.items():\n",
        "  print(key, \":\", value)"
      ],
      "metadata": {
        "colab": {
          "base_uri": "https://localhost:8080/"
        },
        "id": "UD7q5eDtqj1F",
        "outputId": "30726b9c-b421-4668-abc6-728bb1779b5e"
      },
      "execution_count": 73,
      "outputs": [
        {
          "output_type": "stream",
          "name": "stdout",
          "text": [
            "name : Daniel\n",
            "surname : Smith\n",
            "age : 35\n"
          ]
        }
      ]
    },
    {
      "cell_type": "code",
      "source": [
        "listem = [(1, 2, 3), ('a', 'b', 'c'), ('x', 'y', 'z')]\n",
        "\n",
        "\n",
        "for i in listem:\n",
        "  print(i)"
      ],
      "metadata": {
        "colab": {
          "base_uri": "https://localhost:8080/"
        },
        "id": "aoXXr_wCqj3l",
        "outputId": "15e03d1b-44c4-4b61-e230-06f71d7b23bc"
      },
      "execution_count": 75,
      "outputs": [
        {
          "output_type": "stream",
          "name": "stdout",
          "text": [
            "(1, 2, 3)\n",
            "('a', 'b', 'c')\n",
            "('x', 'y', 'z')\n"
          ]
        }
      ]
    },
    {
      "cell_type": "code",
      "source": [
        "for i, j, k in listem:\n",
        "  print(i, ':', j, ':', k)"
      ],
      "metadata": {
        "colab": {
          "base_uri": "https://localhost:8080/"
        },
        "id": "gFV8GRnmqj6M",
        "outputId": "cd9e5a9d-12b0-48c0-f628-a3c610a62e81"
      },
      "execution_count": 76,
      "outputs": [
        {
          "output_type": "stream",
          "name": "stdout",
          "text": [
            "1 : 2 : 3\n",
            "a : b : c\n",
            "x : y : z\n"
          ]
        }
      ]
    },
    {
      "cell_type": "code",
      "source": [
        "listem = [(1, 2, 3), ('a', 'b', 'c'), ('x', 'y')]\n",
        "\n",
        "for i, j, k in listem:\n",
        "  print(i, ':', j, ':', k)"
      ],
      "metadata": {
        "colab": {
          "base_uri": "https://localhost:8080/",
          "height": 262
        },
        "id": "6n6n-howqj_I",
        "outputId": "a33a8a63-1dcf-4f23-ffa7-e156dba3b898"
      },
      "execution_count": 78,
      "outputs": [
        {
          "output_type": "stream",
          "name": "stdout",
          "text": [
            "1 : 2 : 3\n",
            "a : b : c\n"
          ]
        },
        {
          "output_type": "error",
          "ename": "ValueError",
          "evalue": "ignored",
          "traceback": [
            "\u001b[0;31m---------------------------------------------------------------------------\u001b[0m",
            "\u001b[0;31mValueError\u001b[0m                                Traceback (most recent call last)",
            "\u001b[0;32m<ipython-input-78-79c611e5867e>\u001b[0m in \u001b[0;36m<cell line: 3>\u001b[0;34m()\u001b[0m\n\u001b[1;32m      1\u001b[0m \u001b[0mlistem\u001b[0m \u001b[0;34m=\u001b[0m \u001b[0;34m[\u001b[0m\u001b[0;34m(\u001b[0m\u001b[0;36m1\u001b[0m\u001b[0;34m,\u001b[0m \u001b[0;36m2\u001b[0m\u001b[0;34m,\u001b[0m \u001b[0;36m3\u001b[0m\u001b[0;34m)\u001b[0m\u001b[0;34m,\u001b[0m \u001b[0;34m(\u001b[0m\u001b[0;34m'a'\u001b[0m\u001b[0;34m,\u001b[0m \u001b[0;34m'b'\u001b[0m\u001b[0;34m,\u001b[0m \u001b[0;34m'c'\u001b[0m\u001b[0;34m)\u001b[0m\u001b[0;34m,\u001b[0m \u001b[0;34m(\u001b[0m\u001b[0;34m'x'\u001b[0m\u001b[0;34m,\u001b[0m \u001b[0;34m'y'\u001b[0m\u001b[0;34m)\u001b[0m\u001b[0;34m]\u001b[0m\u001b[0;34m\u001b[0m\u001b[0;34m\u001b[0m\u001b[0m\n\u001b[1;32m      2\u001b[0m \u001b[0;34m\u001b[0m\u001b[0m\n\u001b[0;32m----> 3\u001b[0;31m \u001b[0;32mfor\u001b[0m \u001b[0mi\u001b[0m\u001b[0;34m,\u001b[0m \u001b[0mj\u001b[0m\u001b[0;34m,\u001b[0m \u001b[0mk\u001b[0m \u001b[0;32min\u001b[0m \u001b[0mlistem\u001b[0m\u001b[0;34m:\u001b[0m\u001b[0;34m\u001b[0m\u001b[0;34m\u001b[0m\u001b[0m\n\u001b[0m\u001b[1;32m      4\u001b[0m   \u001b[0mprint\u001b[0m\u001b[0;34m(\u001b[0m\u001b[0mi\u001b[0m\u001b[0;34m,\u001b[0m \u001b[0;34m':'\u001b[0m\u001b[0;34m,\u001b[0m \u001b[0mj\u001b[0m\u001b[0;34m,\u001b[0m \u001b[0;34m':'\u001b[0m\u001b[0;34m,\u001b[0m \u001b[0mk\u001b[0m\u001b[0;34m)\u001b[0m\u001b[0;34m\u001b[0m\u001b[0;34m\u001b[0m\u001b[0m\n",
            "\u001b[0;31mValueError\u001b[0m: not enough values to unpack (expected 3, got 2)"
          ]
        }
      ]
    },
    {
      "cell_type": "code",
      "source": [
        "times = int(input(\"How many times should I say 'I love you'? \"))\n",
        "\n",
        "for i in range(times):\n",
        "  print('I love you')"
      ],
      "metadata": {
        "colab": {
          "base_uri": "https://localhost:8080/"
        },
        "id": "yYqazG2IsIVS",
        "outputId": "777316a6-3828-4d2e-f77c-162407fd9afd"
      },
      "execution_count": 79,
      "outputs": [
        {
          "output_type": "stream",
          "name": "stdout",
          "text": [
            "How many times should I say 'I love you'? 5\n",
            "I love you\n",
            "I love you\n",
            "I love you\n",
            "I love you\n",
            "I love you\n"
          ]
        }
      ]
    },
    {
      "cell_type": "code",
      "source": [
        "num = int(input(\"Bir sayi giriniz: \"))\n",
        "\n",
        "for i in range(11):\n",
        "  print(f\"{num} X {i}  = {num*i}\")"
      ],
      "metadata": {
        "colab": {
          "base_uri": "https://localhost:8080/"
        },
        "id": "i9-RZN7YsIX3",
        "outputId": "31428fd5-c127-4913-c759-38999d336b03"
      },
      "execution_count": 80,
      "outputs": [
        {
          "output_type": "stream",
          "name": "stdout",
          "text": [
            "Bir sayi giriniz: 5\n",
            "5 X 0  = 0\n",
            "5 X 1  = 5\n",
            "5 X 2  = 10\n",
            "5 X 3  = 15\n",
            "5 X 4  = 20\n",
            "5 X 5  = 25\n",
            "5 X 6  = 30\n",
            "5 X 7  = 35\n",
            "5 X 8  = 40\n",
            "5 X 9  = 45\n",
            "5 X 10  = 50\n"
          ]
        }
      ]
    },
    {
      "cell_type": "code",
      "source": [
        "tuple(range(1,11))"
      ],
      "metadata": {
        "colab": {
          "base_uri": "https://localhost:8080/"
        },
        "id": "AY1fuYLIsIaW",
        "outputId": "d450d008-c5ce-4758-ee44-84acb9eea553"
      },
      "execution_count": 81,
      "outputs": [
        {
          "output_type": "execute_result",
          "data": {
            "text/plain": [
              "(1, 2, 3, 4, 5, 6, 7, 8, 9, 10)"
            ]
          },
          "metadata": {},
          "execution_count": 81
        }
      ]
    },
    {
      "cell_type": "code",
      "source": [
        "set(range(1,11))"
      ],
      "metadata": {
        "colab": {
          "base_uri": "https://localhost:8080/"
        },
        "id": "0wYm-G8usIc0",
        "outputId": "22cada15-9528-44e0-d799-e047227a7a06"
      },
      "execution_count": 82,
      "outputs": [
        {
          "output_type": "execute_result",
          "data": {
            "text/plain": [
              "{1, 2, 3, 4, 5, 6, 7, 8, 9, 10}"
            ]
          },
          "metadata": {},
          "execution_count": 82
        }
      ]
    },
    {
      "cell_type": "code",
      "source": [
        "range(6)"
      ],
      "metadata": {
        "colab": {
          "base_uri": "https://localhost:8080/"
        },
        "id": "iQK8XgBQsIfc",
        "outputId": "f035e30e-db3f-4393-dcad-a64a5c334930"
      },
      "execution_count": 83,
      "outputs": [
        {
          "output_type": "execute_result",
          "data": {
            "text/plain": [
              "range(0, 6)"
            ]
          },
          "metadata": {},
          "execution_count": 83
        }
      ]
    },
    {
      "cell_type": "code",
      "source": [
        "print(*range(6))"
      ],
      "metadata": {
        "colab": {
          "base_uri": "https://localhost:8080/"
        },
        "id": "YO90-9AWykCy",
        "outputId": "678980fb-68b4-498c-db88-43463adf5359"
      },
      "execution_count": 86,
      "outputs": [
        {
          "output_type": "stream",
          "name": "stdout",
          "text": [
            "0 1 2 3 4 5\n"
          ]
        }
      ]
    },
    {
      "cell_type": "code",
      "source": [
        "print(list(range(10, 0, 2)))"
      ],
      "metadata": {
        "colab": {
          "base_uri": "https://localhost:8080/"
        },
        "id": "JjpTiPOqykFe",
        "outputId": "16107263-a80e-441d-e0c7-13bcff694374"
      },
      "execution_count": 87,
      "outputs": [
        {
          "output_type": "stream",
          "name": "stdout",
          "text": [
            "[]\n"
          ]
        }
      ]
    },
    {
      "cell_type": "code",
      "source": [
        "print(*list(range(10,0,-2)))"
      ],
      "metadata": {
        "colab": {
          "base_uri": "https://localhost:8080/"
        },
        "id": "kL4dmxk1ykH9",
        "outputId": "da1a0634-eced-4f5e-c5cc-47ca499d4e4c"
      },
      "execution_count": 89,
      "outputs": [
        {
          "output_type": "stream",
          "name": "stdout",
          "text": [
            "10 8 6 4 2\n"
          ]
        }
      ]
    },
    {
      "cell_type": "code",
      "source": [
        "listem1 = [1, 2, 3]\n",
        "listem2 = ['a', 'b', 'c']\n",
        "\n",
        "\n",
        "zip(listem1, listem2)"
      ],
      "metadata": {
        "colab": {
          "base_uri": "https://localhost:8080/"
        },
        "id": "ETSKOjYwykKX",
        "outputId": "eb9f10c6-dd5e-432e-ea29-4f472653bcdd"
      },
      "execution_count": 90,
      "outputs": [
        {
          "output_type": "execute_result",
          "data": {
            "text/plain": [
              "<zip at 0x7b20d28fa880>"
            ]
          },
          "metadata": {},
          "execution_count": 90
        }
      ]
    },
    {
      "cell_type": "code",
      "source": [
        "list(zip(listem1, listem2))"
      ],
      "metadata": {
        "colab": {
          "base_uri": "https://localhost:8080/"
        },
        "id": "234zrZ9GykM6",
        "outputId": "d5ad1ddd-cf99-4641-fbc0-b289fcce7520"
      },
      "execution_count": 91,
      "outputs": [
        {
          "output_type": "execute_result",
          "data": {
            "text/plain": [
              "[(1, 'a'), (2, 'b'), (3, 'c')]"
            ]
          },
          "metadata": {},
          "execution_count": 91
        }
      ]
    },
    {
      "cell_type": "code",
      "source": [
        "listem1 = [1, 2, 3]\n",
        "listem2 = ['a', 'b', 'c']\n",
        "\n",
        "for i, j in zip(listem1, listem2):\n",
        "  print(i,':',j)"
      ],
      "metadata": {
        "colab": {
          "base_uri": "https://localhost:8080/"
        },
        "id": "pzQwfcyoykPq",
        "outputId": "cc2a0dce-4da7-408b-c3bd-f8980aa35f2a"
      },
      "execution_count": 92,
      "outputs": [
        {
          "output_type": "stream",
          "name": "stdout",
          "text": [
            "1 : a\n",
            "2 : b\n",
            "3 : c\n"
          ]
        }
      ]
    },
    {
      "cell_type": "code",
      "source": [
        "listem1 = [1, 2, 3]\n",
        "listem2 = [4, 5, 6]\n",
        "\n",
        "for i, j in zip(listem1, listem2):\n",
        "  print(i + j)"
      ],
      "metadata": {
        "colab": {
          "base_uri": "https://localhost:8080/"
        },
        "id": "eugm1edxykRd",
        "outputId": "38f168c1-f6e8-43e5-b2c5-e0ab1eaf5f1e"
      },
      "execution_count": 93,
      "outputs": [
        {
          "output_type": "stream",
          "name": "stdout",
          "text": [
            "5\n",
            "7\n",
            "9\n"
          ]
        }
      ]
    },
    {
      "cell_type": "code",
      "source": [
        "listem1 = [1, 2, 3]\n",
        "listem2 = ['a', 'b', 'c']\n",
        "my_dict = {}\n",
        "\n",
        "for key, value in zip(listem1, listem2):\n",
        "  my_dict.update([(key, value)])\n",
        "\n",
        "print(my_dict)\n",
        "print(type(my_dict))"
      ],
      "metadata": {
        "colab": {
          "base_uri": "https://localhost:8080/"
        },
        "id": "ny7dHvMw04cz",
        "outputId": "b4f10497-94fd-4a45-bc4d-113cbce92708"
      },
      "execution_count": 94,
      "outputs": [
        {
          "output_type": "stream",
          "name": "stdout",
          "text": [
            "{1: 'a', 2: 'b', 3: 'c'}\n",
            "<class 'dict'>\n"
          ]
        }
      ]
    },
    {
      "cell_type": "code",
      "source": [
        "evens = []\n",
        "odds = []\n",
        "\n",
        "for i in range(11):\n",
        "  if i % 2 == 0:\n",
        "    evens.append(i)\n",
        "  else:\n",
        "    odds.append(i)\n",
        "\n",
        "\n",
        "print('Evens number list', evens)\n",
        "print('Odds number list', odds)"
      ],
      "metadata": {
        "colab": {
          "base_uri": "https://localhost:8080/"
        },
        "id": "M689icGW04fT",
        "outputId": "20b9ad7e-91ca-415a-bd8b-a6090b95dd3a"
      },
      "execution_count": 97,
      "outputs": [
        {
          "output_type": "stream",
          "name": "stdout",
          "text": [
            "Evens number list [0, 2, 4, 6, 8, 10]\n",
            "Odds number list [1, 3, 5, 7, 9]\n"
          ]
        }
      ]
    },
    {
      "cell_type": "code",
      "source": [
        "numbers = [11, 2, 24, 61, 48, 33, 3]\n",
        "\n",
        "evens = []\n",
        "odds = []\n",
        "\n",
        "for i in numbers:\n",
        "  if i % 2 == 0:\n",
        "    evens.append(i)\n",
        "  else:\n",
        "    odds.append(i)\n",
        "\n",
        "print(\"Sum of the evens numbers: \", sum(evens))\n",
        "print(\"Sum of the odds numbers: \", sum(odds))"
      ],
      "metadata": {
        "colab": {
          "base_uri": "https://localhost:8080/"
        },
        "id": "WmhIBoAf1rE9",
        "outputId": "c434813b-7296-4ebc-949c-80abe4d99510"
      },
      "execution_count": 98,
      "outputs": [
        {
          "output_type": "stream",
          "name": "stdout",
          "text": [
            "Sum of the evens numbers:  74\n",
            "Sum of the odds numbers:  108\n"
          ]
        }
      ]
    },
    {
      "cell_type": "code",
      "source": [
        "numbers = [11, 2, 24, 61, 48, 33, 3]\n",
        "\n",
        "evens = 0\n",
        "odds = 0\n",
        "\n",
        "for i in numbers:\n",
        "  if i % 2 == 0:\n",
        "    evens += 1\n",
        "  else:\n",
        "    odds += 1\n",
        "print(\"Number of the evens numbers: \", evens)\n",
        "print(\"Number of the odds numbers: \", odds)"
      ],
      "metadata": {
        "colab": {
          "base_uri": "https://localhost:8080/"
        },
        "id": "MO39SXIh1rHT",
        "outputId": "92e17d30-826a-4f4f-97f2-8652e19a1a24"
      },
      "execution_count": 99,
      "outputs": [
        {
          "output_type": "stream",
          "name": "stdout",
          "text": [
            "Number of the evens numbers:  3\n",
            "Number of the odds numbers:  4\n"
          ]
        }
      ]
    },
    {
      "cell_type": "code",
      "source": [
        "listem = [1,2,3,4]\n",
        "print(len(listem))  # kac eleman var?\n",
        "print(sum(listem))  # elemanlari toplami"
      ],
      "metadata": {
        "colab": {
          "base_uri": "https://localhost:8080/"
        },
        "id": "SHA8gQrs1rJz",
        "outputId": "627484d4-a9c1-4da5-a99c-438dbe3f10e1"
      },
      "execution_count": 100,
      "outputs": [
        {
          "output_type": "stream",
          "name": "stdout",
          "text": [
            "4\n",
            "10\n"
          ]
        }
      ]
    },
    {
      "cell_type": "code",
      "source": [
        "print(\"\"\"\n",
        "1\n",
        "22\n",
        "333\n",
        "4444\n",
        "55555\n",
        "666666\n",
        "7777777\n",
        "88888888\n",
        "999999999\n",
        "\"\"\")"
      ],
      "metadata": {
        "colab": {
          "base_uri": "https://localhost:8080/"
        },
        "id": "hDrilggm1rLk",
        "outputId": "f904c43a-c47f-48a6-ec91-7e72eabe73a8"
      },
      "execution_count": 102,
      "outputs": [
        {
          "output_type": "stream",
          "name": "stdout",
          "text": [
            "\n",
            "1\n",
            "22\n",
            "333\n",
            "4444\n",
            "55555\n",
            "666666\n",
            "7777777\n",
            "88888888\n",
            "999999999\n",
            "\n"
          ]
        }
      ]
    },
    {
      "cell_type": "code",
      "source": [
        "for i in range(1,10):\n",
        "  print(str(i) * i)"
      ],
      "metadata": {
        "colab": {
          "base_uri": "https://localhost:8080/"
        },
        "id": "miRNR8Dn5aGB",
        "outputId": "66e40bc4-7775-45a0-a3af-91f4f2ff04d4"
      },
      "execution_count": 103,
      "outputs": [
        {
          "output_type": "stream",
          "name": "stdout",
          "text": [
            "1\n",
            "22\n",
            "333\n",
            "4444\n",
            "55555\n",
            "666666\n",
            "7777777\n",
            "88888888\n",
            "999999999\n"
          ]
        }
      ]
    },
    {
      "cell_type": "markdown",
      "source": [
        "![image.png](data:image/png;base64,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)"
      ],
      "metadata": {
        "id": "c8lcHp3y63wf"
      }
    },
    {
      "cell_type": "code",
      "source": [
        "for i in range(1,10):\n",
        "  print(\" \" * (9-i) + str(i) * i)"
      ],
      "metadata": {
        "colab": {
          "base_uri": "https://localhost:8080/"
        },
        "id": "iWu92GT15aIg",
        "outputId": "6e213d09-1586-45ca-ad47-972547c92543"
      },
      "execution_count": 105,
      "outputs": [
        {
          "output_type": "stream",
          "name": "stdout",
          "text": [
            "        1\n",
            "       22\n",
            "      333\n",
            "     4444\n",
            "    55555\n",
            "   666666\n",
            "  7777777\n",
            " 88888888\n",
            "999999999\n"
          ]
        }
      ]
    },
    {
      "cell_type": "markdown",
      "source": [
        "![image.png](data:image/png;base64,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)"
      ],
      "metadata": {
        "id": "iR_km9NQ7Xe-"
      }
    },
    {
      "cell_type": "code",
      "source": [
        "for i in range(1,10):\n",
        "  print(\" \" * (9-i) + str(i) * (2*i - 1))"
      ],
      "metadata": {
        "colab": {
          "base_uri": "https://localhost:8080/"
        },
        "id": "Tf8xdwKs5aLP",
        "outputId": "619a9d7e-8ec8-4eec-cd45-516e74fde86a"
      },
      "execution_count": 111,
      "outputs": [
        {
          "output_type": "stream",
          "name": "stdout",
          "text": [
            "        1\n",
            "       222\n",
            "      33333\n",
            "     4444444\n",
            "    555555555\n",
            "   66666666666\n",
            "  7777777777777\n",
            " 888888888888888\n",
            "99999999999999999\n"
          ]
        }
      ]
    },
    {
      "cell_type": "code",
      "source": [
        "for i in range(1, 10):\n",
        "  print((str(i) * (2*i -1)).center(17))"
      ],
      "metadata": {
        "colab": {
          "base_uri": "https://localhost:8080/"
        },
        "id": "zNr-76Li5aNr",
        "outputId": "38a359f9-172b-4646-c4d2-16aef3bcbea5"
      },
      "execution_count": 110,
      "outputs": [
        {
          "output_type": "stream",
          "name": "stdout",
          "text": [
            "        1        \n",
            "       222       \n",
            "      33333      \n",
            "     4444444     \n",
            "    555555555    \n",
            "   66666666666   \n",
            "  7777777777777  \n",
            " 888888888888888 \n",
            "99999999999999999\n"
          ]
        }
      ]
    },
    {
      "cell_type": "code",
      "source": [
        "import random\n",
        "\n",
        "num = random.randint(1,50)\n",
        "print(num)\n",
        "rights = 5\n",
        "\n",
        "while rights > 0:\n",
        "  guess = int(input(\"Please enter your guess: \"))\n",
        "  rights -= 1\n",
        "  if rights == 0:\n",
        "    print(f\"<<<=== Your rights are over. Game Over! Number {num} ===>>>\")\n",
        "    break\n",
        "  elif guess == num:\n",
        "    print(\"<<<=== Congrats! You Won! ===>>>\")\n",
        "    break\n",
        "  elif guess > num:\n",
        "    print(f\"Please enter lower! ------- remain rights : {rights}\")\n",
        "  elif guess < num:\n",
        "    print(f\"Please enter higher! ------- remain rights : {rights}\")\n",
        "\n",
        "22"
      ],
      "metadata": {
        "colab": {
          "base_uri": "https://localhost:8080/"
        },
        "id": "6h-0cfsD04h0",
        "outputId": "e3ce5f32-544b-4771-e34b-c7898a5162ef"
      },
      "execution_count": 113,
      "outputs": [
        {
          "output_type": "stream",
          "name": "stdout",
          "text": [
            "20\n",
            "Please enter your guess: 23\n",
            "Please enter lower! ------- remain rights : 4\n",
            "Please enter your guess: 24\n",
            "Please enter lower! ------- remain rights : 3\n",
            "Please enter your guess: 5\n",
            "Please enter higher! ------- remain rights : 2\n",
            "Please enter your guess: 6\n",
            "Please enter higher! ------- remain rights : 1\n",
            "Please enter your guess: 6\n",
            "<<<=== Your rights are over. Game Over! Number 20 ===>>>\n"
          ]
        }
      ]
    },
    {
      "cell_type": "code",
      "source": [],
      "metadata": {
        "id": "5iQHp90c-wmg"
      },
      "execution_count": null,
      "outputs": []
    }
  ]
}