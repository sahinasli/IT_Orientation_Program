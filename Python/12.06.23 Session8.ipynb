{
  "nbformat": 4,
  "nbformat_minor": 0,
  "metadata": {
    "colab": {
      "provenance": []
    },
    "kernelspec": {
      "name": "python3",
      "display_name": "Python 3"
    },
    "language_info": {
      "name": "python"
    }
  },
  "cells": [
    {
      "cell_type": "markdown",
      "source": [
        "Kullanici tarafindan girilen ismin kisaltilmis halde output olarak veren python kodunu yaziniz. Ornek asagida.\n",
        "NOT: Kullanicidan alinan name'i sadece isim ve soyisimden olustugunu varsayarak yazalim. Yani 2. ad girilmedigi sadece isim ve soyisim girildigi durumu varsayarak cozuyoruz"
      ],
      "metadata": {
        "id": "_BsQdCTnFWWb"
      }
    },
    {
      "cell_type": "code",
      "source": [
        "name = input(\"Please enter your name: \")\n",
        "print(f\"{name.split(' ')[0][0].upper()}.{name.split(' ')[1][0].upper()}.\")\n",
        "\n",
        "\n"
      ],
      "metadata": {
        "colab": {
          "base_uri": "https://localhost:8080/"
        },
        "id": "7xKCfdpAEyOR",
        "outputId": "d31ceceb-5e53-4a22-ff47-77e4df28d702"
      },
      "execution_count": 4,
      "outputs": [
        {
          "output_type": "stream",
          "name": "stdout",
          "text": [
            "Please enter your name: michael jackson\n",
            "M.J.\n"
          ]
        }
      ]
    },
    {
      "cell_type": "markdown",
      "source": [
        "# Dictionary\n",
        "* Ordered (after python 3.7)\n",
        "* Mutable\n",
        "* {key1:value1,\n",
        "   key2:value2,\n",
        "   key3:value3\n",
        "}\n"
      ],
      "metadata": {
        "id": "LjJ8ozO7EzCs"
      }
    },
    {
      "cell_type": "code",
      "source": [
        "# dict()\n",
        "# {}\n",
        "\n",
        "bos_dict = {}\n",
        "print(bos_dict)\n",
        "print(type(bos_dict))"
      ],
      "metadata": {
        "colab": {
          "base_uri": "https://localhost:8080/"
        },
        "id": "gSzlEq0kEyRK",
        "outputId": "e6e5cbe8-4557-46ff-d238-a687fc9f9ac1"
      },
      "execution_count": 6,
      "outputs": [
        {
          "output_type": "stream",
          "name": "stdout",
          "text": [
            "{}\n",
            "<class 'dict'>\n"
          ]
        }
      ]
    },
    {
      "cell_type": "code",
      "source": [
        "my_dict = dict(isim = 'Zeynep', yas = 30, sehir = 'Istanbul')\n",
        "\n",
        "my_dict"
      ],
      "metadata": {
        "colab": {
          "base_uri": "https://localhost:8080/"
        },
        "id": "9-DE3ESCEyTl",
        "outputId": "162ba3a3-9f60-4255-ffe6-e7d50f566c85"
      },
      "execution_count": 10,
      "outputs": [
        {
          "output_type": "execute_result",
          "data": {
            "text/plain": [
              "{'isim': 'Zeynep', 'yas': 30, 'sehir': 'Istanbul'}"
            ]
          },
          "metadata": {},
          "execution_count": 10
        }
      ]
    },
    {
      "cell_type": "code",
      "source": [
        "my_dict = {isim:'Zeynep', 'yas':30, 'sehir':'Istanbul'}\n",
        "my_dict"
      ],
      "metadata": {
        "colab": {
          "base_uri": "https://localhost:8080/",
          "height": 192
        },
        "id": "-XzoIdNRMeDi",
        "outputId": "d74845e9-a802-4c0f-c54e-eff077f0683b"
      },
      "execution_count": 12,
      "outputs": [
        {
          "output_type": "error",
          "ename": "NameError",
          "evalue": "ignored",
          "traceback": [
            "\u001b[0;31m---------------------------------------------------------------------------\u001b[0m",
            "\u001b[0;31mNameError\u001b[0m                                 Traceback (most recent call last)",
            "\u001b[0;32m<ipython-input-12-23e80af79c32>\u001b[0m in \u001b[0;36m<cell line: 1>\u001b[0;34m()\u001b[0m\n\u001b[0;32m----> 1\u001b[0;31m \u001b[0mmy_dict\u001b[0m \u001b[0;34m=\u001b[0m \u001b[0;34m{\u001b[0m\u001b[0misim\u001b[0m\u001b[0;34m:\u001b[0m\u001b[0;34m'Zeynep'\u001b[0m\u001b[0;34m,\u001b[0m \u001b[0;34m'yas'\u001b[0m\u001b[0;34m:\u001b[0m\u001b[0;36m30\u001b[0m\u001b[0;34m,\u001b[0m \u001b[0;34m'sehir'\u001b[0m\u001b[0;34m:\u001b[0m\u001b[0;34m'Istanbul'\u001b[0m\u001b[0;34m}\u001b[0m\u001b[0;34m\u001b[0m\u001b[0;34m\u001b[0m\u001b[0m\n\u001b[0m\u001b[1;32m      2\u001b[0m \u001b[0mmy_dict\u001b[0m\u001b[0;34m\u001b[0m\u001b[0;34m\u001b[0m\u001b[0m\n",
            "\u001b[0;31mNameError\u001b[0m: name 'isim' is not defined"
          ]
        }
      ]
    },
    {
      "cell_type": "code",
      "source": [
        "my_dict = {'isim':'Zeynep', 'yas':30, 'sehir':'Istanbul'}\n",
        "my_dict"
      ],
      "metadata": {
        "colab": {
          "base_uri": "https://localhost:8080/"
        },
        "id": "UEOvd2G7MeGE",
        "outputId": "6d9817f9-609f-4d17-e471-67a0a6c1c521"
      },
      "execution_count": 13,
      "outputs": [
        {
          "output_type": "execute_result",
          "data": {
            "text/plain": [
              "{'isim': 'Zeynep', 'yas': 30, 'sehir': 'Istanbul'}"
            ]
          },
          "metadata": {},
          "execution_count": 13
        }
      ]
    },
    {
      "cell_type": "code",
      "source": [
        "state_capital = {\"Arkansas\": \"LIttle Rock\",\n",
        "                 \"Colorado\": \"Denver\",\n",
        "                 \"Califonia\":\"Sacramento\",\n",
        "                 \"Georgia\": \"Atlanta\"}\n",
        "\n",
        "state_capital"
      ],
      "metadata": {
        "colab": {
          "base_uri": "https://localhost:8080/"
        },
        "id": "BMCz2LuTMeIL",
        "outputId": "f722144b-88c3-4e83-a8d8-0637817e12e0"
      },
      "execution_count": 15,
      "outputs": [
        {
          "output_type": "execute_result",
          "data": {
            "text/plain": [
              "{'Arkansas': 'LIttle Rock',\n",
              " 'Colorado': 'Denver',\n",
              " 'Califonia': 'Sacramento',\n",
              " 'Georgia': 'Atlanta'}"
            ]
          },
          "metadata": {},
          "execution_count": 15
        }
      ]
    },
    {
      "cell_type": "code",
      "source": [
        "state_capital[\"Califonia\"]"
      ],
      "metadata": {
        "colab": {
          "base_uri": "https://localhost:8080/",
          "height": 36
        },
        "id": "uJ6x2cnyEyV5",
        "outputId": "7e0e65da-736e-4ddf-f0ad-95f89dcc9feb"
      },
      "execution_count": 16,
      "outputs": [
        {
          "output_type": "execute_result",
          "data": {
            "text/plain": [
              "'Sacramento'"
            ],
            "application/vnd.google.colaboratory.intrinsic+json": {
              "type": "string"
            }
          },
          "metadata": {},
          "execution_count": 16
        }
      ]
    },
    {
      "cell_type": "code",
      "source": [
        "state_capital[\"Colorado\"]"
      ],
      "metadata": {
        "colab": {
          "base_uri": "https://localhost:8080/",
          "height": 36
        },
        "id": "9POGwfI6EyXx",
        "outputId": "80d83d52-255c-4e12-a353-b4104bf66b9f"
      },
      "execution_count": 17,
      "outputs": [
        {
          "output_type": "execute_result",
          "data": {
            "text/plain": [
              "'Denver'"
            ],
            "application/vnd.google.colaboratory.intrinsic+json": {
              "type": "string"
            }
          },
          "metadata": {},
          "execution_count": 17
        }
      ]
    },
    {
      "cell_type": "code",
      "source": [
        "state_capital[\"colorado\"]"
      ],
      "metadata": {
        "colab": {
          "base_uri": "https://localhost:8080/",
          "height": 175
        },
        "id": "bQcH8L8PQg9T",
        "outputId": "c8a5f98f-6664-4160-c351-b5928af2339f"
      },
      "execution_count": 18,
      "outputs": [
        {
          "output_type": "error",
          "ename": "KeyError",
          "evalue": "ignored",
          "traceback": [
            "\u001b[0;31m---------------------------------------------------------------------------\u001b[0m",
            "\u001b[0;31mKeyError\u001b[0m                                  Traceback (most recent call last)",
            "\u001b[0;32m<ipython-input-18-4668e19f74d4>\u001b[0m in \u001b[0;36m<cell line: 1>\u001b[0;34m()\u001b[0m\n\u001b[0;32m----> 1\u001b[0;31m \u001b[0mstate_capital\u001b[0m\u001b[0;34m[\u001b[0m\u001b[0;34m\"colorado\"\u001b[0m\u001b[0;34m]\u001b[0m\u001b[0;34m\u001b[0m\u001b[0;34m\u001b[0m\u001b[0m\n\u001b[0m",
            "\u001b[0;31mKeyError\u001b[0m: 'colorado'"
          ]
        }
      ]
    },
    {
      "cell_type": "code",
      "source": [
        "state_capital[\"Virginia\"] = \"Richmond\"\n",
        "\n",
        "state_capital"
      ],
      "metadata": {
        "colab": {
          "base_uri": "https://localhost:8080/"
        },
        "id": "zT-kjLZ5Qjpr",
        "outputId": "c06ea8bb-4e34-47cc-c8c2-46cec4d6fb55"
      },
      "execution_count": 20,
      "outputs": [
        {
          "output_type": "execute_result",
          "data": {
            "text/plain": [
              "{'Arkansas': 'LIttle Rock',\n",
              " 'Colorado': 'Denver',\n",
              " 'Califonia': 'Sacramento',\n",
              " 'Georgia': 'Atlanta',\n",
              " 'Virginia': 'Richmond'}"
            ]
          },
          "metadata": {},
          "execution_count": 20
        }
      ]
    },
    {
      "cell_type": "code",
      "source": [
        "# \"LIttle Rock\" seklinde i yerine I harfi yazilmisti. ASagidaki sekilde update ettik \"Little Rock\".\n",
        "state_capital[\"Arkansas\"] = \"Little Rock\"\n",
        "state_capital"
      ],
      "metadata": {
        "colab": {
          "base_uri": "https://localhost:8080/"
        },
        "id": "nO3rUlesQoab",
        "outputId": "8740b23d-01e1-461f-c75c-f6996180cefe"
      },
      "execution_count": 22,
      "outputs": [
        {
          "output_type": "execute_result",
          "data": {
            "text/plain": [
              "{'Arkansas': 'Little Rock',\n",
              " 'Colorado': 'Denver',\n",
              " 'Califonia': 'Sacramento',\n",
              " 'Georgia': 'Atlanta',\n",
              " 'Virginia': 'Richmond'}"
            ]
          },
          "metadata": {},
          "execution_count": 22
        }
      ]
    },
    {
      "cell_type": "markdown",
      "source": [
        "* key =>> sadece immutable datatype kabul eder.\n",
        "* value =>> Tum datatype'lari kabul eder."
      ],
      "metadata": {
        "id": "ws1N2iaZSKGK"
      }
    },
    {
      "cell_type": "code",
      "source": [
        "by_dict = {'animal' : ['dog', 'cat'], 'planet':'neptun', 'number': 40, 'pi': 3.14, 'is_good': True}\n",
        "by_dict"
      ],
      "metadata": {
        "colab": {
          "base_uri": "https://localhost:8080/"
        },
        "id": "ETCJcxbiQoc0",
        "outputId": "65a9dc8c-dc57-4069-c777-47be46f66c34"
      },
      "execution_count": 24,
      "outputs": [
        {
          "output_type": "execute_result",
          "data": {
            "text/plain": [
              "{'animal': ['dog', 'cat'],\n",
              " 'planet': 'neptun',\n",
              " 'number': 40,\n",
              " 'pi': 3.14,\n",
              " 'is_good': True}"
            ]
          },
          "metadata": {},
          "execution_count": 24
        }
      ]
    },
    {
      "cell_type": "code",
      "source": [
        "mix_keys = {\n",
        "    22 : 'Yirmiiki',\n",
        "    3.14 : 'pi',\n",
        "    '1' : 1,\n",
        "    True : 'Bool_True',\n",
        "    (1,2,3) : 'numbers'\n",
        "}\n",
        "mix_keys"
      ],
      "metadata": {
        "colab": {
          "base_uri": "https://localhost:8080/"
        },
        "id": "2fTOP8gsQjse",
        "outputId": "e88d3f19-adda-4544-ae2b-36c0f1107477"
      },
      "execution_count": 25,
      "outputs": [
        {
          "output_type": "execute_result",
          "data": {
            "text/plain": [
              "{22: 'Yirmiiki', 3.14: 'pi', '1': 1, True: 'Bool_True', (1, 2, 3): 'numbers'}"
            ]
          },
          "metadata": {},
          "execution_count": 25
        }
      ]
    },
    {
      "cell_type": "code",
      "source": [
        "# key kismina sadece immutable datatype'lar gelebilir.\n",
        "mix_keys = {\n",
        "    22 : 'Yirmiiki',\n",
        "    3.14 : 'pi',\n",
        "    '1' : 1,\n",
        "    True : 'Bool_True',\n",
        "    [1,2,3] : 'numbers'\n",
        "}\n",
        "mix_keys"
      ],
      "metadata": {
        "colab": {
          "base_uri": "https://localhost:8080/",
          "height": 245
        },
        "id": "OJ0JAJ2tQjvH",
        "outputId": "de8ef1fc-1c36-4bf2-c45a-e5ecccb606c9"
      },
      "execution_count": 26,
      "outputs": [
        {
          "output_type": "error",
          "ename": "TypeError",
          "evalue": "ignored",
          "traceback": [
            "\u001b[0;31m---------------------------------------------------------------------------\u001b[0m",
            "\u001b[0;31mTypeError\u001b[0m                                 Traceback (most recent call last)",
            "\u001b[0;32m<ipython-input-26-d90500fc8e56>\u001b[0m in \u001b[0;36m<cell line: 2>\u001b[0;34m()\u001b[0m\n\u001b[0;32m----> 1\u001b[0;31m mix_keys = {\n\u001b[0m\u001b[1;32m      2\u001b[0m     \u001b[0;36m22\u001b[0m \u001b[0;34m:\u001b[0m \u001b[0;34m'Yirmiiki'\u001b[0m\u001b[0;34m,\u001b[0m\u001b[0;34m\u001b[0m\u001b[0;34m\u001b[0m\u001b[0m\n\u001b[1;32m      3\u001b[0m     \u001b[0;36m3.14\u001b[0m \u001b[0;34m:\u001b[0m \u001b[0;34m'pi'\u001b[0m\u001b[0;34m,\u001b[0m\u001b[0;34m\u001b[0m\u001b[0;34m\u001b[0m\u001b[0m\n\u001b[1;32m      4\u001b[0m     \u001b[0;34m'1'\u001b[0m \u001b[0;34m:\u001b[0m \u001b[0;36m1\u001b[0m\u001b[0;34m,\u001b[0m\u001b[0;34m\u001b[0m\u001b[0;34m\u001b[0m\u001b[0m\n\u001b[1;32m      5\u001b[0m     \u001b[0;32mTrue\u001b[0m \u001b[0;34m:\u001b[0m \u001b[0;34m'Bool_True'\u001b[0m\u001b[0;34m,\u001b[0m\u001b[0;34m\u001b[0m\u001b[0;34m\u001b[0m\u001b[0m\n",
            "\u001b[0;31mTypeError\u001b[0m: unhashable type: 'list'"
          ]
        }
      ]
    },
    {
      "cell_type": "code",
      "source": [
        "my_dict = {1 : 'bir', 'fruit' : 'apple'}\n",
        "my_dict\n"
      ],
      "metadata": {
        "colab": {
          "base_uri": "https://localhost:8080/"
        },
        "id": "NuIUPWvLQjyC",
        "outputId": "949ca8ab-8169-40c9-e1fd-a0c0baa2b81a"
      },
      "execution_count": 29,
      "outputs": [
        {
          "output_type": "execute_result",
          "data": {
            "text/plain": [
              "{1: 'bir', 'fruit': 'apple'}"
            ]
          },
          "metadata": {},
          "execution_count": 29
        }
      ]
    },
    {
      "cell_type": "code",
      "source": [
        "my_dict = dict(1 = 'bir', fruit = 'apple')  # bu yol ile dict taniminda sayilar variable kisminda kullanilamaz."
      ],
      "metadata": {
        "colab": {
          "base_uri": "https://localhost:8080/",
          "height": 140
        },
        "id": "ieRWhivSQj0t",
        "outputId": "8f51a50a-8218-4373-8b56-30c564e89b98"
      },
      "execution_count": 30,
      "outputs": [
        {
          "output_type": "error",
          "ename": "SyntaxError",
          "evalue": "ignored",
          "traceback": [
            "\u001b[0;36m  File \u001b[0;32m\"<ipython-input-30-efced004477a>\"\u001b[0;36m, line \u001b[0;32m1\u001b[0m\n\u001b[0;31m    my_dict = dict(1 = 'bir', fruit = 'apple')\u001b[0m\n\u001b[0m                   ^\u001b[0m\n\u001b[0;31mSyntaxError\u001b[0m\u001b[0;31m:\u001b[0m expression cannot contain assignment, perhaps you meant \"==\"?\n"
          ]
        }
      ]
    },
    {
      "cell_type": "code",
      "source": [
        "my_family = {\"father\":\"Jack\",\n",
        "             \"mother\":\"Marie\",\n",
        "             \"sister\":\"Annie\"}\n",
        "my_family\n",
        ""
      ],
      "metadata": {
        "colab": {
          "base_uri": "https://localhost:8080/"
        },
        "id": "DA4MF1fFXhA2",
        "outputId": "47378eb1-f157-4c20-ca3c-692bd3ff365a"
      },
      "execution_count": 31,
      "outputs": [
        {
          "output_type": "execute_result",
          "data": {
            "text/plain": [
              "{'father': 'Jack', 'mother': 'Marie', 'sister': 'Annie'}"
            ]
          },
          "metadata": {},
          "execution_count": 31
        }
      ]
    },
    {
      "cell_type": "code",
      "source": [
        "my_family[\"brother\"] = \"Robert\"\n",
        "my_family\n"
      ],
      "metadata": {
        "colab": {
          "base_uri": "https://localhost:8080/"
        },
        "id": "w27a68i6XhDI",
        "outputId": "fc3caedf-1303-469a-fdaa-63237b7eeea6"
      },
      "execution_count": 32,
      "outputs": [
        {
          "output_type": "execute_result",
          "data": {
            "text/plain": [
              "{'father': 'Jack', 'mother': 'Marie', 'sister': 'Annie', 'brother': 'Robert'}"
            ]
          },
          "metadata": {},
          "execution_count": 32
        }
      ]
    },
    {
      "cell_type": "code",
      "source": [
        "my_family[\"father\"]"
      ],
      "metadata": {
        "colab": {
          "base_uri": "https://localhost:8080/",
          "height": 36
        },
        "id": "-dei_49LXhFj",
        "outputId": "e644aed9-e5b2-4885-b485-0ded398ce73e"
      },
      "execution_count": 33,
      "outputs": [
        {
          "output_type": "execute_result",
          "data": {
            "text/plain": [
              "'Jack'"
            ],
            "application/vnd.google.colaboratory.intrinsic+json": {
              "type": "string"
            }
          },
          "metadata": {},
          "execution_count": 33
        }
      ]
    },
    {
      "cell_type": "code",
      "source": [
        "by_dict = dict(animal = 'dog', planet='neptun', number= 40, pi = 3.14, is_good= True)\n",
        "by_dict"
      ],
      "metadata": {
        "colab": {
          "base_uri": "https://localhost:8080/"
        },
        "id": "NHw2dB96XhHr",
        "outputId": "0ee67d2a-07db-4903-980c-88811abf96d0"
      },
      "execution_count": 34,
      "outputs": [
        {
          "output_type": "execute_result",
          "data": {
            "text/plain": [
              "{'animal': 'dog',\n",
              " 'planet': 'neptun',\n",
              " 'number': 40,\n",
              " 'pi': 3.14,\n",
              " 'is_good': True}"
            ]
          },
          "metadata": {},
          "execution_count": 34
        }
      ]
    },
    {
      "cell_type": "code",
      "source": [
        "by_dict[\"number\"] += 1  # by_dict[\"number\"] = by_dict[\"number\"] + 1\n",
        "by_dict"
      ],
      "metadata": {
        "colab": {
          "base_uri": "https://localhost:8080/"
        },
        "id": "gppYhEMTY-9K",
        "outputId": "66593e1b-9d4c-471d-e611-d779694a6789"
      },
      "execution_count": 35,
      "outputs": [
        {
          "output_type": "execute_result",
          "data": {
            "text/plain": [
              "{'animal': 'dog',\n",
              " 'planet': 'neptun',\n",
              " 'number': 41,\n",
              " 'pi': 3.14,\n",
              " 'is_good': True}"
            ]
          },
          "metadata": {},
          "execution_count": 35
        }
      ]
    },
    {
      "cell_type": "code",
      "source": [
        "my_family = {\"father\":\"Jack\",\n",
        "             \"mother\":\"Marie\",\n",
        "             \"sister\":\"Annie\"}\n",
        "my_family\n",
        ""
      ],
      "metadata": {
        "colab": {
          "base_uri": "https://localhost:8080/"
        },
        "id": "Vy5onjopbEk_",
        "outputId": "7c5677cb-a831-46f4-ea67-ca78eb2b87ef"
      },
      "execution_count": 37,
      "outputs": [
        {
          "output_type": "execute_result",
          "data": {
            "text/plain": [
              "{'father': 'Jack', 'mother': 'Marie', 'sister': 'Annie'}"
            ]
          },
          "metadata": {},
          "execution_count": 37
        }
      ]
    },
    {
      "cell_type": "code",
      "source": [
        "my_family_dict = dict(father = 'Jack', mother = 'Marie', sister = 'Annie')\n",
        "my_family_dict"
      ],
      "metadata": {
        "colab": {
          "base_uri": "https://localhost:8080/"
        },
        "id": "9WaMNo87Y_Cd",
        "outputId": "6612c870-b12d-4b45-b412-994187e24d63"
      },
      "execution_count": 38,
      "outputs": [
        {
          "output_type": "execute_result",
          "data": {
            "text/plain": [
              "{'father': 'Jack', 'mother': 'Marie', 'sister': 'Annie'}"
            ]
          },
          "metadata": {},
          "execution_count": 38
        }
      ]
    },
    {
      "cell_type": "code",
      "source": [
        "by_dict = {'animal' : 'dog', 'planet':'neptun', 'number': 40, 'pi': 3.14, 'is_good': True}\n",
        "by_dict"
      ],
      "metadata": {
        "colab": {
          "base_uri": "https://localhost:8080/"
        },
        "id": "3yPl9mAmY_E-",
        "outputId": "2df2bbe9-f4b4-4d16-e6b1-1f2d29275c3e"
      },
      "execution_count": 40,
      "outputs": [
        {
          "output_type": "execute_result",
          "data": {
            "text/plain": [
              "{'animal': 'dog',\n",
              " 'planet': 'neptun',\n",
              " 'number': 40,\n",
              " 'pi': 3.14,\n",
              " 'is_good': True}"
            ]
          },
          "metadata": {},
          "execution_count": 40
        }
      ]
    },
    {
      "cell_type": "code",
      "source": [
        "# keys()\n",
        "by_dict.keys()"
      ],
      "metadata": {
        "colab": {
          "base_uri": "https://localhost:8080/"
        },
        "id": "H53HDnxGY_Hv",
        "outputId": "96a05794-1dac-4616-9d84-27ef293d767d"
      },
      "execution_count": 41,
      "outputs": [
        {
          "output_type": "execute_result",
          "data": {
            "text/plain": [
              "dict_keys(['animal', 'planet', 'number', 'pi', 'is_good'])"
            ]
          },
          "metadata": {},
          "execution_count": 41
        }
      ]
    },
    {
      "cell_type": "code",
      "source": [
        "# values()\n",
        "print(by_dict.values())\n",
        "print(type(by_dict.values()))"
      ],
      "metadata": {
        "colab": {
          "base_uri": "https://localhost:8080/"
        },
        "id": "-K84jk_DbnBQ",
        "outputId": "5473d3ea-c7ae-4335-b4d2-ef842074b0df"
      },
      "execution_count": 43,
      "outputs": [
        {
          "output_type": "stream",
          "name": "stdout",
          "text": [
            "dict_values(['dog', 'neptun', 40, 3.14, True])\n",
            "<class 'dict_values'>\n"
          ]
        }
      ]
    },
    {
      "cell_type": "code",
      "source": [
        "# items() key,value\n",
        "\n",
        "by_dict.items()"
      ],
      "metadata": {
        "colab": {
          "base_uri": "https://localhost:8080/"
        },
        "id": "SRj-nTf2bnD4",
        "outputId": "c5e2600d-762f-4e36-f00c-0cedd43b0240"
      },
      "execution_count": 44,
      "outputs": [
        {
          "output_type": "execute_result",
          "data": {
            "text/plain": [
              "dict_items([('animal', 'dog'), ('planet', 'neptun'), ('number', 40), ('pi', 3.14), ('is_good', True)])"
            ]
          },
          "metadata": {},
          "execution_count": 44
        }
      ]
    },
    {
      "cell_type": "code",
      "source": [
        "list(my_family.values())"
      ],
      "metadata": {
        "colab": {
          "base_uri": "https://localhost:8080/"
        },
        "id": "yFECGZ2HbnGZ",
        "outputId": "d0f9fb64-03c4-454c-a6e5-0e782aaf0e19"
      },
      "execution_count": 51,
      "outputs": [
        {
          "output_type": "execute_result",
          "data": {
            "text/plain": [
              "['Jack', 'Marie', 'Annie']"
            ]
          },
          "metadata": {},
          "execution_count": 51
        }
      ]
    },
    {
      "cell_type": "code",
      "source": [
        "# sadece key degerlerini alip liste olusturduk\n",
        "list(my_family.keys())"
      ],
      "metadata": {
        "colab": {
          "base_uri": "https://localhost:8080/"
        },
        "id": "5uvC5sE_crVC",
        "outputId": "f70e3530-a7f6-4e16-ffbf-40293208c6a4"
      },
      "execution_count": 47,
      "outputs": [
        {
          "output_type": "execute_result",
          "data": {
            "text/plain": [
              "['father', 'mother', 'sister']"
            ]
          },
          "metadata": {},
          "execution_count": 47
        }
      ]
    },
    {
      "cell_type": "code",
      "source": [
        "my_family"
      ],
      "metadata": {
        "colab": {
          "base_uri": "https://localhost:8080/"
        },
        "id": "sAHOE00ebnJE",
        "outputId": "bb892079-d429-4afd-8558-59520ae8d1f7"
      },
      "execution_count": 54,
      "outputs": [
        {
          "output_type": "execute_result",
          "data": {
            "text/plain": [
              "{'father': 'Jack', 'mother': 'Marie', 'sister': 'Annie'}"
            ]
          },
          "metadata": {},
          "execution_count": 54
        }
      ]
    },
    {
      "cell_type": "code",
      "source": [
        "my_family.update({'brother':'Robert'})\n",
        "my_family"
      ],
      "metadata": {
        "colab": {
          "base_uri": "https://localhost:8080/"
        },
        "id": "Q_DwurbebnLX",
        "outputId": "8fd90bf7-7642-4a41-c621-0b67bc57dc78"
      },
      "execution_count": 55,
      "outputs": [
        {
          "output_type": "execute_result",
          "data": {
            "text/plain": [
              "{'father': 'Jack', 'mother': 'Marie', 'sister': 'Annie', 'brother': 'Robert'}"
            ]
          },
          "metadata": {},
          "execution_count": 55
        }
      ]
    },
    {
      "cell_type": "code",
      "source": [
        "by_dict = {'animal' : 'dog', 'planet':'neptun', 'number': 40, 'pi': 3.14, 'is_good': True}\n"
      ],
      "metadata": {
        "id": "pUPvTnnxbnNh"
      },
      "execution_count": 56,
      "outputs": []
    },
    {
      "cell_type": "code",
      "source": [
        "by_dict.update({'city':'Istanbul'})\n",
        "by_dict"
      ],
      "metadata": {
        "colab": {
          "base_uri": "https://localhost:8080/"
        },
        "id": "3ZgGh8E4endF",
        "outputId": "7727520a-22bf-46eb-aece-d149f21f4182"
      },
      "execution_count": 57,
      "outputs": [
        {
          "output_type": "execute_result",
          "data": {
            "text/plain": [
              "{'animal': 'dog',\n",
              " 'planet': 'neptun',\n",
              " 'number': 40,\n",
              " 'pi': 3.14,\n",
              " 'is_good': True,\n",
              " 'city': 'Istanbul'}"
            ]
          },
          "metadata": {},
          "execution_count": 57
        }
      ]
    },
    {
      "cell_type": "code",
      "source": [
        "my_family"
      ],
      "metadata": {
        "colab": {
          "base_uri": "https://localhost:8080/"
        },
        "id": "oWFOI2e_enfm",
        "outputId": "91f90f85-d1ff-4098-de7f-e962edaf4197"
      },
      "execution_count": 58,
      "outputs": [
        {
          "output_type": "execute_result",
          "data": {
            "text/plain": [
              "{'father': 'Jack', 'mother': 'Marie', 'sister': 'Annie', 'brother': 'Robert'}"
            ]
          },
          "metadata": {},
          "execution_count": 58
        }
      ]
    },
    {
      "cell_type": "code",
      "source": [
        "my_family.update([('Grandmother', 'Ayse')])\n",
        "my_family"
      ],
      "metadata": {
        "colab": {
          "base_uri": "https://localhost:8080/"
        },
        "id": "xXiC0Iu6ewWe",
        "outputId": "c80da0e6-2f76-4ceb-85f6-8ebb1e5763cb"
      },
      "execution_count": 60,
      "outputs": [
        {
          "output_type": "execute_result",
          "data": {
            "text/plain": [
              "{'father': 'Jack',\n",
              " 'mother': 'Marie',\n",
              " 'sister': 'Annie',\n",
              " 'brother': 'Robert',\n",
              " 'Grandmother': 'Ayse'}"
            ]
          },
          "metadata": {},
          "execution_count": 60
        }
      ]
    },
    {
      "cell_type": "code",
      "source": [
        "by_dict"
      ],
      "metadata": {
        "colab": {
          "base_uri": "https://localhost:8080/"
        },
        "id": "joMiAj8uewZJ",
        "outputId": "b2649b9b-d16a-4521-d6fc-2f64b20c476e"
      },
      "execution_count": 61,
      "outputs": [
        {
          "output_type": "execute_result",
          "data": {
            "text/plain": [
              "{'animal': 'dog',\n",
              " 'planet': 'neptun',\n",
              " 'number': 40,\n",
              " 'pi': 3.14,\n",
              " 'is_good': True,\n",
              " 'city': 'Istanbul'}"
            ]
          },
          "metadata": {},
          "execution_count": 61
        }
      ]
    },
    {
      "cell_type": "code",
      "source": [
        "by_dict.update([('country', 'USA')])\n",
        "by_dict"
      ],
      "metadata": {
        "colab": {
          "base_uri": "https://localhost:8080/"
        },
        "id": "GT4iXigPewbl",
        "outputId": "e69bb5b5-353d-4041-cd56-0788f5511896"
      },
      "execution_count": 62,
      "outputs": [
        {
          "output_type": "execute_result",
          "data": {
            "text/plain": [
              "{'animal': 'dog',\n",
              " 'planet': 'neptun',\n",
              " 'number': 40,\n",
              " 'pi': 3.14,\n",
              " 'is_good': True,\n",
              " 'city': 'Istanbul',\n",
              " 'country': 'USA'}"
            ]
          },
          "metadata": {},
          "execution_count": 62
        }
      ]
    },
    {
      "cell_type": "code",
      "source": [
        "by_dict.update({'country':'Turkiye', 'animal':'cat'})  # yoksa ekler, varsa degistirir.\n",
        "by_dict"
      ],
      "metadata": {
        "colab": {
          "base_uri": "https://localhost:8080/"
        },
        "id": "QxrwexxqeweH",
        "outputId": "b8a2a29a-8c46-40d1-ccb4-dd0da860e64f"
      },
      "execution_count": 64,
      "outputs": [
        {
          "output_type": "execute_result",
          "data": {
            "text/plain": [
              "{'animal': 'cat',\n",
              " 'planet': 'neptun',\n",
              " 'number': 40,\n",
              " 'pi': 3.14,\n",
              " 'is_good': True,\n",
              " 'city': 'Istanbul',\n",
              " 'country': 'Turkiye'}"
            ]
          },
          "metadata": {},
          "execution_count": 64
        }
      ]
    },
    {
      "cell_type": "code",
      "source": [
        "my_family.update([('Grandmother', 'Ayse'), (\"Grandfather\", \"Ali Riza\")])\n",
        "my_family"
      ],
      "metadata": {
        "colab": {
          "base_uri": "https://localhost:8080/"
        },
        "id": "e7poeK_mewgt",
        "outputId": "9707f651-c376-438a-e58f-d262cb28f3b9"
      },
      "execution_count": 65,
      "outputs": [
        {
          "output_type": "execute_result",
          "data": {
            "text/plain": [
              "{'father': 'Jack',\n",
              " 'mother': 'Marie',\n",
              " 'sister': 'Annie',\n",
              " 'brother': 'Robert',\n",
              " 'Grandmother': 'Ayse',\n",
              " 'Grandfather': 'Ali Riza'}"
            ]
          },
          "metadata": {},
          "execution_count": 65
        }
      ]
    },
    {
      "cell_type": "code",
      "source": [
        "del my_family['Grandmother']\n",
        "my_family"
      ],
      "metadata": {
        "colab": {
          "base_uri": "https://localhost:8080/"
        },
        "id": "V0vU52_8enho",
        "outputId": "90f40bfb-d52c-4b3a-e376-9bfd0476d365"
      },
      "execution_count": 66,
      "outputs": [
        {
          "output_type": "execute_result",
          "data": {
            "text/plain": [
              "{'father': 'Jack',\n",
              " 'mother': 'Marie',\n",
              " 'sister': 'Annie',\n",
              " 'brother': 'Robert',\n",
              " 'Grandfather': 'Ali Riza'}"
            ]
          },
          "metadata": {},
          "execution_count": 66
        }
      ]
    },
    {
      "cell_type": "code",
      "source": [
        "del my_family['Grandfather']\n",
        "my_family"
      ],
      "metadata": {
        "colab": {
          "base_uri": "https://localhost:8080/"
        },
        "id": "yPnBpqfCgLo_",
        "outputId": "50b674a9-6f22-400a-98c1-ba19967b177a"
      },
      "execution_count": 67,
      "outputs": [
        {
          "output_type": "execute_result",
          "data": {
            "text/plain": [
              "{'father': 'Jack', 'mother': 'Marie', 'sister': 'Annie', 'brother': 'Robert'}"
            ]
          },
          "metadata": {},
          "execution_count": 67
        }
      ]
    },
    {
      "cell_type": "code",
      "source": [
        "by_dict"
      ],
      "metadata": {
        "colab": {
          "base_uri": "https://localhost:8080/"
        },
        "id": "b1U0yVLygLrj",
        "outputId": "76e7504d-3620-4641-a829-846a48b01106"
      },
      "execution_count": 68,
      "outputs": [
        {
          "output_type": "execute_result",
          "data": {
            "text/plain": [
              "{'animal': 'cat',\n",
              " 'planet': 'neptun',\n",
              " 'number': 40,\n",
              " 'pi': 3.14,\n",
              " 'is_good': True,\n",
              " 'city': 'Istanbul',\n",
              " 'country': 'Turkiye'}"
            ]
          },
          "metadata": {},
          "execution_count": 68
        }
      ]
    },
    {
      "cell_type": "code",
      "source": [
        "del by_dict['city'], by_dict['country']\n",
        "by_dict"
      ],
      "metadata": {
        "colab": {
          "base_uri": "https://localhost:8080/"
        },
        "id": "_CEec8NBgLtl",
        "outputId": "45086f5f-77f4-40cd-95e8-dcf8cf13b315"
      },
      "execution_count": 69,
      "outputs": [
        {
          "output_type": "execute_result",
          "data": {
            "text/plain": [
              "{'animal': 'cat',\n",
              " 'planet': 'neptun',\n",
              " 'number': 40,\n",
              " 'pi': 3.14,\n",
              " 'is_good': True}"
            ]
          },
          "metadata": {},
          "execution_count": 69
        }
      ]
    },
    {
      "cell_type": "code",
      "source": [
        "by_dict"
      ],
      "metadata": {
        "colab": {
          "base_uri": "https://localhost:8080/"
        },
        "id": "EGAzRHcbgLv6",
        "outputId": "b9866104-98e4-4086-d7ab-bfac6277ae91"
      },
      "execution_count": 70,
      "outputs": [
        {
          "output_type": "execute_result",
          "data": {
            "text/plain": [
              "{'animal': 'cat',\n",
              " 'planet': 'neptun',\n",
              " 'number': 40,\n",
              " 'pi': 3.14,\n",
              " 'is_good': True}"
            ]
          },
          "metadata": {},
          "execution_count": 70
        }
      ]
    },
    {
      "cell_type": "code",
      "source": [
        "# sadece key degeri ile yapilir.\n",
        "'animal' in by_dict"
      ],
      "metadata": {
        "colab": {
          "base_uri": "https://localhost:8080/"
        },
        "id": "rTupaY3ikr3U",
        "outputId": "9af64f0d-7ff7-476f-da4d-d702addacf74"
      },
      "execution_count": 76,
      "outputs": [
        {
          "output_type": "execute_result",
          "data": {
            "text/plain": [
              "True"
            ]
          },
          "metadata": {},
          "execution_count": 76
        }
      ]
    },
    {
      "cell_type": "code",
      "source": [
        "'planet' in by_dict"
      ],
      "metadata": {
        "colab": {
          "base_uri": "https://localhost:8080/"
        },
        "id": "rle4HIxSkr5r",
        "outputId": "e7f66473-46db-4f7e-ecbd-f8bbf99bcbc1"
      },
      "execution_count": 77,
      "outputs": [
        {
          "output_type": "execute_result",
          "data": {
            "text/plain": [
              "True"
            ]
          },
          "metadata": {},
          "execution_count": 77
        }
      ]
    },
    {
      "cell_type": "code",
      "source": [
        "'cat' in by_dict"
      ],
      "metadata": {
        "colab": {
          "base_uri": "https://localhost:8080/"
        },
        "id": "vJp5kznckr-f",
        "outputId": "41c0ef6c-4991-494e-a0ae-2a5b098ad302"
      },
      "execution_count": 78,
      "outputs": [
        {
          "output_type": "execute_result",
          "data": {
            "text/plain": [
              "False"
            ]
          },
          "metadata": {},
          "execution_count": 78
        }
      ]
    },
    {
      "cell_type": "code",
      "source": [
        "'neptun' in by_dict"
      ],
      "metadata": {
        "colab": {
          "base_uri": "https://localhost:8080/"
        },
        "id": "QaCCWwccgLx5",
        "outputId": "53088e4d-3f08-4d4a-ccf5-45870c7986d9"
      },
      "execution_count": 79,
      "outputs": [
        {
          "output_type": "execute_result",
          "data": {
            "text/plain": [
              "False"
            ]
          },
          "metadata": {},
          "execution_count": 79
        }
      ]
    },
    {
      "cell_type": "code",
      "source": [
        "'neptun' not in by_dict"
      ],
      "metadata": {
        "colab": {
          "base_uri": "https://localhost:8080/"
        },
        "id": "5h4LUjslgL0A",
        "outputId": "fdcaae86-602e-4968-961c-38c9691548ce"
      },
      "execution_count": 81,
      "outputs": [
        {
          "output_type": "execute_result",
          "data": {
            "text/plain": [
              "True"
            ]
          },
          "metadata": {},
          "execution_count": 81
        }
      ]
    },
    {
      "cell_type": "code",
      "source": [
        "help(dict)"
      ],
      "metadata": {
        "colab": {
          "base_uri": "https://localhost:8080/"
        },
        "id": "thBf_KcDmDiS",
        "outputId": "533427db-7994-4208-aeb2-321cbb71c6aa"
      },
      "execution_count": 82,
      "outputs": [
        {
          "output_type": "stream",
          "name": "stdout",
          "text": [
            "Help on class dict in module builtins:\n",
            "\n",
            "class dict(object)\n",
            " |  dict() -> new empty dictionary\n",
            " |  dict(mapping) -> new dictionary initialized from a mapping object's\n",
            " |      (key, value) pairs\n",
            " |  dict(iterable) -> new dictionary initialized as if via:\n",
            " |      d = {}\n",
            " |      for k, v in iterable:\n",
            " |          d[k] = v\n",
            " |  dict(**kwargs) -> new dictionary initialized with the name=value pairs\n",
            " |      in the keyword argument list.  For example:  dict(one=1, two=2)\n",
            " |  \n",
            " |  Built-in subclasses:\n",
            " |      StgDict\n",
            " |  \n",
            " |  Methods defined here:\n",
            " |  \n",
            " |  __contains__(self, key, /)\n",
            " |      True if the dictionary has the specified key, else False.\n",
            " |  \n",
            " |  __delitem__(self, key, /)\n",
            " |      Delete self[key].\n",
            " |  \n",
            " |  __eq__(self, value, /)\n",
            " |      Return self==value.\n",
            " |  \n",
            " |  __ge__(self, value, /)\n",
            " |      Return self>=value.\n",
            " |  \n",
            " |  __getattribute__(self, name, /)\n",
            " |      Return getattr(self, name).\n",
            " |  \n",
            " |  __getitem__(...)\n",
            " |      x.__getitem__(y) <==> x[y]\n",
            " |  \n",
            " |  __gt__(self, value, /)\n",
            " |      Return self>value.\n",
            " |  \n",
            " |  __init__(self, /, *args, **kwargs)\n",
            " |      Initialize self.  See help(type(self)) for accurate signature.\n",
            " |  \n",
            " |  __ior__(self, value, /)\n",
            " |      Return self|=value.\n",
            " |  \n",
            " |  __iter__(self, /)\n",
            " |      Implement iter(self).\n",
            " |  \n",
            " |  __le__(self, value, /)\n",
            " |      Return self<=value.\n",
            " |  \n",
            " |  __len__(self, /)\n",
            " |      Return len(self).\n",
            " |  \n",
            " |  __lt__(self, value, /)\n",
            " |      Return self<value.\n",
            " |  \n",
            " |  __ne__(self, value, /)\n",
            " |      Return self!=value.\n",
            " |  \n",
            " |  __or__(self, value, /)\n",
            " |      Return self|value.\n",
            " |  \n",
            " |  __repr__(self, /)\n",
            " |      Return repr(self).\n",
            " |  \n",
            " |  __reversed__(self, /)\n",
            " |      Return a reverse iterator over the dict keys.\n",
            " |  \n",
            " |  __ror__(self, value, /)\n",
            " |      Return value|self.\n",
            " |  \n",
            " |  __setitem__(self, key, value, /)\n",
            " |      Set self[key] to value.\n",
            " |  \n",
            " |  __sizeof__(...)\n",
            " |      D.__sizeof__() -> size of D in memory, in bytes\n",
            " |  \n",
            " |  clear(...)\n",
            " |      D.clear() -> None.  Remove all items from D.\n",
            " |  \n",
            " |  copy(...)\n",
            " |      D.copy() -> a shallow copy of D\n",
            " |  \n",
            " |  get(self, key, default=None, /)\n",
            " |      Return the value for key if key is in the dictionary, else default.\n",
            " |  \n",
            " |  items(...)\n",
            " |      D.items() -> a set-like object providing a view on D's items\n",
            " |  \n",
            " |  keys(...)\n",
            " |      D.keys() -> a set-like object providing a view on D's keys\n",
            " |  \n",
            " |  pop(...)\n",
            " |      D.pop(k[,d]) -> v, remove specified key and return the corresponding value.\n",
            " |      \n",
            " |      If the key is not found, return the default if given; otherwise,\n",
            " |      raise a KeyError.\n",
            " |  \n",
            " |  popitem(self, /)\n",
            " |      Remove and return a (key, value) pair as a 2-tuple.\n",
            " |      \n",
            " |      Pairs are returned in LIFO (last-in, first-out) order.\n",
            " |      Raises KeyError if the dict is empty.\n",
            " |  \n",
            " |  setdefault(self, key, default=None, /)\n",
            " |      Insert key with a value of default if key is not in the dictionary.\n",
            " |      \n",
            " |      Return the value for key if key is in the dictionary, else default.\n",
            " |  \n",
            " |  update(...)\n",
            " |      D.update([E, ]**F) -> None.  Update D from dict/iterable E and F.\n",
            " |      If E is present and has a .keys() method, then does:  for k in E: D[k] = E[k]\n",
            " |      If E is present and lacks a .keys() method, then does:  for k, v in E: D[k] = v\n",
            " |      In either case, this is followed by: for k in F:  D[k] = F[k]\n",
            " |  \n",
            " |  values(...)\n",
            " |      D.values() -> an object providing a view on D's values\n",
            " |  \n",
            " |  ----------------------------------------------------------------------\n",
            " |  Class methods defined here:\n",
            " |  \n",
            " |  __class_getitem__(...) from builtins.type\n",
            " |      See PEP 585\n",
            " |  \n",
            " |  fromkeys(iterable, value=None, /) from builtins.type\n",
            " |      Create a new dictionary with keys from iterable and values set to value.\n",
            " |  \n",
            " |  ----------------------------------------------------------------------\n",
            " |  Static methods defined here:\n",
            " |  \n",
            " |  __new__(*args, **kwargs) from builtins.type\n",
            " |      Create and return a new object.  See help(type) for accurate signature.\n",
            " |  \n",
            " |  ----------------------------------------------------------------------\n",
            " |  Data and other attributes defined here:\n",
            " |  \n",
            " |  __hash__ = None\n",
            "\n"
          ]
        }
      ]
    },
    {
      "cell_type": "code",
      "source": [
        "by_dict\n"
      ],
      "metadata": {
        "colab": {
          "base_uri": "https://localhost:8080/"
        },
        "id": "jyVbCaOjmG-3",
        "outputId": "b6f83089-1f9a-4098-c1cd-09bd72411e24"
      },
      "execution_count": 87,
      "outputs": [
        {
          "output_type": "execute_result",
          "data": {
            "text/plain": [
              "{'animal': 'cat',\n",
              " 'planet': 'neptun',\n",
              " 'number': 40,\n",
              " 'pi': 3.14,\n",
              " 'is_good': True}"
            ]
          },
          "metadata": {},
          "execution_count": 87
        }
      ]
    },
    {
      "cell_type": "code",
      "source": [
        "by_dict.pop('is_good')\n",
        "\n",
        "by_dict"
      ],
      "metadata": {
        "colab": {
          "base_uri": "https://localhost:8080/"
        },
        "id": "3aZLyv22mHAr",
        "outputId": "a25c78a1-6772-4608-f033-f817e2ee9d7a"
      },
      "execution_count": 88,
      "outputs": [
        {
          "output_type": "execute_result",
          "data": {
            "text/plain": [
              "{'animal': 'cat', 'planet': 'neptun', 'number': 40, 'pi': 3.14}"
            ]
          },
          "metadata": {},
          "execution_count": 88
        }
      ]
    },
    {
      "cell_type": "code",
      "source": [
        "del by_dict['is_good']"
      ],
      "metadata": {
        "colab": {
          "base_uri": "https://localhost:8080/",
          "height": 175
        },
        "id": "zw0PgkUkohP5",
        "outputId": "e88d8e08-da2e-4f70-fa59-e51bbb89f35d"
      },
      "execution_count": 89,
      "outputs": [
        {
          "output_type": "error",
          "ename": "KeyError",
          "evalue": "ignored",
          "traceback": [
            "\u001b[0;31m---------------------------------------------------------------------------\u001b[0m",
            "\u001b[0;31mKeyError\u001b[0m                                  Traceback (most recent call last)",
            "\u001b[0;32m<ipython-input-89-6ee5bfff7c01>\u001b[0m in \u001b[0;36m<cell line: 1>\u001b[0;34m()\u001b[0m\n\u001b[0;32m----> 1\u001b[0;31m \u001b[0;32mdel\u001b[0m \u001b[0mby_dict\u001b[0m\u001b[0;34m[\u001b[0m\u001b[0;34m'is_good'\u001b[0m\u001b[0;34m]\u001b[0m\u001b[0;34m\u001b[0m\u001b[0;34m\u001b[0m\u001b[0m\n\u001b[0m",
            "\u001b[0;31mKeyError\u001b[0m: 'is_good'"
          ]
        }
      ]
    },
    {
      "cell_type": "code",
      "source": [
        "by_dict"
      ],
      "metadata": {
        "colab": {
          "base_uri": "https://localhost:8080/"
        },
        "id": "AmiZ4yPPohSh",
        "outputId": "8752294f-66fc-4517-98df-34105888c4a0"
      },
      "execution_count": 90,
      "outputs": [
        {
          "output_type": "execute_result",
          "data": {
            "text/plain": [
              "{'animal': 'cat', 'planet': 'neptun', 'number': 40, 'pi': 3.14}"
            ]
          },
          "metadata": {},
          "execution_count": 90
        }
      ]
    },
    {
      "cell_type": "code",
      "source": [
        "by_dict.pop('is_good', \"Bu key'e sahip veri cifti bulunmuyor\")"
      ],
      "metadata": {
        "colab": {
          "base_uri": "https://localhost:8080/",
          "height": 36
        },
        "id": "JD_MnV3xohVC",
        "outputId": "ac800fbb-d144-4e1f-88ed-a5338141cd50"
      },
      "execution_count": 91,
      "outputs": [
        {
          "output_type": "execute_result",
          "data": {
            "text/plain": [
              "\"Bu key'e sahip veri cifti bulunmuyor\""
            ],
            "application/vnd.google.colaboratory.intrinsic+json": {
              "type": "string"
            }
          },
          "metadata": {},
          "execution_count": 91
        }
      ]
    },
    {
      "cell_type": "code",
      "source": [
        "by_dict.pop('number', \"Bu key'e sahip veri cifti bulunmuyor\")"
      ],
      "metadata": {
        "colab": {
          "base_uri": "https://localhost:8080/"
        },
        "id": "v89i3OHxohXr",
        "outputId": "21ae798f-2fbf-4e1a-a07a-bfbe11376779"
      },
      "execution_count": 92,
      "outputs": [
        {
          "output_type": "execute_result",
          "data": {
            "text/plain": [
              "40"
            ]
          },
          "metadata": {},
          "execution_count": 92
        }
      ]
    },
    {
      "cell_type": "code",
      "source": [
        "by_dict"
      ],
      "metadata": {
        "colab": {
          "base_uri": "https://localhost:8080/"
        },
        "id": "ueA9-9zPohaP",
        "outputId": "36c08cdc-94bb-4ee7-e42a-5453c5074b43"
      },
      "execution_count": 93,
      "outputs": [
        {
          "output_type": "execute_result",
          "data": {
            "text/plain": [
              "{'animal': 'cat', 'planet': 'neptun', 'pi': 3.14}"
            ]
          },
          "metadata": {},
          "execution_count": 93
        }
      ]
    },
    {
      "cell_type": "code",
      "source": [
        "by_dict.popitem()  # dictionary'de bulunan son veri ciftini siler.\n",
        "\n",
        "by_dict"
      ],
      "metadata": {
        "colab": {
          "base_uri": "https://localhost:8080/"
        },
        "id": "8LPUZcPdohcb",
        "outputId": "26e29f2c-0815-45be-c146-7765d9510dce"
      },
      "execution_count": 94,
      "outputs": [
        {
          "output_type": "execute_result",
          "data": {
            "text/plain": [
              "{'animal': 'cat', 'planet': 'neptun'}"
            ]
          },
          "metadata": {},
          "execution_count": 94
        }
      ]
    },
    {
      "cell_type": "code",
      "source": [
        "by_dict = {'animal': 'cat', 'planet': 'neptun', 'number': 40, 'pi': 3.14}\n",
        "\n",
        "by_dict['animal']"
      ],
      "metadata": {
        "colab": {
          "base_uri": "https://localhost:8080/",
          "height": 36
        },
        "id": "T0VKwtsJpYXf",
        "outputId": "dd0e52f4-6aa5-4161-e6ec-622f0d2b0887"
      },
      "execution_count": 96,
      "outputs": [
        {
          "output_type": "execute_result",
          "data": {
            "text/plain": [
              "'cat'"
            ],
            "application/vnd.google.colaboratory.intrinsic+json": {
              "type": "string"
            }
          },
          "metadata": {},
          "execution_count": 96
        }
      ]
    },
    {
      "cell_type": "code",
      "source": [
        "by_dict['city']"
      ],
      "metadata": {
        "colab": {
          "base_uri": "https://localhost:8080/",
          "height": 175
        },
        "id": "UrCEcuGspYZ2",
        "outputId": "2a99cbd1-ef98-489c-803c-7d894be55673"
      },
      "execution_count": 97,
      "outputs": [
        {
          "output_type": "error",
          "ename": "KeyError",
          "evalue": "ignored",
          "traceback": [
            "\u001b[0;31m---------------------------------------------------------------------------\u001b[0m",
            "\u001b[0;31mKeyError\u001b[0m                                  Traceback (most recent call last)",
            "\u001b[0;32m<ipython-input-97-67dfba1a33bc>\u001b[0m in \u001b[0;36m<cell line: 1>\u001b[0;34m()\u001b[0m\n\u001b[0;32m----> 1\u001b[0;31m \u001b[0mby_dict\u001b[0m\u001b[0;34m[\u001b[0m\u001b[0;34m'city'\u001b[0m\u001b[0;34m]\u001b[0m\u001b[0;34m\u001b[0m\u001b[0;34m\u001b[0m\u001b[0m\n\u001b[0m",
            "\u001b[0;31mKeyError\u001b[0m: 'city'"
          ]
        }
      ]
    },
    {
      "cell_type": "code",
      "source": [
        "by_dict.get('animal')"
      ],
      "metadata": {
        "colab": {
          "base_uri": "https://localhost:8080/",
          "height": 36
        },
        "id": "NtdLeuexpYcO",
        "outputId": "663546d9-50e7-4c5c-ea0d-89c03b3f4731"
      },
      "execution_count": 98,
      "outputs": [
        {
          "output_type": "execute_result",
          "data": {
            "text/plain": [
              "'cat'"
            ],
            "application/vnd.google.colaboratory.intrinsic+json": {
              "type": "string"
            }
          },
          "metadata": {},
          "execution_count": 98
        }
      ]
    },
    {
      "cell_type": "code",
      "source": [
        "by_dict.get('city', \"Bulunmuyor\")"
      ],
      "metadata": {
        "colab": {
          "base_uri": "https://localhost:8080/",
          "height": 36
        },
        "id": "vqWmMfdEpYer",
        "outputId": "63b9c3c8-d9f7-4e8d-a7f4-f155d85440ab"
      },
      "execution_count": 99,
      "outputs": [
        {
          "output_type": "execute_result",
          "data": {
            "text/plain": [
              "'Bulunmuyor'"
            ],
            "application/vnd.google.colaboratory.intrinsic+json": {
              "type": "string"
            }
          },
          "metadata": {},
          "execution_count": 99
        }
      ]
    },
    {
      "cell_type": "code",
      "source": [
        "by_dict.get('animal', \"Bulunmuyor\")"
      ],
      "metadata": {
        "colab": {
          "base_uri": "https://localhost:8080/",
          "height": 36
        },
        "id": "1z1zs0GVpYgs",
        "outputId": "e3842ac5-1f81-4f2d-dfe0-d5b95a293830"
      },
      "execution_count": 100,
      "outputs": [
        {
          "output_type": "execute_result",
          "data": {
            "text/plain": [
              "'cat'"
            ],
            "application/vnd.google.colaboratory.intrinsic+json": {
              "type": "string"
            }
          },
          "metadata": {},
          "execution_count": 100
        }
      ]
    },
    {
      "cell_type": "code",
      "source": [
        "musteriler = {122546:{'name':'martin', 'adres':{'mah':'konak', 'sok':'ugur'} , 'tel':'05000000000'}}\n",
        "\n",
        "must_no = int(input(\"Lutfen Musteri no Giriniz: \"))\n",
        "print(musteriler[must_no])"
      ],
      "metadata": {
        "colab": {
          "base_uri": "https://localhost:8080/"
        },
        "id": "xvg8LzgXqOss",
        "outputId": "e48560d9-2964-47c4-b4ee-a17a121f737c"
      },
      "execution_count": 122,
      "outputs": [
        {
          "output_type": "stream",
          "name": "stdout",
          "text": [
            "Lutfen Musteri no Giriniz: 122546\n",
            "{'name': 'martin', 'adres': {'mah': 'konak', 'sok': 'ugur'}, 'tel': '05000000000'}\n"
          ]
        }
      ]
    },
    {
      "cell_type": "code",
      "source": [
        "musteriler = {122546:{'name':'martin', 'adres':{'mah':'konak', 'sok':'ugur'} , 'tel':'05000000000'}}\n",
        "\n",
        "must_no = int(input(\"Lutfen Musteri no Giriniz: \"))\n",
        "print(f\"Musteri Adi: {musteriler.get(must_no).get('name')} \\nMusteri Adres: \\n\\tMah: {musteriler.get(must_no).get('adres').get('mah')} \\n\\tSokak: {musteriler.get(must_no).get('adres').get('sok')} \\nMusteri Tel: {musteriler.get(must_no).get('tel')}\")"
      ],
      "metadata": {
        "colab": {
          "base_uri": "https://localhost:8080/"
        },
        "id": "QLX_6tDuqSXq",
        "outputId": "fbaff5ee-d853-406d-c557-49933f786f7f"
      },
      "execution_count": 107,
      "outputs": [
        {
          "output_type": "stream",
          "name": "stdout",
          "text": [
            "Lutfen Musteri no Giriniz: 122546\n",
            "Musteri Adi: martin \n",
            "Musteri Adres: \n",
            "\tMah: konak \n",
            "\tSokak: ugur \n",
            "Musteri Tel: 05000000000\n"
          ]
        }
      ]
    },
    {
      "cell_type": "code",
      "source": [
        "musteriler = {122546:{'name':'martin', 'adres':{'mah':'konak', 'sok':'ugur'} , 'tel':'05000000000'}}\n",
        "musteriler"
      ],
      "metadata": {
        "colab": {
          "base_uri": "https://localhost:8080/"
        },
        "id": "qLfj2ZVrqSaQ",
        "outputId": "ededc5a5-fb98-4530-a090-89b9f090c1ce"
      },
      "execution_count": 108,
      "outputs": [
        {
          "output_type": "execute_result",
          "data": {
            "text/plain": [
              "{122546: {'name': 'martin',\n",
              "  'adres': {'mah': 'konak', 'sok': 'ugur'},\n",
              "  'tel': '05000000000'}}"
            ]
          },
          "metadata": {},
          "execution_count": 108
        }
      ]
    },
    {
      "cell_type": "code",
      "source": [
        "musteriler[122546]"
      ],
      "metadata": {
        "colab": {
          "base_uri": "https://localhost:8080/"
        },
        "id": "cX7DBZblqSc3",
        "outputId": "d7423f35-a80e-490b-b503-4526c48431e5"
      },
      "execution_count": 109,
      "outputs": [
        {
          "output_type": "execute_result",
          "data": {
            "text/plain": [
              "{'name': 'martin',\n",
              " 'adres': {'mah': 'konak', 'sok': 'ugur'},\n",
              " 'tel': '05000000000'}"
            ]
          },
          "metadata": {},
          "execution_count": 109
        }
      ]
    },
    {
      "cell_type": "code",
      "source": [
        "musteriler[122546]['name']"
      ],
      "metadata": {
        "colab": {
          "base_uri": "https://localhost:8080/",
          "height": 36
        },
        "id": "LHtl0adSqSff",
        "outputId": "c339046d-b022-43e3-f181-464300e690e9"
      },
      "execution_count": 111,
      "outputs": [
        {
          "output_type": "execute_result",
          "data": {
            "text/plain": [
              "'martin'"
            ],
            "application/vnd.google.colaboratory.intrinsic+json": {
              "type": "string"
            }
          },
          "metadata": {},
          "execution_count": 111
        }
      ]
    },
    {
      "cell_type": "code",
      "source": [
        "musteriler[122546]['adres']"
      ],
      "metadata": {
        "colab": {
          "base_uri": "https://localhost:8080/"
        },
        "id": "zQW4BtCxqSiA",
        "outputId": "bfef73a2-5a46-4d6f-ae22-ffd06ba22f06"
      },
      "execution_count": 112,
      "outputs": [
        {
          "output_type": "execute_result",
          "data": {
            "text/plain": [
              "{'mah': 'konak', 'sok': 'ugur'}"
            ]
          },
          "metadata": {},
          "execution_count": 112
        }
      ]
    },
    {
      "cell_type": "code",
      "source": [
        "musteriler[122546]['adres']['mah']"
      ],
      "metadata": {
        "colab": {
          "base_uri": "https://localhost:8080/",
          "height": 36
        },
        "id": "qMe7kKaNqSkf",
        "outputId": "e578ff06-4d4c-45b7-ee83-fac0c84d30f8"
      },
      "execution_count": 113,
      "outputs": [
        {
          "output_type": "execute_result",
          "data": {
            "text/plain": [
              "'konak'"
            ],
            "application/vnd.google.colaboratory.intrinsic+json": {
              "type": "string"
            }
          },
          "metadata": {},
          "execution_count": 113
        }
      ]
    },
    {
      "cell_type": "code",
      "source": [
        "musteriler[122546]['adres']['sok']"
      ],
      "metadata": {
        "colab": {
          "base_uri": "https://localhost:8080/",
          "height": 36
        },
        "id": "RNiqMyyxuC24",
        "outputId": "24eb43de-e1ae-4c6a-d531-1f19564cfe96"
      },
      "execution_count": 115,
      "outputs": [
        {
          "output_type": "execute_result",
          "data": {
            "text/plain": [
              "'ugur'"
            ],
            "application/vnd.google.colaboratory.intrinsic+json": {
              "type": "string"
            }
          },
          "metadata": {},
          "execution_count": 115
        }
      ]
    },
    {
      "cell_type": "code",
      "source": [
        "musteriler[122546]['tel']"
      ],
      "metadata": {
        "colab": {
          "base_uri": "https://localhost:8080/",
          "height": 36
        },
        "id": "mzgechgNuHpd",
        "outputId": "b5e15ce9-076c-4a3d-aed0-b35dea0e2370"
      },
      "execution_count": 116,
      "outputs": [
        {
          "output_type": "execute_result",
          "data": {
            "text/plain": [
              "'05000000000'"
            ],
            "application/vnd.google.colaboratory.intrinsic+json": {
              "type": "string"
            }
          },
          "metadata": {},
          "execution_count": 116
        }
      ]
    },
    {
      "cell_type": "code",
      "source": [
        "adres = {'mah':'konak' , 'sok': 'ugur'}\n",
        "\n",
        "adres['mah']"
      ],
      "metadata": {
        "colab": {
          "base_uri": "https://localhost:8080/",
          "height": 36
        },
        "id": "aXtrtR-kuHsD",
        "outputId": "96d36a63-bc95-4769-b68a-6fde6d6fe959"
      },
      "execution_count": 121,
      "outputs": [
        {
          "output_type": "execute_result",
          "data": {
            "text/plain": [
              "'konak'"
            ],
            "application/vnd.google.colaboratory.intrinsic+json": {
              "type": "string"
            }
          },
          "metadata": {},
          "execution_count": 121
        }
      ]
    },
    {
      "cell_type": "code",
      "source": [],
      "metadata": {
        "id": "dnnhV-gouHun"
      },
      "execution_count": null,
      "outputs": []
    },
    {
      "cell_type": "code",
      "source": [],
      "metadata": {
        "id": "gEeeYqcSuHw-"
      },
      "execution_count": null,
      "outputs": []
    },
    {
      "cell_type": "code",
      "source": [],
      "metadata": {
        "id": "D5IJ7QZ8uHze"
      },
      "execution_count": null,
      "outputs": []
    },
    {
      "cell_type": "code",
      "source": [],
      "metadata": {
        "id": "qvYryiH4uH1j"
      },
      "execution_count": null,
      "outputs": []
    }
  ]
}