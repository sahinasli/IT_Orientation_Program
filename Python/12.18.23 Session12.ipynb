{
  "nbformat": 4,
  "nbformat_minor": 0,
  "metadata": {
    "colab": {
      "provenance": []
    },
    "kernelspec": {
      "name": "python3",
      "display_name": "Python 3"
    },
    "language_info": {
      "name": "python"
    }
  },
  "cells": [
    {
      "cell_type": "code",
      "execution_count": 4,
      "metadata": {
        "colab": {
          "base_uri": "https://localhost:8080/"
        },
        "id": "E0hTmhQf2fui",
        "outputId": "38d96e55-156e-43d3-b27f-0234876130eb"
      },
      "outputs": [
        {
          "output_type": "stream",
          "name": "stdout",
          "text": [
            "2775\n"
          ]
        }
      ],
      "source": [
        "# output 2775\n",
        "# for loop\n",
        "# Sum of 1 - 74 between.\n",
        "toplam = 0\n",
        "for i in range(1,75):\n",
        "  toplam += i\n",
        "\n",
        "print(toplam)"
      ]
    },
    {
      "cell_type": "code",
      "source": [
        "who = ['I am ', 'You are ']\n",
        "mood = ['happy', 'confident']\n",
        "\n",
        "for i in who:\n",
        "  for j in mood:\n",
        "    print(i + j)"
      ],
      "metadata": {
        "id": "9RRKDEZ12hg6"
      },
      "execution_count": null,
      "outputs": []
    },
    {
      "cell_type": "code",
      "source": [
        "names = [\"susan\", \"tom\", \"edward\"]\n",
        "mood = [\"happy\", \"sad\"]\n",
        "\n",
        "\n",
        "for i in names:\n",
        "  for j in mood:\n",
        "    print(i, j)"
      ],
      "metadata": {
        "colab": {
          "base_uri": "https://localhost:8080/"
        },
        "id": "PRnmjVB92hjP",
        "outputId": "1a139936-f24d-4248-bbe6-9ce2832a9eb7"
      },
      "execution_count": 5,
      "outputs": [
        {
          "output_type": "stream",
          "name": "stdout",
          "text": [
            "susan happy\n",
            "susan sad\n",
            "tom happy\n",
            "tom sad\n",
            "edward happy\n",
            "edward sad\n"
          ]
        }
      ]
    },
    {
      "cell_type": "code",
      "source": [
        "numbers = list(range(0,51, 10))\n",
        "\n",
        "letters = ['a', 'b', 'c', 'd','e']\n",
        "\n",
        "names = ['james', 'davis', 'elvis', 'martin']\n",
        "\n",
        "\n",
        "for i in numbers:\n",
        "  for j in letters:\n",
        "    for k in names:\n",
        "      print(str(i) + ' ' + j + ' ' + k)\n"
      ],
      "metadata": {
        "colab": {
          "base_uri": "https://localhost:8080/"
        },
        "id": "121L7dMM2hlf",
        "outputId": "db11952a-e776-4508-a0ae-93316f80981f"
      },
      "execution_count": 8,
      "outputs": [
        {
          "output_type": "stream",
          "name": "stdout",
          "text": [
            "0 a james\n",
            "0 a davis\n",
            "0 a elvis\n",
            "0 a martin\n",
            "0 b james\n",
            "0 b davis\n",
            "0 b elvis\n",
            "0 b martin\n",
            "0 c james\n",
            "0 c davis\n",
            "0 c elvis\n",
            "0 c martin\n",
            "0 d james\n",
            "0 d davis\n",
            "0 d elvis\n",
            "0 d martin\n",
            "0 e james\n",
            "0 e davis\n",
            "0 e elvis\n",
            "0 e martin\n",
            "10 a james\n",
            "10 a davis\n",
            "10 a elvis\n",
            "10 a martin\n",
            "10 b james\n",
            "10 b davis\n",
            "10 b elvis\n",
            "10 b martin\n",
            "10 c james\n",
            "10 c davis\n",
            "10 c elvis\n",
            "10 c martin\n",
            "10 d james\n",
            "10 d davis\n",
            "10 d elvis\n",
            "10 d martin\n",
            "10 e james\n",
            "10 e davis\n",
            "10 e elvis\n",
            "10 e martin\n",
            "20 a james\n",
            "20 a davis\n",
            "20 a elvis\n",
            "20 a martin\n",
            "20 b james\n",
            "20 b davis\n",
            "20 b elvis\n",
            "20 b martin\n",
            "20 c james\n",
            "20 c davis\n",
            "20 c elvis\n",
            "20 c martin\n",
            "20 d james\n",
            "20 d davis\n",
            "20 d elvis\n",
            "20 d martin\n",
            "20 e james\n",
            "20 e davis\n",
            "20 e elvis\n",
            "20 e martin\n",
            "30 a james\n",
            "30 a davis\n",
            "30 a elvis\n",
            "30 a martin\n",
            "30 b james\n",
            "30 b davis\n",
            "30 b elvis\n",
            "30 b martin\n",
            "30 c james\n",
            "30 c davis\n",
            "30 c elvis\n",
            "30 c martin\n",
            "30 d james\n",
            "30 d davis\n",
            "30 d elvis\n",
            "30 d martin\n",
            "30 e james\n",
            "30 e davis\n",
            "30 e elvis\n",
            "30 e martin\n",
            "40 a james\n",
            "40 a davis\n",
            "40 a elvis\n",
            "40 a martin\n",
            "40 b james\n",
            "40 b davis\n",
            "40 b elvis\n",
            "40 b martin\n",
            "40 c james\n",
            "40 c davis\n",
            "40 c elvis\n",
            "40 c martin\n",
            "40 d james\n",
            "40 d davis\n",
            "40 d elvis\n",
            "40 d martin\n",
            "40 e james\n",
            "40 e davis\n",
            "40 e elvis\n",
            "40 e martin\n",
            "50 a james\n",
            "50 a davis\n",
            "50 a elvis\n",
            "50 a martin\n",
            "50 b james\n",
            "50 b davis\n",
            "50 b elvis\n",
            "50 b martin\n",
            "50 c james\n",
            "50 c davis\n",
            "50 c elvis\n",
            "50 c martin\n",
            "50 d james\n",
            "50 d davis\n",
            "50 d elvis\n",
            "50 d martin\n",
            "50 e james\n",
            "50 e davis\n",
            "50 e elvis\n",
            "50 e martin\n"
          ]
        }
      ]
    },
    {
      "cell_type": "code",
      "source": [
        "numbers = [0, 1, 2, 3, 4, 5, 6, 7, 8, 9, 10]\n",
        "\n",
        "\n",
        "for i in numbers:\n",
        "  if i == 6:\n",
        "    continue\n",
        "  print(i)\n",
        "\n",
        "\n",
        "# continue'dan sonra gelen kod bloglari calismaz , tekrar for doongusune gider."
      ],
      "metadata": {
        "colab": {
          "base_uri": "https://localhost:8080/"
        },
        "id": "0pQy47GT2hn0",
        "outputId": "02cd3174-a77d-422f-9a5d-47ec0e980ac6"
      },
      "execution_count": 10,
      "outputs": [
        {
          "output_type": "stream",
          "name": "stdout",
          "text": [
            "0\n",
            "1\n",
            "2\n",
            "3\n",
            "4\n",
            "5\n",
            "7\n",
            "8\n",
            "9\n",
            "10\n"
          ]
        }
      ]
    },
    {
      "cell_type": "code",
      "source": [
        "numbers = [0, 1, 2, 3, 4, 5, 6, 7, 8, 9, 10]\n",
        "\n",
        "\n",
        "for i in numbers:\n",
        "  if i == 6 or i == 8:\n",
        "    continue\n",
        "  print(i)"
      ],
      "metadata": {
        "colab": {
          "base_uri": "https://localhost:8080/"
        },
        "id": "Fgad9eqm_vsD",
        "outputId": "8ab7374b-ab75-43d0-c1b0-f80edfff99a2"
      },
      "execution_count": 11,
      "outputs": [
        {
          "output_type": "stream",
          "name": "stdout",
          "text": [
            "0\n",
            "1\n",
            "2\n",
            "3\n",
            "4\n",
            "5\n",
            "7\n",
            "9\n",
            "10\n"
          ]
        }
      ]
    },
    {
      "cell_type": "code",
      "source": [
        "import math\n",
        "\n",
        "year = int(input('Please enter a year: '))\n",
        "print(f\"{math.ceil(year / 100)}.yy\")"
      ],
      "metadata": {
        "colab": {
          "base_uri": "https://localhost:8080/"
        },
        "id": "m-0r38Pz_vu5",
        "outputId": "bd7e56b4-81f5-45c2-caaf-0f33a0599e88"
      },
      "execution_count": 12,
      "outputs": [
        {
          "output_type": "stream",
          "name": "stdout",
          "text": [
            "Please enter a year: 2001\n",
            "21.yy\n"
          ]
        }
      ]
    },
    {
      "cell_type": "code",
      "source": [
        "math.ceil(100.50)"
      ],
      "metadata": {
        "colab": {
          "base_uri": "https://localhost:8080/"
        },
        "id": "lAXv-Ak0_vxa",
        "outputId": "43113582-6cb7-4044-ae36-b78ec0694b0e"
      },
      "execution_count": 13,
      "outputs": [
        {
          "output_type": "execute_result",
          "data": {
            "text/plain": [
              "101"
            ]
          },
          "metadata": {},
          "execution_count": 13
        }
      ]
    },
    {
      "cell_type": "code",
      "source": [
        "print(\"I love you\")\n",
        "print()\n",
        "print('me too', 2023)\n",
        "print()"
      ],
      "metadata": {
        "colab": {
          "base_uri": "https://localhost:8080/"
        },
        "id": "G99Jn4co_vz2",
        "outputId": "836974ca-53f2-4583-ef2a-00ab00f221a4"
      },
      "execution_count": 15,
      "outputs": [
        {
          "output_type": "stream",
          "name": "stdout",
          "text": [
            "I love you\n",
            "\n",
            "me too 2023\n",
            "\n"
          ]
        }
      ]
    },
    {
      "cell_type": "code",
      "source": [
        "float(12)"
      ],
      "metadata": {
        "colab": {
          "base_uri": "https://localhost:8080/"
        },
        "id": "A6piw6CXBRQm",
        "outputId": "fa609d2f-8d13-4b11-ef8d-b87835338a6c"
      },
      "execution_count": 16,
      "outputs": [
        {
          "output_type": "execute_result",
          "data": {
            "text/plain": [
              "12.0"
            ]
          },
          "metadata": {},
          "execution_count": 16
        }
      ]
    },
    {
      "cell_type": "code",
      "source": [
        "int(2.4)"
      ],
      "metadata": {
        "colab": {
          "base_uri": "https://localhost:8080/"
        },
        "id": "9lOxIxDTBRTJ",
        "outputId": "56204967-0466-4901-db34-175d5edb523e"
      },
      "execution_count": 17,
      "outputs": [
        {
          "output_type": "execute_result",
          "data": {
            "text/plain": [
              "2"
            ]
          },
          "metadata": {},
          "execution_count": 17
        }
      ]
    },
    {
      "cell_type": "code",
      "source": [
        "str(12)"
      ],
      "metadata": {
        "colab": {
          "base_uri": "https://localhost:8080/",
          "height": 36
        },
        "id": "XeqvAxdOBRVi",
        "outputId": "224ca686-6b9e-4ef7-fb51-bbca196e22f0"
      },
      "execution_count": 18,
      "outputs": [
        {
          "output_type": "execute_result",
          "data": {
            "text/plain": [
              "'12'"
            ],
            "application/vnd.google.colaboratory.intrinsic+json": {
              "type": "string"
            }
          },
          "metadata": {},
          "execution_count": 18
        }
      ]
    },
    {
      "cell_type": "code",
      "source": [
        "dict(a=1, b=2)"
      ],
      "metadata": {
        "colab": {
          "base_uri": "https://localhost:8080/"
        },
        "id": "aRFms4eFBRXu",
        "outputId": "b903f5e2-81e4-46c2-a2c5-7168cc372403"
      },
      "execution_count": 19,
      "outputs": [
        {
          "output_type": "execute_result",
          "data": {
            "text/plain": [
              "{'a': 1, 'b': 2}"
            ]
          },
          "metadata": {},
          "execution_count": 19
        }
      ]
    },
    {
      "cell_type": "code",
      "source": [
        "bool(1)"
      ],
      "metadata": {
        "colab": {
          "base_uri": "https://localhost:8080/"
        },
        "id": "_9YDc5fh_v2M",
        "outputId": "39aa6df6-80c4-4ce5-a70c-6e90d6b4931a"
      },
      "execution_count": 20,
      "outputs": [
        {
          "output_type": "execute_result",
          "data": {
            "text/plain": [
              "True"
            ]
          },
          "metadata": {},
          "execution_count": 20
        }
      ]
    },
    {
      "cell_type": "code",
      "source": [
        "bool(0)"
      ],
      "metadata": {
        "colab": {
          "base_uri": "https://localhost:8080/"
        },
        "id": "7jCzEF7jDhUq",
        "outputId": "3da1bd99-6650-45d3-9312-1bd37a4b13c4"
      },
      "execution_count": 21,
      "outputs": [
        {
          "output_type": "execute_result",
          "data": {
            "text/plain": [
              "False"
            ]
          },
          "metadata": {},
          "execution_count": 21
        }
      ]
    },
    {
      "cell_type": "code",
      "source": [
        "my_list = [1, 11, 22, 35, 2, 3]\n",
        "\n",
        "tuple(my_list)"
      ],
      "metadata": {
        "colab": {
          "base_uri": "https://localhost:8080/"
        },
        "id": "SGL4rEmFDhXR",
        "outputId": "5f3e268d-ac1e-459c-a858-a33d13715410"
      },
      "execution_count": 22,
      "outputs": [
        {
          "output_type": "execute_result",
          "data": {
            "text/plain": [
              "(1, 11, 22, 35, 2, 3)"
            ]
          },
          "metadata": {},
          "execution_count": 22
        }
      ]
    },
    {
      "cell_type": "code",
      "source": [
        "#filter()\n",
        "\n",
        "def cift_sayi(a):\n",
        "  return a % 2 == 0\n",
        "\n",
        "numbers = list(range(1,21))\n",
        "print(numbers)\n",
        "\n",
        "print('-'*20)\n",
        "\n",
        "list(filter(cift_sayi, numbers))"
      ],
      "metadata": {
        "colab": {
          "base_uri": "https://localhost:8080/"
        },
        "id": "mFCk2973DhZj",
        "outputId": "8797c1f4-21ce-4039-e58e-091dd4edd02f"
      },
      "execution_count": 31,
      "outputs": [
        {
          "output_type": "stream",
          "name": "stdout",
          "text": [
            "[1, 2, 3, 4, 5, 6, 7, 8, 9, 10, 11, 12, 13, 14, 15, 16, 17, 18, 19, 20]\n",
            "--------------------\n"
          ]
        },
        {
          "output_type": "execute_result",
          "data": {
            "text/plain": [
              "[2, 4, 6, 8, 10, 12, 14, 16, 18, 20]"
            ]
          },
          "metadata": {},
          "execution_count": 31
        }
      ]
    },
    {
      "cell_type": "code",
      "source": [
        "listem = [True, 0, 1, 2, False, 'Hello', 'True']\n",
        "\n",
        "list(filter(None, listem))"
      ],
      "metadata": {
        "colab": {
          "base_uri": "https://localhost:8080/"
        },
        "id": "K15R7GxIEtw-",
        "outputId": "642a578f-74a1-41a9-aeb9-bd7d8c24aef8"
      },
      "execution_count": 28,
      "outputs": [
        {
          "output_type": "execute_result",
          "data": {
            "text/plain": [
              "[True, 1, 2, 'Hello', 'True']"
            ]
          },
          "metadata": {},
          "execution_count": 28
        }
      ]
    },
    {
      "cell_type": "code",
      "source": [
        "# map()\n",
        "def kareal(a):\n",
        "  return a ** 2\n",
        "\n",
        "numbers = list(range(1,11))\n",
        "\n",
        "print(list(map(kareal, numbers)))\n"
      ],
      "metadata": {
        "colab": {
          "base_uri": "https://localhost:8080/"
        },
        "id": "xs0NIeAkEtzk",
        "outputId": "829c90c9-bfd3-4faf-8b24-9245ae0c8921"
      },
      "execution_count": 29,
      "outputs": [
        {
          "output_type": "stream",
          "name": "stdout",
          "text": [
            "[1, 4, 9, 16, 25, 36, 49, 64, 81, 100]\n"
          ]
        }
      ]
    },
    {
      "cell_type": "code",
      "source": [
        "numbers = list(range(1,11))\n",
        "lst = []\n",
        "for i in numbers:\n",
        "  lst.append(i**2)\n",
        "\n",
        "print(lst)"
      ],
      "metadata": {
        "colab": {
          "base_uri": "https://localhost:8080/"
        },
        "id": "_bXkIw_uEt2M",
        "outputId": "8ad5d868-6716-45ce-e256-fa25b4145cca"
      },
      "execution_count": 33,
      "outputs": [
        {
          "output_type": "stream",
          "name": "stdout",
          "text": [
            "[1, 4, 9, 16, 25, 36, 49, 64, 81, 100]\n"
          ]
        }
      ]
    },
    {
      "cell_type": "code",
      "source": [
        "# enumerate()\n",
        "grocery = ['bread', 'water',' olive']\n",
        "\n",
        "enum_grocery = list(enumerate(grocery))\n",
        "print(type(enumerate(grocery)))\n",
        "enum_grocery"
      ],
      "metadata": {
        "colab": {
          "base_uri": "https://localhost:8080/"
        },
        "id": "kBenJWoUEt4r",
        "outputId": "0e679edc-59ee-46ae-b661-5f5b3c2bc553"
      },
      "execution_count": 51,
      "outputs": [
        {
          "output_type": "stream",
          "name": "stdout",
          "text": [
            "<class 'enumerate'>\n"
          ]
        },
        {
          "output_type": "execute_result",
          "data": {
            "text/plain": [
              "[(0, 'bread'), (1, 'water'), (2, ' olive')]"
            ]
          },
          "metadata": {},
          "execution_count": 51
        }
      ]
    },
    {
      "cell_type": "code",
      "source": [
        "grocery = ['bread', 'water',' olive']\n",
        "\n",
        "enum_grocery = list(enumerate(grocery, 101))\n",
        "\n",
        "enum_grocery"
      ],
      "metadata": {
        "colab": {
          "base_uri": "https://localhost:8080/"
        },
        "id": "4t6_A6M7Et7D",
        "outputId": "f70088ce-e92e-4f30-8c40-d35bbea89e6c"
      },
      "execution_count": 36,
      "outputs": [
        {
          "output_type": "execute_result",
          "data": {
            "text/plain": [
              "[(101, 'bread'), (102, 'water'), (103, ' olive')]"
            ]
          },
          "metadata": {},
          "execution_count": 36
        }
      ]
    },
    {
      "cell_type": "code",
      "source": [
        "grocery = ['bread', 'water',' olive']\n",
        "\n",
        "enum_grocery = list(enumerate(grocery, 2001))\n",
        "\n",
        "enum_grocery"
      ],
      "metadata": {
        "colab": {
          "base_uri": "https://localhost:8080/"
        },
        "id": "iP37FD4cEt9a",
        "outputId": "58d11b30-8e06-47fe-868e-ad1124ef99cc"
      },
      "execution_count": 37,
      "outputs": [
        {
          "output_type": "execute_result",
          "data": {
            "text/plain": [
              "[(2001, 'bread'), (2002, 'water'), (2003, ' olive')]"
            ]
          },
          "metadata": {},
          "execution_count": 37
        }
      ]
    },
    {
      "cell_type": "code",
      "source": [
        "help(enumerate)"
      ],
      "metadata": {
        "colab": {
          "base_uri": "https://localhost:8080/"
        },
        "id": "b1Yr4h69K3Ks",
        "outputId": "b26133dd-aa9c-4da1-ba72-b3c3ac890bfd"
      },
      "execution_count": 38,
      "outputs": [
        {
          "output_type": "stream",
          "name": "stdout",
          "text": [
            "Help on class enumerate in module builtins:\n",
            "\n",
            "class enumerate(object)\n",
            " |  enumerate(iterable, start=0)\n",
            " |  \n",
            " |  Return an enumerate object.\n",
            " |  \n",
            " |    iterable\n",
            " |      an object supporting iteration\n",
            " |  \n",
            " |  The enumerate object yields pairs containing a count (from start, which\n",
            " |  defaults to zero) and a value yielded by the iterable argument.\n",
            " |  \n",
            " |  enumerate is useful for obtaining an indexed list:\n",
            " |      (0, seq[0]), (1, seq[1]), (2, seq[2]), ...\n",
            " |  \n",
            " |  Methods defined here:\n",
            " |  \n",
            " |  __getattribute__(self, name, /)\n",
            " |      Return getattr(self, name).\n",
            " |  \n",
            " |  __iter__(self, /)\n",
            " |      Implement iter(self).\n",
            " |  \n",
            " |  __next__(self, /)\n",
            " |      Implement next(self).\n",
            " |  \n",
            " |  __reduce__(...)\n",
            " |      Return state information for pickling.\n",
            " |  \n",
            " |  ----------------------------------------------------------------------\n",
            " |  Class methods defined here:\n",
            " |  \n",
            " |  __class_getitem__(...) from builtins.type\n",
            " |      See PEP 585\n",
            " |  \n",
            " |  ----------------------------------------------------------------------\n",
            " |  Static methods defined here:\n",
            " |  \n",
            " |  __new__(*args, **kwargs) from builtins.type\n",
            " |      Create and return a new object.  See help(type) for accurate signature.\n",
            "\n"
          ]
        }
      ]
    },
    {
      "cell_type": "code",
      "source": [
        "dir(list)"
      ],
      "metadata": {
        "colab": {
          "base_uri": "https://localhost:8080/"
        },
        "id": "Cttfgd42K3NH",
        "outputId": "d83351ed-8776-44da-8238-33114ba94a79"
      },
      "execution_count": 39,
      "outputs": [
        {
          "output_type": "execute_result",
          "data": {
            "text/plain": [
              "['__add__',\n",
              " '__class__',\n",
              " '__class_getitem__',\n",
              " '__contains__',\n",
              " '__delattr__',\n",
              " '__delitem__',\n",
              " '__dir__',\n",
              " '__doc__',\n",
              " '__eq__',\n",
              " '__format__',\n",
              " '__ge__',\n",
              " '__getattribute__',\n",
              " '__getitem__',\n",
              " '__gt__',\n",
              " '__hash__',\n",
              " '__iadd__',\n",
              " '__imul__',\n",
              " '__init__',\n",
              " '__init_subclass__',\n",
              " '__iter__',\n",
              " '__le__',\n",
              " '__len__',\n",
              " '__lt__',\n",
              " '__mul__',\n",
              " '__ne__',\n",
              " '__new__',\n",
              " '__reduce__',\n",
              " '__reduce_ex__',\n",
              " '__repr__',\n",
              " '__reversed__',\n",
              " '__rmul__',\n",
              " '__setattr__',\n",
              " '__setitem__',\n",
              " '__sizeof__',\n",
              " '__str__',\n",
              " '__subclasshook__',\n",
              " 'append',\n",
              " 'clear',\n",
              " 'copy',\n",
              " 'count',\n",
              " 'extend',\n",
              " 'index',\n",
              " 'insert',\n",
              " 'pop',\n",
              " 'remove',\n",
              " 'reverse',\n",
              " 'sort']"
            ]
          },
          "metadata": {},
          "execution_count": 39
        }
      ]
    },
    {
      "cell_type": "code",
      "source": [
        "max(100, 200)"
      ],
      "metadata": {
        "colab": {
          "base_uri": "https://localhost:8080/"
        },
        "id": "BUdIw3GKK3Pp",
        "outputId": "e620ea19-a9e9-49a2-9991-cd6059ce6d99"
      },
      "execution_count": 40,
      "outputs": [
        {
          "output_type": "execute_result",
          "data": {
            "text/plain": [
              "200"
            ]
          },
          "metadata": {},
          "execution_count": 40
        }
      ]
    },
    {
      "cell_type": "code",
      "source": [
        "listem = [11,2,3,5,19, 25, 200, 195, 201, 1002, 5000]\n",
        "\n",
        "max(listem)  # en buyuk sayiyi retrun eder."
      ],
      "metadata": {
        "colab": {
          "base_uri": "https://localhost:8080/"
        },
        "id": "IjGnnDlRK3RR",
        "outputId": "8109c7e8-ed6f-4d76-f18c-ec8fd9cc6f7a"
      },
      "execution_count": 41,
      "outputs": [
        {
          "output_type": "execute_result",
          "data": {
            "text/plain": [
              "5000"
            ]
          },
          "metadata": {},
          "execution_count": 41
        }
      ]
    },
    {
      "cell_type": "code",
      "source": [
        "min(listem)  # en kucuk sayiyi return eder."
      ],
      "metadata": {
        "colab": {
          "base_uri": "https://localhost:8080/"
        },
        "id": "_zWOVA-HEt_y",
        "outputId": "790a5403-7b68-4fab-e61d-2ef897f9e614"
      },
      "execution_count": 42,
      "outputs": [
        {
          "output_type": "execute_result",
          "data": {
            "text/plain": [
              "2"
            ]
          },
          "metadata": {},
          "execution_count": 42
        }
      ]
    },
    {
      "cell_type": "code",
      "source": [
        "sum(listem)  # toplama yapar."
      ],
      "metadata": {
        "colab": {
          "base_uri": "https://localhost:8080/"
        },
        "id": "vRxhAmA_EuBz",
        "outputId": "7601c1f4-3243-4ce5-c93c-e415f8b2a44c"
      },
      "execution_count": 43,
      "outputs": [
        {
          "output_type": "execute_result",
          "data": {
            "text/plain": [
              "6663"
            ]
          },
          "metadata": {},
          "execution_count": 43
        }
      ]
    },
    {
      "cell_type": "code",
      "source": [
        "sum(listem, 100)  # toplama islemine 100'den baslar. yani 100 ekleyerek toplama islemini gerceklestirir."
      ],
      "metadata": {
        "colab": {
          "base_uri": "https://localhost:8080/"
        },
        "id": "scHUl-4fOas0",
        "outputId": "1e928899-df2b-4c9c-a347-caee04b5f48e"
      },
      "execution_count": 52,
      "outputs": [
        {
          "output_type": "execute_result",
          "data": {
            "text/plain": [
              "6763"
            ]
          },
          "metadata": {},
          "execution_count": 52
        }
      ]
    },
    {
      "cell_type": "code",
      "source": [
        "pow(2, 3)"
      ],
      "metadata": {
        "colab": {
          "base_uri": "https://localhost:8080/"
        },
        "id": "I01pcF6oLZ0D",
        "outputId": "ac040986-1dcd-447b-fb7e-d5d71f29342a"
      },
      "execution_count": 44,
      "outputs": [
        {
          "output_type": "execute_result",
          "data": {
            "text/plain": [
              "8"
            ]
          },
          "metadata": {},
          "execution_count": 44
        }
      ]
    },
    {
      "cell_type": "code",
      "source": [
        "import math\n",
        "\n",
        "math.sqrt(9)"
      ],
      "metadata": {
        "colab": {
          "base_uri": "https://localhost:8080/"
        },
        "id": "uFrLN5QGLpsy",
        "outputId": "41aa4eb2-8268-4a52-c212-34fe8b3f908a"
      },
      "execution_count": 45,
      "outputs": [
        {
          "output_type": "execute_result",
          "data": {
            "text/plain": [
              "3.0"
            ]
          },
          "metadata": {},
          "execution_count": 45
        }
      ]
    },
    {
      "cell_type": "code",
      "source": [
        "pow(9,0.5)"
      ],
      "metadata": {
        "colab": {
          "base_uri": "https://localhost:8080/"
        },
        "id": "sq3vm4yWLpvG",
        "outputId": "2b66c710-c5b5-4acf-b522-08890c425729"
      },
      "execution_count": 46,
      "outputs": [
        {
          "output_type": "execute_result",
          "data": {
            "text/plain": [
              "3.0"
            ]
          },
          "metadata": {},
          "execution_count": 46
        }
      ]
    },
    {
      "cell_type": "code",
      "source": [
        "eval(\"2+3\")  # !!!! Guvenlik acigi olusturabileceginden kullanilmasi tavsiye edilmez."
      ],
      "metadata": {
        "colab": {
          "base_uri": "https://localhost:8080/"
        },
        "id": "ivn9fpcWLpxI",
        "outputId": "51191ae7-2b2a-444f-ac0e-645a9ed65296"
      },
      "execution_count": 47,
      "outputs": [
        {
          "output_type": "execute_result",
          "data": {
            "text/plain": [
              "5"
            ]
          },
          "metadata": {},
          "execution_count": 47
        }
      ]
    },
    {
      "cell_type": "code",
      "source": [
        "2+3\n"
      ],
      "metadata": {
        "colab": {
          "base_uri": "https://localhost:8080/"
        },
        "id": "t4bQskBNLZ2s",
        "outputId": "aff6dc0d-f740-40ee-ab5e-1c418b10da1a"
      },
      "execution_count": 48,
      "outputs": [
        {
          "output_type": "execute_result",
          "data": {
            "text/plain": [
              "5"
            ]
          },
          "metadata": {},
          "execution_count": 48
        }
      ]
    },
    {
      "cell_type": "code",
      "source": [
        "eval(\"5+3\")"
      ],
      "metadata": {
        "colab": {
          "base_uri": "https://localhost:8080/"
        },
        "id": "KxsCHFeeLZ5Q",
        "outputId": "2eecb5bb-cd9b-4c49-97cd-078a6c98a900"
      },
      "execution_count": 49,
      "outputs": [
        {
          "output_type": "execute_result",
          "data": {
            "text/plain": [
              "8"
            ]
          },
          "metadata": {},
          "execution_count": 49
        }
      ]
    },
    {
      "cell_type": "code",
      "source": [
        "def topla(a,b):\n",
        "  print(a + b)\n",
        "\n",
        "topla(2,3)"
      ],
      "metadata": {
        "colab": {
          "base_uri": "https://localhost:8080/"
        },
        "id": "qA3IruazLZ7x",
        "outputId": "2ee4a2b4-09de-4898-ce2f-769f335bdc59"
      },
      "execution_count": 54,
      "outputs": [
        {
          "output_type": "stream",
          "name": "stdout",
          "text": [
            "5\n"
          ]
        }
      ]
    },
    {
      "cell_type": "code",
      "source": [
        "topla(3,5)"
      ],
      "metadata": {
        "colab": {
          "base_uri": "https://localhost:8080/"
        },
        "id": "xkG_K-7CNOe2",
        "outputId": "81537e1c-8ad6-4992-b7c3-89804591b62c"
      },
      "execution_count": 55,
      "outputs": [
        {
          "output_type": "stream",
          "name": "stdout",
          "text": [
            "8\n"
          ]
        }
      ]
    },
    {
      "cell_type": "code",
      "source": [
        "def first_function(a,b):\n",
        "  print(a**2 + b**2)\n",
        "\n",
        "\n",
        "first_function(2,3)  # 4 + 9 = 13"
      ],
      "metadata": {
        "colab": {
          "base_uri": "https://localhost:8080/"
        },
        "id": "hqJ9lp6fNOhJ",
        "outputId": "b685ca39-1328-491e-e111-d061521911a9"
      },
      "execution_count": 58,
      "outputs": [
        {
          "output_type": "stream",
          "name": "stdout",
          "text": [
            "13\n"
          ]
        }
      ]
    },
    {
      "cell_type": "code",
      "source": [
        "def motto():\n",
        "  print(\"Don't hesitate to reinvent yourself\")\n",
        "\n",
        "\n",
        "\n",
        "motto()\n"
      ],
      "metadata": {
        "colab": {
          "base_uri": "https://localhost:8080/"
        },
        "id": "JmIPGWJxSnfo",
        "outputId": "688957d5-36f6-4c83-8283-478bd1a43ef0"
      },
      "execution_count": 62,
      "outputs": [
        {
          "output_type": "stream",
          "name": "stdout",
          "text": [
            "Don't hesitate to reinvent yourself\n"
          ]
        }
      ]
    },
    {
      "cell_type": "code",
      "source": [
        "# add, sum of two numbers, print result\n",
        "def add(a,b):\n",
        "  print(a + b)\n",
        "\n",
        "add(3,5)"
      ],
      "metadata": {
        "colab": {
          "base_uri": "https://localhost:8080/"
        },
        "id": "hK8FlC2xSniD",
        "outputId": "f22f476f-f7e4-44a4-e2e9-44fe96f199bd"
      },
      "execution_count": 64,
      "outputs": [
        {
          "output_type": "stream",
          "name": "stdout",
          "text": [
            "8\n"
          ]
        }
      ]
    },
    {
      "cell_type": "code",
      "source": [
        "def calculator(num1, num2, op):\n",
        "  '''\n",
        "  Bu iki sayi arasinda basit matematiksel hesaplamalar yapan bir fonksiyondur.\n",
        "  3 parametre alir.\n",
        "  num1 : bir integer deger alir.\n",
        "  num2 : bir integer deger alir.\n",
        "  op   : '+', '-', '/', '*' isaretlerini str olarak alir.\n",
        "\n",
        "  op olarak girilen operatore gore matematiksel islemi gerceklestirir ve bunu ekrana print eder.\n",
        "  '''\n",
        "\n",
        "  if op == '+':\n",
        "    print(num1 + num2)\n",
        "  elif op == '-':\n",
        "    print(num1 - num2)\n",
        "  elif op == '/':\n",
        "    print(num1 / num2)\n",
        "  elif op == '*':\n",
        "    print(num1 * num2)\n",
        "  else:\n",
        "    print(\"Please, enter valid arguments\")\n",
        "\n",
        "\n",
        "\n",
        "\n",
        "\n",
        "\n",
        "\n"
      ],
      "metadata": {
        "id": "g_DyzdsuSnkR"
      },
      "execution_count": 65,
      "outputs": []
    },
    {
      "cell_type": "code",
      "source": [
        "calculator(5,6,'*')"
      ],
      "metadata": {
        "colab": {
          "base_uri": "https://localhost:8080/"
        },
        "id": "j_88ikH2Snme",
        "outputId": "83f4150b-d439-4f6a-f759-1183e8783d70"
      },
      "execution_count": 66,
      "outputs": [
        {
          "output_type": "stream",
          "name": "stdout",
          "text": [
            "30\n"
          ]
        }
      ]
    },
    {
      "cell_type": "code",
      "source": [
        "calculator(10, 12, '+')"
      ],
      "metadata": {
        "colab": {
          "base_uri": "https://localhost:8080/"
        },
        "id": "E7cNXM54Snok",
        "outputId": "e0baf18e-bee7-4a67-c965-00043670c64b"
      },
      "execution_count": 67,
      "outputs": [
        {
          "output_type": "stream",
          "name": "stdout",
          "text": [
            "22\n"
          ]
        }
      ]
    },
    {
      "cell_type": "code",
      "source": [
        "calculator(20, 4, '/')"
      ],
      "metadata": {
        "colab": {
          "base_uri": "https://localhost:8080/"
        },
        "id": "g75MUB18SnqQ",
        "outputId": "72feafeb-6f58-423b-904e-43565cbc6489"
      },
      "execution_count": 68,
      "outputs": [
        {
          "output_type": "stream",
          "name": "stdout",
          "text": [
            "5.0\n"
          ]
        }
      ]
    },
    {
      "cell_type": "code",
      "source": [
        "calculator(25, 20, '-')"
      ],
      "metadata": {
        "colab": {
          "base_uri": "https://localhost:8080/"
        },
        "id": "qHBImOzLNOjN",
        "outputId": "95d73aab-cb1a-48fc-d728-1fe9a2de6ccd"
      },
      "execution_count": 69,
      "outputs": [
        {
          "output_type": "stream",
          "name": "stdout",
          "text": [
            "5\n"
          ]
        }
      ]
    },
    {
      "cell_type": "code",
      "source": [
        "calculator(20, 4, '%')"
      ],
      "metadata": {
        "colab": {
          "base_uri": "https://localhost:8080/"
        },
        "id": "cgkzoMdXLZ97",
        "outputId": "9a5bd04e-42bb-4fca-d14d-edd6b0622499"
      },
      "execution_count": 71,
      "outputs": [
        {
          "output_type": "stream",
          "name": "stdout",
          "text": [
            "Please, enter valid arguments\n"
          ]
        }
      ]
    },
    {
      "cell_type": "code",
      "source": [
        "help(print)"
      ],
      "metadata": {
        "colab": {
          "base_uri": "https://localhost:8080/"
        },
        "id": "0MSjnujF2hr4",
        "outputId": "0a7af036-5dc5-45ca-abd0-41ba3b3e8f10"
      },
      "execution_count": 72,
      "outputs": [
        {
          "output_type": "stream",
          "name": "stdout",
          "text": [
            "Help on built-in function print in module builtins:\n",
            "\n",
            "print(...)\n",
            "    print(value, ..., sep=' ', end='\\n', file=sys.stdout, flush=False)\n",
            "    \n",
            "    Prints the values to a stream, or to sys.stdout by default.\n",
            "    Optional keyword arguments:\n",
            "    file:  a file-like object (stream); defaults to the current sys.stdout.\n",
            "    sep:   string inserted between values, default a space.\n",
            "    end:   string appended after the last value, default a newline.\n",
            "    flush: whether to forcibly flush the stream.\n",
            "\n"
          ]
        }
      ]
    },
    {
      "cell_type": "code",
      "source": [
        "print(print.__doc__)  # __doc__   fonksiyonun kullanma rehberi gibi dusunulebilir."
      ],
      "metadata": {
        "colab": {
          "base_uri": "https://localhost:8080/"
        },
        "id": "_-Hd6PvMau_w",
        "outputId": "0f460a81-a95f-4a47-e327-0532795a5f9e"
      },
      "execution_count": 74,
      "outputs": [
        {
          "output_type": "stream",
          "name": "stdout",
          "text": [
            "print(value, ..., sep=' ', end='\\n', file=sys.stdout, flush=False)\n",
            "\n",
            "Prints the values to a stream, or to sys.stdout by default.\n",
            "Optional keyword arguments:\n",
            "file:  a file-like object (stream); defaults to the current sys.stdout.\n",
            "sep:   string inserted between values, default a space.\n",
            "end:   string appended after the last value, default a newline.\n",
            "flush: whether to forcibly flush the stream.\n"
          ]
        }
      ]
    },
    {
      "cell_type": "code",
      "source": [
        "print(calculator.__doc__)"
      ],
      "metadata": {
        "colab": {
          "base_uri": "https://localhost:8080/"
        },
        "id": "8hL0Y7HNavCV",
        "outputId": "406bab22-efbc-4cf1-9fb7-953b51fa2a00"
      },
      "execution_count": 75,
      "outputs": [
        {
          "output_type": "stream",
          "name": "stdout",
          "text": [
            "\n",
            "  Bu basit matematiksel hesaplamalar yapan bir fonksiyondur. \n",
            "  3 parametre alir. \n",
            "  num1 : bir integer deger alir.\n",
            "  num2 : bir integer deger alir.\n",
            "  op   : '+', '-', '/', '*' isaretlerini str olarak alir. \n",
            "\n",
            "  op olarak girilen operatore gore matematiksel islemi gerceklestirir ve bunu ekrana print eder. \n",
            "  \n"
          ]
        }
      ]
    },
    {
      "cell_type": "code",
      "source": [
        "help(calculator)"
      ],
      "metadata": {
        "colab": {
          "base_uri": "https://localhost:8080/"
        },
        "id": "Qhu_qTWfavFK",
        "outputId": "7dde8069-dd16-4422-bf3e-8e058a4a7402"
      },
      "execution_count": 76,
      "outputs": [
        {
          "output_type": "stream",
          "name": "stdout",
          "text": [
            "Help on function calculator in module __main__:\n",
            "\n",
            "calculator(num1, num2, op)\n",
            "    Bu basit matematiksel hesaplamalar yapan bir fonksiyondur. \n",
            "    3 parametre alir. \n",
            "    num1 : bir integer deger alir.\n",
            "    num2 : bir integer deger alir.\n",
            "    op   : '+', '-', '/', '*' isaretlerini str olarak alir. \n",
            "    \n",
            "    op olarak girilen operatore gore matematiksel islemi gerceklestirir ve bunu ekrana print eder.\n",
            "\n"
          ]
        }
      ]
    },
    {
      "cell_type": "code",
      "source": [
        "# gonullu task.\n",
        "# Bir menu iceren calculator fonk. yazalim.\n",
        "# while if,elif else, match/case\n",
        "\n",
        "\"\"\"MENU = '''\n",
        "0- cikis\n",
        "1- toplama\n",
        "2- cikarma\n",
        "3- carpma\n",
        "4- bolme\n",
        "5- karekok\n",
        "6- faktoriyel\n",
        "7- us alma\n",
        " '''\n",
        "\"\"\""
      ],
      "metadata": {
        "colab": {
          "base_uri": "https://localhost:8080/",
          "height": 36
        },
        "id": "0tr7Qa8KavHa",
        "outputId": "230937be-e341-4faf-f364-bcde9172e91c"
      },
      "execution_count": 77,
      "outputs": [
        {
          "output_type": "execute_result",
          "data": {
            "text/plain": [
              "\"MENU = '''\\n1- toplama\\n2- cikarma\\n3- carpma\\n4- bolme\\n5- karakok\\n6- faktoriyel\\n7- us alma\\n '''\\n\""
            ],
            "application/vnd.google.colaboratory.intrinsic+json": {
              "type": "string"
            }
          },
          "metadata": {},
          "execution_count": 77
        }
      ]
    },
    {
      "cell_type": "code",
      "source": [
        "def add(a,b):\n",
        "  print(a + b)"
      ],
      "metadata": {
        "id": "1EsfBWnRb28-"
      },
      "execution_count": 78,
      "outputs": []
    },
    {
      "cell_type": "code",
      "source": [
        "add(5,3)"
      ],
      "metadata": {
        "colab": {
          "base_uri": "https://localhost:8080/"
        },
        "id": "gK4sZ0tUdWkt",
        "outputId": "bdf57c49-4e08-4d25-fd2d-49958dce6c0b"
      },
      "execution_count": 79,
      "outputs": [
        {
          "output_type": "stream",
          "name": "stdout",
          "text": [
            "8\n"
          ]
        }
      ]
    },
    {
      "cell_type": "code",
      "source": [
        "add(5,3) + 2"
      ],
      "metadata": {
        "colab": {
          "base_uri": "https://localhost:8080/",
          "height": 192
        },
        "id": "3Be-KjDSdWnZ",
        "outputId": "bc9fa11e-b619-401d-d123-a60400799b39"
      },
      "execution_count": 80,
      "outputs": [
        {
          "output_type": "stream",
          "name": "stdout",
          "text": [
            "8\n"
          ]
        },
        {
          "output_type": "error",
          "ename": "TypeError",
          "evalue": "ignored",
          "traceback": [
            "\u001b[0;31m---------------------------------------------------------------------------\u001b[0m",
            "\u001b[0;31mTypeError\u001b[0m                                 Traceback (most recent call last)",
            "\u001b[0;32m<ipython-input-80-18a5d420437d>\u001b[0m in \u001b[0;36m<cell line: 1>\u001b[0;34m()\u001b[0m\n\u001b[0;32m----> 1\u001b[0;31m \u001b[0madd\u001b[0m\u001b[0;34m(\u001b[0m\u001b[0;36m5\u001b[0m\u001b[0;34m,\u001b[0m\u001b[0;36m3\u001b[0m\u001b[0;34m)\u001b[0m \u001b[0;34m+\u001b[0m \u001b[0;36m2\u001b[0m\u001b[0;34m\u001b[0m\u001b[0;34m\u001b[0m\u001b[0m\n\u001b[0m",
            "\u001b[0;31mTypeError\u001b[0m: unsupported operand type(s) for +: 'NoneType' and 'int'"
          ]
        }
      ]
    },
    {
      "cell_type": "code",
      "source": [
        "type(add(5,4))"
      ],
      "metadata": {
        "colab": {
          "base_uri": "https://localhost:8080/"
        },
        "id": "nG41sYmvb2_r",
        "outputId": "900adb8b-1bc2-416e-d558-efeea6aa4f31"
      },
      "execution_count": 81,
      "outputs": [
        {
          "output_type": "stream",
          "name": "stdout",
          "text": [
            "9\n"
          ]
        },
        {
          "output_type": "execute_result",
          "data": {
            "text/plain": [
              "NoneType"
            ]
          },
          "metadata": {},
          "execution_count": 81
        }
      ]
    },
    {
      "cell_type": "code",
      "source": [
        "def add(a,b):\n",
        "  return a + b\n",
        "\n",
        "add(5,3) + 2"
      ],
      "metadata": {
        "colab": {
          "base_uri": "https://localhost:8080/"
        },
        "id": "uICjw_ICb3B_",
        "outputId": "795b8ccd-dfc9-4b77-f479-ed0ebcb2122a"
      },
      "execution_count": 82,
      "outputs": [
        {
          "output_type": "execute_result",
          "data": {
            "text/plain": [
              "10"
            ]
          },
          "metadata": {},
          "execution_count": 82
        }
      ]
    },
    {
      "cell_type": "code",
      "source": [
        "type(add(5,3))  # bir integer deger return ettigini anlariz."
      ],
      "metadata": {
        "colab": {
          "base_uri": "https://localhost:8080/"
        },
        "id": "RRNjnBy0b3FE",
        "outputId": "620c1005-30c6-41e9-f4c9-60d7ad7330bf"
      },
      "execution_count": 83,
      "outputs": [
        {
          "output_type": "execute_result",
          "data": {
            "text/plain": [
              "int"
            ]
          },
          "metadata": {},
          "execution_count": 83
        }
      ]
    },
    {
      "cell_type": "code",
      "source": [
        "add(5,3)"
      ],
      "metadata": {
        "colab": {
          "base_uri": "https://localhost:8080/"
        },
        "id": "3rAXnGFVavJr",
        "outputId": "1e19f88a-65fe-410b-b911-d1d0e6ab2a2a"
      },
      "execution_count": 84,
      "outputs": [
        {
          "output_type": "execute_result",
          "data": {
            "text/plain": [
              "8"
            ]
          },
          "metadata": {},
          "execution_count": 84
        }
      ]
    },
    {
      "cell_type": "code",
      "source": [
        "print(add(5,3))"
      ],
      "metadata": {
        "colab": {
          "base_uri": "https://localhost:8080/"
        },
        "id": "-LHgescsavL_",
        "outputId": "798de29f-f3bf-4f41-ca1d-620d74af4a90"
      },
      "execution_count": 85,
      "outputs": [
        {
          "output_type": "stream",
          "name": "stdout",
          "text": [
            "8\n"
          ]
        }
      ]
    },
    {
      "cell_type": "code",
      "source": [
        "def add(a,b):\n",
        "  print(a + b)"
      ],
      "metadata": {
        "id": "5MfrMsH3fcnZ"
      },
      "execution_count": 86,
      "outputs": []
    },
    {
      "cell_type": "code",
      "source": [
        "print(add(5,3))"
      ],
      "metadata": {
        "colab": {
          "base_uri": "https://localhost:8080/"
        },
        "id": "6QtQkPZVfflb",
        "outputId": "f0399ccc-b691-4b92-e3c8-64269d195927"
      },
      "execution_count": 87,
      "outputs": [
        {
          "output_type": "stream",
          "name": "stdout",
          "text": [
            "8\n",
            "None\n"
          ]
        }
      ]
    },
    {
      "cell_type": "code",
      "source": [
        "def absolute_value(x):\n",
        "  if x < 0:\n",
        "    return -x\n",
        "  else:\n",
        "    return x\n",
        "\n",
        "\n"
      ],
      "metadata": {
        "id": "0rdFhZexffnT"
      },
      "execution_count": 88,
      "outputs": []
    },
    {
      "cell_type": "code",
      "source": [
        "absolute_value(-5)"
      ],
      "metadata": {
        "colab": {
          "base_uri": "https://localhost:8080/"
        },
        "id": "6jHZXMIZgT4h",
        "outputId": "b59e0146-d253-42d7-83b0-0e5234ba5228"
      },
      "execution_count": 89,
      "outputs": [
        {
          "output_type": "execute_result",
          "data": {
            "text/plain": [
              "5"
            ]
          },
          "metadata": {},
          "execution_count": 89
        }
      ]
    },
    {
      "cell_type": "code",
      "source": [
        "print(absolute_value(3.3))"
      ],
      "metadata": {
        "colab": {
          "base_uri": "https://localhost:8080/"
        },
        "id": "uDpgIlfJgT6z",
        "outputId": "4668ac94-f6e0-49d5-971d-e77f74469884"
      },
      "execution_count": 90,
      "outputs": [
        {
          "output_type": "stream",
          "name": "stdout",
          "text": [
            "3.3\n"
          ]
        }
      ]
    },
    {
      "cell_type": "code",
      "source": [],
      "metadata": {
        "id": "7gkZbxWEgT8t"
      },
      "execution_count": null,
      "outputs": []
    },
    {
      "cell_type": "code",
      "source": [],
      "metadata": {
        "id": "IzSyNGtxgT_A"
      },
      "execution_count": null,
      "outputs": []
    },
    {
      "cell_type": "code",
      "source": [],
      "metadata": {
        "id": "nsEfBF_9ffpp"
      },
      "execution_count": null,
      "outputs": []
    },
    {
      "cell_type": "code",
      "source": [],
      "metadata": {
        "id": "fu1_fYRMffsC"
      },
      "execution_count": null,
      "outputs": []
    }
  ]
}