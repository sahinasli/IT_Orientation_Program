{
  "nbformat": 4,
  "nbformat_minor": 0,
  "metadata": {
    "colab": {
      "provenance": []
    },
    "kernelspec": {
      "name": "python3",
      "display_name": "Python 3"
    },
    "language_info": {
      "name": "python"
    }
  },
  "cells": [
    {
      "cell_type": "code",
      "execution_count": 1,
      "metadata": {
        "id": "ykI6oCWQrsz3"
      },
      "outputs": [],
      "source": [
        "def organizer(**people) :\n",
        "  names = []\n",
        "  ages = []\n",
        "\n",
        "  for keys, values in people.items():\n",
        "    names.append(keys)\n",
        "    ages.append(values)\n",
        "  print(names, ages, sep = '\\n')"
      ]
    },
    {
      "cell_type": "code",
      "source": [
        "organizer(ali = 34, veli = 25, zeynep = 30, Betty = 35)"
      ],
      "metadata": {
        "colab": {
          "base_uri": "https://localhost:8080/"
        },
        "id": "6jMD0v5pujlj",
        "outputId": "15815c2e-1b57-4360-c3d1-8fdd670e1025"
      },
      "execution_count": 2,
      "outputs": [
        {
          "output_type": "stream",
          "name": "stdout",
          "text": [
            "['ali', 'veli', 'zeynep', 'Betty']\n",
            "[34, 25, 30, 35]\n"
          ]
        }
      ]
    },
    {
      "cell_type": "code",
      "source": [
        "my_dict = dict(Ali = 34, Samuel = 33, Betty = 45, Veli = 25)\n",
        "my_dict"
      ],
      "metadata": {
        "colab": {
          "base_uri": "https://localhost:8080/"
        },
        "id": "GDxSRDayujoF",
        "outputId": "f467f8bd-4030-4445-f4d5-e5a54571ca74"
      },
      "execution_count": 3,
      "outputs": [
        {
          "output_type": "execute_result",
          "data": {
            "text/plain": [
              "{'Ali': 34, 'Samuel': 33, 'Betty': 45, 'Veli': 25}"
            ]
          },
          "metadata": {},
          "execution_count": 3
        }
      ]
    },
    {
      "cell_type": "code",
      "source": [
        "organizer(**my_dict)"
      ],
      "metadata": {
        "colab": {
          "base_uri": "https://localhost:8080/"
        },
        "id": "p8w5vprQujqF",
        "outputId": "6d11a5c1-4854-4735-b735-ae9a7c071555"
      },
      "execution_count": 4,
      "outputs": [
        {
          "output_type": "stream",
          "name": "stdout",
          "text": [
            "['Ali', 'Samuel', 'Betty', 'Veli']\n",
            "[34, 33, 45, 25]\n"
          ]
        }
      ]
    },
    {
      "cell_type": "code",
      "source": [
        "def topla(*args):\n",
        "  return sum(args)"
      ],
      "metadata": {
        "id": "Y5feZzUFujsV"
      },
      "execution_count": 5,
      "outputs": []
    },
    {
      "cell_type": "code",
      "source": [
        "topla(1,2,3)"
      ],
      "metadata": {
        "colab": {
          "base_uri": "https://localhost:8080/"
        },
        "id": "4g2tzCOyujuk",
        "outputId": "afa56491-5bfc-41e8-ac03-fb6a5f4e3232"
      },
      "execution_count": 6,
      "outputs": [
        {
          "output_type": "execute_result",
          "data": {
            "text/plain": [
              "6"
            ]
          },
          "metadata": {},
          "execution_count": 6
        }
      ]
    },
    {
      "cell_type": "code",
      "source": [
        "numbers = list(range(1,11))\n",
        "numbers"
      ],
      "metadata": {
        "colab": {
          "base_uri": "https://localhost:8080/"
        },
        "id": "pKPQv2dRujw1",
        "outputId": "96693266-d678-45e1-855f-43ca9420f2e3"
      },
      "execution_count": 7,
      "outputs": [
        {
          "output_type": "execute_result",
          "data": {
            "text/plain": [
              "[1, 2, 3, 4, 5, 6, 7, 8, 9, 10]"
            ]
          },
          "metadata": {},
          "execution_count": 7
        }
      ]
    },
    {
      "cell_type": "code",
      "source": [
        "topla(*numbers)"
      ],
      "metadata": {
        "colab": {
          "base_uri": "https://localhost:8080/"
        },
        "id": "PZp-xB7Hujy_",
        "outputId": "b1d2e9d4-e5c5-4279-e1bc-a7ba46d3674b"
      },
      "execution_count": 8,
      "outputs": [
        {
          "output_type": "execute_result",
          "data": {
            "text/plain": [
              "55"
            ]
          },
          "metadata": {},
          "execution_count": 8
        }
      ]
    },
    {
      "cell_type": "code",
      "source": [
        "topla(1,2,3,4,5,6,7,8,9,10)"
      ],
      "metadata": {
        "colab": {
          "base_uri": "https://localhost:8080/"
        },
        "id": "xRVQaYo1x-cd",
        "outputId": "c07d7299-9b45-4b23-e1eb-11a526cd267e"
      },
      "execution_count": 9,
      "outputs": [
        {
          "output_type": "execute_result",
          "data": {
            "text/plain": [
              "55"
            ]
          },
          "metadata": {},
          "execution_count": 9
        }
      ]
    },
    {
      "cell_type": "code",
      "source": [
        "def brother(bro1, bro2, bro3):\n",
        "  print('here are the names of brothers: ')\n",
        "  print(bro1, bro2, bro3, sep= '\\n')"
      ],
      "metadata": {
        "id": "8Qlwq68sx-ew"
      },
      "execution_count": 10,
      "outputs": []
    },
    {
      "cell_type": "code",
      "source": [
        "family = [\"Tom\", \"Sue\", \"Jack\"]"
      ],
      "metadata": {
        "id": "2W139ViHx-hQ"
      },
      "execution_count": 11,
      "outputs": []
    },
    {
      "cell_type": "code",
      "source": [
        "brother(family)"
      ],
      "metadata": {
        "colab": {
          "base_uri": "https://localhost:8080/",
          "height": 181
        },
        "id": "lrGBgSW_x-jq",
        "outputId": "38c50615-3b9b-4599-c460-9b77889051d3"
      },
      "execution_count": 12,
      "outputs": [
        {
          "output_type": "error",
          "ename": "TypeError",
          "evalue": "ignored",
          "traceback": [
            "\u001b[0;31m---------------------------------------------------------------------------\u001b[0m",
            "\u001b[0;31mTypeError\u001b[0m                                 Traceback (most recent call last)",
            "\u001b[0;32m<ipython-input-12-75380fcb09f5>\u001b[0m in \u001b[0;36m<cell line: 1>\u001b[0;34m()\u001b[0m\n\u001b[0;32m----> 1\u001b[0;31m \u001b[0mbrother\u001b[0m\u001b[0;34m(\u001b[0m\u001b[0mfamily\u001b[0m\u001b[0;34m)\u001b[0m\u001b[0;34m\u001b[0m\u001b[0;34m\u001b[0m\u001b[0m\n\u001b[0m",
            "\u001b[0;31mTypeError\u001b[0m: brother() missing 2 required positional arguments: 'bro2' and 'bro3'"
          ]
        }
      ]
    },
    {
      "cell_type": "code",
      "source": [
        "brother(*family)"
      ],
      "metadata": {
        "colab": {
          "base_uri": "https://localhost:8080/"
        },
        "id": "BjFJBGSyx-mE",
        "outputId": "c69a24a4-956f-46e5-f6ac-89d395c1264e"
      },
      "execution_count": 13,
      "outputs": [
        {
          "output_type": "stream",
          "name": "stdout",
          "text": [
            "here are the names of brothers: \n",
            "Tom\n",
            "Sue\n",
            "Jack\n"
          ]
        }
      ]
    },
    {
      "cell_type": "code",
      "source": [
        "family2 = [\"Tom\", \"Sue\", \"Jack\", \"Sude\"]"
      ],
      "metadata": {
        "id": "PFYDU5KPx-oc"
      },
      "execution_count": 16,
      "outputs": []
    },
    {
      "cell_type": "code",
      "source": [
        "brother(*family2)"
      ],
      "metadata": {
        "colab": {
          "base_uri": "https://localhost:8080/",
          "height": 181
        },
        "id": "YS33sYtTuj0u",
        "outputId": "3b50878b-0c37-4821-ea16-45e4e2a7b480"
      },
      "execution_count": 17,
      "outputs": [
        {
          "output_type": "error",
          "ename": "TypeError",
          "evalue": "ignored",
          "traceback": [
            "\u001b[0;31m---------------------------------------------------------------------------\u001b[0m",
            "\u001b[0;31mTypeError\u001b[0m                                 Traceback (most recent call last)",
            "\u001b[0;32m<ipython-input-17-01a43016f4c9>\u001b[0m in \u001b[0;36m<cell line: 1>\u001b[0;34m()\u001b[0m\n\u001b[0;32m----> 1\u001b[0;31m \u001b[0mbrother\u001b[0m\u001b[0;34m(\u001b[0m\u001b[0;34m*\u001b[0m\u001b[0mfamily2\u001b[0m\u001b[0;34m)\u001b[0m\u001b[0;34m\u001b[0m\u001b[0;34m\u001b[0m\u001b[0m\n\u001b[0m",
            "\u001b[0;31mTypeError\u001b[0m: brother() takes 3 positional arguments but 4 were given"
          ]
        }
      ]
    },
    {
      "cell_type": "code",
      "source": [
        "def gene(x, y):\n",
        "  print(x, \"belongs to Generation X\")\n",
        "  print(y, \"belongs to Generation Y\")\n",
        "\n",
        "dict_gene = {'y' : \"Marry\", 'x' : \"Fred\"}"
      ],
      "metadata": {
        "id": "PgmHWZk9znqs"
      },
      "execution_count": 18,
      "outputs": []
    },
    {
      "cell_type": "code",
      "source": [
        "gene(**dict_gene)"
      ],
      "metadata": {
        "colab": {
          "base_uri": "https://localhost:8080/"
        },
        "id": "MZsp5oAqzntK",
        "outputId": "ad058943-c485-43c4-9791-267c8e455804"
      },
      "execution_count": 19,
      "outputs": [
        {
          "output_type": "stream",
          "name": "stdout",
          "text": [
            "Fred belongs to Generation X\n",
            "Marry belongs to Generation Y\n"
          ]
        }
      ]
    },
    {
      "cell_type": "code",
      "source": [
        "# **kwargs =>>keyword arguments\n",
        "# *args =>> arguments\n",
        "def city_organizer(**cities):  # **kwargs =>>keyword arguments\n",
        "  city_names = []\n",
        "  city_populations = []\n",
        "\n",
        "  for city, population in cities.items():\n",
        "    city_names.append(city)\n",
        "    city_populations.append(population)\n",
        "  print('Cities: ', city_names, 'Populations: ', city_populations, sep = '\\n')\n",
        "\n"
      ],
      "metadata": {
        "id": "jwzQ0EFxznyM"
      },
      "execution_count": 22,
      "outputs": []
    },
    {
      "cell_type": "code",
      "source": [
        "city_organizer(Istanbul = 20_000_000, Berlin = 10_000_000, Paris = 4_000_000, London = 3_000_000)"
      ],
      "metadata": {
        "colab": {
          "base_uri": "https://localhost:8080/"
        },
        "id": "RiuKIQ6tzn0o",
        "outputId": "b909e452-85c8-41a7-d22f-48c6257052db"
      },
      "execution_count": 23,
      "outputs": [
        {
          "output_type": "stream",
          "name": "stdout",
          "text": [
            "Cities: \n",
            "['Istanbul', 'Berlin', 'Paris', 'London']\n",
            "Populations: \n",
            "[20000000, 10000000, 4000000, 3000000]\n"
          ]
        }
      ]
    },
    {
      "cell_type": "code",
      "source": [
        "dict_cities = dict(Istanbul = 20_000_000, Berlin = 10_000_000, Paris = 4_000_000, London = 3_000_000)\n",
        "dict_cities"
      ],
      "metadata": {
        "colab": {
          "base_uri": "https://localhost:8080/"
        },
        "id": "hxJP4vj0zn3A",
        "outputId": "5549a6bc-929d-4c47-c048-fecf148a0f02"
      },
      "execution_count": 24,
      "outputs": [
        {
          "output_type": "execute_result",
          "data": {
            "text/plain": [
              "{'Istanbul': 20000000, 'Berlin': 10000000, 'Paris': 4000000, 'London': 3000000}"
            ]
          },
          "metadata": {},
          "execution_count": 24
        }
      ]
    },
    {
      "cell_type": "code",
      "source": [
        "city_organizer(**dict_cities)"
      ],
      "metadata": {
        "colab": {
          "base_uri": "https://localhost:8080/"
        },
        "id": "ntHdOUcw10Et",
        "outputId": "9a79c9e5-79de-44f5-bcaa-09fef6557504"
      },
      "execution_count": 25,
      "outputs": [
        {
          "output_type": "stream",
          "name": "stdout",
          "text": [
            "Cities: \n",
            "['Istanbul', 'Berlin', 'Paris', 'London']\n",
            "Populations: \n",
            "[20000000, 10000000, 4000000, 3000000]\n"
          ]
        }
      ]
    },
    {
      "cell_type": "markdown",
      "source": [
        "**Python official document - Python Packaging User Guide: https://packaging.python.org/en/latest/**\n",
        "\n",
        "**Python official web site - Find, install and publish Python packages with the Python Package Index: https://pypi.org/**\n",
        "\n",
        "**Python official document - Python Module Index: https://docs.python.org/3/py-modindex.html**\n",
        "\n",
        "**Python official document - Python Standart Library :https://docs.python.org/3/library/**\n",
        "\n",
        "**Pip documentation - Pip commands: https://pip.pypa.io/en/stable/cli/index.html**"
      ],
      "metadata": {
        "id": "3i08-2bX20S5"
      }
    },
    {
      "cell_type": "code",
      "source": [
        "import math\n",
        "\n"
      ],
      "metadata": {
        "id": "XJgXjDhM10HQ"
      },
      "execution_count": 26,
      "outputs": []
    },
    {
      "cell_type": "code",
      "source": [
        "math.pi"
      ],
      "metadata": {
        "colab": {
          "base_uri": "https://localhost:8080/"
        },
        "id": "sQEjXST610Jm",
        "outputId": "840eeb20-e3c8-402c-b534-d8056c7d1089"
      },
      "execution_count": 27,
      "outputs": [
        {
          "output_type": "execute_result",
          "data": {
            "text/plain": [
              "3.141592653589793"
            ]
          },
          "metadata": {},
          "execution_count": 27
        }
      ]
    },
    {
      "cell_type": "code",
      "source": [
        "math.factorial(4)"
      ],
      "metadata": {
        "colab": {
          "base_uri": "https://localhost:8080/"
        },
        "id": "ylWnMxWP10L9",
        "outputId": "bcb74433-5d28-41dd-9e37-82593f6e32a5"
      },
      "execution_count": 28,
      "outputs": [
        {
          "output_type": "execute_result",
          "data": {
            "text/plain": [
              "24"
            ]
          },
          "metadata": {},
          "execution_count": 28
        }
      ]
    },
    {
      "cell_type": "code",
      "source": [
        "math.sqrt(9)"
      ],
      "metadata": {
        "colab": {
          "base_uri": "https://localhost:8080/"
        },
        "id": "VIOZqmqf10OR",
        "outputId": "36dbb057-eeec-4b4f-e358-a2e192290e71"
      },
      "execution_count": 29,
      "outputs": [
        {
          "output_type": "execute_result",
          "data": {
            "text/plain": [
              "3.0"
            ]
          },
          "metadata": {},
          "execution_count": 29
        }
      ]
    },
    {
      "cell_type": "code",
      "source": [
        "import random\n",
        "\n",
        "num = random.randint(1,100)\n",
        "num"
      ],
      "metadata": {
        "colab": {
          "base_uri": "https://localhost:8080/"
        },
        "id": "QXVw_ElW5-q2",
        "outputId": "099d7e81-cd9c-408f-cf73-895714e114ed"
      },
      "execution_count": 33,
      "outputs": [
        {
          "output_type": "execute_result",
          "data": {
            "text/plain": [
              "28"
            ]
          },
          "metadata": {},
          "execution_count": 33
        }
      ]
    },
    {
      "cell_type": "code",
      "source": [
        "import random as rnd\n",
        "\n",
        "listem = [\"Gul\", \"Papatya\",\"Orkide\"]\n",
        "\n",
        "rnd.choice(listem)"
      ],
      "metadata": {
        "colab": {
          "base_uri": "https://localhost:8080/",
          "height": 36
        },
        "id": "ld0y0l-i5-tU",
        "outputId": "702e1953-8c16-4638-dc9b-d5e2cf3f658a"
      },
      "execution_count": 39,
      "outputs": [
        {
          "output_type": "execute_result",
          "data": {
            "text/plain": [
              "'Orkide'"
            ],
            "application/vnd.google.colaboratory.intrinsic+json": {
              "type": "string"
            }
          },
          "metadata": {},
          "execution_count": 39
        }
      ]
    },
    {
      "cell_type": "code",
      "source": [
        "import numpy as np  # genel kullanim bu sekilde\n",
        "import pandas as pd"
      ],
      "metadata": {
        "id": "MU6HBUWQ5-vw"
      },
      "execution_count": null,
      "outputs": []
    },
    {
      "cell_type": "code",
      "source": [
        "from math import factorial, sqrt, log10, pi\n",
        "# Bu sekilde import edersek sdece kullanacagimiz kismini import etmis oluruz.\n",
        "# Ayni zamanda direk fonksiyonu modul ismini belirtmeden cagirabiliriz.\n",
        "\n",
        "# math.factorial() yazmadan sadece fonksiyonu cagirarak islem yapabiliriz.\n",
        "factorial(4)"
      ],
      "metadata": {
        "colab": {
          "base_uri": "https://localhost:8080/"
        },
        "id": "balk75Ju5-yO",
        "outputId": "12631dae-c217-4073-ded9-11c249f012e7"
      },
      "execution_count": 41,
      "outputs": [
        {
          "output_type": "execute_result",
          "data": {
            "text/plain": [
              "24"
            ]
          },
          "metadata": {},
          "execution_count": 41
        }
      ]
    },
    {
      "cell_type": "code",
      "source": [
        "pi"
      ],
      "metadata": {
        "colab": {
          "base_uri": "https://localhost:8080/"
        },
        "id": "LzBx_hVe5-0m",
        "outputId": "c1d3b267-3f6e-4094-87de-f353c973c330"
      },
      "execution_count": 42,
      "outputs": [
        {
          "output_type": "execute_result",
          "data": {
            "text/plain": [
              "3.141592653589793"
            ]
          },
          "metadata": {},
          "execution_count": 42
        }
      ]
    },
    {
      "cell_type": "code",
      "source": [
        "log10(1000)"
      ],
      "metadata": {
        "colab": {
          "base_uri": "https://localhost:8080/"
        },
        "id": "fCygXQ_r5-25",
        "outputId": "1a948ca2-ab65-4ab6-fecb-c21193557540"
      },
      "execution_count": 43,
      "outputs": [
        {
          "output_type": "execute_result",
          "data": {
            "text/plain": [
              "3.0"
            ]
          },
          "metadata": {},
          "execution_count": 43
        }
      ]
    },
    {
      "cell_type": "code",
      "source": [
        "sqrt(16)"
      ],
      "metadata": {
        "colab": {
          "base_uri": "https://localhost:8080/"
        },
        "id": "3HT1Gjqy10Qc",
        "outputId": "ae016e57-689d-4949-935e-77e9f8403610"
      },
      "execution_count": 44,
      "outputs": [
        {
          "output_type": "execute_result",
          "data": {
            "text/plain": [
              "4.0"
            ]
          },
          "metadata": {},
          "execution_count": 44
        }
      ]
    },
    {
      "cell_type": "code",
      "source": [
        "dir(math)"
      ],
      "metadata": {
        "colab": {
          "base_uri": "https://localhost:8080/"
        },
        "id": "w5HYAmegAau_",
        "outputId": "4f44ef5c-03e5-4812-c0de-e4dd05d7916f"
      },
      "execution_count": 45,
      "outputs": [
        {
          "output_type": "execute_result",
          "data": {
            "text/plain": [
              "['__doc__',\n",
              " '__loader__',\n",
              " '__name__',\n",
              " '__package__',\n",
              " '__spec__',\n",
              " 'acos',\n",
              " 'acosh',\n",
              " 'asin',\n",
              " 'asinh',\n",
              " 'atan',\n",
              " 'atan2',\n",
              " 'atanh',\n",
              " 'ceil',\n",
              " 'comb',\n",
              " 'copysign',\n",
              " 'cos',\n",
              " 'cosh',\n",
              " 'degrees',\n",
              " 'dist',\n",
              " 'e',\n",
              " 'erf',\n",
              " 'erfc',\n",
              " 'exp',\n",
              " 'expm1',\n",
              " 'fabs',\n",
              " 'factorial',\n",
              " 'floor',\n",
              " 'fmod',\n",
              " 'frexp',\n",
              " 'fsum',\n",
              " 'gamma',\n",
              " 'gcd',\n",
              " 'hypot',\n",
              " 'inf',\n",
              " 'isclose',\n",
              " 'isfinite',\n",
              " 'isinf',\n",
              " 'isnan',\n",
              " 'isqrt',\n",
              " 'lcm',\n",
              " 'ldexp',\n",
              " 'lgamma',\n",
              " 'log',\n",
              " 'log10',\n",
              " 'log1p',\n",
              " 'log2',\n",
              " 'modf',\n",
              " 'nan',\n",
              " 'nextafter',\n",
              " 'perm',\n",
              " 'pi',\n",
              " 'pow',\n",
              " 'prod',\n",
              " 'radians',\n",
              " 'remainder',\n",
              " 'sin',\n",
              " 'sinh',\n",
              " 'sqrt',\n",
              " 'tan',\n",
              " 'tanh',\n",
              " 'tau',\n",
              " 'trunc',\n",
              " 'ulp']"
            ]
          },
          "metadata": {},
          "execution_count": 45
        }
      ]
    },
    {
      "cell_type": "code",
      "source": [
        "import string"
      ],
      "metadata": {
        "id": "bHevOL3XAaxZ"
      },
      "execution_count": 52,
      "outputs": []
    },
    {
      "cell_type": "code",
      "source": [
        "string.punctuation"
      ],
      "metadata": {
        "colab": {
          "base_uri": "https://localhost:8080/",
          "height": 36
        },
        "id": "_OdUzHPQAazu",
        "outputId": "2394a050-cf3f-43c1-f323-080487933907"
      },
      "execution_count": 55,
      "outputs": [
        {
          "output_type": "execute_result",
          "data": {
            "text/plain": [
              "'!\"#$%&\\'()*+,-./:;<=>?@[\\\\]^_`{|}~'"
            ],
            "application/vnd.google.colaboratory.intrinsic+json": {
              "type": "string"
            }
          },
          "metadata": {},
          "execution_count": 55
        }
      ]
    },
    {
      "cell_type": "code",
      "source": [
        "string.ascii_lowercase"
      ],
      "metadata": {
        "colab": {
          "base_uri": "https://localhost:8080/",
          "height": 36
        },
        "id": "WvmB_hJPAa2U",
        "outputId": "dcd60a39-ab7d-4c17-8eb6-9dc93dda90c5"
      },
      "execution_count": 58,
      "outputs": [
        {
          "output_type": "execute_result",
          "data": {
            "text/plain": [
              "'abcdefghijklmnopqrstuvwxyz'"
            ],
            "application/vnd.google.colaboratory.intrinsic+json": {
              "type": "string"
            }
          },
          "metadata": {},
          "execution_count": 58
        }
      ]
    },
    {
      "cell_type": "code",
      "source": [
        "string.digits"
      ],
      "metadata": {
        "colab": {
          "base_uri": "https://localhost:8080/",
          "height": 36
        },
        "id": "bogEzBCrAa4M",
        "outputId": "3f05667b-3386-4deb-f697-4f648838f4cf"
      },
      "execution_count": 59,
      "outputs": [
        {
          "output_type": "execute_result",
          "data": {
            "text/plain": [
              "'0123456789'"
            ],
            "application/vnd.google.colaboratory.intrinsic+json": {
              "type": "string"
            }
          },
          "metadata": {},
          "execution_count": 59
        }
      ]
    },
    {
      "cell_type": "code",
      "source": [
        "'125'.isdigit()"
      ],
      "metadata": {
        "colab": {
          "base_uri": "https://localhost:8080/"
        },
        "id": "A6BNtREWzn7q",
        "outputId": "584a9562-bea7-43e3-b233-0ccde1d2cf36"
      },
      "execution_count": 60,
      "outputs": [
        {
          "output_type": "execute_result",
          "data": {
            "text/plain": [
              "True"
            ]
          },
          "metadata": {},
          "execution_count": 60
        }
      ]
    },
    {
      "cell_type": "code",
      "source": [
        "\"12a5\".isdigit()"
      ],
      "metadata": {
        "colab": {
          "base_uri": "https://localhost:8080/"
        },
        "id": "fqlb9phxzn9s",
        "outputId": "5df4f948-71f1-4968-9027-c0eabb773245"
      },
      "execution_count": 61,
      "outputs": [
        {
          "output_type": "execute_result",
          "data": {
            "text/plain": [
              "False"
            ]
          },
          "metadata": {},
          "execution_count": 61
        }
      ]
    },
    {
      "cell_type": "code",
      "source": [
        "\"Ⅳ\".isdigit()"
      ],
      "metadata": {
        "colab": {
          "base_uri": "https://localhost:8080/"
        },
        "id": "lyNNMgMgCB5S",
        "outputId": "94a2af62-3147-4d2a-ab5e-41098e20363b"
      },
      "execution_count": 62,
      "outputs": [
        {
          "output_type": "execute_result",
          "data": {
            "text/plain": [
              "False"
            ]
          },
          "metadata": {},
          "execution_count": 62
        }
      ]
    },
    {
      "cell_type": "code",
      "source": [
        "\"Ⅳ\".isnumeric()  # isdigit ten daha kapsamlidir.Farkli karakter setlerinide icerir."
      ],
      "metadata": {
        "colab": {
          "base_uri": "https://localhost:8080/"
        },
        "id": "wl4LILolCCch",
        "outputId": "53b8c7cd-0748-4496-df94-531e571993d5"
      },
      "execution_count": 63,
      "outputs": [
        {
          "output_type": "execute_result",
          "data": {
            "text/plain": [
              "True"
            ]
          },
          "metadata": {},
          "execution_count": 63
        }
      ]
    },
    {
      "cell_type": "code",
      "source": [
        "import datetime\n",
        "\n",
        "print(datetime.date.today())"
      ],
      "metadata": {
        "colab": {
          "base_uri": "https://localhost:8080/"
        },
        "id": "GVlKtKf9CCe8",
        "outputId": "9cea05bb-c7d0-460e-8f6d-81f962ae9183"
      },
      "execution_count": 66,
      "outputs": [
        {
          "output_type": "stream",
          "name": "stdout",
          "text": [
            "2023-12-23\n"
          ]
        }
      ]
    },
    {
      "cell_type": "code",
      "source": [
        "datetime.datetime.now()\n",
        "print(datetime.datetime.now())\n",
        "\n"
      ],
      "metadata": {
        "colab": {
          "base_uri": "https://localhost:8080/"
        },
        "id": "4txyQu6qCetb",
        "outputId": "5aedc28d-48dc-4cb0-cf6e-43ef9d0d11f9"
      },
      "execution_count": 75,
      "outputs": [
        {
          "output_type": "stream",
          "name": "stdout",
          "text": [
            "2023-12-23 09:41:44.493299\n"
          ]
        }
      ]
    },
    {
      "cell_type": "code",
      "source": [
        "from datetime import datetime\n",
        "\n",
        "def yas_hesapla(dogum_yili, dogum_ayi, dogum_gunu):\n",
        "  bugun = datetime.today()\n",
        "  yas = bugun.year - dogum_yili\n",
        "\n",
        "  if (dogum_ayi, dogum_gunu) < (bugun.month, bugun.day):\n",
        "    return yas\n",
        "  else:\n",
        "    return (yas - 1)\n",
        "\n",
        "\n",
        "\n"
      ],
      "metadata": {
        "id": "GL8kpfcbCev8"
      },
      "execution_count": 86,
      "outputs": []
    },
    {
      "cell_type": "code",
      "source": [
        "yas_hesapla(2000, 12, 5)"
      ],
      "metadata": {
        "colab": {
          "base_uri": "https://localhost:8080/"
        },
        "id": "9n_4hZahCe0a",
        "outputId": "405eb25d-23cc-407f-aa0f-06bd97000ba3"
      },
      "execution_count": 88,
      "outputs": [
        {
          "output_type": "execute_result",
          "data": {
            "text/plain": [
              "23"
            ]
          },
          "metadata": {},
          "execution_count": 88
        }
      ]
    },
    {
      "cell_type": "code",
      "source": [
        "yas_hesapla(1995, 6, 21)"
      ],
      "metadata": {
        "colab": {
          "base_uri": "https://localhost:8080/"
        },
        "id": "nwYayTFuCChe",
        "outputId": "0f8ffae3-1221-480e-e17c-501ab162bd19"
      },
      "execution_count": 89,
      "outputs": [
        {
          "output_type": "execute_result",
          "data": {
            "text/plain": [
              "28"
            ]
          },
          "metadata": {},
          "execution_count": 89
        }
      ]
    },
    {
      "cell_type": "code",
      "source": [
        "yas_hesapla(1995, 12, 29)"
      ],
      "metadata": {
        "colab": {
          "base_uri": "https://localhost:8080/"
        },
        "id": "l6GM0KuaCCj5",
        "outputId": "bc5c1a35-4886-43ae-9527-a1864180d7d7"
      },
      "execution_count": 90,
      "outputs": [
        {
          "output_type": "execute_result",
          "data": {
            "text/plain": [
              "27"
            ]
          },
          "metadata": {},
          "execution_count": 90
        }
      ]
    },
    {
      "cell_type": "code",
      "source": [
        "yas= input(\"Lutfen yil, ay, gun olarak aralara bosluk koyarak dogum tarihinizi giriniz. \")\n",
        "\n",
        "print(yas_hesapla(int(yas.split()[0]), int(yas.split()[1]), int(yas.split()[2])))\n",
        "\n",
        "\n",
        ""
      ],
      "metadata": {
        "colab": {
          "base_uri": "https://localhost:8080/"
        },
        "id": "5WywxH75CCmT",
        "outputId": "f96fd368-dc6e-40a0-9117-c1bdb25dbdad"
      },
      "execution_count": 92,
      "outputs": [
        {
          "output_type": "stream",
          "name": "stdout",
          "text": [
            "Lutfen yil, ay, gun olarak aralara bosluk koyarak dogum tarihinizi giriniz. 2000 5 12\n",
            "23\n"
          ]
        }
      ]
    },
    {
      "cell_type": "code",
      "source": [
        "import my_module\n",
        "\n",
        "my_module.topla(1,2,3)"
      ],
      "metadata": {
        "colab": {
          "base_uri": "https://localhost:8080/"
        },
        "id": "QU9lAFnaGR-z",
        "outputId": "be9bc017-2229-4615-9c39-d15e11d1ee8e"
      },
      "execution_count": 93,
      "outputs": [
        {
          "output_type": "execute_result",
          "data": {
            "text/plain": [
              "6"
            ]
          },
          "metadata": {},
          "execution_count": 93
        }
      ]
    },
    {
      "cell_type": "code",
      "source": [
        "import my_module as mdl\n",
        "\n",
        "mdl.topla(1,2,3)"
      ],
      "metadata": {
        "colab": {
          "base_uri": "https://localhost:8080/"
        },
        "id": "Q2YYt4jMOapt",
        "outputId": "c3c71ff8-5a11-4116-854f-40546e967ac9"
      },
      "execution_count": 95,
      "outputs": [
        {
          "output_type": "execute_result",
          "data": {
            "text/plain": [
              "6"
            ]
          },
          "metadata": {},
          "execution_count": 95
        }
      ]
    },
    {
      "cell_type": "code",
      "source": [
        "from my_module import topla\n",
        "\n",
        "topla(1,2,3)"
      ],
      "metadata": {
        "colab": {
          "base_uri": "https://localhost:8080/"
        },
        "id": "NHta3nEPKnJQ",
        "outputId": "0e4c0f49-deb3-401e-8ca8-a21bab8ec8cc"
      },
      "execution_count": 94,
      "outputs": [
        {
          "output_type": "execute_result",
          "data": {
            "text/plain": [
              "6"
            ]
          },
          "metadata": {},
          "execution_count": 94
        }
      ]
    },
    {
      "cell_type": "code",
      "source": [
        "from IPython.display import HTML\n",
        "\n",
        "display(HTML(\"<font color = 'red'>Galata<font color = 'yellow'>Saray \"))"
      ],
      "metadata": {
        "colab": {
          "base_uri": "https://localhost:8080/",
          "height": 34
        },
        "id": "wTecWtpXKnLs",
        "outputId": "4a9686cb-e6d1-4cc9-f73b-22e83527cf17"
      },
      "execution_count": 98,
      "outputs": [
        {
          "output_type": "display_data",
          "data": {
            "text/plain": [
              "<IPython.core.display.HTML object>"
            ],
            "text/html": [
              "<font color = 'red'>Galata<font color = 'yellow'>Saray "
            ]
          },
          "metadata": {}
        }
      ]
    },
    {
      "cell_type": "code",
      "source": [
        "display(HTML(\"<font color = 'yellow'>Fener<font color = 'blue'>bahce\"))"
      ],
      "metadata": {
        "colab": {
          "base_uri": "https://localhost:8080/",
          "height": 34
        },
        "id": "X-PrnRnsKnNY",
        "outputId": "2d793b16-758b-48a3-f38c-34f1ae5480a4"
      },
      "execution_count": 99,
      "outputs": [
        {
          "output_type": "display_data",
          "data": {
            "text/plain": [
              "<IPython.core.display.HTML object>"
            ],
            "text/html": [
              "<font color = 'yellow'>Fener<font color = 'blue'>bahce"
            ]
          },
          "metadata": {}
        }
      ]
    },
    {
      "cell_type": "code",
      "source": [
        "display(HTML(\"<font color = 'cyan'>Merhaba\"))"
      ],
      "metadata": {
        "colab": {
          "base_uri": "https://localhost:8080/",
          "height": 34
        },
        "id": "rOgBIahhGSBV",
        "outputId": "d96e820d-aa27-4b73-d29a-df362c058c29"
      },
      "execution_count": 102,
      "outputs": [
        {
          "output_type": "display_data",
          "data": {
            "text/plain": [
              "<IPython.core.display.HTML object>"
            ],
            "text/html": [
              "<font color = 'cyan'>Merhaba"
            ]
          },
          "metadata": {}
        }
      ]
    },
    {
      "cell_type": "code",
      "source": [
        "# olmayan bir kutuphaneyi once yuklemek gerekiyor. Asagidaki gibi yukleyebilirisinz.\n",
        "pip install pygame"
      ],
      "metadata": {
        "colab": {
          "base_uri": "https://localhost:8080/"
        },
        "id": "GuyfkYqTGSDu",
        "outputId": "59ade00a-3481-44c2-8eb4-6a45df98865a"
      },
      "execution_count": 103,
      "outputs": [
        {
          "output_type": "stream",
          "name": "stdout",
          "text": [
            "Requirement already satisfied: pygame in /usr/local/lib/python3.10/dist-packages (2.5.2)\n"
          ]
        }
      ]
    },
    {
      "cell_type": "code",
      "source": [
        "pip install numpy"
      ],
      "metadata": {
        "colab": {
          "base_uri": "https://localhost:8080/"
        },
        "id": "_2JTr20uGSF2",
        "outputId": "b5b56a12-c555-4a3d-8783-cd6c1bfc17eb"
      },
      "execution_count": 104,
      "outputs": [
        {
          "output_type": "stream",
          "name": "stdout",
          "text": [
            "Requirement already satisfied: numpy in /usr/local/lib/python3.10/dist-packages (1.23.5)\n"
          ]
        }
      ]
    },
    {
      "cell_type": "code",
      "source": [
        "print(\"\\U0001F642\")  # unicode 8 karakter oldugundan 8 e tamamlamak icin 3 tane sifir ekledikk."
      ],
      "metadata": {
        "colab": {
          "base_uri": "https://localhost:8080/"
        },
        "id": "Yp0dFb8pGSHm",
        "outputId": "6ac3b918-4490-470f-83bc-efa7cde49d60"
      },
      "execution_count": 105,
      "outputs": [
        {
          "output_type": "stream",
          "name": "stdout",
          "text": [
            "🙂\n"
          ]
        }
      ]
    },
    {
      "cell_type": "code",
      "source": [
        "print(\"\\U0001F64C\")"
      ],
      "metadata": {
        "colab": {
          "base_uri": "https://localhost:8080/"
        },
        "id": "Marm4NTITqEc",
        "outputId": "6bab0675-7a2f-430c-e1d9-81e3ec33522a"
      },
      "execution_count": 106,
      "outputs": [
        {
          "output_type": "stream",
          "name": "stdout",
          "text": [
            "🙌\n"
          ]
        }
      ]
    },
    {
      "cell_type": "code",
      "source": [
        "chr(0x1F64C)"
      ],
      "metadata": {
        "colab": {
          "base_uri": "https://localhost:8080/",
          "height": 36
        },
        "id": "3h7T1wV3Tw-4",
        "outputId": "359abe64-eb71-46f1-8d17-d3aec3c31422"
      },
      "execution_count": 108,
      "outputs": [
        {
          "output_type": "execute_result",
          "data": {
            "text/plain": [
              "'🙌'"
            ],
            "application/vnd.google.colaboratory.intrinsic+json": {
              "type": "string"
            }
          },
          "metadata": {},
          "execution_count": 108
        }
      ]
    },
    {
      "cell_type": "code",
      "source": [
        "print(chr(0x1F64C))"
      ],
      "metadata": {
        "colab": {
          "base_uri": "https://localhost:8080/"
        },
        "id": "y2v1CeTdTxBX",
        "outputId": "6292e438-d712-489a-e354-b332ff89a065"
      },
      "execution_count": 109,
      "outputs": [
        {
          "output_type": "stream",
          "name": "stdout",
          "text": [
            "🙌\n"
          ]
        }
      ]
    },
    {
      "cell_type": "code",
      "source": [],
      "metadata": {
        "id": "k2x8IfjTTxDr"
      },
      "execution_count": null,
      "outputs": []
    },
    {
      "cell_type": "code",
      "source": [],
      "metadata": {
        "id": "4yXyRLaITxFx"
      },
      "execution_count": null,
      "outputs": []
    },
    {
      "cell_type": "code",
      "source": [],
      "metadata": {
        "id": "BrHx3j82TxHu"
      },
      "execution_count": null,
      "outputs": []
    }
  ]
}