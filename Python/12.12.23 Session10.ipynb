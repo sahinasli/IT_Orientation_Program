{
  "nbformat": 4,
  "nbformat_minor": 0,
  "metadata": {
    "colab": {
      "provenance": []
    },
    "kernelspec": {
      "name": "python3",
      "display_name": "Python 3"
    },
    "language_info": {
      "name": "python"
    }
  },
  "cells": [
    {
      "cell_type": "code",
      "execution_count": 2,
      "metadata": {
        "colab": {
          "base_uri": "https://localhost:8080/"
        },
        "id": "lKb06QAB8paC",
        "outputId": "a45976a4-189b-42e9-b318-8b740a481714"
      },
      "outputs": [
        {
          "output_type": "stream",
          "name": "stdout",
          "text": [
            "You guaranteed the job!\n",
            "Hello world\n"
          ]
        }
      ],
      "source": [
        "course = \"Clarusway\"\n",
        "\n",
        "if course.lower() == \"clarusway\":\n",
        "  print(\"You guaranteed the job!\")\n",
        "else:\n",
        "  print(\"Think about it again\")\n",
        "\n",
        "print('Hello world')"
      ]
    },
    {
      "cell_type": "code",
      "source": [
        "num = int(input(\"Please enter a number: \"))\n",
        "\n",
        "if num % 2 == 0:\n",
        "  print(f\"{num} is even!\")\n",
        "else:\n",
        "  print(f\"{num} is odd!\")"
      ],
      "metadata": {
        "colab": {
          "base_uri": "https://localhost:8080/"
        },
        "id": "yfHTk7FP-jjB",
        "outputId": "159eb4e7-2c03-4fd6-cf8a-52237a6831b9"
      },
      "execution_count": 6,
      "outputs": [
        {
          "output_type": "stream",
          "name": "stdout",
          "text": [
            "Please enter a number: 15\n",
            "15 is odd!\n"
          ]
        }
      ]
    },
    {
      "cell_type": "code",
      "source": [
        "num = int(input(\"Please enter a number: \"))\n",
        "\n",
        "if num % 2 == 0:\n",
        "  print(num, \"is even!\")\n",
        "else:\n",
        "  print(num, \"is odd!\")"
      ],
      "metadata": {
        "colab": {
          "base_uri": "https://localhost:8080/"
        },
        "id": "wnNVQpCrFKwK",
        "outputId": "96ce5c91-6b26-4a10-fd42-4df2ba5a3f5d"
      },
      "execution_count": 10,
      "outputs": [
        {
          "output_type": "stream",
          "name": "stdout",
          "text": [
            "Please enter a number: 15\n",
            "15 is odd!\n"
          ]
        }
      ]
    },
    {
      "cell_type": "code",
      "source": [
        "num = int(input(\"Please enter a number: \"))\n",
        "if num % 2:  # num sayisi tek ise 2 ile bolumunden kalan 1 olacagindan num % 2 ifadesi True return eder. True return ettigi icinde if blogu calisir.\n",
        "  print(f\"{num} is odd!\")\n",
        "else:\n",
        "  print(f\"{num} is even!\")"
      ],
      "metadata": {
        "colab": {
          "base_uri": "https://localhost:8080/"
        },
        "id": "d8MyNEVjCX9e",
        "outputId": "7234134b-a0af-4ee8-ea37-249954b51409"
      },
      "execution_count": 9,
      "outputs": [
        {
          "output_type": "stream",
          "name": "stdout",
          "text": [
            "Please enter a number: 20\n",
            "20 is even!\n"
          ]
        }
      ]
    },
    {
      "cell_type": "code",
      "source": [
        "num = float(input(\"Please enter a number: \"))\n",
        "\n",
        "if num > 0:\n",
        "  print('Positive Number!')\n",
        "else:\n",
        "  print(\"Negative Number\")"
      ],
      "metadata": {
        "colab": {
          "base_uri": "https://localhost:8080/"
        },
        "id": "z_n4QhkCCX_h",
        "outputId": "7241a0a6-8acc-4248-84e3-236fd00f60b0"
      },
      "execution_count": 15,
      "outputs": [
        {
          "output_type": "stream",
          "name": "stdout",
          "text": [
            "Please enter a number: 12.25\n",
            "Positive Number!\n"
          ]
        }
      ]
    },
    {
      "cell_type": "code",
      "source": [
        "sayi_1 = float(input('1.Sayiyi giriniz: '))\n",
        "sayi_2 = float(input(\"2.Sayiyi giriniz: \"))\n",
        "\n",
        "if sayi_1 > sayi_2:\n",
        "  print(\"The large number is {}\".format(int(sayi_1)))\n",
        "else:\n",
        "    print(\"The large number is {}\".format(int(sayi_2)))"
      ],
      "metadata": {
        "colab": {
          "base_uri": "https://localhost:8080/"
        },
        "id": "vEsrsGCbFVaS",
        "outputId": "d90bbdb8-0ee8-407c-f647-c3e86fdf8034"
      },
      "execution_count": 6,
      "outputs": [
        {
          "output_type": "stream",
          "name": "stdout",
          "text": [
            "1.Sayiyi giriniz: 5\n",
            "2.Sayiyi giriniz: 8\n",
            "The large number is 8\n"
          ]
        }
      ]
    },
    {
      "cell_type": "code",
      "source": [
        "sayi_1 = float(input('1.Sayiyi giriniz: '))\n",
        "sayi_2 = float(input(\"2.Sayiyi giriniz: \"))\n",
        "\n",
        "if sayi_1 > sayi_2:\n",
        "  buyuk = sayi_1\n",
        "else:\n",
        "  buyuk = sayi_2\n",
        "\n",
        "\n",
        "print(\"The large number is\", buyuk)"
      ],
      "metadata": {
        "colab": {
          "base_uri": "https://localhost:8080/"
        },
        "id": "PJvVQ-nBFVcu",
        "outputId": "1cc63c34-7bee-4d2b-c015-d8092291a4b1"
      },
      "execution_count": 8,
      "outputs": [
        {
          "output_type": "stream",
          "name": "stdout",
          "text": [
            "1.Sayiyi giriniz: 20\n",
            "2.Sayiyi giriniz: 235\n",
            "The large number is 235.0\n"
          ]
        }
      ]
    },
    {
      "cell_type": "code",
      "source": [
        "bool_value = True\n",
        "\n",
        "if bool_value:\n",
        "  print(\"Yes\")\n",
        "else:\n",
        "  print(\"No\")"
      ],
      "metadata": {
        "colab": {
          "base_uri": "https://localhost:8080/"
        },
        "id": "ze6OEis_FVfD",
        "outputId": "8fd6631e-d507-4c4b-c026-096c60b92d7c"
      },
      "execution_count": 9,
      "outputs": [
        {
          "output_type": "stream",
          "name": "stdout",
          "text": [
            "Yes\n"
          ]
        }
      ]
    },
    {
      "cell_type": "code",
      "source": [
        "audience = \"baby\"\n",
        "\n",
        "if audience == \"kid\":\n",
        "\n",
        "    print(\"it is free to go to cinema\")\n",
        "elif audience == \"teen\":\n",
        "    print(\"discounted price!\")\n",
        "elif audience == \"adult\":\n",
        "    print(\"normal price\")\n",
        "else:\n",
        "    print(\"No such audience, stay at your home!\")"
      ],
      "metadata": {
        "colab": {
          "base_uri": "https://localhost:8080/"
        },
        "id": "qCcHCIrr-jlh",
        "outputId": "8d5158db-1b82-465c-de33-85a56c478c3d"
      },
      "execution_count": 11,
      "outputs": [
        {
          "output_type": "stream",
          "name": "stdout",
          "text": [
            "No such audience, stay at your home!\n"
          ]
        }
      ]
    },
    {
      "cell_type": "code",
      "source": [
        "audience = \"adult\"\n",
        "\n",
        "if audience == \"kid\":\n",
        "\n",
        "    print(\"it is free to go to cinema\")\n",
        "elif audience == \"teen\":\n",
        "    print(\"discounted price!\")\n",
        "elif audience == \"adult\":\n",
        "    print(\"normal price\")\n",
        "else:\n",
        "    print(\"No such audience, stay at your home!\")"
      ],
      "metadata": {
        "colab": {
          "base_uri": "https://localhost:8080/"
        },
        "id": "m4ttFcKTKszM",
        "outputId": "4d375a17-af78-4e54-d3a7-5c4fcb4f85af"
      },
      "execution_count": 12,
      "outputs": [
        {
          "output_type": "stream",
          "name": "stdout",
          "text": [
            "normal price\n"
          ]
        }
      ]
    },
    {
      "cell_type": "code",
      "source": [
        "num1 = int(input(\"Please enter first number: \"))\n",
        "num2 = int(input(\"Please enter second number: \"))\n",
        "num3 = int(input(\"Please enter third number: \"))\n",
        "\n",
        "if num1 >= num2 and num1 >= num3:\n",
        "  print(\"The large number is\", num1)\n",
        "elif num2 >= num1 and num2 >= num3:\n",
        "  print(\"The large number is\", num2)\n",
        "else:\n",
        "  print(\"The large number is\", num3)\n"
      ],
      "metadata": {
        "colab": {
          "base_uri": "https://localhost:8080/"
        },
        "id": "Fp8Y76T-Ks1r",
        "outputId": "c1b38546-01cb-432b-c171-fd71528b284c"
      },
      "execution_count": 15,
      "outputs": [
        {
          "output_type": "stream",
          "name": "stdout",
          "text": [
            "Please enter first number: 10\n",
            "Please enter second number: 15\n",
            "Please enter third number: 12\n",
            "The large number is 15\n"
          ]
        }
      ]
    },
    {
      "cell_type": "code",
      "source": [
        "num = float(input(\"Please enter a number: \"))\n",
        "\n",
        "if num > 0:\n",
        "  print(\"Positive Number!\")\n",
        "elif num < 0:\n",
        "  print(\"Negative Number!\")\n",
        "else:\n",
        "  print(\"Zero!\")"
      ],
      "metadata": {
        "colab": {
          "base_uri": "https://localhost:8080/"
        },
        "id": "jRfYPQHpKs4J",
        "outputId": "f63f7097-d9e1-4d09-c0ae-3bf5bb57bcf9"
      },
      "execution_count": 19,
      "outputs": [
        {
          "output_type": "stream",
          "name": "stdout",
          "text": [
            "Please enter a number: 0\n",
            "Zero!\n"
          ]
        }
      ]
    },
    {
      "cell_type": "code",
      "source": [
        "numbers = 1, 2, 3\n",
        "\n",
        "print(numbers)\n",
        "print(type(numbers))"
      ],
      "metadata": {
        "colab": {
          "base_uri": "https://localhost:8080/"
        },
        "id": "ANz9jmrN-jnq",
        "outputId": "e04022a2-5f70-4381-a3ad-aa2c25d09951"
      },
      "execution_count": 21,
      "outputs": [
        {
          "output_type": "stream",
          "name": "stdout",
          "text": [
            "(1, 2, 3)\n",
            "<class 'tuple'>\n"
          ]
        }
      ]
    },
    {
      "cell_type": "code",
      "source": [
        "audience_group = 'kid', 'teen', 'adult'\n",
        "\n",
        "audience = \"baby\"\n",
        "\n",
        "if audience in audience_group:\n",
        "  if audience == \"kid\":\n",
        "    print(\"it is free to go to cinema\")\n",
        "  elif audience == \"teen\":\n",
        "    print(\"discounted price!\")\n",
        "  else:\n",
        "    print(\"normal price\")\n",
        "else:\n",
        "    print(\"No such audience, stay at your home!\")"
      ],
      "metadata": {
        "colab": {
          "base_uri": "https://localhost:8080/"
        },
        "id": "WnRm5u6u-jp4",
        "outputId": "3c9cd252-42b4-4772-e5d1-2610ba096af4"
      },
      "execution_count": 23,
      "outputs": [
        {
          "output_type": "stream",
          "name": "stdout",
          "text": [
            "No such audience, stay at your home!\n"
          ]
        }
      ]
    },
    {
      "cell_type": "markdown",
      "source": [
        "**Task: Let’s write a program that asks you to enter your exam score and calculates the range in which your degree is based on your exam score.**\n",
        "<br>The output would be: e.g, **“Your degree is B+”**\n",
        "<br><br>95 and above ▶▶ “A+”\n",
        "<br>90-94 ▶▶ “A”\n",
        "<br>85-89 ▶▶ “B+”\n",
        "<br>80-84 ▶▶ “B”\n",
        "<br>79 and below ▶▶ “below B” or “B-”\n",
        "<br><br>**Use nested if statement!**"
      ],
      "metadata": {
        "id": "ZFXQirghWcky"
      }
    },
    {
      "cell_type": "code",
      "source": [
        "score = int(input(\"Please enter your exam score: \"))\n",
        "\n",
        "if score >= 90:\n",
        "  if score >= 95:\n",
        "    print(\"A+\")\n",
        "  else:\n",
        "    print(\"A\")\n",
        "elif score >= 80:\n",
        "  if score >= 85:\n",
        "    print(\"B+\")\n",
        "  else:\n",
        "    print(\"B\")\n",
        "else:\n",
        "  print(\"B-\")"
      ],
      "metadata": {
        "colab": {
          "base_uri": "https://localhost:8080/"
        },
        "id": "M_uJz0TZV71k",
        "outputId": "65222fea-a944-4b7f-c7df-a93b117363b1"
      },
      "execution_count": 28,
      "outputs": [
        {
          "output_type": "stream",
          "name": "stdout",
          "text": [
            "Please enter your exam score: 82\n",
            "B\n"
          ]
        }
      ]
    },
    {
      "cell_type": "code",
      "source": [
        "score = int(input(\"Please enter your exam score: \"))\n",
        "if 0 <= score <=100:\n",
        "  if score >= 90:\n",
        "    if score >= 95:\n",
        "      print(\"A+\")\n",
        "    else:\n",
        "      print(\"A\")\n",
        "  elif score >= 80:\n",
        "    if score >= 85:\n",
        "      print(\"B+\")\n",
        "    else:\n",
        "      print(\"B\")\n",
        "  else:\n",
        "    print(\"B-\")\n",
        "else:\n",
        "  print(\"You entered invalid exam score!\")\n",
        ""
      ],
      "metadata": {
        "colab": {
          "base_uri": "https://localhost:8080/"
        },
        "id": "nA7QuNBqV74G",
        "outputId": "66f7a415-196b-4b28-a9f6-d4185ef9cdf7"
      },
      "execution_count": 34,
      "outputs": [
        {
          "output_type": "stream",
          "name": "stdout",
          "text": [
            "Please enter your exam score: 105\n",
            "You entered invalid exam score!\n"
          ]
        }
      ]
    },
    {
      "cell_type": "markdown",
      "source": [
        "**[Python official documentation1 - More Flexible Loop Control:](https://peps.python.org/pep-0548/)**\n",
        "<br>**[Python official documentation2 - Enhenced while loop:](https://peps.python.org/pep-0315/)**\n",
        "<br>**[Python official documentation - Labeled \"break\" and \"continue\":](https://peps.python.org/pep-3136/)**\n",
        "<br>**[Link 4 - Loops in Python:](https://www.w3schools.com/python/python_for_loops.asp)**\n",
        "<br>**[Link 5 - Loops in Python:](https://www.geeksforgeeks.org/loops-in-python/)**\n",
        "<br>**[Link 6 - Loops :](https://www.learnpython.org/en/Loops)**\n",
        "<br>**[Link 7 - Nested Loops:](https://www.w3schools.com/python/gloss_python_for_nested.asp)**\n",
        "<br>**[Link 8 - Nested Loops:](https://pynative.com/python-nested-loops/)**\n"
      ],
      "metadata": {
        "id": "2ddZ-0A1hkFH"
      }
    },
    {
      "cell_type": "code",
      "source": [
        "number = 0\n",
        "\n",
        "while number < 6:\n",
        "  print(number)\n",
        "  number += 1\n"
      ],
      "metadata": {
        "colab": {
          "base_uri": "https://localhost:8080/"
        },
        "id": "E_E6ZtdkdO4W",
        "outputId": "8efda8a3-1fc0-44af-e9e0-264d3fde33f5"
      },
      "execution_count": 37,
      "outputs": [
        {
          "output_type": "stream",
          "name": "stdout",
          "text": [
            "0\n",
            "1\n",
            "2\n",
            "3\n",
            "4\n",
            "5\n"
          ]
        }
      ]
    },
    {
      "cell_type": "code",
      "source": [
        "6 < 6"
      ],
      "metadata": {
        "colab": {
          "base_uri": "https://localhost:8080/"
        },
        "id": "zyKHme45dO6p",
        "outputId": "12931d7d-efda-459b-a507-b940570570c1"
      },
      "execution_count": 38,
      "outputs": [
        {
          "output_type": "execute_result",
          "data": {
            "text/plain": [
              "False"
            ]
          },
          "metadata": {},
          "execution_count": 38
        }
      ]
    },
    {
      "cell_type": "code",
      "source": [
        "counter = 0\n",
        "\n",
        "while counter < 5:\n",
        "  print(\"I love you\")\n",
        "  counter += 1\n",
        "\n",
        "print(\"donguden cikti\")"
      ],
      "metadata": {
        "colab": {
          "base_uri": "https://localhost:8080/"
        },
        "id": "Z5W1M-TTdO9E",
        "outputId": "56fb1ef8-6c98-4e6e-84a9-56f0c80c722c"
      },
      "execution_count": 40,
      "outputs": [
        {
          "output_type": "stream",
          "name": "stdout",
          "text": [
            "I love you\n",
            "I love you\n",
            "I love you\n",
            "I love you\n",
            "I love you\n",
            "donguden cikti\n"
          ]
        }
      ]
    },
    {
      "cell_type": "code",
      "source": [
        "my_list = [\"a\", \"b\", \"c\", \"d\", \"e\"]\n",
        "a = 0\n",
        "while a < len(my_list):\n",
        "    print('square of {} is : {}'.format(a, a**2))\n",
        "    a += 1"
      ],
      "metadata": {
        "colab": {
          "base_uri": "https://localhost:8080/"
        },
        "id": "Br7k-1KkdO_H",
        "outputId": "9672e879-d890-4cea-cf47-22e77278bb91"
      },
      "execution_count": 42,
      "outputs": [
        {
          "output_type": "stream",
          "name": "stdout",
          "text": [
            "square of 0 is : 0\n",
            "square of 1 is : 1\n",
            "square of 2 is : 4\n",
            "square of 3 is : 9\n",
            "square of 4 is : 16\n"
          ]
        }
      ]
    },
    {
      "cell_type": "code",
      "source": [
        "sayi = 25\n",
        "\n",
        "anahtar = True\n",
        "\n",
        "while anahtar:\n",
        "  tahmin = int(input(\"Lutfen bir tahmin giriniz: \"))\n",
        "\n",
        "  if tahmin < sayi:\n",
        "    print(\"Lutfen daha buyuk bir tahmin yapiniz!\")\n",
        "  elif tahmin > sayi:\n",
        "    print(\"Lutfen daha kucuk bir sayi giriniz: \")\n",
        "  else:\n",
        "    print(\"Tebrikler! Buldunuz!\")\n",
        "    anahtar = False\n"
      ],
      "metadata": {
        "colab": {
          "base_uri": "https://localhost:8080/"
        },
        "id": "UTuQs8nsV78N",
        "outputId": "66dafd81-ade6-4c98-8957-8a19dee35693"
      },
      "execution_count": 44,
      "outputs": [
        {
          "output_type": "stream",
          "name": "stdout",
          "text": [
            "Lutfen bir tahmin giriniz: 30\n",
            "Lutfen daha kucuk bir sayi giriniz: \n",
            "Lutfen bir tahmin giriniz: 28\n",
            "Lutfen daha kucuk bir sayi giriniz: \n",
            "Lutfen bir tahmin giriniz: 17\n",
            "Lutfen daha buyuk bir tahmin yapiniz!\n",
            "Lutfen bir tahmin giriniz: 18\n",
            "Lutfen daha buyuk bir tahmin yapiniz!\n",
            "Lutfen bir tahmin giriniz: 25\n",
            "Tebrikler! Buldunuz!\n"
          ]
        }
      ]
    },
    {
      "cell_type": "code",
      "source": [
        "sayi = 25\n",
        "\n",
        "anahtar = True\n",
        "# break ile\n",
        "while anahtar:\n",
        "  tahmin = int(input(\"Lutfen bir tahmin giriniz: \"))\n",
        "\n",
        "  if tahmin < sayi:\n",
        "    print(\"Lutfen daha buyuk bir tahmin yapiniz!\")\n",
        "  elif tahmin > sayi:\n",
        "    print(\"Lutfen daha kucuk bir sayi giriniz: \")\n",
        "  else:\n",
        "    print(\"Tebrikler! Buldunuz!\")\n",
        "    break"
      ],
      "metadata": {
        "colab": {
          "base_uri": "https://localhost:8080/"
        },
        "id": "y3jOhKwYlJ8Y",
        "outputId": "50b7a210-7a50-4376-d106-d77213263ff8"
      },
      "execution_count": 45,
      "outputs": [
        {
          "output_type": "stream",
          "name": "stdout",
          "text": [
            "Lutfen bir tahmin giriniz: 17\n",
            "Lutfen daha buyuk bir tahmin yapiniz!\n",
            "Lutfen bir tahmin giriniz: 28\n",
            "Lutfen daha kucuk bir sayi giriniz: \n",
            "Lutfen bir tahmin giriniz: 25\n",
            "Tebrikler! Buldunuz!\n"
          ]
        }
      ]
    },
    {
      "cell_type": "code",
      "source": [
        "import random\n",
        "\n",
        "sayi = random.randint(1,50)\n",
        "\n",
        "print(sayi)\n",
        "\n",
        "anahtar = True\n",
        "# break ile\n",
        "while anahtar:\n",
        "  tahmin = int(input(\"Lutfen bir tahmin giriniz: \"))\n",
        "\n",
        "  if tahmin < sayi:\n",
        "    print(\"Lutfen daha buyuk bir tahmin yapiniz!\")\n",
        "  elif tahmin > sayi:\n",
        "    print(\"Lutfen daha kucuk bir sayi giriniz: \")\n",
        "  else:\n",
        "    print(\"Tebrikler! Buldunuz!\")\n",
        "    break"
      ],
      "metadata": {
        "colab": {
          "base_uri": "https://localhost:8080/"
        },
        "id": "8g_1sVZqlJ_F",
        "outputId": "8333521b-1a26-446b-9dda-8bfdf71d3ad3"
      },
      "execution_count": 48,
      "outputs": [
        {
          "output_type": "stream",
          "name": "stdout",
          "text": [
            "32\n",
            "Lutfen bir tahmin giriniz: 32\n",
            "Tebrikler! Buldunuz!\n"
          ]
        }
      ]
    },
    {
      "cell_type": "code",
      "source": [],
      "metadata": {
        "id": "xR73wKy5lKB0"
      },
      "execution_count": null,
      "outputs": []
    },
    {
      "cell_type": "code",
      "source": [],
      "metadata": {
        "id": "5AdpNZyzlKE2"
      },
      "execution_count": null,
      "outputs": []
    },
    {
      "cell_type": "code",
      "source": [],
      "metadata": {
        "id": "-lORlFFIV7-j"
      },
      "execution_count": null,
      "outputs": []
    },
    {
      "cell_type": "code",
      "source": [],
      "metadata": {
        "id": "KUrlaMfvV8Aq"
      },
      "execution_count": null,
      "outputs": []
    },
    {
      "cell_type": "code",
      "source": [],
      "metadata": {
        "id": "UeZ5ZJuGV8Ce"
      },
      "execution_count": null,
      "outputs": []
    },
    {
      "cell_type": "code",
      "source": [],
      "metadata": {
        "id": "3y0q4b0_-jsG"
      },
      "execution_count": null,
      "outputs": []
    }
  ]
}