{
  "nbformat": 4,
  "nbformat_minor": 0,
  "metadata": {
    "colab": {
      "provenance": []
    },
    "kernelspec": {
      "name": "python3",
      "display_name": "Python 3"
    },
    "language_info": {
      "name": "python"
    }
  },
  "cells": [
    {
      "cell_type": "code",
      "execution_count": null,
      "metadata": {
        "id": "-86NwxrHBRRn"
      },
      "outputs": [],
      "source": []
    },
    {
      "cell_type": "code",
      "source": [
        "print(\"Hello World!\")"
      ],
      "metadata": {
        "colab": {
          "base_uri": "https://localhost:8080/"
        },
        "id": "vvgMeSb5BUu5",
        "outputId": "f304b08d-9275-4eee-faaa-b189621ec790"
      },
      "execution_count": 1,
      "outputs": [
        {
          "output_type": "stream",
          "name": "stdout",
          "text": [
            "Hello World!\n"
          ]
        }
      ]
    },
    {
      "cell_type": "code",
      "source": [
        "print('Hello World!')"
      ],
      "metadata": {
        "colab": {
          "base_uri": "https://localhost:8080/"
        },
        "id": "vQCdysZJORrV",
        "outputId": "7749edb1-5cdd-4e0e-c4e4-23e4bb5e527c"
      },
      "execution_count": 2,
      "outputs": [
        {
          "output_type": "stream",
          "name": "stdout",
          "text": [
            "Hello World!\n"
          ]
        }
      ]
    },
    {
      "cell_type": "code",
      "source": [
        "print(\"Python programlama dilini ogreniyorum.\")"
      ],
      "metadata": {
        "colab": {
          "base_uri": "https://localhost:8080/"
        },
        "id": "WV1rHnxvBVAB",
        "outputId": "8b7238dc-48d7-4052-e577-a79db2d81a33"
      },
      "execution_count": 3,
      "outputs": [
        {
          "output_type": "stream",
          "name": "stdout",
          "text": [
            "Python programlama dilini ogreniyorum.\n"
          ]
        }
      ]
    },
    {
      "cell_type": "code",
      "source": [
        "print(\"hello world!\")\n",
        "print(\"Merhaba Dunya\")"
      ],
      "metadata": {
        "colab": {
          "base_uri": "https://localhost:8080/"
        },
        "id": "sImGvfbcBVSp",
        "outputId": "9e72855d-10b3-4f7f-97cb-df4f738706d6"
      },
      "execution_count": 4,
      "outputs": [
        {
          "output_type": "stream",
          "name": "stdout",
          "text": [
            "hello world!\n",
            "Merhaba Dunya\n"
          ]
        }
      ]
    },
    {
      "cell_type": "code",
      "source": [
        "print(\"Merhaba\")"
      ],
      "metadata": {
        "colab": {
          "base_uri": "https://localhost:8080/"
        },
        "id": "C07UrlPeRoix",
        "outputId": "62db150d-3310-45c2-df9e-869b61c0577e"
      },
      "execution_count": 6,
      "outputs": [
        {
          "output_type": "stream",
          "name": "stdout",
          "text": [
            "Merhaba\n"
          ]
        }
      ]
    },
    {
      "cell_type": "code",
      "source": [
        "print('Merhaba')"
      ],
      "metadata": {
        "colab": {
          "base_uri": "https://localhost:8080/"
        },
        "id": "CEcXbZJMRoli",
        "outputId": "1f73f545-8eb9-4746-8699-088adeb09a4d"
      },
      "execution_count": 8,
      "outputs": [
        {
          "output_type": "stream",
          "name": "stdout",
          "text": [
            "Merhaba\n"
          ]
        }
      ]
    },
    {
      "cell_type": "code",
      "source": [
        "Print(\"Merhaba\")  # Python programlama dili kucuk buyuk harf duyarliligi olan bir dil oldugu icin(case sensitive) hata aliriz."
      ],
      "metadata": {
        "colab": {
          "base_uri": "https://localhost:8080/",
          "height": 176
        },
        "id": "28ILpCQbRooA",
        "outputId": "5c8461c6-9a18-4c6c-d5f7-93264e3d7ea4"
      },
      "execution_count": 9,
      "outputs": [
        {
          "output_type": "error",
          "ename": "NameError",
          "evalue": "ignored",
          "traceback": [
            "\u001b[0;31m---------------------------------------------------------------------------\u001b[0m",
            "\u001b[0;31mNameError\u001b[0m                                 Traceback (most recent call last)",
            "\u001b[0;32m<ipython-input-9-95359118c6de>\u001b[0m in \u001b[0;36m<cell line: 1>\u001b[0;34m()\u001b[0m\n\u001b[0;32m----> 1\u001b[0;31m \u001b[0mPrint\u001b[0m\u001b[0;34m(\u001b[0m\u001b[0;34m\"Merhaba\"\u001b[0m\u001b[0;34m)\u001b[0m\u001b[0;34m\u001b[0m\u001b[0;34m\u001b[0m\u001b[0m\n\u001b[0m",
            "\u001b[0;31mNameError\u001b[0m: name 'Print' is not defined"
          ]
        }
      ]
    },
    {
      "cell_type": "code",
      "source": [
        "print('Merhab\")"
      ],
      "metadata": {
        "colab": {
          "base_uri": "https://localhost:8080/",
          "height": 141
        },
        "id": "JEGQz-_eS-Gu",
        "outputId": "29756580-2cf1-4c83-9d4b-d887dc5b38d5"
      },
      "execution_count": 10,
      "outputs": [
        {
          "output_type": "error",
          "ename": "SyntaxError",
          "evalue": "ignored",
          "traceback": [
            "\u001b[0;36m  File \u001b[0;32m\"<ipython-input-10-f36b1f98fcaa>\"\u001b[0;36m, line \u001b[0;32m1\u001b[0m\n\u001b[0;31m    print('Merhab\")\u001b[0m\n\u001b[0m          ^\u001b[0m\n\u001b[0;31mSyntaxError\u001b[0m\u001b[0;31m:\u001b[0m unterminated string literal (detected at line 1)\n"
          ]
        }
      ]
    },
    {
      "cell_type": "code",
      "source": [
        "print(Hello World!)"
      ],
      "metadata": {
        "colab": {
          "base_uri": "https://localhost:8080/",
          "height": 141
        },
        "id": "I_bJro64S-JK",
        "outputId": "6ad2d1ef-2be8-4d01-c285-31cfa0b1b186"
      },
      "execution_count": 11,
      "outputs": [
        {
          "output_type": "error",
          "ename": "SyntaxError",
          "evalue": "ignored",
          "traceback": [
            "\u001b[0;36m  File \u001b[0;32m\"<ipython-input-11-898d2b40ca9e>\"\u001b[0;36m, line \u001b[0;32m1\u001b[0m\n\u001b[0;31m    print(Hello World!)\u001b[0m\n\u001b[0m          ^\u001b[0m\n\u001b[0;31mSyntaxError\u001b[0m\u001b[0;31m:\u001b[0m invalid syntax. Perhaps you forgot a comma?\n"
          ]
        }
      ]
    },
    {
      "cell_type": "code",
      "source": [
        "print('Ben bugun Python ogrenmeye basladim.')"
      ],
      "metadata": {
        "colab": {
          "base_uri": "https://localhost:8080/"
        },
        "id": "SnepHEdqS-Lt",
        "outputId": "1192c199-d83a-49a8-93e2-fb163d257e82"
      },
      "execution_count": 12,
      "outputs": [
        {
          "output_type": "stream",
          "name": "stdout",
          "text": [
            "Ben bugun Python ogrenmeye basladim.\n"
          ]
        }
      ]
    },
    {
      "cell_type": "code",
      "source": [
        "print(\"Ben bugun Python ogrenmeye basladim.\")"
      ],
      "metadata": {
        "colab": {
          "base_uri": "https://localhost:8080/"
        },
        "id": "LHNn2VeGS-Ns",
        "outputId": "30d7e515-e3b0-4e25-e721-b940412031f6"
      },
      "execution_count": 13,
      "outputs": [
        {
          "output_type": "stream",
          "name": "stdout",
          "text": [
            "Ben bugun Python ogrenmeye basladim.\n"
          ]
        }
      ]
    },
    {
      "cell_type": "code",
      "source": [
        "print('I'm Great!')"
      ],
      "metadata": {
        "colab": {
          "base_uri": "https://localhost:8080/",
          "height": 141
        },
        "id": "ATw5Hgt3Roql",
        "outputId": "71496ef5-0bbf-4c4e-b86b-a4fc95d70ccb"
      },
      "execution_count": 14,
      "outputs": [
        {
          "output_type": "error",
          "ename": "SyntaxError",
          "evalue": "ignored",
          "traceback": [
            "\u001b[0;36m  File \u001b[0;32m\"<ipython-input-14-79f54e8b7b1e>\"\u001b[0;36m, line \u001b[0;32m1\u001b[0m\n\u001b[0;31m    print('I'm Great!')\u001b[0m\n\u001b[0m                     ^\u001b[0m\n\u001b[0;31mSyntaxError\u001b[0m\u001b[0;31m:\u001b[0m unterminated string literal (detected at line 1)\n"
          ]
        }
      ]
    },
    {
      "cell_type": "code",
      "source": [
        "print(\"I'm Great!\")"
      ],
      "metadata": {
        "colab": {
          "base_uri": "https://localhost:8080/"
        },
        "id": "GY-vR-ScU9xH",
        "outputId": "cc36f820-6e96-4198-d69d-e6b460a10603"
      },
      "execution_count": 15,
      "outputs": [
        {
          "output_type": "stream",
          "name": "stdout",
          "text": [
            "I'm Great!\n"
          ]
        }
      ]
    },
    {
      "cell_type": "code",
      "source": [
        "print('''Türkiye'nin başkenti Ankara'dır.''')"
      ],
      "metadata": {
        "colab": {
          "base_uri": "https://localhost:8080/"
        },
        "id": "0Cis62qdU9zh",
        "outputId": "6d6a1402-013e-453f-e3eb-2dbea5140373"
      },
      "execution_count": 16,
      "outputs": [
        {
          "output_type": "stream",
          "name": "stdout",
          "text": [
            "Türkiye'nin başkenti Ankara'dır.\n"
          ]
        }
      ]
    },
    {
      "cell_type": "code",
      "source": [
        "print(\"\"\"Istanbul'un gunu \"pazartesi\" gunudur.\"\"\")"
      ],
      "metadata": {
        "id": "w6JnwCimU92B"
      },
      "execution_count": 15,
      "outputs": []
    },
    {
      "cell_type": "code",
      "source": [
        "print(\"Istanbul'un gunu \"pazartesi\" gunudur.\")"
      ],
      "metadata": {
        "colab": {
          "base_uri": "https://localhost:8080/",
          "height": 141
        },
        "id": "KhFN7Lh5U94g",
        "outputId": "948b4066-40e7-4569-dd97-1abf4778ba25"
      },
      "execution_count": 17,
      "outputs": [
        {
          "output_type": "error",
          "ename": "SyntaxError",
          "evalue": "ignored",
          "traceback": [
            "\u001b[0;36m  File \u001b[0;32m\"<ipython-input-17-fdede698a627>\"\u001b[0;36m, line \u001b[0;32m1\u001b[0m\n\u001b[0;31m    print(\"Istanbul'un gunu \"pazartesi\" gunudur.\")\u001b[0m\n\u001b[0m          ^\u001b[0m\n\u001b[0;31mSyntaxError\u001b[0m\u001b[0;31m:\u001b[0m invalid syntax. Perhaps you forgot a comma?\n"
          ]
        }
      ]
    },
    {
      "cell_type": "code",
      "source": [
        "print(\"\"\"Istanbul'un gunu \"pazartesi\" gunudur.\"\"\")"
      ],
      "metadata": {
        "colab": {
          "base_uri": "https://localhost:8080/"
        },
        "id": "kNs7NSH2aXyZ",
        "outputId": "18b8b372-00b6-419c-dab1-fca13594a9f9"
      },
      "execution_count": 18,
      "outputs": [
        {
          "output_type": "stream",
          "name": "stdout",
          "text": [
            "Istanbul'un gunu \"pazartesi\" gunudur.\n"
          ]
        }
      ]
    },
    {
      "cell_type": "code",
      "source": [
        "print(\"Türkiye'nin\n",
        "başkenti\n",
        "Ankara'dır.\")"
      ],
      "metadata": {
        "colab": {
          "base_uri": "https://localhost:8080/",
          "height": 141
        },
        "id": "N5QqhFB_aX1A",
        "outputId": "b9c8c871-1c06-4356-939a-49f1de0ce1b7"
      },
      "execution_count": 19,
      "outputs": [
        {
          "output_type": "error",
          "ename": "SyntaxError",
          "evalue": "ignored",
          "traceback": [
            "\u001b[0;36m  File \u001b[0;32m\"<ipython-input-19-f176dbf65226>\"\u001b[0;36m, line \u001b[0;32m1\u001b[0m\n\u001b[0;31m    print(\"Türkiye'nin\u001b[0m\n\u001b[0m          ^\u001b[0m\n\u001b[0;31mSyntaxError\u001b[0m\u001b[0;31m:\u001b[0m unterminated string literal (detected at line 1)\n"
          ]
        }
      ]
    },
    {
      "cell_type": "code",
      "source": [
        "print(\"\"\"\n",
        "Türkiye'nin\n",
        "başkenti\n",
        "Ankara'dır.\"\"\")"
      ],
      "metadata": {
        "colab": {
          "base_uri": "https://localhost:8080/"
        },
        "id": "fMkF94pQaX3u",
        "outputId": "9ed63a38-7538-44c4-94bf-5556077f01c2"
      },
      "execution_count": 20,
      "outputs": [
        {
          "output_type": "stream",
          "name": "stdout",
          "text": [
            "\n",
            "Türkiye'nin \n",
            "başkenti \n",
            "Ankara'dır.\n"
          ]
        }
      ]
    },
    {
      "cell_type": "code",
      "source": [
        "print(\"Türkiye'nin \")\n",
        "print(\"başkenti\")\n",
        "print(\"Ankara'dır.\")"
      ],
      "metadata": {
        "colab": {
          "base_uri": "https://localhost:8080/"
        },
        "id": "AcIUSYxEaX6c",
        "outputId": "c5476d78-30cd-42f8-b148-18c76f0b4a23"
      },
      "execution_count": 22,
      "outputs": [
        {
          "output_type": "stream",
          "name": "stdout",
          "text": [
            "Türkiye'nin \n",
            "başkenti\n",
            "Ankara'dır.\n"
          ]
        }
      ]
    },
    {
      "cell_type": "code",
      "source": [
        "print(\"\"\"1234567890*-\"*/=-+., '^+%&/()=?|  _½§{#$}'\"\"\")"
      ],
      "metadata": {
        "colab": {
          "base_uri": "https://localhost:8080/"
        },
        "id": "3aPQ3XbHaX8i",
        "outputId": "43eb2f31-34d6-4478-c309-546bd9fe5e45"
      },
      "execution_count": 23,
      "outputs": [
        {
          "output_type": "stream",
          "name": "stdout",
          "text": [
            "1234567890*-\"*/=-+., '^+%&/()=?|  _½§{#$}'\n"
          ]
        }
      ]
    },
    {
      "cell_type": "code",
      "source": [
        "print(\"\"\"Istanbul'un gunu\n",
        "\"pazartesi\" gunudur.\n",
        "\"\"\")\n"
      ],
      "metadata": {
        "colab": {
          "base_uri": "https://localhost:8080/"
        },
        "id": "RSU1qOG6chSD",
        "outputId": "3cbd4420-40d8-4069-9b89-617253bc7476"
      },
      "execution_count": 27,
      "outputs": [
        {
          "output_type": "stream",
          "name": "stdout",
          "text": [
            "Istanbul'un gunu \n",
            "\"pazartesi\" gunudur.\n",
            "\n"
          ]
        }
      ]
    },
    {
      "cell_type": "code",
      "source": [
        "print('3.14')"
      ],
      "metadata": {
        "colab": {
          "base_uri": "https://localhost:8080/"
        },
        "id": "TGxcJykzchUv",
        "outputId": "e3613328-92a5-4bef-b0d4-1c89f4f09fd6"
      },
      "execution_count": 28,
      "outputs": [
        {
          "output_type": "stream",
          "name": "stdout",
          "text": [
            "3.14\n"
          ]
        }
      ]
    },
    {
      "cell_type": "code",
      "source": [
        "print(3.14)"
      ],
      "metadata": {
        "colab": {
          "base_uri": "https://localhost:8080/"
        },
        "id": "u2-qbxYpchXk",
        "outputId": "0043d495-7ae3-422d-ba14-8ffaa1fc6768"
      },
      "execution_count": 29,
      "outputs": [
        {
          "output_type": "stream",
          "name": "stdout",
          "text": [
            "3.14\n"
          ]
        }
      ]
    },
    {
      "cell_type": "code",
      "source": [
        "print(type('3.14'))\n",
        "print(type(3.14))"
      ],
      "metadata": {
        "colab": {
          "base_uri": "https://localhost:8080/"
        },
        "id": "2f4505qschaM",
        "outputId": "5b8d47cd-9036-4e3e-a01c-a09908b496e5"
      },
      "execution_count": 30,
      "outputs": [
        {
          "output_type": "stream",
          "name": "stdout",
          "text": [
            "<class 'str'>\n",
            "<class 'float'>\n"
          ]
        }
      ]
    },
    {
      "cell_type": "code",
      "source": [
        "print(5)\n",
        "print('5')"
      ],
      "metadata": {
        "colab": {
          "base_uri": "https://localhost:8080/"
        },
        "id": "dpdm9Fi8chc5",
        "outputId": "b8a4a2f2-f926-414f-8c43-01b83cd04412"
      },
      "execution_count": 32,
      "outputs": [
        {
          "output_type": "stream",
          "name": "stdout",
          "text": [
            "5\n",
            "5\n"
          ]
        }
      ]
    },
    {
      "cell_type": "code",
      "source": [
        "print(type(5))\n",
        "print(type('5'))"
      ],
      "metadata": {
        "colab": {
          "base_uri": "https://localhost:8080/"
        },
        "id": "snmcWy7IchfR",
        "outputId": "280340fc-f963-4b9d-b3e5-ee9a019a6aa4"
      },
      "execution_count": 33,
      "outputs": [
        {
          "output_type": "stream",
          "name": "stdout",
          "text": [
            "<class 'int'>\n",
            "<class 'str'>\n"
          ]
        }
      ]
    },
    {
      "cell_type": "code",
      "source": [
        "print('Merhaba')\n",
        "print('Dunya!')"
      ],
      "metadata": {
        "colab": {
          "base_uri": "https://localhost:8080/"
        },
        "id": "UJXMJ292gTBK",
        "outputId": "1ffaf0b4-6082-44e0-bf29-e42610bd6afb"
      },
      "execution_count": 35,
      "outputs": [
        {
          "output_type": "stream",
          "name": "stdout",
          "text": [
            "Merhaba\n",
            "Dunya!\n"
          ]
        }
      ]
    },
    {
      "cell_type": "code",
      "source": [
        "print('Merhaba')\n",
        "print()  # bu sekilde parametresiz ici bos print fonksiyonu bos satir ekler.\n",
        "print('Dunya!')"
      ],
      "metadata": {
        "colab": {
          "base_uri": "https://localhost:8080/"
        },
        "id": "ZxpnuapfeGoE",
        "outputId": "e7265617-73d9-4b48-cffb-49cd89a3adce"
      },
      "execution_count": 34,
      "outputs": [
        {
          "output_type": "stream",
          "name": "stdout",
          "text": [
            "Merhaba\n",
            "\n",
            "Dunya!\n"
          ]
        }
      ]
    },
    {
      "cell_type": "code",
      "source": [
        "print('Merhaba')\n",
        "print('')\n",
        "print()\n",
        "print('Dunya!')"
      ],
      "metadata": {
        "colab": {
          "base_uri": "https://localhost:8080/"
        },
        "id": "c4jt0X8zeGqZ",
        "outputId": "db96b6c1-353b-4cb3-8fb7-8a5cb06a7f8c"
      },
      "execution_count": 37,
      "outputs": [
        {
          "output_type": "stream",
          "name": "stdout",
          "text": [
            "Merhaba\n",
            "\n",
            "\n",
            "Dunya!\n"
          ]
        }
      ]
    },
    {
      "cell_type": "code",
      "source": [
        "print('Merhaba')\n",
        "print('''')\n",
        "print()\n",
        "print('Dunya!')"
      ],
      "metadata": {
        "colab": {
          "base_uri": "https://localhost:8080/",
          "height": 141
        },
        "id": "YCLIzfeWeGs4",
        "outputId": "05343e27-cd42-4009-ad30-1c0a60ea9310"
      },
      "execution_count": 44,
      "outputs": [
        {
          "output_type": "error",
          "ename": "SyntaxError",
          "evalue": "ignored",
          "traceback": [
            "\u001b[0;36m  File \u001b[0;32m\"<ipython-input-44-a78f3d1b42de>\"\u001b[0;36m, line \u001b[0;32m2\u001b[0m\n\u001b[0;31m    print('''')\u001b[0m\n\u001b[0m          ^\u001b[0m\n\u001b[0;31mSyntaxError\u001b[0m\u001b[0;31m:\u001b[0m incomplete input\n"
          ]
        }
      ]
    },
    {
      "cell_type": "code",
      "source": [
        "print('Hello''')"
      ],
      "metadata": {
        "colab": {
          "base_uri": "https://localhost:8080/"
        },
        "id": "VhD_sqxkeGvR",
        "outputId": "8469e595-4425-4402-fc72-5668e4e74ed8"
      },
      "execution_count": 43,
      "outputs": [
        {
          "output_type": "stream",
          "name": "stdout",
          "text": [
            "Hello\n"
          ]
        }
      ]
    },
    {
      "cell_type": "code",
      "source": [
        "print(\"\"\"Istanbul'un gunu \"pazartesi\" gunudur.\"\"\")\n"
      ],
      "metadata": {
        "colab": {
          "base_uri": "https://localhost:8080/"
        },
        "id": "ZWE6xw5ViaoC",
        "outputId": "a119e853-5291-4346-9360-5127e950e335"
      },
      "execution_count": 46,
      "outputs": [
        {
          "output_type": "stream",
          "name": "stdout",
          "text": [
            "Istanbul'un gunu \"pazartesi\" gunudur.\n"
          ]
        }
      ]
    },
    {
      "cell_type": "code",
      "source": [
        "print(\"Istanbul'un gunu \\\"pazartesi\\\" gunudur.\")"
      ],
      "metadata": {
        "colab": {
          "base_uri": "https://localhost:8080/"
        },
        "id": "1q35RdGsibhJ",
        "outputId": "cc4b91cb-fc80-4401-c0cd-f50a271b5022"
      },
      "execution_count": 47,
      "outputs": [
        {
          "output_type": "stream",
          "name": "stdout",
          "text": [
            "Istanbul'un gunu \"pazartesi\" gunudur.\n"
          ]
        }
      ]
    },
    {
      "cell_type": "code",
      "source": [
        "print('I\\'m Greate!')"
      ],
      "metadata": {
        "colab": {
          "base_uri": "https://localhost:8080/"
        },
        "id": "-xjlOAoEibjy",
        "outputId": "98d73dde-3f1b-49c1-bb72-95ecba79ddaf"
      },
      "execution_count": 49,
      "outputs": [
        {
          "output_type": "stream",
          "name": "stdout",
          "text": [
            "I'm Greate!\n"
          ]
        }
      ]
    },
    {
      "cell_type": "code",
      "source": [
        "print('Merhaba\\nDunya')  # \\n new line. yeni satira gec,"
      ],
      "metadata": {
        "colab": {
          "base_uri": "https://localhost:8080/"
        },
        "id": "rygJsdX5ibmX",
        "outputId": "f270045f-dfd8-4f76-972a-dcd090b3c0f4"
      },
      "execution_count": 50,
      "outputs": [
        {
          "output_type": "stream",
          "name": "stdout",
          "text": [
            "Merhaba\n",
            "Dunya\n"
          ]
        }
      ]
    },
    {
      "cell_type": "code",
      "source": [
        "print('Benim adim Ali\\nYasim 25')"
      ],
      "metadata": {
        "colab": {
          "base_uri": "https://localhost:8080/"
        },
        "id": "SC4lgf3Oibow",
        "outputId": "30b2ca42-4c25-45ac-e0fa-a13aff99b80b"
      },
      "execution_count": 51,
      "outputs": [
        {
          "output_type": "stream",
          "name": "stdout",
          "text": [
            "Benim adim Ali\n",
            "Yasim 25\n"
          ]
        }
      ]
    },
    {
      "cell_type": "code",
      "source": [
        "print('Merhba\\tdunya')  # bir tab saga kaydirir.(4 space)"
      ],
      "metadata": {
        "colab": {
          "base_uri": "https://localhost:8080/"
        },
        "id": "6Fz8072OibrE",
        "outputId": "06c9baaf-5620-46a6-9651-8ddda567d68c"
      },
      "execution_count": 53,
      "outputs": [
        {
          "output_type": "stream",
          "name": "stdout",
          "text": [
            "Merhba\tdunya\n"
          ]
        }
      ]
    },
    {
      "cell_type": "code",
      "source": [
        "print('Merhba\\t\\t\\t\\tdunya')"
      ],
      "metadata": {
        "colab": {
          "base_uri": "https://localhost:8080/"
        },
        "id": "iYUh_AiFibtL",
        "outputId": "30fe7931-8419-4813-f791-f2709c46e19a"
      },
      "execution_count": 54,
      "outputs": [
        {
          "output_type": "stream",
          "name": "stdout",
          "text": [
            "Merhba\t\t\t\tdunya\n"
          ]
        }
      ]
    },
    {
      "cell_type": "code",
      "source": [
        "# yorum satiri (72 karakter)"
      ],
      "metadata": {
        "id": "BfDHPdPLk0Ms"
      },
      "execution_count": null,
      "outputs": []
    },
    {
      "cell_type": "code",
      "source": [
        "# yorum satiridir."
      ],
      "metadata": {
        "id": "5sJf3Z8Bk0PX"
      },
      "execution_count": null,
      "outputs": []
    },
    {
      "cell_type": "code",
      "source": [],
      "metadata": {
        "id": "aEQEy9-Ek0SA"
      },
      "execution_count": null,
      "outputs": []
    },
    {
      "cell_type": "code",
      "source": [],
      "metadata": {
        "id": "mww2bEDSk0Ua"
      },
      "execution_count": null,
      "outputs": []
    }
  ]
}