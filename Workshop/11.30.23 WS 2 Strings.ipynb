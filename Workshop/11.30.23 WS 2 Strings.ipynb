{
  "cells": [
    {
      "cell_type": "markdown",
      "metadata": {
        "id": "zuFtuNREiQNT"
      },
      "source": [
        "Given the code below, insert the correct negative index on line 3 in order to get the last character in the string."
      ]
    },
    {
      "cell_type": "code",
      "execution_count": null,
      "metadata": {
        "id": "uRlA3IPQiQNV"
      },
      "outputs": [],
      "source": [
        "my_string = \"In 2010, someone paid 10k Bitcoin for two pizzas.\"\n",
        "\n",
        "print(my_string[])"
      ]
    },
    {
      "cell_type": "markdown",
      "metadata": {
        "id": "ohL7h4kqiQNW"
      },
      "source": [
        "<p>Given the code below, insert the correct positive index on line 3 in order to return the comma character from the string.</p>"
      ]
    },
    {
      "cell_type": "code",
      "execution_count": null,
      "metadata": {
        "id": "QFUGjEEUiQNW"
      },
      "outputs": [],
      "source": [
        "my_string = \"In 2010, someone paid 10k Bitcoin for two pizzas.\"\n",
        "\n",
        "print(my_string[])"
      ]
    },
    {
      "cell_type": "markdown",
      "metadata": {
        "id": "6vujaBwviQNW"
      },
      "source": [
        "<p>Given the code below, insert the correct negative index on line 3 in order to return the <strong>w </strong>character from the string.</p>"
      ]
    },
    {
      "cell_type": "code",
      "execution_count": null,
      "metadata": {
        "id": "jxTSHedViQNX"
      },
      "outputs": [],
      "source": [
        "my_string = \"In 2010, someone paid 10k Bitcoin for two pizzas.\"\n",
        "\n",
        "print(my_string[])"
      ]
    },
    {
      "cell_type": "markdown",
      "metadata": {
        "id": "pCHg9TMYiQNX"
      },
      "source": [
        "<p>Given the code below, insert the correct method on line 3 in order to return the index of the <strong>B </strong>character in the string.</p>"
      ]
    },
    {
      "cell_type": "code",
      "execution_count": null,
      "metadata": {
        "id": "9y42uWauiQNX"
      },
      "outputs": [],
      "source": [
        "my_string = \"In 2010, someone paid 10k Bitcoin for two pizzas.\"\n",
        "\n",
        "print(my_string.)"
      ]
    },
    {
      "cell_type": "markdown",
      "metadata": {
        "id": "BmNYCAWfiQNX"
      },
      "source": [
        "<p>Given the code below, insert the correct method on line 3 in order to return the number of occurrences of the letter <strong>o </strong>in the string.</p>"
      ]
    },
    {
      "cell_type": "code",
      "execution_count": null,
      "metadata": {
        "id": "PckLE_xXiQNX"
      },
      "outputs": [],
      "source": [
        "my_string = \"In 2010, someone paid 10k Bitcoin for two pizzas.\"  # 'o' karakteri dizede kac kere geciyor.\n",
        "\n",
        "print(my_string.)"
      ]
    },
    {
      "cell_type": "markdown",
      "metadata": {
        "id": "NX1ZbRRSiQNY"
      },
      "source": [
        "<p>Given the code below, insert the correct method on line 3 in order to convert all letters in the string to uppercase.</p>"
      ]
    },
    {
      "cell_type": "code",
      "execution_count": null,
      "metadata": {
        "id": "88kwP1zxiQNY"
      },
      "outputs": [],
      "source": [
        "my_string = \"In 2010, someone paid 10k Bitcoin for two pizzas.\" # tum harfleri buyuk harf olarak degistirin.\n",
        "\n",
        "print(my_string.)"
      ]
    },
    {
      "cell_type": "markdown",
      "metadata": {
        "id": "6bd37CkMiQNY"
      },
      "source": [
        "<p>Given the code below, insert the correct method on line 3 in order to get the index at which the substring <strong>Bitcoin </strong>starts.</p>"
      ]
    },
    {
      "cell_type": "code",
      "execution_count": null,
      "metadata": {
        "id": "NIjsh2NDiQNY"
      },
      "outputs": [],
      "source": [
        "my_string = \"In 2010, someone paid 10k Bitcoin for two pizzas.\" # 'Bitcoin' alt dizesinin hangi indekste oldugunu gosteren metodu girin.\n",
        "\n",
        "print(my_string.)"
      ]
    },
    {
      "cell_type": "markdown",
      "metadata": {
        "id": "q9iM8hICiQNY"
      },
      "source": [
        "<p>Given the code below, insert the correct method on line 3 in order to check of the string starts with the letter <strong>X</strong>.</p>"
      ]
    },
    {
      "cell_type": "code",
      "execution_count": null,
      "metadata": {
        "id": "g-38-pn_iQNY"
      },
      "outputs": [],
      "source": [
        "my_string = \"In 2010, someone paid 10k Bitcoin for two pizzas.\" # Bu dize 'X' karakter' ile mi basliyor?\n",
        "\n",
        "print(my_string.)"
      ]
    },
    {
      "cell_type": "markdown",
      "metadata": {
        "id": "8SgkOvAaiQNZ"
      },
      "source": [
        "<p>Given the code below, insert the correct method on line 3 in order to convert all uppercase letters to lowercase and all lowercase letters to uppercase.</p>"
      ]
    },
    {
      "cell_type": "code",
      "execution_count": null,
      "metadata": {
        "id": "kYHlnsbHiQNZ"
      },
      "outputs": [],
      "source": [
        "my_string = \"In 2010, someone paid 10k Bitcoin for two pizzas.\" # Dizedeki buyuk harfleri kucuk, kucuk harfleri de buyuk yapan metodu uygulayiniz.\n",
        "\n",
        "print(my_string.)"
      ]
    },
    {
      "cell_type": "markdown",
      "metadata": {
        "id": "Zxu08BdTiQNZ"
      },
      "source": [
        "<p>Given the code below, insert the correct method on line 3 in order to remove all spaces (single Space characters from the keyboard) from the string.</p>"
      ]
    },
    {
      "cell_type": "code",
      "execution_count": null,
      "metadata": {
        "id": "L_fdI4D_iQNZ"
      },
      "outputs": [],
      "source": [
        "my_string = \"In 2010, someone paid 10k Bitcoin for two pizzas.\" # Dizedeki bosluk karakterlerini kaldiriniz.\n",
        "\n",
        "print(my_string.)"
      ]
    },
    {
      "cell_type": "markdown",
      "metadata": {
        "id": "0opsylFoiQNZ"
      },
      "source": [
        "<p>Given the code below, insert the correct method on line 3 in order to replace all the occurrences of letter <strong>i </strong>with the substring <strong>btc</strong>.</p>"
      ]
    },
    {
      "cell_type": "code",
      "execution_count": null,
      "metadata": {
        "id": "tTAnknOxiQNZ"
      },
      "outputs": [],
      "source": [
        "my_string = \"In 2010, someone paid 10k Bitcoin for two pizzas.\" # Dizedeki 'i' karakterklerini 'btc' karakteri ile degistiriniz.\n",
        "\n",
        "print(my_string.)"
      ]
    },
    {
      "cell_type": "markdown",
      "metadata": {
        "id": "zxx0Ab6UiQNZ"
      },
      "source": [
        "<p>Given the code below, insert the correct method on line 3 in order to split the entire string in two parts, using the comma as a delimiter.</p>"
      ]
    },
    {
      "cell_type": "code",
      "execution_count": null,
      "metadata": {
        "id": "R1XWGHlsiQNZ"
      },
      "outputs": [],
      "source": [
        "my_string = \"In 2010, someone paid 10k Bitcoin for two pizzas.\" # Dizeyi virgul karakterinden itibaren iki ayri parcaya bolunuz. (!)\n",
        "\n",
        "print(my_string.)"
      ]
    },
    {
      "cell_type": "markdown",
      "metadata": {
        "id": "OVaSSyPdiQNa"
      },
      "source": [
        "<p>Given the code below, insert the correct method on line 3 in order to join the characters of the string using the <strong>&amp; </strong>symbol as a delimiter.</p>"
      ]
    },
    {
      "cell_type": "code",
      "execution_count": null,
      "metadata": {
        "id": "czzj2KVdiQNa"
      },
      "outputs": [],
      "source": [
        "my_string = \"In 2010, someone paid 10k Bitcoin for two pizzas.\"  # Ayrac olarak '&' kullan ve dizedeki tum karakterleri birlestir.\n",
        "\n",
        "print()"
      ]
    },
    {
      "cell_type": "markdown",
      "metadata": {
        "id": "3-SH8mt7iQNa"
      },
      "source": [
        "<p>Given the code below, insert the correct code on line 4 in order to concatenate <strong>my_string</strong> with the following string:</p><code>my_other_string = \"Poor guy!\"</code>"
      ]
    },
    {
      "cell_type": "code",
      "execution_count": null,
      "metadata": {
        "id": "w2crDoGPiQNa"
      },
      "outputs": [],
      "source": [
        "my_string = \"In 2010, someone paid 10k Bitcoin for two pizzas.\" # Verilen iki stringi birlestir.\n",
        "my_other_string = \"Poor guy!\"\n",
        "\n",
        "print()"
      ]
    },
    {
      "cell_type": "markdown",
      "metadata": {
        "id": "ljCVhBquiQNa"
      },
      "source": [
        "<p>Given the code below, insert the correct method on line 3 in order to convert the first letter of each word in the string to uppercase.</p>"
      ]
    },
    {
      "cell_type": "code",
      "execution_count": null,
      "metadata": {
        "id": "ZAV_agRKiQNa"
      },
      "outputs": [],
      "source": [
        "my_string = \"In 2010, someone paid 10k Bitcoin for two pizzas.\" # Dizedeki her kelimenin ilk harfini buyuk yapan metodu uygula.\n",
        "\n",
        "print(my_string.)"
      ]
    },
    {
      "cell_type": "markdown",
      "metadata": {
        "id": "Q2kdCMkDiQNa"
      },
      "source": [
        "<p>Given the code below, use string formatting with the <strong>format()</strong> method on line 3 to map the values of <strong>2010</strong>, <strong>10k </strong>and <strong>Bitcoin </strong>to the corresponding formatting operators.</p>"
      ]
    },
    {
      "cell_type": "code",
      "execution_count": null,
      "metadata": {
        "id": "xTflOZOLiQNa"
      },
      "outputs": [],
      "source": [
        "my_string = \"In {}, someone paid {} {} for two pizzas.\" # Verilen degerleri karsiligi gelen yerlere format metodu ile yerlestirin. Pozitif indeks ile.\n",
        "\n",
        "print()"
      ]
    },
    {
      "cell_type": "markdown",
      "metadata": {
        "id": "oesynFNMiQNb"
      },
      "source": [
        "<p>Given the code below, use slicing and insert the correct code on line 3 in order to return the substring <strong>2010 </strong>from the string. Use positive indexes!</p>"
      ]
    },
    {
      "cell_type": "code",
      "execution_count": null,
      "metadata": {
        "id": "3z7EXSU2iQNb"
      },
      "outputs": [],
      "source": [
        "my_string = \"In 2010, someone paid 10k Bitcoin for two pizzas.\" # 2010'u slice ile indeksleyin ve pozitif indeks kullanin.\n",
        "\n",
        "print()"
      ]
    },
    {
      "cell_type": "markdown",
      "metadata": {
        "id": "BhPyxJ5tiQNb"
      },
      "source": [
        "<p>Given the code below, use slicing and insert the correct code on line 3 in order to return the substring <strong>Bitcoin </strong>from the string. Use negative indexes!</p>"
      ]
    },
    {
      "cell_type": "code",
      "execution_count": null,
      "metadata": {
        "id": "BRLArOlbiQNb"
      },
      "outputs": [],
      "source": [
        "my_string = \"In 2010, someone paid 10k Bitcoin for two pizzas.\" # 'Bitcoin' dizesini negatif indeks ile slicelayin.\n",
        "\n",
        "print()"
      ]
    },
    {
      "cell_type": "markdown",
      "metadata": {
        "id": "mtlX0WmsiQNb"
      },
      "source": [
        "<p>Given the code below, use slicing and insert the correct code on line 3 in order to return the first 12 characters in the string. Use a single, positive index!</p>"
      ]
    },
    {
      "cell_type": "code",
      "execution_count": null,
      "metadata": {
        "id": "j8fx3L37iQNb"
      },
      "outputs": [],
      "source": [
        "my_string = \"In 2010, someone paid 10k Bitcoin for two pizzas.\" # Tek bir pozitif indeks kullanarak ilk 12 karakteri slicelayin.\n",
        "\n",
        "print()"
      ]
    },
    {
      "cell_type": "markdown",
      "metadata": {
        "id": "XB8PzWrqiQNb"
      },
      "source": [
        "<p>Given the code below, use slicing and insert the correct code on line 3 in order to return the last 9 characters of the string. Use a single, negative index!</p>"
      ]
    },
    {
      "cell_type": "code",
      "execution_count": null,
      "metadata": {
        "id": "kV3EGp0giQNc"
      },
      "outputs": [],
      "source": [
        "my_string = \"In 2010, someone paid 10k Bitcoin for two pizzas.\" # Negatif indeks kullanarak dizenin son 9 karakterini slicelayin.\n",
        "\n",
        "print()"
      ]
    },
    {
      "cell_type": "markdown",
      "metadata": {
        "id": "5epp4Gm9iQNc"
      },
      "source": [
        "<p>Given the code below, use slicing and insert the correct code on line 3 in order to return the entire string in reversed order.</p>"
      ]
    },
    {
      "cell_type": "code",
      "execution_count": null,
      "metadata": {
        "id": "g_EQ_m-QiQNc"
      },
      "outputs": [],
      "source": [
        "my_string = \"In 2010, someone paid 10k Bitcoin for two pizzas.\" # Tum dizeyi ters yazdirin.\n",
        "\n",
        "\n",
        "print()"
      ]
    },
    {
      "cell_type": "markdown",
      "metadata": {
        "id": "btNIlh5ziQNc"
      },
      "source": [
        "<p>Given the code below, use slicing and insert the correct code on line 3 in order to return every 7th character of the string, starting with the first character.</p><p>The final result should be <code>I,n top</code></p>"
      ]
    },
    {
      "cell_type": "code",
      "execution_count": null,
      "metadata": {
        "id": "_CkW89WdiQNc"
      },
      "outputs": [],
      "source": [
        "my_string = \"In 2010, someone paid 10k Bitcoin for two pizzas.\" # Ilk karakterden baslayarak her 7 karakterde de bir gelen degeri yazdirin.\n",
        "\n",
        "print()"
      ]
    },
    {
      "cell_type": "markdown",
      "metadata": {
        "id": "Tp-LtX_AiQNc"
      },
      "source": [
        "<p>Given the code below, use slicing and insert the correct code on line 3 in order to return the string except the first 10 characters. Use a single, positive index!</p>"
      ]
    },
    {
      "cell_type": "code",
      "execution_count": null,
      "metadata": {
        "id": "ltNAMp2piQNd"
      },
      "outputs": [],
      "source": [
        "my_string = \"In 2010, someone paid 10k Bitcoin for two pizzas.\" # Dizeyi ilk 10 karakteri haric yazdirin ve tek bir pozitif indeks kullanin.\n",
        "\n",
        "print()"
      ]
    },
    {
      "cell_type": "markdown",
      "metadata": {
        "id": "kI2ta4BHiQNd"
      },
      "source": [
        "<p>Given the code below, use slicing and insert the correct code on line 3 in order to return the string except the last 4 characters. Use a single, negative index!</p>"
      ]
    },
    {
      "cell_type": "code",
      "execution_count": null,
      "metadata": {
        "id": "VZO9YqP7iQNd"
      },
      "outputs": [],
      "source": [
        "my_string = \"In 2010, someone paid 10k Bitcoin for two pizzas.\" # Dizeyi son 4 karakter haric yazdirin ve negatif indeks kullanin.\n",
        "\n",
        "print()"
      ]
    }
  ],
  "metadata": {
    "interpreter": {
      "hash": "468f25ad0239460415b7e6b7483d5c8f7213894121f6fb96c4cb6ef93fffe534"
    },
    "kernelspec": {
      "display_name": "Python 3.9.6 64-bit",
      "language": "python",
      "name": "python3"
    },
    "language_info": {
      "codemirror_mode": {
        "name": "ipython",
        "version": 3
      },
      "file_extension": ".py",
      "mimetype": "text/x-python",
      "name": "python",
      "nbconvert_exporter": "python",
      "pygments_lexer": "ipython3",
      "version": "3.9.6"
    },
    "orig_nbformat": 4,
    "colab": {
      "provenance": []
    }
  },
  "nbformat": 4,
  "nbformat_minor": 0
}