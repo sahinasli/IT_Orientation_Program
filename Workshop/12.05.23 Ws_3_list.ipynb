{
  "cells": [
    {
      "cell_type": "markdown",
      "metadata": {
        "id": "sBzbB0_d66JV"
      },
      "source": [
        "<p>Given the code below, use the correct method on line 3 in order to find out the number of elements in <strong>my_list</strong>.</p>"
      ]
    },
    {
      "cell_type": "code",
      "execution_count": null,
      "metadata": {
        "id": "E--fXtXX66Jf"
      },
      "outputs": [],
      "source": [
        "my_list = [10, 10.5, 20, 30, 'Python', 'Java', 'Ruby']\n",
        "\n",
        "char =\n",
        "\n",
        "print(char)"
      ]
    },
    {
      "cell_type": "markdown",
      "metadata": {
        "id": "w3jpYTuz66Jf"
      },
      "source": [
        "<p>Given the code below, use the correct code on line 3 in order to remove the element of <strong>my_list</strong> located at index 5.</p>"
      ]
    },
    {
      "cell_type": "code",
      "execution_count": null,
      "metadata": {
        "id": "hRDwbl6c66Jg"
      },
      "outputs": [],
      "source": [
        "my_list = [10, 10.5, 20, 30, 'Python', 'Java', 'Ruby']\n",
        "\n",
        "my_list.\n",
        "\n",
        "print(my_list)"
      ]
    },
    {
      "cell_type": "markdown",
      "metadata": {
        "id": "UQmt8D0066Jg"
      },
      "source": [
        "<p>Given the code below, use the correct method on line 3 in order to add the element <strong>'C++' </strong>at the end of <strong>my_list</strong>.</p>"
      ]
    },
    {
      "cell_type": "code",
      "execution_count": null,
      "metadata": {
        "id": "lhRt0gj466Jg"
      },
      "outputs": [],
      "source": [
        "my_list = [10, 10.5, 20, 30, 'Python', 'Java', 'Ruby']\n",
        "\n",
        "my_list.\n",
        "\n",
        "print(my_list)"
      ]
    },
    {
      "cell_type": "markdown",
      "metadata": {
        "id": "19db8eH-66Jg"
      },
      "source": [
        "<p>Given the code below, use the correct method on line 3 in order to remove the element <strong>30 </strong>from <strong>my_list</strong>.</p>"
      ]
    },
    {
      "cell_type": "code",
      "execution_count": null,
      "metadata": {
        "id": "1FLqDx8S66Jg"
      },
      "outputs": [],
      "source": [
        "my_list = [10, 10.5, 20, 30, 'Python', 'Java', 'Ruby']\n",
        "\n",
        "my_list.\n",
        "\n",
        "print(my_list)"
      ]
    },
    {
      "cell_type": "markdown",
      "metadata": {
        "id": "-Kvn8CnQ66Jg"
      },
      "source": [
        "<p>Given the code below, use the correct method on line 3 in order to return the index of the element <strong>10.5 </strong>in <strong>my_list</strong>.</p>"
      ]
    },
    {
      "cell_type": "code",
      "execution_count": null,
      "metadata": {
        "id": "ibOop3Bl66Jh"
      },
      "outputs": [],
      "source": [
        "my_list = [10, 10.5, 20, 30, 'Python', 'Java', 'Ruby']\n",
        "\n",
        "index = my_list.\n",
        "\n",
        "print(index)"
      ]
    },
    {
      "cell_type": "markdown",
      "metadata": {
        "id": "97l36rAR66Jh"
      },
      "source": [
        "<p>Given the code below, use the correct method on line 3 in order to insert the element <strong>77 </strong>at index 4 in <strong>my_list</strong>.</p>"
      ]
    },
    {
      "cell_type": "code",
      "execution_count": null,
      "metadata": {
        "id": "IaOLRdaE66Jh"
      },
      "outputs": [],
      "source": [
        "my_list = [10, 10.5, 20, 30, 'Python', 'Java', 'Ruby']\n",
        "\n",
        "my_list.\n",
        "\n",
        "print(my_list)"
      ]
    },
    {
      "cell_type": "markdown",
      "metadata": {
        "id": "4iL8QPZW66Jh"
      },
      "source": [
        "<p>Given the code below, use the correct method on line 3 in order to concatenate <strong>my_list</strong> with <strong>[100, 101, 102]</strong>, by adding the latter at the end of <strong>my_list</strong>.</p>"
      ]
    },
    {
      "cell_type": "code",
      "execution_count": null,
      "metadata": {
        "id": "HU2200IC66Jh"
      },
      "outputs": [],
      "source": [
        "my_list = [10, 10.5, 20, 30, 'Python', 'Java', 'Ruby']\n",
        "\n",
        "my_list.\n",
        "\n",
        "print(my_list)"
      ]
    },
    {
      "cell_type": "markdown",
      "metadata": {
        "id": "vXqbuBVw66Jh"
      },
      "source": [
        "<p>Given the code below, use the correct method on line 3 in order to find out how many times does the element <strong>20 </strong>occur in <strong>my_list</strong>.</p>"
      ]
    },
    {
      "cell_type": "code",
      "execution_count": null,
      "metadata": {
        "id": "0kQ_W-nq66Ji"
      },
      "outputs": [],
      "source": [
        "my_list = [10, 10.5, 20, 30, 'Python', 'Java', 'Ruby']\n",
        "\n",
        "howmany = my_list.\n",
        "\n",
        "print(howmany)"
      ]
    },
    {
      "cell_type": "markdown",
      "metadata": {
        "id": "5szxFxIH66Ji"
      },
      "source": [
        "<p>Given the code below, use the correct function on line 3 in order to sort the elements of <strong>my_list</strong> in ascending order.</p>"
      ]
    },
    {
      "cell_type": "code",
      "execution_count": null,
      "metadata": {
        "id": "YynJ0cYS66Ji"
      },
      "outputs": [],
      "source": [
        "my_list = [10, 10.5, 20, 30, 25.6, 19.25, 11.01, 29.99]\n",
        "\n",
        "asc =\n",
        "\n",
        "print(asc)"
      ]
    },
    {
      "cell_type": "markdown",
      "metadata": {
        "id": "IrCR1gWF66Ji"
      },
      "source": [
        "<p>Given the code below, use the correct function (and argument) on line 3 in order to sort the elements of <strong>my_list</strong> in descending order.</p>"
      ]
    },
    {
      "cell_type": "code",
      "execution_count": null,
      "metadata": {
        "id": "q7G_Wl4D66Ji"
      },
      "outputs": [],
      "source": [
        "my_list = [10, 10.5, 20, 30, 25.6, 19.25, 11.01, 29.99]\n",
        "\n",
        "asc =\n",
        "\n",
        "print(asc)"
      ]
    },
    {
      "cell_type": "markdown",
      "metadata": {
        "id": "3W4eIP9p66Ji"
      },
      "source": [
        "<p>Given the code below, use the correct function on line 3 in order to find out the smallest number in <strong>my_list</strong>.</p>"
      ]
    },
    {
      "cell_type": "code",
      "execution_count": null,
      "metadata": {
        "id": "TGuLFNhA66Ji"
      },
      "outputs": [],
      "source": [
        "my_list = [10, 10.5, 20, 30, 25.6, 19.25, 11.01, 29.99]\n",
        "\n",
        "small =\n",
        "\n",
        "print(small)"
      ]
    },
    {
      "cell_type": "markdown",
      "metadata": {
        "id": "ehrfDLOE66Ji"
      },
      "source": [
        "<p>Given the code below, use the correct function on line 3 in order to find out the largest number in <strong>my_list</strong>.</p>"
      ]
    },
    {
      "cell_type": "code",
      "execution_count": null,
      "metadata": {
        "id": "g6uE2kQO66Jj"
      },
      "outputs": [],
      "source": [
        "my_list = [10, 10.5, 20, 30, 25.6, 19.25, 11.01, 29.99]\n",
        "\n",
        "large =\n",
        "\n",
        "print(large)"
      ]
    },
    {
      "cell_type": "markdown",
      "metadata": {
        "id": "qB9FXnea66Jj"
      },
      "source": [
        "<p>Given the code below, use the correct function on line 3 in order to get the sum of all the elements of <strong>my_list</strong>.</p>"
      ]
    },
    {
      "cell_type": "code",
      "execution_count": null,
      "metadata": {
        "id": "0S6r1hKm66Jj"
      },
      "outputs": [],
      "source": [
        "my_list = [10, 10.5, 20, 30, 25.6, 19.25, 11.01, 29.99]\n",
        "\n",
        "add =\n",
        "\n",
        "print(add)"
      ]
    },
    {
      "cell_type": "markdown",
      "metadata": {
        "id": "B6ofdhM466Jj"
      },
      "source": [
        "<p>Given the code below, use the correct method on line 3 in order to delete all the elements from <strong>my_list</strong> and obtain an empty list.</p>"
      ]
    },
    {
      "cell_type": "code",
      "execution_count": null,
      "metadata": {
        "id": "9RJmfyi-66Jj"
      },
      "outputs": [],
      "source": [
        "my_list = [10, 10.5, 20, 30, 25.6, 19.25, 11.01, 29.99]\n",
        "\n",
        "my_list.\n",
        "\n",
        "print(my_list)"
      ]
    },
    {
      "cell_type": "markdown",
      "metadata": {
        "id": "3p7ONNxY66Jj"
      },
      "source": [
        "<p>Given the code below, use the correct operators and parentheses on line 3 in order to add the elements of <strong>[30.01, 30.02, 30.03] </strong>to <strong>my_list</strong> and multiply the resulting list by <strong>2</strong>.</p>"
      ]
    },
    {
      "cell_type": "code",
      "execution_count": null,
      "metadata": {
        "id": "aAqO5FkO66Jj"
      },
      "outputs": [],
      "source": [
        "my_list = [10, 10.5, 20, 30, 25.6, 19.25, 11.01, 29.99]\n",
        "\n",
        "add = my_list [30.01, 30.02, 30.03] 2\n",
        "\n",
        "print(add)"
      ]
    },
    {
      "cell_type": "markdown",
      "metadata": {
        "id": "2xmWezER66Jj"
      },
      "source": [
        "<p>Given the code below, use the correct code on line 3 in order to return the element <strong>20 </strong>from <strong>my_list</strong> based on its index.</p>"
      ]
    },
    {
      "cell_type": "code",
      "execution_count": null,
      "metadata": {
        "id": "sZ9OWjQb66Jj"
      },
      "outputs": [],
      "source": [
        "my_list = [10, 10.5, 20, 30, 'Python', 'Java', 'Ruby']\n",
        "\n",
        "element =\n",
        "\n",
        "print(element)"
      ]
    },
    {
      "cell_type": "markdown",
      "metadata": {
        "id": "ZfcGUp_766Jj"
      },
      "source": [
        "<p>Given the code below, use the correct code on line 3 in order to return the element <strong>Java </strong>from <strong>my_list</strong> based on its index (negative).</p>"
      ]
    },
    {
      "cell_type": "code",
      "execution_count": null,
      "metadata": {
        "id": "EoT4muvy66Jk"
      },
      "outputs": [],
      "source": [
        "my_list = [10, 10.5, 20, 30, 'Python', 'Java', 'Ruby']\n",
        "\n",
        "element =\n",
        "\n",
        "print(element)"
      ]
    },
    {
      "cell_type": "markdown",
      "metadata": {
        "id": "-JOvJtgO66Jk"
      },
      "source": [
        "<p>Given the code below, use the correct code on line 3 in order to return a slice made of <strong>[30, 'Python', 'Java'] </strong>from <strong>my_list</strong> based on positive indexes.</p>"
      ]
    },
    {
      "cell_type": "code",
      "execution_count": null,
      "metadata": {
        "id": "JA6Q3AoO66Jk"
      },
      "outputs": [],
      "source": [
        "my_list = [10, 10.5, 20, 30, 'Python', 'Java', 'Ruby']\n",
        "\n",
        "my_slice =\n",
        "\n",
        "print(my_slice)"
      ]
    },
    {
      "cell_type": "markdown",
      "metadata": {
        "id": "aHKvJm8A66Jk"
      },
      "source": [
        "<p>Given the code below, use the correct code on line 3 in order to return a slice made of <strong>[30, 'Python', 'Java'] </strong>from <strong>my_list</strong> based on negative indexes.</p>"
      ]
    },
    {
      "cell_type": "code",
      "execution_count": null,
      "metadata": {
        "id": "qnYVm03o66Jk"
      },
      "outputs": [],
      "source": [
        "my_list = [10, 10.5, 20, 30, 'Python', 'Java', 'Ruby']\n",
        "\n",
        "my_slice =\n",
        "\n",
        "print(my_slice)"
      ]
    },
    {
      "cell_type": "markdown",
      "metadata": {
        "id": "GXmBPl5y66Jk"
      },
      "source": [
        "<p>Given the code below, use the correct code on line 3 in order to return <strong>my_list</strong> except the first 3 elements, using a single, positive index.</p>"
      ]
    },
    {
      "cell_type": "code",
      "execution_count": null,
      "metadata": {
        "id": "ibgWDL1e66Jo"
      },
      "outputs": [],
      "source": [
        "my_list = [10, 10.5, 20, 30, 'Python', 'Java', 'Ruby']\n",
        "\n",
        "my_slice =\n",
        "\n",
        "print(my_slice) #[30, 'Python', 'Java', 'Ruby']"
      ]
    },
    {
      "cell_type": "markdown",
      "metadata": {
        "id": "tmfgzhjf66Jo"
      },
      "source": [
        "<p>Given the code below, use the correct code on line 3 in order to return <strong>my_list</strong> except the last 4 elements, using a single, negative index.</p>"
      ]
    },
    {
      "cell_type": "code",
      "execution_count": null,
      "metadata": {
        "id": "k052YBYl66Jo"
      },
      "outputs": [],
      "source": [
        "my_list = [10, 10.5, 20, 30, 'Python', 'Java', 'Ruby']\n",
        "\n",
        "my_slice =\n",
        "\n",
        "print(my_slice) #[10, 10.5, 20]"
      ]
    },
    {
      "cell_type": "markdown",
      "metadata": {
        "id": "Kh32afWf66Jo"
      },
      "source": [
        "<p>Given the code below, use the correct code on line 3 in order to return <strong>my_list</strong> except the first 3 elements, using a single, negative index.</p>"
      ]
    },
    {
      "cell_type": "code",
      "execution_count": null,
      "metadata": {
        "id": "idHQGaBA66Jo"
      },
      "outputs": [],
      "source": [
        "my_list = [10, 10.5, 20, 30, 'Python', 'Java', 'Ruby']\n",
        "\n",
        "my_slice =\n",
        "\n",
        "print(my_slice) #[30, 'Python', 'Java', 'Ruby']"
      ]
    },
    {
      "cell_type": "markdown",
      "metadata": {
        "id": "7Fjt5B0B66Jp"
      },
      "source": [
        "<p>Given the code below, use the correct code on line 3 in order to return <strong>my_list</strong> except the last 2 elements, using a single, positive index.</p>"
      ]
    },
    {
      "cell_type": "code",
      "execution_count": null,
      "metadata": {
        "id": "ykcz_Blx66Jp"
      },
      "outputs": [],
      "source": [
        "my_list = [10, 10.5, 20, 30, 'Python', 'Java', 'Ruby']\n",
        "\n",
        "my_slice =\n",
        "\n",
        "print(my_slice) #[10, 10.5, 20, 30, 'Python']"
      ]
    },
    {
      "cell_type": "markdown",
      "metadata": {
        "id": "ldRiDhFd66Jp"
      },
      "source": [
        "<p>Given the code below, use the correct code on line 3 in order to return every third element of <strong>my_list</strong> starting with the first element of the list.</p>"
      ]
    },
    {
      "cell_type": "code",
      "execution_count": null,
      "metadata": {
        "id": "U6tZHYpD66Jp"
      },
      "outputs": [],
      "source": [
        "my_list = [10, 10.5, 20, 30, 'Python', 'Java', 'Ruby']\n",
        "\n",
        "my_slice =\n",
        "\n",
        "print(my_slice) #[10, 30, 'Ruby']"
      ]
    },
    {
      "cell_type": "markdown",
      "metadata": {
        "id": "U1PaFUSc66Jp"
      },
      "source": [
        "<p>Given the code below, use the correct code on line 3 in order to return every fourth element of <strong>my_list</strong> starting with the last element of the list.</p>"
      ]
    },
    {
      "cell_type": "code",
      "execution_count": null,
      "metadata": {
        "id": "9sSiRHS866Jp"
      },
      "outputs": [],
      "source": [
        "my_list = [10, 10.5, 20, 30, 'Python', 'Java', 'Ruby']\n",
        "\n",
        "my_slice =\n",
        "\n",
        "print(my_slice) #['Ruby', 20]"
      ]
    },
    {
      "cell_type": "markdown",
      "metadata": {
        "id": "F9jRxU-066Jp"
      },
      "source": []
    }
  ],
  "metadata": {
    "interpreter": {
      "hash": "468f25ad0239460415b7e6b7483d5c8f7213894121f6fb96c4cb6ef93fffe534"
    },
    "kernelspec": {
      "display_name": "Python 3.9.6 64-bit",
      "language": "python",
      "name": "python3"
    },
    "language_info": {
      "codemirror_mode": {
        "name": "ipython",
        "version": 3
      },
      "file_extension": ".py",
      "mimetype": "text/x-python",
      "name": "python",
      "nbconvert_exporter": "python",
      "pygments_lexer": "ipython3",
      "version": "3.9.6"
    },
    "orig_nbformat": 4,
    "colab": {
      "provenance": []
    }
  },
  "nbformat": 4,
  "nbformat_minor": 0
}