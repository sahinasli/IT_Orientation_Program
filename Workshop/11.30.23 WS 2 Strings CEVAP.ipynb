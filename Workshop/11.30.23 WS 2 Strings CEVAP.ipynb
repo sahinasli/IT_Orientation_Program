{
  "cells": [
    {
      "cell_type": "markdown",
      "metadata": {
        "id": "zuFtuNREiQNT"
      },
      "source": [
        "Given the code below, insert the correct negative index on line 3 in order to get the last character in the string."
      ]
    },
    {
      "cell_type": "code",
      "execution_count": 1,
      "metadata": {
        "id": "uRlA3IPQiQNV",
        "colab": {
          "base_uri": "https://localhost:8080/"
        },
        "outputId": "40b7951c-f962-4552-ddf7-aaa91eb5796b"
      },
      "outputs": [
        {
          "output_type": "stream",
          "name": "stdout",
          "text": [
            ".\n"
          ]
        }
      ],
      "source": [
        "my_string = \"In 2010, someone paid 10k Bitcoin for two pizzas.\"\n",
        "\n",
        "print(my_string[-1])"
      ]
    },
    {
      "cell_type": "markdown",
      "metadata": {
        "id": "ohL7h4kqiQNW"
      },
      "source": [
        "<p>Given the code below, insert the correct positive index on line 3 in order to return the comma character from the string.</p>"
      ]
    },
    {
      "cell_type": "code",
      "execution_count": 2,
      "metadata": {
        "id": "QFUGjEEUiQNW",
        "colab": {
          "base_uri": "https://localhost:8080/"
        },
        "outputId": "84a721a2-a0b5-4043-e62c-11b52d4e89aa"
      },
      "outputs": [
        {
          "output_type": "stream",
          "name": "stdout",
          "text": [
            ",\n"
          ]
        }
      ],
      "source": [
        "my_string = \"In 2010, someone paid 10k Bitcoin for two pizzas.\"\n",
        "\n",
        "print(my_string[7])"
      ]
    },
    {
      "cell_type": "markdown",
      "metadata": {
        "id": "6vujaBwviQNW"
      },
      "source": [
        "<p>Given the code below, insert the correct negative index on line 3 in order to return the <strong>w </strong>character from the string.</p>"
      ]
    },
    {
      "cell_type": "code",
      "execution_count": 4,
      "metadata": {
        "id": "jxTSHedViQNX",
        "colab": {
          "base_uri": "https://localhost:8080/"
        },
        "outputId": "311b5533-19d4-473e-e99d-9a9f16c034bd"
      },
      "outputs": [
        {
          "output_type": "stream",
          "name": "stdout",
          "text": [
            "w\n"
          ]
        }
      ],
      "source": [
        "my_string = \"In 2010, someone paid 10k Bitcoin for two pizzas.\"\n",
        "\n",
        "print(my_string[-10])"
      ]
    },
    {
      "cell_type": "markdown",
      "metadata": {
        "id": "pCHg9TMYiQNX"
      },
      "source": [
        "<p>Given the code below, insert the correct method on line 3 in order to return the index of the <strong>B </strong>character in the string.</p>"
      ]
    },
    {
      "cell_type": "code",
      "execution_count": 6,
      "metadata": {
        "id": "9y42uWauiQNX",
        "colab": {
          "base_uri": "https://localhost:8080/"
        },
        "outputId": "2c0393fa-4472-434c-9be0-b4a07bce2915"
      },
      "outputs": [
        {
          "output_type": "stream",
          "name": "stdout",
          "text": [
            "26\n",
            "26\n"
          ]
        }
      ],
      "source": [
        "my_string = \"In 2010, someone paid 10k Bitcoin for two pizzas.\"\n",
        "\n",
        "print(my_string.find('B'))\n",
        "\n",
        "print(my_string.index('B'))"
      ]
    },
    {
      "cell_type": "markdown",
      "metadata": {
        "id": "BmNYCAWfiQNX"
      },
      "source": [
        "<p>Given the code below, insert the correct method on line 3 in order to return the number of occurrences of the letter <strong>o </strong>in the string.</p>"
      ]
    },
    {
      "cell_type": "code",
      "execution_count": 7,
      "metadata": {
        "id": "PckLE_xXiQNX",
        "colab": {
          "base_uri": "https://localhost:8080/"
        },
        "outputId": "9f0af03c-10f2-49a4-8ea8-8ec818bf65b7"
      },
      "outputs": [
        {
          "output_type": "stream",
          "name": "stdout",
          "text": [
            "5\n"
          ]
        }
      ],
      "source": [
        "my_string = \"In 2010, someone paid 10k Bitcoin for two pizzas.\"  # 'o' karakteri dizede kac kere geciyor.\n",
        "\n",
        "print(my_string.count('o'))"
      ]
    },
    {
      "cell_type": "markdown",
      "metadata": {
        "id": "NX1ZbRRSiQNY"
      },
      "source": [
        "<p>Given the code below, insert the correct method on line 3 in order to convert all letters in the string to uppercase.</p>"
      ]
    },
    {
      "cell_type": "code",
      "execution_count": 8,
      "metadata": {
        "id": "88kwP1zxiQNY",
        "colab": {
          "base_uri": "https://localhost:8080/"
        },
        "outputId": "1eac670b-14db-4e0d-b6f1-731ccef2f86a"
      },
      "outputs": [
        {
          "output_type": "stream",
          "name": "stdout",
          "text": [
            "IN 2010, SOMEONE PAID 10K BITCOIN FOR TWO PIZZAS.\n"
          ]
        }
      ],
      "source": [
        "my_string = \"In 2010, someone paid 10k Bitcoin for two pizzas.\" # tum harfleri buyuk harf olarak degistirin.\n",
        "\n",
        "print(my_string.upper())"
      ]
    },
    {
      "cell_type": "markdown",
      "metadata": {
        "id": "6bd37CkMiQNY"
      },
      "source": [
        "<p>Given the code below, insert the correct method on line 3 in order to get the index at which the substring <strong>Bitcoin </strong>starts.</p>"
      ]
    },
    {
      "cell_type": "code",
      "execution_count": 11,
      "metadata": {
        "id": "NIjsh2NDiQNY",
        "colab": {
          "base_uri": "https://localhost:8080/"
        },
        "outputId": "db7f5cda-fe7f-4994-951d-61b2c5077078"
      },
      "outputs": [
        {
          "output_type": "stream",
          "name": "stdout",
          "text": [
            "26\n"
          ]
        }
      ],
      "source": [
        "my_string = \"In 2010, someone paid 10k Bitcoin for two pizzas.\" # 'Bitcoin' alt dizesinin hangi indekste oldugunu gosteren metodu girin.\n",
        "\n",
        "print(my_string.index('Bitcoin'))"
      ]
    },
    {
      "cell_type": "markdown",
      "metadata": {
        "id": "q9iM8hICiQNY"
      },
      "source": [
        "<p>Given the code below, insert the correct method on line 3 in order to check of the string starts with the letter <strong>X</strong>.</p>"
      ]
    },
    {
      "cell_type": "code",
      "execution_count": 16,
      "metadata": {
        "id": "g-38-pn_iQNY",
        "colab": {
          "base_uri": "https://localhost:8080/"
        },
        "outputId": "4d7175df-4c2f-4fdd-b2cf-52dd94166ff0"
      },
      "outputs": [
        {
          "output_type": "stream",
          "name": "stdout",
          "text": [
            "False\n",
            "True\n"
          ]
        }
      ],
      "source": [
        "my_string = \"In 2010, someone paid 10k Bitcoin for two pizzas.\" # Bu dize 'X' karakter' ile mi basliyor?\n",
        "\n",
        "print(my_string.startswith('X'))\n",
        "\n",
        "print(my_string.endswith('s.'))"
      ]
    },
    {
      "cell_type": "markdown",
      "metadata": {
        "id": "8SgkOvAaiQNZ"
      },
      "source": [
        "<p>Given the code below, insert the correct method on line 3 in order to convert all uppercase letters to lowercase and all lowercase letters to uppercase.</p>"
      ]
    },
    {
      "cell_type": "code",
      "execution_count": 17,
      "metadata": {
        "id": "kYHlnsbHiQNZ",
        "colab": {
          "base_uri": "https://localhost:8080/"
        },
        "outputId": "0fc4c8a6-5968-4d64-85f8-97581a86bf49"
      },
      "outputs": [
        {
          "output_type": "stream",
          "name": "stdout",
          "text": [
            "iN 2010, SOMEONE PAID 10K bITCOIN FOR TWO PIZZAS.\n"
          ]
        }
      ],
      "source": [
        "my_string = \"In 2010, someone paid 10k Bitcoin for two pizzas.\" # Dizedeki buyuk harfleri kucuk, kucuk harfleri de buyuk yapan metodu uygulayiniz.\n",
        "\n",
        "print(my_string.swapcase())"
      ]
    },
    {
      "cell_type": "markdown",
      "metadata": {
        "id": "Zxu08BdTiQNZ"
      },
      "source": [
        "<p>Given the code below, insert the correct method on line 3 in order to remove all spaces (single Space characters from the keyboard) from the string.</p>"
      ]
    },
    {
      "cell_type": "code",
      "execution_count": 18,
      "metadata": {
        "id": "L_fdI4D_iQNZ",
        "colab": {
          "base_uri": "https://localhost:8080/"
        },
        "outputId": "cb54692a-ce37-4de1-d100-1a88b00346fe"
      },
      "outputs": [
        {
          "output_type": "stream",
          "name": "stdout",
          "text": [
            "In2010,someonepaid10kBitcoinfortwopizzas.\n"
          ]
        }
      ],
      "source": [
        "my_string = \"In 2010, someone paid 10k Bitcoin for two pizzas.\" # Dizedeki bosluk karakterlerini kaldiriniz.\n",
        "\n",
        "print(my_string.replace(' ', ''))"
      ]
    },
    {
      "cell_type": "markdown",
      "metadata": {
        "id": "0opsylFoiQNZ"
      },
      "source": [
        "<p>Given the code below, insert the correct method on line 3 in order to replace all the occurrences of letter <strong>i </strong>with the substring <strong>btc</strong>.</p>"
      ]
    },
    {
      "cell_type": "code",
      "execution_count": 19,
      "metadata": {
        "id": "tTAnknOxiQNZ",
        "colab": {
          "base_uri": "https://localhost:8080/"
        },
        "outputId": "a2f92519-8ad7-4028-8f29-5537521e2a91"
      },
      "outputs": [
        {
          "output_type": "stream",
          "name": "stdout",
          "text": [
            "In 2010, someone pabtcd 10k Bbtctcobtcn for two pbtczzas.\n"
          ]
        }
      ],
      "source": [
        "my_string = \"In 2010, someone paid 10k Bitcoin for two pizzas.\" # Dizedeki 'i' karakterklerini 'btc' karakteri ile degistiriniz.\n",
        "\n",
        "print(my_string.replace('i', 'btc'))"
      ]
    },
    {
      "cell_type": "markdown",
      "metadata": {
        "id": "zxx0Ab6UiQNZ"
      },
      "source": [
        "<p>Given the code below, insert the correct method on line 3 in order to split the entire string in two parts, using the comma as a delimiter.</p>"
      ]
    },
    {
      "cell_type": "code",
      "execution_count": 20,
      "metadata": {
        "id": "R1XWGHlsiQNZ",
        "colab": {
          "base_uri": "https://localhost:8080/"
        },
        "outputId": "9f5775c5-9330-454c-869c-c3b0706e5d40"
      },
      "outputs": [
        {
          "output_type": "stream",
          "name": "stdout",
          "text": [
            "['In 2010', ' someone paid 10k Bitcoin for two pizzas.']\n"
          ]
        }
      ],
      "source": [
        "my_string = \"In 2010, someone paid 10k Bitcoin for two pizzas.\" # Dizeyi virgul karakterinden itibaren iki ayri parcaya bolunuz. (!)\n",
        "\n",
        "print(my_string.split(','))"
      ]
    },
    {
      "cell_type": "markdown",
      "metadata": {
        "id": "OVaSSyPdiQNa"
      },
      "source": [
        "<p>Given the code below, insert the correct method on line 3 in order to join the characters of the string using the <strong>&amp; </strong>symbol as a delimiter.</p>"
      ]
    },
    {
      "cell_type": "code",
      "execution_count": 27,
      "metadata": {
        "id": "czzj2KVdiQNa",
        "colab": {
          "base_uri": "https://localhost:8080/"
        },
        "outputId": "28c3c940-700e-4c0e-8651-ffcf17eab4e4"
      },
      "outputs": [
        {
          "output_type": "stream",
          "name": "stdout",
          "text": [
            "I&n& &2&0&1&0&,& &s&o&m&e&o&n&e& &p&a&i&d& &1&0&k& &B&i&t&c&o&i&n& &f&o&r& &t&w&o& &p&i&z&z&a&s&.\n",
            "In&2010,&someone&paid&10k&Bitcoin&for&two&pizzas.\n",
            "I&n& &2&0&1&0&,& &s&o&m&e&o&n&e& &p&a&i&d& &1&0&k& &B&i&t&c&o&i&n& &f&o&r& &t&w&o& &p&i&z&z&a&s&.\n"
          ]
        }
      ],
      "source": [
        "my_string = \"In 2010, someone paid 10k Bitcoin for two pizzas.\"  # Ayrac olarak '&' kullan ve dizedeki tum karakterleri birlestir.\n",
        "\n",
        "print('&'.join(my_string))\n",
        "\n",
        "print(my_string.replace(' ', '&'))\n",
        "\n",
        "print(* my_string, sep = '&')"
      ]
    },
    {
      "cell_type": "markdown",
      "metadata": {
        "id": "3-SH8mt7iQNa"
      },
      "source": [
        "<p>Given the code below, insert the correct code on line 4 in order to concatenate <strong>my_string</strong> with the following string:</p><code>my_other_string = \"Poor guy!\"</code>"
      ]
    },
    {
      "cell_type": "code",
      "execution_count": 32,
      "metadata": {
        "id": "w2crDoGPiQNa",
        "colab": {
          "base_uri": "https://localhost:8080/"
        },
        "outputId": "938b9ebe-f502-4101-c28a-79fd6799e05b"
      },
      "outputs": [
        {
          "output_type": "stream",
          "name": "stdout",
          "text": [
            "In 2010, someone paid 10k Bitcoin for two pizzas.Poor guy!\n",
            "In 2010, someone paid 10k Bitcoin for two pizzas.Poor guy!\n"
          ]
        }
      ],
      "source": [
        "my_string = \"In 2010, someone paid 10k Bitcoin for two pizzas.\" # Verilen iki stringi birlestir.\n",
        "my_other_string = \"Poor guy!\"\n",
        "\n",
        "print(my_string + my_other_string)\n",
        "\n",
        "print(''.join([my_string,  my_other_string]))"
      ]
    },
    {
      "cell_type": "markdown",
      "metadata": {
        "id": "ljCVhBquiQNa"
      },
      "source": [
        "<p>Given the code below, insert the correct method on line 3 in order to convert the first letter of each word in the string to uppercase.</p>"
      ]
    },
    {
      "cell_type": "code",
      "execution_count": 33,
      "metadata": {
        "id": "ZAV_agRKiQNa",
        "colab": {
          "base_uri": "https://localhost:8080/"
        },
        "outputId": "166bf161-d963-48ec-c287-b4998d9be46d"
      },
      "outputs": [
        {
          "output_type": "stream",
          "name": "stdout",
          "text": [
            "In 2010, Someone Paid 10K Bitcoin For Two Pizzas.\n"
          ]
        }
      ],
      "source": [
        "my_string = \"In 2010, someone paid 10k Bitcoin for two pizzas.\" # Dizedeki her kelimenin ilk harfini buyuk yapan metodu uygula.\n",
        "\n",
        "print(my_string.title())"
      ]
    },
    {
      "cell_type": "markdown",
      "metadata": {
        "id": "Q2kdCMkDiQNa"
      },
      "source": [
        "<p>Given the code below, use string formatting with the <strong>format()</strong> method on line 3 to map the values of <strong>2010</strong>, <strong>10k </strong>and <strong>Bitcoin </strong>to the corresponding formatting operators.</p>"
      ]
    },
    {
      "cell_type": "code",
      "execution_count": 36,
      "metadata": {
        "id": "xTflOZOLiQNa",
        "colab": {
          "base_uri": "https://localhost:8080/"
        },
        "outputId": "9cfd7b27-35b4-4180-bb4c-2bda465221f2"
      },
      "outputs": [
        {
          "output_type": "stream",
          "name": "stdout",
          "text": [
            "In 2010, someone paid 10k Bitcoin for two pizzas.\n"
          ]
        }
      ],
      "source": [
        "my_string = \"In {}, someone paid {} {} for two pizzas.\" # Verilen degerleri karsiligi gelen yerlere format metodu ile yerlestirin. Pozitif indeks ile.\n",
        "\n",
        "print(my_string.format('2010', '10k', 'Bitcoin'))"
      ]
    },
    {
      "cell_type": "markdown",
      "metadata": {
        "id": "oesynFNMiQNb"
      },
      "source": [
        "<p>Given the code below, use slicing and insert the correct code on line 3 in order to return the substring <strong>2010 </strong>from the string. Use positive indexes!</p>"
      ]
    },
    {
      "cell_type": "code",
      "execution_count": 37,
      "metadata": {
        "id": "3z7EXSU2iQNb",
        "colab": {
          "base_uri": "https://localhost:8080/"
        },
        "outputId": "537cb161-0746-4a31-e944-45b87ed13d92"
      },
      "outputs": [
        {
          "output_type": "stream",
          "name": "stdout",
          "text": [
            "2010\n"
          ]
        }
      ],
      "source": [
        "my_string = \"In 2010, someone paid 10k Bitcoin for two pizzas.\" # 2010'u slice ile indeksleyin ve pozitif indeks kullanin.\n",
        "\n",
        "print(my_string[3:7])"
      ]
    },
    {
      "cell_type": "markdown",
      "metadata": {
        "id": "BhPyxJ5tiQNb"
      },
      "source": [
        "<p>Given the code below, use slicing and insert the correct code on line 3 in order to return the substring <strong>Bitcoin </strong>from the string. Use negative indexes!</p>"
      ]
    },
    {
      "cell_type": "code",
      "execution_count": 38,
      "metadata": {
        "id": "BRLArOlbiQNb",
        "colab": {
          "base_uri": "https://localhost:8080/"
        },
        "outputId": "25d51431-0132-43e1-f5d3-9124358d2257"
      },
      "outputs": [
        {
          "output_type": "stream",
          "name": "stdout",
          "text": [
            "Bitcoin\n"
          ]
        }
      ],
      "source": [
        "my_string = \"In 2010, someone paid 10k Bitcoin for two pizzas.\" # 'Bitcoin' dizesini negatif indeks ile slicelayin.\n",
        "\n",
        "print(my_string[-23:-16])"
      ]
    },
    {
      "cell_type": "markdown",
      "metadata": {
        "id": "mtlX0WmsiQNb"
      },
      "source": [
        "<p>Given the code below, use slicing and insert the correct code on line 3 in order to return the first 12 characters in the string. Use a single, positive index!</p>"
      ]
    },
    {
      "cell_type": "code",
      "execution_count": 40,
      "metadata": {
        "id": "j8fx3L37iQNb",
        "colab": {
          "base_uri": "https://localhost:8080/"
        },
        "outputId": "7ed21d9b-151e-4de3-fe1f-3ff7439612a4"
      },
      "outputs": [
        {
          "output_type": "stream",
          "name": "stdout",
          "text": [
            "In 2010, som\n"
          ]
        }
      ],
      "source": [
        "my_string = \"In 2010, someone paid 10k Bitcoin for two pizzas.\" # Tek bir pozitif indeks kullanarak ilk 12 karakteri slicelayin.\n",
        "\n",
        "print(my_string[:12])"
      ]
    },
    {
      "cell_type": "markdown",
      "metadata": {
        "id": "XB8PzWrqiQNb"
      },
      "source": [
        "<p>Given the code below, use slicing and insert the correct code on line 3 in order to return the last 9 characters of the string. Use a single, negative index!</p>"
      ]
    },
    {
      "cell_type": "code",
      "execution_count": 41,
      "metadata": {
        "id": "kV3EGp0giQNc",
        "colab": {
          "base_uri": "https://localhost:8080/"
        },
        "outputId": "fd21b0d6-70f5-46fc-cb3a-8fb874ad85e8"
      },
      "outputs": [
        {
          "output_type": "stream",
          "name": "stdout",
          "text": [
            "o pizzas.\n"
          ]
        }
      ],
      "source": [
        "my_string = \"In 2010, someone paid 10k Bitcoin for two pizzas.\" # Negatif indeks kullanarak dizenin son 9 karakterini slicelayin.\n",
        "\n",
        "print(my_string[-9:])"
      ]
    },
    {
      "cell_type": "markdown",
      "metadata": {
        "id": "5epp4Gm9iQNc"
      },
      "source": [
        "<p>Given the code below, use slicing and insert the correct code on line 3 in order to return the entire string in reversed order.</p>"
      ]
    },
    {
      "cell_type": "code",
      "execution_count": 43,
      "metadata": {
        "id": "g_EQ_m-QiQNc",
        "colab": {
          "base_uri": "https://localhost:8080/"
        },
        "outputId": "86a49a25-3f30-4efd-e57b-a705bfdf49a3"
      },
      "outputs": [
        {
          "output_type": "stream",
          "name": "stdout",
          "text": [
            ".sazzip owt rof nioctiB k01 diap enoemos ,0102 nI\n"
          ]
        }
      ],
      "source": [
        "my_string = \"In 2010, someone paid 10k Bitcoin for two pizzas.\" # Tum dizeyi ters yazdirin.\n",
        "\n",
        "print(my_string[::-1])"
      ]
    },
    {
      "cell_type": "markdown",
      "metadata": {
        "id": "btNIlh5ziQNc"
      },
      "source": [
        "<p>Given the code below, use slicing and insert the correct code on line 3 in order to return every 7th character of the string, starting with the first character.</p><p>The final result should be <code>I,n top</code></p>"
      ]
    },
    {
      "cell_type": "code",
      "execution_count": 52,
      "metadata": {
        "id": "_CkW89WdiQNc",
        "colab": {
          "base_uri": "https://localhost:8080/"
        },
        "outputId": "9baf06b8-4e43-4ecd-a584-d49b5a7fbff8"
      },
      "outputs": [
        {
          "output_type": "stream",
          "name": "stdout",
          "text": [
            "I,n top\n"
          ]
        }
      ],
      "source": [
        "my_string = \"In 2010, someone paid 10k Bitcoin for two pizzas.\" # Ilk karakterden baslayarak her 7 karakterde de bir gelen degeri yazdirin.\n",
        "\n",
        "print(my_string[::7])"
      ]
    },
    {
      "cell_type": "markdown",
      "metadata": {
        "id": "Tp-LtX_AiQNc"
      },
      "source": [
        "<p>Given the code below, use slicing and insert the correct code on line 3 in order to return the string except the first 10 characters. Use a single, positive index!</p>"
      ]
    },
    {
      "cell_type": "code",
      "execution_count": 46,
      "metadata": {
        "id": "ltNAMp2piQNd",
        "colab": {
          "base_uri": "https://localhost:8080/"
        },
        "outputId": "b122dfd4-d6da-4859-bc5a-773e29e3cad3"
      },
      "outputs": [
        {
          "output_type": "stream",
          "name": "stdout",
          "text": [
            "omeone paid 10k Bitcoin for two pizzas.\n"
          ]
        }
      ],
      "source": [
        "my_string = \"In 2010, someone paid 10k Bitcoin for two pizzas.\" # Dizeyi ilk 10 karakteri haric yazdirin ve tek bir pozitif indeks kullanin.\n",
        "\n",
        "print(my_string[10:])"
      ]
    },
    {
      "cell_type": "markdown",
      "metadata": {
        "id": "kI2ta4BHiQNd"
      },
      "source": [
        "<p>Given the code below, use slicing and insert the correct code on line 3 in order to return the string except the last 4 characters. Use a single, negative index!</p>"
      ]
    },
    {
      "cell_type": "code",
      "execution_count": 50,
      "metadata": {
        "id": "VZO9YqP7iQNd",
        "colab": {
          "base_uri": "https://localhost:8080/"
        },
        "outputId": "d3e09f3e-d9f6-425c-f81f-9150a4b8a5ab"
      },
      "outputs": [
        {
          "output_type": "stream",
          "name": "stdout",
          "text": [
            "In 2010, someone paid 10k Bitcoin for two piz\n"
          ]
        }
      ],
      "source": [
        "my_string = \"In 2010, someone paid 10k Bitcoin for two pizzas.\" # Dizeyi son 4 karakter haric yazdirin ve negatif indeks kullanin.\n",
        "\n",
        "print(my_string[:-4])"
      ]
    }
  ],
  "metadata": {
    "interpreter": {
      "hash": "468f25ad0239460415b7e6b7483d5c8f7213894121f6fb96c4cb6ef93fffe534"
    },
    "kernelspec": {
      "display_name": "Python 3.9.6 64-bit",
      "language": "python",
      "name": "python3"
    },
    "language_info": {
      "codemirror_mode": {
        "name": "ipython",
        "version": 3
      },
      "file_extension": ".py",
      "mimetype": "text/x-python",
      "name": "python",
      "nbconvert_exporter": "python",
      "pygments_lexer": "ipython3",
      "version": "3.9.6"
    },
    "orig_nbformat": 4,
    "colab": {
      "provenance": []
    }
  },
  "nbformat": 4,
  "nbformat_minor": 0
}