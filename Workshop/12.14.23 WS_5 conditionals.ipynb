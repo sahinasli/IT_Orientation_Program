{
  "cells": [
    {
      "cell_type": "markdown",
      "metadata": {
        "id": "HstGgs-rxT3f"
      },
      "source": [
        "<p>1. Considering the code below, write code that prints out <strong>True!</strong> if <strong>x </strong>has 50 characters or more.</p>"
      ]
    },
    {
      "cell_type": "code",
      "execution_count": null,
      "metadata": {
        "id": "z6-2jzfexT3g"
      },
      "outputs": [],
      "source": [
        "x = \"The days of Python 2 are almost over. Python 3 is the king now.\"\n",
        "\n"
      ]
    },
    {
      "cell_type": "markdown",
      "metadata": {
        "id": "Z_-aTB3wxT3g"
      },
      "source": [
        "<p>2. Considering the code below, write code that prints out <strong>True!</strong> if <strong>x </strong>is a string and the first character in the string is <strong>T</strong>.</p>"
      ]
    },
    {
      "cell_type": "code",
      "execution_count": null,
      "metadata": {
        "id": "C9NrT47vxT3g"
      },
      "outputs": [],
      "source": [
        "x = \"The days of Python 2 are almost over. Python 3 is the king now.\"\n",
        "\n"
      ]
    },
    {
      "cell_type": "markdown",
      "metadata": {
        "id": "ttOzmBEBxT3g"
      },
      "source": [
        "<p>3. Considering the code below, write code that prints out <strong>True!</strong> if at least one of the following conditions occurs: </p>\n",
        "<p>the string contains the character <strong>z </strong></p>\n",
        "<p>the string contains the character <strong>y </strong>at least twice</p>"
      ]
    },
    {
      "cell_type": "code",
      "execution_count": null,
      "metadata": {
        "id": "Duhk3mjDxT3h"
      },
      "outputs": [],
      "source": [
        "x = \"The days of Python 2 are almost over. Python 3 is the king now.\""
      ]
    },
    {
      "cell_type": "markdown",
      "metadata": {
        "id": "amBFq0cvxT3h"
      },
      "source": [
        "<p>4. Considering the code below, write code that prints out <strong>True!</strong> if the index of the first occurrence of letter <strong>f </strong>is less than 10 and prints out <strong>False!</strong> if the same condition is not satisfied.</p>"
      ]
    },
    {
      "cell_type": "code",
      "execution_count": null,
      "metadata": {
        "id": "l1sJaqa8xT3h"
      },
      "outputs": [],
      "source": [
        "x = \"The days of Python 2 are almost over. Python 3 is the king now.\""
      ]
    },
    {
      "cell_type": "markdown",
      "metadata": {
        "id": "xsqjLdIBxT3h"
      },
      "source": [
        "<p>5. Considering the code below, write code that prints out <strong>True!</strong> if the last 3 characters of the string are all digits and prints out <strong>False!</strong> otherwise.</p>\n",
        "<em> Use the appropriate method to check if the requested string slice contains digits only.</em>"
      ]
    },
    {
      "cell_type": "code",
      "execution_count": null,
      "metadata": {
        "id": "qKLsLsI-xT3h"
      },
      "outputs": [],
      "source": [
        "x = \"The days of Python 2 are almost over. Python 3 is the king now.\"\n",
        "\n"
      ]
    },
    {
      "cell_type": "markdown",
      "metadata": {
        "id": "dEQHytCIxT3h"
      },
      "source": [
        "<p>6. Considering the code below, write code that prints out <strong>True!</strong> if <strong>x </strong>has at least 8 elements and the element positioned at index 6 is a floating-point number and prints out <strong>False!</strong> otherwise.</p>"
      ]
    },
    {
      "cell_type": "code",
      "execution_count": null,
      "metadata": {
        "id": "9L4mm9QRxT3h"
      },
      "outputs": [],
      "source": [
        "x = [115, 115.9, 116.01, [\"length\", \"width\", \"height\"], 109, 115, 119.5, [\"length\", \"width\", \"height\"]]\n",
        "\n"
      ]
    },
    {
      "cell_type": "markdown",
      "metadata": {
        "id": "s82QkqzQxT3h"
      },
      "source": [
        "<p>7. Considering the code below, write code that prints out <strong>True!</strong> if the second string of the first list in <strong>x </strong>ends with the letter <strong>h </strong>and the first string of the second list in <strong>x </strong>also ends with the letter <strong>h</strong>, and prints out <strong>False!</strong> otherwise.</p>"
      ]
    },
    {
      "cell_type": "code",
      "execution_count": null,
      "metadata": {
        "id": "uN0GbY68xT3i"
      },
      "outputs": [],
      "source": [
        "x = [115, 115.9, 116.01, [\"length\", \"width\", \"height\"], 109, 115, 119.5, [\"length\", \"width\", \"height\"]]"
      ]
    },
    {
      "cell_type": "markdown",
      "metadata": {
        "id": "yeYhzv18xT3i"
      },
      "source": [
        "<p>8. Considering the code below, write code that prints out <strong>True!</strong> if one of the following two conditions are satisfied and prints out <strong>False!</strong> otherwise.</p>\n",
        "<p>the third string of the first list in <strong>x </strong>ends with the letter <strong>h </strong></p>\n",
        "<p>the second string of the second list in <strong>x </strong>also ends with the letter <strong>h</strong></p>"
      ]
    },
    {
      "cell_type": "code",
      "execution_count": null,
      "metadata": {
        "id": "QhVwAN9cxT3i"
      },
      "outputs": [],
      "source": [
        "x = [115, 115.9, 116.01, [\"length\", \"width\", \"height\"], 109, 115, 119.5, [\"length\", \"width\", \"height\"]]\n",
        "\n"
      ]
    },
    {
      "cell_type": "markdown",
      "metadata": {
        "id": "5BZFBFdgxT3i"
      },
      "source": [
        "<p>9. Considering the code below, write code that prints out <strong>True!</strong> if the largest value among the first 3 elements of the list is less than or equal to the smallest value among the next 3 elements of the list. Otherwise, print out <strong>False!</strong></p>\n",
        "<p><strong><em>Hint!</em></strong><em> Use the appropriate slices to make the comparison.</em></p>"
      ]
    },
    {
      "cell_type": "code",
      "execution_count": null,
      "metadata": {
        "id": "Cpw_MYKTxT3i"
      },
      "outputs": [],
      "source": [
        "x = [115, 115.9, 116.01, 109, 115, 119.5, [\"length\", \"width\", \"height\"]]\n",
        "\n"
      ]
    },
    {
      "cell_type": "markdown",
      "metadata": {
        "id": "ddMwajXAxT3i"
      },
      "source": [
        "<p>10. Considering the code below, write code that prints out <strong>True!</strong> if <strong>115 </strong>appears at least once inside the list or if it is the first element in the list. Otherwise, print out <strong>False!</strong></p>\n",
        "<p><strong><em>Hint!</em></strong><em> Use the appropriate method to check if </em><strong><em>115 </em></strong><em>is the first element in the list.</em></p>"
      ]
    },
    {
      "cell_type": "code",
      "execution_count": null,
      "metadata": {
        "id": "a1frX2DExT3i"
      },
      "outputs": [],
      "source": [
        "x = [115, 115.9, 116.01, 109, 115, 119.5, [\"length\", \"width\", \"height\"]]\n",
        "\n"
      ]
    },
    {
      "cell_type": "markdown",
      "metadata": {
        "id": "c4tyaQC1xT3i"
      },
      "source": [
        "<p>11. Considering the code below, write code that prints out <strong>True!</strong> if the value associated with key number <strong>5 </strong>is <strong>Perl </strong>or the number of key-value pairs in the dictionary divided by 5 returns a remainder less than 2. Otherwise, print out <strong>False!</strong></p>"
      ]
    },
    {
      "cell_type": "code",
      "execution_count": null,
      "metadata": {
        "id": "tY2PjPeIxT3j"
      },
      "outputs": [],
      "source": [
        "x = {1: \"Python\", 2: \"Java\", 3: \"Javascript\", 4: \"Ruby\", 5: \"Perl\", 6: \"C#\", 7: \"C++\"}\n"
      ]
    },
    {
      "cell_type": "markdown",
      "metadata": {
        "id": "w2GmRb22xT3j"
      },
      "source": [
        "<p>12. Considering the code below, write code that prints out <strong>True!</strong> if <strong>3 </strong>is a key in the dictionary<strong> </strong>and the smallest value (alphabetically) in the dictionary is <strong>C#</strong>. Otherwise, print out <strong>False!</strong></p>"
      ]
    },
    {
      "cell_type": "code",
      "execution_count": null,
      "metadata": {
        "id": "lD1rFT6sxT3j"
      },
      "outputs": [],
      "source": [
        "x = {1: \"Python\", 2: \"Java\", 3: \"Javascript\", 4: \"Ruby\", 5: \"Perl\", 6: \"C#\", 7: \"C++\"}\n",
        "\n"
      ]
    },
    {
      "cell_type": "markdown",
      "metadata": {
        "id": "M_LcO4GhxT3j"
      },
      "source": [
        "<p>13. Considering the code below, write code that prints out <strong>True!</strong> if the last character of the largest (alphabetically) value in the dictionary is <strong>n</strong>. Otherwise, print out <strong>False!</strong></p>"
      ]
    },
    {
      "cell_type": "code",
      "execution_count": null,
      "metadata": {
        "id": "iRg72mu-xT3j"
      },
      "outputs": [],
      "source": [
        "x = {1: \"Python\", 2: \"Java\", 3: \"Javascript\", 4: \"Ruby\", 5: \"Perl\", 6: \"C#\", 7: \"C++\"}\n",
        "\n"
      ]
    },
    {
      "cell_type": "markdown",
      "metadata": {
        "id": "RKHy6wBExT3j"
      },
      "source": [
        "<p>14. Considering the code below, write code that prints out <strong>True!</strong> if the largest key in the dictionary divided by the second largest key in the dictionary returns a remainder equal to the smallest key in the dictionary. Otherwise, print out <strong>False!</strong></p>"
      ]
    },
    {
      "cell_type": "code",
      "execution_count": null,
      "metadata": {
        "id": "noya80H8xT3j"
      },
      "outputs": [],
      "source": [
        "x = {1: \"Python\", 2: \"Java\", 3: \"Javascript\", 4: \"Ruby\", 5: \"Perl\", 6: \"C#\", 7: \"C++\"}\n",
        "\n"
      ]
    },
    {
      "cell_type": "markdown",
      "metadata": {
        "id": "KqtGbnIsxT3j"
      },
      "source": [
        "<p>15. Considering the code below, write code that prints out <strong>True!</strong> if the sum of all the keys in the dictionary is less than the number of characters of the string obtained by concatenating the values associated with the first 5 keys in the dictionary. Otherwise, print out <strong>False!</strong></p>"
      ]
    },
    {
      "cell_type": "code",
      "execution_count": null,
      "metadata": {
        "id": "WF9dLZF1xT3j"
      },
      "outputs": [],
      "source": [
        "x = {1: \"Python\", 2: \"Java\", 3: \"Javascript\", 4: \"Ruby\", 5: \"Perl\", 6: \"C#\", 7: \"C++\"}\n"
      ]
    },
    {
      "cell_type": "markdown",
      "metadata": {
        "id": "RasT8ulbxT3j"
      },
      "source": [
        "<p>16. Considering the code below, write code that prints out <strong>True!</strong> if the 3rd element of the first range is less than 2, prints out <strong>False!</strong> if the 5th element of the first range is 5, and prints out <strong>None!</strong> otherwise.</p>"
      ]
    },
    {
      "cell_type": "code",
      "execution_count": null,
      "metadata": {
        "id": "4JThen6gxT3k"
      },
      "outputs": [],
      "source": [
        "x = [list(range(5)), list(range(5,9)), list(range(1,10,3))]\n",
        "\n"
      ]
    },
    {
      "cell_type": "markdown",
      "metadata": {
        "id": "POV7CJSexT3k"
      },
      "source": [
        "<p>17. Considering the code below, write code that prints out <strong>True!</strong> if the 3rd element of the 3rd range is less than 6, prints out <strong>False!</strong> if the 1st element of the second range is 5, and prints out <strong>None!</strong> otherwise.</p>"
      ]
    },
    {
      "cell_type": "code",
      "execution_count": null,
      "metadata": {
        "id": "WZeg_z6mxT3k"
      },
      "outputs": [],
      "source": [
        "x = [list(range(5)), list(range(5,9)), list(range(1,10,3))]\n",
        "\n"
      ]
    },
    {
      "cell_type": "markdown",
      "metadata": {
        "id": "REFlrA5xxT3k"
      },
      "source": [
        "<p>18. Considering the code below, write code that prints out <strong>True!</strong> if the last element of the first range is greater than 3, prints out <strong>False!</strong> if the last element of the second range is less than 9, and prints out <strong>None!</strong> otherwise.</p>"
      ]
    },
    {
      "cell_type": "code",
      "execution_count": null,
      "metadata": {
        "id": "1HHYoZk9xT3k"
      },
      "outputs": [],
      "source": [
        "x = [list(range(5)), list(range(5,9)), list(range(1,10,3))]\n"
      ]
    },
    {
      "cell_type": "markdown",
      "metadata": {
        "id": "kf0VvUT-xT3k"
      },
      "source": [
        "<p>19. Considering the code below, write code that prints out <strong>True!</strong> if the length of the first range is greater than or equal to 5, prints out <strong>False!</strong> if the length of the second range is 4, and prints out <strong>None!</strong> otherwise.</p>\n"
      ]
    },
    {
      "cell_type": "code",
      "execution_count": null,
      "metadata": {
        "id": "ijZJc9KVxT3k"
      },
      "outputs": [],
      "source": [
        "x = [list(range(5)), list(range(5,9)), list(range(1,10,3))]\n",
        "\n"
      ]
    },
    {
      "cell_type": "markdown",
      "metadata": {
        "id": "yhqb6-0DxT3k"
      },
      "source": [
        "<p>20. Considering the code below, write code that prints out <strong>True!</strong> if the sum of all the elements of the first range is greater than the sum of all the elements of the third range, prints out <strong>False!</strong> if the largest element of the second range is greater than the largest element of the third range, and prints out <strong>None!</strong> otherwise.</p>"
      ]
    },
    {
      "cell_type": "code",
      "execution_count": null,
      "metadata": {
        "id": "Oga86I_kxT3n"
      },
      "outputs": [],
      "source": [
        "x = [list(range(5)), list(range(5,9)), list(range(1,10,3))]\n"
      ]
    },
    {
      "cell_type": "markdown",
      "metadata": {
        "id": "SJEPbQvfxT3n"
      },
      "source": [
        "<p>21. Considering the code below, write code that prints out <strong>True!</strong> if the largest element of the first range minus the second element of the 3rd range is equal to the first element of the first range, prints out <strong>False!</strong> if the length of the first range minus the length of the 2nd range is equal to the first element of the 3rd range, prints out <strong>Maybe!</strong> if the sum of all the elements of the 3rd range divided by 2 returns a remainder of 0, and prints out <strong>None!</strong> otherwise.</p>"
      ]
    },
    {
      "cell_type": "code",
      "execution_count": null,
      "metadata": {
        "id": "5PUFhAf2xT3n"
      },
      "outputs": [],
      "source": [
        "x = [list(range(5)), list(range(5,9)), list(range(1,10,3))]\n"
      ]
    },
    {
      "cell_type": "markdown",
      "metadata": {
        "id": "00anPf5xxT3n"
      },
      "source": [
        "<p>22. Considering the code below, write code that prints out <strong>True!</strong> if the sum of the last 3 elements of the first range plus the sum of the last 3 elements of the 3rd range is equal to the sum of the last 3 elements of the 2nd range, and prints out <strong>False!</strong> if the length of the first range times 2 is less than the sum of all the elements of the 3rd range.</p>"
      ]
    },
    {
      "cell_type": "code",
      "execution_count": null,
      "metadata": {
        "id": "EX0lUeqMxT3n"
      },
      "outputs": [],
      "source": [
        "x = [list(range(5)), list(range(5,9)), list(range(1,10,3))]\n"
      ]
    },
    {
      "cell_type": "markdown",
      "metadata": {
        "id": "j3WCe6J5xT3n"
      },
      "source": [
        "<p>23. Considering the code below, write code that prints out <strong>True!</strong> if the 2nd character of the value at key 1 is also present in the value at key 4, and prints out <strong>False!</strong> otherwise.</p>"
      ]
    },
    {
      "cell_type": "code",
      "execution_count": null,
      "metadata": {
        "id": "GwEtrVaUxT3n"
      },
      "outputs": [],
      "source": [
        "x = {1: \"Python\", 2: \"Java\", 3: \"Javascript\", 4: \"Ruby\", 5: \"Perl\", 6: \"C#\", 7: \"C++\"}\n"
      ]
    },
    {
      "cell_type": "markdown",
      "metadata": {
        "id": "yCYoDHR4xT3n"
      },
      "source": [
        "<p>24. Considering the code below, write code that prints out <strong>True!</strong> if the second to last character of the value at key 3 is the first character of the value at key 5, and prints out <strong>False!</strong> otherwise.</p>"
      ]
    },
    {
      "cell_type": "code",
      "execution_count": null,
      "metadata": {
        "id": "oAH2P5DsxT3n"
      },
      "outputs": [],
      "source": [
        "x = {1: \"Python\", 2: \"Java\", 3: \"Javascript\", 4: \"Ruby\", 5: \"Perl\", 6: \"C#\", 7: \"C++\"}\n"
      ]
    },
    {
      "cell_type": "markdown",
      "metadata": {
        "id": "_joNxNX0xT3o"
      },
      "source": [
        "<p>25. Considering the code below, write code that prints out <strong>True!</strong> if the number of characters of the smallest value in the dictionary is equal to the number of occurrences of letter <strong>a </strong>in the value at key 3, and prints out <strong>False!</strong> otherwise.</p>"
      ]
    },
    {
      "cell_type": "code",
      "execution_count": null,
      "metadata": {
        "id": "IyGKdhVYxT3o"
      },
      "outputs": [],
      "source": [
        "x = {1: \"Python\", 2: \"Java\", 3: \"Javascript\", 4: \"Ruby\", 5: \"Perl\", 6: \"C#\", 7: \"C++\"}\n"
      ]
    },
    {
      "cell_type": "markdown",
      "metadata": {
        "id": "M7WJwyP9xT3o"
      },
      "source": []
    }
  ],
  "metadata": {
    "kernelspec": {
      "display_name": "Python 3.9.6 64-bit",
      "language": "python",
      "name": "python3"
    },
    "language_info": {
      "codemirror_mode": {
        "name": "ipython",
        "version": 3
      },
      "file_extension": ".py",
      "mimetype": "text/x-python",
      "name": "python",
      "nbconvert_exporter": "python",
      "pygments_lexer": "ipython3",
      "version": "3.9.6"
    },
    "orig_nbformat": 4,
    "vscode": {
      "interpreter": {
        "hash": "08e595c52ca3b9470036b1110e67b559e55f367cabc363f2e28d35631ed95060"
      }
    },
    "colab": {
      "provenance": []
    }
  },
  "nbformat": 4,
  "nbformat_minor": 0
}