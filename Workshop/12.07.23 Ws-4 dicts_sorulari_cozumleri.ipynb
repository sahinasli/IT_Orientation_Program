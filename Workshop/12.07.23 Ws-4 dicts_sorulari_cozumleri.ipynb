{
  "cells": [
    {
      "cell_type": "markdown",
      "metadata": {
        "id": "208Vd54n9t8K"
      },
      "source": [
        "<p>Given the code below, use the correct code on line 3 in order to return the value associated with key <strong>4</strong>. Do not use a method as a solution for this exercise!</p>"
      ]
    },
    {
      "cell_type": "code",
      "execution_count": 1,
      "metadata": {
        "id": "we5V7lcZ9t8M",
        "colab": {
          "base_uri": "https://localhost:8080/"
        },
        "outputId": "6c5abf24-691f-4fc4-c888-26457141befa"
      },
      "outputs": [
        {
          "output_type": "stream",
          "name": "stdout",
          "text": [
            "Stellar\n"
          ]
        }
      ],
      "source": [
        "crypto = {1: \"Bitcoin\", 2: \"Ethereum\", 3: \"Litecoin\", 4: \"Stellar\", 5: \"XRP\"}\n",
        "\n",
        "value = crypto[4]\n",
        "\n",
        "print(value) # Stellar"
      ]
    },
    {
      "cell_type": "markdown",
      "metadata": {
        "id": "320PFiLH9t8N"
      },
      "source": [
        "<p>Given the code below, use the correct code on line 3 in order to return the value associated with key <strong>4</strong>. This time, use a method as a solution for this exercise!</p>"
      ]
    },
    {
      "cell_type": "code",
      "execution_count": 5,
      "metadata": {
        "id": "Z2dS1qZ69t8O",
        "colab": {
          "base_uri": "https://localhost:8080/"
        },
        "outputId": "ba1e9c33-0307-44d5-cf15-85c37d44e22d"
      },
      "outputs": [
        {
          "output_type": "stream",
          "name": "stdout",
          "text": [
            "Stellar\n"
          ]
        }
      ],
      "source": [
        "crypto = {1: \"Bitcoin\", 2: \"Ethereum\", 3: \"Litecoin\", 4: \"Stellar\", 5: \"XRP\"}\n",
        "\n",
        "value = crypto.get(4)\n",
        "\n",
        "print(value) # Stellar"
      ]
    },
    {
      "cell_type": "code",
      "execution_count": null,
      "metadata": {
        "id": "5J_yR2EL9t8O",
        "outputId": "64062e1a-0039-407c-d2fc-76a084f88be5"
      },
      "outputs": [
        {
          "name": "stdout",
          "output_type": "stream",
          "text": [
            "Stellar\n"
          ]
        }
      ],
      "source": []
    },
    {
      "cell_type": "markdown",
      "metadata": {
        "id": "gKyfi59u9t8O"
      },
      "source": [
        "<p>Given the code below, use the correct code on line 3 in order to update the value associated with key <strong>4</strong> to <strong>\"Cardano\"</strong>.</p>"
      ]
    },
    {
      "cell_type": "code",
      "execution_count": 7,
      "metadata": {
        "id": "6ODQHjej9t8O",
        "colab": {
          "base_uri": "https://localhost:8080/"
        },
        "outputId": "7040c268-6da1-4dae-925e-fbf3285281be"
      },
      "outputs": [
        {
          "output_type": "stream",
          "name": "stdout",
          "text": [
            "Cardano\n"
          ]
        }
      ],
      "source": [
        "crypto = {1: \"Bitcoin\", 2: \"Ethereum\", 3: \"Litecoin\", 4: \"Stellar\", 5: \"XRP\"}\n",
        "\n",
        "crypto[4] = 'Cardano'\n",
        "\n",
        "# crypto.update({4: 'Cardano'}) ikinci yontem\n",
        "\n",
        "print(crypto[4]) # Cardano"
      ]
    },
    {
      "cell_type": "code",
      "execution_count": null,
      "metadata": {
        "id": "r5-pdBxB9t8P",
        "outputId": "c1129a2a-cec7-4f55-aa7f-b050c94cb8e8"
      },
      "outputs": [
        {
          "name": "stdout",
          "output_type": "stream",
          "text": [
            "Cardano\n"
          ]
        }
      ],
      "source": []
    },
    {
      "cell_type": "markdown",
      "metadata": {
        "id": "Wqd6K7yw9t8P"
      },
      "source": [
        "<p>Given the code below, use the correct code on line 3 in order to add a new key-value pair to the dictionary: <strong>6: \"Monero\"</strong></p>"
      ]
    },
    {
      "cell_type": "code",
      "execution_count": 9,
      "metadata": {
        "id": "C6bBTdVW9t8P",
        "colab": {
          "base_uri": "https://localhost:8080/"
        },
        "outputId": "1448f205-61f3-499e-d3df-08d0cbb414f9"
      },
      "outputs": [
        {
          "output_type": "stream",
          "name": "stdout",
          "text": [
            "Monero\n"
          ]
        }
      ],
      "source": [
        "crypto = {1: \"Bitcoin\", 2: \"Ethereum\", 3: \"Litecoin\", 4: \"Stellar\", 5: \"XRP\"}\n",
        "\n",
        "# crypto[6] = 'Monero' => ikinci yontem\n",
        "\n",
        "crypto.update({6: 'Monero'})\n",
        "\n",
        "print(crypto[6]) # Monero"
      ]
    },
    {
      "cell_type": "markdown",
      "metadata": {
        "id": "zlHj4WWe9t8P"
      },
      "source": [
        "<p>Given the code below, use the correct code on line 3 in order to return the number of key-value pairs in the dictionary.</p>"
      ]
    },
    {
      "cell_type": "code",
      "execution_count": 13,
      "metadata": {
        "id": "6BK7DWpX9t8Q",
        "colab": {
          "base_uri": "https://localhost:8080/"
        },
        "outputId": "ae833190-ef45-43e3-86c1-65e4efbe2ff6"
      },
      "outputs": [
        {
          "output_type": "stream",
          "name": "stdout",
          "text": [
            "5\n"
          ]
        }
      ],
      "source": [
        "crypto = {1: \"Bitcoin\", 2: \"Ethereum\", 3: \"Litecoin\", 4: \"Stellar\", 5: \"XRP\"}\n",
        "\n",
        "number = len(crypto) # len(crypto.keys()) ile ayni gorevi yapar\n",
        "\n",
        "print(number)"
      ]
    },
    {
      "cell_type": "code",
      "execution_count": null,
      "metadata": {
        "id": "vIlBlpoT9t8Q",
        "outputId": "9c7cc147-8a71-4d3e-e0cc-004bec3818ac"
      },
      "outputs": [
        {
          "name": "stdout",
          "output_type": "stream",
          "text": [
            "5\n"
          ]
        }
      ],
      "source": []
    },
    {
      "cell_type": "markdown",
      "metadata": {
        "id": "xDdOrfvw9t8Q"
      },
      "source": [
        "<p>Given the code below, use the correct code on line 3 in order to delete the key-value pair associated with key <strong>3</strong>. Do not use a method as a solution for this exercise!</p>"
      ]
    },
    {
      "cell_type": "code",
      "execution_count": 17,
      "metadata": {
        "id": "5qUOB7z59t8Q",
        "colab": {
          "base_uri": "https://localhost:8080/"
        },
        "outputId": "0a7b6e8d-ad84-4ac0-934f-48118b2106ab"
      },
      "outputs": [
        {
          "output_type": "stream",
          "name": "stdout",
          "text": [
            "{1: 'Bitcoin', 2: 'Ethereum', 4: 'Stellar', 5: 'XRP'}\n"
          ]
        }
      ],
      "source": [
        "crypto = {1: \"Bitcoin\", 2: \"Ethereum\", 3: \"Litecoin\", 4: \"Stellar\", 5: \"XRP\"}\n",
        "\n",
        "del crypto[3]\n",
        "\n",
        "print(crypto)"
      ]
    },
    {
      "cell_type": "markdown",
      "metadata": {
        "id": "wAMcolPL9t8Q"
      },
      "source": [
        "<p>Given the code below, use the correct code on line 3 in order to delete the key-value pair associated with key <strong>3</strong>. This time, use a method as a solution for this exercise!</p>"
      ]
    },
    {
      "cell_type": "code",
      "execution_count": 18,
      "metadata": {
        "id": "wUzVDnPq9t8Q",
        "colab": {
          "base_uri": "https://localhost:8080/"
        },
        "outputId": "9015f48d-4e95-4efc-fdb6-fa337669726e"
      },
      "outputs": [
        {
          "output_type": "stream",
          "name": "stdout",
          "text": [
            "{1: 'Bitcoin', 2: 'Ethereum', 4: 'Stellar', 5: 'XRP'}\n"
          ]
        }
      ],
      "source": [
        "crypto = {1: \"Bitcoin\", 2: \"Ethereum\", 3: \"Litecoin\", 4: \"Stellar\", 5: \"XRP\"}\n",
        "\n",
        "crypto.pop(3)\n",
        "\n",
        "print(crypto)"
      ]
    },
    {
      "cell_type": "markdown",
      "metadata": {
        "id": "gGIUlWhl9t8R"
      },
      "source": [
        "<p>Given the code below, use the correct code on line 3 in order to verify that <strong>7 </strong>is <strong>not </strong>a key in the dictionary.</p>"
      ]
    },
    {
      "cell_type": "code",
      "execution_count": 24,
      "metadata": {
        "id": "8ZEr8kyI9t8R",
        "colab": {
          "base_uri": "https://localhost:8080/"
        },
        "outputId": "9628d3aa-1a41-437e-bf52-579937e42cc2"
      },
      "outputs": [
        {
          "output_type": "stream",
          "name": "stdout",
          "text": [
            "True\n"
          ]
        }
      ],
      "source": [
        "crypto = {1: \"Bitcoin\", 2: \"Ethereum\", 3: \"Litecoin\", 4: \"Stellar\", 5: \"XRP\"}\n",
        "\n",
        "check = 7 not in crypto\n",
        "\n",
        "# check = crypto.get(7, 'not found')\n",
        "\n",
        "print(check)"
      ]
    },
    {
      "cell_type": "markdown",
      "metadata": {
        "id": "_d2lBMxg9t8R"
      },
      "source": [
        "<p>Given the code below, use the correct method on line 3 in order to delete all the elements in the dictionary.</p>"
      ]
    },
    {
      "cell_type": "code",
      "execution_count": null,
      "metadata": {
        "id": "CyGty28-9t8R"
      },
      "outputs": [],
      "source": [
        "crypto = {1: \"Bitcoin\", 2: \"Ethereum\", 3: \"Litecoin\", 4: \"Stellar\", 5: \"XRP\"}\n",
        "\n",
        "crypto.\n",
        "\n",
        "print(crypto)"
      ]
    },
    {
      "cell_type": "code",
      "execution_count": 25,
      "metadata": {
        "id": "zrx3FnOF9t8R",
        "outputId": "f39cd360-84e4-4394-c2e6-9756ad6d6f2d",
        "colab": {
          "base_uri": "https://localhost:8080/"
        }
      },
      "outputs": [
        {
          "output_type": "stream",
          "name": "stdout",
          "text": [
            "{}\n"
          ]
        }
      ],
      "source": [
        "crypto = {1: \"Bitcoin\", 2: \"Ethereum\", 3: \"Litecoin\", 4: \"Stellar\", 5: \"XRP\"}\n",
        "\n",
        "crypto.clear()\n",
        "\n",
        "print(crypto)"
      ]
    },
    {
      "cell_type": "markdown",
      "metadata": {
        "id": "s2nDvnce9t8R"
      },
      "source": [
        "<p>Given the code below, use the correct code on line 3 in order to get a list of tuples, where each tuple represents a key-value pair in the dictionary.</p>"
      ]
    },
    {
      "cell_type": "code",
      "execution_count": 27,
      "metadata": {
        "id": "CcRiyocW9t8R",
        "colab": {
          "base_uri": "https://localhost:8080/"
        },
        "outputId": "ddb7db11-f484-4173-8f60-f9ea730349ed"
      },
      "outputs": [
        {
          "output_type": "stream",
          "name": "stdout",
          "text": [
            "[(1, 'Bitcoin'), (2, 'Ethereum'), (3, 'Litecoin'), (4, 'Stellar'), (5, 'XRP')]\n"
          ]
        }
      ],
      "source": [
        "crypto = {1: \"Bitcoin\", 2: \"Ethereum\", 3: \"Litecoin\", 4: \"Stellar\", 5: \"XRP\"}\n",
        "\n",
        "result = crypto.items()\n",
        "\n",
        "print(list(result))"
      ]
    },
    {
      "cell_type": "markdown",
      "metadata": {
        "id": "y7hUKlMG9t8S"
      },
      "source": [
        "<p>Given the code below, use the correct function on line 3 in order to get the sum of all the keys in the dictionary.</p>"
      ]
    },
    {
      "cell_type": "code",
      "execution_count": 29,
      "metadata": {
        "id": "CXrhuKqj9t8S",
        "colab": {
          "base_uri": "https://localhost:8080/"
        },
        "outputId": "11249434-3e0c-4916-9ab4-67a65d04f1bb"
      },
      "outputs": [
        {
          "output_type": "stream",
          "name": "stdout",
          "text": [
            "15\n"
          ]
        }
      ],
      "source": [
        "crypto = {1: \"Bitcoin\", 2: \"Ethereum\", 3: \"Litecoin\", 4: \"Stellar\", 5: \"XRP\"}\n",
        "\n",
        "add = sum(crypto.keys()) # sum(crypto)'de yazilabilir\n",
        "\n",
        "print(add)"
      ]
    },
    {
      "cell_type": "markdown",
      "metadata": {
        "id": "gnuGmbzU9t8S"
      },
      "source": [
        "<p>Given the code below, use the correct method on line 3 in order to get a list of all the values in the dictionary.</p>"
      ]
    },
    {
      "cell_type": "code",
      "execution_count": 30,
      "metadata": {
        "id": "wXqkBsVr9t8S",
        "colab": {
          "base_uri": "https://localhost:8080/"
        },
        "outputId": "b98917c7-dfaa-4aca-ad5f-b33f66d80464"
      },
      "outputs": [
        {
          "output_type": "stream",
          "name": "stdout",
          "text": [
            "['Bitcoin', 'Ethereum', 'Litecoin', 'Stellar', 'XRP']\n"
          ]
        }
      ],
      "source": [
        "crypto = {1: \"Bitcoin\", 2: \"Ethereum\", 3: \"Litecoin\", 4: \"Stellar\", 5: \"XRP\"}\n",
        "\n",
        "val = crypto.values()\n",
        "\n",
        "print(list(val))"
      ]
    },
    {
      "cell_type": "markdown",
      "metadata": {
        "id": "w14BkSR99t8S"
      },
      "source": [
        "<p>Given the code below, use the correct function on line 3 in order to get the smallest key in the dictionary.</p>"
      ]
    },
    {
      "cell_type": "code",
      "execution_count": 31,
      "metadata": {
        "id": "9ZmZBGcc9t8S",
        "colab": {
          "base_uri": "https://localhost:8080/"
        },
        "outputId": "46bea4ce-a22f-46c3-90fd-2d8ba6d295a2"
      },
      "outputs": [
        {
          "output_type": "stream",
          "name": "stdout",
          "text": [
            "1\n"
          ]
        }
      ],
      "source": [
        "crypto = {1: \"Bitcoin\", 2: \"Ethereum\", 3: \"Litecoin\", 4: \"Stellar\", 5: \"XRP\"}\n",
        "\n",
        "key = min(crypto)\n",
        "\n",
        "print(key)"
      ]
    },
    {
      "cell_type": "code",
      "execution_count": null,
      "metadata": {
        "id": "yA2ouU4T9t8S",
        "outputId": "77a41c16-50ee-47ed-de4d-1616dedd91ff"
      },
      "outputs": [
        {
          "name": "stdout",
          "output_type": "stream",
          "text": [
            "1\n"
          ]
        }
      ],
      "source": []
    },
    {
      "cell_type": "markdown",
      "metadata": {
        "id": "CAQwF6wJ9t8V"
      },
      "source": [
        "<p>Given the code below, use the correct method on line 3 in order to get a list of all the keys in the dictionary.</p>"
      ]
    },
    {
      "cell_type": "code",
      "execution_count": 33,
      "metadata": {
        "id": "v0ztsVhk9t8V",
        "colab": {
          "base_uri": "https://localhost:8080/"
        },
        "outputId": "83d8fca3-6c06-4b96-88ab-94ca4bd37630"
      },
      "outputs": [
        {
          "output_type": "stream",
          "name": "stdout",
          "text": [
            "[1, 2, 3, 4, 5]\n"
          ]
        }
      ],
      "source": [
        "crypto = {1: \"Bitcoin\", 2: \"Ethereum\", 3: \"Litecoin\", 4: \"Stellar\", 5: \"XRP\"}\n",
        "\n",
        "keys = crypto.keys() # keys = crypto seklinde de yazilabilir\n",
        "\n",
        "print(list(keys))"
      ]
    },
    {
      "cell_type": "markdown",
      "metadata": {
        "id": "6SCatmFl9t8V"
      },
      "source": [
        "<p>Given the code below, use the correct method on line 3 in order to return and remove an arbitrary key-value pair from the dictionary.</p>"
      ]
    },
    {
      "cell_type": "code",
      "execution_count": 36,
      "metadata": {
        "id": "eikWgAVl9t8V",
        "colab": {
          "base_uri": "https://localhost:8080/"
        },
        "outputId": "799cc5ee-e472-4dc9-ded6-76cc4d124f16"
      },
      "outputs": [
        {
          "output_type": "stream",
          "name": "stdout",
          "text": [
            "4\n"
          ]
        }
      ],
      "source": [
        "crypto = {1: \"Bitcoin\", 2: \"Ethereum\", 3: \"Litecoin\", 4: \"Stellar\", 5: \"XRP\"}\n",
        "\n",
        "crypto.popitem()\n",
        "\n",
        "print(len(crypto))"
      ]
    },
    {
      "cell_type": "markdown",
      "metadata": {
        "id": "Ue-ivnJb9t8V"
      },
      "source": []
    }
  ],
  "metadata": {
    "kernelspec": {
      "display_name": "Python 3.7.10 64-bit",
      "language": "python",
      "name": "python3"
    },
    "language_info": {
      "codemirror_mode": {
        "name": "ipython",
        "version": 3
      },
      "file_extension": ".py",
      "mimetype": "text/x-python",
      "name": "python",
      "nbconvert_exporter": "python",
      "pygments_lexer": "ipython3",
      "version": "3.7.10"
    },
    "orig_nbformat": 4,
    "vscode": {
      "interpreter": {
        "hash": "31f2aee4e71d21fbe5cf8b01ff0e069b9275f58929596ceb00d14d90e3e16cd6"
      }
    },
    "colab": {
      "provenance": []
    }
  },
  "nbformat": 4,
  "nbformat_minor": 0
}