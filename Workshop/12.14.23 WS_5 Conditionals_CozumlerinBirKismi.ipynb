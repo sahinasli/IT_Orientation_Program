{
  "cells": [
    {
      "cell_type": "markdown",
      "metadata": {
        "id": "PMiFLeqizsHX"
      },
      "source": [
        "<p>1. Considering the code below, write code that prints out <strong>True!</strong> if <strong>x </strong>has 50 characters or more.</p>"
      ]
    },
    {
      "cell_type": "code",
      "execution_count": 1,
      "metadata": {
        "colab": {
          "base_uri": "https://localhost:8080/"
        },
        "id": "qcc5pb4FzsHY",
        "outputId": "ab2cbbc0-cf82-4ce9-f2a4-2a729a03fe1a"
      },
      "outputs": [
        {
          "output_type": "stream",
          "name": "stdout",
          "text": [
            "True!\n"
          ]
        }
      ],
      "source": [
        "x = \"The days of Python 2 are almost over. Python 3 is the king now.\"\n",
        "\n",
        "if len(x) >= 50:\n",
        "  print('True!')"
      ]
    },
    {
      "cell_type": "markdown",
      "metadata": {
        "id": "4nai2XTazsHY"
      },
      "source": [
        "<p>2. Considering the code below, write code that prints out <strong>True!</strong> if <strong>x </strong>is a string and the first character in the string is <strong>T</strong>.</p>"
      ]
    },
    {
      "cell_type": "code",
      "execution_count": 3,
      "metadata": {
        "colab": {
          "base_uri": "https://localhost:8080/"
        },
        "id": "-raNfIdlzsHY",
        "outputId": "d7e2ff5a-87a4-48e8-ccc0-dc4dc60dd1d6"
      },
      "outputs": [
        {
          "output_type": "stream",
          "name": "stdout",
          "text": [
            "True!\n"
          ]
        }
      ],
      "source": [
        "x = \"The days of Python 2 are almost over. Python 3 is the king now.\"\n",
        "\n",
        "if type(x) is str and x.startswith('T'):\n",
        "  print('True!')"
      ]
    },
    {
      "cell_type": "markdown",
      "metadata": {
        "id": "RCv6f6umzsHY"
      },
      "source": [
        "<p>3. Considering the code below, write code that prints out <strong>True!</strong> if at least one of the following conditions occurs: </p>\n",
        "<p>the string contains the character <strong>z </strong></p>\n",
        "<p>the string contains the character <strong>y </strong>at least twice</p>"
      ]
    },
    {
      "cell_type": "code",
      "execution_count": 4,
      "metadata": {
        "colab": {
          "base_uri": "https://localhost:8080/"
        },
        "id": "9I4gsdwIzsHZ",
        "outputId": "407bc96f-7d51-445d-fe88-1915bd4dbe3c"
      },
      "outputs": [
        {
          "output_type": "stream",
          "name": "stdout",
          "text": [
            "True!\n"
          ]
        }
      ],
      "source": [
        "x = \"The days of Python 2 are almost over. Python 3 is the king now.\"\n",
        "\n",
        "if 'z' in x or x.count('y') >= 2:\n",
        "  print('True!')"
      ]
    },
    {
      "cell_type": "markdown",
      "metadata": {
        "id": "VsugaFQlzsHZ"
      },
      "source": [
        "<p>4. Considering the code below, write code that prints out <strong>True!</strong> if the index of the first occurrence of letter <strong>f </strong>is less than 10 and prints out <strong>False!</strong> if the same condition is not satisfied.</p>"
      ]
    },
    {
      "cell_type": "code",
      "execution_count": 5,
      "metadata": {
        "colab": {
          "base_uri": "https://localhost:8080/"
        },
        "id": "nBCCDkp4zsHZ",
        "outputId": "000dbd77-0317-492c-ed64-61b1c024fb80"
      },
      "outputs": [
        {
          "output_type": "stream",
          "name": "stdout",
          "text": [
            "False!\n"
          ]
        }
      ],
      "source": [
        "x = \"The days of Python 2 are almost over. Python 3 is the king now.\"\n",
        "\n",
        "if x.index('f') < 10:\n",
        "  print('True!')\n",
        "else :\n",
        "  print('False!')"
      ]
    },
    {
      "cell_type": "markdown",
      "metadata": {
        "id": "LOqECtgazsHZ"
      },
      "source": [
        "<p>5. Considering the code below, write code that prints out <strong>True!</strong> if the last 3 characters of the string are all digits and prints out <strong>False!</strong> otherwise.</p>\n",
        "<em> Use the appropriate method to check if the requested string slice contains digits only.</em>"
      ]
    },
    {
      "cell_type": "code",
      "execution_count": 6,
      "metadata": {
        "colab": {
          "base_uri": "https://localhost:8080/"
        },
        "id": "GJ8u6bhbzsHZ",
        "outputId": "451881f6-3fca-4779-d0d1-9c27490d093b"
      },
      "outputs": [
        {
          "output_type": "stream",
          "name": "stdout",
          "text": [
            "False\n"
          ]
        }
      ],
      "source": [
        "x = \"The days of Python 2 are almost over. Python 3 is the king now.\"\n",
        "\n",
        "if x[-3:].isdigit():\n",
        "  print('True')\n",
        "else :\n",
        "  print('False')\n"
      ]
    },
    {
      "cell_type": "markdown",
      "metadata": {
        "id": "iDAkdHUSzsHZ"
      },
      "source": [
        "<p>6. Considering the code below, write code that prints out <strong>True!</strong> if <strong>x </strong>has at least 8 elements and the element positioned at index 6 is a floating-point number and prints out <strong>False!</strong> otherwise.</p>"
      ]
    },
    {
      "cell_type": "code",
      "execution_count": 7,
      "metadata": {
        "colab": {
          "base_uri": "https://localhost:8080/"
        },
        "id": "VBkfM-RXzsHZ",
        "outputId": "60f07616-7d44-4c95-d52a-79f34341c068"
      },
      "outputs": [
        {
          "output_type": "stream",
          "name": "stdout",
          "text": [
            "True\n"
          ]
        }
      ],
      "source": [
        "x = [115, 115.9, 116.01, [\"length\", \"width\", \"height\"], 109, 115, 119.5, [\"length\", \"width\", \"height\"]]\n",
        "\n",
        "if len(x) >= 8 and type(x[6]) is float :\n",
        "  print('True')\n",
        "else:\n",
        "  print('False')"
      ]
    },
    {
      "cell_type": "markdown",
      "metadata": {
        "id": "Lv1HsHswzsHZ"
      },
      "source": [
        "<p>7. Considering the code below, write code that prints out <strong>True!</strong> if the second string of the first list in <strong>x </strong>ends with the letter <strong>h </strong>and the first string of the second list in <strong>x </strong>also ends with the letter <strong>h</strong>, and prints out <strong>False!</strong> otherwise.</p>"
      ]
    },
    {
      "cell_type": "code",
      "execution_count": 9,
      "metadata": {
        "colab": {
          "base_uri": "https://localhost:8080/"
        },
        "id": "JZeTjkqVzsHa",
        "outputId": "3c96e51c-9b1b-49c4-81ed-0fb5155ad0f8"
      },
      "outputs": [
        {
          "output_type": "stream",
          "name": "stdout",
          "text": [
            "True\n"
          ]
        }
      ],
      "source": [
        "x = [115, 115.9, 116.01, [\"length\", \"width\", \"height\"], 109, 115, 119.5, [\"length\", \"width\", \"height\"]]\n",
        "\n",
        "if x[3][1].endswith('h') and x[-1][0].endswith('h'):\n",
        "  print('True')\n",
        "else:\n",
        "  print('False')"
      ]
    },
    {
      "cell_type": "markdown",
      "metadata": {
        "id": "0Z-vhoohzsHa"
      },
      "source": [
        "<p>8. Considering the code below, write code that prints out <strong>True!</strong> if one of the following two conditions are satisfied and prints out <strong>False!</strong> otherwise.</p>\n",
        "<p>the third string of the first list in <strong>x </strong>ends with the letter <strong>h </strong></p>\n",
        "<p>the second string of the second list in <strong>x </strong>also ends with the letter <strong>h</strong></p>"
      ]
    },
    {
      "cell_type": "code",
      "execution_count": 10,
      "metadata": {
        "colab": {
          "base_uri": "https://localhost:8080/"
        },
        "id": "xmmPT62qzsHa",
        "outputId": "c72a5dd5-77cf-4c6c-c1a9-16d712fa63b8"
      },
      "outputs": [
        {
          "output_type": "stream",
          "name": "stdout",
          "text": [
            "True\n"
          ]
        }
      ],
      "source": [
        "x = [115, 115.9, 116.01, [\"length\", \"width\", \"height\"], 109, 115, 119.5, [\"length\", \"width\", \"height\"]]\n",
        "\n",
        "if x[3][2].endswith('h') or x[-1][1].endswith('h'):\n",
        "  print('True')\n",
        "else:\n",
        "  print('False')"
      ]
    },
    {
      "cell_type": "markdown",
      "metadata": {
        "id": "GtQMXuPmzsHa"
      },
      "source": [
        "<p>9. Considering the code below, write code that prints out <strong>True!</strong> if the largest value among the first 3 elements of the list is less than or equal to the smallest value among the next 3 elements of the list. Otherwise, print out <strong>False!</strong></p>\n",
        "<p><strong><em>Hint!</em></strong><em> Use the appropriate slices to make the comparison.</em></p>"
      ]
    },
    {
      "cell_type": "code",
      "execution_count": 13,
      "metadata": {
        "colab": {
          "base_uri": "https://localhost:8080/"
        },
        "id": "Y-7ugbfHzsHa",
        "outputId": "94cc96c1-2855-4f5d-f60c-cdea5f1285ef"
      },
      "outputs": [
        {
          "output_type": "stream",
          "name": "stdout",
          "text": [
            "False\n"
          ]
        }
      ],
      "source": [
        "x = [115, 115.9, 116.01, 109, 115, 119.5, [\"length\", \"width\", \"height\"]]\n",
        "\n",
        "if max(x[:3]) <= min(x[3:6]) :\n",
        "  print('True')\n",
        "else:\n",
        "  print('False')"
      ]
    },
    {
      "cell_type": "markdown",
      "metadata": {
        "id": "xa6Cl5ruzsHa"
      },
      "source": [
        "<p>10. Considering the code below, write code that prints out <strong>True!</strong> if <strong>115 </strong>appears at least once inside the list or if it is the first element in the list. Otherwise, print out <strong>False!</strong></p>\n",
        "<p><strong><em>Hint!</em></strong><em> Use the appropriate method to check if </em><strong><em>115 </em></strong><em>is the first element in the list.</em></p>"
      ]
    },
    {
      "cell_type": "code",
      "execution_count": 15,
      "metadata": {
        "colab": {
          "base_uri": "https://localhost:8080/"
        },
        "id": "ZsCALT08zsHa",
        "outputId": "6a2db145-121f-4ddb-cd8e-abd6292125a1"
      },
      "outputs": [
        {
          "output_type": "stream",
          "name": "stdout",
          "text": [
            "True\n"
          ]
        }
      ],
      "source": [
        "x = [115, 115.9, 116.01, 109, 115, 119.5, [\"length\", \"width\", \"height\"]]\n",
        "\n",
        "if 115 in x or x.index(115) == 0 :\n",
        "  print('True')\n",
        "else:\n",
        "  print('False')"
      ]
    },
    {
      "cell_type": "markdown",
      "metadata": {
        "id": "Q6gA86uQzsHa"
      },
      "source": [
        "<p>11. Considering the code below, write code that prints out <strong>True!</strong> if the value associated with key number <strong>5 </strong>is <strong>Perl </strong>or the number of key-value pairs in the dictionary divided by 5 returns a remainder less than 2. Otherwise, print out <strong>False!</strong></p>"
      ]
    },
    {
      "cell_type": "code",
      "execution_count": 17,
      "metadata": {
        "colab": {
          "base_uri": "https://localhost:8080/"
        },
        "id": "tv97BAp7zsHa",
        "outputId": "8902d34f-3f5d-43ad-d363-b6ff3dd99e37"
      },
      "outputs": [
        {
          "output_type": "stream",
          "name": "stdout",
          "text": [
            "True\n"
          ]
        }
      ],
      "source": [
        "x = {1: \"Python\", 2: \"Java\", 3: \"Javascript\", 4: \"Ruby\", 5: \"Perl\", 6: \"C#\", 7: \"C++\"}\n",
        "\n",
        "if x[5] == 'Perl' or len(x) % 5 < 2 :\n",
        "  print('True')\n",
        "else:\n",
        "  print('False')\n"
      ]
    },
    {
      "cell_type": "markdown",
      "metadata": {
        "id": "6NvhBkPHzsHa"
      },
      "source": [
        "<p>12. Considering the code below, write code that prints out <strong>True!</strong> if <strong>3 </strong>is a key in the dictionary<strong> </strong>and the smallest value (alphabetically) in the dictionary is <strong>C#</strong>. Otherwise, print out <strong>False!</strong></p>"
      ]
    },
    {
      "cell_type": "code",
      "execution_count": 18,
      "metadata": {
        "colab": {
          "base_uri": "https://localhost:8080/"
        },
        "id": "pjaCJZQAzsHb",
        "outputId": "4b799ed4-52c8-412e-da5c-db8e7c6b9d78"
      },
      "outputs": [
        {
          "output_type": "stream",
          "name": "stdout",
          "text": [
            "True\n"
          ]
        }
      ],
      "source": [
        "x = {1: \"Python\", 2: \"Java\", 3: \"Javascript\", 4: \"Ruby\", 5: \"Perl\", 6: \"C#\", 7: \"C++\"}\n",
        "\n",
        "if 3 in x and sorted(x.values())[0] == 'C#' :\n",
        "  print('True')\n",
        "else:\n",
        "  print('False')"
      ]
    },
    {
      "cell_type": "markdown",
      "metadata": {
        "id": "06S34ee_zsHb"
      },
      "source": [
        "<p>13. Considering the code below, write code that prints out <strong>True!</strong> if the last character of the largest (alphabetically) value in the dictionary is <strong>n</strong>. Otherwise, print out <strong>False!</strong></p>"
      ]
    },
    {
      "cell_type": "code",
      "execution_count": 20,
      "metadata": {
        "colab": {
          "base_uri": "https://localhost:8080/"
        },
        "id": "IL1doad1zsHb",
        "outputId": "f1fe33bc-fa52-4131-efd2-5e654695602a"
      },
      "outputs": [
        {
          "output_type": "stream",
          "name": "stdout",
          "text": [
            "True\n"
          ]
        }
      ],
      "source": [
        "x = {1: \"Python\", 2: \"Java\", 3: \"Javascript\", 4: \"Ruby\", 5: \"Perl\", 6: \"C#\", 7: \"C++\"}\n",
        "\n",
        "if sorted(x.values())[-1][-1] == 'n' :\n",
        "  print('True')\n",
        "else:\n",
        "  print('False')"
      ]
    },
    {
      "cell_type": "markdown",
      "metadata": {
        "id": "QfxC5-tBzsHb"
      },
      "source": [
        "<p>14. Considering the code below, write code that prints out <strong>True!</strong> if the largest key in the dictionary divided by the second largest key in the dictionary returns a remainder equal to the smallest key in the dictionary. Otherwise, print out <strong>False!</strong></p>"
      ]
    },
    {
      "cell_type": "code",
      "execution_count": 21,
      "metadata": {
        "colab": {
          "base_uri": "https://localhost:8080/"
        },
        "id": "lBlSzE1qzsHb",
        "outputId": "12f80ff0-9163-480b-940d-c89682b40766"
      },
      "outputs": [
        {
          "output_type": "stream",
          "name": "stdout",
          "text": [
            "True\n"
          ]
        }
      ],
      "source": [
        "x = {1: \"Python\", 2: \"Java\", 3: \"Javascript\", 4: \"Ruby\", 5: \"Perl\", 6: \"C#\", 7: \"C++\"}\n",
        "\n",
        "if sorted(x.keys())[-1] % sorted(x.keys())[-2] == sorted(x.keys())[0] :\n",
        "  print('True')\n",
        "else:\n",
        "  print('False')\n"
      ]
    },
    {
      "cell_type": "markdown",
      "metadata": {
        "id": "hq3QjiBOzsHb"
      },
      "source": [
        "<p>15. Considering the code below, write code that prints out <strong>True!</strong> if the sum of all the keys in the dictionary is less than the number of characters of the string obtained by concatenating the values associated with the first 5 keys in the dictionary. Otherwise, print out <strong>False!</strong></p>"
      ]
    },
    {
      "cell_type": "code",
      "execution_count": 28,
      "metadata": {
        "colab": {
          "base_uri": "https://localhost:8080/"
        },
        "id": "6G-eGXG2zsHb",
        "outputId": "d531b5e7-481d-4477-b05d-c1705e7ef819"
      },
      "outputs": [
        {
          "output_type": "stream",
          "name": "stdout",
          "text": [
            "False\n",
            "7\n"
          ]
        }
      ],
      "source": [
        "x = {1: \"Python\", 2: \"Java\", 3: \"Javascript\", 4: \"Ruby\", 5: \"Perl\", 6: \"C#\", 7: \"C++\"}\n",
        "\n",
        "if sum(x) < len(x[1] + x[2] + x[3] + x[4] + x[5]) :\n",
        "  print('True')\n",
        "else:\n",
        "  print('False')"
      ]
    },
    {
      "cell_type": "markdown",
      "metadata": {
        "id": "uvrazsNTzsHb"
      },
      "source": [
        "<p>16. Considering the code below, write code that prints out <strong>True!</strong> if the 3rd element of the first range is less than 2, prints out <strong>False!</strong> if the 5th element of the first range is 5, and prints out <strong>None!</strong> otherwise.</p>"
      ]
    },
    {
      "cell_type": "code",
      "execution_count": 30,
      "metadata": {
        "colab": {
          "base_uri": "https://localhost:8080/"
        },
        "id": "tOwESgUDzsHb",
        "outputId": "a98ff56e-eb59-49e7-b82a-594fe5b875c8"
      },
      "outputs": [
        {
          "output_type": "stream",
          "name": "stdout",
          "text": [
            "None\n"
          ]
        }
      ],
      "source": [
        "x = [list(range(5)), list(range(5,9)), list(range(1,10,3))]\n",
        "\n",
        "if x[0][2] < 2 :\n",
        "  print('True')\n",
        "elif x[0][4] == 5  :\n",
        "  print('False')\n",
        "else:\n",
        "  print('None')"
      ]
    },
    {
      "cell_type": "markdown",
      "metadata": {
        "id": "5ait4h1jzsHb"
      },
      "source": [
        "<p>17. Considering the code below, write code that prints out <strong>True!</strong> if the 3rd element of the 3rd range is less than 6, prints out <strong>False!</strong> if the 1st element of the second range is 5, and prints out <strong>None!</strong> otherwise.</p>"
      ]
    },
    {
      "cell_type": "code",
      "execution_count": 31,
      "metadata": {
        "colab": {
          "base_uri": "https://localhost:8080/"
        },
        "id": "mgJ07XtgzsHb",
        "outputId": "718d61ef-e4ae-4c2f-d0bd-529cbfb5b515"
      },
      "outputs": [
        {
          "output_type": "stream",
          "name": "stdout",
          "text": [
            "False\n"
          ]
        }
      ],
      "source": [
        "x = [list(range(5)), list(range(5,9)), list(range(1,10,3))]\n",
        "\n",
        "if x[2][2] < 6 :\n",
        "  print('Ture')\n",
        "elif x[1][0] == 5 :\n",
        "  print('False')\n",
        "else:\n",
        "  print('None')"
      ]
    },
    {
      "cell_type": "markdown",
      "metadata": {
        "id": "5QPPWld5zsHb"
      },
      "source": [
        "<p>18. Considering the code below, write code that prints out <strong>True!</strong> if the last element of the first range is greater than 3, prints out <strong>False!</strong> if the last element of the second range is less than 9, and prints out <strong>None!</strong> otherwise.</p>"
      ]
    },
    {
      "cell_type": "code",
      "execution_count": null,
      "metadata": {
        "id": "u-surnAgzsHc"
      },
      "outputs": [],
      "source": [
        "x = [list(range(5)), list(range(5,9)), list(range(1,10,3))]\n"
      ]
    },
    {
      "cell_type": "markdown",
      "metadata": {
        "id": "GOLwhZmZzsHc"
      },
      "source": [
        "<p>19. Considering the code below, write code that prints out <strong>True!</strong> if the length of the first range is greater than or equal to 5, prints out <strong>False!</strong> if the length of the second range is 4, and prints out <strong>None!</strong> otherwise.</p>\n"
      ]
    },
    {
      "cell_type": "code",
      "execution_count": null,
      "metadata": {
        "id": "wCdyGiadzsHc"
      },
      "outputs": [],
      "source": [
        "x = [list(range(5)), list(range(5,9)), list(range(1,10,3))]\n",
        "\n"
      ]
    },
    {
      "cell_type": "markdown",
      "metadata": {
        "id": "gTjr0flLzsHc"
      },
      "source": [
        "<p>20. Considering the code below, write code that prints out <strong>True!</strong> if the sum of all the elements of the first range is greater than the sum of all the elements of the third range, prints out <strong>False!</strong> if the largest element of the second range is greater than the largest element of the third range, and prints out <strong>None!</strong> otherwise.</p>"
      ]
    },
    {
      "cell_type": "code",
      "execution_count": null,
      "metadata": {
        "id": "IqZ8CuNzzsHc"
      },
      "outputs": [],
      "source": [
        "x = [list(range(5)), list(range(5,9)), list(range(1,10,3))]\n"
      ]
    },
    {
      "cell_type": "markdown",
      "metadata": {
        "id": "GVO5ZnCIzsHc"
      },
      "source": [
        "<p>21. Considering the code below, write code that prints out <strong>True!</strong> if the largest element of the first range minus the second element of the 3rd range is equal to the first element of the first range, prints out <strong>False!</strong> if the length of the first range minus the length of the 2nd range is equal to the first element of the 3rd range, prints out <strong>Maybe!</strong> if the sum of all the elements of the 3rd range divided by 2 returns a remainder of 0, and prints out <strong>None!</strong> otherwise.</p>"
      ]
    },
    {
      "cell_type": "code",
      "execution_count": null,
      "metadata": {
        "id": "xymN0hFLzsHc"
      },
      "outputs": [],
      "source": [
        "x = [list(range(5)), list(range(5,9)), list(range(1,10,3))]\n"
      ]
    },
    {
      "cell_type": "markdown",
      "metadata": {
        "id": "Rv1p-ZnDzsHd"
      },
      "source": [
        "<p>22. Considering the code below, write code that prints out <strong>True!</strong> if the sum of the last 3 elements of the first range plus the sum of the last 3 elements of the 3rd range is equal to the sum of the last 3 elements of the 2nd range, and prints out <strong>False!</strong> if the length of the first range times 2 is less than the sum of all the elements of the 3rd range.</p>"
      ]
    },
    {
      "cell_type": "code",
      "execution_count": null,
      "metadata": {
        "id": "AJOAdcQSzsHd"
      },
      "outputs": [],
      "source": [
        "x = [list(range(5)), list(range(5,9)), list(range(1,10,3))]\n"
      ]
    },
    {
      "cell_type": "markdown",
      "metadata": {
        "id": "0BVlCkWvzsHd"
      },
      "source": [
        "<p>23. Considering the code below, write code that prints out <strong>True!</strong> if the 2nd character of the value at key 1 is also present in the value at key 4, and prints out <strong>False!</strong> otherwise.</p>"
      ]
    },
    {
      "cell_type": "code",
      "execution_count": null,
      "metadata": {
        "id": "awtxqduyzsHd"
      },
      "outputs": [],
      "source": [
        "x = {1: \"Python\", 2: \"Java\", 3: \"Javascript\", 4: \"Ruby\", 5: \"Perl\", 6: \"C#\", 7: \"C++\"}\n"
      ]
    },
    {
      "cell_type": "markdown",
      "metadata": {
        "id": "cb8CFLSSzsHd"
      },
      "source": [
        "<p>24. Considering the code below, write code that prints out <strong>True!</strong> if the second to last character of the value at key 3 is the first character of the value at key 5, and prints out <strong>False!</strong> otherwise.</p>"
      ]
    },
    {
      "cell_type": "code",
      "execution_count": null,
      "metadata": {
        "id": "Ci_ivLVUzsHd"
      },
      "outputs": [],
      "source": [
        "x = {1: \"Python\", 2: \"Java\", 3: \"Javascript\", 4: \"Ruby\", 5: \"Perl\", 6: \"C#\", 7: \"C++\"}\n"
      ]
    },
    {
      "cell_type": "markdown",
      "metadata": {
        "id": "tfIBaKfvzsHd"
      },
      "source": [
        "<p>25. Considering the code below, write code that prints out <strong>True!</strong> if the number of characters of the smallest value in the dictionary is equal to the number of occurrences of letter <strong>a </strong>in the value at key 3, and prints out <strong>False!</strong> otherwise.</p>"
      ]
    },
    {
      "cell_type": "code",
      "execution_count": null,
      "metadata": {
        "id": "I62dQWyQzsHd"
      },
      "outputs": [],
      "source": [
        "x = {1: \"Python\", 2: \"Java\", 3: \"Javascript\", 4: \"Ruby\", 5: \"Perl\", 6: \"C#\", 7: \"C++\"}\n"
      ]
    },
    {
      "cell_type": "markdown",
      "metadata": {
        "id": "fDP2S3zFzsHd"
      },
      "source": []
    }
  ],
  "metadata": {
    "kernelspec": {
      "display_name": "Python 3.9.6 64-bit",
      "language": "python",
      "name": "python3"
    },
    "language_info": {
      "codemirror_mode": {
        "name": "ipython",
        "version": 3
      },
      "file_extension": ".py",
      "mimetype": "text/x-python",
      "name": "python",
      "nbconvert_exporter": "python",
      "pygments_lexer": "ipython3",
      "version": "3.9.6"
    },
    "orig_nbformat": 4,
    "vscode": {
      "interpreter": {
        "hash": "08e595c52ca3b9470036b1110e67b559e55f367cabc363f2e28d35631ed95060"
      }
    },
    "colab": {
      "provenance": []
    }
  },
  "nbformat": 4,
  "nbformat_minor": 0
}