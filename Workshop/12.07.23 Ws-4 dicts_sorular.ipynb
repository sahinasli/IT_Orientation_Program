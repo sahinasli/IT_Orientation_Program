{
  "cells": [
    {
      "cell_type": "markdown",
      "metadata": {
        "id": "208Vd54n9t8K"
      },
      "source": [
        "<p>Given the code below, use the correct code on line 3 in order to return the value associated with key <strong>4</strong>. Do not use a method as a solution for this exercise!</p>"
      ]
    },
    {
      "cell_type": "code",
      "execution_count": null,
      "metadata": {
        "id": "we5V7lcZ9t8M"
      },
      "outputs": [],
      "source": [
        "crypto = {1: \"Bitcoin\", 2: \"Ethereum\", 3: \"Litecoin\", 4: \"Stellar\", 5: \"XRP\"}\n",
        "\n",
        "value =\n",
        "\n",
        "print(value)"
      ]
    },
    {
      "cell_type": "code",
      "execution_count": null,
      "metadata": {
        "id": "qd3H7Fis9t8N",
        "outputId": "f7cd54b0-f673-4c7d-80e7-0855a888b039"
      },
      "outputs": [
        {
          "name": "stdout",
          "output_type": "stream",
          "text": [
            "Stellar\n"
          ]
        }
      ],
      "source": []
    },
    {
      "cell_type": "markdown",
      "metadata": {
        "id": "320PFiLH9t8N"
      },
      "source": [
        "<p>Given the code below, use the correct code on line 3 in order to return the value associated with key <strong>4</strong>. This time, use a method as a solution for this exercise!</p>"
      ]
    },
    {
      "cell_type": "code",
      "execution_count": null,
      "metadata": {
        "id": "Z2dS1qZ69t8O"
      },
      "outputs": [],
      "source": [
        "crypto = {1: \"Bitcoin\", 2: \"Ethereum\", 3: \"Litecoin\", 4: \"Stellar\", 5: \"XRP\"}\n",
        "\n",
        "value =\n",
        "\n",
        "print(value)"
      ]
    },
    {
      "cell_type": "code",
      "execution_count": null,
      "metadata": {
        "id": "5J_yR2EL9t8O",
        "outputId": "64062e1a-0039-407c-d2fc-76a084f88be5"
      },
      "outputs": [
        {
          "name": "stdout",
          "output_type": "stream",
          "text": [
            "Stellar\n"
          ]
        }
      ],
      "source": []
    },
    {
      "cell_type": "markdown",
      "metadata": {
        "id": "gKyfi59u9t8O"
      },
      "source": [
        "<p>Given the code below, use the correct code on line 3 in order to update the value associated with key <strong>4</strong> to <strong>\"Cardano\"</strong>.</p>"
      ]
    },
    {
      "cell_type": "code",
      "execution_count": null,
      "metadata": {
        "id": "6ODQHjej9t8O"
      },
      "outputs": [],
      "source": [
        "crypto = {1: \"Bitcoin\", 2: \"Ethereum\", 3: \"Litecoin\", 4: \"Stellar\", 5: \"XRP\"}\n",
        "\n",
        "\n",
        "\n",
        "print(crypto[4])"
      ]
    },
    {
      "cell_type": "code",
      "execution_count": null,
      "metadata": {
        "id": "r5-pdBxB9t8P",
        "outputId": "c1129a2a-cec7-4f55-aa7f-b050c94cb8e8"
      },
      "outputs": [
        {
          "name": "stdout",
          "output_type": "stream",
          "text": [
            "Cardano\n"
          ]
        }
      ],
      "source": []
    },
    {
      "cell_type": "markdown",
      "metadata": {
        "id": "Wqd6K7yw9t8P"
      },
      "source": [
        "<p>Given the code below, use the correct code on line 3 in order to add a new key-value pair to the dictionary: <strong>6: \"Monero\"</strong></p>"
      ]
    },
    {
      "cell_type": "code",
      "execution_count": null,
      "metadata": {
        "id": "C6bBTdVW9t8P"
      },
      "outputs": [],
      "source": [
        "crypto = {1: \"Bitcoin\", 2: \"Ethereum\", 3: \"Litecoin\", 4: \"Stellar\", 5: \"XRP\"}\n",
        "\n",
        "\n",
        "\n",
        "print(crypto[6])"
      ]
    },
    {
      "cell_type": "code",
      "execution_count": null,
      "metadata": {
        "id": "7_eNKoF39t8P",
        "outputId": "f830d9ae-ce48-4977-be73-c752aecb6073"
      },
      "outputs": [
        {
          "name": "stdout",
          "output_type": "stream",
          "text": [
            "Monero\n"
          ]
        }
      ],
      "source": []
    },
    {
      "cell_type": "markdown",
      "metadata": {
        "id": "zlHj4WWe9t8P"
      },
      "source": [
        "<p>Given the code below, use the correct code on line 3 in order to return the number of key-value pairs in the dictionary.</p>"
      ]
    },
    {
      "cell_type": "code",
      "execution_count": null,
      "metadata": {
        "id": "6BK7DWpX9t8Q"
      },
      "outputs": [],
      "source": [
        "crypto = {1: \"Bitcoin\", 2: \"Ethereum\", 3: \"Litecoin\", 4: \"Stellar\", 5: \"XRP\"}\n",
        "\n",
        "number =\n",
        "\n",
        "print(number)"
      ]
    },
    {
      "cell_type": "code",
      "execution_count": null,
      "metadata": {
        "id": "vIlBlpoT9t8Q",
        "outputId": "9c7cc147-8a71-4d3e-e0cc-004bec3818ac"
      },
      "outputs": [
        {
          "name": "stdout",
          "output_type": "stream",
          "text": [
            "5\n"
          ]
        }
      ],
      "source": []
    },
    {
      "cell_type": "markdown",
      "metadata": {
        "id": "xDdOrfvw9t8Q"
      },
      "source": [
        "<p>Given the code below, use the correct code on line 3 in order to delete the key-value pair associated with key <strong>3</strong>. Do not use a method as a solution for this exercise!</p>"
      ]
    },
    {
      "cell_type": "code",
      "execution_count": null,
      "metadata": {
        "id": "5qUOB7z59t8Q"
      },
      "outputs": [],
      "source": [
        "crypto = {1: \"Bitcoin\", 2: \"Ethereum\", 3: \"Litecoin\", 4: \"Stellar\", 5: \"XRP\"}\n",
        "\n",
        "\n",
        "\n",
        "print(crypto)"
      ]
    },
    {
      "cell_type": "code",
      "execution_count": null,
      "metadata": {
        "id": "SdfIpINv9t8Q",
        "outputId": "65363e7c-6a45-43f5-af02-b6d8cb661a44"
      },
      "outputs": [
        {
          "name": "stdout",
          "output_type": "stream",
          "text": [
            "{1: 'Bitcoin', 2: 'Ethereum', 4: 'Stellar', 5: 'XRP'}\n"
          ]
        }
      ],
      "source": []
    },
    {
      "cell_type": "markdown",
      "metadata": {
        "id": "wAMcolPL9t8Q"
      },
      "source": [
        "<p>Given the code below, use the correct code on line 3 in order to delete the key-value pair associated with key <strong>3</strong>. This time, use a method as a solution for this exercise!</p>"
      ]
    },
    {
      "cell_type": "code",
      "execution_count": null,
      "metadata": {
        "id": "wUzVDnPq9t8Q"
      },
      "outputs": [],
      "source": [
        "crypto = {1: \"Bitcoin\", 2: \"Ethereum\", 3: \"Litecoin\", 4: \"Stellar\", 5: \"XRP\"}\n",
        "\n",
        "\n",
        "\n",
        "print(crypto)"
      ]
    },
    {
      "cell_type": "code",
      "execution_count": null,
      "metadata": {
        "id": "88l_2IP79t8Q",
        "outputId": "2b89fab0-3f87-4ef4-b3a6-17fc64adcf51"
      },
      "outputs": [
        {
          "name": "stdout",
          "output_type": "stream",
          "text": [
            "{1: 'Bitcoin', 2: 'Ethereum', 4: 'Stellar', 5: 'XRP'}\n"
          ]
        }
      ],
      "source": []
    },
    {
      "cell_type": "markdown",
      "metadata": {
        "id": "gGIUlWhl9t8R"
      },
      "source": [
        "<p>Given the code below, use the correct code on line 3 in order to verify that <strong>7 </strong>is <strong>not </strong>a key in the dictionary.</p>"
      ]
    },
    {
      "cell_type": "code",
      "execution_count": null,
      "metadata": {
        "id": "8ZEr8kyI9t8R"
      },
      "outputs": [],
      "source": [
        "crypto = {1: \"Bitcoin\", 2: \"Ethereum\", 3: \"Litecoin\", 4: \"Stellar\", 5: \"XRP\"}\n",
        "\n",
        "check =\n",
        "\n",
        "print(check)"
      ]
    },
    {
      "cell_type": "code",
      "execution_count": null,
      "metadata": {
        "id": "kGKXknpu9t8R",
        "outputId": "db7bd88b-e1d7-415a-e2c5-9edf7762d832"
      },
      "outputs": [
        {
          "name": "stdout",
          "output_type": "stream",
          "text": [
            "True\n"
          ]
        }
      ],
      "source": []
    },
    {
      "cell_type": "markdown",
      "metadata": {
        "id": "_d2lBMxg9t8R"
      },
      "source": [
        "<p>Given the code below, use the correct method on line 3 in order to delete all the elements in the dictionary.</p>"
      ]
    },
    {
      "cell_type": "code",
      "execution_count": null,
      "metadata": {
        "id": "CyGty28-9t8R"
      },
      "outputs": [],
      "source": [
        "crypto = {1: \"Bitcoin\", 2: \"Ethereum\", 3: \"Litecoin\", 4: \"Stellar\", 5: \"XRP\"}\n",
        "\n",
        "crypto.\n",
        "\n",
        "print(crypto)"
      ]
    },
    {
      "cell_type": "code",
      "execution_count": null,
      "metadata": {
        "id": "zrx3FnOF9t8R",
        "outputId": "0e7d2749-021b-46a7-d12f-9d4b0eaa496f"
      },
      "outputs": [
        {
          "name": "stdout",
          "output_type": "stream",
          "text": [
            "{}\n"
          ]
        }
      ],
      "source": [
        "crypto = {1: \"Bitcoin\", 2: \"Ethereum\", 3: \"Litecoin\", 4: \"Stellar\", 5: \"XRP\"}\n",
        "\n",
        "crypto.clear()\n",
        "\n",
        "print(crypto)"
      ]
    },
    {
      "cell_type": "markdown",
      "metadata": {
        "id": "s2nDvnce9t8R"
      },
      "source": [
        "<p>Given the code below, use the correct code on line 3 in order to get a list of tuples, where each tuple represents a key-value pair in the dictionary.</p>"
      ]
    },
    {
      "cell_type": "code",
      "execution_count": null,
      "metadata": {
        "id": "CcRiyocW9t8R"
      },
      "outputs": [],
      "source": [
        "crypto = {1: \"Bitcoin\", 2: \"Ethereum\", 3: \"Litecoin\", 4: \"Stellar\", 5: \"XRP\"}\n",
        "\n",
        "result =\n",
        "\n",
        "print(list(result))"
      ]
    },
    {
      "cell_type": "code",
      "execution_count": null,
      "metadata": {
        "id": "qT8HtiEv9t8S",
        "outputId": "02c7c013-5b15-4314-e119-e50c9fa34c4a"
      },
      "outputs": [
        {
          "name": "stdout",
          "output_type": "stream",
          "text": [
            "[(1, 'Bitcoin'), (2, 'Ethereum'), (3, 'Litecoin'), (4, 'Stellar'), (5, 'XRP')]\n"
          ]
        }
      ],
      "source": []
    },
    {
      "cell_type": "markdown",
      "metadata": {
        "id": "y7hUKlMG9t8S"
      },
      "source": [
        "<p>Given the code below, use the correct function on line 3 in order to get the sum of all the keys in the dictionary.</p>"
      ]
    },
    {
      "cell_type": "code",
      "execution_count": null,
      "metadata": {
        "id": "CXrhuKqj9t8S"
      },
      "outputs": [],
      "source": [
        "crypto = {1: \"Bitcoin\", 2: \"Ethereum\", 3: \"Litecoin\", 4: \"Stellar\", 5: \"XRP\"}\n",
        "\n",
        "add =\n",
        "\n",
        "print(add)"
      ]
    },
    {
      "cell_type": "code",
      "execution_count": null,
      "metadata": {
        "id": "-u4uNf-A9t8S",
        "outputId": "70da96a5-8988-46b9-f6df-f2598bac21fe"
      },
      "outputs": [
        {
          "name": "stdout",
          "output_type": "stream",
          "text": [
            "15\n"
          ]
        }
      ],
      "source": []
    },
    {
      "cell_type": "markdown",
      "metadata": {
        "id": "gnuGmbzU9t8S"
      },
      "source": [
        "<p>Given the code below, use the correct method on line 3 in order to get a list of all the values in the dictionary.</p>"
      ]
    },
    {
      "cell_type": "code",
      "execution_count": null,
      "metadata": {
        "id": "wXqkBsVr9t8S"
      },
      "outputs": [],
      "source": [
        "crypto = {1: \"Bitcoin\", 2: \"Ethereum\", 3: \"Litecoin\", 4: \"Stellar\", 5: \"XRP\"}\n",
        "\n",
        "val =\n",
        "\n",
        "print(list(val))"
      ]
    },
    {
      "cell_type": "code",
      "execution_count": null,
      "metadata": {
        "id": "LNoYA0Pg9t8S",
        "outputId": "de3a287a-2b31-460e-c1f2-777ceb3b6867"
      },
      "outputs": [
        {
          "name": "stdout",
          "output_type": "stream",
          "text": [
            "['Bitcoin', 'Ethereum', 'Litecoin', 'Stellar', 'XRP']\n"
          ]
        }
      ],
      "source": []
    },
    {
      "cell_type": "markdown",
      "metadata": {
        "id": "w14BkSR99t8S"
      },
      "source": [
        "<p>Given the code below, use the correct function on line 3 in order to get the smallest key in the dictionary.</p>"
      ]
    },
    {
      "cell_type": "code",
      "execution_count": null,
      "metadata": {
        "id": "9ZmZBGcc9t8S"
      },
      "outputs": [],
      "source": [
        "crypto = {1: \"Bitcoin\", 2: \"Ethereum\", 3: \"Litecoin\", 4: \"Stellar\", 5: \"XRP\"}\n",
        "\n",
        "key =\n",
        "\n",
        "print(key)"
      ]
    },
    {
      "cell_type": "code",
      "execution_count": null,
      "metadata": {
        "id": "yA2ouU4T9t8S",
        "outputId": "77a41c16-50ee-47ed-de4d-1616dedd91ff"
      },
      "outputs": [
        {
          "name": "stdout",
          "output_type": "stream",
          "text": [
            "1\n"
          ]
        }
      ],
      "source": []
    },
    {
      "cell_type": "markdown",
      "metadata": {
        "id": "CAQwF6wJ9t8V"
      },
      "source": [
        "<p>Given the code below, use the correct method on line 3 in order to get a list of all the keys in the dictionary.</p>"
      ]
    },
    {
      "cell_type": "code",
      "execution_count": null,
      "metadata": {
        "id": "v0ztsVhk9t8V"
      },
      "outputs": [],
      "source": [
        "crypto = {1: \"Bitcoin\", 2: \"Ethereum\", 3: \"Litecoin\", 4: \"Stellar\", 5: \"XRP\"}\n",
        "\n",
        "keys =\n",
        "\n",
        "print(list(keys))"
      ]
    },
    {
      "cell_type": "code",
      "execution_count": null,
      "metadata": {
        "id": "7E-s5WZj9t8V",
        "outputId": "a7e62e40-349a-4ca0-883b-eaaaf4b794a9"
      },
      "outputs": [
        {
          "name": "stdout",
          "output_type": "stream",
          "text": [
            "[1, 2, 3, 4, 5]\n"
          ]
        }
      ],
      "source": []
    },
    {
      "cell_type": "markdown",
      "metadata": {
        "id": "6SCatmFl9t8V"
      },
      "source": [
        "<p>Given the code below, use the correct method on line 3 in order to return and remove an arbitrary key-value pair from the dictionary.</p>"
      ]
    },
    {
      "cell_type": "code",
      "execution_count": null,
      "metadata": {
        "id": "eikWgAVl9t8V"
      },
      "outputs": [],
      "source": [
        "crypto = {1: \"Bitcoin\", 2: \"Ethereum\", 3: \"Litecoin\", 4: \"Stellar\", 5: \"XRP\"}\n",
        "\n",
        "\n",
        "\n",
        "print(len(crypto))"
      ]
    },
    {
      "cell_type": "code",
      "execution_count": null,
      "metadata": {
        "id": "ieRuoO6S9t8V",
        "outputId": "94c69c2c-833a-4039-83c9-7180e644ff79"
      },
      "outputs": [
        {
          "name": "stdout",
          "output_type": "stream",
          "text": [
            "4\n"
          ]
        }
      ],
      "source": []
    },
    {
      "cell_type": "markdown",
      "metadata": {
        "id": "Ue-ivnJb9t8V"
      },
      "source": []
    }
  ],
  "metadata": {
    "kernelspec": {
      "display_name": "Python 3.7.10 64-bit",
      "language": "python",
      "name": "python3"
    },
    "language_info": {
      "codemirror_mode": {
        "name": "ipython",
        "version": 3
      },
      "file_extension": ".py",
      "mimetype": "text/x-python",
      "name": "python",
      "nbconvert_exporter": "python",
      "pygments_lexer": "ipython3",
      "version": "3.7.10"
    },
    "orig_nbformat": 4,
    "vscode": {
      "interpreter": {
        "hash": "31f2aee4e71d21fbe5cf8b01ff0e069b9275f58929596ceb00d14d90e3e16cd6"
      }
    },
    "colab": {
      "provenance": []
    }
  },
  "nbformat": 4,
  "nbformat_minor": 0
}